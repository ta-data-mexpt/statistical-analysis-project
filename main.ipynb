{
 "cells": [
  {
   "cell_type": "markdown",
   "id": "16739bdf-f6ef-402b-a93d-c0546702fdc1",
   "metadata": {},
   "source": [
    "# Project 5: Statistical Analysis"
   ]
  },
  {
   "cell_type": "markdown",
   "id": "ac945351-6953-430a-9813-6689a5fc0ab8",
   "metadata": {},
   "source": [
    "## 1. Data Exploring"
   ]
  },
  {
   "cell_type": "code",
   "execution_count": 178,
   "id": "ab158a02-ece5-4f1a-a875-2b6fd702957a",
   "metadata": {},
   "outputs": [],
   "source": [
    "import pandas as pd\n",
    "import numpy as np\n",
    "import matplotlib.pyplot as plt\n",
    "import seaborn as sns\n",
    "\n",
    "import statsmodels.api as sm\n",
    "from statsmodels.formula.api import ols\n",
    "from statsmodels.stats.anova import anova_lm\n",
    "\n",
    "from scipy.stats import ttest_1samp\n",
    "\n",
    "from sklearn.preprocessing import StandardScaler\n",
    "from sklearn.linear_model import LinearRegression\n",
    "from sklearn.model_selection import train_test_split\n",
    "from sklearn.linear_model import LinearRegression, Ridge"
   ]
  },
  {
   "cell_type": "code",
   "execution_count": 2,
   "id": "f64e958f-71db-4176-8385-67d7309eee97",
   "metadata": {},
   "outputs": [],
   "source": [
    "df = pd.read_csv('train.csv')"
   ]
  },
  {
   "cell_type": "code",
   "execution_count": 3,
   "id": "a7ded83a-01ad-416c-b6bf-4a92dae5477c",
   "metadata": {},
   "outputs": [
    {
     "data": {
      "text/html": [
       "<div>\n",
       "<style scoped>\n",
       "    .dataframe tbody tr th:only-of-type {\n",
       "        vertical-align: middle;\n",
       "    }\n",
       "\n",
       "    .dataframe tbody tr th {\n",
       "        vertical-align: top;\n",
       "    }\n",
       "\n",
       "    .dataframe thead th {\n",
       "        text-align: right;\n",
       "    }\n",
       "</style>\n",
       "<table border=\"1\" class=\"dataframe\">\n",
       "  <thead>\n",
       "    <tr style=\"text-align: right;\">\n",
       "      <th></th>\n",
       "      <th>Id</th>\n",
       "      <th>MSSubClass</th>\n",
       "      <th>MSZoning</th>\n",
       "      <th>LotFrontage</th>\n",
       "      <th>LotArea</th>\n",
       "      <th>Street</th>\n",
       "      <th>Alley</th>\n",
       "      <th>LotShape</th>\n",
       "      <th>LandContour</th>\n",
       "      <th>Utilities</th>\n",
       "      <th>...</th>\n",
       "      <th>PoolArea</th>\n",
       "      <th>PoolQC</th>\n",
       "      <th>Fence</th>\n",
       "      <th>MiscFeature</th>\n",
       "      <th>MiscVal</th>\n",
       "      <th>MoSold</th>\n",
       "      <th>YrSold</th>\n",
       "      <th>SaleType</th>\n",
       "      <th>SaleCondition</th>\n",
       "      <th>SalePrice</th>\n",
       "    </tr>\n",
       "  </thead>\n",
       "  <tbody>\n",
       "    <tr>\n",
       "      <th>0</th>\n",
       "      <td>1</td>\n",
       "      <td>60</td>\n",
       "      <td>RL</td>\n",
       "      <td>65.0</td>\n",
       "      <td>8450</td>\n",
       "      <td>Pave</td>\n",
       "      <td>NaN</td>\n",
       "      <td>Reg</td>\n",
       "      <td>Lvl</td>\n",
       "      <td>AllPub</td>\n",
       "      <td>...</td>\n",
       "      <td>0</td>\n",
       "      <td>NaN</td>\n",
       "      <td>NaN</td>\n",
       "      <td>NaN</td>\n",
       "      <td>0</td>\n",
       "      <td>2</td>\n",
       "      <td>2008</td>\n",
       "      <td>WD</td>\n",
       "      <td>Normal</td>\n",
       "      <td>208500</td>\n",
       "    </tr>\n",
       "    <tr>\n",
       "      <th>1</th>\n",
       "      <td>2</td>\n",
       "      <td>20</td>\n",
       "      <td>RL</td>\n",
       "      <td>80.0</td>\n",
       "      <td>9600</td>\n",
       "      <td>Pave</td>\n",
       "      <td>NaN</td>\n",
       "      <td>Reg</td>\n",
       "      <td>Lvl</td>\n",
       "      <td>AllPub</td>\n",
       "      <td>...</td>\n",
       "      <td>0</td>\n",
       "      <td>NaN</td>\n",
       "      <td>NaN</td>\n",
       "      <td>NaN</td>\n",
       "      <td>0</td>\n",
       "      <td>5</td>\n",
       "      <td>2007</td>\n",
       "      <td>WD</td>\n",
       "      <td>Normal</td>\n",
       "      <td>181500</td>\n",
       "    </tr>\n",
       "    <tr>\n",
       "      <th>2</th>\n",
       "      <td>3</td>\n",
       "      <td>60</td>\n",
       "      <td>RL</td>\n",
       "      <td>68.0</td>\n",
       "      <td>11250</td>\n",
       "      <td>Pave</td>\n",
       "      <td>NaN</td>\n",
       "      <td>IR1</td>\n",
       "      <td>Lvl</td>\n",
       "      <td>AllPub</td>\n",
       "      <td>...</td>\n",
       "      <td>0</td>\n",
       "      <td>NaN</td>\n",
       "      <td>NaN</td>\n",
       "      <td>NaN</td>\n",
       "      <td>0</td>\n",
       "      <td>9</td>\n",
       "      <td>2008</td>\n",
       "      <td>WD</td>\n",
       "      <td>Normal</td>\n",
       "      <td>223500</td>\n",
       "    </tr>\n",
       "    <tr>\n",
       "      <th>3</th>\n",
       "      <td>4</td>\n",
       "      <td>70</td>\n",
       "      <td>RL</td>\n",
       "      <td>60.0</td>\n",
       "      <td>9550</td>\n",
       "      <td>Pave</td>\n",
       "      <td>NaN</td>\n",
       "      <td>IR1</td>\n",
       "      <td>Lvl</td>\n",
       "      <td>AllPub</td>\n",
       "      <td>...</td>\n",
       "      <td>0</td>\n",
       "      <td>NaN</td>\n",
       "      <td>NaN</td>\n",
       "      <td>NaN</td>\n",
       "      <td>0</td>\n",
       "      <td>2</td>\n",
       "      <td>2006</td>\n",
       "      <td>WD</td>\n",
       "      <td>Abnorml</td>\n",
       "      <td>140000</td>\n",
       "    </tr>\n",
       "    <tr>\n",
       "      <th>4</th>\n",
       "      <td>5</td>\n",
       "      <td>60</td>\n",
       "      <td>RL</td>\n",
       "      <td>84.0</td>\n",
       "      <td>14260</td>\n",
       "      <td>Pave</td>\n",
       "      <td>NaN</td>\n",
       "      <td>IR1</td>\n",
       "      <td>Lvl</td>\n",
       "      <td>AllPub</td>\n",
       "      <td>...</td>\n",
       "      <td>0</td>\n",
       "      <td>NaN</td>\n",
       "      <td>NaN</td>\n",
       "      <td>NaN</td>\n",
       "      <td>0</td>\n",
       "      <td>12</td>\n",
       "      <td>2008</td>\n",
       "      <td>WD</td>\n",
       "      <td>Normal</td>\n",
       "      <td>250000</td>\n",
       "    </tr>\n",
       "  </tbody>\n",
       "</table>\n",
       "<p>5 rows × 81 columns</p>\n",
       "</div>"
      ],
      "text/plain": [
       "   Id  MSSubClass MSZoning  LotFrontage  LotArea Street Alley LotShape  \\\n",
       "0   1          60       RL         65.0     8450   Pave   NaN      Reg   \n",
       "1   2          20       RL         80.0     9600   Pave   NaN      Reg   \n",
       "2   3          60       RL         68.0    11250   Pave   NaN      IR1   \n",
       "3   4          70       RL         60.0     9550   Pave   NaN      IR1   \n",
       "4   5          60       RL         84.0    14260   Pave   NaN      IR1   \n",
       "\n",
       "  LandContour Utilities  ... PoolArea PoolQC Fence MiscFeature MiscVal MoSold  \\\n",
       "0         Lvl    AllPub  ...        0    NaN   NaN         NaN       0      2   \n",
       "1         Lvl    AllPub  ...        0    NaN   NaN         NaN       0      5   \n",
       "2         Lvl    AllPub  ...        0    NaN   NaN         NaN       0      9   \n",
       "3         Lvl    AllPub  ...        0    NaN   NaN         NaN       0      2   \n",
       "4         Lvl    AllPub  ...        0    NaN   NaN         NaN       0     12   \n",
       "\n",
       "  YrSold  SaleType  SaleCondition  SalePrice  \n",
       "0   2008        WD         Normal     208500  \n",
       "1   2007        WD         Normal     181500  \n",
       "2   2008        WD         Normal     223500  \n",
       "3   2006        WD        Abnorml     140000  \n",
       "4   2008        WD         Normal     250000  \n",
       "\n",
       "[5 rows x 81 columns]"
      ]
     },
     "execution_count": 3,
     "metadata": {},
     "output_type": "execute_result"
    }
   ],
   "source": [
    "df.head()"
   ]
  },
  {
   "cell_type": "code",
   "execution_count": 4,
   "id": "c7122ee1-3615-435a-9636-3f161f530f1b",
   "metadata": {},
   "outputs": [
    {
     "data": {
      "text/plain": [
       "(1460, 81)"
      ]
     },
     "execution_count": 4,
     "metadata": {},
     "output_type": "execute_result"
    }
   ],
   "source": [
    "df.shape"
   ]
  },
  {
   "cell_type": "code",
   "execution_count": 5,
   "id": "5bddb0a6-dcee-4076-9009-a4eb6451d678",
   "metadata": {},
   "outputs": [
    {
     "name": "stdout",
     "output_type": "stream",
     "text": [
      "<class 'pandas.core.frame.DataFrame'>\n",
      "RangeIndex: 1460 entries, 0 to 1459\n",
      "Data columns (total 81 columns):\n",
      " #   Column         Non-Null Count  Dtype  \n",
      "---  ------         --------------  -----  \n",
      " 0   Id             1460 non-null   int64  \n",
      " 1   MSSubClass     1460 non-null   int64  \n",
      " 2   MSZoning       1460 non-null   object \n",
      " 3   LotFrontage    1201 non-null   float64\n",
      " 4   LotArea        1460 non-null   int64  \n",
      " 5   Street         1460 non-null   object \n",
      " 6   Alley          91 non-null     object \n",
      " 7   LotShape       1460 non-null   object \n",
      " 8   LandContour    1460 non-null   object \n",
      " 9   Utilities      1460 non-null   object \n",
      " 10  LotConfig      1460 non-null   object \n",
      " 11  LandSlope      1460 non-null   object \n",
      " 12  Neighborhood   1460 non-null   object \n",
      " 13  Condition1     1460 non-null   object \n",
      " 14  Condition2     1460 non-null   object \n",
      " 15  BldgType       1460 non-null   object \n",
      " 16  HouseStyle     1460 non-null   object \n",
      " 17  OverallQual    1460 non-null   int64  \n",
      " 18  OverallCond    1460 non-null   int64  \n",
      " 19  YearBuilt      1460 non-null   int64  \n",
      " 20  YearRemodAdd   1460 non-null   int64  \n",
      " 21  RoofStyle      1460 non-null   object \n",
      " 22  RoofMatl       1460 non-null   object \n",
      " 23  Exterior1st    1460 non-null   object \n",
      " 24  Exterior2nd    1460 non-null   object \n",
      " 25  MasVnrType     1452 non-null   object \n",
      " 26  MasVnrArea     1452 non-null   float64\n",
      " 27  ExterQual      1460 non-null   object \n",
      " 28  ExterCond      1460 non-null   object \n",
      " 29  Foundation     1460 non-null   object \n",
      " 30  BsmtQual       1423 non-null   object \n",
      " 31  BsmtCond       1423 non-null   object \n",
      " 32  BsmtExposure   1422 non-null   object \n",
      " 33  BsmtFinType1   1423 non-null   object \n",
      " 34  BsmtFinSF1     1460 non-null   int64  \n",
      " 35  BsmtFinType2   1422 non-null   object \n",
      " 36  BsmtFinSF2     1460 non-null   int64  \n",
      " 37  BsmtUnfSF      1460 non-null   int64  \n",
      " 38  TotalBsmtSF    1460 non-null   int64  \n",
      " 39  Heating        1460 non-null   object \n",
      " 40  HeatingQC      1460 non-null   object \n",
      " 41  CentralAir     1460 non-null   object \n",
      " 42  Electrical     1459 non-null   object \n",
      " 43  1stFlrSF       1460 non-null   int64  \n",
      " 44  2ndFlrSF       1460 non-null   int64  \n",
      " 45  LowQualFinSF   1460 non-null   int64  \n",
      " 46  GrLivArea      1460 non-null   int64  \n",
      " 47  BsmtFullBath   1460 non-null   int64  \n",
      " 48  BsmtHalfBath   1460 non-null   int64  \n",
      " 49  FullBath       1460 non-null   int64  \n",
      " 50  HalfBath       1460 non-null   int64  \n",
      " 51  BedroomAbvGr   1460 non-null   int64  \n",
      " 52  KitchenAbvGr   1460 non-null   int64  \n",
      " 53  KitchenQual    1460 non-null   object \n",
      " 54  TotRmsAbvGrd   1460 non-null   int64  \n",
      " 55  Functional     1460 non-null   object \n",
      " 56  Fireplaces     1460 non-null   int64  \n",
      " 57  FireplaceQu    770 non-null    object \n",
      " 58  GarageType     1379 non-null   object \n",
      " 59  GarageYrBlt    1379 non-null   float64\n",
      " 60  GarageFinish   1379 non-null   object \n",
      " 61  GarageCars     1460 non-null   int64  \n",
      " 62  GarageArea     1460 non-null   int64  \n",
      " 63  GarageQual     1379 non-null   object \n",
      " 64  GarageCond     1379 non-null   object \n",
      " 65  PavedDrive     1460 non-null   object \n",
      " 66  WoodDeckSF     1460 non-null   int64  \n",
      " 67  OpenPorchSF    1460 non-null   int64  \n",
      " 68  EnclosedPorch  1460 non-null   int64  \n",
      " 69  3SsnPorch      1460 non-null   int64  \n",
      " 70  ScreenPorch    1460 non-null   int64  \n",
      " 71  PoolArea       1460 non-null   int64  \n",
      " 72  PoolQC         7 non-null      object \n",
      " 73  Fence          281 non-null    object \n",
      " 74  MiscFeature    54 non-null     object \n",
      " 75  MiscVal        1460 non-null   int64  \n",
      " 76  MoSold         1460 non-null   int64  \n",
      " 77  YrSold         1460 non-null   int64  \n",
      " 78  SaleType       1460 non-null   object \n",
      " 79  SaleCondition  1460 non-null   object \n",
      " 80  SalePrice      1460 non-null   int64  \n",
      "dtypes: float64(3), int64(35), object(43)\n",
      "memory usage: 924.0+ KB\n"
     ]
    }
   ],
   "source": [
    "df.info()"
   ]
  },
  {
   "cell_type": "code",
   "execution_count": 6,
   "id": "dfa28108-2677-48db-994c-938fcc8282b7",
   "metadata": {},
   "outputs": [
    {
     "data": {
      "text/html": [
       "<div>\n",
       "<style scoped>\n",
       "    .dataframe tbody tr th:only-of-type {\n",
       "        vertical-align: middle;\n",
       "    }\n",
       "\n",
       "    .dataframe tbody tr th {\n",
       "        vertical-align: top;\n",
       "    }\n",
       "\n",
       "    .dataframe thead th {\n",
       "        text-align: right;\n",
       "    }\n",
       "</style>\n",
       "<table border=\"1\" class=\"dataframe\">\n",
       "  <thead>\n",
       "    <tr style=\"text-align: right;\">\n",
       "      <th></th>\n",
       "      <th>count</th>\n",
       "      <th>mean</th>\n",
       "      <th>std</th>\n",
       "      <th>min</th>\n",
       "      <th>25%</th>\n",
       "      <th>50%</th>\n",
       "      <th>75%</th>\n",
       "      <th>max</th>\n",
       "    </tr>\n",
       "  </thead>\n",
       "  <tbody>\n",
       "    <tr>\n",
       "      <th>Id</th>\n",
       "      <td>1460.0</td>\n",
       "      <td>730.500000</td>\n",
       "      <td>421.610009</td>\n",
       "      <td>1.0</td>\n",
       "      <td>365.75</td>\n",
       "      <td>730.5</td>\n",
       "      <td>1095.25</td>\n",
       "      <td>1460.0</td>\n",
       "    </tr>\n",
       "    <tr>\n",
       "      <th>MSSubClass</th>\n",
       "      <td>1460.0</td>\n",
       "      <td>56.897260</td>\n",
       "      <td>42.300571</td>\n",
       "      <td>20.0</td>\n",
       "      <td>20.00</td>\n",
       "      <td>50.0</td>\n",
       "      <td>70.00</td>\n",
       "      <td>190.0</td>\n",
       "    </tr>\n",
       "    <tr>\n",
       "      <th>LotFrontage</th>\n",
       "      <td>1201.0</td>\n",
       "      <td>70.049958</td>\n",
       "      <td>24.284752</td>\n",
       "      <td>21.0</td>\n",
       "      <td>59.00</td>\n",
       "      <td>69.0</td>\n",
       "      <td>80.00</td>\n",
       "      <td>313.0</td>\n",
       "    </tr>\n",
       "    <tr>\n",
       "      <th>LotArea</th>\n",
       "      <td>1460.0</td>\n",
       "      <td>10516.828082</td>\n",
       "      <td>9981.264932</td>\n",
       "      <td>1300.0</td>\n",
       "      <td>7553.50</td>\n",
       "      <td>9478.5</td>\n",
       "      <td>11601.50</td>\n",
       "      <td>215245.0</td>\n",
       "    </tr>\n",
       "    <tr>\n",
       "      <th>OverallQual</th>\n",
       "      <td>1460.0</td>\n",
       "      <td>6.099315</td>\n",
       "      <td>1.382997</td>\n",
       "      <td>1.0</td>\n",
       "      <td>5.00</td>\n",
       "      <td>6.0</td>\n",
       "      <td>7.00</td>\n",
       "      <td>10.0</td>\n",
       "    </tr>\n",
       "    <tr>\n",
       "      <th>OverallCond</th>\n",
       "      <td>1460.0</td>\n",
       "      <td>5.575342</td>\n",
       "      <td>1.112799</td>\n",
       "      <td>1.0</td>\n",
       "      <td>5.00</td>\n",
       "      <td>5.0</td>\n",
       "      <td>6.00</td>\n",
       "      <td>9.0</td>\n",
       "    </tr>\n",
       "    <tr>\n",
       "      <th>YearBuilt</th>\n",
       "      <td>1460.0</td>\n",
       "      <td>1971.267808</td>\n",
       "      <td>30.202904</td>\n",
       "      <td>1872.0</td>\n",
       "      <td>1954.00</td>\n",
       "      <td>1973.0</td>\n",
       "      <td>2000.00</td>\n",
       "      <td>2010.0</td>\n",
       "    </tr>\n",
       "    <tr>\n",
       "      <th>YearRemodAdd</th>\n",
       "      <td>1460.0</td>\n",
       "      <td>1984.865753</td>\n",
       "      <td>20.645407</td>\n",
       "      <td>1950.0</td>\n",
       "      <td>1967.00</td>\n",
       "      <td>1994.0</td>\n",
       "      <td>2004.00</td>\n",
       "      <td>2010.0</td>\n",
       "    </tr>\n",
       "    <tr>\n",
       "      <th>MasVnrArea</th>\n",
       "      <td>1452.0</td>\n",
       "      <td>103.685262</td>\n",
       "      <td>181.066207</td>\n",
       "      <td>0.0</td>\n",
       "      <td>0.00</td>\n",
       "      <td>0.0</td>\n",
       "      <td>166.00</td>\n",
       "      <td>1600.0</td>\n",
       "    </tr>\n",
       "    <tr>\n",
       "      <th>BsmtFinSF1</th>\n",
       "      <td>1460.0</td>\n",
       "      <td>443.639726</td>\n",
       "      <td>456.098091</td>\n",
       "      <td>0.0</td>\n",
       "      <td>0.00</td>\n",
       "      <td>383.5</td>\n",
       "      <td>712.25</td>\n",
       "      <td>5644.0</td>\n",
       "    </tr>\n",
       "    <tr>\n",
       "      <th>BsmtFinSF2</th>\n",
       "      <td>1460.0</td>\n",
       "      <td>46.549315</td>\n",
       "      <td>161.319273</td>\n",
       "      <td>0.0</td>\n",
       "      <td>0.00</td>\n",
       "      <td>0.0</td>\n",
       "      <td>0.00</td>\n",
       "      <td>1474.0</td>\n",
       "    </tr>\n",
       "    <tr>\n",
       "      <th>BsmtUnfSF</th>\n",
       "      <td>1460.0</td>\n",
       "      <td>567.240411</td>\n",
       "      <td>441.866955</td>\n",
       "      <td>0.0</td>\n",
       "      <td>223.00</td>\n",
       "      <td>477.5</td>\n",
       "      <td>808.00</td>\n",
       "      <td>2336.0</td>\n",
       "    </tr>\n",
       "    <tr>\n",
       "      <th>TotalBsmtSF</th>\n",
       "      <td>1460.0</td>\n",
       "      <td>1057.429452</td>\n",
       "      <td>438.705324</td>\n",
       "      <td>0.0</td>\n",
       "      <td>795.75</td>\n",
       "      <td>991.5</td>\n",
       "      <td>1298.25</td>\n",
       "      <td>6110.0</td>\n",
       "    </tr>\n",
       "    <tr>\n",
       "      <th>1stFlrSF</th>\n",
       "      <td>1460.0</td>\n",
       "      <td>1162.626712</td>\n",
       "      <td>386.587738</td>\n",
       "      <td>334.0</td>\n",
       "      <td>882.00</td>\n",
       "      <td>1087.0</td>\n",
       "      <td>1391.25</td>\n",
       "      <td>4692.0</td>\n",
       "    </tr>\n",
       "    <tr>\n",
       "      <th>2ndFlrSF</th>\n",
       "      <td>1460.0</td>\n",
       "      <td>346.992466</td>\n",
       "      <td>436.528436</td>\n",
       "      <td>0.0</td>\n",
       "      <td>0.00</td>\n",
       "      <td>0.0</td>\n",
       "      <td>728.00</td>\n",
       "      <td>2065.0</td>\n",
       "    </tr>\n",
       "    <tr>\n",
       "      <th>LowQualFinSF</th>\n",
       "      <td>1460.0</td>\n",
       "      <td>5.844521</td>\n",
       "      <td>48.623081</td>\n",
       "      <td>0.0</td>\n",
       "      <td>0.00</td>\n",
       "      <td>0.0</td>\n",
       "      <td>0.00</td>\n",
       "      <td>572.0</td>\n",
       "    </tr>\n",
       "    <tr>\n",
       "      <th>GrLivArea</th>\n",
       "      <td>1460.0</td>\n",
       "      <td>1515.463699</td>\n",
       "      <td>525.480383</td>\n",
       "      <td>334.0</td>\n",
       "      <td>1129.50</td>\n",
       "      <td>1464.0</td>\n",
       "      <td>1776.75</td>\n",
       "      <td>5642.0</td>\n",
       "    </tr>\n",
       "    <tr>\n",
       "      <th>BsmtFullBath</th>\n",
       "      <td>1460.0</td>\n",
       "      <td>0.425342</td>\n",
       "      <td>0.518911</td>\n",
       "      <td>0.0</td>\n",
       "      <td>0.00</td>\n",
       "      <td>0.0</td>\n",
       "      <td>1.00</td>\n",
       "      <td>3.0</td>\n",
       "    </tr>\n",
       "    <tr>\n",
       "      <th>BsmtHalfBath</th>\n",
       "      <td>1460.0</td>\n",
       "      <td>0.057534</td>\n",
       "      <td>0.238753</td>\n",
       "      <td>0.0</td>\n",
       "      <td>0.00</td>\n",
       "      <td>0.0</td>\n",
       "      <td>0.00</td>\n",
       "      <td>2.0</td>\n",
       "    </tr>\n",
       "    <tr>\n",
       "      <th>FullBath</th>\n",
       "      <td>1460.0</td>\n",
       "      <td>1.565068</td>\n",
       "      <td>0.550916</td>\n",
       "      <td>0.0</td>\n",
       "      <td>1.00</td>\n",
       "      <td>2.0</td>\n",
       "      <td>2.00</td>\n",
       "      <td>3.0</td>\n",
       "    </tr>\n",
       "    <tr>\n",
       "      <th>HalfBath</th>\n",
       "      <td>1460.0</td>\n",
       "      <td>0.382877</td>\n",
       "      <td>0.502885</td>\n",
       "      <td>0.0</td>\n",
       "      <td>0.00</td>\n",
       "      <td>0.0</td>\n",
       "      <td>1.00</td>\n",
       "      <td>2.0</td>\n",
       "    </tr>\n",
       "    <tr>\n",
       "      <th>BedroomAbvGr</th>\n",
       "      <td>1460.0</td>\n",
       "      <td>2.866438</td>\n",
       "      <td>0.815778</td>\n",
       "      <td>0.0</td>\n",
       "      <td>2.00</td>\n",
       "      <td>3.0</td>\n",
       "      <td>3.00</td>\n",
       "      <td>8.0</td>\n",
       "    </tr>\n",
       "    <tr>\n",
       "      <th>KitchenAbvGr</th>\n",
       "      <td>1460.0</td>\n",
       "      <td>1.046575</td>\n",
       "      <td>0.220338</td>\n",
       "      <td>0.0</td>\n",
       "      <td>1.00</td>\n",
       "      <td>1.0</td>\n",
       "      <td>1.00</td>\n",
       "      <td>3.0</td>\n",
       "    </tr>\n",
       "    <tr>\n",
       "      <th>TotRmsAbvGrd</th>\n",
       "      <td>1460.0</td>\n",
       "      <td>6.517808</td>\n",
       "      <td>1.625393</td>\n",
       "      <td>2.0</td>\n",
       "      <td>5.00</td>\n",
       "      <td>6.0</td>\n",
       "      <td>7.00</td>\n",
       "      <td>14.0</td>\n",
       "    </tr>\n",
       "    <tr>\n",
       "      <th>Fireplaces</th>\n",
       "      <td>1460.0</td>\n",
       "      <td>0.613014</td>\n",
       "      <td>0.644666</td>\n",
       "      <td>0.0</td>\n",
       "      <td>0.00</td>\n",
       "      <td>1.0</td>\n",
       "      <td>1.00</td>\n",
       "      <td>3.0</td>\n",
       "    </tr>\n",
       "    <tr>\n",
       "      <th>GarageYrBlt</th>\n",
       "      <td>1379.0</td>\n",
       "      <td>1978.506164</td>\n",
       "      <td>24.689725</td>\n",
       "      <td>1900.0</td>\n",
       "      <td>1961.00</td>\n",
       "      <td>1980.0</td>\n",
       "      <td>2002.00</td>\n",
       "      <td>2010.0</td>\n",
       "    </tr>\n",
       "    <tr>\n",
       "      <th>GarageCars</th>\n",
       "      <td>1460.0</td>\n",
       "      <td>1.767123</td>\n",
       "      <td>0.747315</td>\n",
       "      <td>0.0</td>\n",
       "      <td>1.00</td>\n",
       "      <td>2.0</td>\n",
       "      <td>2.00</td>\n",
       "      <td>4.0</td>\n",
       "    </tr>\n",
       "    <tr>\n",
       "      <th>GarageArea</th>\n",
       "      <td>1460.0</td>\n",
       "      <td>472.980137</td>\n",
       "      <td>213.804841</td>\n",
       "      <td>0.0</td>\n",
       "      <td>334.50</td>\n",
       "      <td>480.0</td>\n",
       "      <td>576.00</td>\n",
       "      <td>1418.0</td>\n",
       "    </tr>\n",
       "    <tr>\n",
       "      <th>WoodDeckSF</th>\n",
       "      <td>1460.0</td>\n",
       "      <td>94.244521</td>\n",
       "      <td>125.338794</td>\n",
       "      <td>0.0</td>\n",
       "      <td>0.00</td>\n",
       "      <td>0.0</td>\n",
       "      <td>168.00</td>\n",
       "      <td>857.0</td>\n",
       "    </tr>\n",
       "    <tr>\n",
       "      <th>OpenPorchSF</th>\n",
       "      <td>1460.0</td>\n",
       "      <td>46.660274</td>\n",
       "      <td>66.256028</td>\n",
       "      <td>0.0</td>\n",
       "      <td>0.00</td>\n",
       "      <td>25.0</td>\n",
       "      <td>68.00</td>\n",
       "      <td>547.0</td>\n",
       "    </tr>\n",
       "    <tr>\n",
       "      <th>EnclosedPorch</th>\n",
       "      <td>1460.0</td>\n",
       "      <td>21.954110</td>\n",
       "      <td>61.119149</td>\n",
       "      <td>0.0</td>\n",
       "      <td>0.00</td>\n",
       "      <td>0.0</td>\n",
       "      <td>0.00</td>\n",
       "      <td>552.0</td>\n",
       "    </tr>\n",
       "    <tr>\n",
       "      <th>3SsnPorch</th>\n",
       "      <td>1460.0</td>\n",
       "      <td>3.409589</td>\n",
       "      <td>29.317331</td>\n",
       "      <td>0.0</td>\n",
       "      <td>0.00</td>\n",
       "      <td>0.0</td>\n",
       "      <td>0.00</td>\n",
       "      <td>508.0</td>\n",
       "    </tr>\n",
       "    <tr>\n",
       "      <th>ScreenPorch</th>\n",
       "      <td>1460.0</td>\n",
       "      <td>15.060959</td>\n",
       "      <td>55.757415</td>\n",
       "      <td>0.0</td>\n",
       "      <td>0.00</td>\n",
       "      <td>0.0</td>\n",
       "      <td>0.00</td>\n",
       "      <td>480.0</td>\n",
       "    </tr>\n",
       "    <tr>\n",
       "      <th>PoolArea</th>\n",
       "      <td>1460.0</td>\n",
       "      <td>2.758904</td>\n",
       "      <td>40.177307</td>\n",
       "      <td>0.0</td>\n",
       "      <td>0.00</td>\n",
       "      <td>0.0</td>\n",
       "      <td>0.00</td>\n",
       "      <td>738.0</td>\n",
       "    </tr>\n",
       "    <tr>\n",
       "      <th>MiscVal</th>\n",
       "      <td>1460.0</td>\n",
       "      <td>43.489041</td>\n",
       "      <td>496.123024</td>\n",
       "      <td>0.0</td>\n",
       "      <td>0.00</td>\n",
       "      <td>0.0</td>\n",
       "      <td>0.00</td>\n",
       "      <td>15500.0</td>\n",
       "    </tr>\n",
       "    <tr>\n",
       "      <th>MoSold</th>\n",
       "      <td>1460.0</td>\n",
       "      <td>6.321918</td>\n",
       "      <td>2.703626</td>\n",
       "      <td>1.0</td>\n",
       "      <td>5.00</td>\n",
       "      <td>6.0</td>\n",
       "      <td>8.00</td>\n",
       "      <td>12.0</td>\n",
       "    </tr>\n",
       "    <tr>\n",
       "      <th>YrSold</th>\n",
       "      <td>1460.0</td>\n",
       "      <td>2007.815753</td>\n",
       "      <td>1.328095</td>\n",
       "      <td>2006.0</td>\n",
       "      <td>2007.00</td>\n",
       "      <td>2008.0</td>\n",
       "      <td>2009.00</td>\n",
       "      <td>2010.0</td>\n",
       "    </tr>\n",
       "    <tr>\n",
       "      <th>SalePrice</th>\n",
       "      <td>1460.0</td>\n",
       "      <td>180921.195890</td>\n",
       "      <td>79442.502883</td>\n",
       "      <td>34900.0</td>\n",
       "      <td>129975.00</td>\n",
       "      <td>163000.0</td>\n",
       "      <td>214000.00</td>\n",
       "      <td>755000.0</td>\n",
       "    </tr>\n",
       "  </tbody>\n",
       "</table>\n",
       "</div>"
      ],
      "text/plain": [
       "                count           mean           std      min        25%  \\\n",
       "Id             1460.0     730.500000    421.610009      1.0     365.75   \n",
       "MSSubClass     1460.0      56.897260     42.300571     20.0      20.00   \n",
       "LotFrontage    1201.0      70.049958     24.284752     21.0      59.00   \n",
       "LotArea        1460.0   10516.828082   9981.264932   1300.0    7553.50   \n",
       "OverallQual    1460.0       6.099315      1.382997      1.0       5.00   \n",
       "OverallCond    1460.0       5.575342      1.112799      1.0       5.00   \n",
       "YearBuilt      1460.0    1971.267808     30.202904   1872.0    1954.00   \n",
       "YearRemodAdd   1460.0    1984.865753     20.645407   1950.0    1967.00   \n",
       "MasVnrArea     1452.0     103.685262    181.066207      0.0       0.00   \n",
       "BsmtFinSF1     1460.0     443.639726    456.098091      0.0       0.00   \n",
       "BsmtFinSF2     1460.0      46.549315    161.319273      0.0       0.00   \n",
       "BsmtUnfSF      1460.0     567.240411    441.866955      0.0     223.00   \n",
       "TotalBsmtSF    1460.0    1057.429452    438.705324      0.0     795.75   \n",
       "1stFlrSF       1460.0    1162.626712    386.587738    334.0     882.00   \n",
       "2ndFlrSF       1460.0     346.992466    436.528436      0.0       0.00   \n",
       "LowQualFinSF   1460.0       5.844521     48.623081      0.0       0.00   \n",
       "GrLivArea      1460.0    1515.463699    525.480383    334.0    1129.50   \n",
       "BsmtFullBath   1460.0       0.425342      0.518911      0.0       0.00   \n",
       "BsmtHalfBath   1460.0       0.057534      0.238753      0.0       0.00   \n",
       "FullBath       1460.0       1.565068      0.550916      0.0       1.00   \n",
       "HalfBath       1460.0       0.382877      0.502885      0.0       0.00   \n",
       "BedroomAbvGr   1460.0       2.866438      0.815778      0.0       2.00   \n",
       "KitchenAbvGr   1460.0       1.046575      0.220338      0.0       1.00   \n",
       "TotRmsAbvGrd   1460.0       6.517808      1.625393      2.0       5.00   \n",
       "Fireplaces     1460.0       0.613014      0.644666      0.0       0.00   \n",
       "GarageYrBlt    1379.0    1978.506164     24.689725   1900.0    1961.00   \n",
       "GarageCars     1460.0       1.767123      0.747315      0.0       1.00   \n",
       "GarageArea     1460.0     472.980137    213.804841      0.0     334.50   \n",
       "WoodDeckSF     1460.0      94.244521    125.338794      0.0       0.00   \n",
       "OpenPorchSF    1460.0      46.660274     66.256028      0.0       0.00   \n",
       "EnclosedPorch  1460.0      21.954110     61.119149      0.0       0.00   \n",
       "3SsnPorch      1460.0       3.409589     29.317331      0.0       0.00   \n",
       "ScreenPorch    1460.0      15.060959     55.757415      0.0       0.00   \n",
       "PoolArea       1460.0       2.758904     40.177307      0.0       0.00   \n",
       "MiscVal        1460.0      43.489041    496.123024      0.0       0.00   \n",
       "MoSold         1460.0       6.321918      2.703626      1.0       5.00   \n",
       "YrSold         1460.0    2007.815753      1.328095   2006.0    2007.00   \n",
       "SalePrice      1460.0  180921.195890  79442.502883  34900.0  129975.00   \n",
       "\n",
       "                    50%        75%       max  \n",
       "Id                730.5    1095.25    1460.0  \n",
       "MSSubClass         50.0      70.00     190.0  \n",
       "LotFrontage        69.0      80.00     313.0  \n",
       "LotArea          9478.5   11601.50  215245.0  \n",
       "OverallQual         6.0       7.00      10.0  \n",
       "OverallCond         5.0       6.00       9.0  \n",
       "YearBuilt        1973.0    2000.00    2010.0  \n",
       "YearRemodAdd     1994.0    2004.00    2010.0  \n",
       "MasVnrArea          0.0     166.00    1600.0  \n",
       "BsmtFinSF1        383.5     712.25    5644.0  \n",
       "BsmtFinSF2          0.0       0.00    1474.0  \n",
       "BsmtUnfSF         477.5     808.00    2336.0  \n",
       "TotalBsmtSF       991.5    1298.25    6110.0  \n",
       "1stFlrSF         1087.0    1391.25    4692.0  \n",
       "2ndFlrSF            0.0     728.00    2065.0  \n",
       "LowQualFinSF        0.0       0.00     572.0  \n",
       "GrLivArea        1464.0    1776.75    5642.0  \n",
       "BsmtFullBath        0.0       1.00       3.0  \n",
       "BsmtHalfBath        0.0       0.00       2.0  \n",
       "FullBath            2.0       2.00       3.0  \n",
       "HalfBath            0.0       1.00       2.0  \n",
       "BedroomAbvGr        3.0       3.00       8.0  \n",
       "KitchenAbvGr        1.0       1.00       3.0  \n",
       "TotRmsAbvGrd        6.0       7.00      14.0  \n",
       "Fireplaces          1.0       1.00       3.0  \n",
       "GarageYrBlt      1980.0    2002.00    2010.0  \n",
       "GarageCars          2.0       2.00       4.0  \n",
       "GarageArea        480.0     576.00    1418.0  \n",
       "WoodDeckSF          0.0     168.00     857.0  \n",
       "OpenPorchSF        25.0      68.00     547.0  \n",
       "EnclosedPorch       0.0       0.00     552.0  \n",
       "3SsnPorch           0.0       0.00     508.0  \n",
       "ScreenPorch         0.0       0.00     480.0  \n",
       "PoolArea            0.0       0.00     738.0  \n",
       "MiscVal             0.0       0.00   15500.0  \n",
       "MoSold              6.0       8.00      12.0  \n",
       "YrSold           2008.0    2009.00    2010.0  \n",
       "SalePrice      163000.0  214000.00  755000.0  "
      ]
     },
     "execution_count": 6,
     "metadata": {},
     "output_type": "execute_result"
    }
   ],
   "source": [
    "df.describe().T"
   ]
  },
  {
   "cell_type": "code",
   "execution_count": null,
   "id": "bc7fccda-f48f-4388-9baa-3cd6dd6631ec",
   "metadata": {},
   "outputs": [],
   "source": []
  },
  {
   "cell_type": "markdown",
   "id": "0dfe7393-f6a1-417a-aff0-02a0a7a8358b",
   "metadata": {
    "tags": []
   },
   "source": [
    "## 2.Data Cleaning & Manipulation"
   ]
  },
  {
   "cell_type": "markdown",
   "id": "8171679c-0f6f-47af-9886-c7cde7aadcc1",
   "metadata": {},
   "source": [
    "It begings with the identification of the columns with the highest percentage of null data."
   ]
  },
  {
   "cell_type": "code",
   "execution_count": 7,
   "id": "e09bc651-e718-4179-ab14-b046a0d316c8",
   "metadata": {},
   "outputs": [
    {
     "data": {
      "text/plain": [
       "PoolQC          99.520548\n",
       "MiscFeature     96.301370\n",
       "Alley           93.767123\n",
       "Fence           80.753425\n",
       "FireplaceQu     47.260274\n",
       "LotFrontage     17.739726\n",
       "GarageYrBlt      5.547945\n",
       "GarageCond       5.547945\n",
       "GarageType       5.547945\n",
       "GarageFinish     5.547945\n",
       "GarageQual       5.547945\n",
       "BsmtFinType2     2.602740\n",
       "BsmtExposure     2.602740\n",
       "BsmtQual         2.534247\n",
       "BsmtCond         2.534247\n",
       "BsmtFinType1     2.534247\n",
       "MasVnrArea       0.547945\n",
       "MasVnrType       0.547945\n",
       "Electrical       0.068493\n",
       "Id               0.000000\n",
       "Functional       0.000000\n",
       "dtype: float64"
      ]
     },
     "execution_count": 7,
     "metadata": {},
     "output_type": "execute_result"
    }
   ],
   "source": [
    "null = ((df.isnull().sum()/df.shape[0])*100).sort_values(ascending = False)\n",
    "\n",
    "null.head(21)"
   ]
  },
  {
   "cell_type": "markdown",
   "id": "04562a0c-01eb-40b4-8383-9d657ce73da3",
   "metadata": {},
   "source": [
    "The variables with a high percentage of null values are the following: \n",
    "\n",
    "\n",
    "    1. Pool QC : Pool Quality >> Pool Area\n",
    "    2. MiscFeature : Miscellaneous feature not covered in other categories\n",
    "    3. Alley : Type of alley access to property\n",
    "    4. Fence : Fence quality\n",
    "    5. FireplaceQu : Fireplace quality >> Fireplaces: Number of Fireplaces\n",
    "    6. Lot Frontage : Linear feet of street connected to property\n",
    "\n",
    "They describe features that not all houses have, and that surely affect on the price, nevertheless, there are other columns that provide \n",
    "related and more valuable information. So, we'll review each one.\n",
    "\n",
    "\n"
   ]
  },
  {
   "cell_type": "markdown",
   "id": "ce3fe1fb-a906-49b6-8280-f3544f6066e5",
   "metadata": {},
   "source": [
    "        2.1 Review of columns with a major number of null values: count of null values & ANOVA"
   ]
  },
  {
   "cell_type": "markdown",
   "id": "91c2b329-7d0f-4bc0-a019-522f1287402a",
   "metadata": {},
   "source": [
    "           2.1.1 PoolArea & PoolQC"
   ]
  },
  {
   "cell_type": "code",
   "execution_count": 8,
   "id": "d136d2bb-176c-4ff3-af90-9d7da439586e",
   "metadata": {},
   "outputs": [
    {
     "data": {
      "text/plain": [
       "SalePrice    1460\n",
       "PoolArea     1460\n",
       "PoolQC          7\n",
       "dtype: int64"
      ]
     },
     "execution_count": 8,
     "metadata": {},
     "output_type": "execute_result"
    }
   ],
   "source": [
    "\n",
    "#The prescence of null values radicates in the lack of pool in the property, and in fact can be stated by PoolArea. \n",
    "\n",
    "df[['SalePrice','PoolArea','PoolQC']].notnull().sum()"
   ]
  },
  {
   "cell_type": "code",
   "execution_count": 9,
   "id": "b329f132-ed3d-4019-8c89-cd2eff00d137",
   "metadata": {},
   "outputs": [
    {
     "data": {
      "text/html": [
       "<div>\n",
       "<style scoped>\n",
       "    .dataframe tbody tr th:only-of-type {\n",
       "        vertical-align: middle;\n",
       "    }\n",
       "\n",
       "    .dataframe tbody tr th {\n",
       "        vertical-align: top;\n",
       "    }\n",
       "\n",
       "    .dataframe thead th {\n",
       "        text-align: right;\n",
       "    }\n",
       "</style>\n",
       "<table border=\"1\" class=\"dataframe\">\n",
       "  <thead>\n",
       "    <tr style=\"text-align: right;\">\n",
       "      <th></th>\n",
       "      <th>sum_sq</th>\n",
       "      <th>df</th>\n",
       "      <th>F</th>\n",
       "      <th>PR(&gt;F)</th>\n",
       "    </tr>\n",
       "  </thead>\n",
       "  <tbody>\n",
       "    <tr>\n",
       "      <th>C(PoolQC)</th>\n",
       "      <td>1.143135e+11</td>\n",
       "      <td>2.0</td>\n",
       "      <td>1.627469</td>\n",
       "      <td>0.303985</td>\n",
       "    </tr>\n",
       "    <tr>\n",
       "      <th>Residual</th>\n",
       "      <td>1.404801e+11</td>\n",
       "      <td>4.0</td>\n",
       "      <td>NaN</td>\n",
       "      <td>NaN</td>\n",
       "    </tr>\n",
       "  </tbody>\n",
       "</table>\n",
       "</div>"
      ],
      "text/plain": [
       "                 sum_sq   df         F    PR(>F)\n",
       "C(PoolQC)  1.143135e+11  2.0  1.627469  0.303985\n",
       "Residual   1.404801e+11  4.0       NaN       NaN"
      ]
     },
     "execution_count": 9,
     "metadata": {},
     "output_type": "execute_result"
    }
   ],
   "source": [
    "#To identify the importance of each column, an ANOVA test is performed\n",
    "\n",
    "df_pool = df[['SalePrice','PoolArea','PoolQC']][df.PoolQC.notnull()]\n",
    "\n",
    "model = ols('SalePrice ~ C(PoolQC)', data = df).fit()\n",
    "anova_table = sm.stats.anova_lm(model, typ=2)\n",
    "anova_table"
   ]
  },
  {
   "cell_type": "code",
   "execution_count": 10,
   "id": "7992aaf9-54cf-45be-88a6-a3e427c01c3c",
   "metadata": {},
   "outputs": [
    {
     "data": {
      "text/html": [
       "<div>\n",
       "<style scoped>\n",
       "    .dataframe tbody tr th:only-of-type {\n",
       "        vertical-align: middle;\n",
       "    }\n",
       "\n",
       "    .dataframe tbody tr th {\n",
       "        vertical-align: top;\n",
       "    }\n",
       "\n",
       "    .dataframe thead th {\n",
       "        text-align: right;\n",
       "    }\n",
       "</style>\n",
       "<table border=\"1\" class=\"dataframe\">\n",
       "  <thead>\n",
       "    <tr style=\"text-align: right;\">\n",
       "      <th></th>\n",
       "      <th>sum_sq</th>\n",
       "      <th>df</th>\n",
       "      <th>F</th>\n",
       "      <th>PR(&gt;F)</th>\n",
       "    </tr>\n",
       "  </thead>\n",
       "  <tbody>\n",
       "    <tr>\n",
       "      <th>C(PoolArea)</th>\n",
       "      <td>3.356503e+11</td>\n",
       "      <td>7.0</td>\n",
       "      <td>7.847318</td>\n",
       "      <td>2.341047e-09</td>\n",
       "    </tr>\n",
       "    <tr>\n",
       "      <th>Residual</th>\n",
       "      <td>8.872261e+12</td>\n",
       "      <td>1452.0</td>\n",
       "      <td>NaN</td>\n",
       "      <td>NaN</td>\n",
       "    </tr>\n",
       "  </tbody>\n",
       "</table>\n",
       "</div>"
      ],
      "text/plain": [
       "                   sum_sq      df         F        PR(>F)\n",
       "C(PoolArea)  3.356503e+11     7.0  7.847318  2.341047e-09\n",
       "Residual     8.872261e+12  1452.0       NaN           NaN"
      ]
     },
     "execution_count": 10,
     "metadata": {},
     "output_type": "execute_result"
    }
   ],
   "source": [
    "df_pool = df[['SalePrice','PoolArea','PoolQC']]\n",
    "\n",
    "model = ols('SalePrice ~ C(PoolArea)', data = df).fit()\n",
    "anova_table = sm.stats.anova_lm(model, typ=2)\n",
    "anova_table"
   ]
  },
  {
   "cell_type": "code",
   "execution_count": 11,
   "id": "5bb858b4-0e90-4b94-b4eb-fd856f9217a7",
   "metadata": {},
   "outputs": [],
   "source": [
    "#The p-value from the ANOVA test for Pool Area, denote its statistical importance. PoolQC will be dropped. "
   ]
  },
  {
   "cell_type": "markdown",
   "id": "124aa72b-ac31-48a9-924b-8115b2956583",
   "metadata": {},
   "source": [
    "        2.1.2 MiscFeatures"
   ]
  },
  {
   "cell_type": "code",
   "execution_count": 12,
   "id": "8fcc154a-eeea-4e43-ac44-4af8a78b9f41",
   "metadata": {},
   "outputs": [
    {
     "data": {
      "text/plain": [
       "4"
      ]
     },
     "execution_count": 12,
     "metadata": {},
     "output_type": "execute_result"
    }
   ],
   "source": [
    "df.MiscFeature.nunique()"
   ]
  },
  {
   "cell_type": "code",
   "execution_count": 13,
   "id": "3da804ec-2a57-4a30-8354-c023f1d52d96",
   "metadata": {},
   "outputs": [
    {
     "data": {
      "text/plain": [
       "1406"
      ]
     },
     "execution_count": 13,
     "metadata": {},
     "output_type": "execute_result"
    }
   ],
   "source": [
    "df.MiscFeature.isnull().sum()"
   ]
  },
  {
   "cell_type": "code",
   "execution_count": 14,
   "id": "7d130892-1c1b-4467-ae51-98276a30b13c",
   "metadata": {},
   "outputs": [
    {
     "data": {
      "text/html": [
       "<div>\n",
       "<style scoped>\n",
       "    .dataframe tbody tr th:only-of-type {\n",
       "        vertical-align: middle;\n",
       "    }\n",
       "\n",
       "    .dataframe tbody tr th {\n",
       "        vertical-align: top;\n",
       "    }\n",
       "\n",
       "    .dataframe thead th {\n",
       "        text-align: right;\n",
       "    }\n",
       "</style>\n",
       "<table border=\"1\" class=\"dataframe\">\n",
       "  <thead>\n",
       "    <tr style=\"text-align: right;\">\n",
       "      <th></th>\n",
       "      <th>sum_sq</th>\n",
       "      <th>df</th>\n",
       "      <th>F</th>\n",
       "      <th>PR(&gt;F)</th>\n",
       "    </tr>\n",
       "  </thead>\n",
       "  <tbody>\n",
       "    <tr>\n",
       "      <th>C(MiscFeature)</th>\n",
       "      <td>1.705983e+10</td>\n",
       "      <td>3.0</td>\n",
       "      <td>2.157324</td>\n",
       "      <td>0.104728</td>\n",
       "    </tr>\n",
       "    <tr>\n",
       "      <th>Residual</th>\n",
       "      <td>1.317978e+11</td>\n",
       "      <td>50.0</td>\n",
       "      <td>NaN</td>\n",
       "      <td>NaN</td>\n",
       "    </tr>\n",
       "  </tbody>\n",
       "</table>\n",
       "</div>"
      ],
      "text/plain": [
       "                      sum_sq    df         F    PR(>F)\n",
       "C(MiscFeature)  1.705983e+10   3.0  2.157324  0.104728\n",
       "Residual        1.317978e+11  50.0       NaN       NaN"
      ]
     },
     "execution_count": 14,
     "metadata": {},
     "output_type": "execute_result"
    }
   ],
   "source": [
    "df_misc = df[['SalePrice','MiscFeature']].notnull()\n",
    "\n",
    "model = ols('SalePrice ~ C(MiscFeature)', data = df).fit()\n",
    "anova_table = sm.stats.anova_lm(model, typ=2)\n",
    "anova_table"
   ]
  },
  {
   "cell_type": "markdown",
   "id": "9e4a9384-34a4-469a-9d8b-b06eec8288cb",
   "metadata": {},
   "source": [
    "           2.1.3 Alley"
   ]
  },
  {
   "cell_type": "code",
   "execution_count": null,
   "id": "3a6c609f-0cc5-45c5-9e63-72054100a5f7",
   "metadata": {},
   "outputs": [],
   "source": []
  },
  {
   "cell_type": "code",
   "execution_count": 15,
   "id": "d74d2655-a138-40b4-83dd-b1c5a7452372",
   "metadata": {},
   "outputs": [
    {
     "data": {
      "text/plain": [
       "1369"
      ]
     },
     "execution_count": 15,
     "metadata": {},
     "output_type": "execute_result"
    }
   ],
   "source": [
    "df.Alley.isnull().sum()"
   ]
  },
  {
   "cell_type": "code",
   "execution_count": 16,
   "id": "e0c035dc-84e1-4fec-a3c8-7dc185d00442",
   "metadata": {},
   "outputs": [
    {
     "data": {
      "text/html": [
       "<div>\n",
       "<style scoped>\n",
       "    .dataframe tbody tr th:only-of-type {\n",
       "        vertical-align: middle;\n",
       "    }\n",
       "\n",
       "    .dataframe tbody tr th {\n",
       "        vertical-align: top;\n",
       "    }\n",
       "\n",
       "    .dataframe thead th {\n",
       "        text-align: right;\n",
       "    }\n",
       "</style>\n",
       "<table border=\"1\" class=\"dataframe\">\n",
       "  <thead>\n",
       "    <tr style=\"text-align: right;\">\n",
       "      <th></th>\n",
       "      <th>sum_sq</th>\n",
       "      <th>df</th>\n",
       "      <th>F</th>\n",
       "      <th>PR(&gt;F)</th>\n",
       "    </tr>\n",
       "  </thead>\n",
       "  <tbody>\n",
       "    <tr>\n",
       "      <th>C(Alley)</th>\n",
       "      <td>4.721637e+10</td>\n",
       "      <td>1.0</td>\n",
       "      <td>35.56206</td>\n",
       "      <td>4.899826e-08</td>\n",
       "    </tr>\n",
       "    <tr>\n",
       "      <th>Residual</th>\n",
       "      <td>1.181669e+11</td>\n",
       "      <td>89.0</td>\n",
       "      <td>NaN</td>\n",
       "      <td>NaN</td>\n",
       "    </tr>\n",
       "  </tbody>\n",
       "</table>\n",
       "</div>"
      ],
      "text/plain": [
       "                sum_sq    df         F        PR(>F)\n",
       "C(Alley)  4.721637e+10   1.0  35.56206  4.899826e-08\n",
       "Residual  1.181669e+11  89.0       NaN           NaN"
      ]
     },
     "execution_count": 16,
     "metadata": {},
     "output_type": "execute_result"
    }
   ],
   "source": [
    "df_misc = df[['SalePrice','Alley']].notnull()\n",
    "\n",
    "model = ols('SalePrice ~ C(Alley)', data = df).fit()\n",
    "anova_table = sm.stats.anova_lm(model, typ=2)\n",
    "anova_table"
   ]
  },
  {
   "cell_type": "markdown",
   "id": "2b142e00-d445-49df-a261-abd065fddf7e",
   "metadata": {},
   "source": [
    "        2.1.4 Fence"
   ]
  },
  {
   "cell_type": "code",
   "execution_count": 17,
   "id": "a3f4c54b-b6b2-4884-926e-0a4aafb30f62",
   "metadata": {},
   "outputs": [
    {
     "data": {
      "text/html": [
       "<div>\n",
       "<style scoped>\n",
       "    .dataframe tbody tr th:only-of-type {\n",
       "        vertical-align: middle;\n",
       "    }\n",
       "\n",
       "    .dataframe tbody tr th {\n",
       "        vertical-align: top;\n",
       "    }\n",
       "\n",
       "    .dataframe thead th {\n",
       "        text-align: right;\n",
       "    }\n",
       "</style>\n",
       "<table border=\"1\" class=\"dataframe\">\n",
       "  <thead>\n",
       "    <tr style=\"text-align: right;\">\n",
       "      <th></th>\n",
       "      <th>sum_sq</th>\n",
       "      <th>df</th>\n",
       "      <th>F</th>\n",
       "      <th>PR(&gt;F)</th>\n",
       "    </tr>\n",
       "  </thead>\n",
       "  <tbody>\n",
       "    <tr>\n",
       "      <th>C(Fence)</th>\n",
       "      <td>5.494735e+10</td>\n",
       "      <td>3.0</td>\n",
       "      <td>4.948159</td>\n",
       "      <td>0.002313</td>\n",
       "    </tr>\n",
       "    <tr>\n",
       "      <th>Residual</th>\n",
       "      <td>1.025325e+12</td>\n",
       "      <td>277.0</td>\n",
       "      <td>NaN</td>\n",
       "      <td>NaN</td>\n",
       "    </tr>\n",
       "  </tbody>\n",
       "</table>\n",
       "</div>"
      ],
      "text/plain": [
       "                sum_sq     df         F    PR(>F)\n",
       "C(Fence)  5.494735e+10    3.0  4.948159  0.002313\n",
       "Residual  1.025325e+12  277.0       NaN       NaN"
      ]
     },
     "execution_count": 17,
     "metadata": {},
     "output_type": "execute_result"
    }
   ],
   "source": [
    "df_misc = df[['SalePrice','Fence']].notnull()\n",
    "\n",
    "model = ols('SalePrice ~ C(Fence)', data = df).fit()\n",
    "anova_table = sm.stats.anova_lm(model, typ=2)\n",
    "anova_table"
   ]
  },
  {
   "cell_type": "markdown",
   "id": "57084859-a2cf-4cc5-9aef-2d763234dc23",
   "metadata": {},
   "source": [
    "        2.1.5 FireQu"
   ]
  },
  {
   "cell_type": "code",
   "execution_count": 18,
   "id": "ba237f8a-e2ba-4de5-ada9-f0558a7f893a",
   "metadata": {},
   "outputs": [
    {
     "data": {
      "text/html": [
       "<div>\n",
       "<style scoped>\n",
       "    .dataframe tbody tr th:only-of-type {\n",
       "        vertical-align: middle;\n",
       "    }\n",
       "\n",
       "    .dataframe tbody tr th {\n",
       "        vertical-align: top;\n",
       "    }\n",
       "\n",
       "    .dataframe thead th {\n",
       "        text-align: right;\n",
       "    }\n",
       "</style>\n",
       "<table border=\"1\" class=\"dataframe\">\n",
       "  <thead>\n",
       "    <tr style=\"text-align: right;\">\n",
       "      <th></th>\n",
       "      <th>sum_sq</th>\n",
       "      <th>df</th>\n",
       "      <th>F</th>\n",
       "      <th>PR(&gt;F)</th>\n",
       "    </tr>\n",
       "  </thead>\n",
       "  <tbody>\n",
       "    <tr>\n",
       "      <th>C(FireplaceQu)</th>\n",
       "      <td>6.561883e+11</td>\n",
       "      <td>4.0</td>\n",
       "      <td>24.398929</td>\n",
       "      <td>5.016300e-19</td>\n",
       "    </tr>\n",
       "    <tr>\n",
       "      <th>Residual</th>\n",
       "      <td>5.143505e+12</td>\n",
       "      <td>765.0</td>\n",
       "      <td>NaN</td>\n",
       "      <td>NaN</td>\n",
       "    </tr>\n",
       "  </tbody>\n",
       "</table>\n",
       "</div>"
      ],
      "text/plain": [
       "                      sum_sq     df          F        PR(>F)\n",
       "C(FireplaceQu)  6.561883e+11    4.0  24.398929  5.016300e-19\n",
       "Residual        5.143505e+12  765.0        NaN           NaN"
      ]
     },
     "execution_count": 18,
     "metadata": {},
     "output_type": "execute_result"
    }
   ],
   "source": [
    "df_misc = df[['SalePrice','FireplaceQu']].notnull()\n",
    "\n",
    "model = ols('SalePrice ~ C(FireplaceQu)', data = df).fit()\n",
    "anova_table = sm.stats.anova_lm(model, typ=2)\n",
    "anova_table"
   ]
  },
  {
   "cell_type": "code",
   "execution_count": 19,
   "id": "b6d096d6-b602-42f1-a5ef-714b3b1783c7",
   "metadata": {},
   "outputs": [
    {
     "data": {
      "text/html": [
       "<div>\n",
       "<style scoped>\n",
       "    .dataframe tbody tr th:only-of-type {\n",
       "        vertical-align: middle;\n",
       "    }\n",
       "\n",
       "    .dataframe tbody tr th {\n",
       "        vertical-align: top;\n",
       "    }\n",
       "\n",
       "    .dataframe thead th {\n",
       "        text-align: right;\n",
       "    }\n",
       "</style>\n",
       "<table border=\"1\" class=\"dataframe\">\n",
       "  <thead>\n",
       "    <tr style=\"text-align: right;\">\n",
       "      <th></th>\n",
       "      <th>sum_sq</th>\n",
       "      <th>df</th>\n",
       "      <th>F</th>\n",
       "      <th>PR(&gt;F)</th>\n",
       "    </tr>\n",
       "  </thead>\n",
       "  <tbody>\n",
       "    <tr>\n",
       "      <th>C(Fireplaces)</th>\n",
       "      <td>2.137691e+12</td>\n",
       "      <td>3.0</td>\n",
       "      <td>146.741176</td>\n",
       "      <td>4.421001e-83</td>\n",
       "    </tr>\n",
       "    <tr>\n",
       "      <th>Residual</th>\n",
       "      <td>7.070221e+12</td>\n",
       "      <td>1456.0</td>\n",
       "      <td>NaN</td>\n",
       "      <td>NaN</td>\n",
       "    </tr>\n",
       "  </tbody>\n",
       "</table>\n",
       "</div>"
      ],
      "text/plain": [
       "                     sum_sq      df           F        PR(>F)\n",
       "C(Fireplaces)  2.137691e+12     3.0  146.741176  4.421001e-83\n",
       "Residual       7.070221e+12  1456.0         NaN           NaN"
      ]
     },
     "execution_count": 19,
     "metadata": {},
     "output_type": "execute_result"
    }
   ],
   "source": [
    "df_misc = df[['SalePrice','Fireplaces']].notnull()\n",
    "\n",
    "model = ols('SalePrice ~ C(Fireplaces)', data = df).fit()\n",
    "anova_table = sm.stats.anova_lm(model, typ=2)\n",
    "anova_table"
   ]
  },
  {
   "cell_type": "markdown",
   "id": "c0148ab6-9a8f-4011-94f0-0bde3057e2f7",
   "metadata": {},
   "source": [
    "        2.1.6 LotFrontage"
   ]
  },
  {
   "cell_type": "code",
   "execution_count": 20,
   "id": "e4445a7e-43ef-4b4b-b29b-089c93f5bd63",
   "metadata": {},
   "outputs": [
    {
     "data": {
      "text/html": [
       "<div>\n",
       "<style scoped>\n",
       "    .dataframe tbody tr th:only-of-type {\n",
       "        vertical-align: middle;\n",
       "    }\n",
       "\n",
       "    .dataframe tbody tr th {\n",
       "        vertical-align: top;\n",
       "    }\n",
       "\n",
       "    .dataframe thead th {\n",
       "        text-align: right;\n",
       "    }\n",
       "</style>\n",
       "<table border=\"1\" class=\"dataframe\">\n",
       "  <thead>\n",
       "    <tr style=\"text-align: right;\">\n",
       "      <th></th>\n",
       "      <th>sum_sq</th>\n",
       "      <th>df</th>\n",
       "      <th>F</th>\n",
       "      <th>PR(&gt;F)</th>\n",
       "    </tr>\n",
       "  </thead>\n",
       "  <tbody>\n",
       "    <tr>\n",
       "      <th>C(LotFrontage)</th>\n",
       "      <td>3.147630e+12</td>\n",
       "      <td>109.0</td>\n",
       "      <td>6.06225</td>\n",
       "      <td>1.924845e-58</td>\n",
       "    </tr>\n",
       "    <tr>\n",
       "      <th>Residual</th>\n",
       "      <td>5.196944e+12</td>\n",
       "      <td>1091.0</td>\n",
       "      <td>NaN</td>\n",
       "      <td>NaN</td>\n",
       "    </tr>\n",
       "  </tbody>\n",
       "</table>\n",
       "</div>"
      ],
      "text/plain": [
       "                      sum_sq      df        F        PR(>F)\n",
       "C(LotFrontage)  3.147630e+12   109.0  6.06225  1.924845e-58\n",
       "Residual        5.196944e+12  1091.0      NaN           NaN"
      ]
     },
     "execution_count": 20,
     "metadata": {},
     "output_type": "execute_result"
    }
   ],
   "source": [
    "df_misc = df[['SalePrice','LotFrontage']].notnull()\n",
    "\n",
    "model = ols('SalePrice ~ C(LotFrontage)', data = df).fit()\n",
    "anova_table = sm.stats.anova_lm(model, typ=2)\n",
    "anova_table"
   ]
  },
  {
   "cell_type": "code",
   "execution_count": 21,
   "id": "555c17d6-de46-4163-977f-512ccc8c4b62",
   "metadata": {},
   "outputs": [
    {
     "data": {
      "text/html": [
       "<div>\n",
       "<style scoped>\n",
       "    .dataframe tbody tr th:only-of-type {\n",
       "        vertical-align: middle;\n",
       "    }\n",
       "\n",
       "    .dataframe tbody tr th {\n",
       "        vertical-align: top;\n",
       "    }\n",
       "\n",
       "    .dataframe thead th {\n",
       "        text-align: right;\n",
       "    }\n",
       "</style>\n",
       "<table border=\"1\" class=\"dataframe\">\n",
       "  <thead>\n",
       "    <tr style=\"text-align: right;\">\n",
       "      <th></th>\n",
       "      <th>sum_sq</th>\n",
       "      <th>df</th>\n",
       "      <th>F</th>\n",
       "      <th>PR(&gt;F)</th>\n",
       "    </tr>\n",
       "  </thead>\n",
       "  <tbody>\n",
       "    <tr>\n",
       "      <th>C(LotArea)</th>\n",
       "      <td>8.463582e+12</td>\n",
       "      <td>1072.0</td>\n",
       "      <td>4.104925</td>\n",
       "      <td>6.590820e-50</td>\n",
       "    </tr>\n",
       "    <tr>\n",
       "      <th>Residual</th>\n",
       "      <td>7.443294e+11</td>\n",
       "      <td>387.0</td>\n",
       "      <td>NaN</td>\n",
       "      <td>NaN</td>\n",
       "    </tr>\n",
       "  </tbody>\n",
       "</table>\n",
       "</div>"
      ],
      "text/plain": [
       "                  sum_sq      df         F        PR(>F)\n",
       "C(LotArea)  8.463582e+12  1072.0  4.104925  6.590820e-50\n",
       "Residual    7.443294e+11   387.0       NaN           NaN"
      ]
     },
     "execution_count": 21,
     "metadata": {},
     "output_type": "execute_result"
    }
   ],
   "source": [
    "df_misc = df[['SalePrice','LotArea']].notnull()\n",
    "\n",
    "model = ols('SalePrice ~ C(LotArea)', data = df).fit()\n",
    "anova_table = sm.stats.anova_lm(model, typ=2)\n",
    "anova_table"
   ]
  },
  {
   "cell_type": "code",
   "execution_count": 22,
   "id": "177b2b1b-07b2-4291-b50f-ac58cf3a28e2",
   "metadata": {},
   "outputs": [
    {
     "data": {
      "text/plain": [
       "0"
      ]
     },
     "execution_count": 22,
     "metadata": {},
     "output_type": "execute_result"
    }
   ],
   "source": [
    "df.LotArea.isnull().sum()"
   ]
  },
  {
   "cell_type": "markdown",
   "id": "a34314ec-dc68-407b-b1c2-46865e72deba",
   "metadata": {},
   "source": [
    "After the analysis the 6 variables with the major amount of null values will be dropped."
   ]
  },
  {
   "cell_type": "code",
   "execution_count": 23,
   "id": "be444157-2365-42d0-ab04-52cbac6bd428",
   "metadata": {},
   "outputs": [
    {
     "data": {
      "text/plain": [
       "(1460, 75)"
      ]
     },
     "execution_count": 23,
     "metadata": {},
     "output_type": "execute_result"
    }
   ],
   "source": [
    "#The p-value and the ANOVA test for Pool Area, denote its statistical importance. PoolQC will be dropped. \n",
    "\n",
    "df_1 = df.drop(['PoolQC','MiscFeature','Alley','Fence','FireplaceQu','LotFrontage'],axis = 1)\n",
    "df_1.shape"
   ]
  },
  {
   "cell_type": "code",
   "execution_count": 24,
   "id": "460087fd-521f-4aad-bd3b-8c0592873ca7",
   "metadata": {},
   "outputs": [
    {
     "data": {
      "text/plain": [
       "(1460, 75)"
      ]
     },
     "execution_count": 24,
     "metadata": {},
     "output_type": "execute_result"
    }
   ],
   "source": [
    "df_1.shape"
   ]
  },
  {
   "cell_type": "markdown",
   "id": "786e8b42-52d4-4d40-af87-c5a00527017a",
   "metadata": {},
   "source": [
    "        2.2 Treatment of Variables with Minor amount of null values"
   ]
  },
  {
   "cell_type": "markdown",
   "id": "4c3e221e-06dd-4505-ba7e-202139702e2e",
   "metadata": {},
   "source": [
    "            2.2.1 Garage"
   ]
  },
  {
   "cell_type": "markdown",
   "id": "6259ae39-66c2-4d07-97c1-4f162948b9c7",
   "metadata": {},
   "source": [
    "- GarageType: Garage location*\n",
    "- GarageYrBlt: Year garage was built *\n",
    "- GarageFinish: Interior finish of the garage*\n",
    "- GarageCars: Size of garage in car capacity\n",
    "- GarageArea: Size of garage in square feet\n",
    "- GarageQual: Garage quality*\n",
    "- GarageCond: Garage condition*"
   ]
  },
  {
   "cell_type": "code",
   "execution_count": 25,
   "id": "13386a94-2775-4abc-af29-e3ac3abf2ef2",
   "metadata": {},
   "outputs": [
    {
     "data": {
      "text/html": [
       "<div>\n",
       "<style scoped>\n",
       "    .dataframe tbody tr th:only-of-type {\n",
       "        vertical-align: middle;\n",
       "    }\n",
       "\n",
       "    .dataframe tbody tr th {\n",
       "        vertical-align: top;\n",
       "    }\n",
       "\n",
       "    .dataframe thead th {\n",
       "        text-align: right;\n",
       "    }\n",
       "</style>\n",
       "<table border=\"1\" class=\"dataframe\">\n",
       "  <thead>\n",
       "    <tr style=\"text-align: right;\">\n",
       "      <th></th>\n",
       "      <th>GarageType</th>\n",
       "      <th>GarageFinish</th>\n",
       "      <th>GarageQual</th>\n",
       "      <th>GarageCond</th>\n",
       "    </tr>\n",
       "  </thead>\n",
       "  <tbody>\n",
       "    <tr>\n",
       "      <th>0</th>\n",
       "      <td>Attchd</td>\n",
       "      <td>RFn</td>\n",
       "      <td>TA</td>\n",
       "      <td>TA</td>\n",
       "    </tr>\n",
       "    <tr>\n",
       "      <th>1</th>\n",
       "      <td>Attchd</td>\n",
       "      <td>RFn</td>\n",
       "      <td>TA</td>\n",
       "      <td>TA</td>\n",
       "    </tr>\n",
       "    <tr>\n",
       "      <th>2</th>\n",
       "      <td>Attchd</td>\n",
       "      <td>RFn</td>\n",
       "      <td>TA</td>\n",
       "      <td>TA</td>\n",
       "    </tr>\n",
       "  </tbody>\n",
       "</table>\n",
       "</div>"
      ],
      "text/plain": [
       "  GarageType GarageFinish GarageQual GarageCond\n",
       "0     Attchd          RFn         TA         TA\n",
       "1     Attchd          RFn         TA         TA\n",
       "2     Attchd          RFn         TA         TA"
      ]
     },
     "execution_count": 25,
     "metadata": {},
     "output_type": "execute_result"
    }
   ],
   "source": [
    "df_1[['GarageType', 'GarageFinish', 'GarageQual','GarageCond']].head(3)"
   ]
  },
  {
   "cell_type": "code",
   "execution_count": 26,
   "id": "c3fb4c8b-7961-4e7a-b16d-0868b1315bb1",
   "metadata": {},
   "outputs": [
    {
     "data": {
      "text/html": [
       "<div>\n",
       "<style scoped>\n",
       "    .dataframe tbody tr th:only-of-type {\n",
       "        vertical-align: middle;\n",
       "    }\n",
       "\n",
       "    .dataframe tbody tr th {\n",
       "        vertical-align: top;\n",
       "    }\n",
       "\n",
       "    .dataframe thead th {\n",
       "        text-align: right;\n",
       "    }\n",
       "</style>\n",
       "<table border=\"1\" class=\"dataframe\">\n",
       "  <thead>\n",
       "    <tr style=\"text-align: right;\">\n",
       "      <th></th>\n",
       "      <th>sum_sq</th>\n",
       "      <th>df</th>\n",
       "      <th>F</th>\n",
       "      <th>PR(&gt;F)</th>\n",
       "    </tr>\n",
       "  </thead>\n",
       "  <tbody>\n",
       "    <tr>\n",
       "      <th>C(GarageQual)</th>\n",
       "      <td>2.332568e+11</td>\n",
       "      <td>4.0</td>\n",
       "      <td>9.570389</td>\n",
       "      <td>1.240803e-07</td>\n",
       "    </tr>\n",
       "    <tr>\n",
       "      <th>Residual</th>\n",
       "      <td>8.372044e+12</td>\n",
       "      <td>1374.0</td>\n",
       "      <td>NaN</td>\n",
       "      <td>NaN</td>\n",
       "    </tr>\n",
       "  </tbody>\n",
       "</table>\n",
       "</div>"
      ],
      "text/plain": [
       "                     sum_sq      df         F        PR(>F)\n",
       "C(GarageQual)  2.332568e+11     4.0  9.570389  1.240803e-07\n",
       "Residual       8.372044e+12  1374.0       NaN           NaN"
      ]
     },
     "execution_count": 26,
     "metadata": {},
     "output_type": "execute_result"
    }
   ],
   "source": [
    "df_gar = df[['GarageType','GarageYrBlt', 'GarageFinish', 'GarageCars', 'GarageArea', 'GarageQual','GarageCond']][df.GarageQual.notnull()]\n",
    "\n",
    "model = ols('SalePrice ~ C(GarageQual)', data = df).fit()\n",
    "anova_table = sm.stats.anova_lm(model, typ=2)\n",
    "anova_table"
   ]
  },
  {
   "cell_type": "code",
   "execution_count": 27,
   "id": "d3f19793-61f0-4d57-b9de-738e60f92029",
   "metadata": {},
   "outputs": [
    {
     "data": {
      "text/plain": [
       "array(['Attchd', 'Detchd', 'BuiltIn', 'CarPort', nan, 'Basment', '2Types'],\n",
       "      dtype=object)"
      ]
     },
     "execution_count": 27,
     "metadata": {},
     "output_type": "execute_result"
    }
   ],
   "source": [
    "df_1.GarageType.unique()"
   ]
  },
  {
   "cell_type": "code",
   "execution_count": 28,
   "id": "0dff217e-4235-4ee7-9c47-00347da6a269",
   "metadata": {},
   "outputs": [
    {
     "data": {
      "text/plain": [
       "array(['RFn', 'Unf', 'Fin', nan], dtype=object)"
      ]
     },
     "execution_count": 28,
     "metadata": {},
     "output_type": "execute_result"
    }
   ],
   "source": [
    "df_1.GarageFinish.unique()"
   ]
  },
  {
   "cell_type": "code",
   "execution_count": 29,
   "id": "476e3bec-4624-42fa-aeda-86cd87040a24",
   "metadata": {},
   "outputs": [
    {
     "data": {
      "text/plain": [
       "array(['TA', 'Fa', 'Gd', nan, 'Ex', 'Po'], dtype=object)"
      ]
     },
     "execution_count": 29,
     "metadata": {},
     "output_type": "execute_result"
    }
   ],
   "source": [
    "df_1.GarageQual.unique()"
   ]
  },
  {
   "cell_type": "code",
   "execution_count": 30,
   "id": "eec39e10-b398-4c2c-adaf-a4b0597a27e6",
   "metadata": {},
   "outputs": [
    {
     "data": {
      "text/plain": [
       "(1460, 74)"
      ]
     },
     "execution_count": 30,
     "metadata": {},
     "output_type": "execute_result"
    }
   ],
   "source": [
    "df_1 = df_1.drop(['GarageYrBlt'],axis = 1)\n",
    "df_1.shape"
   ]
  },
  {
   "cell_type": "code",
   "execution_count": 31,
   "id": "4de80fef-8e3f-417a-9099-ac612b09e12f",
   "metadata": {},
   "outputs": [],
   "source": [
    "garage = ['GarageType', 'GarageFinish', 'GarageCars', 'GarageArea', 'GarageQual','GarageCond']\n",
    "\n",
    "for column in garage:\n",
    "    df_1[column] = df_1[column].fillna('None')"
   ]
  },
  {
   "cell_type": "code",
   "execution_count": 32,
   "id": "79f4990d-2044-48f2-acfc-3452e10b0642",
   "metadata": {},
   "outputs": [
    {
     "data": {
      "text/plain": [
       "array(['TA', 'Fa', 'Gd', 'None', 'Ex', 'Po'], dtype=object)"
      ]
     },
     "execution_count": 32,
     "metadata": {},
     "output_type": "execute_result"
    }
   ],
   "source": [
    "df_1.GarageQual.unique()"
   ]
  },
  {
   "cell_type": "markdown",
   "id": "6475f86d-9ea8-4c8e-99b4-88fbffc87912",
   "metadata": {},
   "source": [
    "            2.2.2 Basement"
   ]
  },
  {
   "cell_type": "markdown",
   "id": "0f24eab6-8507-4289-a32d-9038d7421e4a",
   "metadata": {},
   "source": [
    "- BsmtFinType2: Quality of second finished area (if present)    \n",
    "- BsmtExposure : Walkout or garden level basement walls \n",
    "- BsmtQual : Height of the basement\n",
    "- BsmtCond : General condition of the basement     \n",
    "- BsmtFinType1 : Quality of basement finished area"
   ]
  },
  {
   "cell_type": "code",
   "execution_count": 33,
   "id": "364ccdfc-32e8-4589-8991-64fd2031d495",
   "metadata": {},
   "outputs": [
    {
     "data": {
      "text/html": [
       "<div>\n",
       "<style scoped>\n",
       "    .dataframe tbody tr th:only-of-type {\n",
       "        vertical-align: middle;\n",
       "    }\n",
       "\n",
       "    .dataframe tbody tr th {\n",
       "        vertical-align: top;\n",
       "    }\n",
       "\n",
       "    .dataframe thead th {\n",
       "        text-align: right;\n",
       "    }\n",
       "</style>\n",
       "<table border=\"1\" class=\"dataframe\">\n",
       "  <thead>\n",
       "    <tr style=\"text-align: right;\">\n",
       "      <th></th>\n",
       "      <th>BsmtFinType2</th>\n",
       "      <th>BsmtFinType1</th>\n",
       "      <th>BsmtExposure</th>\n",
       "      <th>BsmtQual</th>\n",
       "      <th>BsmtCond</th>\n",
       "    </tr>\n",
       "  </thead>\n",
       "  <tbody>\n",
       "    <tr>\n",
       "      <th>0</th>\n",
       "      <td>Unf</td>\n",
       "      <td>GLQ</td>\n",
       "      <td>No</td>\n",
       "      <td>Gd</td>\n",
       "      <td>TA</td>\n",
       "    </tr>\n",
       "    <tr>\n",
       "      <th>1</th>\n",
       "      <td>Unf</td>\n",
       "      <td>ALQ</td>\n",
       "      <td>Gd</td>\n",
       "      <td>Gd</td>\n",
       "      <td>TA</td>\n",
       "    </tr>\n",
       "    <tr>\n",
       "      <th>2</th>\n",
       "      <td>Unf</td>\n",
       "      <td>GLQ</td>\n",
       "      <td>Mn</td>\n",
       "      <td>Gd</td>\n",
       "      <td>TA</td>\n",
       "    </tr>\n",
       "  </tbody>\n",
       "</table>\n",
       "</div>"
      ],
      "text/plain": [
       "  BsmtFinType2 BsmtFinType1 BsmtExposure BsmtQual BsmtCond\n",
       "0          Unf          GLQ           No       Gd       TA\n",
       "1          Unf          ALQ           Gd       Gd       TA\n",
       "2          Unf          GLQ           Mn       Gd       TA"
      ]
     },
     "execution_count": 33,
     "metadata": {},
     "output_type": "execute_result"
    }
   ],
   "source": [
    "df_1[['BsmtFinType2', 'BsmtFinType1', 'BsmtExposure','BsmtQual','BsmtCond']].head(3)"
   ]
  },
  {
   "cell_type": "code",
   "execution_count": 34,
   "id": "dff45504-45e8-4802-85ad-3138d169a401",
   "metadata": {},
   "outputs": [
    {
     "data": {
      "text/html": [
       "<div>\n",
       "<style scoped>\n",
       "    .dataframe tbody tr th:only-of-type {\n",
       "        vertical-align: middle;\n",
       "    }\n",
       "\n",
       "    .dataframe tbody tr th {\n",
       "        vertical-align: top;\n",
       "    }\n",
       "\n",
       "    .dataframe thead th {\n",
       "        text-align: right;\n",
       "    }\n",
       "</style>\n",
       "<table border=\"1\" class=\"dataframe\">\n",
       "  <thead>\n",
       "    <tr style=\"text-align: right;\">\n",
       "      <th></th>\n",
       "      <th>sum_sq</th>\n",
       "      <th>df</th>\n",
       "      <th>F</th>\n",
       "      <th>PR(&gt;F)</th>\n",
       "    </tr>\n",
       "  </thead>\n",
       "  <tbody>\n",
       "    <tr>\n",
       "      <th>C(BsmtQual)</th>\n",
       "      <td>4.066554e+12</td>\n",
       "      <td>3.0</td>\n",
       "      <td>392.913506</td>\n",
       "      <td>9.610615e-186</td>\n",
       "    </tr>\n",
       "    <tr>\n",
       "      <th>Residual</th>\n",
       "      <td>4.895429e+12</td>\n",
       "      <td>1419.0</td>\n",
       "      <td>NaN</td>\n",
       "      <td>NaN</td>\n",
       "    </tr>\n",
       "  </tbody>\n",
       "</table>\n",
       "</div>"
      ],
      "text/plain": [
       "                   sum_sq      df           F         PR(>F)\n",
       "C(BsmtQual)  4.066554e+12     3.0  392.913506  9.610615e-186\n",
       "Residual     4.895429e+12  1419.0         NaN            NaN"
      ]
     },
     "execution_count": 34,
     "metadata": {},
     "output_type": "execute_result"
    }
   ],
   "source": [
    "df_bsmt = df[['BsmtFinType2', 'BsmtFinType1', 'BsmtExposure','BsmtQual','BsmtCond']][df.BsmtQual.notnull()]\n",
    "\n",
    "model = ols('SalePrice ~ C(BsmtQual)', data = df).fit()\n",
    "anova_table = sm.stats.anova_lm(model, typ=2)\n",
    "anova_table"
   ]
  },
  {
   "cell_type": "code",
   "execution_count": 35,
   "id": "b39879fa-f57c-453d-b63a-d2b5f6a15a36",
   "metadata": {},
   "outputs": [],
   "source": [
    "bsmt = ['BsmtFinType2', 'BsmtFinType1', 'BsmtExposure','BsmtQual','BsmtCond']\n",
    "\n",
    "for column in bsmt:\n",
    "    df_1[column] = df_1[column].fillna('None')"
   ]
  },
  {
   "cell_type": "code",
   "execution_count": 36,
   "id": "d284a802-853d-4514-91ef-fce2df07f5bf",
   "metadata": {},
   "outputs": [
    {
     "data": {
      "text/plain": [
       "array(['Unf', 'BLQ', 'None', 'ALQ', 'Rec', 'LwQ', 'GLQ'], dtype=object)"
      ]
     },
     "execution_count": 36,
     "metadata": {},
     "output_type": "execute_result"
    }
   ],
   "source": [
    "df_1.BsmtFinType2.unique()"
   ]
  },
  {
   "cell_type": "code",
   "execution_count": 37,
   "id": "9cb737f4-2b6f-47be-ab68-e9377b71e3d5",
   "metadata": {},
   "outputs": [
    {
     "data": {
      "text/plain": [
       "0"
      ]
     },
     "execution_count": 37,
     "metadata": {},
     "output_type": "execute_result"
    }
   ],
   "source": [
    "df_1.BsmtFinType2.isnull().sum()"
   ]
  },
  {
   "cell_type": "markdown",
   "id": "e87a1452-c63e-4958-a766-dd4727175a49",
   "metadata": {},
   "source": [
    "            2.2.3 Masonry"
   ]
  },
  {
   "cell_type": "markdown",
   "id": "685d22bd-393a-4c28-8f05-820d9819dd95",
   "metadata": {},
   "source": [
    "- MasVnrType: Masonry veneer type\n",
    "- MasVnrArea: Masonry veneer area in square feet "
   ]
  },
  {
   "cell_type": "code",
   "execution_count": 38,
   "id": "8b6ffbdf-0813-49bc-8577-b41d3ad61a35",
   "metadata": {},
   "outputs": [
    {
     "data": {
      "text/html": [
       "<div>\n",
       "<style scoped>\n",
       "    .dataframe tbody tr th:only-of-type {\n",
       "        vertical-align: middle;\n",
       "    }\n",
       "\n",
       "    .dataframe tbody tr th {\n",
       "        vertical-align: top;\n",
       "    }\n",
       "\n",
       "    .dataframe thead th {\n",
       "        text-align: right;\n",
       "    }\n",
       "</style>\n",
       "<table border=\"1\" class=\"dataframe\">\n",
       "  <thead>\n",
       "    <tr style=\"text-align: right;\">\n",
       "      <th></th>\n",
       "      <th>MasVnrType</th>\n",
       "      <th>MasVnrArea</th>\n",
       "    </tr>\n",
       "  </thead>\n",
       "  <tbody>\n",
       "    <tr>\n",
       "      <th>0</th>\n",
       "      <td>BrkFace</td>\n",
       "      <td>196.0</td>\n",
       "    </tr>\n",
       "    <tr>\n",
       "      <th>1</th>\n",
       "      <td>None</td>\n",
       "      <td>0.0</td>\n",
       "    </tr>\n",
       "    <tr>\n",
       "      <th>2</th>\n",
       "      <td>BrkFace</td>\n",
       "      <td>162.0</td>\n",
       "    </tr>\n",
       "  </tbody>\n",
       "</table>\n",
       "</div>"
      ],
      "text/plain": [
       "  MasVnrType  MasVnrArea\n",
       "0    BrkFace       196.0\n",
       "1       None         0.0\n",
       "2    BrkFace       162.0"
      ]
     },
     "execution_count": 38,
     "metadata": {},
     "output_type": "execute_result"
    }
   ],
   "source": [
    "df_1[['MasVnrType', 'MasVnrArea']].head(3)"
   ]
  },
  {
   "cell_type": "code",
   "execution_count": 39,
   "id": "6d5042e0-45f3-4007-9f33-03e388ddac68",
   "metadata": {},
   "outputs": [],
   "source": [
    "df_1['MasVnrType'] = df_1['MasVnrType'].fillna('None')\n",
    "df_1['MasVnrArea'] = df_1['MasVnrArea'].fillna(0)"
   ]
  },
  {
   "cell_type": "markdown",
   "id": "262357d1-c661-4a32-916e-bf5a3abf2ddb",
   "metadata": {},
   "source": [
    "             2.2.4 Electrical"
   ]
  },
  {
   "cell_type": "code",
   "execution_count": 40,
   "id": "43dec2f1-8b50-4680-87c2-763dea119a34",
   "metadata": {},
   "outputs": [
    {
     "data": {
      "text/plain": [
       "0    SBrkr\n",
       "1    SBrkr\n",
       "2    SBrkr\n",
       "3    SBrkr\n",
       "4    SBrkr\n",
       "Name: Electrical, dtype: object"
      ]
     },
     "execution_count": 40,
     "metadata": {},
     "output_type": "execute_result"
    }
   ],
   "source": [
    "df_1.Electrical.head()"
   ]
  },
  {
   "cell_type": "code",
   "execution_count": 41,
   "id": "08211624-b5a9-4738-9fa4-14db7df6b012",
   "metadata": {},
   "outputs": [
    {
     "data": {
      "text/plain": [
       "array(['SBrkr', 'FuseF', 'FuseA', 'FuseP', 'Mix', nan], dtype=object)"
      ]
     },
     "execution_count": 41,
     "metadata": {},
     "output_type": "execute_result"
    }
   ],
   "source": [
    "df_1.Electrical.unique()"
   ]
  },
  {
   "cell_type": "code",
   "execution_count": 42,
   "id": "f5db2d3b-5349-484d-af13-d4f58df94940",
   "metadata": {},
   "outputs": [
    {
     "data": {
      "text/html": [
       "<div>\n",
       "<style scoped>\n",
       "    .dataframe tbody tr th:only-of-type {\n",
       "        vertical-align: middle;\n",
       "    }\n",
       "\n",
       "    .dataframe tbody tr th {\n",
       "        vertical-align: top;\n",
       "    }\n",
       "\n",
       "    .dataframe thead th {\n",
       "        text-align: right;\n",
       "    }\n",
       "</style>\n",
       "<table border=\"1\" class=\"dataframe\">\n",
       "  <thead>\n",
       "    <tr style=\"text-align: right;\">\n",
       "      <th></th>\n",
       "      <th>sum_sq</th>\n",
       "      <th>df</th>\n",
       "      <th>F</th>\n",
       "      <th>PR(&gt;F)</th>\n",
       "    </tr>\n",
       "  </thead>\n",
       "  <tbody>\n",
       "    <tr>\n",
       "      <th>C(Electrical)</th>\n",
       "      <td>5.494534e+11</td>\n",
       "      <td>4.0</td>\n",
       "      <td>23.067673</td>\n",
       "      <td>1.663249e-18</td>\n",
       "    </tr>\n",
       "    <tr>\n",
       "      <th>Residual</th>\n",
       "      <td>8.658278e+12</td>\n",
       "      <td>1454.0</td>\n",
       "      <td>NaN</td>\n",
       "      <td>NaN</td>\n",
       "    </tr>\n",
       "  </tbody>\n",
       "</table>\n",
       "</div>"
      ],
      "text/plain": [
       "                     sum_sq      df          F        PR(>F)\n",
       "C(Electrical)  5.494534e+11     4.0  23.067673  1.663249e-18\n",
       "Residual       8.658278e+12  1454.0        NaN           NaN"
      ]
     },
     "execution_count": 42,
     "metadata": {},
     "output_type": "execute_result"
    }
   ],
   "source": [
    "df_pool = df_1[['Electrical', 'GarageFinish', 'GarageCars', 'GarageArea', 'GarageQual','GarageCond']][df_1.Electrical.notnull()]\n",
    "\n",
    "model = ols('SalePrice ~ C(Electrical)', data = df).fit()\n",
    "anova_table = sm.stats.anova_lm(model, typ=2)\n",
    "anova_table"
   ]
  },
  {
   "cell_type": "code",
   "execution_count": 43,
   "id": "53f5cf92-8c5f-4999-a31c-0207759679be",
   "metadata": {},
   "outputs": [],
   "source": [
    "df_1['Electrical'] = df_1['Electrical'].fillna('None')"
   ]
  },
  {
   "cell_type": "code",
   "execution_count": 44,
   "id": "eb7bc13d-7dd8-4206-b474-1e0e494369e0",
   "metadata": {},
   "outputs": [
    {
     "data": {
      "text/plain": [
       "array(['SBrkr', 'FuseF', 'FuseA', 'FuseP', 'Mix', 'None'], dtype=object)"
      ]
     },
     "execution_count": 44,
     "metadata": {},
     "output_type": "execute_result"
    }
   ],
   "source": [
    "df_1.Electrical.unique()"
   ]
  },
  {
   "cell_type": "code",
   "execution_count": 45,
   "id": "e237c89e-09a7-46d0-b64e-a231775a983c",
   "metadata": {},
   "outputs": [
    {
     "data": {
      "text/plain": [
       "0"
      ]
     },
     "execution_count": 45,
     "metadata": {},
     "output_type": "execute_result"
    }
   ],
   "source": [
    "df_1.Electrical.isnull().sum()"
   ]
  },
  {
   "cell_type": "code",
   "execution_count": 46,
   "id": "dff5c874-994b-48c2-8b9e-1052fbad219c",
   "metadata": {},
   "outputs": [
    {
     "name": "stdout",
     "output_type": "stream",
     "text": [
      "<class 'pandas.core.frame.DataFrame'>\n",
      "RangeIndex: 1460 entries, 0 to 1459\n",
      "Data columns (total 74 columns):\n",
      " #   Column         Non-Null Count  Dtype  \n",
      "---  ------         --------------  -----  \n",
      " 0   Id             1460 non-null   int64  \n",
      " 1   MSSubClass     1460 non-null   int64  \n",
      " 2   MSZoning       1460 non-null   object \n",
      " 3   LotArea        1460 non-null   int64  \n",
      " 4   Street         1460 non-null   object \n",
      " 5   LotShape       1460 non-null   object \n",
      " 6   LandContour    1460 non-null   object \n",
      " 7   Utilities      1460 non-null   object \n",
      " 8   LotConfig      1460 non-null   object \n",
      " 9   LandSlope      1460 non-null   object \n",
      " 10  Neighborhood   1460 non-null   object \n",
      " 11  Condition1     1460 non-null   object \n",
      " 12  Condition2     1460 non-null   object \n",
      " 13  BldgType       1460 non-null   object \n",
      " 14  HouseStyle     1460 non-null   object \n",
      " 15  OverallQual    1460 non-null   int64  \n",
      " 16  OverallCond    1460 non-null   int64  \n",
      " 17  YearBuilt      1460 non-null   int64  \n",
      " 18  YearRemodAdd   1460 non-null   int64  \n",
      " 19  RoofStyle      1460 non-null   object \n",
      " 20  RoofMatl       1460 non-null   object \n",
      " 21  Exterior1st    1460 non-null   object \n",
      " 22  Exterior2nd    1460 non-null   object \n",
      " 23  MasVnrType     1460 non-null   object \n",
      " 24  MasVnrArea     1460 non-null   float64\n",
      " 25  ExterQual      1460 non-null   object \n",
      " 26  ExterCond      1460 non-null   object \n",
      " 27  Foundation     1460 non-null   object \n",
      " 28  BsmtQual       1460 non-null   object \n",
      " 29  BsmtCond       1460 non-null   object \n",
      " 30  BsmtExposure   1460 non-null   object \n",
      " 31  BsmtFinType1   1460 non-null   object \n",
      " 32  BsmtFinSF1     1460 non-null   int64  \n",
      " 33  BsmtFinType2   1460 non-null   object \n",
      " 34  BsmtFinSF2     1460 non-null   int64  \n",
      " 35  BsmtUnfSF      1460 non-null   int64  \n",
      " 36  TotalBsmtSF    1460 non-null   int64  \n",
      " 37  Heating        1460 non-null   object \n",
      " 38  HeatingQC      1460 non-null   object \n",
      " 39  CentralAir     1460 non-null   object \n",
      " 40  Electrical     1460 non-null   object \n",
      " 41  1stFlrSF       1460 non-null   int64  \n",
      " 42  2ndFlrSF       1460 non-null   int64  \n",
      " 43  LowQualFinSF   1460 non-null   int64  \n",
      " 44  GrLivArea      1460 non-null   int64  \n",
      " 45  BsmtFullBath   1460 non-null   int64  \n",
      " 46  BsmtHalfBath   1460 non-null   int64  \n",
      " 47  FullBath       1460 non-null   int64  \n",
      " 48  HalfBath       1460 non-null   int64  \n",
      " 49  BedroomAbvGr   1460 non-null   int64  \n",
      " 50  KitchenAbvGr   1460 non-null   int64  \n",
      " 51  KitchenQual    1460 non-null   object \n",
      " 52  TotRmsAbvGrd   1460 non-null   int64  \n",
      " 53  Functional     1460 non-null   object \n",
      " 54  Fireplaces     1460 non-null   int64  \n",
      " 55  GarageType     1460 non-null   object \n",
      " 56  GarageFinish   1460 non-null   object \n",
      " 57  GarageCars     1460 non-null   int64  \n",
      " 58  GarageArea     1460 non-null   int64  \n",
      " 59  GarageQual     1460 non-null   object \n",
      " 60  GarageCond     1460 non-null   object \n",
      " 61  PavedDrive     1460 non-null   object \n",
      " 62  WoodDeckSF     1460 non-null   int64  \n",
      " 63  OpenPorchSF    1460 non-null   int64  \n",
      " 64  EnclosedPorch  1460 non-null   int64  \n",
      " 65  3SsnPorch      1460 non-null   int64  \n",
      " 66  ScreenPorch    1460 non-null   int64  \n",
      " 67  PoolArea       1460 non-null   int64  \n",
      " 68  MiscVal        1460 non-null   int64  \n",
      " 69  MoSold         1460 non-null   int64  \n",
      " 70  YrSold         1460 non-null   int64  \n",
      " 71  SaleType       1460 non-null   object \n",
      " 72  SaleCondition  1460 non-null   object \n",
      " 73  SalePrice      1460 non-null   int64  \n",
      "dtypes: float64(1), int64(35), object(38)\n",
      "memory usage: 844.2+ KB\n"
     ]
    }
   ],
   "source": [
    "df_1.info()"
   ]
  },
  {
   "cell_type": "markdown",
   "id": "1bc650c8-2ad9-404b-b24e-8f56dfb97640",
   "metadata": {},
   "source": [
    "## 3. Correlations"
   ]
  },
  {
   "cell_type": "markdown",
   "id": "5f83cf28-5558-4546-a88a-db088ae3050d",
   "metadata": {},
   "source": [
    "In order to select the most important variables to the SalePrice, the correlation of the whole df to SalePrice will be obtained. "
   ]
  },
  {
   "cell_type": "code",
   "execution_count": 80,
   "id": "2957af2e-bf3b-43ae-a8a5-e7e65fd5a775",
   "metadata": {},
   "outputs": [
    {
     "data": {
      "text/html": [
       "<div>\n",
       "<style scoped>\n",
       "    .dataframe tbody tr th:only-of-type {\n",
       "        vertical-align: middle;\n",
       "    }\n",
       "\n",
       "    .dataframe tbody tr th {\n",
       "        vertical-align: top;\n",
       "    }\n",
       "\n",
       "    .dataframe thead th {\n",
       "        text-align: right;\n",
       "    }\n",
       "</style>\n",
       "<table border=\"1\" class=\"dataframe\">\n",
       "  <thead>\n",
       "    <tr style=\"text-align: right;\">\n",
       "      <th></th>\n",
       "      <th>index</th>\n",
       "      <th>SalePrice</th>\n",
       "    </tr>\n",
       "  </thead>\n",
       "  <tbody>\n",
       "    <tr>\n",
       "      <th>0</th>\n",
       "      <td>SalePrice</td>\n",
       "      <td>1.000000</td>\n",
       "    </tr>\n",
       "    <tr>\n",
       "      <th>1</th>\n",
       "      <td>OverallQual</td>\n",
       "      <td>0.790982</td>\n",
       "    </tr>\n",
       "    <tr>\n",
       "      <th>2</th>\n",
       "      <td>GrLivArea</td>\n",
       "      <td>0.708624</td>\n",
       "    </tr>\n",
       "    <tr>\n",
       "      <th>3</th>\n",
       "      <td>GarageCars</td>\n",
       "      <td>0.640409</td>\n",
       "    </tr>\n",
       "    <tr>\n",
       "      <th>4</th>\n",
       "      <td>GarageArea</td>\n",
       "      <td>0.623431</td>\n",
       "    </tr>\n",
       "    <tr>\n",
       "      <th>5</th>\n",
       "      <td>TotalBsmtSF</td>\n",
       "      <td>0.613581</td>\n",
       "    </tr>\n",
       "    <tr>\n",
       "      <th>6</th>\n",
       "      <td>1stFlrSF</td>\n",
       "      <td>0.605852</td>\n",
       "    </tr>\n",
       "    <tr>\n",
       "      <th>7</th>\n",
       "      <td>FullBath</td>\n",
       "      <td>0.560664</td>\n",
       "    </tr>\n",
       "    <tr>\n",
       "      <th>8</th>\n",
       "      <td>TotRmsAbvGrd</td>\n",
       "      <td>0.533723</td>\n",
       "    </tr>\n",
       "    <tr>\n",
       "      <th>9</th>\n",
       "      <td>YearBuilt</td>\n",
       "      <td>0.522897</td>\n",
       "    </tr>\n",
       "    <tr>\n",
       "      <th>10</th>\n",
       "      <td>YearRemodAdd</td>\n",
       "      <td>0.507101</td>\n",
       "    </tr>\n",
       "    <tr>\n",
       "      <th>11</th>\n",
       "      <td>MasVnrArea</td>\n",
       "      <td>0.472614</td>\n",
       "    </tr>\n",
       "    <tr>\n",
       "      <th>12</th>\n",
       "      <td>Fireplaces</td>\n",
       "      <td>0.466929</td>\n",
       "    </tr>\n",
       "    <tr>\n",
       "      <th>13</th>\n",
       "      <td>BsmtFinSF1</td>\n",
       "      <td>0.386420</td>\n",
       "    </tr>\n",
       "    <tr>\n",
       "      <th>14</th>\n",
       "      <td>WoodDeckSF</td>\n",
       "      <td>0.324413</td>\n",
       "    </tr>\n",
       "    <tr>\n",
       "      <th>15</th>\n",
       "      <td>2ndFlrSF</td>\n",
       "      <td>0.319334</td>\n",
       "    </tr>\n",
       "    <tr>\n",
       "      <th>16</th>\n",
       "      <td>OpenPorchSF</td>\n",
       "      <td>0.315856</td>\n",
       "    </tr>\n",
       "    <tr>\n",
       "      <th>17</th>\n",
       "      <td>HalfBath</td>\n",
       "      <td>0.284108</td>\n",
       "    </tr>\n",
       "    <tr>\n",
       "      <th>18</th>\n",
       "      <td>LotArea</td>\n",
       "      <td>0.263843</td>\n",
       "    </tr>\n",
       "    <tr>\n",
       "      <th>19</th>\n",
       "      <td>BsmtFullBath</td>\n",
       "      <td>0.227122</td>\n",
       "    </tr>\n",
       "    <tr>\n",
       "      <th>20</th>\n",
       "      <td>BsmtUnfSF</td>\n",
       "      <td>0.214479</td>\n",
       "    </tr>\n",
       "    <tr>\n",
       "      <th>21</th>\n",
       "      <td>BedroomAbvGr</td>\n",
       "      <td>0.168213</td>\n",
       "    </tr>\n",
       "    <tr>\n",
       "      <th>22</th>\n",
       "      <td>ScreenPorch</td>\n",
       "      <td>0.111447</td>\n",
       "    </tr>\n",
       "    <tr>\n",
       "      <th>23</th>\n",
       "      <td>PoolArea</td>\n",
       "      <td>0.092404</td>\n",
       "    </tr>\n",
       "    <tr>\n",
       "      <th>24</th>\n",
       "      <td>MoSold</td>\n",
       "      <td>0.046432</td>\n",
       "    </tr>\n",
       "    <tr>\n",
       "      <th>25</th>\n",
       "      <td>3SsnPorch</td>\n",
       "      <td>0.044584</td>\n",
       "    </tr>\n",
       "    <tr>\n",
       "      <th>26</th>\n",
       "      <td>BsmtFinSF2</td>\n",
       "      <td>-0.011378</td>\n",
       "    </tr>\n",
       "    <tr>\n",
       "      <th>27</th>\n",
       "      <td>BsmtHalfBath</td>\n",
       "      <td>-0.016844</td>\n",
       "    </tr>\n",
       "    <tr>\n",
       "      <th>28</th>\n",
       "      <td>MiscVal</td>\n",
       "      <td>-0.021190</td>\n",
       "    </tr>\n",
       "    <tr>\n",
       "      <th>29</th>\n",
       "      <td>LowQualFinSF</td>\n",
       "      <td>-0.025606</td>\n",
       "    </tr>\n",
       "    <tr>\n",
       "      <th>30</th>\n",
       "      <td>YrSold</td>\n",
       "      <td>-0.028923</td>\n",
       "    </tr>\n",
       "    <tr>\n",
       "      <th>31</th>\n",
       "      <td>OverallCond</td>\n",
       "      <td>-0.077856</td>\n",
       "    </tr>\n",
       "    <tr>\n",
       "      <th>32</th>\n",
       "      <td>MSSubClass</td>\n",
       "      <td>-0.084284</td>\n",
       "    </tr>\n",
       "    <tr>\n",
       "      <th>33</th>\n",
       "      <td>EnclosedPorch</td>\n",
       "      <td>-0.128578</td>\n",
       "    </tr>\n",
       "    <tr>\n",
       "      <th>34</th>\n",
       "      <td>KitchenAbvGr</td>\n",
       "      <td>-0.135907</td>\n",
       "    </tr>\n",
       "  </tbody>\n",
       "</table>\n",
       "</div>"
      ],
      "text/plain": [
       "            index  SalePrice\n",
       "0       SalePrice   1.000000\n",
       "1     OverallQual   0.790982\n",
       "2       GrLivArea   0.708624\n",
       "3      GarageCars   0.640409\n",
       "4      GarageArea   0.623431\n",
       "5     TotalBsmtSF   0.613581\n",
       "6        1stFlrSF   0.605852\n",
       "7        FullBath   0.560664\n",
       "8    TotRmsAbvGrd   0.533723\n",
       "9       YearBuilt   0.522897\n",
       "10   YearRemodAdd   0.507101\n",
       "11     MasVnrArea   0.472614\n",
       "12     Fireplaces   0.466929\n",
       "13     BsmtFinSF1   0.386420\n",
       "14     WoodDeckSF   0.324413\n",
       "15       2ndFlrSF   0.319334\n",
       "16    OpenPorchSF   0.315856\n",
       "17       HalfBath   0.284108\n",
       "18        LotArea   0.263843\n",
       "19   BsmtFullBath   0.227122\n",
       "20      BsmtUnfSF   0.214479\n",
       "21   BedroomAbvGr   0.168213\n",
       "22    ScreenPorch   0.111447\n",
       "23       PoolArea   0.092404\n",
       "24         MoSold   0.046432\n",
       "25      3SsnPorch   0.044584\n",
       "26     BsmtFinSF2  -0.011378\n",
       "27   BsmtHalfBath  -0.016844\n",
       "28        MiscVal  -0.021190\n",
       "29   LowQualFinSF  -0.025606\n",
       "30         YrSold  -0.028923\n",
       "31    OverallCond  -0.077856\n",
       "32     MSSubClass  -0.084284\n",
       "33  EnclosedPorch  -0.128578\n",
       "34   KitchenAbvGr  -0.135907"
      ]
     },
     "execution_count": 80,
     "metadata": {},
     "output_type": "execute_result"
    }
   ],
   "source": [
    "corr = df_1[df_1.columns[1:]].corr()['SalePrice'][:].sort_values(ascending = False).reset_index()\n",
    "corr"
   ]
  },
  {
   "cell_type": "code",
   "execution_count": 85,
   "id": "1a2f9ffd-707c-4083-9708-58753c08e7f7",
   "metadata": {},
   "outputs": [
    {
     "data": {
      "text/html": [
       "<div>\n",
       "<style scoped>\n",
       "    .dataframe tbody tr th:only-of-type {\n",
       "        vertical-align: middle;\n",
       "    }\n",
       "\n",
       "    .dataframe tbody tr th {\n",
       "        vertical-align: top;\n",
       "    }\n",
       "\n",
       "    .dataframe thead th {\n",
       "        text-align: right;\n",
       "    }\n",
       "</style>\n",
       "<table border=\"1\" class=\"dataframe\">\n",
       "  <thead>\n",
       "    <tr style=\"text-align: right;\">\n",
       "      <th></th>\n",
       "      <th>SalePrice</th>\n",
       "      <th>OverallQual</th>\n",
       "      <th>GrLivArea</th>\n",
       "      <th>GarageCars</th>\n",
       "      <th>GarageArea</th>\n",
       "      <th>TotalBsmtSF</th>\n",
       "      <th>1stFlrSF</th>\n",
       "      <th>FullBath</th>\n",
       "      <th>TotRmsAbvGrd</th>\n",
       "      <th>YearBuilt</th>\n",
       "      <th>YearRemodAdd</th>\n",
       "    </tr>\n",
       "  </thead>\n",
       "  <tbody>\n",
       "    <tr>\n",
       "      <th>0</th>\n",
       "      <td>208500</td>\n",
       "      <td>7</td>\n",
       "      <td>1710</td>\n",
       "      <td>2</td>\n",
       "      <td>548</td>\n",
       "      <td>856</td>\n",
       "      <td>856</td>\n",
       "      <td>2</td>\n",
       "      <td>8</td>\n",
       "      <td>2003</td>\n",
       "      <td>2003</td>\n",
       "    </tr>\n",
       "    <tr>\n",
       "      <th>1</th>\n",
       "      <td>181500</td>\n",
       "      <td>6</td>\n",
       "      <td>1262</td>\n",
       "      <td>2</td>\n",
       "      <td>460</td>\n",
       "      <td>1262</td>\n",
       "      <td>1262</td>\n",
       "      <td>2</td>\n",
       "      <td>6</td>\n",
       "      <td>1976</td>\n",
       "      <td>1976</td>\n",
       "    </tr>\n",
       "    <tr>\n",
       "      <th>2</th>\n",
       "      <td>223500</td>\n",
       "      <td>7</td>\n",
       "      <td>1786</td>\n",
       "      <td>2</td>\n",
       "      <td>608</td>\n",
       "      <td>920</td>\n",
       "      <td>920</td>\n",
       "      <td>2</td>\n",
       "      <td>6</td>\n",
       "      <td>2001</td>\n",
       "      <td>2002</td>\n",
       "    </tr>\n",
       "    <tr>\n",
       "      <th>3</th>\n",
       "      <td>140000</td>\n",
       "      <td>7</td>\n",
       "      <td>1717</td>\n",
       "      <td>3</td>\n",
       "      <td>642</td>\n",
       "      <td>756</td>\n",
       "      <td>961</td>\n",
       "      <td>1</td>\n",
       "      <td>7</td>\n",
       "      <td>1915</td>\n",
       "      <td>1970</td>\n",
       "    </tr>\n",
       "    <tr>\n",
       "      <th>4</th>\n",
       "      <td>250000</td>\n",
       "      <td>8</td>\n",
       "      <td>2198</td>\n",
       "      <td>3</td>\n",
       "      <td>836</td>\n",
       "      <td>1145</td>\n",
       "      <td>1145</td>\n",
       "      <td>2</td>\n",
       "      <td>9</td>\n",
       "      <td>2000</td>\n",
       "      <td>2000</td>\n",
       "    </tr>\n",
       "    <tr>\n",
       "      <th>...</th>\n",
       "      <td>...</td>\n",
       "      <td>...</td>\n",
       "      <td>...</td>\n",
       "      <td>...</td>\n",
       "      <td>...</td>\n",
       "      <td>...</td>\n",
       "      <td>...</td>\n",
       "      <td>...</td>\n",
       "      <td>...</td>\n",
       "      <td>...</td>\n",
       "      <td>...</td>\n",
       "    </tr>\n",
       "    <tr>\n",
       "      <th>1455</th>\n",
       "      <td>175000</td>\n",
       "      <td>6</td>\n",
       "      <td>1647</td>\n",
       "      <td>2</td>\n",
       "      <td>460</td>\n",
       "      <td>953</td>\n",
       "      <td>953</td>\n",
       "      <td>2</td>\n",
       "      <td>7</td>\n",
       "      <td>1999</td>\n",
       "      <td>2000</td>\n",
       "    </tr>\n",
       "    <tr>\n",
       "      <th>1456</th>\n",
       "      <td>210000</td>\n",
       "      <td>6</td>\n",
       "      <td>2073</td>\n",
       "      <td>2</td>\n",
       "      <td>500</td>\n",
       "      <td>1542</td>\n",
       "      <td>2073</td>\n",
       "      <td>2</td>\n",
       "      <td>7</td>\n",
       "      <td>1978</td>\n",
       "      <td>1988</td>\n",
       "    </tr>\n",
       "    <tr>\n",
       "      <th>1457</th>\n",
       "      <td>266500</td>\n",
       "      <td>7</td>\n",
       "      <td>2340</td>\n",
       "      <td>1</td>\n",
       "      <td>252</td>\n",
       "      <td>1152</td>\n",
       "      <td>1188</td>\n",
       "      <td>2</td>\n",
       "      <td>9</td>\n",
       "      <td>1941</td>\n",
       "      <td>2006</td>\n",
       "    </tr>\n",
       "    <tr>\n",
       "      <th>1458</th>\n",
       "      <td>142125</td>\n",
       "      <td>5</td>\n",
       "      <td>1078</td>\n",
       "      <td>1</td>\n",
       "      <td>240</td>\n",
       "      <td>1078</td>\n",
       "      <td>1078</td>\n",
       "      <td>1</td>\n",
       "      <td>5</td>\n",
       "      <td>1950</td>\n",
       "      <td>1996</td>\n",
       "    </tr>\n",
       "    <tr>\n",
       "      <th>1459</th>\n",
       "      <td>147500</td>\n",
       "      <td>5</td>\n",
       "      <td>1256</td>\n",
       "      <td>1</td>\n",
       "      <td>276</td>\n",
       "      <td>1256</td>\n",
       "      <td>1256</td>\n",
       "      <td>1</td>\n",
       "      <td>6</td>\n",
       "      <td>1965</td>\n",
       "      <td>1965</td>\n",
       "    </tr>\n",
       "  </tbody>\n",
       "</table>\n",
       "<p>1460 rows × 11 columns</p>\n",
       "</div>"
      ],
      "text/plain": [
       "      SalePrice  OverallQual  GrLivArea  GarageCars  GarageArea  TotalBsmtSF  \\\n",
       "0        208500            7       1710           2         548          856   \n",
       "1        181500            6       1262           2         460         1262   \n",
       "2        223500            7       1786           2         608          920   \n",
       "3        140000            7       1717           3         642          756   \n",
       "4        250000            8       2198           3         836         1145   \n",
       "...         ...          ...        ...         ...         ...          ...   \n",
       "1455     175000            6       1647           2         460          953   \n",
       "1456     210000            6       2073           2         500         1542   \n",
       "1457     266500            7       2340           1         252         1152   \n",
       "1458     142125            5       1078           1         240         1078   \n",
       "1459     147500            5       1256           1         276         1256   \n",
       "\n",
       "      1stFlrSF  FullBath  TotRmsAbvGrd  YearBuilt  YearRemodAdd  \n",
       "0          856         2             8       2003          2003  \n",
       "1         1262         2             6       1976          1976  \n",
       "2          920         2             6       2001          2002  \n",
       "3          961         1             7       1915          1970  \n",
       "4         1145         2             9       2000          2000  \n",
       "...        ...       ...           ...        ...           ...  \n",
       "1455       953         2             7       1999          2000  \n",
       "1456      2073         2             7       1978          1988  \n",
       "1457      1188         2             9       1941          2006  \n",
       "1458      1078         1             5       1950          1996  \n",
       "1459      1256         1             6       1965          1965  \n",
       "\n",
       "[1460 rows x 11 columns]"
      ]
     },
     "execution_count": 85,
     "metadata": {},
     "output_type": "execute_result"
    }
   ],
   "source": [
    "df_corr = df_1[corr[corr['SalePrice']>0.5]['index']]\n",
    "df_corr"
   ]
  },
  {
   "cell_type": "code",
   "execution_count": null,
   "id": "35979f1d-d8de-420c-aaa2-1047d4f70cda",
   "metadata": {},
   "outputs": [],
   "source": []
  },
  {
   "cell_type": "markdown",
   "id": "e8f41b1d-50cd-43b3-bcef-d5d9d665c856",
   "metadata": {},
   "source": [
    "Through this analysis, and with the objective of select the most important and influential variables over the Sales price, we could select those with a corr value > 0.45. \n",
    "\n",
    "They could be used for linear regression. "
   ]
  },
  {
   "cell_type": "code",
   "execution_count": 86,
   "id": "91f4c333-0b79-4dd0-b523-632049893c3d",
   "metadata": {},
   "outputs": [
    {
     "data": {
      "text/plain": [
       "<seaborn.axisgrid.PairGrid at 0x7fd492fed6a0>"
      ]
     },
     "execution_count": 86,
     "metadata": {},
     "output_type": "execute_result"
    },
    {
     "data": {
      "image/png": "[encoded data removed]",
      "text/plain": [
       "<Figure size 1080x180 with 6 Axes>"
      ]
     },
     "metadata": {
      "needs_background": "light"
     },
     "output_type": "display_data"
    },
    {
     "data": {
      "image/png": "[encoded data removed]",
      "text/plain": [
       "<Figure size 720x180 with 4 Axes>"
      ]
     },
     "metadata": {
      "needs_background": "light"
     },
     "output_type": "display_data"
    }
   ],
   "source": [
    "sns.pairplot(data = df_corr, y_vars = ['SalePrice'], x_vars = df_corr.columns[1:7])\n",
    "sns.pairplot(data = df_corr, y_vars = ['SalePrice'], x_vars = df_corr.columns[7:14])"
   ]
  },
  {
   "cell_type": "markdown",
   "id": "fb37d8bf-06b4-4ed3-a4d7-29307cd19bab",
   "metadata": {},
   "source": [
    "It can be visually appreciated the linear correspondence between the variables and the SalePrice"
   ]
  },
  {
   "cell_type": "code",
   "execution_count": 87,
   "id": "499c2974-8b94-46fb-b9f9-0185256a9c86",
   "metadata": {},
   "outputs": [
    {
     "data": {
      "text/plain": [
       "array([ 8,  6,  7,  9,  5, 11,  4, 10, 12,  3,  2, 14])"
      ]
     },
     "execution_count": 87,
     "metadata": {},
     "output_type": "execute_result"
    }
   ],
   "source": [
    "df_corr.TotRmsAbvGrd.unique()"
   ]
  },
  {
   "cell_type": "markdown",
   "id": "0350d23e-6dfb-4c0d-9f1d-5c52cdc1cdd5",
   "metadata": {},
   "source": [
    "## 4. ANOVA"
   ]
  },
  {
   "cell_type": "markdown",
   "id": "2acad8c1-b413-463c-a21f-0378b36ed394",
   "metadata": {},
   "source": [
    "Let's review the statistical significance of the variables.\n",
    "\n",
    "We'll review just those which p_values are < 0.05."
   ]
  },
  {
   "cell_type": "code",
   "execution_count": 88,
   "id": "f30b6907-349c-43db-91e0-fb50f547ca69",
   "metadata": {},
   "outputs": [
    {
     "name": "stdout",
     "output_type": "stream",
     "text": [
      "Unable to perform ANOVA test with 1stFlrSF\n",
      "Unable to perform ANOVA test with 2ndFlrSF\n",
      "Unable to perform ANOVA test with 3SsnPorch\n"
     ]
    },
    {
     "data": {
      "text/plain": [
       "{'MSSubClass': 8.662166266091296e-79,\n",
       " 'MSZoning': 8.817633866271897e-35,\n",
       " 'LotArea': 6.5908196547961145e-50,\n",
       " 'LotShape': 6.447523852010117e-25,\n",
       " 'LandContour': 2.7422167521374613e-08,\n",
       " 'LotConfig': 3.1631674736034586e-06,\n",
       " 'Neighborhood': 1.558600282770091e-225,\n",
       " 'Condition1': 8.904549416138158e-08,\n",
       " 'Condition2': 0.04342565836094042,\n",
       " 'BldgType': 2.0567364604967015e-10,\n",
       " 'HouseStyle': 3.376776535120862e-25,\n",
       " 'OverallQual': 0.0,\n",
       " 'OverallCond': 7.962288819949257e-38,\n",
       " 'YearBuilt': 9.128103646615598e-107,\n",
       " 'YearRemodAdd': 2.3547477020621105e-76,\n",
       " 'RoofStyle': 3.653523047098502e-17,\n",
       " 'RoofMatl': 7.231444779987624e-08,\n",
       " 'Exterior1st': 2.5860887286370804e-43,\n",
       " 'Exterior2nd': 4.842185670698133e-43,\n",
       " 'MasVnrType': 4.793331178119194e-65,\n",
       " 'MasVnrArea': 2.015881598244982e-54,\n",
       " 'ExterQual': 1.4395510967780529e-204,\n",
       " 'ExterCond': 5.106680608671862e-07,\n",
       " 'Foundation': 5.791895002231574e-91,\n",
       " 'BsmtQual': 9.610615106781709e-186,\n",
       " 'BsmtCond': 5.136900937702552e-09,\n",
       " 'BsmtExposure': 1.022670629183227e-42,\n",
       " 'BsmtFinType1': 1.8077310066858572e-63,\n",
       " 'BsmtFinSF1': 1.4799695510403932e-26,\n",
       " 'BsmtFinType2': 0.019410089690234594,\n",
       " 'BsmtUnfSF': 1.6361063234707874e-08,\n",
       " 'TotalBsmtSF': 1.2682492252063745e-88,\n",
       " 'Heating': 0.0007534721064453344,\n",
       " 'HeatingQC': 2.6670620921040538e-67,\n",
       " 'CentralAir': 1.8095061559266183e-22,\n",
       " 'Electrical': 1.663248781473492e-18,\n",
       " 'GrLivArea': 1.1649738558255367e-90,\n",
       " 'BsmtFullBath': 2.88243552729416e-17,\n",
       " 'FullBath': 3.8021879324489406e-129,\n",
       " 'HalfBath': 1.609144945403053e-31,\n",
       " 'BedroomAbvGr': 3.3043196450456234e-16,\n",
       " 'KitchenAbvGr': 2.011735142857372e-06,\n",
       " 'KitchenQual': 3.032212752839544e-192,\n",
       " 'TotRmsAbvGrd': 1.1917103366526644e-103,\n",
       " 'Functional': 0.0004841696801078294,\n",
       " 'Fireplaces': 4.421001030725402e-83,\n",
       " 'GarageType': 1.247153670659079e-66,\n",
       " 'GarageFinish': 1.1991165312294262e-93,\n",
       " 'GarageCars': 1.1211287650606748e-211,\n",
       " 'GarageArea': 1.0705140248740953e-158,\n",
       " 'GarageQual': 1.240802647801658e-07,\n",
       " 'GarageCond': 1.3097143055289643e-07,\n",
       " 'PavedDrive': 1.8035688906512255e-18,\n",
       " 'WoodDeckSF': 2.9149019687647105e-35,\n",
       " 'OpenPorchSF': 5.057704418604986e-49,\n",
       " 'ScreenPorch': 0.036758595193084345,\n",
       " 'PoolArea': 2.3410470985443083e-09,\n",
       " 'SaleType': 5.039766889461878e-42,\n",
       " 'SaleCondition': 7.988268404989587e-44,\n",
       " 'SalePrice': 0.0}"
      ]
     },
     "execution_count": 88,
     "metadata": {},
     "output_type": "execute_result"
    }
   ],
   "source": [
    "ss_col = {}\n",
    "\n",
    "for i in df_1.columns: \n",
    "    try:\n",
    "        model = ols(f'SalePrice ~ C({i})', data = df).fit()\n",
    "        \n",
    "        if model.f_pvalue < 0.05: \n",
    "            \n",
    "            ss_col[i] = model.f_pvalue\n",
    "    except:\n",
    "        print(f'Unable to perform ANOVA test with {i}')\n",
    "        \n",
    "ss_col\n"
   ]
  },
  {
   "cell_type": "code",
   "execution_count": null,
   "id": "7dc5d37c-4cd3-436f-ba04-59df95846792",
   "metadata": {},
   "outputs": [],
   "source": [
    "len(ss_col)"
   ]
  },
  {
   "cell_type": "code",
   "execution_count": null,
   "id": "c13c39f8-e06c-4365-908b-41c7884f50d2",
   "metadata": {},
   "outputs": [],
   "source": []
  },
  {
   "cell_type": "markdown",
   "id": "aa876541-223a-4ed4-8912-d786efa64306",
   "metadata": {},
   "source": [
    "The number of statistical important variables through ANOVA test is high. \n",
    "\n",
    "Nevertheless it does not make sense to be comparing the variances between several variables that don't even have the same units. The value of the ANOVA is for comparing distributions. \n",
    "\n",
    "For the following steps will keep the 13 selected variables through the Pearson \n",
    "correlation."
   ]
  },
  {
   "cell_type": "markdown",
   "id": "c81c16fc-d641-467b-b085-77a14eb28a8f",
   "metadata": {},
   "source": [
    "## 5. Hypothesis Test"
   ]
  },
  {
   "cell_type": "markdown",
   "id": "1ef6aaf1-1464-4c5e-b436-f54c2c5d374e",
   "metadata": {},
   "source": [
    "The following hypothesis test will review the significance of the continuos and categorical variables. "
   ]
  },
  {
   "cell_type": "code",
   "execution_count": null,
   "id": "699491e7-4684-4b22-a3a0-871517a50847",
   "metadata": {},
   "outputs": [],
   "source": [
    "df_corr.shape"
   ]
  },
  {
   "cell_type": "code",
   "execution_count": null,
   "id": "deade946-c5ce-479c-8d7c-83d3e8546b09",
   "metadata": {},
   "outputs": [],
   "source": [
    "df_corr.head().T"
   ]
  },
  {
   "cell_type": "markdown",
   "id": "e0c475ac-f062-48ac-9644-341cd7acba97",
   "metadata": {},
   "source": [
    "        5.1 Continuous"
   ]
  },
  {
   "cell_type": "markdown",
   "id": "d8627e34-ff86-475f-af91-e65a49de1a8f",
   "metadata": {},
   "source": [
    "- Ho: mu(Sale Price) = mu(Column i) >> This variable IS NOT relevant for the SalePrice\n",
    "- Hi: mu(Sale Price) != mu(Column i) >> This variable IS relevant for the SalePrice"
   ]
  },
  {
   "cell_type": "code",
   "execution_count": 128,
   "id": "c14ddeee-9cb4-427c-b9dc-d3a80282f36f",
   "metadata": {},
   "outputs": [
    {
     "name": "stdout",
     "output_type": "stream",
     "text": [
      "Ho is rejected for GrLivArea, with a confidence of 100.0%\n",
      "Ho is rejected for GarageArea, with a confidence of 100.0%\n",
      "Ho is rejected for TotalBsmtSF, with a confidence of 100.0%\n",
      "Ho is rejected for YearBuilt, with a confidence of 100.0%\n",
      "Ho is rejected for YearRemodAdd, with a confidence of 100.0%\n"
     ]
    },
    {
     "data": {
      "text/plain": [
       "[]"
      ]
     },
     "execution_count": 128,
     "metadata": {},
     "output_type": "execute_result"
    }
   ],
   "source": [
    "sp_mean = df_corr.SalePrice.mean()\n",
    "\n",
    "h_test_cont = []\n",
    "\n",
    "\n",
    "cont = ['GrLivArea','GarageArea','TotalBsmtSF','YearBuilt','YearRemodAdd']\n",
    "\n",
    "for column in cont: \n",
    "    \n",
    "    t,p = ttest_1samp(df_corr[df_corr[column]> df_1[column].mean()]['SalePrice'], sp_mean)\n",
    "                              \n",
    "    if p < 0.05:\n",
    "        print(f'Ho is rejected for {column}, with a confidence of {round((1-p)*100,2)}%')\n",
    "    else: \n",
    "        print(f'Ho cannot be rejected for {column}, p_value {round(p,2)}')\n",
    "    \n",
    "h_test_cont"
   ]
  },
  {
   "cell_type": "code",
   "execution_count": null,
   "id": "c99369f9-1a2e-4488-8ad0-a31f7f102814",
   "metadata": {},
   "outputs": [],
   "source": []
  },
  {
   "cell_type": "markdown",
   "id": "9918ea89-96c5-4452-92f3-081ebea7dd7a",
   "metadata": {},
   "source": [
    "        5.2 Categorical"
   ]
  },
  {
   "cell_type": "markdown",
   "id": "f35bf4a5-b354-46aa-ae51-a7b51f612e92",
   "metadata": {},
   "source": [
    "- Ho: mu(Sale Price) = mu(Column i) >> This variable IS NOT relevant for the SalePrice\n",
    "- Hi: mu(Sale Price) != mu(Column i) >> This variable IS relevant for the SalePrice"
   ]
  },
  {
   "cell_type": "code",
   "execution_count": null,
   "id": "477dd791-c229-4b3c-be82-f846c71b3489",
   "metadata": {},
   "outputs": [
    {
     "name": "stdout",
     "output_type": "stream",
     "text": [
      "Ho is rejected for OverallQual, with a confidence of 100.0%\n",
      "Ho is rejected for GarageCars, with a confidence of 100.0%\n",
      "Ho is rejected for FullBath, with a confidence of 100.0%\n"
     ]
    },
    {
     "data": {
      "text/plain": [
       "[]"
      ]
     },
     "execution_count": 129,
     "metadata": {},
     "output_type": "execute_result"
    }
   ],
   "source": [
    "sp_mean = df_corr.SalePrice.mean()\n",
    "\n",
    "h_test_cat = []\n",
    "\n",
    "\n",
    "cont = ['OverallQual','GarageCars','FullBath']\n",
    "\n",
    "for column in cont: \n",
    "    \n",
    "    t,p = ttest_1samp(df_corr[df_corr[column]> df_1[column].mean()]['SalePrice'], sp_mean)\n",
    "                              \n",
    "    if p < 0.05:\n",
    "        print(f'Ho is rejected for {column}, with a confidence of {round((1-p)*100,2)}%')\n",
    "    else: \n",
    "        print(f'Ho cannot be rejected for {column}, p_value {round(p,2)}')\n",
    "    \n",
    "h_test_cat"
   ]
  },
  {
   "cell_type": "markdown",
   "id": "aab6294d-9916-4921-b522-55855e2fbe7e",
   "metadata": {},
   "source": [
    "Continuous and categorical variables are significant. "
   ]
  },
  {
   "cell_type": "code",
   "execution_count": null,
   "id": "e3fefd2c-f88a-4209-ab90-501306fa255a",
   "metadata": {},
   "outputs": [],
   "source": []
  },
  {
   "cell_type": "markdown",
   "id": "c94f8875-047c-477b-a09f-479c3c3519ad",
   "metadata": {},
   "source": [
    "## 6. Linear Regression"
   ]
  },
  {
   "cell_type": "markdown",
   "id": "0392881f-1ce1-4bfc-be6b-af7153e218db",
   "metadata": {},
   "source": [
    "Hypothesis testing is used to confirm if our beta coefficients are significant in a linear regression model. Every time we run the linear regression model, we test if the line is significant or not by checking if the coefficient is significant. "
   ]
  },
  {
   "cell_type": "code",
   "execution_count": 158,
   "id": "03289b41-e60d-48a5-9f46-8bf67a59f13e",
   "metadata": {},
   "outputs": [
    {
     "data": {
      "text/plain": [
       "(1460, 27)"
      ]
     },
     "execution_count": 158,
     "metadata": {},
     "output_type": "execute_result"
    }
   ],
   "source": [
    "# First get dummmies is applied for the categorical variables. \n",
    "\n",
    "df_corr_1 = pd.get_dummies(df_corr, columns = ['OverallQual','GarageCars','FullBath'])\n",
    "df_corr_1.shape"
   ]
  },
  {
   "cell_type": "code",
   "execution_count": 159,
   "id": "e3b41659-5dd7-42fe-ae91-2699f11df557",
   "metadata": {},
   "outputs": [
    {
     "name": "stdout",
     "output_type": "stream",
     "text": [
      "<class 'pandas.core.frame.DataFrame'>\n",
      "RangeIndex: 1460 entries, 0 to 1459\n",
      "Data columns (total 27 columns):\n",
      " #   Column          Non-Null Count  Dtype\n",
      "---  ------          --------------  -----\n",
      " 0   SalePrice       1460 non-null   int64\n",
      " 1   GrLivArea       1460 non-null   int64\n",
      " 2   GarageArea      1460 non-null   int64\n",
      " 3   TotalBsmtSF     1460 non-null   int64\n",
      " 4   1stFlrSF        1460 non-null   int64\n",
      " 5   TotRmsAbvGrd    1460 non-null   int64\n",
      " 6   YearBuilt       1460 non-null   int64\n",
      " 7   YearRemodAdd    1460 non-null   int64\n",
      " 8   OverallQual_1   1460 non-null   uint8\n",
      " 9   OverallQual_2   1460 non-null   uint8\n",
      " 10  OverallQual_3   1460 non-null   uint8\n",
      " 11  OverallQual_4   1460 non-null   uint8\n",
      " 12  OverallQual_5   1460 non-null   uint8\n",
      " 13  OverallQual_6   1460 non-null   uint8\n",
      " 14  OverallQual_7   1460 non-null   uint8\n",
      " 15  OverallQual_8   1460 non-null   uint8\n",
      " 16  OverallQual_9   1460 non-null   uint8\n",
      " 17  OverallQual_10  1460 non-null   uint8\n",
      " 18  GarageCars_0    1460 non-null   uint8\n",
      " 19  GarageCars_1    1460 non-null   uint8\n",
      " 20  GarageCars_2    1460 non-null   uint8\n",
      " 21  GarageCars_3    1460 non-null   uint8\n",
      " 22  GarageCars_4    1460 non-null   uint8\n",
      " 23  FullBath_0      1460 non-null   uint8\n",
      " 24  FullBath_1      1460 non-null   uint8\n",
      " 25  FullBath_2      1460 non-null   uint8\n",
      " 26  FullBath_3      1460 non-null   uint8\n",
      "dtypes: int64(8), uint8(19)\n",
      "memory usage: 118.5 KB\n"
     ]
    }
   ],
   "source": [
    "df_corr_1.info()"
   ]
  },
  {
   "cell_type": "markdown",
   "id": "4f370cb3-9826-4ae4-8fc7-b5932e291ffe",
   "metadata": {},
   "source": [
    "### 6.1 Sklearn"
   ]
  },
  {
   "cell_type": "code",
   "execution_count": 160,
   "id": "6ac03419-881a-446e-b4cc-43d8eac1d92f",
   "metadata": {},
   "outputs": [
    {
     "data": {
      "text/plain": [
       "0       208500\n",
       "1       181500\n",
       "2       223500\n",
       "3       140000\n",
       "4       250000\n",
       "         ...  \n",
       "1455    175000\n",
       "1456    210000\n",
       "1457    266500\n",
       "1458    142125\n",
       "1459    147500\n",
       "Name: SalePrice, Length: 1460, dtype: int64"
      ]
     },
     "execution_count": 160,
     "metadata": {},
     "output_type": "execute_result"
    }
   ],
   "source": [
    "df_sp = df_corr['SalePrice']\n",
    "df_sp"
   ]
  },
  {
   "cell_type": "code",
   "execution_count": null,
   "id": "c1de3c29-08d3-4ed9-aa5a-14bf56bde7ad",
   "metadata": {},
   "outputs": [],
   "source": []
  },
  {
   "cell_type": "code",
   "execution_count": 162,
   "id": "8f2f0cf2-3246-44a1-954a-c5abbc907c2c",
   "metadata": {},
   "outputs": [
    {
     "data": {
      "text/html": [
       "<div>\n",
       "<style scoped>\n",
       "    .dataframe tbody tr th:only-of-type {\n",
       "        vertical-align: middle;\n",
       "    }\n",
       "\n",
       "    .dataframe tbody tr th {\n",
       "        vertical-align: top;\n",
       "    }\n",
       "\n",
       "    .dataframe thead th {\n",
       "        text-align: right;\n",
       "    }\n",
       "</style>\n",
       "<table border=\"1\" class=\"dataframe\">\n",
       "  <thead>\n",
       "    <tr style=\"text-align: right;\">\n",
       "      <th></th>\n",
       "      <th>GrLivArea</th>\n",
       "      <th>GarageArea</th>\n",
       "      <th>TotalBsmtSF</th>\n",
       "      <th>1stFlrSF</th>\n",
       "      <th>TotRmsAbvGrd</th>\n",
       "      <th>YearBuilt</th>\n",
       "      <th>YearRemodAdd</th>\n",
       "      <th>OverallQual_1</th>\n",
       "      <th>OverallQual_2</th>\n",
       "      <th>OverallQual_3</th>\n",
       "      <th>...</th>\n",
       "      <th>OverallQual_10</th>\n",
       "      <th>GarageCars_0</th>\n",
       "      <th>GarageCars_1</th>\n",
       "      <th>GarageCars_2</th>\n",
       "      <th>GarageCars_3</th>\n",
       "      <th>GarageCars_4</th>\n",
       "      <th>FullBath_0</th>\n",
       "      <th>FullBath_1</th>\n",
       "      <th>FullBath_2</th>\n",
       "      <th>FullBath_3</th>\n",
       "    </tr>\n",
       "  </thead>\n",
       "  <tbody>\n",
       "    <tr>\n",
       "      <th>0</th>\n",
       "      <td>1710</td>\n",
       "      <td>548</td>\n",
       "      <td>856</td>\n",
       "      <td>856</td>\n",
       "      <td>8</td>\n",
       "      <td>2003</td>\n",
       "      <td>2003</td>\n",
       "      <td>0</td>\n",
       "      <td>0</td>\n",
       "      <td>0</td>\n",
       "      <td>...</td>\n",
       "      <td>0</td>\n",
       "      <td>0</td>\n",
       "      <td>0</td>\n",
       "      <td>1</td>\n",
       "      <td>0</td>\n",
       "      <td>0</td>\n",
       "      <td>0</td>\n",
       "      <td>0</td>\n",
       "      <td>1</td>\n",
       "      <td>0</td>\n",
       "    </tr>\n",
       "    <tr>\n",
       "      <th>1</th>\n",
       "      <td>1262</td>\n",
       "      <td>460</td>\n",
       "      <td>1262</td>\n",
       "      <td>1262</td>\n",
       "      <td>6</td>\n",
       "      <td>1976</td>\n",
       "      <td>1976</td>\n",
       "      <td>0</td>\n",
       "      <td>0</td>\n",
       "      <td>0</td>\n",
       "      <td>...</td>\n",
       "      <td>0</td>\n",
       "      <td>0</td>\n",
       "      <td>0</td>\n",
       "      <td>1</td>\n",
       "      <td>0</td>\n",
       "      <td>0</td>\n",
       "      <td>0</td>\n",
       "      <td>0</td>\n",
       "      <td>1</td>\n",
       "      <td>0</td>\n",
       "    </tr>\n",
       "    <tr>\n",
       "      <th>2</th>\n",
       "      <td>1786</td>\n",
       "      <td>608</td>\n",
       "      <td>920</td>\n",
       "      <td>920</td>\n",
       "      <td>6</td>\n",
       "      <td>2001</td>\n",
       "      <td>2002</td>\n",
       "      <td>0</td>\n",
       "      <td>0</td>\n",
       "      <td>0</td>\n",
       "      <td>...</td>\n",
       "      <td>0</td>\n",
       "      <td>0</td>\n",
       "      <td>0</td>\n",
       "      <td>1</td>\n",
       "      <td>0</td>\n",
       "      <td>0</td>\n",
       "      <td>0</td>\n",
       "      <td>0</td>\n",
       "      <td>1</td>\n",
       "      <td>0</td>\n",
       "    </tr>\n",
       "    <tr>\n",
       "      <th>3</th>\n",
       "      <td>1717</td>\n",
       "      <td>642</td>\n",
       "      <td>756</td>\n",
       "      <td>961</td>\n",
       "      <td>7</td>\n",
       "      <td>1915</td>\n",
       "      <td>1970</td>\n",
       "      <td>0</td>\n",
       "      <td>0</td>\n",
       "      <td>0</td>\n",
       "      <td>...</td>\n",
       "      <td>0</td>\n",
       "      <td>0</td>\n",
       "      <td>0</td>\n",
       "      <td>0</td>\n",
       "      <td>1</td>\n",
       "      <td>0</td>\n",
       "      <td>0</td>\n",
       "      <td>1</td>\n",
       "      <td>0</td>\n",
       "      <td>0</td>\n",
       "    </tr>\n",
       "    <tr>\n",
       "      <th>4</th>\n",
       "      <td>2198</td>\n",
       "      <td>836</td>\n",
       "      <td>1145</td>\n",
       "      <td>1145</td>\n",
       "      <td>9</td>\n",
       "      <td>2000</td>\n",
       "      <td>2000</td>\n",
       "      <td>0</td>\n",
       "      <td>0</td>\n",
       "      <td>0</td>\n",
       "      <td>...</td>\n",
       "      <td>0</td>\n",
       "      <td>0</td>\n",
       "      <td>0</td>\n",
       "      <td>0</td>\n",
       "      <td>1</td>\n",
       "      <td>0</td>\n",
       "      <td>0</td>\n",
       "      <td>0</td>\n",
       "      <td>1</td>\n",
       "      <td>0</td>\n",
       "    </tr>\n",
       "  </tbody>\n",
       "</table>\n",
       "<p>5 rows × 26 columns</p>\n",
       "</div>"
      ],
      "text/plain": [
       "   GrLivArea  GarageArea  TotalBsmtSF  1stFlrSF  TotRmsAbvGrd  YearBuilt  \\\n",
       "0       1710         548          856       856             8       2003   \n",
       "1       1262         460         1262      1262             6       1976   \n",
       "2       1786         608          920       920             6       2001   \n",
       "3       1717         642          756       961             7       1915   \n",
       "4       2198         836         1145      1145             9       2000   \n",
       "\n",
       "   YearRemodAdd  OverallQual_1  OverallQual_2  OverallQual_3  ...  \\\n",
       "0          2003              0              0              0  ...   \n",
       "1          1976              0              0              0  ...   \n",
       "2          2002              0              0              0  ...   \n",
       "3          1970              0              0              0  ...   \n",
       "4          2000              0              0              0  ...   \n",
       "\n",
       "   OverallQual_10  GarageCars_0  GarageCars_1  GarageCars_2  GarageCars_3  \\\n",
       "0               0             0             0             1             0   \n",
       "1               0             0             0             1             0   \n",
       "2               0             0             0             1             0   \n",
       "3               0             0             0             0             1   \n",
       "4               0             0             0             0             1   \n",
       "\n",
       "   GarageCars_4  FullBath_0  FullBath_1  FullBath_2  FullBath_3  \n",
       "0             0           0           0           1           0  \n",
       "1             0           0           0           1           0  \n",
       "2             0           0           0           1           0  \n",
       "3             0           0           1           0           0  \n",
       "4             0           0           0           1           0  \n",
       "\n",
       "[5 rows x 26 columns]"
      ]
     },
     "execution_count": 162,
     "metadata": {},
     "output_type": "execute_result"
    }
   ],
   "source": [
    "\n",
    "df_corr_1 = df_corr_1.drop(['SalePrice'],axis = 1)\n",
    "df_corr_1.head()"
   ]
  },
  {
   "cell_type": "code",
   "execution_count": 170,
   "id": "7e1c4c70-1b03-4b01-b48e-6050796edf47",
   "metadata": {},
   "outputs": [],
   "source": []
  },
  {
   "cell_type": "code",
   "execution_count": 164,
   "id": "dd78b234-6b6e-441b-91f7-3d96b0b0b79f",
   "metadata": {},
   "outputs": [
    {
     "data": {
      "text/plain": [
       "array([[ 0.37033344,  0.35100032, -0.45930254, ..., -0.89580642,\n",
       "         0.94923215, -0.1520705 ],\n",
       "       [-0.48251191, -0.06073101,  0.46646492, ..., -0.89580642,\n",
       "         0.94923215, -0.1520705 ],\n",
       "       [ 0.51501256,  0.63172623, -0.31336875, ..., -0.89580642,\n",
       "         0.94923215, -0.1520705 ],\n",
       "       ...,\n",
       "       [ 1.56964722, -1.03391416,  0.21564122, ..., -0.89580642,\n",
       "         0.94923215, -0.1520705 ],\n",
       "       [-0.83278768, -1.09005935,  0.04690528, ...,  1.11631261,\n",
       "        -1.05348308, -0.1520705 ],\n",
       "       [-0.49393395, -0.9216238 ,  0.45278362, ...,  1.11631261,\n",
       "        -1.05348308, -0.1520705 ]])"
      ]
     },
     "execution_count": 164,
     "metadata": {},
     "output_type": "execute_result"
    }
   ],
   "source": [
    "df_std = StandardScaler().fit_transform(df_corr_1)\n",
    "df_std"
   ]
  },
  {
   "cell_type": "code",
   "execution_count": 185,
   "id": "03fe0858-7004-43fc-825f-b93f1af793fe",
   "metadata": {},
   "outputs": [],
   "source": [
    "x_train , x_test , y_train , y_test = train_test_split (df_std, df_sp, test_size = 0.30)"
   ]
  },
  {
   "cell_type": "code",
   "execution_count": 207,
   "id": "3a66e0b2-4564-4907-b247-4ec75c5ff921",
   "metadata": {},
   "outputs": [
    {
     "data": {
      "text/plain": [
       "0.8341396004426043"
      ]
     },
     "execution_count": 207,
     "metadata": {},
     "output_type": "execute_result"
    }
   ],
   "source": [
    "reg = LinearRegression().fit(x_train, y_train)\n",
    "r2_sk = reg.score(x_test,y_test)\n",
    "r2_sk"
   ]
  },
  {
   "cell_type": "code",
   "execution_count": 187,
   "id": "c8cf4bc7-26e4-482f-8b0c-349f9e209558",
   "metadata": {},
   "outputs": [
    {
     "data": {
      "text/html": [
       "<div>\n",
       "<style scoped>\n",
       "    .dataframe tbody tr th:only-of-type {\n",
       "        vertical-align: middle;\n",
       "    }\n",
       "\n",
       "    .dataframe tbody tr th {\n",
       "        vertical-align: top;\n",
       "    }\n",
       "\n",
       "    .dataframe thead th {\n",
       "        text-align: right;\n",
       "    }\n",
       "</style>\n",
       "<table border=\"1\" class=\"dataframe\">\n",
       "  <thead>\n",
       "    <tr style=\"text-align: right;\">\n",
       "      <th></th>\n",
       "      <th>Actual</th>\n",
       "      <th>Predicted</th>\n",
       "      <th>Dif</th>\n",
       "    </tr>\n",
       "  </thead>\n",
       "  <tbody>\n",
       "    <tr>\n",
       "      <th>1058</th>\n",
       "      <td>335000</td>\n",
       "      <td>361051.649790</td>\n",
       "      <td>26051.649790</td>\n",
       "    </tr>\n",
       "    <tr>\n",
       "      <th>11</th>\n",
       "      <td>345000</td>\n",
       "      <td>385276.373589</td>\n",
       "      <td>40276.373589</td>\n",
       "    </tr>\n",
       "    <tr>\n",
       "      <th>464</th>\n",
       "      <td>124000</td>\n",
       "      <td>110797.759673</td>\n",
       "      <td>-13202.240327</td>\n",
       "    </tr>\n",
       "    <tr>\n",
       "      <th>521</th>\n",
       "      <td>150000</td>\n",
       "      <td>142111.293875</td>\n",
       "      <td>-7888.706125</td>\n",
       "    </tr>\n",
       "    <tr>\n",
       "      <th>1367</th>\n",
       "      <td>127000</td>\n",
       "      <td>139552.237095</td>\n",
       "      <td>12552.237095</td>\n",
       "    </tr>\n",
       "    <tr>\n",
       "      <th>...</th>\n",
       "      <td>...</td>\n",
       "      <td>...</td>\n",
       "      <td>...</td>\n",
       "    </tr>\n",
       "    <tr>\n",
       "      <th>604</th>\n",
       "      <td>221000</td>\n",
       "      <td>208314.792999</td>\n",
       "      <td>-12685.207001</td>\n",
       "    </tr>\n",
       "    <tr>\n",
       "      <th>965</th>\n",
       "      <td>178900</td>\n",
       "      <td>177696.928828</td>\n",
       "      <td>-1203.071172</td>\n",
       "    </tr>\n",
       "    <tr>\n",
       "      <th>1070</th>\n",
       "      <td>135000</td>\n",
       "      <td>118226.838134</td>\n",
       "      <td>-16773.161866</td>\n",
       "    </tr>\n",
       "    <tr>\n",
       "      <th>513</th>\n",
       "      <td>134000</td>\n",
       "      <td>155326.234109</td>\n",
       "      <td>21326.234109</td>\n",
       "    </tr>\n",
       "    <tr>\n",
       "      <th>238</th>\n",
       "      <td>318000</td>\n",
       "      <td>292594.187068</td>\n",
       "      <td>-25405.812932</td>\n",
       "    </tr>\n",
       "  </tbody>\n",
       "</table>\n",
       "<p>438 rows × 3 columns</p>\n",
       "</div>"
      ],
      "text/plain": [
       "      Actual      Predicted           Dif\n",
       "1058  335000  361051.649790  26051.649790\n",
       "11    345000  385276.373589  40276.373589\n",
       "464   124000  110797.759673 -13202.240327\n",
       "521   150000  142111.293875  -7888.706125\n",
       "1367  127000  139552.237095  12552.237095\n",
       "...      ...            ...           ...\n",
       "604   221000  208314.792999 -12685.207001\n",
       "965   178900  177696.928828  -1203.071172\n",
       "1070  135000  118226.838134 -16773.161866\n",
       "513   134000  155326.234109  21326.234109\n",
       "238   318000  292594.187068 -25405.812932\n",
       "\n",
       "[438 rows x 3 columns]"
      ]
     },
     "execution_count": 187,
     "metadata": {},
     "output_type": "execute_result"
    }
   ],
   "source": [
    "pred = reg.predict(x_test)\n",
    "\n",
    "df_pred=pd.DataFrame({'Actual':y_test,'Predicted':pred,'Dif':pred-y_test})\n",
    "df_pred"
   ]
  },
  {
   "cell_type": "code",
   "execution_count": null,
   "id": "65fea2e4-be10-406c-9015-1c84d294fb1c",
   "metadata": {},
   "outputs": [],
   "source": [
    "\n"
   ]
  },
  {
   "cell_type": "code",
   "execution_count": 188,
   "id": "42e43e4a-8ef5-4ee7-83ad-8128cb17dc9f",
   "metadata": {},
   "outputs": [
    {
     "data": {
      "image/png": "[encoded data removed]",
      "text/plain": [
       "<Figure size 864x576 with 1 Axes>"
      ]
     },
     "metadata": {
      "needs_background": "light"
     },
     "output_type": "display_data"
    }
   ],
   "source": [
    "plt.figure(figsize=(12,8))\n",
    "sns.scatterplot(data=df_pred.drop('Dif',axis=1),palette=\"Set1\",sizes=(15,20))\n",
    "plt.title('Sklearn LinearRegression')\n",
    "plt.xlabel('House')\n",
    "plt.ylabel('Price');"
   ]
  },
  {
   "cell_type": "markdown",
   "id": "9eccdfd3-9cef-4fa0-b8cd-0670c33fff7f",
   "metadata": {},
   "source": [
    "### 6.2 Ridge"
   ]
  },
  {
   "cell_type": "code",
   "execution_count": 202,
   "id": "af10f295-b3b8-4867-94d9-f1315563b700",
   "metadata": {},
   "outputs": [
    {
     "data": {
      "text/plain": [
       "Ridge()"
      ]
     },
     "execution_count": 202,
     "metadata": {},
     "output_type": "execute_result"
    }
   ],
   "source": [
    "ridge = Ridge()\n",
    "ridge.fit(x_train,y_train)"
   ]
  },
  {
   "cell_type": "code",
   "execution_count": 203,
   "id": "a2b25963-a9ee-484b-9ad1-ca50eb0d766c",
   "metadata": {},
   "outputs": [
    {
     "data": {
      "text/html": [
       "<div>\n",
       "<style scoped>\n",
       "    .dataframe tbody tr th:only-of-type {\n",
       "        vertical-align: middle;\n",
       "    }\n",
       "\n",
       "    .dataframe tbody tr th {\n",
       "        vertical-align: top;\n",
       "    }\n",
       "\n",
       "    .dataframe thead th {\n",
       "        text-align: right;\n",
       "    }\n",
       "</style>\n",
       "<table border=\"1\" class=\"dataframe\">\n",
       "  <thead>\n",
       "    <tr style=\"text-align: right;\">\n",
       "      <th></th>\n",
       "      <th>Actual</th>\n",
       "      <th>Pred</th>\n",
       "      <th>Dif</th>\n",
       "    </tr>\n",
       "  </thead>\n",
       "  <tbody>\n",
       "    <tr>\n",
       "      <th>1058</th>\n",
       "      <td>335000</td>\n",
       "      <td>360990.396471</td>\n",
       "      <td>25990.396471</td>\n",
       "    </tr>\n",
       "    <tr>\n",
       "      <th>11</th>\n",
       "      <td>345000</td>\n",
       "      <td>385259.152007</td>\n",
       "      <td>40259.152007</td>\n",
       "    </tr>\n",
       "    <tr>\n",
       "      <th>464</th>\n",
       "      <td>124000</td>\n",
       "      <td>110849.058279</td>\n",
       "      <td>-13150.941721</td>\n",
       "    </tr>\n",
       "    <tr>\n",
       "      <th>521</th>\n",
       "      <td>150000</td>\n",
       "      <td>142146.676903</td>\n",
       "      <td>-7853.323097</td>\n",
       "    </tr>\n",
       "    <tr>\n",
       "      <th>1367</th>\n",
       "      <td>127000</td>\n",
       "      <td>139561.992383</td>\n",
       "      <td>12561.992383</td>\n",
       "    </tr>\n",
       "    <tr>\n",
       "      <th>...</th>\n",
       "      <td>...</td>\n",
       "      <td>...</td>\n",
       "      <td>...</td>\n",
       "    </tr>\n",
       "    <tr>\n",
       "      <th>604</th>\n",
       "      <td>221000</td>\n",
       "      <td>208336.601196</td>\n",
       "      <td>-12663.398804</td>\n",
       "    </tr>\n",
       "    <tr>\n",
       "      <th>965</th>\n",
       "      <td>178900</td>\n",
       "      <td>177738.391390</td>\n",
       "      <td>-1161.608610</td>\n",
       "    </tr>\n",
       "    <tr>\n",
       "      <th>1070</th>\n",
       "      <td>135000</td>\n",
       "      <td>118251.845212</td>\n",
       "      <td>-16748.154788</td>\n",
       "    </tr>\n",
       "    <tr>\n",
       "      <th>513</th>\n",
       "      <td>134000</td>\n",
       "      <td>155314.935461</td>\n",
       "      <td>21314.935461</td>\n",
       "    </tr>\n",
       "    <tr>\n",
       "      <th>238</th>\n",
       "      <td>318000</td>\n",
       "      <td>292600.642167</td>\n",
       "      <td>-25399.357833</td>\n",
       "    </tr>\n",
       "  </tbody>\n",
       "</table>\n",
       "<p>438 rows × 3 columns</p>\n",
       "</div>"
      ],
      "text/plain": [
       "      Actual           Pred           Dif\n",
       "1058  335000  360990.396471  25990.396471\n",
       "11    345000  385259.152007  40259.152007\n",
       "464   124000  110849.058279 -13150.941721\n",
       "521   150000  142146.676903  -7853.323097\n",
       "1367  127000  139561.992383  12561.992383\n",
       "...      ...            ...           ...\n",
       "604   221000  208336.601196 -12663.398804\n",
       "965   178900  177738.391390  -1161.608610\n",
       "1070  135000  118251.845212 -16748.154788\n",
       "513   134000  155314.935461  21314.935461\n",
       "238   318000  292600.642167 -25399.357833\n",
       "\n",
       "[438 rows x 3 columns]"
      ]
     },
     "execution_count": 203,
     "metadata": {},
     "output_type": "execute_result"
    }
   ],
   "source": [
    "pred_ridge = ridge.predict(x_test)\n",
    "\n",
    "df_pred_ridge = pd.DataFrame({'Actual':y_test, 'Pred':pred_ridge,'Dif':pred_ridge-y_test})\n",
    "df_pred_ridge"
   ]
  },
  {
   "cell_type": "code",
   "execution_count": 204,
   "id": "5fa01e73-44e1-4198-8f49-3a4c94cd9a26",
   "metadata": {},
   "outputs": [
    {
     "data": {
      "image/png": "[encoded data removed]",
      "text/plain": [
       "<Figure size 864x576 with 1 Axes>"
      ]
     },
     "metadata": {
      "needs_background": "light"
     },
     "output_type": "display_data"
    }
   ],
   "source": [
    "plt.figure(figsize=(12,8))\n",
    "sns.scatterplot(data=df_pred_ridge.drop('Dif',axis=1),palette=\"Set1\",sizes=(15,20))\n",
    "plt.title('Ridge LinearRegression')\n",
    "plt.xlabel('House')\n",
    "plt.ylabel('Price');"
   ]
  },
  {
   "cell_type": "code",
   "execution_count": 209,
   "id": "82b5512d-c5dc-4669-8d34-0c64d3468ce6",
   "metadata": {},
   "outputs": [
    {
     "data": {
      "text/plain": [
       "0.834054343804824"
      ]
     },
     "execution_count": 209,
     "metadata": {},
     "output_type": "execute_result"
    }
   ],
   "source": [
    "r2_ridge = ridge.score(x_test,y_test)\n",
    "r2_ridge"
   ]
  },
  {
   "cell_type": "code",
   "execution_count": 213,
   "id": "904fe5f7-36ea-41f2-a52a-16dbb9459746",
   "metadata": {},
   "outputs": [
    {
     "data": {
      "text/html": [
       "<div>\n",
       "<style scoped>\n",
       "    .dataframe tbody tr th:only-of-type {\n",
       "        vertical-align: middle;\n",
       "    }\n",
       "\n",
       "    .dataframe tbody tr th {\n",
       "        vertical-align: top;\n",
       "    }\n",
       "\n",
       "    .dataframe thead th {\n",
       "        text-align: right;\n",
       "    }\n",
       "</style>\n",
       "<table border=\"1\" class=\"dataframe\">\n",
       "  <thead>\n",
       "    <tr style=\"text-align: right;\">\n",
       "      <th></th>\n",
       "      <th>Sklearn</th>\n",
       "      <th>Ridge</th>\n",
       "    </tr>\n",
       "  </thead>\n",
       "  <tbody>\n",
       "    <tr>\n",
       "      <th>R2 Test</th>\n",
       "      <td>0.83414</td>\n",
       "      <td>0.834054</td>\n",
       "    </tr>\n",
       "  </tbody>\n",
       "</table>\n",
       "</div>"
      ],
      "text/plain": [
       "         Sklearn     Ridge\n",
       "R2 Test  0.83414  0.834054"
      ]
     },
     "execution_count": 213,
     "metadata": {},
     "output_type": "execute_result"
    }
   ],
   "source": [
    "pd.DataFrame([[r2_sk,r2_ridge]],columns=['Sklearn','Ridge'],index=['R2 Test'])"
   ]
  },
  {
   "cell_type": "markdown",
   "id": "eb9749f6-26eb-4f4b-a271-5f7add505db3",
   "metadata": {},
   "source": [
    "The Lineal Regression that appears to be a better fit according to the R2 is the one obtained with Sklearn."
   ]
  },
  {
   "cell_type": "markdown",
   "id": "701f9bee-65e7-4ced-9018-2e9c06bf11a3",
   "metadata": {},
   "source": [
    "## Source\n",
    "\n",
    "##### De Cock, D. . (Unknown). House Prices - Advanced Regression Techniques. July 26 th 2022, from kaggle Web Site: https://www.kaggle.com/competitions/house-prices-advanced-regression-techniques/data?select=train.csv\n"
   ]
  }
 ],
 "metadata": {
  "kernelspec": {
   "display_name": "Python 3 (ipykernel)",
   "language": "python",
   "name": "python3"
  },
  "language_info": {
   "codemirror_mode": {
    "name": "ipython",
    "version": 3
   },
   "file_extension": ".py",
   "mimetype": "text/x-python",
   "name": "python",
   "nbconvert_exporter": "python",
   "pygments_lexer": "ipython3",
   "version": "3.9.7"
  }
 },
 "nbformat": 4,
 "nbformat_minor": 5
}
