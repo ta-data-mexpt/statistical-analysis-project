{
 "cells": [
  {
   "cell_type": "markdown",
   "id": "6b26afa0-888a-4bbc-af7d-569eb462b31e",
   "metadata": {},
   "source": [
    "The goal of this project is to practice statistical analysis using the iterative data analysis process. For this project the Housing Prices dataset will be used. \n",
    "\n",
    "\n",
    "You need to use your statistical analysis skills to analyze this dataset. \n",
    "\n",
    "The goal of your analysis is to identify the most important features of houses that affect the sale prices."
   ]
  },
  {
   "cell_type": "markdown",
   "id": "2611884c-b35f-49a9-b455-c4fd1bbee1c4",
   "metadata": {
    "tags": []
   },
   "source": [
    "### Imports"
   ]
  },
  {
   "cell_type": "code",
   "execution_count": 54,
   "id": "9eabf091-e70f-442d-8772-843e028d631a",
   "metadata": {},
   "outputs": [],
   "source": [
    "import numpy as np\n",
    "import pandas as pd\n",
    "import matplotlib.pyplot as plt\n",
    "import seaborn as sns\n",
    "import scipy.stats as stats\n",
    "import statsmodels.api as sm\n",
    "from statsmodels.formula.api import ols\n",
    "from sklearn import metrics\n",
    "from sklearn.datasets import load_boston\n",
    "from sklearn.model_selection import train_test_split\n",
    "from sklearn.linear_model import LinearRegression\n",
    "from sklearn.linear_model import Ridge, Lasso\n",
    "from sklearn.preprocessing import StandardScaler"
   ]
  },
  {
   "cell_type": "markdown",
   "id": "1492c604-7149-442a-8e7d-91b680156ca0",
   "metadata": {
    "tags": []
   },
   "source": [
    "### Cargar el dataset que se analizará"
   ]
  },
  {
   "cell_type": "code",
   "execution_count": 2,
   "id": "9497676d-3536-4841-86e5-94565c490b23",
   "metadata": {},
   "outputs": [],
   "source": [
    "df = pd.read_csv('train.csv')"
   ]
  },
  {
   "cell_type": "markdown",
   "id": "819c1482-e0c9-416e-845a-68f376dae6b5",
   "metadata": {
    "tags": []
   },
   "source": [
    "### Exploración y limpieza del Dataset"
   ]
  },
  {
   "cell_type": "code",
   "execution_count": 3,
   "id": "6555b9c8-f377-470b-9dd9-593fe592e66b",
   "metadata": {},
   "outputs": [
    {
     "data": {
      "text/plain": [
       "(1460, 81)"
      ]
     },
     "execution_count": 3,
     "metadata": {},
     "output_type": "execute_result"
    }
   ],
   "source": [
    "df.shape"
   ]
  },
  {
   "cell_type": "code",
   "execution_count": 4,
   "id": "ec93a249-f7c8-468d-a278-67c5dc5e0030",
   "metadata": {},
   "outputs": [],
   "source": [
    "#1460 filas y 81 columnas"
   ]
  },
  {
   "cell_type": "code",
   "execution_count": 5,
   "id": "fbad37d8-d7b1-4e00-8f2c-145a0bf3f86b",
   "metadata": {},
   "outputs": [
    {
     "data": {
      "text/plain": [
       "Index(['Id', 'MSSubClass', 'MSZoning', 'LotFrontage', 'LotArea', 'Street',\n",
       "       'Alley', 'LotShape', 'LandContour', 'Utilities', 'LotConfig',\n",
       "       'LandSlope', 'Neighborhood', 'Condition1', 'Condition2', 'BldgType',\n",
       "       'HouseStyle', 'OverallQual', 'OverallCond', 'YearBuilt', 'YearRemodAdd',\n",
       "       'RoofStyle', 'RoofMatl', 'Exterior1st', 'Exterior2nd', 'MasVnrType',\n",
       "       'MasVnrArea', 'ExterQual', 'ExterCond', 'Foundation', 'BsmtQual',\n",
       "       'BsmtCond', 'BsmtExposure', 'BsmtFinType1', 'BsmtFinSF1',\n",
       "       'BsmtFinType2', 'BsmtFinSF2', 'BsmtUnfSF', 'TotalBsmtSF', 'Heating',\n",
       "       'HeatingQC', 'CentralAir', 'Electrical', '1stFlrSF', '2ndFlrSF',\n",
       "       'LowQualFinSF', 'GrLivArea', 'BsmtFullBath', 'BsmtHalfBath', 'FullBath',\n",
       "       'HalfBath', 'BedroomAbvGr', 'KitchenAbvGr', 'KitchenQual',\n",
       "       'TotRmsAbvGrd', 'Functional', 'Fireplaces', 'FireplaceQu', 'GarageType',\n",
       "       'GarageYrBlt', 'GarageFinish', 'GarageCars', 'GarageArea', 'GarageQual',\n",
       "       'GarageCond', 'PavedDrive', 'WoodDeckSF', 'OpenPorchSF',\n",
       "       'EnclosedPorch', '3SsnPorch', 'ScreenPorch', 'PoolArea', 'PoolQC',\n",
       "       'Fence', 'MiscFeature', 'MiscVal', 'MoSold', 'YrSold', 'SaleType',\n",
       "       'SaleCondition', 'SalePrice'],\n",
       "      dtype='object')"
      ]
     },
     "execution_count": 5,
     "metadata": {},
     "output_type": "execute_result"
    }
   ],
   "source": [
    "df.columns"
   ]
  },
  {
   "cell_type": "code",
   "execution_count": 6,
   "id": "d02cb6e0-830a-48d2-a7f5-0faa9fbc5367",
   "metadata": {},
   "outputs": [],
   "source": [
    "#Te niendo el nombre de las columnas podemos investigar que significan, si tenemos un Dic, Json, CSV u otra forma\n",
    "#de conocer el contenido de las columnas, podemos utilizarlo para descartar columnas antes de hacer manipulación"
   ]
  },
  {
   "cell_type": "code",
   "execution_count": null,
   "id": "62750221-3c8f-4049-bc2f-27826623135e",
   "metadata": {},
   "outputs": [],
   "source": []
  },
  {
   "cell_type": "code",
   "execution_count": 7,
   "id": "40ef1704-2e2f-46ad-b4f4-0e70f7fc0d36",
   "metadata": {},
   "outputs": [
    {
     "name": "stdout",
     "output_type": "stream",
     "text": [
      "<class 'pandas.core.frame.DataFrame'>\n",
      "RangeIndex: 1460 entries, 0 to 1459\n",
      "Data columns (total 81 columns):\n",
      " #   Column         Non-Null Count  Dtype  \n",
      "---  ------         --------------  -----  \n",
      " 0   Id             1460 non-null   int64  \n",
      " 1   MSSubClass     1460 non-null   int64  \n",
      " 2   MSZoning       1460 non-null   object \n",
      " 3   LotFrontage    1201 non-null   float64\n",
      " 4   LotArea        1460 non-null   int64  \n",
      " 5   Street         1460 non-null   object \n",
      " 6   Alley          91 non-null     object \n",
      " 7   LotShape       1460 non-null   object \n",
      " 8   LandContour    1460 non-null   object \n",
      " 9   Utilities      1460 non-null   object \n",
      " 10  LotConfig      1460 non-null   object \n",
      " 11  LandSlope      1460 non-null   object \n",
      " 12  Neighborhood   1460 non-null   object \n",
      " 13  Condition1     1460 non-null   object \n",
      " 14  Condition2     1460 non-null   object \n",
      " 15  BldgType       1460 non-null   object \n",
      " 16  HouseStyle     1460 non-null   object \n",
      " 17  OverallQual    1460 non-null   int64  \n",
      " 18  OverallCond    1460 non-null   int64  \n",
      " 19  YearBuilt      1460 non-null   int64  \n",
      " 20  YearRemodAdd   1460 non-null   int64  \n",
      " 21  RoofStyle      1460 non-null   object \n",
      " 22  RoofMatl       1460 non-null   object \n",
      " 23  Exterior1st    1460 non-null   object \n",
      " 24  Exterior2nd    1460 non-null   object \n",
      " 25  MasVnrType     1452 non-null   object \n",
      " 26  MasVnrArea     1452 non-null   float64\n",
      " 27  ExterQual      1460 non-null   object \n",
      " 28  ExterCond      1460 non-null   object \n",
      " 29  Foundation     1460 non-null   object \n",
      " 30  BsmtQual       1423 non-null   object \n",
      " 31  BsmtCond       1423 non-null   object \n",
      " 32  BsmtExposure   1422 non-null   object \n",
      " 33  BsmtFinType1   1423 non-null   object \n",
      " 34  BsmtFinSF1     1460 non-null   int64  \n",
      " 35  BsmtFinType2   1422 non-null   object \n",
      " 36  BsmtFinSF2     1460 non-null   int64  \n",
      " 37  BsmtUnfSF      1460 non-null   int64  \n",
      " 38  TotalBsmtSF    1460 non-null   int64  \n",
      " 39  Heating        1460 non-null   object \n",
      " 40  HeatingQC      1460 non-null   object \n",
      " 41  CentralAir     1460 non-null   object \n",
      " 42  Electrical     1459 non-null   object \n",
      " 43  1stFlrSF       1460 non-null   int64  \n",
      " 44  2ndFlrSF       1460 non-null   int64  \n",
      " 45  LowQualFinSF   1460 non-null   int64  \n",
      " 46  GrLivArea      1460 non-null   int64  \n",
      " 47  BsmtFullBath   1460 non-null   int64  \n",
      " 48  BsmtHalfBath   1460 non-null   int64  \n",
      " 49  FullBath       1460 non-null   int64  \n",
      " 50  HalfBath       1460 non-null   int64  \n",
      " 51  BedroomAbvGr   1460 non-null   int64  \n",
      " 52  KitchenAbvGr   1460 non-null   int64  \n",
      " 53  KitchenQual    1460 non-null   object \n",
      " 54  TotRmsAbvGrd   1460 non-null   int64  \n",
      " 55  Functional     1460 non-null   object \n",
      " 56  Fireplaces     1460 non-null   int64  \n",
      " 57  FireplaceQu    770 non-null    object \n",
      " 58  GarageType     1379 non-null   object \n",
      " 59  GarageYrBlt    1379 non-null   float64\n",
      " 60  GarageFinish   1379 non-null   object \n",
      " 61  GarageCars     1460 non-null   int64  \n",
      " 62  GarageArea     1460 non-null   int64  \n",
      " 63  GarageQual     1379 non-null   object \n",
      " 64  GarageCond     1379 non-null   object \n",
      " 65  PavedDrive     1460 non-null   object \n",
      " 66  WoodDeckSF     1460 non-null   int64  \n",
      " 67  OpenPorchSF    1460 non-null   int64  \n",
      " 68  EnclosedPorch  1460 non-null   int64  \n",
      " 69  3SsnPorch      1460 non-null   int64  \n",
      " 70  ScreenPorch    1460 non-null   int64  \n",
      " 71  PoolArea       1460 non-null   int64  \n",
      " 72  PoolQC         7 non-null      object \n",
      " 73  Fence          281 non-null    object \n",
      " 74  MiscFeature    54 non-null     object \n",
      " 75  MiscVal        1460 non-null   int64  \n",
      " 76  MoSold         1460 non-null   int64  \n",
      " 77  YrSold         1460 non-null   int64  \n",
      " 78  SaleType       1460 non-null   object \n",
      " 79  SaleCondition  1460 non-null   object \n",
      " 80  SalePrice      1460 non-null   int64  \n",
      "dtypes: float64(3), int64(35), object(43)\n",
      "memory usage: 924.0+ KB\n"
     ]
    }
   ],
   "source": [
    "df.info()"
   ]
  },
  {
   "cell_type": "code",
   "execution_count": 8,
   "id": "3f2e8e47-91c3-4341-89fb-043eaa6f0449",
   "metadata": {},
   "outputs": [],
   "source": [
    "percent_missing = df.isnull().sum() * 100 / len(df)\n",
    "missing_value_df = pd.DataFrame({'column_name': df.columns,\n",
    "                                 'percent_missing': percent_missing})\n",
    "missing_value_df.sort_values('percent_missing', inplace=True, ascending=False)"
   ]
  },
  {
   "cell_type": "code",
   "execution_count": 9,
   "id": "0cf0e38c-09cf-4a65-9145-5dad46dd10ee",
   "metadata": {},
   "outputs": [
    {
     "data": {
      "text/html": [
       "<div>\n",
       "<style scoped>\n",
       "    .dataframe tbody tr th:only-of-type {\n",
       "        vertical-align: middle;\n",
       "    }\n",
       "\n",
       "    .dataframe tbody tr th {\n",
       "        vertical-align: top;\n",
       "    }\n",
       "\n",
       "    .dataframe thead th {\n",
       "        text-align: right;\n",
       "    }\n",
       "</style>\n",
       "<table border=\"1\" class=\"dataframe\">\n",
       "  <thead>\n",
       "    <tr style=\"text-align: right;\">\n",
       "      <th></th>\n",
       "      <th>column_name</th>\n",
       "      <th>percent_missing</th>\n",
       "    </tr>\n",
       "  </thead>\n",
       "  <tbody>\n",
       "    <tr>\n",
       "      <th>PoolQC</th>\n",
       "      <td>PoolQC</td>\n",
       "      <td>99.520548</td>\n",
       "    </tr>\n",
       "    <tr>\n",
       "      <th>MiscFeature</th>\n",
       "      <td>MiscFeature</td>\n",
       "      <td>96.301370</td>\n",
       "    </tr>\n",
       "    <tr>\n",
       "      <th>Alley</th>\n",
       "      <td>Alley</td>\n",
       "      <td>93.767123</td>\n",
       "    </tr>\n",
       "    <tr>\n",
       "      <th>Fence</th>\n",
       "      <td>Fence</td>\n",
       "      <td>80.753425</td>\n",
       "    </tr>\n",
       "    <tr>\n",
       "      <th>FireplaceQu</th>\n",
       "      <td>FireplaceQu</td>\n",
       "      <td>47.260274</td>\n",
       "    </tr>\n",
       "    <tr>\n",
       "      <th>LotFrontage</th>\n",
       "      <td>LotFrontage</td>\n",
       "      <td>17.739726</td>\n",
       "    </tr>\n",
       "    <tr>\n",
       "      <th>GarageYrBlt</th>\n",
       "      <td>GarageYrBlt</td>\n",
       "      <td>5.547945</td>\n",
       "    </tr>\n",
       "    <tr>\n",
       "      <th>GarageCond</th>\n",
       "      <td>GarageCond</td>\n",
       "      <td>5.547945</td>\n",
       "    </tr>\n",
       "    <tr>\n",
       "      <th>GarageType</th>\n",
       "      <td>GarageType</td>\n",
       "      <td>5.547945</td>\n",
       "    </tr>\n",
       "    <tr>\n",
       "      <th>GarageFinish</th>\n",
       "      <td>GarageFinish</td>\n",
       "      <td>5.547945</td>\n",
       "    </tr>\n",
       "    <tr>\n",
       "      <th>GarageQual</th>\n",
       "      <td>GarageQual</td>\n",
       "      <td>5.547945</td>\n",
       "    </tr>\n",
       "    <tr>\n",
       "      <th>BsmtFinType2</th>\n",
       "      <td>BsmtFinType2</td>\n",
       "      <td>2.602740</td>\n",
       "    </tr>\n",
       "    <tr>\n",
       "      <th>BsmtExposure</th>\n",
       "      <td>BsmtExposure</td>\n",
       "      <td>2.602740</td>\n",
       "    </tr>\n",
       "    <tr>\n",
       "      <th>BsmtQual</th>\n",
       "      <td>BsmtQual</td>\n",
       "      <td>2.534247</td>\n",
       "    </tr>\n",
       "    <tr>\n",
       "      <th>BsmtCond</th>\n",
       "      <td>BsmtCond</td>\n",
       "      <td>2.534247</td>\n",
       "    </tr>\n",
       "    <tr>\n",
       "      <th>BsmtFinType1</th>\n",
       "      <td>BsmtFinType1</td>\n",
       "      <td>2.534247</td>\n",
       "    </tr>\n",
       "    <tr>\n",
       "      <th>MasVnrArea</th>\n",
       "      <td>MasVnrArea</td>\n",
       "      <td>0.547945</td>\n",
       "    </tr>\n",
       "    <tr>\n",
       "      <th>MasVnrType</th>\n",
       "      <td>MasVnrType</td>\n",
       "      <td>0.547945</td>\n",
       "    </tr>\n",
       "    <tr>\n",
       "      <th>Electrical</th>\n",
       "      <td>Electrical</td>\n",
       "      <td>0.068493</td>\n",
       "    </tr>\n",
       "    <tr>\n",
       "      <th>Id</th>\n",
       "      <td>Id</td>\n",
       "      <td>0.000000</td>\n",
       "    </tr>\n",
       "  </tbody>\n",
       "</table>\n",
       "</div>"
      ],
      "text/plain": [
       "               column_name  percent_missing\n",
       "PoolQC              PoolQC        99.520548\n",
       "MiscFeature    MiscFeature        96.301370\n",
       "Alley                Alley        93.767123\n",
       "Fence                Fence        80.753425\n",
       "FireplaceQu    FireplaceQu        47.260274\n",
       "LotFrontage    LotFrontage        17.739726\n",
       "GarageYrBlt    GarageYrBlt         5.547945\n",
       "GarageCond      GarageCond         5.547945\n",
       "GarageType      GarageType         5.547945\n",
       "GarageFinish  GarageFinish         5.547945\n",
       "GarageQual      GarageQual         5.547945\n",
       "BsmtFinType2  BsmtFinType2         2.602740\n",
       "BsmtExposure  BsmtExposure         2.602740\n",
       "BsmtQual          BsmtQual         2.534247\n",
       "BsmtCond          BsmtCond         2.534247\n",
       "BsmtFinType1  BsmtFinType1         2.534247\n",
       "MasVnrArea      MasVnrArea         0.547945\n",
       "MasVnrType      MasVnrType         0.547945\n",
       "Electrical      Electrical         0.068493\n",
       "Id                      Id         0.000000"
      ]
     },
     "execution_count": 9,
     "metadata": {},
     "output_type": "execute_result"
    }
   ],
   "source": [
    "missing_value_df.head(20)"
   ]
  },
  {
   "cell_type": "code",
   "execution_count": 10,
   "id": "1832c961-d919-4272-bdf1-63289dec6617",
   "metadata": {},
   "outputs": [],
   "source": [
    "df.drop(columns=['PoolQC','MiscFeature','Alley','Fence','FireplaceQu',\n",
    "                 'LotFrontage','GarageYrBlt','GarageCond','GarageType','GarageFinish',\n",
    "                 'GarageQual'], inplace=True, axis=1)"
   ]
  },
  {
   "cell_type": "code",
   "execution_count": 11,
   "id": "5da5d97d-e660-4b20-961b-72f8cd9fdff9",
   "metadata": {},
   "outputs": [],
   "source": [
    "#Tiramos las columnas que tienen un porcentaje de valores nulos mayor a 5"
   ]
  },
  {
   "cell_type": "code",
   "execution_count": 12,
   "id": "a7f1c035-02a5-47bf-ac1d-44a683fa73e5",
   "metadata": {},
   "outputs": [],
   "source": [
    "#Lista de elementos con valores nulos\n",
    "missing_values=['BsmtFinType2','BsmtExposure','BsmtQual','BsmtCond','BsmtFinType1','MasVnrArea','MasVnrType','Electrical']"
   ]
  },
  {
   "cell_type": "code",
   "execution_count": 13,
   "id": "56da21fc-323b-44bb-b5c4-e3886e13625d",
   "metadata": {},
   "outputs": [
    {
     "data": {
      "text/html": [
       "<div>\n",
       "<style scoped>\n",
       "    .dataframe tbody tr th:only-of-type {\n",
       "        vertical-align: middle;\n",
       "    }\n",
       "\n",
       "    .dataframe tbody tr th {\n",
       "        vertical-align: top;\n",
       "    }\n",
       "\n",
       "    .dataframe thead th {\n",
       "        text-align: right;\n",
       "    }\n",
       "</style>\n",
       "<table border=\"1\" class=\"dataframe\">\n",
       "  <thead>\n",
       "    <tr style=\"text-align: right;\">\n",
       "      <th></th>\n",
       "      <th>BsmtFinType2</th>\n",
       "      <th>BsmtExposure</th>\n",
       "      <th>BsmtQual</th>\n",
       "      <th>BsmtCond</th>\n",
       "      <th>BsmtFinType1</th>\n",
       "      <th>MasVnrArea</th>\n",
       "      <th>MasVnrType</th>\n",
       "      <th>Electrical</th>\n",
       "    </tr>\n",
       "  </thead>\n",
       "  <tbody>\n",
       "    <tr>\n",
       "      <th>234</th>\n",
       "      <td>Unf</td>\n",
       "      <td>No</td>\n",
       "      <td>Gd</td>\n",
       "      <td>TA</td>\n",
       "      <td>GLQ</td>\n",
       "      <td>NaN</td>\n",
       "      <td>NaN</td>\n",
       "      <td>SBrkr</td>\n",
       "    </tr>\n",
       "    <tr>\n",
       "      <th>529</th>\n",
       "      <td>Unf</td>\n",
       "      <td>No</td>\n",
       "      <td>TA</td>\n",
       "      <td>TA</td>\n",
       "      <td>Rec</td>\n",
       "      <td>NaN</td>\n",
       "      <td>NaN</td>\n",
       "      <td>SBrkr</td>\n",
       "    </tr>\n",
       "    <tr>\n",
       "      <th>650</th>\n",
       "      <td>Unf</td>\n",
       "      <td>No</td>\n",
       "      <td>Gd</td>\n",
       "      <td>TA</td>\n",
       "      <td>Unf</td>\n",
       "      <td>NaN</td>\n",
       "      <td>NaN</td>\n",
       "      <td>SBrkr</td>\n",
       "    </tr>\n",
       "    <tr>\n",
       "      <th>936</th>\n",
       "      <td>Unf</td>\n",
       "      <td>No</td>\n",
       "      <td>Gd</td>\n",
       "      <td>TA</td>\n",
       "      <td>GLQ</td>\n",
       "      <td>NaN</td>\n",
       "      <td>NaN</td>\n",
       "      <td>SBrkr</td>\n",
       "    </tr>\n",
       "    <tr>\n",
       "      <th>973</th>\n",
       "      <td>Unf</td>\n",
       "      <td>No</td>\n",
       "      <td>Gd</td>\n",
       "      <td>TA</td>\n",
       "      <td>Unf</td>\n",
       "      <td>NaN</td>\n",
       "      <td>NaN</td>\n",
       "      <td>SBrkr</td>\n",
       "    </tr>\n",
       "    <tr>\n",
       "      <th>977</th>\n",
       "      <td>Unf</td>\n",
       "      <td>No</td>\n",
       "      <td>Gd</td>\n",
       "      <td>TA</td>\n",
       "      <td>GLQ</td>\n",
       "      <td>NaN</td>\n",
       "      <td>NaN</td>\n",
       "      <td>SBrkr</td>\n",
       "    </tr>\n",
       "    <tr>\n",
       "      <th>1243</th>\n",
       "      <td>Unf</td>\n",
       "      <td>Gd</td>\n",
       "      <td>Ex</td>\n",
       "      <td>Gd</td>\n",
       "      <td>GLQ</td>\n",
       "      <td>NaN</td>\n",
       "      <td>NaN</td>\n",
       "      <td>SBrkr</td>\n",
       "    </tr>\n",
       "    <tr>\n",
       "      <th>1278</th>\n",
       "      <td>Unf</td>\n",
       "      <td>No</td>\n",
       "      <td>Gd</td>\n",
       "      <td>TA</td>\n",
       "      <td>GLQ</td>\n",
       "      <td>NaN</td>\n",
       "      <td>NaN</td>\n",
       "      <td>SBrkr</td>\n",
       "    </tr>\n",
       "  </tbody>\n",
       "</table>\n",
       "</div>"
      ],
      "text/plain": [
       "     BsmtFinType2 BsmtExposure BsmtQual BsmtCond BsmtFinType1  MasVnrArea  \\\n",
       "234           Unf           No       Gd       TA          GLQ         NaN   \n",
       "529           Unf           No       TA       TA          Rec         NaN   \n",
       "650           Unf           No       Gd       TA          Unf         NaN   \n",
       "936           Unf           No       Gd       TA          GLQ         NaN   \n",
       "973           Unf           No       Gd       TA          Unf         NaN   \n",
       "977           Unf           No       Gd       TA          GLQ         NaN   \n",
       "1243          Unf           Gd       Ex       Gd          GLQ         NaN   \n",
       "1278          Unf           No       Gd       TA          GLQ         NaN   \n",
       "\n",
       "     MasVnrType Electrical  \n",
       "234         NaN      SBrkr  \n",
       "529         NaN      SBrkr  \n",
       "650         NaN      SBrkr  \n",
       "936         NaN      SBrkr  \n",
       "973         NaN      SBrkr  \n",
       "977         NaN      SBrkr  \n",
       "1243        NaN      SBrkr  \n",
       "1278        NaN      SBrkr  "
      ]
     },
     "execution_count": 13,
     "metadata": {},
     "output_type": "execute_result"
    }
   ],
   "source": [
    "df[df['MasVnrType'].isnull()][['BsmtFinType2','BsmtExposure','BsmtQual','BsmtCond','BsmtFinType1','MasVnrArea','MasVnrType','Electrical']]"
   ]
  },
  {
   "cell_type": "code",
   "execution_count": 14,
   "id": "c7488181-78ea-4f08-93ad-66b6b57fee80",
   "metadata": {},
   "outputs": [
    {
     "data": {
      "text/plain": [
       "array(['BrkFace', 'None', 'Stone', 'BrkCmn', nan], dtype=object)"
      ]
     },
     "execution_count": 14,
     "metadata": {},
     "output_type": "execute_result"
    }
   ],
   "source": [
    "df['MasVnrType'].unique()"
   ]
  },
  {
   "cell_type": "code",
   "execution_count": 17,
   "id": "f2b7a1f9-9c8a-4233-a5e2-f3448a30582e",
   "metadata": {},
   "outputs": [
    {
     "name": "stdout",
     "output_type": "stream",
     "text": [
      "['Unf' 'BLQ' nan 'ALQ' 'Rec' 'LwQ' 'GLQ']\n",
      "['No' 'Gd' 'Mn' 'Av' nan]\n",
      "['Gd' 'TA' 'Ex' nan 'Fa']\n",
      "['TA' 'Gd' nan 'Fa' 'Po']\n",
      "['GLQ' 'ALQ' 'Unf' 'Rec' 'BLQ' nan 'LwQ']\n",
      "[1.960e+02 0.000e+00 1.620e+02 3.500e+02 1.860e+02 2.400e+02 2.860e+02\n",
      " 3.060e+02 2.120e+02 1.800e+02 3.800e+02 2.810e+02 6.400e+02 2.000e+02\n",
      " 2.460e+02 1.320e+02 6.500e+02 1.010e+02 4.120e+02 2.720e+02 4.560e+02\n",
      " 1.031e+03 1.780e+02 5.730e+02 3.440e+02 2.870e+02 1.670e+02 1.115e+03\n",
      " 4.000e+01 1.040e+02 5.760e+02 4.430e+02 4.680e+02 6.600e+01 2.200e+01\n",
      " 2.840e+02 7.600e+01 2.030e+02 6.800e+01 1.830e+02 4.800e+01 2.800e+01\n",
      " 3.360e+02 6.000e+02 7.680e+02 4.800e+02 2.200e+02 1.840e+02 1.129e+03\n",
      " 1.160e+02 1.350e+02 2.660e+02 8.500e+01 3.090e+02 1.360e+02 2.880e+02\n",
      " 7.000e+01 3.200e+02 5.000e+01 1.200e+02 4.360e+02 2.520e+02 8.400e+01\n",
      " 6.640e+02 2.260e+02 3.000e+02 6.530e+02 1.120e+02 4.910e+02 2.680e+02\n",
      " 7.480e+02 9.800e+01 2.750e+02 1.380e+02 2.050e+02 2.620e+02 1.280e+02\n",
      " 2.600e+02 1.530e+02 6.400e+01 3.120e+02 1.600e+01 9.220e+02 1.420e+02\n",
      " 2.900e+02 1.270e+02 5.060e+02 2.970e+02       nan 6.040e+02 2.540e+02\n",
      " 3.600e+01 1.020e+02 4.720e+02 4.810e+02 1.080e+02 3.020e+02 1.720e+02\n",
      " 3.990e+02 2.700e+02 4.600e+01 2.100e+02 1.740e+02 3.480e+02 3.150e+02\n",
      " 2.990e+02 3.400e+02 1.660e+02 7.200e+01 3.100e+01 3.400e+01 2.380e+02\n",
      " 1.600e+03 3.650e+02 5.600e+01 1.500e+02 2.780e+02 2.560e+02 2.250e+02\n",
      " 3.700e+02 3.880e+02 1.750e+02 2.960e+02 1.460e+02 1.130e+02 1.760e+02\n",
      " 6.160e+02 3.000e+01 1.060e+02 8.700e+02 3.620e+02 5.300e+02 5.000e+02\n",
      " 5.100e+02 2.470e+02 3.050e+02 2.550e+02 1.250e+02 1.000e+02 4.320e+02\n",
      " 1.260e+02 4.730e+02 7.400e+01 1.450e+02 2.320e+02 3.760e+02 4.200e+01\n",
      " 1.610e+02 1.100e+02 1.800e+01 2.240e+02 2.480e+02 8.000e+01 3.040e+02\n",
      " 2.150e+02 7.720e+02 4.350e+02 3.780e+02 5.620e+02 1.680e+02 8.900e+01\n",
      " 2.850e+02 3.600e+02 9.400e+01 3.330e+02 9.210e+02 7.620e+02 5.940e+02\n",
      " 2.190e+02 1.880e+02 4.790e+02 5.840e+02 1.820e+02 2.500e+02 2.920e+02\n",
      " 2.450e+02 2.070e+02 8.200e+01 9.700e+01 3.350e+02 2.080e+02 4.200e+02\n",
      " 1.700e+02 4.590e+02 2.800e+02 9.900e+01 1.920e+02 2.040e+02 2.330e+02\n",
      " 1.560e+02 4.520e+02 5.130e+02 2.610e+02 1.640e+02 2.590e+02 2.090e+02\n",
      " 2.630e+02 2.160e+02 3.510e+02 6.600e+02 3.810e+02 5.400e+01 5.280e+02\n",
      " 2.580e+02 4.640e+02 5.700e+01 1.470e+02 1.170e+03 2.930e+02 6.300e+02\n",
      " 4.660e+02 1.090e+02 4.100e+01 1.600e+02 2.890e+02 6.510e+02 1.690e+02\n",
      " 9.500e+01 4.420e+02 2.020e+02 3.380e+02 8.940e+02 3.280e+02 6.730e+02\n",
      " 6.030e+02 1.000e+00 3.750e+02 9.000e+01 3.800e+01 1.570e+02 1.100e+01\n",
      " 1.400e+02 1.300e+02 1.480e+02 8.600e+02 4.240e+02 1.047e+03 2.430e+02\n",
      " 8.160e+02 3.870e+02 2.230e+02 1.580e+02 1.370e+02 1.150e+02 1.890e+02\n",
      " 2.740e+02 1.170e+02 6.000e+01 1.220e+02 9.200e+01 4.150e+02 7.600e+02\n",
      " 2.700e+01 7.500e+01 3.610e+02 1.050e+02 3.420e+02 2.980e+02 5.410e+02\n",
      " 2.360e+02 1.440e+02 4.230e+02 4.400e+01 1.510e+02 9.750e+02 4.500e+02\n",
      " 2.300e+02 5.710e+02 2.400e+01 5.300e+01 2.060e+02 1.400e+01 3.240e+02\n",
      " 2.950e+02 3.960e+02 6.700e+01 1.540e+02 4.250e+02 4.500e+01 1.378e+03\n",
      " 3.370e+02 1.490e+02 1.430e+02 5.100e+01 1.710e+02 2.340e+02 6.300e+01\n",
      " 7.660e+02 3.200e+01 8.100e+01 1.630e+02 5.540e+02 2.180e+02 6.320e+02\n",
      " 1.140e+02 5.670e+02 3.590e+02 4.510e+02 6.210e+02 7.880e+02 8.600e+01\n",
      " 7.960e+02 3.910e+02 2.280e+02 8.800e+01 1.650e+02 4.280e+02 4.100e+02\n",
      " 5.640e+02 3.680e+02 3.180e+02 5.790e+02 6.500e+01 7.050e+02 4.080e+02\n",
      " 2.440e+02 1.230e+02 3.660e+02 7.310e+02 4.480e+02 2.940e+02 3.100e+02\n",
      " 2.370e+02 4.260e+02 9.600e+01 4.380e+02 1.940e+02 1.190e+02]\n",
      "['BrkFace' 'None' 'Stone' 'BrkCmn' nan]\n",
      "['SBrkr' 'FuseF' 'FuseA' 'FuseP' 'Mix' nan]\n"
     ]
    }
   ],
   "source": [
    "for col in missing_values:\n",
    "    arras=df[col].unique()\n",
    "    print(arras)"
   ]
  },
  {
   "cell_type": "code",
   "execution_count": 18,
   "id": "673da032-9254-42da-af7e-7cfaaa10ceca",
   "metadata": {},
   "outputs": [],
   "source": [
    "df['MasVnrArea']=df['MasVnrArea'].fillna(0)"
   ]
  },
  {
   "cell_type": "code",
   "execution_count": 19,
   "id": "c19813c2-c7fe-41bc-b228-7e482895600e",
   "metadata": {},
   "outputs": [],
   "source": [
    "missing_values=['BsmtFinType2','BsmtExposure','BsmtQual','BsmtCond','BsmtFinType1','MasVnrType','Electrical']"
   ]
  },
  {
   "cell_type": "code",
   "execution_count": 20,
   "id": "88c8f05c-c8ee-4cc5-836b-0a87ef0d8c27",
   "metadata": {},
   "outputs": [],
   "source": [
    "for col in missing_values:\n",
    "    df[col]=df[col].fillna('None')"
   ]
  },
  {
   "cell_type": "code",
   "execution_count": 21,
   "id": "8e1eb7a7-d288-420f-80c0-d06f711ff7bb",
   "metadata": {},
   "outputs": [],
   "source": [
    "percent_missing = df.isnull().sum() * 100 / len(df)\n",
    "missing_value_df = pd.DataFrame({'column_name': df.columns,\n",
    "                                 'percent_missing': percent_missing})\n",
    "missing_value_df.sort_values('percent_missing', inplace=True, ascending=False)"
   ]
  },
  {
   "cell_type": "code",
   "execution_count": 22,
   "id": "223bd124-1ce5-46a8-ae2a-1ba6625e48a9",
   "metadata": {},
   "outputs": [
    {
     "data": {
      "text/html": [
       "<div>\n",
       "<style scoped>\n",
       "    .dataframe tbody tr th:only-of-type {\n",
       "        vertical-align: middle;\n",
       "    }\n",
       "\n",
       "    .dataframe tbody tr th {\n",
       "        vertical-align: top;\n",
       "    }\n",
       "\n",
       "    .dataframe thead th {\n",
       "        text-align: right;\n",
       "    }\n",
       "</style>\n",
       "<table border=\"1\" class=\"dataframe\">\n",
       "  <thead>\n",
       "    <tr style=\"text-align: right;\">\n",
       "      <th></th>\n",
       "      <th>column_name</th>\n",
       "      <th>percent_missing</th>\n",
       "    </tr>\n",
       "  </thead>\n",
       "  <tbody>\n",
       "    <tr>\n",
       "      <th>Id</th>\n",
       "      <td>Id</td>\n",
       "      <td>0.0</td>\n",
       "    </tr>\n",
       "    <tr>\n",
       "      <th>GrLivArea</th>\n",
       "      <td>GrLivArea</td>\n",
       "      <td>0.0</td>\n",
       "    </tr>\n",
       "    <tr>\n",
       "      <th>KitchenAbvGr</th>\n",
       "      <td>KitchenAbvGr</td>\n",
       "      <td>0.0</td>\n",
       "    </tr>\n",
       "    <tr>\n",
       "      <th>BedroomAbvGr</th>\n",
       "      <td>BedroomAbvGr</td>\n",
       "      <td>0.0</td>\n",
       "    </tr>\n",
       "    <tr>\n",
       "      <th>HalfBath</th>\n",
       "      <td>HalfBath</td>\n",
       "      <td>0.0</td>\n",
       "    </tr>\n",
       "  </tbody>\n",
       "</table>\n",
       "</div>"
      ],
      "text/plain": [
       "               column_name  percent_missing\n",
       "Id                      Id              0.0\n",
       "GrLivArea        GrLivArea              0.0\n",
       "KitchenAbvGr  KitchenAbvGr              0.0\n",
       "BedroomAbvGr  BedroomAbvGr              0.0\n",
       "HalfBath          HalfBath              0.0"
      ]
     },
     "execution_count": 22,
     "metadata": {},
     "output_type": "execute_result"
    }
   ],
   "source": [
    "missing_value_df.head()"
   ]
  },
  {
   "cell_type": "code",
   "execution_count": 23,
   "id": "790567c7-c050-4960-8aea-61160867ddfb",
   "metadata": {},
   "outputs": [],
   "source": [
    "#Ya no se tienen valores Nulos en el DF"
   ]
  },
  {
   "cell_type": "markdown",
   "id": "7ca01666-b3a4-4f32-a6a9-c14bfe2a4509",
   "metadata": {
    "tags": []
   },
   "source": [
    "### Usando matriz de correlación y heat map para analizar el DF y Seleccionar columnas relevantes"
   ]
  },
  {
   "cell_type": "code",
   "execution_count": 24,
   "id": "c6d0407f-c4b4-491b-84d3-8c828d82024d",
   "metadata": {},
   "outputs": [],
   "source": [
    "sns.set_theme(style=\"white\")"
   ]
  },
  {
   "cell_type": "code",
   "execution_count": 25,
   "id": "e83181c6-c3c6-4c35-8835-0a4bdab3fe80",
   "metadata": {},
   "outputs": [],
   "source": [
    "corr = df.corr()"
   ]
  },
  {
   "cell_type": "code",
   "execution_count": 26,
   "id": "10f1b67f-6a6c-4a6a-81ca-3d1eb4534256",
   "metadata": {},
   "outputs": [
    {
     "data": {
      "text/html": [
       "<div>\n",
       "<style scoped>\n",
       "    .dataframe tbody tr th:only-of-type {\n",
       "        vertical-align: middle;\n",
       "    }\n",
       "\n",
       "    .dataframe tbody tr th {\n",
       "        vertical-align: top;\n",
       "    }\n",
       "\n",
       "    .dataframe thead th {\n",
       "        text-align: right;\n",
       "    }\n",
       "</style>\n",
       "<table border=\"1\" class=\"dataframe\">\n",
       "  <thead>\n",
       "    <tr style=\"text-align: right;\">\n",
       "      <th></th>\n",
       "      <th>SalePrice</th>\n",
       "    </tr>\n",
       "  </thead>\n",
       "  <tbody>\n",
       "    <tr>\n",
       "      <th>Id</th>\n",
       "      <td>-0.021917</td>\n",
       "    </tr>\n",
       "    <tr>\n",
       "      <th>MSSubClass</th>\n",
       "      <td>-0.084284</td>\n",
       "    </tr>\n",
       "    <tr>\n",
       "      <th>LotArea</th>\n",
       "      <td>0.263843</td>\n",
       "    </tr>\n",
       "    <tr>\n",
       "      <th>OverallQual</th>\n",
       "      <td>0.790982</td>\n",
       "    </tr>\n",
       "    <tr>\n",
       "      <th>OverallCond</th>\n",
       "      <td>-0.077856</td>\n",
       "    </tr>\n",
       "    <tr>\n",
       "      <th>YearBuilt</th>\n",
       "      <td>0.522897</td>\n",
       "    </tr>\n",
       "    <tr>\n",
       "      <th>YearRemodAdd</th>\n",
       "      <td>0.507101</td>\n",
       "    </tr>\n",
       "    <tr>\n",
       "      <th>MasVnrArea</th>\n",
       "      <td>0.472614</td>\n",
       "    </tr>\n",
       "    <tr>\n",
       "      <th>BsmtFinSF1</th>\n",
       "      <td>0.386420</td>\n",
       "    </tr>\n",
       "    <tr>\n",
       "      <th>BsmtFinSF2</th>\n",
       "      <td>-0.011378</td>\n",
       "    </tr>\n",
       "    <tr>\n",
       "      <th>BsmtUnfSF</th>\n",
       "      <td>0.214479</td>\n",
       "    </tr>\n",
       "    <tr>\n",
       "      <th>TotalBsmtSF</th>\n",
       "      <td>0.613581</td>\n",
       "    </tr>\n",
       "    <tr>\n",
       "      <th>1stFlrSF</th>\n",
       "      <td>0.605852</td>\n",
       "    </tr>\n",
       "    <tr>\n",
       "      <th>2ndFlrSF</th>\n",
       "      <td>0.319334</td>\n",
       "    </tr>\n",
       "    <tr>\n",
       "      <th>LowQualFinSF</th>\n",
       "      <td>-0.025606</td>\n",
       "    </tr>\n",
       "    <tr>\n",
       "      <th>GrLivArea</th>\n",
       "      <td>0.708624</td>\n",
       "    </tr>\n",
       "    <tr>\n",
       "      <th>BsmtFullBath</th>\n",
       "      <td>0.227122</td>\n",
       "    </tr>\n",
       "    <tr>\n",
       "      <th>BsmtHalfBath</th>\n",
       "      <td>-0.016844</td>\n",
       "    </tr>\n",
       "    <tr>\n",
       "      <th>FullBath</th>\n",
       "      <td>0.560664</td>\n",
       "    </tr>\n",
       "    <tr>\n",
       "      <th>HalfBath</th>\n",
       "      <td>0.284108</td>\n",
       "    </tr>\n",
       "    <tr>\n",
       "      <th>BedroomAbvGr</th>\n",
       "      <td>0.168213</td>\n",
       "    </tr>\n",
       "    <tr>\n",
       "      <th>KitchenAbvGr</th>\n",
       "      <td>-0.135907</td>\n",
       "    </tr>\n",
       "    <tr>\n",
       "      <th>TotRmsAbvGrd</th>\n",
       "      <td>0.533723</td>\n",
       "    </tr>\n",
       "    <tr>\n",
       "      <th>Fireplaces</th>\n",
       "      <td>0.466929</td>\n",
       "    </tr>\n",
       "    <tr>\n",
       "      <th>GarageCars</th>\n",
       "      <td>0.640409</td>\n",
       "    </tr>\n",
       "    <tr>\n",
       "      <th>GarageArea</th>\n",
       "      <td>0.623431</td>\n",
       "    </tr>\n",
       "    <tr>\n",
       "      <th>WoodDeckSF</th>\n",
       "      <td>0.324413</td>\n",
       "    </tr>\n",
       "    <tr>\n",
       "      <th>OpenPorchSF</th>\n",
       "      <td>0.315856</td>\n",
       "    </tr>\n",
       "    <tr>\n",
       "      <th>EnclosedPorch</th>\n",
       "      <td>-0.128578</td>\n",
       "    </tr>\n",
       "    <tr>\n",
       "      <th>3SsnPorch</th>\n",
       "      <td>0.044584</td>\n",
       "    </tr>\n",
       "    <tr>\n",
       "      <th>ScreenPorch</th>\n",
       "      <td>0.111447</td>\n",
       "    </tr>\n",
       "    <tr>\n",
       "      <th>PoolArea</th>\n",
       "      <td>0.092404</td>\n",
       "    </tr>\n",
       "    <tr>\n",
       "      <th>MiscVal</th>\n",
       "      <td>-0.021190</td>\n",
       "    </tr>\n",
       "    <tr>\n",
       "      <th>MoSold</th>\n",
       "      <td>0.046432</td>\n",
       "    </tr>\n",
       "    <tr>\n",
       "      <th>YrSold</th>\n",
       "      <td>-0.028923</td>\n",
       "    </tr>\n",
       "    <tr>\n",
       "      <th>SalePrice</th>\n",
       "      <td>1.000000</td>\n",
       "    </tr>\n",
       "  </tbody>\n",
       "</table>\n",
       "</div>"
      ],
      "text/plain": [
       "               SalePrice\n",
       "Id             -0.021917\n",
       "MSSubClass     -0.084284\n",
       "LotArea         0.263843\n",
       "OverallQual     0.790982\n",
       "OverallCond    -0.077856\n",
       "YearBuilt       0.522897\n",
       "YearRemodAdd    0.507101\n",
       "MasVnrArea      0.472614\n",
       "BsmtFinSF1      0.386420\n",
       "BsmtFinSF2     -0.011378\n",
       "BsmtUnfSF       0.214479\n",
       "TotalBsmtSF     0.613581\n",
       "1stFlrSF        0.605852\n",
       "2ndFlrSF        0.319334\n",
       "LowQualFinSF   -0.025606\n",
       "GrLivArea       0.708624\n",
       "BsmtFullBath    0.227122\n",
       "BsmtHalfBath   -0.016844\n",
       "FullBath        0.560664\n",
       "HalfBath        0.284108\n",
       "BedroomAbvGr    0.168213\n",
       "KitchenAbvGr   -0.135907\n",
       "TotRmsAbvGrd    0.533723\n",
       "Fireplaces      0.466929\n",
       "GarageCars      0.640409\n",
       "GarageArea      0.623431\n",
       "WoodDeckSF      0.324413\n",
       "OpenPorchSF     0.315856\n",
       "EnclosedPorch  -0.128578\n",
       "3SsnPorch       0.044584\n",
       "ScreenPorch     0.111447\n",
       "PoolArea        0.092404\n",
       "MiscVal        -0.021190\n",
       "MoSold          0.046432\n",
       "YrSold         -0.028923\n",
       "SalePrice       1.000000"
      ]
     },
     "execution_count": 26,
     "metadata": {},
     "output_type": "execute_result"
    }
   ],
   "source": [
    "corr.loc[['SalePrice']].T"
   ]
  },
  {
   "cell_type": "code",
   "execution_count": 27,
   "id": "fb44ad79-23b0-4981-b6eb-60fcff2578bd",
   "metadata": {},
   "outputs": [],
   "source": [
    "mask = np.triu(np.ones_like(corr, dtype=bool))"
   ]
  },
  {
   "cell_type": "code",
   "execution_count": 28,
   "id": "10f65a79-5626-4a39-88d8-4dbf4f915933",
   "metadata": {},
   "outputs": [
    {
     "data": {
      "text/plain": [
       "<AxesSubplot:>"
      ]
     },
     "execution_count": 28,
     "metadata": {},
     "output_type": "execute_result"
    },
    {
     "data": {
      "image/png": "[encoded data removed]",
      "text/plain": [
       "<Figure size 792x648 with 2 Axes>"
      ]
     },
     "metadata": {},
     "output_type": "display_data"
    }
   ],
   "source": [
    "f, ax = plt.subplots(figsize=(11, 9))\n",
    "cmap = sns.diverging_palette(230, 20, as_cmap=True)\n",
    "sns.heatmap(corr, mask=mask, cmap=cmap, vmax=.3, center=0,\n",
    "            square=True, linewidths=.5, cbar_kws={\"shrink\": .5})"
   ]
  },
  {
   "cell_type": "code",
   "execution_count": 29,
   "id": "a73197ad-f5d0-423d-b918-fa7f8c178b89",
   "metadata": {},
   "outputs": [],
   "source": [
    "num=['OverallQual','YearBuilt','YearRemodAdd','1stFlrSF','GrLivArea','FullBath','TotRmsAbvGrd','GarageArea']"
   ]
  },
  {
   "cell_type": "code",
   "execution_count": 30,
   "id": "fa7a613e-8a96-44f5-8730-f4917636b158",
   "metadata": {},
   "outputs": [],
   "source": [
    "#Se realiza una lista con los nombre de las columnas con ina correlación mayor a 0.5 y que no sean valores redundantes como el # de coches que\n",
    "#caben en el garage y el área del garage"
   ]
  },
  {
   "cell_type": "code",
   "execution_count": null,
   "id": "702d0f4f-fa19-41f8-a3ab-f5a72715b36f",
   "metadata": {},
   "outputs": [],
   "source": []
  },
  {
   "cell_type": "code",
   "execution_count": 31,
   "id": "b90701d8-6e83-4d07-b131-f4fdba6b6b15",
   "metadata": {},
   "outputs": [],
   "source": [
    "y = pd.Series(df.SalePrice)"
   ]
  },
  {
   "cell_type": "markdown",
   "id": "19ff2769-38e3-4717-a0b3-c8cdbc452190",
   "metadata": {
    "tags": []
   },
   "source": [
    "### Realizando una selección de las columnas categóricas que se utilizaran para prueva de hipótesis ANOVA"
   ]
  },
  {
   "cell_type": "code",
   "execution_count": 32,
   "id": "b20a0daa-2878-4967-b3a9-bb72dc501d20",
   "metadata": {},
   "outputs": [
    {
     "data": {
      "text/plain": [
       "(1460, 70)"
      ]
     },
     "execution_count": 32,
     "metadata": {},
     "output_type": "execute_result"
    }
   ],
   "source": [
    "df.shape"
   ]
  },
  {
   "cell_type": "code",
   "execution_count": 33,
   "id": "a3e592b9-fcdf-4fce-98f6-d8cec95cfec9",
   "metadata": {},
   "outputs": [],
   "source": [
    "columnas_cat = [column for column in df.columns if df[column].dtype == 'object']"
   ]
  },
  {
   "cell_type": "code",
   "execution_count": 34,
   "id": "9c6a3ede-0de5-43f0-bbf6-527051a0c3dd",
   "metadata": {},
   "outputs": [
    {
     "data": {
      "text/plain": [
       "34"
      ]
     },
     "execution_count": 34,
     "metadata": {},
     "output_type": "execute_result"
    }
   ],
   "source": [
    "len(columnas_cat)"
   ]
  },
  {
   "cell_type": "code",
   "execution_count": 35,
   "id": "b7abc271-bac7-45a8-a984-6efed833dcbf",
   "metadata": {},
   "outputs": [
    {
     "data": {
      "text/plain": [
       "['MSZoning',\n",
       " 'Street',\n",
       " 'LotShape',\n",
       " 'LandContour',\n",
       " 'Utilities',\n",
       " 'LotConfig',\n",
       " 'LandSlope',\n",
       " 'Neighborhood',\n",
       " 'Condition1',\n",
       " 'Condition2',\n",
       " 'BldgType',\n",
       " 'HouseStyle',\n",
       " 'RoofStyle',\n",
       " 'RoofMatl',\n",
       " 'Exterior1st',\n",
       " 'Exterior2nd',\n",
       " 'MasVnrType',\n",
       " 'ExterQual',\n",
       " 'ExterCond',\n",
       " 'Foundation',\n",
       " 'BsmtQual',\n",
       " 'BsmtCond',\n",
       " 'BsmtExposure',\n",
       " 'BsmtFinType1',\n",
       " 'BsmtFinType2',\n",
       " 'Heating',\n",
       " 'HeatingQC',\n",
       " 'CentralAir',\n",
       " 'Electrical',\n",
       " 'KitchenQual',\n",
       " 'Functional',\n",
       " 'PavedDrive',\n",
       " 'SaleType',\n",
       " 'SaleCondition']"
      ]
     },
     "execution_count": 35,
     "metadata": {},
     "output_type": "execute_result"
    }
   ],
   "source": [
    "columnas_cat"
   ]
  },
  {
   "cell_type": "code",
   "execution_count": 36,
   "id": "6847b769-2367-4116-b410-febceef71206",
   "metadata": {},
   "outputs": [
    {
     "name": "stdout",
     "output_type": "stream",
     "text": [
      "RL         1151\n",
      "RM          218\n",
      "FV           65\n",
      "RH           16\n",
      "C (all)      10\n",
      "Name: MSZoning, dtype: int64\n",
      "Pave    1454\n",
      "Grvl       6\n",
      "Name: Street, dtype: int64\n",
      "Reg    925\n",
      "IR1    484\n",
      "IR2     41\n",
      "IR3     10\n",
      "Name: LotShape, dtype: int64\n",
      "Lvl    1311\n",
      "Bnk      63\n",
      "HLS      50\n",
      "Low      36\n",
      "Name: LandContour, dtype: int64\n",
      "AllPub    1459\n",
      "NoSeWa       1\n",
      "Name: Utilities, dtype: int64\n",
      "Inside     1052\n",
      "Corner      263\n",
      "CulDSac      94\n",
      "FR2          47\n",
      "FR3           4\n",
      "Name: LotConfig, dtype: int64\n",
      "Gtl    1382\n",
      "Mod      65\n",
      "Sev      13\n",
      "Name: LandSlope, dtype: int64\n",
      "NAmes      225\n",
      "CollgCr    150\n",
      "OldTown    113\n",
      "Edwards    100\n",
      "Somerst     86\n",
      "Gilbert     79\n",
      "NridgHt     77\n",
      "Sawyer      74\n",
      "NWAmes      73\n",
      "SawyerW     59\n",
      "BrkSide     58\n",
      "Crawfor     51\n",
      "Mitchel     49\n",
      "NoRidge     41\n",
      "Timber      38\n",
      "IDOTRR      37\n",
      "ClearCr     28\n",
      "StoneBr     25\n",
      "SWISU       25\n",
      "MeadowV     17\n",
      "Blmngtn     17\n",
      "BrDale      16\n",
      "Veenker     11\n",
      "NPkVill      9\n",
      "Blueste      2\n",
      "Name: Neighborhood, dtype: int64\n",
      "Norm      1260\n",
      "Feedr       81\n",
      "Artery      48\n",
      "RRAn        26\n",
      "PosN        19\n",
      "RRAe        11\n",
      "PosA         8\n",
      "RRNn         5\n",
      "RRNe         2\n",
      "Name: Condition1, dtype: int64\n",
      "Norm      1445\n",
      "Feedr        6\n",
      "Artery       2\n",
      "RRNn         2\n",
      "PosN         2\n",
      "PosA         1\n",
      "RRAn         1\n",
      "RRAe         1\n",
      "Name: Condition2, dtype: int64\n",
      "1Fam      1220\n",
      "TwnhsE     114\n",
      "Duplex      52\n",
      "Twnhs       43\n",
      "2fmCon      31\n",
      "Name: BldgType, dtype: int64\n",
      "1Story    726\n",
      "2Story    445\n",
      "1.5Fin    154\n",
      "SLvl       65\n",
      "SFoyer     37\n",
      "1.5Unf     14\n",
      "2.5Unf     11\n",
      "2.5Fin      8\n",
      "Name: HouseStyle, dtype: int64\n",
      "Gable      1141\n",
      "Hip         286\n",
      "Flat         13\n",
      "Gambrel      11\n",
      "Mansard       7\n",
      "Shed          2\n",
      "Name: RoofStyle, dtype: int64\n",
      "CompShg    1434\n",
      "Tar&Grv      11\n",
      "WdShngl       6\n",
      "WdShake       5\n",
      "Metal         1\n",
      "Membran       1\n",
      "Roll          1\n",
      "ClyTile       1\n",
      "Name: RoofMatl, dtype: int64\n",
      "VinylSd    515\n",
      "HdBoard    222\n",
      "MetalSd    220\n",
      "Wd Sdng    206\n",
      "Plywood    108\n",
      "CemntBd     61\n",
      "BrkFace     50\n",
      "WdShing     26\n",
      "Stucco      25\n",
      "AsbShng     20\n",
      "BrkComm      2\n",
      "Stone        2\n",
      "AsphShn      1\n",
      "ImStucc      1\n",
      "CBlock       1\n",
      "Name: Exterior1st, dtype: int64\n",
      "VinylSd    504\n",
      "MetalSd    214\n",
      "HdBoard    207\n",
      "Wd Sdng    197\n",
      "Plywood    142\n",
      "CmentBd     60\n",
      "Wd Shng     38\n",
      "Stucco      26\n",
      "BrkFace     25\n",
      "AsbShng     20\n",
      "ImStucc     10\n",
      "Brk Cmn      7\n",
      "Stone        5\n",
      "AsphShn      3\n",
      "Other        1\n",
      "CBlock       1\n",
      "Name: Exterior2nd, dtype: int64\n",
      "None       872\n",
      "BrkFace    445\n",
      "Stone      128\n",
      "BrkCmn      15\n",
      "Name: MasVnrType, dtype: int64\n",
      "TA    906\n",
      "Gd    488\n",
      "Ex     52\n",
      "Fa     14\n",
      "Name: ExterQual, dtype: int64\n",
      "TA    1282\n",
      "Gd     146\n",
      "Fa      28\n",
      "Ex       3\n",
      "Po       1\n",
      "Name: ExterCond, dtype: int64\n",
      "PConc     647\n",
      "CBlock    634\n",
      "BrkTil    146\n",
      "Slab       24\n",
      "Stone       6\n",
      "Wood        3\n",
      "Name: Foundation, dtype: int64\n",
      "TA      649\n",
      "Gd      618\n",
      "Ex      121\n",
      "None     37\n",
      "Fa       35\n",
      "Name: BsmtQual, dtype: int64\n",
      "TA      1311\n",
      "Gd        65\n",
      "Fa        45\n",
      "None      37\n",
      "Po         2\n",
      "Name: BsmtCond, dtype: int64\n",
      "No      953\n",
      "Av      221\n",
      "Gd      134\n",
      "Mn      114\n",
      "None     38\n",
      "Name: BsmtExposure, dtype: int64\n",
      "Unf     430\n",
      "GLQ     418\n",
      "ALQ     220\n",
      "BLQ     148\n",
      "Rec     133\n",
      "LwQ      74\n",
      "None     37\n",
      "Name: BsmtFinType1, dtype: int64\n",
      "Unf     1256\n",
      "Rec       54\n",
      "LwQ       46\n",
      "None      38\n",
      "BLQ       33\n",
      "ALQ       19\n",
      "GLQ       14\n",
      "Name: BsmtFinType2, dtype: int64\n",
      "GasA     1428\n",
      "GasW       18\n",
      "Grav        7\n",
      "Wall        4\n",
      "OthW        2\n",
      "Floor       1\n",
      "Name: Heating, dtype: int64\n",
      "Ex    741\n",
      "TA    428\n",
      "Gd    241\n",
      "Fa     49\n",
      "Po      1\n",
      "Name: HeatingQC, dtype: int64\n",
      "Y    1365\n",
      "N      95\n",
      "Name: CentralAir, dtype: int64\n",
      "SBrkr    1334\n",
      "FuseA      94\n",
      "FuseF      27\n",
      "FuseP       3\n",
      "Mix         1\n",
      "None        1\n",
      "Name: Electrical, dtype: int64\n",
      "TA    735\n",
      "Gd    586\n",
      "Ex    100\n",
      "Fa     39\n",
      "Name: KitchenQual, dtype: int64\n",
      "Typ     1360\n",
      "Min2      34\n",
      "Min1      31\n",
      "Mod       15\n",
      "Maj1      14\n",
      "Maj2       5\n",
      "Sev        1\n",
      "Name: Functional, dtype: int64\n",
      "Y    1340\n",
      "N      90\n",
      "P      30\n",
      "Name: PavedDrive, dtype: int64\n",
      "WD       1267\n",
      "New       122\n",
      "COD        43\n",
      "ConLD       9\n",
      "ConLI       5\n",
      "ConLw       5\n",
      "CWD         4\n",
      "Oth         3\n",
      "Con         2\n",
      "Name: SaleType, dtype: int64\n",
      "Normal     1198\n",
      "Partial     125\n",
      "Abnorml     101\n",
      "Family       20\n",
      "Alloca       12\n",
      "AdjLand       4\n",
      "Name: SaleCondition, dtype: int64\n"
     ]
    }
   ],
   "source": [
    "for col in columnas_cat:\n",
    "    arras=df[col].value_counts()\n",
    "    print(arras)"
   ]
  },
  {
   "cell_type": "code",
   "execution_count": 37,
   "id": "bbc3a348-6ed0-40f3-8410-26077ac229cb",
   "metadata": {},
   "outputs": [],
   "source": [
    "#Eliminaremos de la lista de Columnas categoricas las que mustraron una disparidad muy grande en los datos\n",
    "#ya que si una gran cantidad de datos tienen el mismo valor es muy probable que esta variable no \n",
    "#influya en el precio de venta de las casas"
   ]
  },
  {
   "cell_type": "code",
   "execution_count": 38,
   "id": "58cc7438-7e90-4ca4-98b2-5d93937ec206",
   "metadata": {},
   "outputs": [],
   "source": [
    "col_cat = [x for x in columnas_cat if x not in ('Street', 'Utilities','Condition2','RoofMatl','BsmtFinType2',\n",
    "                                                'Heating','CentralAir','Electrical','PavedDrive')]"
   ]
  },
  {
   "cell_type": "code",
   "execution_count": 39,
   "id": "b344665b-e7a3-456d-949f-319668337c46",
   "metadata": {},
   "outputs": [
    {
     "data": {
      "text/plain": [
       "25"
      ]
     },
     "execution_count": 39,
     "metadata": {},
     "output_type": "execute_result"
    }
   ],
   "source": [
    "len(col_cat)"
   ]
  },
  {
   "cell_type": "code",
   "execution_count": 40,
   "id": "02d8b866-95de-48a1-9c94-f38af31c279b",
   "metadata": {},
   "outputs": [],
   "source": [
    "#Después de eliminar estas columnas, nos quedamos con 25 posibles columnas que pueden ser de importancia para \n",
    "# el precio de una casa"
   ]
  },
  {
   "cell_type": "code",
   "execution_count": 41,
   "id": "816e013b-079b-40cd-8905-c25f3ec55a5b",
   "metadata": {},
   "outputs": [],
   "source": [
    "valuesp=[]\n",
    "for colu in col_cat:\n",
    "    modelo = ols(f'SalePrice ~ {colu}', data = df).fit()\n",
    "    pvalue=sm.stats.anova_lm(modelo)['PR(>F)'][0]\n",
    "    valuesp.append((pvalue,colu))"
   ]
  },
  {
   "cell_type": "code",
   "execution_count": 42,
   "id": "5eeac1f0-1b26-495e-b619-5d98530e8919",
   "metadata": {},
   "outputs": [
    {
     "data": {
      "text/plain": [
       "[(1.5586002827702678e-225, 'Neighborhood'),\n",
       " (1.4395510967785439e-204, 'ExterQual'),\n",
       " (8.158548084712274e-196, 'BsmtQual'),\n",
       " (3.03221275283851e-192, 'KitchenQual'),\n",
       " (5.791895002231574e-91, 'Foundation'),\n",
       " (2.3863579356150602e-71, 'BsmtFinType1'),\n",
       " (2.6670620921040538e-67, 'HeatingQC'),\n",
       " (1.2797035312661532e-63, 'MasVnrType'),\n",
       " (7.557758359195715e-50, 'BsmtExposure'),\n",
       " (7.988268404990495e-44, 'SaleCondition'),\n",
       " (2.5860887286373744e-43, 'Exterior1st'),\n",
       " (4.842185670698891e-43, 'Exterior2nd'),\n",
       " (5.039766889461878e-42, 'SaleType'),\n",
       " (8.8176338662734e-35, 'MSZoning'),\n",
       " (3.376776535121222e-25, 'HouseStyle'),\n",
       " (6.447523852011766e-25, 'LotShape'),\n",
       " (3.653523047099125e-17, 'RoofStyle'),\n",
       " (8.195793756121126e-16, 'BsmtCond'),\n",
       " (2.0567364604967015e-10, 'BldgType'),\n",
       " (2.7422167521379096e-08, 'LandContour'),\n",
       " (8.904549416138853e-08, 'Condition1'),\n",
       " (5.106680608671862e-07, 'ExterCond'),\n",
       " (3.163167473604189e-06, 'LotConfig'),\n",
       " (0.0004841696801078294, 'Functional'),\n",
       " (0.1413963584114019, 'LandSlope')]"
      ]
     },
     "execution_count": 42,
     "metadata": {},
     "output_type": "execute_result"
    }
   ],
   "source": [
    "sorted(valuesp)"
   ]
  },
  {
   "cell_type": "code",
   "execution_count": 43,
   "id": "980ea027-e0e7-4afa-8a66-18f0345f61a8",
   "metadata": {},
   "outputs": [],
   "source": [
    "# Nos quedaremos con las 5 variables que más seguridad tenemos de que las medias para cada valor son diferemtes"
   ]
  },
  {
   "cell_type": "code",
   "execution_count": 44,
   "id": "7e29d29c-de2b-4c47-a2c5-6e7b0c597b43",
   "metadata": {},
   "outputs": [],
   "source": [
    "cat=['Neighborhood','ExterQual','BsmtQual','KitchenQual','Foundation']"
   ]
  },
  {
   "cell_type": "code",
   "execution_count": 45,
   "id": "902bc5c6-0677-4c72-b077-2222ee53b20e",
   "metadata": {},
   "outputs": [
    {
     "name": "stdout",
     "output_type": "stream",
     "text": [
      "NAmes      225\n",
      "CollgCr    150\n",
      "OldTown    113\n",
      "Edwards    100\n",
      "Somerst     86\n",
      "Gilbert     79\n",
      "NridgHt     77\n",
      "Sawyer      74\n",
      "NWAmes      73\n",
      "SawyerW     59\n",
      "BrkSide     58\n",
      "Crawfor     51\n",
      "Mitchel     49\n",
      "NoRidge     41\n",
      "Timber      38\n",
      "IDOTRR      37\n",
      "ClearCr     28\n",
      "StoneBr     25\n",
      "SWISU       25\n",
      "MeadowV     17\n",
      "Blmngtn     17\n",
      "BrDale      16\n",
      "Veenker     11\n",
      "NPkVill      9\n",
      "Blueste      2\n",
      "Name: Neighborhood, dtype: int64\n",
      "TA    906\n",
      "Gd    488\n",
      "Ex     52\n",
      "Fa     14\n",
      "Name: ExterQual, dtype: int64\n",
      "TA      649\n",
      "Gd      618\n",
      "Ex      121\n",
      "None     37\n",
      "Fa       35\n",
      "Name: BsmtQual, dtype: int64\n",
      "TA    735\n",
      "Gd    586\n",
      "Ex    100\n",
      "Fa     39\n",
      "Name: KitchenQual, dtype: int64\n",
      "PConc     647\n",
      "CBlock    634\n",
      "BrkTil    146\n",
      "Slab       24\n",
      "Stone       6\n",
      "Wood        3\n",
      "Name: Foundation, dtype: int64\n"
     ]
    }
   ],
   "source": [
    "for col in cat:\n",
    "    arras=df[col].value_counts()\n",
    "    print(arras)"
   ]
  },
  {
   "cell_type": "markdown",
   "id": "c9a1444f-8e3d-4ca9-a26b-1c185e9d535b",
   "metadata": {
    "tags": []
   },
   "source": [
    "### Tiramos todas las columnas menos las deseadas del DF y Cambiamos columnas categoricas a numéricas"
   ]
  },
  {
   "cell_type": "code",
   "execution_count": 46,
   "id": "1f1ece78-bac4-420e-a2f6-419be231e9dd",
   "metadata": {},
   "outputs": [],
   "source": [
    "num.extend(cat)"
   ]
  },
  {
   "cell_type": "code",
   "execution_count": 47,
   "id": "2b6c8b72-ee30-4771-8a2f-dc79aedc8db5",
   "metadata": {},
   "outputs": [
    {
     "name": "stderr",
     "output_type": "stream",
     "text": [
      "C:\\Users\\LUISFM~1\\AppData\\Local\\Temp/ipykernel_19364/354723779.py:1: FutureWarning: In a future version of pandas all arguments of DataFrame.drop except for the argument 'labels' will be keyword-only\n",
      "  df.drop(df.columns.difference(num), 1, inplace=True)\n"
     ]
    }
   ],
   "source": [
    "df.drop(df.columns.difference(num), 1, inplace=True)"
   ]
  },
  {
   "cell_type": "code",
   "execution_count": 48,
   "id": "c617aa09-35a3-4900-9543-7e242325e36e",
   "metadata": {},
   "outputs": [
    {
     "data": {
      "text/html": [
       "<div>\n",
       "<style scoped>\n",
       "    .dataframe tbody tr th:only-of-type {\n",
       "        vertical-align: middle;\n",
       "    }\n",
       "\n",
       "    .dataframe tbody tr th {\n",
       "        vertical-align: top;\n",
       "    }\n",
       "\n",
       "    .dataframe thead th {\n",
       "        text-align: right;\n",
       "    }\n",
       "</style>\n",
       "<table border=\"1\" class=\"dataframe\">\n",
       "  <thead>\n",
       "    <tr style=\"text-align: right;\">\n",
       "      <th></th>\n",
       "      <th>Neighborhood</th>\n",
       "      <th>OverallQual</th>\n",
       "      <th>YearBuilt</th>\n",
       "      <th>YearRemodAdd</th>\n",
       "      <th>ExterQual</th>\n",
       "      <th>Foundation</th>\n",
       "      <th>BsmtQual</th>\n",
       "      <th>1stFlrSF</th>\n",
       "      <th>GrLivArea</th>\n",
       "      <th>FullBath</th>\n",
       "      <th>KitchenQual</th>\n",
       "      <th>TotRmsAbvGrd</th>\n",
       "      <th>GarageArea</th>\n",
       "    </tr>\n",
       "  </thead>\n",
       "  <tbody>\n",
       "    <tr>\n",
       "      <th>0</th>\n",
       "      <td>CollgCr</td>\n",
       "      <td>7</td>\n",
       "      <td>2003</td>\n",
       "      <td>2003</td>\n",
       "      <td>Gd</td>\n",
       "      <td>PConc</td>\n",
       "      <td>Gd</td>\n",
       "      <td>856</td>\n",
       "      <td>1710</td>\n",
       "      <td>2</td>\n",
       "      <td>Gd</td>\n",
       "      <td>8</td>\n",
       "      <td>548</td>\n",
       "    </tr>\n",
       "    <tr>\n",
       "      <th>1</th>\n",
       "      <td>Veenker</td>\n",
       "      <td>6</td>\n",
       "      <td>1976</td>\n",
       "      <td>1976</td>\n",
       "      <td>TA</td>\n",
       "      <td>CBlock</td>\n",
       "      <td>Gd</td>\n",
       "      <td>1262</td>\n",
       "      <td>1262</td>\n",
       "      <td>2</td>\n",
       "      <td>TA</td>\n",
       "      <td>6</td>\n",
       "      <td>460</td>\n",
       "    </tr>\n",
       "    <tr>\n",
       "      <th>2</th>\n",
       "      <td>CollgCr</td>\n",
       "      <td>7</td>\n",
       "      <td>2001</td>\n",
       "      <td>2002</td>\n",
       "      <td>Gd</td>\n",
       "      <td>PConc</td>\n",
       "      <td>Gd</td>\n",
       "      <td>920</td>\n",
       "      <td>1786</td>\n",
       "      <td>2</td>\n",
       "      <td>Gd</td>\n",
       "      <td>6</td>\n",
       "      <td>608</td>\n",
       "    </tr>\n",
       "    <tr>\n",
       "      <th>3</th>\n",
       "      <td>Crawfor</td>\n",
       "      <td>7</td>\n",
       "      <td>1915</td>\n",
       "      <td>1970</td>\n",
       "      <td>TA</td>\n",
       "      <td>BrkTil</td>\n",
       "      <td>TA</td>\n",
       "      <td>961</td>\n",
       "      <td>1717</td>\n",
       "      <td>1</td>\n",
       "      <td>Gd</td>\n",
       "      <td>7</td>\n",
       "      <td>642</td>\n",
       "    </tr>\n",
       "    <tr>\n",
       "      <th>4</th>\n",
       "      <td>NoRidge</td>\n",
       "      <td>8</td>\n",
       "      <td>2000</td>\n",
       "      <td>2000</td>\n",
       "      <td>Gd</td>\n",
       "      <td>PConc</td>\n",
       "      <td>Gd</td>\n",
       "      <td>1145</td>\n",
       "      <td>2198</td>\n",
       "      <td>2</td>\n",
       "      <td>Gd</td>\n",
       "      <td>9</td>\n",
       "      <td>836</td>\n",
       "    </tr>\n",
       "    <tr>\n",
       "      <th>...</th>\n",
       "      <td>...</td>\n",
       "      <td>...</td>\n",
       "      <td>...</td>\n",
       "      <td>...</td>\n",
       "      <td>...</td>\n",
       "      <td>...</td>\n",
       "      <td>...</td>\n",
       "      <td>...</td>\n",
       "      <td>...</td>\n",
       "      <td>...</td>\n",
       "      <td>...</td>\n",
       "      <td>...</td>\n",
       "      <td>...</td>\n",
       "    </tr>\n",
       "    <tr>\n",
       "      <th>1455</th>\n",
       "      <td>Gilbert</td>\n",
       "      <td>6</td>\n",
       "      <td>1999</td>\n",
       "      <td>2000</td>\n",
       "      <td>TA</td>\n",
       "      <td>PConc</td>\n",
       "      <td>Gd</td>\n",
       "      <td>953</td>\n",
       "      <td>1647</td>\n",
       "      <td>2</td>\n",
       "      <td>TA</td>\n",
       "      <td>7</td>\n",
       "      <td>460</td>\n",
       "    </tr>\n",
       "    <tr>\n",
       "      <th>1456</th>\n",
       "      <td>NWAmes</td>\n",
       "      <td>6</td>\n",
       "      <td>1978</td>\n",
       "      <td>1988</td>\n",
       "      <td>TA</td>\n",
       "      <td>CBlock</td>\n",
       "      <td>Gd</td>\n",
       "      <td>2073</td>\n",
       "      <td>2073</td>\n",
       "      <td>2</td>\n",
       "      <td>TA</td>\n",
       "      <td>7</td>\n",
       "      <td>500</td>\n",
       "    </tr>\n",
       "    <tr>\n",
       "      <th>1457</th>\n",
       "      <td>Crawfor</td>\n",
       "      <td>7</td>\n",
       "      <td>1941</td>\n",
       "      <td>2006</td>\n",
       "      <td>Ex</td>\n",
       "      <td>Stone</td>\n",
       "      <td>TA</td>\n",
       "      <td>1188</td>\n",
       "      <td>2340</td>\n",
       "      <td>2</td>\n",
       "      <td>Gd</td>\n",
       "      <td>9</td>\n",
       "      <td>252</td>\n",
       "    </tr>\n",
       "    <tr>\n",
       "      <th>1458</th>\n",
       "      <td>NAmes</td>\n",
       "      <td>5</td>\n",
       "      <td>1950</td>\n",
       "      <td>1996</td>\n",
       "      <td>TA</td>\n",
       "      <td>CBlock</td>\n",
       "      <td>TA</td>\n",
       "      <td>1078</td>\n",
       "      <td>1078</td>\n",
       "      <td>1</td>\n",
       "      <td>Gd</td>\n",
       "      <td>5</td>\n",
       "      <td>240</td>\n",
       "    </tr>\n",
       "    <tr>\n",
       "      <th>1459</th>\n",
       "      <td>Edwards</td>\n",
       "      <td>5</td>\n",
       "      <td>1965</td>\n",
       "      <td>1965</td>\n",
       "      <td>Gd</td>\n",
       "      <td>CBlock</td>\n",
       "      <td>TA</td>\n",
       "      <td>1256</td>\n",
       "      <td>1256</td>\n",
       "      <td>1</td>\n",
       "      <td>TA</td>\n",
       "      <td>6</td>\n",
       "      <td>276</td>\n",
       "    </tr>\n",
       "  </tbody>\n",
       "</table>\n",
       "<p>1460 rows × 13 columns</p>\n",
       "</div>"
      ],
      "text/plain": [
       "     Neighborhood  OverallQual  YearBuilt  YearRemodAdd ExterQual Foundation  \\\n",
       "0         CollgCr            7       2003          2003        Gd      PConc   \n",
       "1         Veenker            6       1976          1976        TA     CBlock   \n",
       "2         CollgCr            7       2001          2002        Gd      PConc   \n",
       "3         Crawfor            7       1915          1970        TA     BrkTil   \n",
       "4         NoRidge            8       2000          2000        Gd      PConc   \n",
       "...           ...          ...        ...           ...       ...        ...   \n",
       "1455      Gilbert            6       1999          2000        TA      PConc   \n",
       "1456       NWAmes            6       1978          1988        TA     CBlock   \n",
       "1457      Crawfor            7       1941          2006        Ex      Stone   \n",
       "1458        NAmes            5       1950          1996        TA     CBlock   \n",
       "1459      Edwards            5       1965          1965        Gd     CBlock   \n",
       "\n",
       "     BsmtQual  1stFlrSF  GrLivArea  FullBath KitchenQual  TotRmsAbvGrd  \\\n",
       "0          Gd       856       1710         2          Gd             8   \n",
       "1          Gd      1262       1262         2          TA             6   \n",
       "2          Gd       920       1786         2          Gd             6   \n",
       "3          TA       961       1717         1          Gd             7   \n",
       "4          Gd      1145       2198         2          Gd             9   \n",
       "...       ...       ...        ...       ...         ...           ...   \n",
       "1455       Gd       953       1647         2          TA             7   \n",
       "1456       Gd      2073       2073         2          TA             7   \n",
       "1457       TA      1188       2340         2          Gd             9   \n",
       "1458       TA      1078       1078         1          Gd             5   \n",
       "1459       TA      1256       1256         1          TA             6   \n",
       "\n",
       "      GarageArea  \n",
       "0            548  \n",
       "1            460  \n",
       "2            608  \n",
       "3            642  \n",
       "4            836  \n",
       "...          ...  \n",
       "1455         460  \n",
       "1456         500  \n",
       "1457         252  \n",
       "1458         240  \n",
       "1459         276  \n",
       "\n",
       "[1460 rows x 13 columns]"
      ]
     },
     "execution_count": 48,
     "metadata": {},
     "output_type": "execute_result"
    }
   ],
   "source": [
    "df"
   ]
  },
  {
   "cell_type": "code",
   "execution_count": 49,
   "id": "b54628fc-16a3-45f1-85d5-b68ce92bbff2",
   "metadata": {},
   "outputs": [],
   "source": [
    "df['Foundation'].replace(['PConc', 'CBlock','BrkTil','Slab','Stone','Wood'], [0, 1,2,3,4,5], inplace=True)"
   ]
  },
  {
   "cell_type": "code",
   "execution_count": 50,
   "id": "e5e2f92d-d789-452f-9903-7574c3e842ff",
   "metadata": {},
   "outputs": [],
   "source": [
    "df['KitchenQual'].replace(['TA', 'Gd','Ex','Fa'], [0, 1,2,3], inplace=True)"
   ]
  },
  {
   "cell_type": "code",
   "execution_count": 51,
   "id": "50e6e673-36f5-41a4-bea4-c66b2592ba0a",
   "metadata": {},
   "outputs": [],
   "source": [
    "df['BsmtQual'].replace(['TA', 'Gd','Ex','Fa', 'None'], [0, 1,2,3,4], inplace=True)"
   ]
  },
  {
   "cell_type": "code",
   "execution_count": 52,
   "id": "759a5c87-1dd2-4afc-a62a-023c2018bd35",
   "metadata": {},
   "outputs": [],
   "source": [
    "df['ExterQual'].replace(['TA', 'Gd','Ex','Fa'], [0, 1,2,3,], inplace=True)"
   ]
  },
  {
   "cell_type": "code",
   "execution_count": 71,
   "id": "ca4c120a-2de3-4fa9-b9b1-cc518c9f0d98",
   "metadata": {},
   "outputs": [],
   "source": [
    "dummies = pd.get_dummies(df.Neighborhood)\n",
    "merged = pd.concat([df, dummies], axis='columns')\n",
    "merged.drop(columns=['Neighborhood'], inplace=True, axis=1)"
   ]
  },
  {
   "cell_type": "code",
   "execution_count": 72,
   "id": "0578630b-f98e-43f2-adb9-026a59743e68",
   "metadata": {},
   "outputs": [
    {
     "name": "stdout",
     "output_type": "stream",
     "text": [
      "<class 'pandas.core.frame.DataFrame'>\n",
      "RangeIndex: 1460 entries, 0 to 1459\n",
      "Data columns (total 37 columns):\n",
      " #   Column        Non-Null Count  Dtype\n",
      "---  ------        --------------  -----\n",
      " 0   OverallQual   1460 non-null   int64\n",
      " 1   YearBuilt     1460 non-null   int64\n",
      " 2   YearRemodAdd  1460 non-null   int64\n",
      " 3   ExterQual     1460 non-null   int64\n",
      " 4   Foundation    1460 non-null   int64\n",
      " 5   BsmtQual      1460 non-null   int64\n",
      " 6   1stFlrSF      1460 non-null   int64\n",
      " 7   GrLivArea     1460 non-null   int64\n",
      " 8   FullBath      1460 non-null   int64\n",
      " 9   KitchenQual   1460 non-null   int64\n",
      " 10  TotRmsAbvGrd  1460 non-null   int64\n",
      " 11  GarageArea    1460 non-null   int64\n",
      " 12  Blmngtn       1460 non-null   uint8\n",
      " 13  Blueste       1460 non-null   uint8\n",
      " 14  BrDale        1460 non-null   uint8\n",
      " 15  BrkSide       1460 non-null   uint8\n",
      " 16  ClearCr       1460 non-null   uint8\n",
      " 17  CollgCr       1460 non-null   uint8\n",
      " 18  Crawfor       1460 non-null   uint8\n",
      " 19  Edwards       1460 non-null   uint8\n",
      " 20  Gilbert       1460 non-null   uint8\n",
      " 21  IDOTRR        1460 non-null   uint8\n",
      " 22  MeadowV       1460 non-null   uint8\n",
      " 23  Mitchel       1460 non-null   uint8\n",
      " 24  NAmes         1460 non-null   uint8\n",
      " 25  NPkVill       1460 non-null   uint8\n",
      " 26  NWAmes        1460 non-null   uint8\n",
      " 27  NoRidge       1460 non-null   uint8\n",
      " 28  NridgHt       1460 non-null   uint8\n",
      " 29  OldTown       1460 non-null   uint8\n",
      " 30  SWISU         1460 non-null   uint8\n",
      " 31  Sawyer        1460 non-null   uint8\n",
      " 32  SawyerW       1460 non-null   uint8\n",
      " 33  Somerst       1460 non-null   uint8\n",
      " 34  StoneBr       1460 non-null   uint8\n",
      " 35  Timber        1460 non-null   uint8\n",
      " 36  Veenker       1460 non-null   uint8\n",
      "dtypes: int64(12), uint8(25)\n",
      "memory usage: 172.6 KB\n"
     ]
    }
   ],
   "source": [
    "merged.info()"
   ]
  },
  {
   "cell_type": "markdown",
   "id": "57c6e596-a53a-4e09-8d95-e309e3cfd0f8",
   "metadata": {
    "tags": []
   },
   "source": [
    "### Creación, entrenamiento y prueba de un modelo de regresión lineal"
   ]
  },
  {
   "cell_type": "code",
   "execution_count": 64,
   "id": "924b6ac0-9b86-41dd-b834-0f54840fbcbd",
   "metadata": {},
   "outputs": [],
   "source": [
    "modelo_reg = LinearRegression()"
   ]
  },
  {
   "cell_type": "code",
   "execution_count": 73,
   "id": "7068d08f-087f-4c04-a2a1-389238e8df63",
   "metadata": {},
   "outputs": [
    {
     "data": {
      "text/plain": [
       "LinearRegression()"
      ]
     },
     "execution_count": 73,
     "metadata": {},
     "output_type": "execute_result"
    }
   ],
   "source": [
    "modelo_reg.fit(merged, y)"
   ]
  },
  {
   "cell_type": "code",
   "execution_count": 74,
   "id": "e4a25a02-47c3-4411-962a-07af3caab32c",
   "metadata": {},
   "outputs": [
    {
     "data": {
      "text/plain": [
       "-770589.681451925"
      ]
     },
     "execution_count": 74,
     "metadata": {},
     "output_type": "execute_result"
    }
   ],
   "source": [
    "modelo_reg.intercept_"
   ]
  },
  {
   "cell_type": "code",
   "execution_count": 75,
   "id": "b2652d39-fe03-4894-a8ec-53d9700e8c6f",
   "metadata": {},
   "outputs": [
    {
     "data": {
      "text/plain": [
       "array([ 1.55424642e+04,  1.43552735e+02,  2.32471304e+02,  4.84625703e+03,\n",
       "       -3.16696104e+03,  1.39192078e+03,  2.37085884e+01,  4.13572178e+01,\n",
       "       -4.55143380e+03,  5.83804412e+03,  1.32501667e+03,  3.74842952e+01,\n",
       "       -2.44868284e+04, -1.82362851e+04, -2.63101383e+04, -4.15379883e+03,\n",
       "        2.06549484e+04, -5.64650468e+03,  1.96864640e+04, -1.71112234e+04,\n",
       "       -4.80828222e+03, -2.04841041e+04, -1.46804504e+04, -7.62821244e+03,\n",
       "       -6.21811779e+03, -1.03986995e+04, -7.77520464e+03,  5.15291745e+04,\n",
       "        4.10915920e+04, -2.08529941e+04, -2.04924579e+04, -4.96006599e+03,\n",
       "       -9.97714103e+03, -6.76446095e+02,  4.91031393e+04,  1.23945170e+04,\n",
       "        3.04371198e+04])"
      ]
     },
     "execution_count": 75,
     "metadata": {},
     "output_type": "execute_result"
    }
   ],
   "source": [
    "modelo_reg.coef_"
   ]
  },
  {
   "cell_type": "code",
   "execution_count": 77,
   "id": "0cddd932-f513-490c-9e85-98a781fc3c67",
   "metadata": {},
   "outputs": [],
   "source": [
    "valores = merged.iloc[[34,2,1,5]]"
   ]
  },
  {
   "cell_type": "code",
   "execution_count": 78,
   "id": "44c88f1c-b682-46f9-a252-c7fd20d4c6c8",
   "metadata": {},
   "outputs": [
    {
     "data": {
      "text/plain": [
       "array([309720.9555239 , 214607.43578772, 192553.74095566, 130199.07427559])"
      ]
     },
     "execution_count": 78,
     "metadata": {},
     "output_type": "execute_result"
    }
   ],
   "source": [
    "modelo_reg.predict(valores)"
   ]
  },
  {
   "cell_type": "code",
   "execution_count": 79,
   "id": "d89d651d-ae5e-44ea-a71e-cb05bce01fe7",
   "metadata": {},
   "outputs": [
    {
     "data": {
      "text/plain": [
       "34    277500\n",
       "2     223500\n",
       "1     181500\n",
       "5     143000\n",
       "Name: SalePrice, dtype: int64"
      ]
     },
     "execution_count": 79,
     "metadata": {},
     "output_type": "execute_result"
    }
   ],
   "source": [
    "y.iloc[[34,2,1,5]]"
   ]
  },
  {
   "cell_type": "markdown",
   "id": "a51243e4-701d-4833-853f-820391f1e345",
   "metadata": {},
   "source": [
    "#### Conclusiones"
   ]
  },
  {
   "cell_type": "markdown",
   "id": "5b8d2049-f250-45b5-898a-2a5a7ea467a3",
   "metadata": {},
   "source": [
    "##### \n",
    "Existe una diferencia entre los valores reales de precio de las casas y los valores obtenidos por el modelo aunque son valores que se acercan a los valores por rangos de 10,000 USD\n",
    "\n",
    "\n",
    "Se podria realizar una mejor selección de columnas a utilizar como variables las cuales nos permitan tener un valor más aprosimado al valor real de venta\n",
    "\n",
    "\n",
    "Se podria realizar un tipo de regresión distinto para intentar ajustarnos mejor a la acuación descrita por los precios de las casas"
   ]
  },
  {
   "cell_type": "code",
   "execution_count": null,
   "id": "0b4e7374-fa43-4275-a956-01477b498f88",
   "metadata": {},
   "outputs": [],
   "source": []
  }
 ],
 "metadata": {
  "kernelspec": {
   "display_name": "Python 3 (ipykernel)",
   "language": "python",
   "name": "python3"
  },
  "language_info": {
   "codemirror_mode": {
    "name": "ipython",
    "version": 3
   },
   "file_extension": ".py",
   "mimetype": "text/x-python",
   "name": "python",
   "nbconvert_exporter": "python",
   "pygments_lexer": "ipython3",
   "version": "3.9.7"
  }
 },
 "nbformat": 4,
 "nbformat_minor": 5
}
