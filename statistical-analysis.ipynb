{
 "cells": [
  {
   "cell_type": "code",
   "execution_count": 697,
   "id": "a761018b",
   "metadata": {},
   "outputs": [],
   "source": [
    "import numpy as np\n",
    "import pandas as pd\n",
    "import statsmodels.api as sm\n",
    "from statsmodels.formula.api import ols\n",
    "import matplotlib.pyplot as plt\n",
    "from sklearn.preprocessing import StandardScaler\n",
    "from sklearn.decomposition import PCA\n",
    "import seaborn as sns\n",
    "from sklearn.model_selection import train_test_split\n",
    "from sklearn.linear_model import LinearRegression"
   ]
  },
  {
   "cell_type": "markdown",
   "id": "33786e4e",
   "metadata": {},
   "source": [
    "## Analizamos el contenido del CSV"
   ]
  },
  {
   "cell_type": "code",
   "execution_count": 698,
   "id": "5fc017af",
   "metadata": {},
   "outputs": [],
   "source": [
    "casas = pd.read_csv('train.csv')"
   ]
  },
  {
   "cell_type": "code",
   "execution_count": 699,
   "id": "c69e5ff6",
   "metadata": {
    "scrolled": true
   },
   "outputs": [
    {
     "data": {
      "text/html": [
       "<div>\n",
       "<style scoped>\n",
       "    .dataframe tbody tr th:only-of-type {\n",
       "        vertical-align: middle;\n",
       "    }\n",
       "\n",
       "    .dataframe tbody tr th {\n",
       "        vertical-align: top;\n",
       "    }\n",
       "\n",
       "    .dataframe thead th {\n",
       "        text-align: right;\n",
       "    }\n",
       "</style>\n",
       "<table border=\"1\" class=\"dataframe\">\n",
       "  <thead>\n",
       "    <tr style=\"text-align: right;\">\n",
       "      <th></th>\n",
       "      <th>Id</th>\n",
       "      <th>MSSubClass</th>\n",
       "      <th>MSZoning</th>\n",
       "      <th>LotFrontage</th>\n",
       "      <th>LotArea</th>\n",
       "      <th>Street</th>\n",
       "      <th>Alley</th>\n",
       "      <th>LotShape</th>\n",
       "      <th>LandContour</th>\n",
       "      <th>Utilities</th>\n",
       "      <th>...</th>\n",
       "      <th>PoolArea</th>\n",
       "      <th>PoolQC</th>\n",
       "      <th>Fence</th>\n",
       "      <th>MiscFeature</th>\n",
       "      <th>MiscVal</th>\n",
       "      <th>MoSold</th>\n",
       "      <th>YrSold</th>\n",
       "      <th>SaleType</th>\n",
       "      <th>SaleCondition</th>\n",
       "      <th>SalePrice</th>\n",
       "    </tr>\n",
       "  </thead>\n",
       "  <tbody>\n",
       "    <tr>\n",
       "      <th>0</th>\n",
       "      <td>1</td>\n",
       "      <td>60</td>\n",
       "      <td>RL</td>\n",
       "      <td>65.0</td>\n",
       "      <td>8450</td>\n",
       "      <td>Pave</td>\n",
       "      <td>NaN</td>\n",
       "      <td>Reg</td>\n",
       "      <td>Lvl</td>\n",
       "      <td>AllPub</td>\n",
       "      <td>...</td>\n",
       "      <td>0</td>\n",
       "      <td>NaN</td>\n",
       "      <td>NaN</td>\n",
       "      <td>NaN</td>\n",
       "      <td>0</td>\n",
       "      <td>2</td>\n",
       "      <td>2008</td>\n",
       "      <td>WD</td>\n",
       "      <td>Normal</td>\n",
       "      <td>208500</td>\n",
       "    </tr>\n",
       "    <tr>\n",
       "      <th>1</th>\n",
       "      <td>2</td>\n",
       "      <td>20</td>\n",
       "      <td>RL</td>\n",
       "      <td>80.0</td>\n",
       "      <td>9600</td>\n",
       "      <td>Pave</td>\n",
       "      <td>NaN</td>\n",
       "      <td>Reg</td>\n",
       "      <td>Lvl</td>\n",
       "      <td>AllPub</td>\n",
       "      <td>...</td>\n",
       "      <td>0</td>\n",
       "      <td>NaN</td>\n",
       "      <td>NaN</td>\n",
       "      <td>NaN</td>\n",
       "      <td>0</td>\n",
       "      <td>5</td>\n",
       "      <td>2007</td>\n",
       "      <td>WD</td>\n",
       "      <td>Normal</td>\n",
       "      <td>181500</td>\n",
       "    </tr>\n",
       "    <tr>\n",
       "      <th>2</th>\n",
       "      <td>3</td>\n",
       "      <td>60</td>\n",
       "      <td>RL</td>\n",
       "      <td>68.0</td>\n",
       "      <td>11250</td>\n",
       "      <td>Pave</td>\n",
       "      <td>NaN</td>\n",
       "      <td>IR1</td>\n",
       "      <td>Lvl</td>\n",
       "      <td>AllPub</td>\n",
       "      <td>...</td>\n",
       "      <td>0</td>\n",
       "      <td>NaN</td>\n",
       "      <td>NaN</td>\n",
       "      <td>NaN</td>\n",
       "      <td>0</td>\n",
       "      <td>9</td>\n",
       "      <td>2008</td>\n",
       "      <td>WD</td>\n",
       "      <td>Normal</td>\n",
       "      <td>223500</td>\n",
       "    </tr>\n",
       "    <tr>\n",
       "      <th>3</th>\n",
       "      <td>4</td>\n",
       "      <td>70</td>\n",
       "      <td>RL</td>\n",
       "      <td>60.0</td>\n",
       "      <td>9550</td>\n",
       "      <td>Pave</td>\n",
       "      <td>NaN</td>\n",
       "      <td>IR1</td>\n",
       "      <td>Lvl</td>\n",
       "      <td>AllPub</td>\n",
       "      <td>...</td>\n",
       "      <td>0</td>\n",
       "      <td>NaN</td>\n",
       "      <td>NaN</td>\n",
       "      <td>NaN</td>\n",
       "      <td>0</td>\n",
       "      <td>2</td>\n",
       "      <td>2006</td>\n",
       "      <td>WD</td>\n",
       "      <td>Abnorml</td>\n",
       "      <td>140000</td>\n",
       "    </tr>\n",
       "    <tr>\n",
       "      <th>4</th>\n",
       "      <td>5</td>\n",
       "      <td>60</td>\n",
       "      <td>RL</td>\n",
       "      <td>84.0</td>\n",
       "      <td>14260</td>\n",
       "      <td>Pave</td>\n",
       "      <td>NaN</td>\n",
       "      <td>IR1</td>\n",
       "      <td>Lvl</td>\n",
       "      <td>AllPub</td>\n",
       "      <td>...</td>\n",
       "      <td>0</td>\n",
       "      <td>NaN</td>\n",
       "      <td>NaN</td>\n",
       "      <td>NaN</td>\n",
       "      <td>0</td>\n",
       "      <td>12</td>\n",
       "      <td>2008</td>\n",
       "      <td>WD</td>\n",
       "      <td>Normal</td>\n",
       "      <td>250000</td>\n",
       "    </tr>\n",
       "  </tbody>\n",
       "</table>\n",
       "<p>5 rows × 81 columns</p>\n",
       "</div>"
      ],
      "text/plain": [
       "   Id  MSSubClass MSZoning  LotFrontage  LotArea Street Alley LotShape  \\\n",
       "0   1          60       RL         65.0     8450   Pave   NaN      Reg   \n",
       "1   2          20       RL         80.0     9600   Pave   NaN      Reg   \n",
       "2   3          60       RL         68.0    11250   Pave   NaN      IR1   \n",
       "3   4          70       RL         60.0     9550   Pave   NaN      IR1   \n",
       "4   5          60       RL         84.0    14260   Pave   NaN      IR1   \n",
       "\n",
       "  LandContour Utilities  ... PoolArea PoolQC Fence MiscFeature MiscVal MoSold  \\\n",
       "0         Lvl    AllPub  ...        0    NaN   NaN         NaN       0      2   \n",
       "1         Lvl    AllPub  ...        0    NaN   NaN         NaN       0      5   \n",
       "2         Lvl    AllPub  ...        0    NaN   NaN         NaN       0      9   \n",
       "3         Lvl    AllPub  ...        0    NaN   NaN         NaN       0      2   \n",
       "4         Lvl    AllPub  ...        0    NaN   NaN         NaN       0     12   \n",
       "\n",
       "  YrSold  SaleType  SaleCondition  SalePrice  \n",
       "0   2008        WD         Normal     208500  \n",
       "1   2007        WD         Normal     181500  \n",
       "2   2008        WD         Normal     223500  \n",
       "3   2006        WD        Abnorml     140000  \n",
       "4   2008        WD         Normal     250000  \n",
       "\n",
       "[5 rows x 81 columns]"
      ]
     },
     "execution_count": 699,
     "metadata": {},
     "output_type": "execute_result"
    }
   ],
   "source": [
    "casas.head()"
   ]
  },
  {
   "cell_type": "code",
   "execution_count": 700,
   "id": "f792c44a",
   "metadata": {},
   "outputs": [
    {
     "data": {
      "text/plain": [
       "(1460, 81)"
      ]
     },
     "execution_count": 700,
     "metadata": {},
     "output_type": "execute_result"
    }
   ],
   "source": [
    "casas.shape"
   ]
  },
  {
   "cell_type": "code",
   "execution_count": 701,
   "id": "1bacc81f",
   "metadata": {},
   "outputs": [
    {
     "name": "stdout",
     "output_type": "stream",
     "text": [
      "<class 'pandas.core.frame.DataFrame'>\n",
      "RangeIndex: 1460 entries, 0 to 1459\n",
      "Data columns (total 81 columns):\n",
      " #   Column         Non-Null Count  Dtype  \n",
      "---  ------         --------------  -----  \n",
      " 0   Id             1460 non-null   int64  \n",
      " 1   MSSubClass     1460 non-null   int64  \n",
      " 2   MSZoning       1460 non-null   object \n",
      " 3   LotFrontage    1201 non-null   float64\n",
      " 4   LotArea        1460 non-null   int64  \n",
      " 5   Street         1460 non-null   object \n",
      " 6   Alley          91 non-null     object \n",
      " 7   LotShape       1460 non-null   object \n",
      " 8   LandContour    1460 non-null   object \n",
      " 9   Utilities      1460 non-null   object \n",
      " 10  LotConfig      1460 non-null   object \n",
      " 11  LandSlope      1460 non-null   object \n",
      " 12  Neighborhood   1460 non-null   object \n",
      " 13  Condition1     1460 non-null   object \n",
      " 14  Condition2     1460 non-null   object \n",
      " 15  BldgType       1460 non-null   object \n",
      " 16  HouseStyle     1460 non-null   object \n",
      " 17  OverallQual    1460 non-null   int64  \n",
      " 18  OverallCond    1460 non-null   int64  \n",
      " 19  YearBuilt      1460 non-null   int64  \n",
      " 20  YearRemodAdd   1460 non-null   int64  \n",
      " 21  RoofStyle      1460 non-null   object \n",
      " 22  RoofMatl       1460 non-null   object \n",
      " 23  Exterior1st    1460 non-null   object \n",
      " 24  Exterior2nd    1460 non-null   object \n",
      " 25  MasVnrType     1452 non-null   object \n",
      " 26  MasVnrArea     1452 non-null   float64\n",
      " 27  ExterQual      1460 non-null   object \n",
      " 28  ExterCond      1460 non-null   object \n",
      " 29  Foundation     1460 non-null   object \n",
      " 30  BsmtQual       1423 non-null   object \n",
      " 31  BsmtCond       1423 non-null   object \n",
      " 32  BsmtExposure   1422 non-null   object \n",
      " 33  BsmtFinType1   1423 non-null   object \n",
      " 34  BsmtFinSF1     1460 non-null   int64  \n",
      " 35  BsmtFinType2   1422 non-null   object \n",
      " 36  BsmtFinSF2     1460 non-null   int64  \n",
      " 37  BsmtUnfSF      1460 non-null   int64  \n",
      " 38  TotalBsmtSF    1460 non-null   int64  \n",
      " 39  Heating        1460 non-null   object \n",
      " 40  HeatingQC      1460 non-null   object \n",
      " 41  CentralAir     1460 non-null   object \n",
      " 42  Electrical     1459 non-null   object \n",
      " 43  1stFlrSF       1460 non-null   int64  \n",
      " 44  2ndFlrSF       1460 non-null   int64  \n",
      " 45  LowQualFinSF   1460 non-null   int64  \n",
      " 46  GrLivArea      1460 non-null   int64  \n",
      " 47  BsmtFullBath   1460 non-null   int64  \n",
      " 48  BsmtHalfBath   1460 non-null   int64  \n",
      " 49  FullBath       1460 non-null   int64  \n",
      " 50  HalfBath       1460 non-null   int64  \n",
      " 51  BedroomAbvGr   1460 non-null   int64  \n",
      " 52  KitchenAbvGr   1460 non-null   int64  \n",
      " 53  KitchenQual    1460 non-null   object \n",
      " 54  TotRmsAbvGrd   1460 non-null   int64  \n",
      " 55  Functional     1460 non-null   object \n",
      " 56  Fireplaces     1460 non-null   int64  \n",
      " 57  FireplaceQu    770 non-null    object \n",
      " 58  GarageType     1379 non-null   object \n",
      " 59  GarageYrBlt    1379 non-null   float64\n",
      " 60  GarageFinish   1379 non-null   object \n",
      " 61  GarageCars     1460 non-null   int64  \n",
      " 62  GarageArea     1460 non-null   int64  \n",
      " 63  GarageQual     1379 non-null   object \n",
      " 64  GarageCond     1379 non-null   object \n",
      " 65  PavedDrive     1460 non-null   object \n",
      " 66  WoodDeckSF     1460 non-null   int64  \n",
      " 67  OpenPorchSF    1460 non-null   int64  \n",
      " 68  EnclosedPorch  1460 non-null   int64  \n",
      " 69  3SsnPorch      1460 non-null   int64  \n",
      " 70  ScreenPorch    1460 non-null   int64  \n",
      " 71  PoolArea       1460 non-null   int64  \n",
      " 72  PoolQC         7 non-null      object \n",
      " 73  Fence          281 non-null    object \n",
      " 74  MiscFeature    54 non-null     object \n",
      " 75  MiscVal        1460 non-null   int64  \n",
      " 76  MoSold         1460 non-null   int64  \n",
      " 77  YrSold         1460 non-null   int64  \n",
      " 78  SaleType       1460 non-null   object \n",
      " 79  SaleCondition  1460 non-null   object \n",
      " 80  SalePrice      1460 non-null   int64  \n",
      "dtypes: float64(3), int64(35), object(43)\n",
      "memory usage: 924.0+ KB\n"
     ]
    }
   ],
   "source": [
    "casas.info()"
   ]
  },
  {
   "cell_type": "code",
   "execution_count": 702,
   "id": "e610cf88",
   "metadata": {},
   "outputs": [
    {
     "data": {
      "text/plain": [
       "PoolQC          1453\n",
       "MiscFeature     1406\n",
       "Alley           1369\n",
       "Fence           1179\n",
       "FireplaceQu      690\n",
       "LotFrontage      259\n",
       "GarageYrBlt       81\n",
       "GarageCond        81\n",
       "GarageType        81\n",
       "GarageFinish      81\n",
       "GarageQual        81\n",
       "BsmtFinType2      38\n",
       "BsmtExposure      38\n",
       "BsmtQual          37\n",
       "BsmtCond          37\n",
       "BsmtFinType1      37\n",
       "MasVnrArea         8\n",
       "MasVnrType         8\n",
       "Electrical         1\n",
       "Id                 0\n",
       "dtype: int64"
      ]
     },
     "execution_count": 702,
     "metadata": {},
     "output_type": "execute_result"
    }
   ],
   "source": [
    "nulos=casas.isnull().sum().sort_values(ascending=False)\n",
    "nulos.head(20)       "
   ]
  },
  {
   "cell_type": "markdown",
   "id": "5d470498",
   "metadata": {},
   "source": [
    "## Analizaremos las columnas con valores nulos"
   ]
  },
  {
   "cell_type": "markdown",
   "id": "359fdecd",
   "metadata": {},
   "source": [
    "Analizaremos que columnas deberiamos borrar del data frame, observamos que hay 19 columnas con datos nulos, unas columnas mas que otras. "
   ]
  },
  {
   "cell_type": "code",
   "execution_count": 703,
   "id": "9b7f0f4a",
   "metadata": {},
   "outputs": [
    {
     "data": {
      "text/plain": [
       "Gd    3\n",
       "Fa    2\n",
       "Ex    2\n",
       "Name: PoolQC, dtype: int64"
      ]
     },
     "execution_count": 703,
     "metadata": {},
     "output_type": "execute_result"
    }
   ],
   "source": [
    "casas.PoolQC.value_counts()"
   ]
  },
  {
   "cell_type": "code",
   "execution_count": 704,
   "id": "bdf988fc",
   "metadata": {},
   "outputs": [
    {
     "data": {
      "text/html": [
       "<div>\n",
       "<style scoped>\n",
       "    .dataframe tbody tr th:only-of-type {\n",
       "        vertical-align: middle;\n",
       "    }\n",
       "\n",
       "    .dataframe tbody tr th {\n",
       "        vertical-align: top;\n",
       "    }\n",
       "\n",
       "    .dataframe thead th {\n",
       "        text-align: right;\n",
       "    }\n",
       "</style>\n",
       "<table border=\"1\" class=\"dataframe\">\n",
       "  <thead>\n",
       "    <tr style=\"text-align: right;\">\n",
       "      <th></th>\n",
       "      <th>SalePrice</th>\n",
       "      <th>PoolQC</th>\n",
       "      <th>PoolArea</th>\n",
       "    </tr>\n",
       "  </thead>\n",
       "  <tbody>\n",
       "    <tr>\n",
       "      <th>0</th>\n",
       "      <td>208500</td>\n",
       "      <td>NaN</td>\n",
       "      <td>0</td>\n",
       "    </tr>\n",
       "    <tr>\n",
       "      <th>1</th>\n",
       "      <td>181500</td>\n",
       "      <td>NaN</td>\n",
       "      <td>0</td>\n",
       "    </tr>\n",
       "    <tr>\n",
       "      <th>2</th>\n",
       "      <td>223500</td>\n",
       "      <td>NaN</td>\n",
       "      <td>0</td>\n",
       "    </tr>\n",
       "    <tr>\n",
       "      <th>3</th>\n",
       "      <td>140000</td>\n",
       "      <td>NaN</td>\n",
       "      <td>0</td>\n",
       "    </tr>\n",
       "    <tr>\n",
       "      <th>4</th>\n",
       "      <td>250000</td>\n",
       "      <td>NaN</td>\n",
       "      <td>0</td>\n",
       "    </tr>\n",
       "  </tbody>\n",
       "</table>\n",
       "</div>"
      ],
      "text/plain": [
       "   SalePrice PoolQC  PoolArea\n",
       "0     208500    NaN         0\n",
       "1     181500    NaN         0\n",
       "2     223500    NaN         0\n",
       "3     140000    NaN         0\n",
       "4     250000    NaN         0"
      ]
     },
     "execution_count": 704,
     "metadata": {},
     "output_type": "execute_result"
    }
   ],
   "source": [
    "casas[[\"SalePrice\",\"PoolQC\",\"PoolArea\"]][casas.PoolQC.isnull()].head()\n",
    "#El que haya un valor nulo en PoolQC es debido a que no hay alberca, podemos llenar los nulos con \"Nohay\" y aplicar ANOVA \n",
    "#para ver si realmente hay diferencia significativa en el precio segun el tamaño de la alberca o la usencia de ella"
   ]
  },
  {
   "cell_type": "code",
   "execution_count": 705,
   "id": "a4899da8",
   "metadata": {},
   "outputs": [
    {
     "data": {
      "text/html": [
       "<div>\n",
       "<style scoped>\n",
       "    .dataframe tbody tr th:only-of-type {\n",
       "        vertical-align: middle;\n",
       "    }\n",
       "\n",
       "    .dataframe tbody tr th {\n",
       "        vertical-align: top;\n",
       "    }\n",
       "\n",
       "    .dataframe thead th {\n",
       "        text-align: right;\n",
       "    }\n",
       "</style>\n",
       "<table border=\"1\" class=\"dataframe\">\n",
       "  <thead>\n",
       "    <tr style=\"text-align: right;\">\n",
       "      <th></th>\n",
       "      <th>sum_sq</th>\n",
       "      <th>df</th>\n",
       "      <th>F</th>\n",
       "      <th>PR(&gt;F)</th>\n",
       "    </tr>\n",
       "  </thead>\n",
       "  <tbody>\n",
       "    <tr>\n",
       "      <th>C(PoolQC)</th>\n",
       "      <td>1.143135e+11</td>\n",
       "      <td>2.0</td>\n",
       "      <td>1.627469</td>\n",
       "      <td>0.303985</td>\n",
       "    </tr>\n",
       "    <tr>\n",
       "      <th>Residual</th>\n",
       "      <td>1.404801e+11</td>\n",
       "      <td>4.0</td>\n",
       "      <td>NaN</td>\n",
       "      <td>NaN</td>\n",
       "    </tr>\n",
       "  </tbody>\n",
       "</table>\n",
       "</div>"
      ],
      "text/plain": [
       "                 sum_sq   df         F    PR(>F)\n",
       "C(PoolQC)  1.143135e+11  2.0  1.627469  0.303985\n",
       "Residual   1.404801e+11  4.0       NaN       NaN"
      ]
     },
     "execution_count": 705,
     "metadata": {},
     "output_type": "execute_result"
    }
   ],
   "source": [
    "casas_alberca=casas[[\"SalePrice\",\"PoolQC\",\"PoolArea\"]][casas.PoolQC.notnull()]\n",
    "model = ols('SalePrice ~ C(PoolQC)', data=casas_alberca).fit()\n",
    "anova_table = sm.stats.anova_lm(model, typ=2)\n",
    "anova_table\n",
    "#Si solo aplicamos ANOVA con la tabla de los datos de las casas con alberca, podemos ver que no hay diferencia \n",
    "#significativa en el precio segun el tamaño de la alberca "
   ]
  },
  {
   "cell_type": "code",
   "execution_count": 706,
   "id": "6ece996d",
   "metadata": {},
   "outputs": [],
   "source": [
    "casas[\"PoolQC\"].fillna(\"Nohay\", inplace=True)\n",
    "#Llenamos los nulos con el valor Nohay"
   ]
  },
  {
   "cell_type": "code",
   "execution_count": 707,
   "id": "b16d88f5",
   "metadata": {},
   "outputs": [
    {
     "data": {
      "text/html": [
       "<div>\n",
       "<style scoped>\n",
       "    .dataframe tbody tr th:only-of-type {\n",
       "        vertical-align: middle;\n",
       "    }\n",
       "\n",
       "    .dataframe tbody tr th {\n",
       "        vertical-align: top;\n",
       "    }\n",
       "\n",
       "    .dataframe thead th {\n",
       "        text-align: right;\n",
       "    }\n",
       "</style>\n",
       "<table border=\"1\" class=\"dataframe\">\n",
       "  <thead>\n",
       "    <tr style=\"text-align: right;\">\n",
       "      <th></th>\n",
       "      <th>sum_sq</th>\n",
       "      <th>df</th>\n",
       "      <th>F</th>\n",
       "      <th>PR(&gt;F)</th>\n",
       "    </tr>\n",
       "  </thead>\n",
       "  <tbody>\n",
       "    <tr>\n",
       "      <th>C(PoolQC)</th>\n",
       "      <td>1.951702e+11</td>\n",
       "      <td>3.0</td>\n",
       "      <td>10.509853</td>\n",
       "      <td>7.700989e-07</td>\n",
       "    </tr>\n",
       "    <tr>\n",
       "      <th>Residual</th>\n",
       "      <td>9.012741e+12</td>\n",
       "      <td>1456.0</td>\n",
       "      <td>NaN</td>\n",
       "      <td>NaN</td>\n",
       "    </tr>\n",
       "  </tbody>\n",
       "</table>\n",
       "</div>"
      ],
      "text/plain": [
       "                 sum_sq      df          F        PR(>F)\n",
       "C(PoolQC)  1.951702e+11     3.0  10.509853  7.700989e-07\n",
       "Residual   9.012741e+12  1456.0        NaN           NaN"
      ]
     },
     "execution_count": 707,
     "metadata": {},
     "output_type": "execute_result"
    }
   ],
   "source": [
    "model = ols('SalePrice ~ C(PoolQC)', data=casas).fit()\n",
    "anova_table = sm.stats.anova_lm(model, typ=2)\n",
    "anova_table\n",
    "#Podemos observar que en este caso si hay diferencia significativa en el precio segun si la casa tiene o no alberca. \n",
    "#Para el análisis mas que quedarnos con la columna que se refiere al área de la alberca, crearemos una columna que nos indique si hay \n",
    "#o no alberca ya que si existía, no había diferencia significativa en los precios de acuerdo al tamaño. "
   ]
  },
  {
   "cell_type": "code",
   "execution_count": 708,
   "id": "47325e87",
   "metadata": {},
   "outputs": [],
   "source": [
    "casas[\"Pool\"]=np.where(casas.PoolArea!=0,1, casas.PoolArea)"
   ]
  },
  {
   "cell_type": "code",
   "execution_count": 709,
   "id": "3232cab6",
   "metadata": {},
   "outputs": [],
   "source": [
    "casas.drop(columns=[\"PoolArea\",\"PoolQC\"], inplace=True)"
   ]
  },
  {
   "cell_type": "markdown",
   "id": "b8e17122",
   "metadata": {},
   "source": [
    "Ahora analizaremos la siguiente columna con mayor cantidad de nulos "
   ]
  },
  {
   "cell_type": "code",
   "execution_count": 710,
   "id": "d3057a6f",
   "metadata": {},
   "outputs": [
    {
     "data": {
      "text/plain": [
       "Shed    49\n",
       "Othr     2\n",
       "Gar2     2\n",
       "TenC     1\n",
       "Name: MiscFeature, dtype: int64"
      ]
     },
     "execution_count": 710,
     "metadata": {},
     "output_type": "execute_result"
    }
   ],
   "source": [
    "casas.MiscFeature.value_counts()\n",
    "#Se refiere a otras caracteristicas adicionales que tenga la casa, vamos a hacer algo parecido a lo que hicimos en la\n",
    "#columna PollQC"
   ]
  },
  {
   "cell_type": "code",
   "execution_count": 711,
   "id": "fd860d13",
   "metadata": {},
   "outputs": [
    {
     "data": {
      "text/html": [
       "<div>\n",
       "<style scoped>\n",
       "    .dataframe tbody tr th:only-of-type {\n",
       "        vertical-align: middle;\n",
       "    }\n",
       "\n",
       "    .dataframe tbody tr th {\n",
       "        vertical-align: top;\n",
       "    }\n",
       "\n",
       "    .dataframe thead th {\n",
       "        text-align: right;\n",
       "    }\n",
       "</style>\n",
       "<table border=\"1\" class=\"dataframe\">\n",
       "  <thead>\n",
       "    <tr style=\"text-align: right;\">\n",
       "      <th></th>\n",
       "      <th>sum_sq</th>\n",
       "      <th>df</th>\n",
       "      <th>F</th>\n",
       "      <th>PR(&gt;F)</th>\n",
       "    </tr>\n",
       "  </thead>\n",
       "  <tbody>\n",
       "    <tr>\n",
       "      <th>C(MiscFeature)</th>\n",
       "      <td>1.705983e+10</td>\n",
       "      <td>3.0</td>\n",
       "      <td>2.157324</td>\n",
       "      <td>0.104728</td>\n",
       "    </tr>\n",
       "    <tr>\n",
       "      <th>Residual</th>\n",
       "      <td>1.317978e+11</td>\n",
       "      <td>50.0</td>\n",
       "      <td>NaN</td>\n",
       "      <td>NaN</td>\n",
       "    </tr>\n",
       "  </tbody>\n",
       "</table>\n",
       "</div>"
      ],
      "text/plain": [
       "                      sum_sq    df         F    PR(>F)\n",
       "C(MiscFeature)  1.705983e+10   3.0  2.157324  0.104728\n",
       "Residual        1.317978e+11  50.0       NaN       NaN"
      ]
     },
     "execution_count": 711,
     "metadata": {},
     "output_type": "execute_result"
    }
   ],
   "source": [
    "casas_feat=casas[[\"SalePrice\",\"MiscFeature\"]][casas.MiscFeature.notnull()]\n",
    "model = ols('SalePrice ~ C(MiscFeature)', data=casas_feat).fit()\n",
    "anova_table = sm.stats.anova_lm(model, typ=2)\n",
    "anova_table\n",
    "#No hay diferencia significativa en el precio segun las casas tengan alguna de estas amenidades extras "
   ]
  },
  {
   "cell_type": "code",
   "execution_count": 712,
   "id": "1c15e348",
   "metadata": {},
   "outputs": [],
   "source": [
    "casas[\"MiscFeature\"].fillna(\"Nohay\", inplace=True)"
   ]
  },
  {
   "cell_type": "code",
   "execution_count": 713,
   "id": "0195f0ba",
   "metadata": {},
   "outputs": [
    {
     "data": {
      "text/html": [
       "<div>\n",
       "<style scoped>\n",
       "    .dataframe tbody tr th:only-of-type {\n",
       "        vertical-align: middle;\n",
       "    }\n",
       "\n",
       "    .dataframe tbody tr th {\n",
       "        vertical-align: top;\n",
       "    }\n",
       "\n",
       "    .dataframe thead th {\n",
       "        text-align: right;\n",
       "    }\n",
       "</style>\n",
       "<table border=\"1\" class=\"dataframe\">\n",
       "  <thead>\n",
       "    <tr style=\"text-align: right;\">\n",
       "      <th></th>\n",
       "      <th>sum_sq</th>\n",
       "      <th>df</th>\n",
       "      <th>F</th>\n",
       "      <th>PR(&gt;F)</th>\n",
       "    </tr>\n",
       "  </thead>\n",
       "  <tbody>\n",
       "    <tr>\n",
       "      <th>C(MiscFeature)</th>\n",
       "      <td>6.518974e+10</td>\n",
       "      <td>4.0</td>\n",
       "      <td>2.593622</td>\n",
       "      <td>0.035004</td>\n",
       "    </tr>\n",
       "    <tr>\n",
       "      <th>Residual</th>\n",
       "      <td>9.142722e+12</td>\n",
       "      <td>1455.0</td>\n",
       "      <td>NaN</td>\n",
       "      <td>NaN</td>\n",
       "    </tr>\n",
       "  </tbody>\n",
       "</table>\n",
       "</div>"
      ],
      "text/plain": [
       "                      sum_sq      df         F    PR(>F)\n",
       "C(MiscFeature)  6.518974e+10     4.0  2.593622  0.035004\n",
       "Residual        9.142722e+12  1455.0       NaN       NaN"
      ]
     },
     "execution_count": 713,
     "metadata": {},
     "output_type": "execute_result"
    }
   ],
   "source": [
    "model = ols('SalePrice ~ C(MiscFeature)', data=casas).fit()\n",
    "anova_table = sm.stats.anova_lm(model, typ=2)\n",
    "anova_table\n",
    "#Podemos observar que no hay una diferencia significativa en los precios de las casas si estas tienen o no amenidades extras\n",
    "#por lo que podemos no usar esta columna en el analisis. "
   ]
  },
  {
   "cell_type": "code",
   "execution_count": 714,
   "id": "a48bfff0",
   "metadata": {},
   "outputs": [],
   "source": [
    "casas.drop([\"MiscFeature\"], axis=1, inplace=True)"
   ]
  },
  {
   "cell_type": "code",
   "execution_count": 715,
   "id": "6d0d6981",
   "metadata": {},
   "outputs": [
    {
     "data": {
      "text/plain": [
       "Grvl    50\n",
       "Pave    41\n",
       "Name: Alley, dtype: int64"
      ]
     },
     "execution_count": 715,
     "metadata": {},
     "output_type": "execute_result"
    }
   ],
   "source": [
    "casas.Alley.value_counts()"
   ]
  },
  {
   "cell_type": "code",
   "execution_count": 716,
   "id": "636a5ce2",
   "metadata": {},
   "outputs": [
    {
     "data": {
      "text/html": [
       "<div>\n",
       "<style scoped>\n",
       "    .dataframe tbody tr th:only-of-type {\n",
       "        vertical-align: middle;\n",
       "    }\n",
       "\n",
       "    .dataframe tbody tr th {\n",
       "        vertical-align: top;\n",
       "    }\n",
       "\n",
       "    .dataframe thead th {\n",
       "        text-align: right;\n",
       "    }\n",
       "</style>\n",
       "<table border=\"1\" class=\"dataframe\">\n",
       "  <thead>\n",
       "    <tr style=\"text-align: right;\">\n",
       "      <th></th>\n",
       "      <th>sum_sq</th>\n",
       "      <th>df</th>\n",
       "      <th>F</th>\n",
       "      <th>PR(&gt;F)</th>\n",
       "    </tr>\n",
       "  </thead>\n",
       "  <tbody>\n",
       "    <tr>\n",
       "      <th>C(Alley)</th>\n",
       "      <td>4.721637e+10</td>\n",
       "      <td>1.0</td>\n",
       "      <td>35.56206</td>\n",
       "      <td>4.899826e-08</td>\n",
       "    </tr>\n",
       "    <tr>\n",
       "      <th>Residual</th>\n",
       "      <td>1.181669e+11</td>\n",
       "      <td>89.0</td>\n",
       "      <td>NaN</td>\n",
       "      <td>NaN</td>\n",
       "    </tr>\n",
       "  </tbody>\n",
       "</table>\n",
       "</div>"
      ],
      "text/plain": [
       "                sum_sq    df         F        PR(>F)\n",
       "C(Alley)  4.721637e+10   1.0  35.56206  4.899826e-08\n",
       "Residual  1.181669e+11  89.0       NaN           NaN"
      ]
     },
     "execution_count": 716,
     "metadata": {},
     "output_type": "execute_result"
    }
   ],
   "source": [
    "casas_Alley=casas[[\"SalePrice\",\"Alley\"]][casas.Alley.notnull()]\n",
    "model = ols('SalePrice ~ C(Alley)', data=casas_Alley).fit()\n",
    "anova_table = sm.stats.anova_lm(model, typ=2)\n",
    "anova_table\n",
    "#Podemos observar que si existen diferencias significativas en el precio de las casas segun el tipo de acceso al callejon "
   ]
  },
  {
   "cell_type": "code",
   "execution_count": 717,
   "id": "de0b8e63",
   "metadata": {},
   "outputs": [],
   "source": [
    "casas[\"Alley\"].fillna(\"Nohayacceso\", inplace=True)"
   ]
  },
  {
   "cell_type": "code",
   "execution_count": 718,
   "id": "c7d2093c",
   "metadata": {},
   "outputs": [
    {
     "data": {
      "text/html": [
       "<div>\n",
       "<style scoped>\n",
       "    .dataframe tbody tr th:only-of-type {\n",
       "        vertical-align: middle;\n",
       "    }\n",
       "\n",
       "    .dataframe tbody tr th {\n",
       "        vertical-align: top;\n",
       "    }\n",
       "\n",
       "    .dataframe thead th {\n",
       "        text-align: right;\n",
       "    }\n",
       "</style>\n",
       "<table border=\"1\" class=\"dataframe\">\n",
       "  <thead>\n",
       "    <tr style=\"text-align: right;\">\n",
       "      <th></th>\n",
       "      <th>sum_sq</th>\n",
       "      <th>df</th>\n",
       "      <th>F</th>\n",
       "      <th>PR(&gt;F)</th>\n",
       "    </tr>\n",
       "  </thead>\n",
       "  <tbody>\n",
       "    <tr>\n",
       "      <th>C(Alley)</th>\n",
       "      <td>1.879109e+11</td>\n",
       "      <td>2.0</td>\n",
       "      <td>15.176614</td>\n",
       "      <td>2.996380e-07</td>\n",
       "    </tr>\n",
       "    <tr>\n",
       "      <th>Residual</th>\n",
       "      <td>9.020000e+12</td>\n",
       "      <td>1457.0</td>\n",
       "      <td>NaN</td>\n",
       "      <td>NaN</td>\n",
       "    </tr>\n",
       "  </tbody>\n",
       "</table>\n",
       "</div>"
      ],
      "text/plain": [
       "                sum_sq      df          F        PR(>F)\n",
       "C(Alley)  1.879109e+11     2.0  15.176614  2.996380e-07\n",
       "Residual  9.020000e+12  1457.0        NaN           NaN"
      ]
     },
     "execution_count": 718,
     "metadata": {},
     "output_type": "execute_result"
    }
   ],
   "source": [
    "model = ols('SalePrice ~ C(Alley)', data=casas).fit()\n",
    "anova_table = sm.stats.anova_lm(model, typ=2)\n",
    "anova_table\n",
    "#Podemos observar que sigue habiendo diferencias significativas en el precio segun el tipo de acceso al callejon o no,\n",
    "#entonces mantendremos la info de esta columna y mas adelante la convertiremos a dummies."
   ]
  },
  {
   "cell_type": "code",
   "execution_count": 719,
   "id": "1cd1c3ac",
   "metadata": {},
   "outputs": [
    {
     "data": {
      "text/plain": [
       "MnPrv    157\n",
       "GdPrv     59\n",
       "GdWo      54\n",
       "MnWw      11\n",
       "Name: Fence, dtype: int64"
      ]
     },
     "execution_count": 719,
     "metadata": {},
     "output_type": "execute_result"
    }
   ],
   "source": [
    "casas.Fence.value_counts()"
   ]
  },
  {
   "cell_type": "code",
   "execution_count": 720,
   "id": "92d64990",
   "metadata": {},
   "outputs": [
    {
     "data": {
      "text/html": [
       "<div>\n",
       "<style scoped>\n",
       "    .dataframe tbody tr th:only-of-type {\n",
       "        vertical-align: middle;\n",
       "    }\n",
       "\n",
       "    .dataframe tbody tr th {\n",
       "        vertical-align: top;\n",
       "    }\n",
       "\n",
       "    .dataframe thead th {\n",
       "        text-align: right;\n",
       "    }\n",
       "</style>\n",
       "<table border=\"1\" class=\"dataframe\">\n",
       "  <thead>\n",
       "    <tr style=\"text-align: right;\">\n",
       "      <th></th>\n",
       "      <th>sum_sq</th>\n",
       "      <th>df</th>\n",
       "      <th>F</th>\n",
       "      <th>PR(&gt;F)</th>\n",
       "    </tr>\n",
       "  </thead>\n",
       "  <tbody>\n",
       "    <tr>\n",
       "      <th>C(Fence)</th>\n",
       "      <td>5.494735e+10</td>\n",
       "      <td>3.0</td>\n",
       "      <td>4.948159</td>\n",
       "      <td>0.002313</td>\n",
       "    </tr>\n",
       "    <tr>\n",
       "      <th>Residual</th>\n",
       "      <td>1.025325e+12</td>\n",
       "      <td>277.0</td>\n",
       "      <td>NaN</td>\n",
       "      <td>NaN</td>\n",
       "    </tr>\n",
       "  </tbody>\n",
       "</table>\n",
       "</div>"
      ],
      "text/plain": [
       "                sum_sq     df         F    PR(>F)\n",
       "C(Fence)  5.494735e+10    3.0  4.948159  0.002313\n",
       "Residual  1.025325e+12  277.0       NaN       NaN"
      ]
     },
     "execution_count": 720,
     "metadata": {},
     "output_type": "execute_result"
    }
   ],
   "source": [
    "casas_fence=casas[[\"SalePrice\",\"Fence\"]][casas.Fence.notnull()]\n",
    "model = ols('SalePrice ~ C(Fence)', data=casas_fence).fit()\n",
    "anova_table = sm.stats.anova_lm(model, typ=2)\n",
    "anova_table\n",
    "#Si hay diferencia significativa en el precio segun el tipo de barda que tenga la casa"
   ]
  },
  {
   "cell_type": "code",
   "execution_count": 721,
   "id": "53138550",
   "metadata": {},
   "outputs": [
    {
     "data": {
      "text/html": [
       "<div>\n",
       "<style scoped>\n",
       "    .dataframe tbody tr th:only-of-type {\n",
       "        vertical-align: middle;\n",
       "    }\n",
       "\n",
       "    .dataframe tbody tr th {\n",
       "        vertical-align: top;\n",
       "    }\n",
       "\n",
       "    .dataframe thead th {\n",
       "        text-align: right;\n",
       "    }\n",
       "</style>\n",
       "<table border=\"1\" class=\"dataframe\">\n",
       "  <thead>\n",
       "    <tr style=\"text-align: right;\">\n",
       "      <th></th>\n",
       "      <th>sum_sq</th>\n",
       "      <th>df</th>\n",
       "      <th>F</th>\n",
       "      <th>PR(&gt;F)</th>\n",
       "    </tr>\n",
       "  </thead>\n",
       "  <tbody>\n",
       "    <tr>\n",
       "      <th>C(Fence)</th>\n",
       "      <td>3.279372e+11</td>\n",
       "      <td>4.0</td>\n",
       "      <td>13.433276</td>\n",
       "      <td>9.379977e-11</td>\n",
       "    </tr>\n",
       "    <tr>\n",
       "      <th>Residual</th>\n",
       "      <td>8.879974e+12</td>\n",
       "      <td>1455.0</td>\n",
       "      <td>NaN</td>\n",
       "      <td>NaN</td>\n",
       "    </tr>\n",
       "  </tbody>\n",
       "</table>\n",
       "</div>"
      ],
      "text/plain": [
       "                sum_sq      df          F        PR(>F)\n",
       "C(Fence)  3.279372e+11     4.0  13.433276  9.379977e-11\n",
       "Residual  8.879974e+12  1455.0        NaN           NaN"
      ]
     },
     "execution_count": 721,
     "metadata": {},
     "output_type": "execute_result"
    }
   ],
   "source": [
    "casas[\"Fence\"].fillna(\"Nohay\", inplace=True)\n",
    "model = ols('SalePrice ~ C(Fence)', data=casas).fit()\n",
    "anova_table = sm.stats.anova_lm(model, typ=2)\n",
    "anova_table\n",
    "#Aquí podemos observar que si hay diferencia significativa en el precio segun el tipo de cerca que tenga, incluyendo\n",
    "#si no tiene cerca así que mas adelante la convertiremos en dummies"
   ]
  },
  {
   "cell_type": "code",
   "execution_count": 722,
   "id": "a0b755c1",
   "metadata": {},
   "outputs": [
    {
     "data": {
      "text/plain": [
       "Gd    380\n",
       "TA    313\n",
       "Fa     33\n",
       "Ex     24\n",
       "Po     20\n",
       "Name: FireplaceQu, dtype: int64"
      ]
     },
     "execution_count": 722,
     "metadata": {},
     "output_type": "execute_result"
    }
   ],
   "source": [
    "casas.FireplaceQu.value_counts() "
   ]
  },
  {
   "cell_type": "code",
   "execution_count": 723,
   "id": "2cf4381a",
   "metadata": {},
   "outputs": [
    {
     "data": {
      "text/html": [
       "<div>\n",
       "<style scoped>\n",
       "    .dataframe tbody tr th:only-of-type {\n",
       "        vertical-align: middle;\n",
       "    }\n",
       "\n",
       "    .dataframe tbody tr th {\n",
       "        vertical-align: top;\n",
       "    }\n",
       "\n",
       "    .dataframe thead th {\n",
       "        text-align: right;\n",
       "    }\n",
       "</style>\n",
       "<table border=\"1\" class=\"dataframe\">\n",
       "  <thead>\n",
       "    <tr style=\"text-align: right;\">\n",
       "      <th></th>\n",
       "      <th>sum_sq</th>\n",
       "      <th>df</th>\n",
       "      <th>F</th>\n",
       "      <th>PR(&gt;F)</th>\n",
       "    </tr>\n",
       "  </thead>\n",
       "  <tbody>\n",
       "    <tr>\n",
       "      <th>C(FireplaceQu)</th>\n",
       "      <td>6.561883e+11</td>\n",
       "      <td>4.0</td>\n",
       "      <td>24.398929</td>\n",
       "      <td>5.016300e-19</td>\n",
       "    </tr>\n",
       "    <tr>\n",
       "      <th>Residual</th>\n",
       "      <td>5.143505e+12</td>\n",
       "      <td>765.0</td>\n",
       "      <td>NaN</td>\n",
       "      <td>NaN</td>\n",
       "    </tr>\n",
       "  </tbody>\n",
       "</table>\n",
       "</div>"
      ],
      "text/plain": [
       "                      sum_sq     df          F        PR(>F)\n",
       "C(FireplaceQu)  6.561883e+11    4.0  24.398929  5.016300e-19\n",
       "Residual        5.143505e+12  765.0        NaN           NaN"
      ]
     },
     "execution_count": 723,
     "metadata": {},
     "output_type": "execute_result"
    }
   ],
   "source": [
    "casas_fire=casas[[\"SalePrice\",\"FireplaceQu\"]][casas.FireplaceQu.notnull()]\n",
    "model = ols('SalePrice ~ C(FireplaceQu)', data=casas_fire).fit()\n",
    "anova_table = sm.stats.anova_lm(model, typ=2)\n",
    "anova_table\n",
    "#Si hay diferencia significativa en el precio segun el tipo de chimenea que tenga la casa"
   ]
  },
  {
   "cell_type": "code",
   "execution_count": 724,
   "id": "249c329d",
   "metadata": {},
   "outputs": [
    {
     "data": {
      "text/html": [
       "<div>\n",
       "<style scoped>\n",
       "    .dataframe tbody tr th:only-of-type {\n",
       "        vertical-align: middle;\n",
       "    }\n",
       "\n",
       "    .dataframe tbody tr th {\n",
       "        vertical-align: top;\n",
       "    }\n",
       "\n",
       "    .dataframe thead th {\n",
       "        text-align: right;\n",
       "    }\n",
       "</style>\n",
       "<table border=\"1\" class=\"dataframe\">\n",
       "  <thead>\n",
       "    <tr style=\"text-align: right;\">\n",
       "      <th></th>\n",
       "      <th>sum_sq</th>\n",
       "      <th>df</th>\n",
       "      <th>F</th>\n",
       "      <th>PR(&gt;F)</th>\n",
       "    </tr>\n",
       "  </thead>\n",
       "  <tbody>\n",
       "    <tr>\n",
       "      <th>C(FireplaceQu)</th>\n",
       "      <td>2.706765e+12</td>\n",
       "      <td>5.0</td>\n",
       "      <td>121.075121</td>\n",
       "      <td>2.971217e-107</td>\n",
       "    </tr>\n",
       "    <tr>\n",
       "      <th>Residual</th>\n",
       "      <td>6.501147e+12</td>\n",
       "      <td>1454.0</td>\n",
       "      <td>NaN</td>\n",
       "      <td>NaN</td>\n",
       "    </tr>\n",
       "  </tbody>\n",
       "</table>\n",
       "</div>"
      ],
      "text/plain": [
       "                      sum_sq      df           F         PR(>F)\n",
       "C(FireplaceQu)  2.706765e+12     5.0  121.075121  2.971217e-107\n",
       "Residual        6.501147e+12  1454.0         NaN            NaN"
      ]
     },
     "execution_count": 724,
     "metadata": {},
     "output_type": "execute_result"
    }
   ],
   "source": [
    "casas[\"FireplaceQu\"].fillna(\"Nohay\", inplace=True)\n",
    "model = ols('SalePrice ~ C(FireplaceQu)', data=casas).fit()\n",
    "anova_table = sm.stats.anova_lm(model, typ=2)\n",
    "anova_table\n",
    "#Podemos ver que si hay diferencia significativa en los precios segun la calidad de las chimenesas o si no hay "
   ]
  },
  {
   "cell_type": "code",
   "execution_count": 725,
   "id": "221c667d",
   "metadata": {},
   "outputs": [],
   "source": [
    "#Como es una variable ordinal, la volveremos númerica con la siguiente asignación de valores\n",
    "Fire1=np.where(casas.FireplaceQu==\"Nohay\",0, casas.FireplaceQu)\n",
    "Fire2=np.where(Fire1==\"Ex\",5,Fire1)\n",
    "Fire3=np.where(Fire2==\"Gd\",4,Fire2)\n",
    "Fire4=np.where(Fire3==\"TA\",3,Fire3)\n",
    "Fire5=np.where(Fire4==\"Fa\",2,Fire4)\n",
    "casas[\"FireplaceQu\"]=np.where(Fire5==\"Po\",1,Fire5)"
   ]
  },
  {
   "cell_type": "code",
   "execution_count": 726,
   "id": "30148b20",
   "metadata": {},
   "outputs": [],
   "source": [
    "casas.FireplaceQu=casas.FireplaceQu.astype(int)"
   ]
  },
  {
   "cell_type": "code",
   "execution_count": 727,
   "id": "8fb61a39",
   "metadata": {},
   "outputs": [
    {
     "data": {
      "text/plain": [
       "60.0     143\n",
       "70.0      70\n",
       "80.0      69\n",
       "50.0      57\n",
       "75.0      53\n",
       "        ... \n",
       "112.0      1\n",
       "138.0      1\n",
       "149.0      1\n",
       "38.0       1\n",
       "111.0      1\n",
       "Name: LotFrontage, Length: 110, dtype: int64"
      ]
     },
     "execution_count": 727,
     "metadata": {},
     "output_type": "execute_result"
    }
   ],
   "source": [
    "casas.LotFrontage.value_counts()\n",
    "#Aquí podemos ver que son valores numericos y representan los pies lineales de conexion con la calle por lo que inferimos que si hay un valor nulo es porque ese valor es cero,\n",
    "#entonces rrellenaremos los valores nulos con ceros"
   ]
  },
  {
   "cell_type": "code",
   "execution_count": 728,
   "id": "a121cc02",
   "metadata": {},
   "outputs": [],
   "source": [
    "casas.LotFrontage.fillna(0, inplace=True)\n",
    "#Mas adelante analizaremos que tan correlacionada esta esta variable con el precio de las casas"
   ]
  },
  {
   "cell_type": "markdown",
   "id": "3ffc5872",
   "metadata": {},
   "source": [
    "Analizaremos otras variables, serán las de garage, que por lo que observo tienen el mismo número de nulos y es porque no hay garage, entonces lo que haremos, será rellenar los nulos y en el caso de las variables categoricas, observar si hay diferencia significativa con los precios, si es así las mantendremos, convirtiendolas a numéricas si son ordinales o mas adelante obteniendo sus dummies. En el caso de las columnas numericas, las analizaremos mas adelante."
   ]
  },
  {
   "cell_type": "code",
   "execution_count": 729,
   "id": "29b6f26e",
   "metadata": {},
   "outputs": [
    {
     "data": {
      "text/plain": [
       "Attchd     870\n",
       "Detchd     387\n",
       "BuiltIn     88\n",
       "Basment     19\n",
       "CarPort      9\n",
       "2Types       6\n",
       "Name: GarageType, dtype: int64"
      ]
     },
     "execution_count": 729,
     "metadata": {},
     "output_type": "execute_result"
    }
   ],
   "source": [
    "casas.GarageType.value_counts()    "
   ]
  },
  {
   "cell_type": "code",
   "execution_count": 730,
   "id": "d9b6c2c3",
   "metadata": {},
   "outputs": [],
   "source": [
    "casas.GarageType.fillna(\"Nohay\", inplace=True)"
   ]
  },
  {
   "cell_type": "code",
   "execution_count": 731,
   "id": "71f701cb",
   "metadata": {},
   "outputs": [
    {
     "data": {
      "text/html": [
       "<div>\n",
       "<style scoped>\n",
       "    .dataframe tbody tr th:only-of-type {\n",
       "        vertical-align: middle;\n",
       "    }\n",
       "\n",
       "    .dataframe tbody tr th {\n",
       "        vertical-align: top;\n",
       "    }\n",
       "\n",
       "    .dataframe thead th {\n",
       "        text-align: right;\n",
       "    }\n",
       "</style>\n",
       "<table border=\"1\" class=\"dataframe\">\n",
       "  <thead>\n",
       "    <tr style=\"text-align: right;\">\n",
       "      <th></th>\n",
       "      <th>sum_sq</th>\n",
       "      <th>df</th>\n",
       "      <th>F</th>\n",
       "      <th>PR(&gt;F)</th>\n",
       "    </tr>\n",
       "  </thead>\n",
       "  <tbody>\n",
       "    <tr>\n",
       "      <th>C(GarageType)</th>\n",
       "      <td>2.294650e+12</td>\n",
       "      <td>6.0</td>\n",
       "      <td>80.379992</td>\n",
       "      <td>6.117026e-87</td>\n",
       "    </tr>\n",
       "    <tr>\n",
       "      <th>Residual</th>\n",
       "      <td>6.913261e+12</td>\n",
       "      <td>1453.0</td>\n",
       "      <td>NaN</td>\n",
       "      <td>NaN</td>\n",
       "    </tr>\n",
       "  </tbody>\n",
       "</table>\n",
       "</div>"
      ],
      "text/plain": [
       "                     sum_sq      df          F        PR(>F)\n",
       "C(GarageType)  2.294650e+12     6.0  80.379992  6.117026e-87\n",
       "Residual       6.913261e+12  1453.0        NaN           NaN"
      ]
     },
     "execution_count": 731,
     "metadata": {},
     "output_type": "execute_result"
    }
   ],
   "source": [
    "model = ols('SalePrice ~ C(GarageType)', data=casas).fit()\n",
    "anova_table = sm.stats.anova_lm(model, typ=2)\n",
    "anova_table\n",
    "#Como si hay diferencias significativas en el precio, segun esta variable, vamos a combertirla a dummies"
   ]
  },
  {
   "cell_type": "code",
   "execution_count": 732,
   "id": "7e6bc0af",
   "metadata": {},
   "outputs": [
    {
     "data": {
      "text/html": [
       "<div>\n",
       "<style scoped>\n",
       "    .dataframe tbody tr th:only-of-type {\n",
       "        vertical-align: middle;\n",
       "    }\n",
       "\n",
       "    .dataframe tbody tr th {\n",
       "        vertical-align: top;\n",
       "    }\n",
       "\n",
       "    .dataframe thead th {\n",
       "        text-align: right;\n",
       "    }\n",
       "</style>\n",
       "<table border=\"1\" class=\"dataframe\">\n",
       "  <thead>\n",
       "    <tr style=\"text-align: right;\">\n",
       "      <th></th>\n",
       "      <th>sum_sq</th>\n",
       "      <th>df</th>\n",
       "      <th>F</th>\n",
       "      <th>PR(&gt;F)</th>\n",
       "    </tr>\n",
       "  </thead>\n",
       "  <tbody>\n",
       "    <tr>\n",
       "      <th>GarageQual</th>\n",
       "      <td>7.497217e+11</td>\n",
       "      <td>5.0</td>\n",
       "      <td>25.776093</td>\n",
       "      <td>5.388762e-25</td>\n",
       "    </tr>\n",
       "    <tr>\n",
       "      <th>Residual</th>\n",
       "      <td>8.458190e+12</td>\n",
       "      <td>1454.0</td>\n",
       "      <td>NaN</td>\n",
       "      <td>NaN</td>\n",
       "    </tr>\n",
       "  </tbody>\n",
       "</table>\n",
       "</div>"
      ],
      "text/plain": [
       "                  sum_sq      df          F        PR(>F)\n",
       "GarageQual  7.497217e+11     5.0  25.776093  5.388762e-25\n",
       "Residual    8.458190e+12  1454.0        NaN           NaN"
      ]
     },
     "execution_count": 732,
     "metadata": {},
     "output_type": "execute_result"
    }
   ],
   "source": [
    "casas.GarageQual.fillna(\"Nohay\", inplace=True)\n",
    "model = ols('SalePrice ~ GarageQual', data=casas).fit()\n",
    "anova_table = sm.stats.anova_lm(model, typ=2)\n",
    "anova_table\n",
    "#Como si hay diferencia significativa en los precios segun la calidad del garage, dejaremos esta columna, \n",
    "#solo la convertiremos a numérica "
   ]
  },
  {
   "cell_type": "code",
   "execution_count": 733,
   "id": "8e37426b",
   "metadata": {},
   "outputs": [],
   "source": [
    "Gar1=np.where(casas.GarageQual==\"Nohay\",0, casas.GarageQual)\n",
    "Gar2=np.where(Gar1==\"Ex\",5,Gar1)\n",
    "Gar3=np.where(Gar2==\"Gd\",4,Gar2)\n",
    "Gar4=np.where(Gar3==\"TA\",3,Gar3)\n",
    "Gar5=np.where(Gar4==\"Fa\",2,Gar4)\n",
    "casas[\"GarageQual\"]=np.where(Gar5==\"Po\",1,Gar5)"
   ]
  },
  {
   "cell_type": "code",
   "execution_count": 734,
   "id": "8d4ba4a5",
   "metadata": {},
   "outputs": [],
   "source": [
    "casas.GarageQual=casas.GarageQual.astype(int)"
   ]
  },
  {
   "cell_type": "code",
   "execution_count": 893,
   "id": "64381530",
   "metadata": {},
   "outputs": [],
   "source": [
    "#En el caso de esta columna,vamos a poner en el año de la construcción del garage el año de la\n",
    "#construcción de la casa en el caso de que no haya garage solo rellenamos 81 datos\n",
    "casas.GarageYrBlt.fillna(\"Nohay\", inplace=True)\n",
    "casas[\"GarageYrBlt\"]=np.where(casas.GarageYrBlt==\"Nohay\",casas.YearBuilt, casas.GarageYrBlt)\n"
   ]
  },
  {
   "cell_type": "code",
   "execution_count": 737,
   "id": "67450df6",
   "metadata": {},
   "outputs": [],
   "source": [
    "casas.GarageYrBlt=casas.GarageYrBlt.astype(int)"
   ]
  },
  {
   "cell_type": "code",
   "execution_count": 738,
   "id": "2c4bd394",
   "metadata": {},
   "outputs": [
    {
     "data": {
      "text/html": [
       "<div>\n",
       "<style scoped>\n",
       "    .dataframe tbody tr th:only-of-type {\n",
       "        vertical-align: middle;\n",
       "    }\n",
       "\n",
       "    .dataframe tbody tr th {\n",
       "        vertical-align: top;\n",
       "    }\n",
       "\n",
       "    .dataframe thead th {\n",
       "        text-align: right;\n",
       "    }\n",
       "</style>\n",
       "<table border=\"1\" class=\"dataframe\">\n",
       "  <thead>\n",
       "    <tr style=\"text-align: right;\">\n",
       "      <th></th>\n",
       "      <th>sum_sq</th>\n",
       "      <th>df</th>\n",
       "      <th>F</th>\n",
       "      <th>PR(&gt;F)</th>\n",
       "    </tr>\n",
       "  </thead>\n",
       "  <tbody>\n",
       "    <tr>\n",
       "      <th>C(GarageCond)</th>\n",
       "      <td>7.490286e+11</td>\n",
       "      <td>5.0</td>\n",
       "      <td>25.750153</td>\n",
       "      <td>5.711746e-25</td>\n",
       "    </tr>\n",
       "    <tr>\n",
       "      <th>Residual</th>\n",
       "      <td>8.458883e+12</td>\n",
       "      <td>1454.0</td>\n",
       "      <td>NaN</td>\n",
       "      <td>NaN</td>\n",
       "    </tr>\n",
       "  </tbody>\n",
       "</table>\n",
       "</div>"
      ],
      "text/plain": [
       "                     sum_sq      df          F        PR(>F)\n",
       "C(GarageCond)  7.490286e+11     5.0  25.750153  5.711746e-25\n",
       "Residual       8.458883e+12  1454.0        NaN           NaN"
      ]
     },
     "execution_count": 738,
     "metadata": {},
     "output_type": "execute_result"
    }
   ],
   "source": [
    "casas.GarageCond.fillna(\"Nohay\", inplace=True)\n",
    "model = ols('SalePrice ~ C(GarageCond)', data=casas).fit()\n",
    "anova_table = sm.stats.anova_lm(model, typ=2)\n",
    "anova_table\n",
    "#Como si hay diferencia significativa en los precios segun la calidad del garage, dejaremos esta columna, \n",
    "#solo la convertiremos a numérica "
   ]
  },
  {
   "cell_type": "code",
   "execution_count": 739,
   "id": "285f834e",
   "metadata": {},
   "outputs": [],
   "source": [
    "Gar1=np.where(casas.GarageCond==\"Nohay\",0, casas.GarageCond)\n",
    "Gar2=np.where(Gar1==\"Ex\",5,Gar1)\n",
    "Gar3=np.where(Gar2==\"Gd\",4,Gar2)\n",
    "Gar4=np.where(Gar3==\"TA\",3,Gar3)\n",
    "Gar5=np.where(Gar4==\"Fa\",2,Gar4)\n",
    "casas[\"GarageCond\"]=np.where(Gar5==\"Po\",1,Gar5)"
   ]
  },
  {
   "cell_type": "code",
   "execution_count": 740,
   "id": "697d161b",
   "metadata": {},
   "outputs": [],
   "source": [
    "casas.GarageCond=casas.GarageCond.astype(int)"
   ]
  },
  {
   "cell_type": "code",
   "execution_count": 741,
   "id": "eff2a4e4",
   "metadata": {},
   "outputs": [
    {
     "data": {
      "text/html": [
       "<div>\n",
       "<style scoped>\n",
       "    .dataframe tbody tr th:only-of-type {\n",
       "        vertical-align: middle;\n",
       "    }\n",
       "\n",
       "    .dataframe tbody tr th {\n",
       "        vertical-align: top;\n",
       "    }\n",
       "\n",
       "    .dataframe thead th {\n",
       "        text-align: right;\n",
       "    }\n",
       "</style>\n",
       "<table border=\"1\" class=\"dataframe\">\n",
       "  <thead>\n",
       "    <tr style=\"text-align: right;\">\n",
       "      <th></th>\n",
       "      <th>sum_sq</th>\n",
       "      <th>df</th>\n",
       "      <th>F</th>\n",
       "      <th>PR(&gt;F)</th>\n",
       "    </tr>\n",
       "  </thead>\n",
       "  <tbody>\n",
       "    <tr>\n",
       "      <th>C(GarageFinish)</th>\n",
       "      <td>2.816458e+12</td>\n",
       "      <td>3.0</td>\n",
       "      <td>213.867028</td>\n",
       "      <td>6.228747e-115</td>\n",
       "    </tr>\n",
       "    <tr>\n",
       "      <th>Residual</th>\n",
       "      <td>6.391453e+12</td>\n",
       "      <td>1456.0</td>\n",
       "      <td>NaN</td>\n",
       "      <td>NaN</td>\n",
       "    </tr>\n",
       "  </tbody>\n",
       "</table>\n",
       "</div>"
      ],
      "text/plain": [
       "                       sum_sq      df           F         PR(>F)\n",
       "C(GarageFinish)  2.816458e+12     3.0  213.867028  6.228747e-115\n",
       "Residual         6.391453e+12  1456.0         NaN            NaN"
      ]
     },
     "execution_count": 741,
     "metadata": {},
     "output_type": "execute_result"
    }
   ],
   "source": [
    "casas.GarageFinish.fillna(\"Nohay\", inplace=True)\n",
    "model = ols('SalePrice ~ C(GarageFinish)', data=casas).fit()\n",
    "anova_table = sm.stats.anova_lm(model, typ=2)\n",
    "anova_table\n",
    "#Como si hay diferencia significativa en los precios segun si se termino el garage, dejaremos esta columna, \n",
    "#solo la convertiremos a numerica "
   ]
  },
  {
   "cell_type": "code",
   "execution_count": 742,
   "id": "6b439849",
   "metadata": {},
   "outputs": [],
   "source": [
    "Gar1=np.where(casas.GarageFinish==\"Nohay\",0, casas.GarageFinish)\n",
    "Gar2=np.where(Gar1==\"Fin\",3,Gar1)\n",
    "Gar3=np.where(Gar2==\"RFn\",2,Gar2)\n",
    "casas[\"GarageFinish\"]=np.where(Gar3==\"Unf\",1,Gar3)"
   ]
  },
  {
   "cell_type": "code",
   "execution_count": 743,
   "id": "8d19b66c",
   "metadata": {},
   "outputs": [],
   "source": [
    "casas.GarageFinish=casas.GarageFinish.astype(int)"
   ]
  },
  {
   "cell_type": "markdown",
   "id": "b9fd98ed",
   "metadata": {},
   "source": [
    "Analizamos otras columnas referentes al sotano, aquí podemos ver claramente que si hay un valor nulo significa que no hay sotano, rellenaremos los nulos y analizaremos si dejamos o no la columna."
   ]
  },
  {
   "cell_type": "code",
   "execution_count": 744,
   "id": "d5bc46b8",
   "metadata": {},
   "outputs": [
    {
     "data": {
      "text/html": [
       "<div>\n",
       "<style scoped>\n",
       "    .dataframe tbody tr th:only-of-type {\n",
       "        vertical-align: middle;\n",
       "    }\n",
       "\n",
       "    .dataframe tbody tr th {\n",
       "        vertical-align: top;\n",
       "    }\n",
       "\n",
       "    .dataframe thead th {\n",
       "        text-align: right;\n",
       "    }\n",
       "</style>\n",
       "<table border=\"1\" class=\"dataframe\">\n",
       "  <thead>\n",
       "    <tr style=\"text-align: right;\">\n",
       "      <th></th>\n",
       "      <th>sum_sq</th>\n",
       "      <th>df</th>\n",
       "      <th>F</th>\n",
       "      <th>PR(&gt;F)</th>\n",
       "    </tr>\n",
       "  </thead>\n",
       "  <tbody>\n",
       "    <tr>\n",
       "      <th>C(BsmtQual)</th>\n",
       "      <td>4.281621e+12</td>\n",
       "      <td>4.0</td>\n",
       "      <td>316.148635</td>\n",
       "      <td>8.158548e-196</td>\n",
       "    </tr>\n",
       "    <tr>\n",
       "      <th>Residual</th>\n",
       "      <td>4.926290e+12</td>\n",
       "      <td>1455.0</td>\n",
       "      <td>NaN</td>\n",
       "      <td>NaN</td>\n",
       "    </tr>\n",
       "  </tbody>\n",
       "</table>\n",
       "</div>"
      ],
      "text/plain": [
       "                   sum_sq      df           F         PR(>F)\n",
       "C(BsmtQual)  4.281621e+12     4.0  316.148635  8.158548e-196\n",
       "Residual     4.926290e+12  1455.0         NaN            NaN"
      ]
     },
     "execution_count": 744,
     "metadata": {},
     "output_type": "execute_result"
    }
   ],
   "source": [
    "casas.BsmtQual.fillna(\"Nohay\", inplace=True)\n",
    "model = ols('SalePrice ~ C(BsmtQual)', data=casas).fit()\n",
    "anova_table = sm.stats.anova_lm(model, typ=2)\n",
    "anova_table\n",
    "#Como si hay diferencia significativa en los precios segun la calidad del sotano, dejaremos esta columna, \n",
    "#solo la convertiremos a numerica "
   ]
  },
  {
   "cell_type": "code",
   "execution_count": 745,
   "id": "fae4b357",
   "metadata": {},
   "outputs": [],
   "source": [
    "Bas1=np.where(casas.BsmtQual==\"Nohay\",0, casas.BsmtQual)\n",
    "Bas2=np.where(Bas1==\"Ex\",5,Bas1)\n",
    "Bas3=np.where(Bas2==\"Gd\",4,Bas2)\n",
    "Bas4=np.where(Bas3==\"TA\",3,Bas3)\n",
    "Bas5=np.where(Bas4==\"Fa\",2,Bas4)\n",
    "casas[\"BsmtQual\"]=np.where(Bas5==\"Po\",1,Bas5)"
   ]
  },
  {
   "cell_type": "code",
   "execution_count": 746,
   "id": "f722a8fa",
   "metadata": {},
   "outputs": [],
   "source": [
    "casas.BsmtQual=casas.BsmtQual.astype(int)"
   ]
  },
  {
   "cell_type": "code",
   "execution_count": 747,
   "id": "406b1da9",
   "metadata": {},
   "outputs": [
    {
     "data": {
      "text/html": [
       "<div>\n",
       "<style scoped>\n",
       "    .dataframe tbody tr th:only-of-type {\n",
       "        vertical-align: middle;\n",
       "    }\n",
       "\n",
       "    .dataframe tbody tr th {\n",
       "        vertical-align: top;\n",
       "    }\n",
       "\n",
       "    .dataframe thead th {\n",
       "        text-align: right;\n",
       "    }\n",
       "</style>\n",
       "<table border=\"1\" class=\"dataframe\">\n",
       "  <thead>\n",
       "    <tr style=\"text-align: right;\">\n",
       "      <th></th>\n",
       "      <th>sum_sq</th>\n",
       "      <th>df</th>\n",
       "      <th>F</th>\n",
       "      <th>PR(&gt;F)</th>\n",
       "    </tr>\n",
       "  </thead>\n",
       "  <tbody>\n",
       "    <tr>\n",
       "      <th>C(BsmtCond)</th>\n",
       "      <td>4.732480e+11</td>\n",
       "      <td>4.0</td>\n",
       "      <td>19.708139</td>\n",
       "      <td>8.195794e-16</td>\n",
       "    </tr>\n",
       "    <tr>\n",
       "      <th>Residual</th>\n",
       "      <td>8.734663e+12</td>\n",
       "      <td>1455.0</td>\n",
       "      <td>NaN</td>\n",
       "      <td>NaN</td>\n",
       "    </tr>\n",
       "  </tbody>\n",
       "</table>\n",
       "</div>"
      ],
      "text/plain": [
       "                   sum_sq      df          F        PR(>F)\n",
       "C(BsmtCond)  4.732480e+11     4.0  19.708139  8.195794e-16\n",
       "Residual     8.734663e+12  1455.0        NaN           NaN"
      ]
     },
     "execution_count": 747,
     "metadata": {},
     "output_type": "execute_result"
    }
   ],
   "source": [
    "casas.BsmtCond.fillna(\"Nohay\", inplace=True)\n",
    "model = ols('SalePrice ~ C(BsmtCond)', data=casas).fit()\n",
    "anova_table = sm.stats.anova_lm(model, typ=2)\n",
    "anova_table\n",
    "#Como si hay diferencia significativa en los precios segun la calidad del garage, dejaremos esta columna, \n",
    "#solo la convertiremos a numérica "
   ]
  },
  {
   "cell_type": "code",
   "execution_count": 748,
   "id": "19c49997",
   "metadata": {},
   "outputs": [],
   "source": [
    "Bas1=np.where(casas.BsmtCond==\"Nohay\",0, casas.BsmtCond)\n",
    "Bas2=np.where(Bas1==\"Ex\",5,Bas1)\n",
    "Bas3=np.where(Bas2==\"Gd\",4,Bas2)\n",
    "Bas4=np.where(Bas3==\"TA\",3,Bas3)\n",
    "Bas5=np.where(Bas4==\"Fa\",2,Bas4)\n",
    "casas[\"BsmtCond\"]=np.where(Bas5==\"Po\",1,Bas5)"
   ]
  },
  {
   "cell_type": "code",
   "execution_count": 749,
   "id": "00dbcb57",
   "metadata": {},
   "outputs": [],
   "source": [
    "casas.BsmtCond=casas.BsmtCond.astype(int)"
   ]
  },
  {
   "cell_type": "code",
   "execution_count": 750,
   "id": "379de633",
   "metadata": {},
   "outputs": [
    {
     "data": {
      "text/html": [
       "<div>\n",
       "<style scoped>\n",
       "    .dataframe tbody tr th:only-of-type {\n",
       "        vertical-align: middle;\n",
       "    }\n",
       "\n",
       "    .dataframe tbody tr th {\n",
       "        vertical-align: top;\n",
       "    }\n",
       "\n",
       "    .dataframe thead th {\n",
       "        text-align: right;\n",
       "    }\n",
       "</style>\n",
       "<table border=\"1\" class=\"dataframe\">\n",
       "  <thead>\n",
       "    <tr style=\"text-align: right;\">\n",
       "      <th></th>\n",
       "      <th>sum_sq</th>\n",
       "      <th>df</th>\n",
       "      <th>F</th>\n",
       "      <th>PR(&gt;F)</th>\n",
       "    </tr>\n",
       "  </thead>\n",
       "  <tbody>\n",
       "    <tr>\n",
       "      <th>C(BsmtExposure)</th>\n",
       "      <td>1.376586e+12</td>\n",
       "      <td>4.0</td>\n",
       "      <td>63.939761</td>\n",
       "      <td>7.557758e-50</td>\n",
       "    </tr>\n",
       "    <tr>\n",
       "      <th>Residual</th>\n",
       "      <td>7.831326e+12</td>\n",
       "      <td>1455.0</td>\n",
       "      <td>NaN</td>\n",
       "      <td>NaN</td>\n",
       "    </tr>\n",
       "  </tbody>\n",
       "</table>\n",
       "</div>"
      ],
      "text/plain": [
       "                       sum_sq      df          F        PR(>F)\n",
       "C(BsmtExposure)  1.376586e+12     4.0  63.939761  7.557758e-50\n",
       "Residual         7.831326e+12  1455.0        NaN           NaN"
      ]
     },
     "execution_count": 750,
     "metadata": {},
     "output_type": "execute_result"
    }
   ],
   "source": [
    "casas.BsmtExposure.fillna(\"Nohay\", inplace=True)\n",
    "model = ols('SalePrice ~ C(BsmtExposure)', data=casas).fit()\n",
    "anova_table = sm.stats.anova_lm(model, typ=2)\n",
    "anova_table\n",
    "#Como si hay diferencia significativa en los precios segun la calidad del garage, dejaremos esta columna, \n",
    "#solo la convertiremos a numérica "
   ]
  },
  {
   "cell_type": "code",
   "execution_count": 751,
   "id": "64f7389f",
   "metadata": {},
   "outputs": [],
   "source": [
    "Bas1=np.where(casas.BsmtExposure==\"Nohay\",0, casas.BsmtExposure)\n",
    "Bas2=np.where(Bas1==\"Gd\",4,Bas1)\n",
    "Bas3=np.where(Bas2==\"Av\",3,Bas2)\n",
    "Bas4=np.where(Bas3==\"Mn\",2,Bas3)\n",
    "casas[\"BsmtExposure\"]=np.where(Bas4==\"No\",1,Bas4)"
   ]
  },
  {
   "cell_type": "code",
   "execution_count": 752,
   "id": "01d22bb3",
   "metadata": {},
   "outputs": [],
   "source": [
    "casas.BsmtExposure=casas.BsmtExposure.astype(int)"
   ]
  },
  {
   "cell_type": "code",
   "execution_count": 753,
   "id": "71d64654",
   "metadata": {},
   "outputs": [
    {
     "data": {
      "text/html": [
       "<div>\n",
       "<style scoped>\n",
       "    .dataframe tbody tr th:only-of-type {\n",
       "        vertical-align: middle;\n",
       "    }\n",
       "\n",
       "    .dataframe tbody tr th {\n",
       "        vertical-align: top;\n",
       "    }\n",
       "\n",
       "    .dataframe thead th {\n",
       "        text-align: right;\n",
       "    }\n",
       "</style>\n",
       "<table border=\"1\" class=\"dataframe\">\n",
       "  <thead>\n",
       "    <tr style=\"text-align: right;\">\n",
       "      <th></th>\n",
       "      <th>sum_sq</th>\n",
       "      <th>df</th>\n",
       "      <th>F</th>\n",
       "      <th>PR(&gt;F)</th>\n",
       "    </tr>\n",
       "  </thead>\n",
       "  <tbody>\n",
       "    <tr>\n",
       "      <th>C(BsmtFinType1)</th>\n",
       "      <td>1.941124e+12</td>\n",
       "      <td>6.0</td>\n",
       "      <td>64.6882</td>\n",
       "      <td>2.386358e-71</td>\n",
       "    </tr>\n",
       "    <tr>\n",
       "      <th>Residual</th>\n",
       "      <td>7.266788e+12</td>\n",
       "      <td>1453.0</td>\n",
       "      <td>NaN</td>\n",
       "      <td>NaN</td>\n",
       "    </tr>\n",
       "  </tbody>\n",
       "</table>\n",
       "</div>"
      ],
      "text/plain": [
       "                       sum_sq      df        F        PR(>F)\n",
       "C(BsmtFinType1)  1.941124e+12     6.0  64.6882  2.386358e-71\n",
       "Residual         7.266788e+12  1453.0      NaN           NaN"
      ]
     },
     "execution_count": 753,
     "metadata": {},
     "output_type": "execute_result"
    }
   ],
   "source": [
    "casas.BsmtFinType1.fillna(\"Nohay\", inplace=True)\n",
    "model = ols('SalePrice ~ C(BsmtFinType1)', data=casas).fit()\n",
    "anova_table = sm.stats.anova_lm(model, typ=2)\n",
    "anova_table\n",
    "#Como si hay diferencias significativas en el precio, segun esta variable, vamos a combertirla a dummies"
   ]
  },
  {
   "cell_type": "code",
   "execution_count": 754,
   "id": "421bd9d8",
   "metadata": {},
   "outputs": [
    {
     "data": {
      "text/html": [
       "<div>\n",
       "<style scoped>\n",
       "    .dataframe tbody tr th:only-of-type {\n",
       "        vertical-align: middle;\n",
       "    }\n",
       "\n",
       "    .dataframe tbody tr th {\n",
       "        vertical-align: top;\n",
       "    }\n",
       "\n",
       "    .dataframe thead th {\n",
       "        text-align: right;\n",
       "    }\n",
       "</style>\n",
       "<table border=\"1\" class=\"dataframe\">\n",
       "  <thead>\n",
       "    <tr style=\"text-align: right;\">\n",
       "      <th></th>\n",
       "      <th>sum_sq</th>\n",
       "      <th>df</th>\n",
       "      <th>F</th>\n",
       "      <th>PR(&gt;F)</th>\n",
       "    </tr>\n",
       "  </thead>\n",
       "  <tbody>\n",
       "    <tr>\n",
       "      <th>C(BsmtFinType2)</th>\n",
       "      <td>2.789443e+11</td>\n",
       "      <td>6.0</td>\n",
       "      <td>7.565378</td>\n",
       "      <td>5.225649e-08</td>\n",
       "    </tr>\n",
       "    <tr>\n",
       "      <th>Residual</th>\n",
       "      <td>8.928967e+12</td>\n",
       "      <td>1453.0</td>\n",
       "      <td>NaN</td>\n",
       "      <td>NaN</td>\n",
       "    </tr>\n",
       "  </tbody>\n",
       "</table>\n",
       "</div>"
      ],
      "text/plain": [
       "                       sum_sq      df         F        PR(>F)\n",
       "C(BsmtFinType2)  2.789443e+11     6.0  7.565378  5.225649e-08\n",
       "Residual         8.928967e+12  1453.0       NaN           NaN"
      ]
     },
     "execution_count": 754,
     "metadata": {},
     "output_type": "execute_result"
    }
   ],
   "source": [
    "casas.BsmtFinType2.fillna(\"Nohay\", inplace=True)\n",
    "model = ols('SalePrice ~ C(BsmtFinType2)', data=casas).fit()\n",
    "anova_table = sm.stats.anova_lm(model, typ=2)\n",
    "anova_table\n",
    "#Como si hay diferencias significativas en el precio, segun esta variable, vamos a combertirla a dummies"
   ]
  },
  {
   "cell_type": "markdown",
   "id": "a9ecec63",
   "metadata": {},
   "source": [
    "Checaremos mas columnas con nulos. Analizando las columnas MasVnrArea y MasVnrType podemos observar que el hecho de que el área sea cero, significa que no tiene ningun tipo de mampostería  en su mayoría, por lo que los nulos de ambas columnas, no significa la usencia de mampostería, sino realmente que no sabemos de que tipo y que área ocupan. "
   ]
  },
  {
   "cell_type": "code",
   "execution_count": 755,
   "id": "b1407443",
   "metadata": {},
   "outputs": [
    {
     "data": {
      "text/plain": [
       "None       864\n",
       "BrkFace    445\n",
       "Stone      128\n",
       "BrkCmn      15\n",
       "Name: MasVnrType, dtype: int64"
      ]
     },
     "execution_count": 755,
     "metadata": {},
     "output_type": "execute_result"
    }
   ],
   "source": [
    "casas.MasVnrType.value_counts()"
   ]
  },
  {
   "cell_type": "code",
   "execution_count": 756,
   "id": "75e68fbc",
   "metadata": {},
   "outputs": [
    {
     "data": {
      "text/plain": [
       "None       859\n",
       "BrkFace      1\n",
       "Stone        1\n",
       "Name: MasVnrType, dtype: int64"
      ]
     },
     "execution_count": 756,
     "metadata": {},
     "output_type": "execute_result"
    }
   ],
   "source": [
    "casas[casas.MasVnrArea==0].MasVnrType.value_counts()\n",
    "#Aquí podemos ver que la mayoria de los datos donde el área es cero el tipo de mampostería es cero "
   ]
  },
  {
   "cell_type": "code",
   "execution_count": 757,
   "id": "f2a6c241",
   "metadata": {},
   "outputs": [
    {
     "data": {
      "text/plain": [
       "234     NaN\n",
       "529     NaN\n",
       "650     NaN\n",
       "936     NaN\n",
       "973     NaN\n",
       "977     NaN\n",
       "1243    NaN\n",
       "1278    NaN\n",
       "Name: MasVnrType, dtype: object"
      ]
     },
     "execution_count": 757,
     "metadata": {},
     "output_type": "execute_result"
    }
   ],
   "source": [
    "casas[casas.MasVnrArea.isnull()].MasVnrType\n",
    "#Los valores nulos coinciden para ambas columnas, analizaremos que tan importante es el tipo de mampostería para el \n",
    "#precio de la casa y si lo es, lo mejor sería deshacernos de esas pocas filas en que hay nulos "
   ]
  },
  {
   "cell_type": "code",
   "execution_count": 758,
   "id": "b078e2db",
   "metadata": {},
   "outputs": [
    {
     "data": {
      "text/html": [
       "<div>\n",
       "<style scoped>\n",
       "    .dataframe tbody tr th:only-of-type {\n",
       "        vertical-align: middle;\n",
       "    }\n",
       "\n",
       "    .dataframe tbody tr th {\n",
       "        vertical-align: top;\n",
       "    }\n",
       "\n",
       "    .dataframe thead th {\n",
       "        text-align: right;\n",
       "    }\n",
       "</style>\n",
       "<table border=\"1\" class=\"dataframe\">\n",
       "  <thead>\n",
       "    <tr style=\"text-align: right;\">\n",
       "      <th></th>\n",
       "      <th>sum_sq</th>\n",
       "      <th>df</th>\n",
       "      <th>F</th>\n",
       "      <th>PR(&gt;F)</th>\n",
       "    </tr>\n",
       "  </thead>\n",
       "  <tbody>\n",
       "    <tr>\n",
       "      <th>C(MasVnrType)</th>\n",
       "      <td>1.713827e+12</td>\n",
       "      <td>3.0</td>\n",
       "      <td>111.67238</td>\n",
       "      <td>4.793331e-65</td>\n",
       "    </tr>\n",
       "    <tr>\n",
       "      <th>Residual</th>\n",
       "      <td>7.407445e+12</td>\n",
       "      <td>1448.0</td>\n",
       "      <td>NaN</td>\n",
       "      <td>NaN</td>\n",
       "    </tr>\n",
       "  </tbody>\n",
       "</table>\n",
       "</div>"
      ],
      "text/plain": [
       "                     sum_sq      df          F        PR(>F)\n",
       "C(MasVnrType)  1.713827e+12     3.0  111.67238  4.793331e-65\n",
       "Residual       7.407445e+12  1448.0        NaN           NaN"
      ]
     },
     "execution_count": 758,
     "metadata": {},
     "output_type": "execute_result"
    }
   ],
   "source": [
    "casas_ma=casas[[\"SalePrice\",\"MasVnrType\"]][casas.MasVnrType.notnull()]\n",
    "model = ols('SalePrice ~ C(MasVnrType)', data=casas_ma).fit()\n",
    "anova_table = sm.stats.anova_lm(model, typ=2)\n",
    "anova_table\n",
    "#Si hay diferencias significativas entre los precios y los datos de esta columna entonces si la mantendremos pero \n",
    "#borraremos las filas con los valores nulos "
   ]
  },
  {
   "cell_type": "markdown",
   "id": "81aaf71e",
   "metadata": {},
   "source": [
    "Lo mismo pasa con el valor nulo en la columna de Electrical, no significa que no tenga sistema electrico, solo no sabemos de que tipo es, por lo que lo eliminaremos. "
   ]
  },
  {
   "cell_type": "code",
   "execution_count": 759,
   "id": "c691400a",
   "metadata": {
    "scrolled": true
   },
   "outputs": [
    {
     "data": {
      "text/html": [
       "<div>\n",
       "<style scoped>\n",
       "    .dataframe tbody tr th:only-of-type {\n",
       "        vertical-align: middle;\n",
       "    }\n",
       "\n",
       "    .dataframe tbody tr th {\n",
       "        vertical-align: top;\n",
       "    }\n",
       "\n",
       "    .dataframe thead th {\n",
       "        text-align: right;\n",
       "    }\n",
       "</style>\n",
       "<table border=\"1\" class=\"dataframe\">\n",
       "  <thead>\n",
       "    <tr style=\"text-align: right;\">\n",
       "      <th></th>\n",
       "      <th>Id</th>\n",
       "      <th>MSSubClass</th>\n",
       "      <th>MSZoning</th>\n",
       "      <th>LotFrontage</th>\n",
       "      <th>LotArea</th>\n",
       "      <th>Street</th>\n",
       "      <th>Alley</th>\n",
       "      <th>LotShape</th>\n",
       "      <th>LandContour</th>\n",
       "      <th>Utilities</th>\n",
       "      <th>...</th>\n",
       "      <th>3SsnPorch</th>\n",
       "      <th>ScreenPorch</th>\n",
       "      <th>Fence</th>\n",
       "      <th>MiscVal</th>\n",
       "      <th>MoSold</th>\n",
       "      <th>YrSold</th>\n",
       "      <th>SaleType</th>\n",
       "      <th>SaleCondition</th>\n",
       "      <th>SalePrice</th>\n",
       "      <th>Pool</th>\n",
       "    </tr>\n",
       "  </thead>\n",
       "  <tbody>\n",
       "    <tr>\n",
       "      <th>1379</th>\n",
       "      <td>1380</td>\n",
       "      <td>80</td>\n",
       "      <td>RL</td>\n",
       "      <td>73.0</td>\n",
       "      <td>9735</td>\n",
       "      <td>Pave</td>\n",
       "      <td>Nohayacceso</td>\n",
       "      <td>Reg</td>\n",
       "      <td>Lvl</td>\n",
       "      <td>AllPub</td>\n",
       "      <td>...</td>\n",
       "      <td>0</td>\n",
       "      <td>0</td>\n",
       "      <td>Nohay</td>\n",
       "      <td>0</td>\n",
       "      <td>5</td>\n",
       "      <td>2008</td>\n",
       "      <td>WD</td>\n",
       "      <td>Normal</td>\n",
       "      <td>167500</td>\n",
       "      <td>0</td>\n",
       "    </tr>\n",
       "  </tbody>\n",
       "</table>\n",
       "<p>1 rows × 79 columns</p>\n",
       "</div>"
      ],
      "text/plain": [
       "        Id  MSSubClass MSZoning  LotFrontage  LotArea Street        Alley  \\\n",
       "1379  1380          80       RL         73.0     9735   Pave  Nohayacceso   \n",
       "\n",
       "     LotShape LandContour Utilities  ... 3SsnPorch ScreenPorch  Fence MiscVal  \\\n",
       "1379      Reg         Lvl    AllPub  ...         0           0  Nohay       0   \n",
       "\n",
       "     MoSold YrSold SaleType  SaleCondition  SalePrice  Pool  \n",
       "1379      5   2008       WD         Normal     167500     0  \n",
       "\n",
       "[1 rows x 79 columns]"
      ]
     },
     "execution_count": 759,
     "metadata": {},
     "output_type": "execute_result"
    }
   ],
   "source": [
    "casas[casas.Electrical.isnull()]"
   ]
  },
  {
   "cell_type": "code",
   "execution_count": 760,
   "id": "b19c15cb",
   "metadata": {},
   "outputs": [],
   "source": [
    "casas1=casas[casas.Electrical.notnull()]\n",
    "Casas=casas1[casas1.MasVnrType.notnull()]"
   ]
  },
  {
   "cell_type": "code",
   "execution_count": 761,
   "id": "b645bf86",
   "metadata": {},
   "outputs": [
    {
     "data": {
      "text/plain": [
       "(1451, 79)"
      ]
     },
     "execution_count": 761,
     "metadata": {},
     "output_type": "execute_result"
    }
   ],
   "source": [
    "Casas.shape"
   ]
  },
  {
   "cell_type": "markdown",
   "id": "0b8877bf",
   "metadata": {},
   "source": [
    "## Análisis de las columnas no numéricas con ANOVA"
   ]
  },
  {
   "cell_type": "code",
   "execution_count": 762,
   "id": "b55cf4eb",
   "metadata": {},
   "outputs": [
    {
     "data": {
      "text/html": [
       "<div>\n",
       "<style scoped>\n",
       "    .dataframe tbody tr th:only-of-type {\n",
       "        vertical-align: middle;\n",
       "    }\n",
       "\n",
       "    .dataframe tbody tr th {\n",
       "        vertical-align: top;\n",
       "    }\n",
       "\n",
       "    .dataframe thead th {\n",
       "        text-align: right;\n",
       "    }\n",
       "</style>\n",
       "<table border=\"1\" class=\"dataframe\">\n",
       "  <thead>\n",
       "    <tr style=\"text-align: right;\">\n",
       "      <th></th>\n",
       "      <th>Id</th>\n",
       "      <th>MSSubClass</th>\n",
       "      <th>LotFrontage</th>\n",
       "      <th>LotArea</th>\n",
       "      <th>OverallQual</th>\n",
       "      <th>OverallCond</th>\n",
       "      <th>YearBuilt</th>\n",
       "      <th>YearRemodAdd</th>\n",
       "      <th>MasVnrArea</th>\n",
       "      <th>BsmtQual</th>\n",
       "      <th>...</th>\n",
       "      <th>WoodDeckSF</th>\n",
       "      <th>OpenPorchSF</th>\n",
       "      <th>EnclosedPorch</th>\n",
       "      <th>3SsnPorch</th>\n",
       "      <th>ScreenPorch</th>\n",
       "      <th>MiscVal</th>\n",
       "      <th>MoSold</th>\n",
       "      <th>YrSold</th>\n",
       "      <th>SalePrice</th>\n",
       "      <th>Pool</th>\n",
       "    </tr>\n",
       "  </thead>\n",
       "  <tbody>\n",
       "    <tr>\n",
       "      <th>0</th>\n",
       "      <td>1</td>\n",
       "      <td>60</td>\n",
       "      <td>65.0</td>\n",
       "      <td>8450</td>\n",
       "      <td>7</td>\n",
       "      <td>5</td>\n",
       "      <td>2003</td>\n",
       "      <td>2003</td>\n",
       "      <td>196.0</td>\n",
       "      <td>4</td>\n",
       "      <td>...</td>\n",
       "      <td>0</td>\n",
       "      <td>61</td>\n",
       "      <td>0</td>\n",
       "      <td>0</td>\n",
       "      <td>0</td>\n",
       "      <td>0</td>\n",
       "      <td>2</td>\n",
       "      <td>2008</td>\n",
       "      <td>208500</td>\n",
       "      <td>0</td>\n",
       "    </tr>\n",
       "    <tr>\n",
       "      <th>1</th>\n",
       "      <td>2</td>\n",
       "      <td>20</td>\n",
       "      <td>80.0</td>\n",
       "      <td>9600</td>\n",
       "      <td>6</td>\n",
       "      <td>8</td>\n",
       "      <td>1976</td>\n",
       "      <td>1976</td>\n",
       "      <td>0.0</td>\n",
       "      <td>4</td>\n",
       "      <td>...</td>\n",
       "      <td>298</td>\n",
       "      <td>0</td>\n",
       "      <td>0</td>\n",
       "      <td>0</td>\n",
       "      <td>0</td>\n",
       "      <td>0</td>\n",
       "      <td>5</td>\n",
       "      <td>2007</td>\n",
       "      <td>181500</td>\n",
       "      <td>0</td>\n",
       "    </tr>\n",
       "    <tr>\n",
       "      <th>2</th>\n",
       "      <td>3</td>\n",
       "      <td>60</td>\n",
       "      <td>68.0</td>\n",
       "      <td>11250</td>\n",
       "      <td>7</td>\n",
       "      <td>5</td>\n",
       "      <td>2001</td>\n",
       "      <td>2002</td>\n",
       "      <td>162.0</td>\n",
       "      <td>4</td>\n",
       "      <td>...</td>\n",
       "      <td>0</td>\n",
       "      <td>42</td>\n",
       "      <td>0</td>\n",
       "      <td>0</td>\n",
       "      <td>0</td>\n",
       "      <td>0</td>\n",
       "      <td>9</td>\n",
       "      <td>2008</td>\n",
       "      <td>223500</td>\n",
       "      <td>0</td>\n",
       "    </tr>\n",
       "    <tr>\n",
       "      <th>3</th>\n",
       "      <td>4</td>\n",
       "      <td>70</td>\n",
       "      <td>60.0</td>\n",
       "      <td>9550</td>\n",
       "      <td>7</td>\n",
       "      <td>5</td>\n",
       "      <td>1915</td>\n",
       "      <td>1970</td>\n",
       "      <td>0.0</td>\n",
       "      <td>3</td>\n",
       "      <td>...</td>\n",
       "      <td>0</td>\n",
       "      <td>35</td>\n",
       "      <td>272</td>\n",
       "      <td>0</td>\n",
       "      <td>0</td>\n",
       "      <td>0</td>\n",
       "      <td>2</td>\n",
       "      <td>2006</td>\n",
       "      <td>140000</td>\n",
       "      <td>0</td>\n",
       "    </tr>\n",
       "    <tr>\n",
       "      <th>4</th>\n",
       "      <td>5</td>\n",
       "      <td>60</td>\n",
       "      <td>84.0</td>\n",
       "      <td>14260</td>\n",
       "      <td>8</td>\n",
       "      <td>5</td>\n",
       "      <td>2000</td>\n",
       "      <td>2000</td>\n",
       "      <td>350.0</td>\n",
       "      <td>4</td>\n",
       "      <td>...</td>\n",
       "      <td>192</td>\n",
       "      <td>84</td>\n",
       "      <td>0</td>\n",
       "      <td>0</td>\n",
       "      <td>0</td>\n",
       "      <td>0</td>\n",
       "      <td>12</td>\n",
       "      <td>2008</td>\n",
       "      <td>250000</td>\n",
       "      <td>0</td>\n",
       "    </tr>\n",
       "    <tr>\n",
       "      <th>...</th>\n",
       "      <td>...</td>\n",
       "      <td>...</td>\n",
       "      <td>...</td>\n",
       "      <td>...</td>\n",
       "      <td>...</td>\n",
       "      <td>...</td>\n",
       "      <td>...</td>\n",
       "      <td>...</td>\n",
       "      <td>...</td>\n",
       "      <td>...</td>\n",
       "      <td>...</td>\n",
       "      <td>...</td>\n",
       "      <td>...</td>\n",
       "      <td>...</td>\n",
       "      <td>...</td>\n",
       "      <td>...</td>\n",
       "      <td>...</td>\n",
       "      <td>...</td>\n",
       "      <td>...</td>\n",
       "      <td>...</td>\n",
       "      <td>...</td>\n",
       "    </tr>\n",
       "    <tr>\n",
       "      <th>1455</th>\n",
       "      <td>1456</td>\n",
       "      <td>60</td>\n",
       "      <td>62.0</td>\n",
       "      <td>7917</td>\n",
       "      <td>6</td>\n",
       "      <td>5</td>\n",
       "      <td>1999</td>\n",
       "      <td>2000</td>\n",
       "      <td>0.0</td>\n",
       "      <td>4</td>\n",
       "      <td>...</td>\n",
       "      <td>0</td>\n",
       "      <td>40</td>\n",
       "      <td>0</td>\n",
       "      <td>0</td>\n",
       "      <td>0</td>\n",
       "      <td>0</td>\n",
       "      <td>8</td>\n",
       "      <td>2007</td>\n",
       "      <td>175000</td>\n",
       "      <td>0</td>\n",
       "    </tr>\n",
       "    <tr>\n",
       "      <th>1456</th>\n",
       "      <td>1457</td>\n",
       "      <td>20</td>\n",
       "      <td>85.0</td>\n",
       "      <td>13175</td>\n",
       "      <td>6</td>\n",
       "      <td>6</td>\n",
       "      <td>1978</td>\n",
       "      <td>1988</td>\n",
       "      <td>119.0</td>\n",
       "      <td>4</td>\n",
       "      <td>...</td>\n",
       "      <td>349</td>\n",
       "      <td>0</td>\n",
       "      <td>0</td>\n",
       "      <td>0</td>\n",
       "      <td>0</td>\n",
       "      <td>0</td>\n",
       "      <td>2</td>\n",
       "      <td>2010</td>\n",
       "      <td>210000</td>\n",
       "      <td>0</td>\n",
       "    </tr>\n",
       "    <tr>\n",
       "      <th>1457</th>\n",
       "      <td>1458</td>\n",
       "      <td>70</td>\n",
       "      <td>66.0</td>\n",
       "      <td>9042</td>\n",
       "      <td>7</td>\n",
       "      <td>9</td>\n",
       "      <td>1941</td>\n",
       "      <td>2006</td>\n",
       "      <td>0.0</td>\n",
       "      <td>3</td>\n",
       "      <td>...</td>\n",
       "      <td>0</td>\n",
       "      <td>60</td>\n",
       "      <td>0</td>\n",
       "      <td>0</td>\n",
       "      <td>0</td>\n",
       "      <td>2500</td>\n",
       "      <td>5</td>\n",
       "      <td>2010</td>\n",
       "      <td>266500</td>\n",
       "      <td>0</td>\n",
       "    </tr>\n",
       "    <tr>\n",
       "      <th>1458</th>\n",
       "      <td>1459</td>\n",
       "      <td>20</td>\n",
       "      <td>68.0</td>\n",
       "      <td>9717</td>\n",
       "      <td>5</td>\n",
       "      <td>6</td>\n",
       "      <td>1950</td>\n",
       "      <td>1996</td>\n",
       "      <td>0.0</td>\n",
       "      <td>3</td>\n",
       "      <td>...</td>\n",
       "      <td>366</td>\n",
       "      <td>0</td>\n",
       "      <td>112</td>\n",
       "      <td>0</td>\n",
       "      <td>0</td>\n",
       "      <td>0</td>\n",
       "      <td>4</td>\n",
       "      <td>2010</td>\n",
       "      <td>142125</td>\n",
       "      <td>0</td>\n",
       "    </tr>\n",
       "    <tr>\n",
       "      <th>1459</th>\n",
       "      <td>1460</td>\n",
       "      <td>20</td>\n",
       "      <td>75.0</td>\n",
       "      <td>9937</td>\n",
       "      <td>5</td>\n",
       "      <td>6</td>\n",
       "      <td>1965</td>\n",
       "      <td>1965</td>\n",
       "      <td>0.0</td>\n",
       "      <td>3</td>\n",
       "      <td>...</td>\n",
       "      <td>736</td>\n",
       "      <td>68</td>\n",
       "      <td>0</td>\n",
       "      <td>0</td>\n",
       "      <td>0</td>\n",
       "      <td>0</td>\n",
       "      <td>6</td>\n",
       "      <td>2008</td>\n",
       "      <td>147500</td>\n",
       "      <td>0</td>\n",
       "    </tr>\n",
       "  </tbody>\n",
       "</table>\n",
       "<p>1451 rows × 45 columns</p>\n",
       "</div>"
      ],
      "text/plain": [
       "        Id  MSSubClass  LotFrontage  LotArea  OverallQual  OverallCond  \\\n",
       "0        1          60         65.0     8450            7            5   \n",
       "1        2          20         80.0     9600            6            8   \n",
       "2        3          60         68.0    11250            7            5   \n",
       "3        4          70         60.0     9550            7            5   \n",
       "4        5          60         84.0    14260            8            5   \n",
       "...    ...         ...          ...      ...          ...          ...   \n",
       "1455  1456          60         62.0     7917            6            5   \n",
       "1456  1457          20         85.0    13175            6            6   \n",
       "1457  1458          70         66.0     9042            7            9   \n",
       "1458  1459          20         68.0     9717            5            6   \n",
       "1459  1460          20         75.0     9937            5            6   \n",
       "\n",
       "      YearBuilt  YearRemodAdd  MasVnrArea  BsmtQual  ...  WoodDeckSF  \\\n",
       "0          2003          2003       196.0         4  ...           0   \n",
       "1          1976          1976         0.0         4  ...         298   \n",
       "2          2001          2002       162.0         4  ...           0   \n",
       "3          1915          1970         0.0         3  ...           0   \n",
       "4          2000          2000       350.0         4  ...         192   \n",
       "...         ...           ...         ...       ...  ...         ...   \n",
       "1455       1999          2000         0.0         4  ...           0   \n",
       "1456       1978          1988       119.0         4  ...         349   \n",
       "1457       1941          2006         0.0         3  ...           0   \n",
       "1458       1950          1996         0.0         3  ...         366   \n",
       "1459       1965          1965         0.0         3  ...         736   \n",
       "\n",
       "      OpenPorchSF  EnclosedPorch  3SsnPorch  ScreenPorch  MiscVal  MoSold  \\\n",
       "0              61              0          0            0        0       2   \n",
       "1               0              0          0            0        0       5   \n",
       "2              42              0          0            0        0       9   \n",
       "3              35            272          0            0        0       2   \n",
       "4              84              0          0            0        0      12   \n",
       "...           ...            ...        ...          ...      ...     ...   \n",
       "1455           40              0          0            0        0       8   \n",
       "1456            0              0          0            0        0       2   \n",
       "1457           60              0          0            0     2500       5   \n",
       "1458            0            112          0            0        0       4   \n",
       "1459           68              0          0            0        0       6   \n",
       "\n",
       "      YrSold  SalePrice  Pool  \n",
       "0       2008     208500     0  \n",
       "1       2007     181500     0  \n",
       "2       2008     223500     0  \n",
       "3       2006     140000     0  \n",
       "4       2008     250000     0  \n",
       "...      ...        ...   ...  \n",
       "1455    2007     175000     0  \n",
       "1456    2010     210000     0  \n",
       "1457    2010     266500     0  \n",
       "1458    2010     142125     0  \n",
       "1459    2008     147500     0  \n",
       "\n",
       "[1451 rows x 45 columns]"
      ]
     },
     "execution_count": 762,
     "metadata": {},
     "output_type": "execute_result"
    }
   ],
   "source": [
    "Casas_num=Casas._get_numeric_data()\n",
    "Casas_num\n",
    "#Observamos que hay 45 columnas numericas de 79 es decir que hay 34 columnas de valores no numéricos, \n",
    "#veremos cuales podemos poner como ordnales"
   ]
  },
  {
   "cell_type": "code",
   "execution_count": 763,
   "id": "b8049187",
   "metadata": {},
   "outputs": [
    {
     "data": {
      "text/plain": [
       "['Heating',\n",
       " 'ExterCond',\n",
       " 'Exterior1st',\n",
       " 'LotConfig',\n",
       " 'SaleType',\n",
       " 'KitchenQual',\n",
       " 'Electrical',\n",
       " 'LandContour',\n",
       " 'BsmtFinType1',\n",
       " 'SaleCondition',\n",
       " 'RoofMatl',\n",
       " 'Functional',\n",
       " 'LotShape',\n",
       " 'CentralAir',\n",
       " 'Condition1',\n",
       " 'Street',\n",
       " 'BsmtFinType2',\n",
       " 'MasVnrType',\n",
       " 'MSZoning',\n",
       " 'HeatingQC',\n",
       " 'Condition2',\n",
       " 'GarageType',\n",
       " 'Fence',\n",
       " 'ExterQual',\n",
       " 'RoofStyle',\n",
       " 'Neighborhood',\n",
       " 'PavedDrive',\n",
       " 'BldgType',\n",
       " 'Utilities',\n",
       " 'Foundation',\n",
       " 'Alley',\n",
       " 'Exterior2nd',\n",
       " 'HouseStyle',\n",
       " 'LandSlope']"
      ]
     },
     "execution_count": 763,
     "metadata": {},
     "output_type": "execute_result"
    }
   ],
   "source": [
    "col_tol=list(Casas.columns)\n",
    "col_tol=set(col_tol)\n",
    "col_num=list(Casas_num.columns)\n",
    "col_num=set(col_num)\n",
    "col_no_num=list(col_tol-col_num)\n",
    "col_no_num"
   ]
  },
  {
   "cell_type": "code",
   "execution_count": 764,
   "id": "df7be25f",
   "metadata": {},
   "outputs": [],
   "source": [
    "pval=[]\n",
    "for i in col_no_num:\n",
    "    model = ols(f'SalePrice ~ C({i})', data=Casas).fit()\n",
    "    anova_table = sm.stats.anova_lm(model, typ=2)\n",
    "    pval.append((i,anova_table[\"PR(>F)\"][0]))\n"
   ]
  },
  {
   "cell_type": "code",
   "execution_count": 765,
   "id": "ed723135",
   "metadata": {},
   "outputs": [
    {
     "data": {
      "text/plain": [
       "[('Utilities', 0.5866752889962392),\n",
       " ('LandSlope', 0.13127011944509862),\n",
       " ('Street', 0.11859948981409002),\n",
       " ('Condition2', 0.04321456724041051),\n",
       " ('Heating', 0.0007803659466487865),\n",
       " ('Functional', 0.0004700459415538208),\n",
       " ('LotConfig', 2.290629428018329e-06),\n",
       " ('ExterCond', 5.896037266145833e-07),\n",
       " ('Alley', 3.181711527904088e-07),\n",
       " ('Condition1', 1.0254754788825274e-07),\n",
       " ('RoofMatl', 6.2644707707918e-08),\n",
       " ('BsmtFinType2', 6.155118310899127e-08),\n",
       " ('LandContour', 2.4428259821611356e-08),\n",
       " ('BldgType', 2.5621049717974e-10),\n",
       " ('Fence', 1.3142431210924415e-10),\n",
       " ('RoofStyle', 1.5751265482985026e-17),\n",
       " ('PavedDrive', 2.2756954218098116e-18),\n",
       " ('Electrical', 2.0828683148989303e-18),\n",
       " ('CentralAir', 2.201597653808998e-22),\n",
       " ('HouseStyle', 2.9096706393409073e-25),\n",
       " ('LotShape', 1.583525201820787e-25),\n",
       " ('MSZoning', 1.1766305337800056e-34),\n",
       " ('SaleType', 4.225136766160507e-41),\n",
       " ('Exterior2nd', 1.1334611089486893e-42),\n",
       " ('SaleCondition', 6.8673124919720235e-43),\n",
       " ('Exterior1st', 5.648843694685817e-43),\n",
       " ('MasVnrType', 5.323632235285077e-65),\n",
       " ('HeatingQC', 7.745379059382347e-67),\n",
       " ('BsmtFinType1', 1.4102078125543592e-70),\n",
       " ('GarageType', 4.6595786481415235e-87),\n",
       " ('Foundation', 1.8375432580174335e-90),\n",
       " ('KitchenQual', 8.904545736174477e-190),\n",
       " ('ExterQual', 1.7027755846844188e-201),\n",
       " ('Neighborhood', 1.423458766465539e-223)]"
      ]
     },
     "execution_count": 765,
     "metadata": {},
     "output_type": "execute_result"
    }
   ],
   "source": [
    "sorted(pval, key=lambda x:x[1], reverse=True)\n",
    "#Con esto podemos darnos cuenta de que cuales columnas omitir en el analisis, si el p value es mayor que 0.05 entonces no hay \n",
    "#diferencia significativa de los precios, segun los diferentes valores de la columna. Entonces podemos omitir Utilities\n",
    "#LandSlope y Street"
   ]
  },
  {
   "cell_type": "code",
   "execution_count": null,
   "id": "301eaf1d",
   "metadata": {},
   "outputs": [],
   "source": [
    "Casas.drop(columns=[\"Utilities\",'LandSlope','Street',\"Id\"],axis=1, inplace=True)"
   ]
  },
  {
   "cell_type": "markdown",
   "id": "8906af81",
   "metadata": {},
   "source": [
    "## Simplificación de columnas "
   ]
  },
  {
   "cell_type": "markdown",
   "id": "ab98def3",
   "metadata": {},
   "source": [
    "Vamos a ver si podemos simplificar algunas columnas en una sola "
   ]
  },
  {
   "cell_type": "code",
   "execution_count": 767,
   "id": "69879907",
   "metadata": {},
   "outputs": [],
   "source": [
    "SalePrice=Casas.SalePrice"
   ]
  },
  {
   "cell_type": "code",
   "execution_count": 768,
   "id": "31f41069",
   "metadata": {},
   "outputs": [],
   "source": [
    "Casas.drop(columns=[\"SalePrice\"], axis=1, inplace=True)"
   ]
  },
  {
   "cell_type": "code",
   "execution_count": 769,
   "id": "4838057b",
   "metadata": {},
   "outputs": [],
   "source": [
    "Casas.insert(0, 'SalePrice', SalePrice)"
   ]
  },
  {
   "cell_type": "code",
   "execution_count": 770,
   "id": "99a73141",
   "metadata": {},
   "outputs": [
    {
     "data": {
      "text/plain": [
       "SalePrice        1.000000\n",
       "OverallQual      0.790085\n",
       "GrLivArea        0.710073\n",
       "GarageCars       0.639749\n",
       "GarageArea       0.622484\n",
       "TotalBsmtSF      0.613299\n",
       "1stFlrSF         0.606969\n",
       "BsmtQual         0.584317\n",
       "FullBath         0.562710\n",
       "GarageFinish     0.549512\n",
       "TotRmsAbvGrd     0.536366\n",
       "YearBuilt        0.523274\n",
       "FireplaceQu      0.520946\n",
       "GarageYrBlt      0.508230\n",
       "YearRemodAdd     0.507488\n",
       "MasVnrArea       0.477486\n",
       "Fireplaces       0.468973\n",
       "BsmtFinSF1       0.383995\n",
       "BsmtExposure     0.372754\n",
       "WoodDeckSF       0.324658\n",
       "2ndFlrSF         0.322840\n",
       "OpenPorchSF      0.311244\n",
       "HalfBath         0.282331\n",
       "GarageQual       0.274211\n",
       "LotArea          0.264668\n",
       "GarageCond       0.263500\n",
       "BsmtFullBath     0.224988\n",
       "BsmtUnfSF        0.215707\n",
       "BsmtCond         0.208984\n",
       "LotFrontage      0.208453\n",
       "BedroomAbvGr     0.171956\n",
       "ScreenPorch      0.113017\n",
       "Pool             0.094415\n",
       "3SsnPorch        0.045235\n",
       "MoSold           0.045085\n",
       "BsmtFinSF2      -0.010350\n",
       "BsmtHalfBath    -0.016021\n",
       "MiscVal         -0.020961\n",
       "LowQualFinSF    -0.025277\n",
       "YrSold          -0.026165\n",
       "OverallCond     -0.076361\n",
       "MSSubClass      -0.082760\n",
       "EnclosedPorch   -0.128826\n",
       "KitchenAbvGr    -0.137447\n",
       "Name: SalePrice, dtype: float64"
      ]
     },
     "execution_count": 770,
     "metadata": {},
     "output_type": "execute_result"
    }
   ],
   "source": [
    "corr=Casas._get_numeric_data().corr()\n",
    "corr[\"SalePrice\"].sort_values(ascending=False)"
   ]
  },
  {
   "cell_type": "markdown",
   "id": "ea6dcedc",
   "metadata": {},
   "source": [
    "Nos damos cuenta de que hay variables que pueden simplificarse en una sola como el número de baños y medios baños, en los pisos de arriba y en el sotano si checamos sus correlaciones con el precio de la casa, la correlación mas alta es el baño completo, por lo que podemos juntar estas columnas en una sola que sea el número de baños en total "
   ]
  },
  {
   "cell_type": "code",
   "execution_count": 771,
   "id": "b21a005e",
   "metadata": {},
   "outputs": [
    {
     "name": "stderr",
     "output_type": "stream",
     "text": [
      "<ipython-input-771-94522eda7c3a>:1: SettingWithCopyWarning: \n",
      "A value is trying to be set on a copy of a slice from a DataFrame.\n",
      "Try using .loc[row_indexer,col_indexer] = value instead\n",
      "\n",
      "See the caveats in the documentation: https://pandas.pydata.org/pandas-docs/stable/user_guide/indexing.html#returning-a-view-versus-a-copy\n",
      "  Casas[\"TotalBath\"]=(Casas[\"HalfBath\"]*(0.5)+Casas[\"FullBath\"])+(Casas[\"BsmtHalfBath\"]*0.5+Casas[\"BsmtFullBath\"])\n"
     ]
    }
   ],
   "source": [
    "Casas[\"TotalBath\"]=(Casas[\"HalfBath\"]*(0.5)+Casas[\"FullBath\"])+(Casas[\"BsmtHalfBath\"]*0.5+Casas[\"BsmtFullBath\"])"
   ]
  },
  {
   "cell_type": "code",
   "execution_count": 772,
   "id": "bc2d4b3b",
   "metadata": {},
   "outputs": [
    {
     "data": {
      "text/plain": [
       "0.632059536288091"
      ]
     },
     "execution_count": 772,
     "metadata": {},
     "output_type": "execute_result"
    }
   ],
   "source": [
    "corr=Casas._get_numeric_data().corr()\n",
    "corr[\"SalePrice\"][\"TotalBath\"]\n",
    "#Podemos observar que hay una mayor correlación con esta columna que con las columnas de baños por separado "
   ]
  },
  {
   "cell_type": "code",
   "execution_count": 773,
   "id": "f3ac4403",
   "metadata": {},
   "outputs": [],
   "source": [
    "Casas.drop(columns=[\"BsmtFullBath\",\"BsmtHalfBath\",\"FullBath\",\"HalfBath\"], axis=1, inplace=True)"
   ]
  },
  {
   "cell_type": "code",
   "execution_count": 774,
   "id": "bac04d49",
   "metadata": {},
   "outputs": [],
   "source": [
    "#Observamos que las columnas GarageCars y  representan lo mismo, sinembargo Garage cars\n",
    "#tiene una mayor correlación con el precio, por lo que dejaremos solamente esta columna\n",
    "Casas.drop(columns=[\"GarageArea\"], axis=1, inplace=True)"
   ]
  },
  {
   "cell_type": "markdown",
   "id": "e4f0833a",
   "metadata": {},
   "source": [
    "## Convertimos las columnas ordinales que faltan en numéricas "
   ]
  },
  {
   "cell_type": "code",
   "execution_count": 775,
   "id": "289375c5",
   "metadata": {},
   "outputs": [
    {
     "data": {
      "text/plain": [
       "Typ     1352\n",
       "Min2      34\n",
       "Min1      31\n",
       "Mod       15\n",
       "Maj1      13\n",
       "Maj2       5\n",
       "Sev        1\n",
       "Name: Functional, dtype: int64"
      ]
     },
     "execution_count": 775,
     "metadata": {},
     "output_type": "execute_result"
    }
   ],
   "source": [
    "Casas.Functional.value_counts()"
   ]
  },
  {
   "cell_type": "code",
   "execution_count": 776,
   "id": "72c2ac0b",
   "metadata": {},
   "outputs": [
    {
     "name": "stderr",
     "output_type": "stream",
     "text": [
      "<ipython-input-776-bab4f680dde2>:8: SettingWithCopyWarning: \n",
      "A value is trying to be set on a copy of a slice from a DataFrame.\n",
      "Try using .loc[row_indexer,col_indexer] = value instead\n",
      "\n",
      "See the caveats in the documentation: https://pandas.pydata.org/pandas-docs/stable/user_guide/indexing.html#returning-a-view-versus-a-copy\n",
      "  Casas[\"Functional\"]=np.where(B7==\"Sal\",1,B7)\n"
     ]
    }
   ],
   "source": [
    "B1=np.where(Casas.Functional==\"Typ\",8,Casas.Functional)\n",
    "B2=np.where(B1==\"Min1\",7,B1)\n",
    "B3=np.where(B2==\"Min2\",6,B2)\n",
    "B4=np.where(B3==\"Mod\",5,B3)\n",
    "B5=np.where(B4==\"Maj1\",4,B4)\n",
    "B6=np.where(B5==\"Maj2\",3,B5)\n",
    "B7=np.where(B6==\"Sev\",2,B6)\n",
    "Casas[\"Functional\"]=np.where(B7==\"Sal\",1,B7)"
   ]
  },
  {
   "cell_type": "code",
   "execution_count": 777,
   "id": "94daf4fc",
   "metadata": {},
   "outputs": [
    {
     "name": "stderr",
     "output_type": "stream",
     "text": [
      "C:\\Users\\Tania\\anaconda3\\lib\\site-packages\\pandas\\core\\generic.py:5494: SettingWithCopyWarning: \n",
      "A value is trying to be set on a copy of a slice from a DataFrame.\n",
      "Try using .loc[row_indexer,col_indexer] = value instead\n",
      "\n",
      "See the caveats in the documentation: https://pandas.pydata.org/pandas-docs/stable/user_guide/indexing.html#returning-a-view-versus-a-copy\n",
      "  self[name] = value\n"
     ]
    }
   ],
   "source": [
    "Casas.Functional=Casas.Functional.astype(int)"
   ]
  },
  {
   "cell_type": "code",
   "execution_count": 778,
   "id": "3b70df3a",
   "metadata": {},
   "outputs": [
    {
     "data": {
      "text/plain": [
       "TA    1273\n",
       "Gd     146\n",
       "Fa      28\n",
       "Ex       3\n",
       "Po       1\n",
       "Name: ExterCond, dtype: int64"
      ]
     },
     "execution_count": 778,
     "metadata": {},
     "output_type": "execute_result"
    }
   ],
   "source": [
    "Casas.ExterCond.value_counts()"
   ]
  },
  {
   "cell_type": "code",
   "execution_count": 779,
   "id": "573011f5",
   "metadata": {},
   "outputs": [
    {
     "name": "stderr",
     "output_type": "stream",
     "text": [
      "<ipython-input-779-b4ba24d6aa6f>:5: SettingWithCopyWarning: \n",
      "A value is trying to be set on a copy of a slice from a DataFrame.\n",
      "Try using .loc[row_indexer,col_indexer] = value instead\n",
      "\n",
      "See the caveats in the documentation: https://pandas.pydata.org/pandas-docs/stable/user_guide/indexing.html#returning-a-view-versus-a-copy\n",
      "  Casas[\"ExterCond\"]=np.where(B4==\"Po\",1,B4)\n"
     ]
    }
   ],
   "source": [
    "B1=np.where(Casas.ExterCond==\"Ex\",5,Casas.ExterCond)\n",
    "B2=np.where(B1==\"Gd\",4,B1)\n",
    "B3=np.where(B2==\"TA\",3,B2)\n",
    "B4=np.where(B3==\"Fa\",2,B3)\n",
    "Casas[\"ExterCond\"]=np.where(B4==\"Po\",1,B4)"
   ]
  },
  {
   "cell_type": "code",
   "execution_count": 780,
   "id": "99b77798",
   "metadata": {},
   "outputs": [],
   "source": [
    "Casas.ExterCond=Casas.ExterCond.astype(int)"
   ]
  },
  {
   "cell_type": "code",
   "execution_count": 781,
   "id": "3d14d5b5",
   "metadata": {},
   "outputs": [
    {
     "data": {
      "text/plain": [
       "Lvl    1302\n",
       "Bnk      63\n",
       "HLS      50\n",
       "Low      36\n",
       "Name: LandContour, dtype: int64"
      ]
     },
     "execution_count": 781,
     "metadata": {},
     "output_type": "execute_result"
    }
   ],
   "source": [
    "Casas.LandContour.value_counts()"
   ]
  },
  {
   "cell_type": "code",
   "execution_count": 782,
   "id": "f7261bc6",
   "metadata": {},
   "outputs": [
    {
     "name": "stderr",
     "output_type": "stream",
     "text": [
      "<ipython-input-782-8b9b1a3d1053>:4: SettingWithCopyWarning: \n",
      "A value is trying to be set on a copy of a slice from a DataFrame.\n",
      "Try using .loc[row_indexer,col_indexer] = value instead\n",
      "\n",
      "See the caveats in the documentation: https://pandas.pydata.org/pandas-docs/stable/user_guide/indexing.html#returning-a-view-versus-a-copy\n",
      "  Casas[\"LandContour\"]=np.where(B3==\"Low\",4,B3)\n"
     ]
    }
   ],
   "source": [
    "B1=np.where(Casas.LandContour==\"Lvl\",1,Casas.LandContour)\n",
    "B2=np.where(B1==\"Bnk\",2,B1)\n",
    "B3=np.where(B2==\"HLS\",3,B2)\n",
    "Casas[\"LandContour\"]=np.where(B3==\"Low\",4,B3)"
   ]
  },
  {
   "cell_type": "code",
   "execution_count": 783,
   "id": "f6a1cb70",
   "metadata": {},
   "outputs": [],
   "source": [
    "Casas.LandContour=Casas.LandContour.astype(int)"
   ]
  },
  {
   "cell_type": "code",
   "execution_count": 784,
   "id": "77823122",
   "metadata": {},
   "outputs": [
    {
     "data": {
      "text/plain": [
       "Y    1331\n",
       "N      90\n",
       "P      30\n",
       "Name: PavedDrive, dtype: int64"
      ]
     },
     "execution_count": 784,
     "metadata": {},
     "output_type": "execute_result"
    }
   ],
   "source": [
    "Casas.PavedDrive.value_counts()"
   ]
  },
  {
   "cell_type": "code",
   "execution_count": 785,
   "id": "691dda30",
   "metadata": {},
   "outputs": [
    {
     "name": "stderr",
     "output_type": "stream",
     "text": [
      "<ipython-input-785-1d8881beae63>:3: SettingWithCopyWarning: \n",
      "A value is trying to be set on a copy of a slice from a DataFrame.\n",
      "Try using .loc[row_indexer,col_indexer] = value instead\n",
      "\n",
      "See the caveats in the documentation: https://pandas.pydata.org/pandas-docs/stable/user_guide/indexing.html#returning-a-view-versus-a-copy\n",
      "  Casas[\"PavedDrive\"]=np.where(B2==\"P\",0.5,B2)\n"
     ]
    }
   ],
   "source": [
    "B1=np.where(Casas.PavedDrive==\"N\",0,Casas.PavedDrive)\n",
    "B2=np.where(B1==\"Y\",1,B1)\n",
    "Casas[\"PavedDrive\"]=np.where(B2==\"P\",0.5,B2)"
   ]
  },
  {
   "cell_type": "code",
   "execution_count": 786,
   "id": "6c840655",
   "metadata": {},
   "outputs": [],
   "source": [
    "Casas.PavedDrive=Casas.PavedDrive.astype(int)"
   ]
  },
  {
   "cell_type": "code",
   "execution_count": 787,
   "id": "7f2b92fe",
   "metadata": {},
   "outputs": [
    {
     "data": {
      "text/plain": [
       "Y    1356\n",
       "N      95\n",
       "Name: CentralAir, dtype: int64"
      ]
     },
     "execution_count": 787,
     "metadata": {},
     "output_type": "execute_result"
    }
   ],
   "source": [
    "Casas.CentralAir.value_counts()"
   ]
  },
  {
   "cell_type": "code",
   "execution_count": 788,
   "id": "8c617178",
   "metadata": {},
   "outputs": [
    {
     "name": "stderr",
     "output_type": "stream",
     "text": [
      "<ipython-input-788-27530349a2a2>:2: SettingWithCopyWarning: \n",
      "A value is trying to be set on a copy of a slice from a DataFrame.\n",
      "Try using .loc[row_indexer,col_indexer] = value instead\n",
      "\n",
      "See the caveats in the documentation: https://pandas.pydata.org/pandas-docs/stable/user_guide/indexing.html#returning-a-view-versus-a-copy\n",
      "  Casas[\"CentralAir\"]=np.where(B1==\"Y\",1,B1)\n"
     ]
    }
   ],
   "source": [
    "B1=np.where(Casas.CentralAir==\"N\",0,Casas.CentralAir)\n",
    "Casas[\"CentralAir\"]=np.where(B1==\"Y\",1,B1)"
   ]
  },
  {
   "cell_type": "code",
   "execution_count": 789,
   "id": "96d5dbb4",
   "metadata": {},
   "outputs": [],
   "source": [
    "Casas.CentralAir=Casas.CentralAir.astype(int)"
   ]
  },
  {
   "cell_type": "code",
   "execution_count": 790,
   "id": "440b15eb",
   "metadata": {},
   "outputs": [
    {
     "data": {
      "text/plain": [
       "Reg    918\n",
       "IR1    482\n",
       "IR2     41\n",
       "IR3     10\n",
       "Name: LotShape, dtype: int64"
      ]
     },
     "execution_count": 790,
     "metadata": {},
     "output_type": "execute_result"
    }
   ],
   "source": [
    "Casas.LotShape.value_counts()"
   ]
  },
  {
   "cell_type": "code",
   "execution_count": 791,
   "id": "45d60e8f",
   "metadata": {},
   "outputs": [
    {
     "name": "stderr",
     "output_type": "stream",
     "text": [
      "<ipython-input-791-b60941d2d9b1>:4: SettingWithCopyWarning: \n",
      "A value is trying to be set on a copy of a slice from a DataFrame.\n",
      "Try using .loc[row_indexer,col_indexer] = value instead\n",
      "\n",
      "See the caveats in the documentation: https://pandas.pydata.org/pandas-docs/stable/user_guide/indexing.html#returning-a-view-versus-a-copy\n",
      "  Casas[\"LotShape\"]=np.where(B3==\"IR3\",1,B3)\n"
     ]
    }
   ],
   "source": [
    "B1=np.where(Casas.LotShape==\"Reg\",4,Casas.LotShape)\n",
    "B2=np.where(B1==\"IR1\",3,B1)\n",
    "B3=np.where(B2==\"IR2\",2,B2)\n",
    "Casas[\"LotShape\"]=np.where(B3==\"IR3\",1,B3)"
   ]
  },
  {
   "cell_type": "code",
   "execution_count": 792,
   "id": "14ace4e0",
   "metadata": {},
   "outputs": [],
   "source": [
    "Casas.LotShape=Casas.LotShape.astype(int)"
   ]
  },
  {
   "cell_type": "code",
   "execution_count": 793,
   "id": "bca436f7",
   "metadata": {},
   "outputs": [
    {
     "data": {
      "text/plain": [
       "Ex    734\n",
       "TA    427\n",
       "Gd    240\n",
       "Fa     49\n",
       "Po      1\n",
       "Name: HeatingQC, dtype: int64"
      ]
     },
     "execution_count": 793,
     "metadata": {},
     "output_type": "execute_result"
    }
   ],
   "source": [
    "Casas.HeatingQC.value_counts()"
   ]
  },
  {
   "cell_type": "code",
   "execution_count": 794,
   "id": "e8c6edba",
   "metadata": {},
   "outputs": [
    {
     "name": "stderr",
     "output_type": "stream",
     "text": [
      "<ipython-input-794-c6cc8561bd2e>:5: SettingWithCopyWarning: \n",
      "A value is trying to be set on a copy of a slice from a DataFrame.\n",
      "Try using .loc[row_indexer,col_indexer] = value instead\n",
      "\n",
      "See the caveats in the documentation: https://pandas.pydata.org/pandas-docs/stable/user_guide/indexing.html#returning-a-view-versus-a-copy\n",
      "  Casas[\"HeatingQC\"]=np.where(B4==\"Po\",1,B4)\n"
     ]
    }
   ],
   "source": [
    "B1=np.where(Casas.HeatingQC==\"Ex\",5,Casas.HeatingQC)\n",
    "B2=np.where(B1==\"Gd\",4,B1)\n",
    "B3=np.where(B2==\"TA\",3,B2)\n",
    "B4=np.where(B3==\"Fa\",2,B3)\n",
    "Casas[\"HeatingQC\"]=np.where(B4==\"Po\",1,B4)"
   ]
  },
  {
   "cell_type": "code",
   "execution_count": 795,
   "id": "7bb0fff1",
   "metadata": {},
   "outputs": [],
   "source": [
    "Casas.HeatingQC=Casas.HeatingQC.astype(int)"
   ]
  },
  {
   "cell_type": "code",
   "execution_count": 796,
   "id": "897888e9",
   "metadata": {},
   "outputs": [
    {
     "data": {
      "text/plain": [
       "TA    734\n",
       "Gd    579\n",
       "Ex     99\n",
       "Fa     39\n",
       "Name: KitchenQual, dtype: int64"
      ]
     },
     "execution_count": 796,
     "metadata": {},
     "output_type": "execute_result"
    }
   ],
   "source": [
    "Casas.KitchenQual.value_counts()"
   ]
  },
  {
   "cell_type": "code",
   "execution_count": 797,
   "id": "22da8737",
   "metadata": {},
   "outputs": [
    {
     "name": "stderr",
     "output_type": "stream",
     "text": [
      "<ipython-input-797-535ca85e8e79>:5: SettingWithCopyWarning: \n",
      "A value is trying to be set on a copy of a slice from a DataFrame.\n",
      "Try using .loc[row_indexer,col_indexer] = value instead\n",
      "\n",
      "See the caveats in the documentation: https://pandas.pydata.org/pandas-docs/stable/user_guide/indexing.html#returning-a-view-versus-a-copy\n",
      "  Casas[\"KitchenQual\"]=np.where(B4==\"Po\",1,B4)\n"
     ]
    }
   ],
   "source": [
    "B1=np.where(Casas.KitchenQual==\"Ex\",5,Casas.KitchenQual)\n",
    "B2=np.where(B1==\"Gd\",4,B1)\n",
    "B3=np.where(B2==\"TA\",3,B2)\n",
    "B4=np.where(B3==\"Fa\",2,B3)\n",
    "Casas[\"KitchenQual\"]=np.where(B4==\"Po\",1,B4)"
   ]
  },
  {
   "cell_type": "code",
   "execution_count": 798,
   "id": "aad23bad",
   "metadata": {},
   "outputs": [],
   "source": [
    "Casas.KitchenQual=Casas.KitchenQual.astype(int)"
   ]
  },
  {
   "cell_type": "code",
   "execution_count": 799,
   "id": "ec56f5e6",
   "metadata": {},
   "outputs": [
    {
     "data": {
      "text/plain": [
       "TA    905\n",
       "Gd    481\n",
       "Ex     51\n",
       "Fa     14\n",
       "Name: ExterQual, dtype: int64"
      ]
     },
     "execution_count": 799,
     "metadata": {},
     "output_type": "execute_result"
    }
   ],
   "source": [
    "Casas.ExterQual.value_counts()"
   ]
  },
  {
   "cell_type": "code",
   "execution_count": 800,
   "id": "4bf5892a",
   "metadata": {},
   "outputs": [
    {
     "name": "stderr",
     "output_type": "stream",
     "text": [
      "<ipython-input-800-019658e9932f>:5: SettingWithCopyWarning: \n",
      "A value is trying to be set on a copy of a slice from a DataFrame.\n",
      "Try using .loc[row_indexer,col_indexer] = value instead\n",
      "\n",
      "See the caveats in the documentation: https://pandas.pydata.org/pandas-docs/stable/user_guide/indexing.html#returning-a-view-versus-a-copy\n",
      "  Casas[\"ExterQual\"]=np.where(B4==\"Po\",1,B4)\n"
     ]
    }
   ],
   "source": [
    "B1=np.where(Casas.ExterQual==\"Ex\",5,Casas.ExterQual)\n",
    "B2=np.where(B1==\"Gd\",4,B1)\n",
    "B3=np.where(B2==\"TA\",3,B2)\n",
    "B4=np.where(B3==\"Fa\",2,B3)\n",
    "Casas[\"ExterQual\"]=np.where(B4==\"Po\",1,B4)"
   ]
  },
  {
   "cell_type": "code",
   "execution_count": 801,
   "id": "b74b9e97",
   "metadata": {},
   "outputs": [],
   "source": [
    "Casas.ExterQual=Casas.ExterQual.astype(int)"
   ]
  },
  {
   "cell_type": "markdown",
   "id": "b95bce15",
   "metadata": {},
   "source": [
    "## Analizamos los coeficientes de correlación de todas las columnas númericas incluidas las ordinales "
   ]
  },
  {
   "cell_type": "code",
   "execution_count": 811,
   "id": "b3ffc7ba",
   "metadata": {},
   "outputs": [
    {
     "data": {
      "text/plain": [
       "SalePrice        1.000000\n",
       "OverallQual      0.790085\n",
       "GrLivArea        0.710073\n",
       "ExterQual        0.681200\n",
       "KitchenQual      0.658647\n",
       "GarageCars       0.639749\n",
       "TotalBath        0.632060\n",
       "TotalBsmtSF      0.613299\n",
       "1stFlrSF         0.606969\n",
       "BsmtQual         0.584317\n",
       "GarageFinish     0.549512\n",
       "TotRmsAbvGrd     0.536366\n",
       "YearBuilt        0.523274\n",
       "FireplaceQu      0.520946\n",
       "GarageYrBlt      0.508230\n",
       "YearRemodAdd     0.507488\n",
       "MasVnrArea       0.477486\n",
       "Fireplaces       0.468973\n",
       "HeatingQC        0.427602\n",
       "BsmtFinSF1       0.383995\n",
       "BsmtExposure     0.372754\n",
       "WoodDeckSF       0.324658\n",
       "2ndFlrSF         0.322840\n",
       "OpenPorchSF      0.311244\n",
       "GarageQual       0.274211\n",
       "LotArea          0.264668\n",
       "GarageCond       0.263500\n",
       "CentralAir       0.251584\n",
       "PavedDrive       0.232009\n",
       "BsmtUnfSF        0.215707\n",
       "BsmtCond         0.208984\n",
       "LotFrontage      0.208453\n",
       "BedroomAbvGr     0.171956\n",
       "ScreenPorch      0.113017\n",
       "Functional       0.109545\n",
       "Pool             0.094415\n",
       "LandContour      0.074561\n",
       "3SsnPorch        0.045235\n",
       "MoSold           0.045085\n",
       "ExterCond        0.019887\n",
       "BsmtFinSF2      -0.010350\n",
       "MiscVal         -0.020961\n",
       "LowQualFinSF    -0.025277\n",
       "YrSold          -0.026165\n",
       "OverallCond     -0.076361\n",
       "MSSubClass      -0.082760\n",
       "EnclosedPorch   -0.128826\n",
       "KitchenAbvGr    -0.137447\n",
       "LotShape        -0.271595\n",
       "Name: SalePrice, dtype: float64"
      ]
     },
     "execution_count": 811,
     "metadata": {},
     "output_type": "execute_result"
    }
   ],
   "source": [
    "numericas=Casas._get_numeric_data()\n",
    "corr=numericas.corr()\n",
    "corr[\"SalePrice\"].sort_values(ascending=False)"
   ]
  },
  {
   "cell_type": "code",
   "execution_count": 813,
   "id": "70fd76ce",
   "metadata": {},
   "outputs": [
    {
     "data": {
      "text/html": [
       "<div>\n",
       "<style scoped>\n",
       "    .dataframe tbody tr th:only-of-type {\n",
       "        vertical-align: middle;\n",
       "    }\n",
       "\n",
       "    .dataframe tbody tr th {\n",
       "        vertical-align: top;\n",
       "    }\n",
       "\n",
       "    .dataframe thead th {\n",
       "        text-align: right;\n",
       "    }\n",
       "</style>\n",
       "<table border=\"1\" class=\"dataframe\">\n",
       "  <thead>\n",
       "    <tr style=\"text-align: right;\">\n",
       "      <th></th>\n",
       "      <th>SalePrice</th>\n",
       "    </tr>\n",
       "  </thead>\n",
       "  <tbody>\n",
       "    <tr>\n",
       "      <th>SalePrice</th>\n",
       "      <td>1.000000</td>\n",
       "    </tr>\n",
       "    <tr>\n",
       "      <th>OverallQual</th>\n",
       "      <td>0.790085</td>\n",
       "    </tr>\n",
       "    <tr>\n",
       "      <th>YearBuilt</th>\n",
       "      <td>0.523274</td>\n",
       "    </tr>\n",
       "    <tr>\n",
       "      <th>YearRemodAdd</th>\n",
       "      <td>0.507488</td>\n",
       "    </tr>\n",
       "    <tr>\n",
       "      <th>ExterQual</th>\n",
       "      <td>0.681200</td>\n",
       "    </tr>\n",
       "    <tr>\n",
       "      <th>BsmtQual</th>\n",
       "      <td>0.584317</td>\n",
       "    </tr>\n",
       "    <tr>\n",
       "      <th>TotalBsmtSF</th>\n",
       "      <td>0.613299</td>\n",
       "    </tr>\n",
       "    <tr>\n",
       "      <th>1stFlrSF</th>\n",
       "      <td>0.606969</td>\n",
       "    </tr>\n",
       "    <tr>\n",
       "      <th>GrLivArea</th>\n",
       "      <td>0.710073</td>\n",
       "    </tr>\n",
       "    <tr>\n",
       "      <th>KitchenQual</th>\n",
       "      <td>0.658647</td>\n",
       "    </tr>\n",
       "    <tr>\n",
       "      <th>TotRmsAbvGrd</th>\n",
       "      <td>0.536366</td>\n",
       "    </tr>\n",
       "    <tr>\n",
       "      <th>FireplaceQu</th>\n",
       "      <td>0.520946</td>\n",
       "    </tr>\n",
       "    <tr>\n",
       "      <th>GarageYrBlt</th>\n",
       "      <td>0.508230</td>\n",
       "    </tr>\n",
       "    <tr>\n",
       "      <th>GarageFinish</th>\n",
       "      <td>0.549512</td>\n",
       "    </tr>\n",
       "    <tr>\n",
       "      <th>GarageCars</th>\n",
       "      <td>0.639749</td>\n",
       "    </tr>\n",
       "    <tr>\n",
       "      <th>TotalBath</th>\n",
       "      <td>0.632060</td>\n",
       "    </tr>\n",
       "  </tbody>\n",
       "</table>\n",
       "</div>"
      ],
      "text/plain": [
       "              SalePrice\n",
       "SalePrice      1.000000\n",
       "OverallQual    0.790085\n",
       "YearBuilt      0.523274\n",
       "YearRemodAdd   0.507488\n",
       "ExterQual      0.681200\n",
       "BsmtQual       0.584317\n",
       "TotalBsmtSF    0.613299\n",
       "1stFlrSF       0.606969\n",
       "GrLivArea      0.710073\n",
       "KitchenQual    0.658647\n",
       "TotRmsAbvGrd   0.536366\n",
       "FireplaceQu    0.520946\n",
       "GarageYrBlt    0.508230\n",
       "GarageFinish   0.549512\n",
       "GarageCars     0.639749\n",
       "TotalBath      0.632060"
      ]
     },
     "execution_count": 813,
     "metadata": {},
     "output_type": "execute_result"
    }
   ],
   "source": [
    "corr=numericas.corr()\n",
    "corr1=corr[[\"SalePrice\"]]\n",
    "corr2=corr1[(corr1.SalePrice>=0.5) | (corr1.SalePrice<=-0.5)]\n",
    "corr2"
   ]
  },
  {
   "cell_type": "markdown",
   "id": "9b6f1f50",
   "metadata": {},
   "source": [
    "## Convertimos las columnas de valores categoricos en dummies y analizamos su correlación"
   ]
  },
  {
   "cell_type": "code",
   "execution_count": 809,
   "id": "f47f5b46",
   "metadata": {},
   "outputs": [],
   "source": [
    "cat=list(set(Casas.columns)-set(Casas._get_numeric_data()))\n",
    "categoricas=Casas[cat]"
   ]
  },
  {
   "cell_type": "code",
   "execution_count": 814,
   "id": "76bbe0bc",
   "metadata": {},
   "outputs": [],
   "source": [
    "categoricas_dum=pd.get_dummies(categoricas)"
   ]
  },
  {
   "cell_type": "code",
   "execution_count": 827,
   "id": "9550ad1d",
   "metadata": {},
   "outputs": [
    {
     "data": {
      "text/plain": [
       "(1451, 224)"
      ]
     },
     "execution_count": 827,
     "metadata": {},
     "output_type": "execute_result"
    }
   ],
   "source": [
    "total=pd.concat([numericas,categoricas_dum], axis=1)\n",
    "total.shape"
   ]
  },
  {
   "cell_type": "code",
   "execution_count": 860,
   "id": "f3747cc7",
   "metadata": {},
   "outputs": [
    {
     "data": {
      "text/html": [
       "<div>\n",
       "<style scoped>\n",
       "    .dataframe tbody tr th:only-of-type {\n",
       "        vertical-align: middle;\n",
       "    }\n",
       "\n",
       "    .dataframe tbody tr th {\n",
       "        vertical-align: top;\n",
       "    }\n",
       "\n",
       "    .dataframe thead th {\n",
       "        text-align: right;\n",
       "    }\n",
       "</style>\n",
       "<table border=\"1\" class=\"dataframe\">\n",
       "  <thead>\n",
       "    <tr style=\"text-align: right;\">\n",
       "      <th></th>\n",
       "      <th>SalePrice</th>\n",
       "    </tr>\n",
       "  </thead>\n",
       "  <tbody>\n",
       "    <tr>\n",
       "      <th>SalePrice</th>\n",
       "      <td>1.000000</td>\n",
       "    </tr>\n",
       "    <tr>\n",
       "      <th>OverallQual</th>\n",
       "      <td>0.790085</td>\n",
       "    </tr>\n",
       "    <tr>\n",
       "      <th>YearBuilt</th>\n",
       "      <td>0.523274</td>\n",
       "    </tr>\n",
       "    <tr>\n",
       "      <th>YearRemodAdd</th>\n",
       "      <td>0.507488</td>\n",
       "    </tr>\n",
       "    <tr>\n",
       "      <th>ExterQual</th>\n",
       "      <td>0.681200</td>\n",
       "    </tr>\n",
       "    <tr>\n",
       "      <th>BsmtQual</th>\n",
       "      <td>0.584317</td>\n",
       "    </tr>\n",
       "    <tr>\n",
       "      <th>TotalBsmtSF</th>\n",
       "      <td>0.613299</td>\n",
       "    </tr>\n",
       "    <tr>\n",
       "      <th>1stFlrSF</th>\n",
       "      <td>0.606969</td>\n",
       "    </tr>\n",
       "    <tr>\n",
       "      <th>GrLivArea</th>\n",
       "      <td>0.710073</td>\n",
       "    </tr>\n",
       "    <tr>\n",
       "      <th>KitchenQual</th>\n",
       "      <td>0.658647</td>\n",
       "    </tr>\n",
       "    <tr>\n",
       "      <th>TotRmsAbvGrd</th>\n",
       "      <td>0.536366</td>\n",
       "    </tr>\n",
       "    <tr>\n",
       "      <th>FireplaceQu</th>\n",
       "      <td>0.520946</td>\n",
       "    </tr>\n",
       "    <tr>\n",
       "      <th>GarageYrBlt</th>\n",
       "      <td>0.508230</td>\n",
       "    </tr>\n",
       "    <tr>\n",
       "      <th>GarageFinish</th>\n",
       "      <td>0.549512</td>\n",
       "    </tr>\n",
       "    <tr>\n",
       "      <th>GarageCars</th>\n",
       "      <td>0.639749</td>\n",
       "    </tr>\n",
       "    <tr>\n",
       "      <th>TotalBath</th>\n",
       "      <td>0.632060</td>\n",
       "    </tr>\n",
       "  </tbody>\n",
       "</table>\n",
       "</div>"
      ],
      "text/plain": [
       "              SalePrice\n",
       "SalePrice      1.000000\n",
       "OverallQual    0.790085\n",
       "YearBuilt      0.523274\n",
       "YearRemodAdd   0.507488\n",
       "ExterQual      0.681200\n",
       "BsmtQual       0.584317\n",
       "TotalBsmtSF    0.613299\n",
       "1stFlrSF       0.606969\n",
       "GrLivArea      0.710073\n",
       "KitchenQual    0.658647\n",
       "TotRmsAbvGrd   0.536366\n",
       "FireplaceQu    0.520946\n",
       "GarageYrBlt    0.508230\n",
       "GarageFinish   0.549512\n",
       "GarageCars     0.639749\n",
       "TotalBath      0.632060"
      ]
     },
     "execution_count": 860,
     "metadata": {},
     "output_type": "execute_result"
    }
   ],
   "source": [
    "corr=total.corr()\n",
    "corr1=corr[[\"SalePrice\"]]\n",
    "corr2=corr1[(corr1.SalePrice>=0.5) | (corr1.SalePrice<=-0.5)]\n",
    "corr2\n",
    "#Vemos que no hubo otra columna dentro de las dummies que tenga una correlación de 0.5 o mas. \n",
    "#Estas son las que usaremos para nuestro modelo"
   ]
  },
  {
   "cell_type": "markdown",
   "id": "9843cee5",
   "metadata": {},
   "source": [
    "## Aplicamos PCA para las columnas con coef. de correlación entre 0 y 0.5 o entre -0.5 y 0"
   ]
  },
  {
   "cell_type": "code",
   "execution_count": 861,
   "id": "802db388",
   "metadata": {},
   "outputs": [
    {
     "data": {
      "text/plain": [
       "208"
      ]
     },
     "execution_count": 861,
     "metadata": {},
     "output_type": "execute_result"
    }
   ],
   "source": [
    "todas=set(corr1.index)\n",
    "especiales=set(corr2.index)\n",
    "features=list(todas-especiales)\n",
    "len(features)"
   ]
  },
  {
   "cell_type": "markdown",
   "id": "87b20957",
   "metadata": {},
   "source": [
    "Aplicaremos PCA para las otras variables "
   ]
  },
  {
   "cell_type": "code",
   "execution_count": 831,
   "id": "536d1398",
   "metadata": {},
   "outputs": [],
   "source": [
    "X = total[features]\n",
    "y = total['SalePrice']\n",
    "scaler = StandardScaler()"
   ]
  },
  {
   "cell_type": "code",
   "execution_count": 832,
   "id": "237e0ae9",
   "metadata": {},
   "outputs": [],
   "source": [
    "stand_data = scaler.fit_transform(X)\n",
    "df_stand_data = pd.DataFrame(stand_data, index = X.index, columns = X.columns)"
   ]
  },
  {
   "cell_type": "code",
   "execution_count": 833,
   "id": "c7a67104",
   "metadata": {},
   "outputs": [
    {
     "data": {
      "text/html": [
       "<div>\n",
       "<style scoped>\n",
       "    .dataframe tbody tr th:only-of-type {\n",
       "        vertical-align: middle;\n",
       "    }\n",
       "\n",
       "    .dataframe tbody tr th {\n",
       "        vertical-align: top;\n",
       "    }\n",
       "\n",
       "    .dataframe thead th {\n",
       "        text-align: right;\n",
       "    }\n",
       "</style>\n",
       "<table border=\"1\" class=\"dataframe\">\n",
       "  <thead>\n",
       "    <tr style=\"text-align: right;\">\n",
       "      <th></th>\n",
       "      <th>ExterCond</th>\n",
       "      <th>SaleType_CWD</th>\n",
       "      <th>SaleCondition_Alloca</th>\n",
       "      <th>HouseStyle_1Story</th>\n",
       "      <th>LandContour</th>\n",
       "      <th>RoofMatl_Roll</th>\n",
       "      <th>Foundation_PConc</th>\n",
       "      <th>Functional</th>\n",
       "      <th>BsmtFinType1_BLQ</th>\n",
       "      <th>GarageType_Nohay</th>\n",
       "      <th>...</th>\n",
       "      <th>KitchenAbvGr</th>\n",
       "      <th>Foundation_Wood</th>\n",
       "      <th>Exterior1st_CemntBd</th>\n",
       "      <th>Electrical_SBrkr</th>\n",
       "      <th>Exterior1st_WdShing</th>\n",
       "      <th>Heating_GasW</th>\n",
       "      <th>BsmtFinType1_Rec</th>\n",
       "      <th>MasVnrType_BrkFace</th>\n",
       "      <th>BldgType_Twnhs</th>\n",
       "      <th>Exterior2nd_ImStucc</th>\n",
       "    </tr>\n",
       "  </thead>\n",
       "  <tbody>\n",
       "    <tr>\n",
       "      <th>0</th>\n",
       "      <td>-0.238892</td>\n",
       "      <td>-0.052577</td>\n",
       "      <td>-0.087401</td>\n",
       "      <td>-0.993816</td>\n",
       "      <td>-0.307183</td>\n",
       "      <td>-0.026261</td>\n",
       "      <td>1.128847</td>\n",
       "      <td>0.236395</td>\n",
       "      <td>-0.337022</td>\n",
       "      <td>-0.243154</td>\n",
       "      <td>...</td>\n",
       "      <td>-0.21037</td>\n",
       "      <td>-0.045517</td>\n",
       "      <td>-0.205876</td>\n",
       "      <td>0.307032</td>\n",
       "      <td>-0.135076</td>\n",
       "      <td>-0.112076</td>\n",
       "      <td>-0.316348</td>\n",
       "      <td>1.503554</td>\n",
       "      <td>-0.174756</td>\n",
       "      <td>-0.083304</td>\n",
       "    </tr>\n",
       "    <tr>\n",
       "      <th>1</th>\n",
       "      <td>-0.238892</td>\n",
       "      <td>-0.052577</td>\n",
       "      <td>-0.087401</td>\n",
       "      <td>1.006222</td>\n",
       "      <td>-0.307183</td>\n",
       "      <td>-0.026261</td>\n",
       "      <td>-0.885860</td>\n",
       "      <td>0.236395</td>\n",
       "      <td>-0.337022</td>\n",
       "      <td>-0.243154</td>\n",
       "      <td>...</td>\n",
       "      <td>-0.21037</td>\n",
       "      <td>-0.045517</td>\n",
       "      <td>-0.205876</td>\n",
       "      <td>0.307032</td>\n",
       "      <td>-0.135076</td>\n",
       "      <td>-0.112076</td>\n",
       "      <td>-0.316348</td>\n",
       "      <td>-0.665091</td>\n",
       "      <td>-0.174756</td>\n",
       "      <td>-0.083304</td>\n",
       "    </tr>\n",
       "    <tr>\n",
       "      <th>2</th>\n",
       "      <td>-0.238892</td>\n",
       "      <td>-0.052577</td>\n",
       "      <td>-0.087401</td>\n",
       "      <td>-0.993816</td>\n",
       "      <td>-0.307183</td>\n",
       "      <td>-0.026261</td>\n",
       "      <td>1.128847</td>\n",
       "      <td>0.236395</td>\n",
       "      <td>-0.337022</td>\n",
       "      <td>-0.243154</td>\n",
       "      <td>...</td>\n",
       "      <td>-0.21037</td>\n",
       "      <td>-0.045517</td>\n",
       "      <td>-0.205876</td>\n",
       "      <td>0.307032</td>\n",
       "      <td>-0.135076</td>\n",
       "      <td>-0.112076</td>\n",
       "      <td>-0.316348</td>\n",
       "      <td>1.503554</td>\n",
       "      <td>-0.174756</td>\n",
       "      <td>-0.083304</td>\n",
       "    </tr>\n",
       "    <tr>\n",
       "      <th>3</th>\n",
       "      <td>-0.238892</td>\n",
       "      <td>-0.052577</td>\n",
       "      <td>-0.087401</td>\n",
       "      <td>-0.993816</td>\n",
       "      <td>-0.307183</td>\n",
       "      <td>-0.026261</td>\n",
       "      <td>-0.885860</td>\n",
       "      <td>0.236395</td>\n",
       "      <td>-0.337022</td>\n",
       "      <td>-0.243154</td>\n",
       "      <td>...</td>\n",
       "      <td>-0.21037</td>\n",
       "      <td>-0.045517</td>\n",
       "      <td>-0.205876</td>\n",
       "      <td>0.307032</td>\n",
       "      <td>-0.135076</td>\n",
       "      <td>-0.112076</td>\n",
       "      <td>-0.316348</td>\n",
       "      <td>-0.665091</td>\n",
       "      <td>-0.174756</td>\n",
       "      <td>-0.083304</td>\n",
       "    </tr>\n",
       "    <tr>\n",
       "      <th>4</th>\n",
       "      <td>-0.238892</td>\n",
       "      <td>-0.052577</td>\n",
       "      <td>-0.087401</td>\n",
       "      <td>-0.993816</td>\n",
       "      <td>-0.307183</td>\n",
       "      <td>-0.026261</td>\n",
       "      <td>1.128847</td>\n",
       "      <td>0.236395</td>\n",
       "      <td>-0.337022</td>\n",
       "      <td>-0.243154</td>\n",
       "      <td>...</td>\n",
       "      <td>-0.21037</td>\n",
       "      <td>-0.045517</td>\n",
       "      <td>-0.205876</td>\n",
       "      <td>0.307032</td>\n",
       "      <td>-0.135076</td>\n",
       "      <td>-0.112076</td>\n",
       "      <td>-0.316348</td>\n",
       "      <td>1.503554</td>\n",
       "      <td>-0.174756</td>\n",
       "      <td>-0.083304</td>\n",
       "    </tr>\n",
       "  </tbody>\n",
       "</table>\n",
       "<p>5 rows × 208 columns</p>\n",
       "</div>"
      ],
      "text/plain": [
       "   ExterCond  SaleType_CWD  SaleCondition_Alloca  HouseStyle_1Story  \\\n",
       "0  -0.238892     -0.052577             -0.087401          -0.993816   \n",
       "1  -0.238892     -0.052577             -0.087401           1.006222   \n",
       "2  -0.238892     -0.052577             -0.087401          -0.993816   \n",
       "3  -0.238892     -0.052577             -0.087401          -0.993816   \n",
       "4  -0.238892     -0.052577             -0.087401          -0.993816   \n",
       "\n",
       "   LandContour  RoofMatl_Roll  Foundation_PConc  Functional  BsmtFinType1_BLQ  \\\n",
       "0    -0.307183      -0.026261          1.128847    0.236395         -0.337022   \n",
       "1    -0.307183      -0.026261         -0.885860    0.236395         -0.337022   \n",
       "2    -0.307183      -0.026261          1.128847    0.236395         -0.337022   \n",
       "3    -0.307183      -0.026261         -0.885860    0.236395         -0.337022   \n",
       "4    -0.307183      -0.026261          1.128847    0.236395         -0.337022   \n",
       "\n",
       "   GarageType_Nohay  ...  KitchenAbvGr  Foundation_Wood  Exterior1st_CemntBd  \\\n",
       "0         -0.243154  ...      -0.21037        -0.045517            -0.205876   \n",
       "1         -0.243154  ...      -0.21037        -0.045517            -0.205876   \n",
       "2         -0.243154  ...      -0.21037        -0.045517            -0.205876   \n",
       "3         -0.243154  ...      -0.21037        -0.045517            -0.205876   \n",
       "4         -0.243154  ...      -0.21037        -0.045517            -0.205876   \n",
       "\n",
       "   Electrical_SBrkr  Exterior1st_WdShing  Heating_GasW  BsmtFinType1_Rec  \\\n",
       "0          0.307032            -0.135076     -0.112076         -0.316348   \n",
       "1          0.307032            -0.135076     -0.112076         -0.316348   \n",
       "2          0.307032            -0.135076     -0.112076         -0.316348   \n",
       "3          0.307032            -0.135076     -0.112076         -0.316348   \n",
       "4          0.307032            -0.135076     -0.112076         -0.316348   \n",
       "\n",
       "   MasVnrType_BrkFace  BldgType_Twnhs  Exterior2nd_ImStucc  \n",
       "0            1.503554       -0.174756            -0.083304  \n",
       "1           -0.665091       -0.174756            -0.083304  \n",
       "2            1.503554       -0.174756            -0.083304  \n",
       "3           -0.665091       -0.174756            -0.083304  \n",
       "4            1.503554       -0.174756            -0.083304  \n",
       "\n",
       "[5 rows x 208 columns]"
      ]
     },
     "execution_count": 833,
     "metadata": {},
     "output_type": "execute_result"
    }
   ],
   "source": [
    "df_stand_data.head()"
   ]
  },
  {
   "cell_type": "code",
   "execution_count": 834,
   "id": "a1391460",
   "metadata": {},
   "outputs": [
    {
     "data": {
      "text/plain": [
       "array([4.57213729e-02, 3.30472533e-02, 2.38116263e-02, 2.17341915e-02,\n",
       "       1.90222584e-02, 1.85242196e-02, 1.61780958e-02, 1.58855337e-02,\n",
       "       1.46403661e-02, 1.37089194e-02, 1.33172439e-02, 1.23683623e-02,\n",
       "       1.22473890e-02, 1.17757093e-02, 1.12529294e-02, 1.11721722e-02,\n",
       "       1.10804288e-02, 1.07633272e-02, 1.06997630e-02, 1.05816929e-02,\n",
       "       1.03685312e-02, 9.98604354e-03, 9.84778110e-03, 9.55808722e-03,\n",
       "       9.31553887e-03, 9.15092573e-03, 9.08701795e-03, 8.88385788e-03,\n",
       "       8.79088275e-03, 8.63523709e-03, 8.61279351e-03, 8.42687258e-03,\n",
       "       8.33768568e-03, 8.10037678e-03, 7.94206501e-03, 7.86357115e-03,\n",
       "       7.64230703e-03, 7.44916043e-03, 7.34678408e-03, 7.30760893e-03,\n",
       "       7.13470392e-03, 7.10347974e-03, 7.05045129e-03, 6.87197940e-03,\n",
       "       6.85564938e-03, 6.72676015e-03, 6.70303042e-03, 6.62396670e-03,\n",
       "       6.56429591e-03, 6.50727824e-03, 6.36633960e-03, 6.31210972e-03,\n",
       "       6.26981742e-03, 6.19845264e-03, 6.13608338e-03, 6.09185043e-03,\n",
       "       5.98964005e-03, 5.98528242e-03, 5.86085965e-03, 5.79330582e-03,\n",
       "       5.75739129e-03, 5.68892659e-03, 5.64612377e-03, 5.56178065e-03,\n",
       "       5.52279273e-03, 5.44348369e-03, 5.42456578e-03, 5.38620281e-03,\n",
       "       5.28420433e-03, 5.19585130e-03, 5.17905725e-03, 5.15849947e-03,\n",
       "       5.10899434e-03, 5.07794921e-03, 5.02277698e-03, 4.97703010e-03,\n",
       "       4.91358692e-03, 4.87546221e-03, 4.85280802e-03, 4.80012661e-03,\n",
       "       4.74137496e-03, 4.67556767e-03, 4.65967961e-03, 4.60389205e-03,\n",
       "       4.54942875e-03, 4.52374731e-03, 4.46826502e-03, 4.42884359e-03,\n",
       "       4.34670824e-03, 4.30975282e-03, 4.26923075e-03, 4.23250440e-03,\n",
       "       4.18017024e-03, 4.15170067e-03, 4.11427249e-03, 4.10593843e-03,\n",
       "       4.04239665e-03, 3.99871661e-03, 3.95245936e-03, 3.86454427e-03,\n",
       "       3.85176694e-03, 3.82854197e-03, 3.79517630e-03, 3.75471516e-03,\n",
       "       3.70073215e-03, 3.64850953e-03, 3.58281174e-03, 3.54832355e-03,\n",
       "       3.52005141e-03, 3.47096218e-03, 3.44559527e-03, 3.37657984e-03,\n",
       "       3.35092522e-03, 3.32705299e-03, 3.21890202e-03, 3.20445694e-03,\n",
       "       3.18144598e-03, 3.17088824e-03, 3.10702268e-03, 3.03875438e-03,\n",
       "       3.03548856e-03, 2.94550875e-03, 2.91334296e-03, 2.88784652e-03,\n",
       "       2.84210444e-03, 2.77982798e-03, 2.77325929e-03, 2.73207789e-03,\n",
       "       2.73088852e-03, 2.66735998e-03, 2.64903510e-03, 2.60403084e-03,\n",
       "       2.53390549e-03, 2.52870485e-03, 2.45431677e-03, 2.44198440e-03,\n",
       "       2.35110582e-03, 2.34019820e-03, 2.26768771e-03, 2.24143773e-03,\n",
       "       2.21269676e-03, 2.14813571e-03, 2.10368839e-03, 2.08357303e-03,\n",
       "       2.00757754e-03, 1.97953362e-03, 1.93095829e-03, 1.91155623e-03,\n",
       "       1.85705183e-03, 1.78539999e-03, 1.75844741e-03, 1.71156692e-03,\n",
       "       1.67859633e-03, 1.54841350e-03, 1.51870056e-03, 1.45642256e-03,\n",
       "       1.41058086e-03, 1.34715092e-03, 1.28248317e-03, 1.25525586e-03,\n",
       "       1.19851352e-03, 1.10552641e-03, 1.00739159e-03, 9.81136470e-04,\n",
       "       8.31215333e-04, 8.01167155e-04, 7.81275916e-04, 7.33115098e-04,\n",
       "       7.03083369e-04, 6.18307389e-04, 6.02665420e-04, 5.37765451e-04,\n",
       "       4.66886747e-04, 4.33907299e-04, 3.69774921e-04, 3.42784484e-04,\n",
       "       2.56851622e-04, 2.13269905e-04, 1.74911277e-04, 1.47150952e-04,\n",
       "       1.09060413e-04, 9.94298928e-05, 9.04469228e-05, 7.68264913e-05,\n",
       "       5.82926548e-05, 9.68723507e-33, 5.84919918e-33, 3.88501863e-33,\n",
       "       2.85926925e-33, 2.16823159e-33, 1.65313303e-33, 1.44961195e-33,\n",
       "       1.09947516e-33, 9.03667851e-34, 8.66312679e-34, 7.11807827e-34,\n",
       "       7.07794741e-34, 4.92305937e-34, 4.48764149e-34, 4.48158062e-34,\n",
       "       3.98598408e-34, 3.51643557e-34, 3.13947827e-34, 2.92873791e-34,\n",
       "       2.91806283e-34, 2.91083096e-34, 1.63008346e-34, 4.89691418e-36])"
      ]
     },
     "execution_count": 834,
     "metadata": {},
     "output_type": "execute_result"
    }
   ],
   "source": [
    "pca = PCA()\n",
    "pca.fit(df_stand_data)\n",
    "pca.explained_variance_ratio_"
   ]
  },
  {
   "cell_type": "code",
   "execution_count": 847,
   "id": "7025091b",
   "metadata": {},
   "outputs": [
    {
     "name": "stdout",
     "output_type": "stream",
     "text": [
      "92\n",
      "93\n"
     ]
    }
   ],
   "source": [
    "num=list(pca.explained_variance_ratio_.cumsum())\n",
    "for i in range(0,len(num)):\n",
    "    if 0.81>num[i]>=0.8:\n",
    "        print(i)\n",
    "        \n",
    "#92 es el número de componentes principales a usar        "
   ]
  },
  {
   "cell_type": "code",
   "execution_count": 853,
   "id": "e79a6649",
   "metadata": {},
   "outputs": [],
   "source": [
    "pca_bueno = PCA(n_components=92)\n",
    "pca_bueno1 = pca_bueno.fit_transform(df_stand_data)"
   ]
  },
  {
   "cell_type": "code",
   "execution_count": 854,
   "id": "6a0ba9ac",
   "metadata": {},
   "outputs": [],
   "source": [
    "colu1=[f\"C{i}\" for i in range(1,93)]\n"
   ]
  },
  {
   "cell_type": "code",
   "execution_count": 855,
   "id": "ec9148c8",
   "metadata": {},
   "outputs": [],
   "source": [
    "df_pca = pd.DataFrame(pca_bueno1, index=df_stand_data.index,columns = colu1)"
   ]
  },
  {
   "cell_type": "code",
   "execution_count": 856,
   "id": "59338f81",
   "metadata": {},
   "outputs": [
    {
     "data": {
      "text/html": [
       "<div>\n",
       "<style scoped>\n",
       "    .dataframe tbody tr th:only-of-type {\n",
       "        vertical-align: middle;\n",
       "    }\n",
       "\n",
       "    .dataframe tbody tr th {\n",
       "        vertical-align: top;\n",
       "    }\n",
       "\n",
       "    .dataframe thead th {\n",
       "        text-align: right;\n",
       "    }\n",
       "</style>\n",
       "<table border=\"1\" class=\"dataframe\">\n",
       "  <thead>\n",
       "    <tr style=\"text-align: right;\">\n",
       "      <th></th>\n",
       "      <th>C1</th>\n",
       "      <th>C2</th>\n",
       "      <th>C3</th>\n",
       "      <th>C4</th>\n",
       "      <th>C5</th>\n",
       "      <th>C6</th>\n",
       "      <th>C7</th>\n",
       "      <th>C8</th>\n",
       "      <th>C9</th>\n",
       "      <th>C10</th>\n",
       "      <th>...</th>\n",
       "      <th>C83</th>\n",
       "      <th>C84</th>\n",
       "      <th>C85</th>\n",
       "      <th>C86</th>\n",
       "      <th>C87</th>\n",
       "      <th>C88</th>\n",
       "      <th>C89</th>\n",
       "      <th>C90</th>\n",
       "      <th>C91</th>\n",
       "      <th>C92</th>\n",
       "    </tr>\n",
       "  </thead>\n",
       "  <tbody>\n",
       "    <tr>\n",
       "      <th>0</th>\n",
       "      <td>-2.942131</td>\n",
       "      <td>-1.294634</td>\n",
       "      <td>0.251941</td>\n",
       "      <td>0.284031</td>\n",
       "      <td>0.693073</td>\n",
       "      <td>-2.431391</td>\n",
       "      <td>0.921978</td>\n",
       "      <td>0.601779</td>\n",
       "      <td>-1.032373</td>\n",
       "      <td>-0.383796</td>\n",
       "      <td>...</td>\n",
       "      <td>-0.007395</td>\n",
       "      <td>-0.242258</td>\n",
       "      <td>0.058476</td>\n",
       "      <td>0.735642</td>\n",
       "      <td>-0.233059</td>\n",
       "      <td>-0.514446</td>\n",
       "      <td>-0.399157</td>\n",
       "      <td>-0.343261</td>\n",
       "      <td>-0.072489</td>\n",
       "      <td>0.095544</td>\n",
       "    </tr>\n",
       "    <tr>\n",
       "      <th>1</th>\n",
       "      <td>-0.125681</td>\n",
       "      <td>2.664209</td>\n",
       "      <td>-1.056692</td>\n",
       "      <td>0.484955</td>\n",
       "      <td>-0.835900</td>\n",
       "      <td>0.403971</td>\n",
       "      <td>0.251281</td>\n",
       "      <td>0.845329</td>\n",
       "      <td>1.005054</td>\n",
       "      <td>1.886104</td>\n",
       "      <td>...</td>\n",
       "      <td>0.665471</td>\n",
       "      <td>2.384944</td>\n",
       "      <td>-0.523344</td>\n",
       "      <td>-2.591357</td>\n",
       "      <td>-0.217520</td>\n",
       "      <td>-1.477593</td>\n",
       "      <td>-0.608948</td>\n",
       "      <td>0.235741</td>\n",
       "      <td>1.955385</td>\n",
       "      <td>-1.377056</td>\n",
       "    </tr>\n",
       "    <tr>\n",
       "      <th>2</th>\n",
       "      <td>-3.366054</td>\n",
       "      <td>-1.208631</td>\n",
       "      <td>0.043861</td>\n",
       "      <td>-0.217690</td>\n",
       "      <td>1.156117</td>\n",
       "      <td>-2.095943</td>\n",
       "      <td>0.982240</td>\n",
       "      <td>0.659766</td>\n",
       "      <td>-1.023473</td>\n",
       "      <td>-0.354671</td>\n",
       "      <td>...</td>\n",
       "      <td>-0.095615</td>\n",
       "      <td>-0.171633</td>\n",
       "      <td>0.011905</td>\n",
       "      <td>-0.025889</td>\n",
       "      <td>-0.188333</td>\n",
       "      <td>-0.538634</td>\n",
       "      <td>-0.074701</td>\n",
       "      <td>-0.154408</td>\n",
       "      <td>-0.151136</td>\n",
       "      <td>0.202272</td>\n",
       "    </tr>\n",
       "    <tr>\n",
       "      <th>3</th>\n",
       "      <td>1.807893</td>\n",
       "      <td>-0.846435</td>\n",
       "      <td>-2.660686</td>\n",
       "      <td>-1.080505</td>\n",
       "      <td>1.125068</td>\n",
       "      <td>0.109565</td>\n",
       "      <td>-0.199937</td>\n",
       "      <td>0.101891</td>\n",
       "      <td>0.551020</td>\n",
       "      <td>-0.258932</td>\n",
       "      <td>...</td>\n",
       "      <td>0.429552</td>\n",
       "      <td>-0.631692</td>\n",
       "      <td>-1.014090</td>\n",
       "      <td>1.791428</td>\n",
       "      <td>0.118256</td>\n",
       "      <td>-0.377078</td>\n",
       "      <td>0.524930</td>\n",
       "      <td>-0.389426</td>\n",
       "      <td>1.241760</td>\n",
       "      <td>-1.453360</td>\n",
       "    </tr>\n",
       "    <tr>\n",
       "      <th>4</th>\n",
       "      <td>-4.189123</td>\n",
       "      <td>-0.916705</td>\n",
       "      <td>-0.278967</td>\n",
       "      <td>-0.547044</td>\n",
       "      <td>3.169354</td>\n",
       "      <td>-2.166406</td>\n",
       "      <td>0.877774</td>\n",
       "      <td>-0.635907</td>\n",
       "      <td>-1.571778</td>\n",
       "      <td>-0.345493</td>\n",
       "      <td>...</td>\n",
       "      <td>0.290413</td>\n",
       "      <td>0.497394</td>\n",
       "      <td>-0.527886</td>\n",
       "      <td>-1.074318</td>\n",
       "      <td>-0.451060</td>\n",
       "      <td>0.288607</td>\n",
       "      <td>-0.617805</td>\n",
       "      <td>1.497851</td>\n",
       "      <td>0.580827</td>\n",
       "      <td>0.247614</td>\n",
       "    </tr>\n",
       "    <tr>\n",
       "      <th>...</th>\n",
       "      <td>...</td>\n",
       "      <td>...</td>\n",
       "      <td>...</td>\n",
       "      <td>...</td>\n",
       "      <td>...</td>\n",
       "      <td>...</td>\n",
       "      <td>...</td>\n",
       "      <td>...</td>\n",
       "      <td>...</td>\n",
       "      <td>...</td>\n",
       "      <td>...</td>\n",
       "      <td>...</td>\n",
       "      <td>...</td>\n",
       "      <td>...</td>\n",
       "      <td>...</td>\n",
       "      <td>...</td>\n",
       "      <td>...</td>\n",
       "      <td>...</td>\n",
       "      <td>...</td>\n",
       "      <td>...</td>\n",
       "      <td>...</td>\n",
       "    </tr>\n",
       "    <tr>\n",
       "      <th>1455</th>\n",
       "      <td>-1.812386</td>\n",
       "      <td>-2.258454</td>\n",
       "      <td>-0.504273</td>\n",
       "      <td>-0.987628</td>\n",
       "      <td>0.838705</td>\n",
       "      <td>-2.694660</td>\n",
       "      <td>1.239227</td>\n",
       "      <td>1.460940</td>\n",
       "      <td>0.966446</td>\n",
       "      <td>-0.521931</td>\n",
       "      <td>...</td>\n",
       "      <td>0.481853</td>\n",
       "      <td>0.211195</td>\n",
       "      <td>0.428360</td>\n",
       "      <td>-0.364168</td>\n",
       "      <td>-0.305806</td>\n",
       "      <td>0.987220</td>\n",
       "      <td>0.489792</td>\n",
       "      <td>0.156436</td>\n",
       "      <td>-0.164565</td>\n",
       "      <td>0.440150</td>\n",
       "    </tr>\n",
       "    <tr>\n",
       "      <th>1456</th>\n",
       "      <td>-0.450997</td>\n",
       "      <td>5.073652</td>\n",
       "      <td>0.019020</td>\n",
       "      <td>0.306081</td>\n",
       "      <td>-0.158666</td>\n",
       "      <td>0.839164</td>\n",
       "      <td>-0.281542</td>\n",
       "      <td>-0.187983</td>\n",
       "      <td>1.266468</td>\n",
       "      <td>0.667746</td>\n",
       "      <td>...</td>\n",
       "      <td>0.472571</td>\n",
       "      <td>0.515327</td>\n",
       "      <td>-0.067244</td>\n",
       "      <td>0.172672</td>\n",
       "      <td>0.463361</td>\n",
       "      <td>0.295207</td>\n",
       "      <td>0.360655</td>\n",
       "      <td>0.662009</td>\n",
       "      <td>0.090797</td>\n",
       "      <td>1.188538</td>\n",
       "    </tr>\n",
       "    <tr>\n",
       "      <th>1457</th>\n",
       "      <td>-0.435623</td>\n",
       "      <td>-0.529510</td>\n",
       "      <td>-2.886772</td>\n",
       "      <td>1.818603</td>\n",
       "      <td>2.829297</td>\n",
       "      <td>0.582948</td>\n",
       "      <td>-0.241939</td>\n",
       "      <td>-0.300664</td>\n",
       "      <td>-1.346295</td>\n",
       "      <td>3.410591</td>\n",
       "      <td>...</td>\n",
       "      <td>2.387708</td>\n",
       "      <td>-1.945260</td>\n",
       "      <td>0.386028</td>\n",
       "      <td>-1.618434</td>\n",
       "      <td>1.990850</td>\n",
       "      <td>-0.081518</td>\n",
       "      <td>-2.055533</td>\n",
       "      <td>1.257849</td>\n",
       "      <td>-1.569240</td>\n",
       "      <td>1.369057</td>\n",
       "    </tr>\n",
       "    <tr>\n",
       "      <th>1458</th>\n",
       "      <td>1.526966</td>\n",
       "      <td>3.676906</td>\n",
       "      <td>0.206272</td>\n",
       "      <td>-0.160255</td>\n",
       "      <td>-2.620317</td>\n",
       "      <td>1.099052</td>\n",
       "      <td>-2.092531</td>\n",
       "      <td>1.618040</td>\n",
       "      <td>-0.713067</td>\n",
       "      <td>0.939176</td>\n",
       "      <td>...</td>\n",
       "      <td>-0.006521</td>\n",
       "      <td>-0.555304</td>\n",
       "      <td>0.569490</td>\n",
       "      <td>-0.942331</td>\n",
       "      <td>-0.405385</td>\n",
       "      <td>0.596338</td>\n",
       "      <td>-0.431670</td>\n",
       "      <td>-1.076140</td>\n",
       "      <td>-1.069171</td>\n",
       "      <td>0.852032</td>\n",
       "    </tr>\n",
       "    <tr>\n",
       "      <th>1459</th>\n",
       "      <td>0.049042</td>\n",
       "      <td>4.005612</td>\n",
       "      <td>0.109135</td>\n",
       "      <td>0.816088</td>\n",
       "      <td>-0.988159</td>\n",
       "      <td>-0.690060</td>\n",
       "      <td>0.399389</td>\n",
       "      <td>0.090971</td>\n",
       "      <td>-0.189148</td>\n",
       "      <td>0.527289</td>\n",
       "      <td>...</td>\n",
       "      <td>-0.210078</td>\n",
       "      <td>0.533445</td>\n",
       "      <td>-0.229559</td>\n",
       "      <td>0.189538</td>\n",
       "      <td>-0.137867</td>\n",
       "      <td>-0.068986</td>\n",
       "      <td>-0.248268</td>\n",
       "      <td>0.543251</td>\n",
       "      <td>0.381161</td>\n",
       "      <td>-0.078451</td>\n",
       "    </tr>\n",
       "  </tbody>\n",
       "</table>\n",
       "<p>1451 rows × 92 columns</p>\n",
       "</div>"
      ],
      "text/plain": [
       "            C1        C2        C3        C4        C5        C6        C7  \\\n",
       "0    -2.942131 -1.294634  0.251941  0.284031  0.693073 -2.431391  0.921978   \n",
       "1    -0.125681  2.664209 -1.056692  0.484955 -0.835900  0.403971  0.251281   \n",
       "2    -3.366054 -1.208631  0.043861 -0.217690  1.156117 -2.095943  0.982240   \n",
       "3     1.807893 -0.846435 -2.660686 -1.080505  1.125068  0.109565 -0.199937   \n",
       "4    -4.189123 -0.916705 -0.278967 -0.547044  3.169354 -2.166406  0.877774   \n",
       "...        ...       ...       ...       ...       ...       ...       ...   \n",
       "1455 -1.812386 -2.258454 -0.504273 -0.987628  0.838705 -2.694660  1.239227   \n",
       "1456 -0.450997  5.073652  0.019020  0.306081 -0.158666  0.839164 -0.281542   \n",
       "1457 -0.435623 -0.529510 -2.886772  1.818603  2.829297  0.582948 -0.241939   \n",
       "1458  1.526966  3.676906  0.206272 -0.160255 -2.620317  1.099052 -2.092531   \n",
       "1459  0.049042  4.005612  0.109135  0.816088 -0.988159 -0.690060  0.399389   \n",
       "\n",
       "            C8        C9       C10  ...       C83       C84       C85  \\\n",
       "0     0.601779 -1.032373 -0.383796  ... -0.007395 -0.242258  0.058476   \n",
       "1     0.845329  1.005054  1.886104  ...  0.665471  2.384944 -0.523344   \n",
       "2     0.659766 -1.023473 -0.354671  ... -0.095615 -0.171633  0.011905   \n",
       "3     0.101891  0.551020 -0.258932  ...  0.429552 -0.631692 -1.014090   \n",
       "4    -0.635907 -1.571778 -0.345493  ...  0.290413  0.497394 -0.527886   \n",
       "...        ...       ...       ...  ...       ...       ...       ...   \n",
       "1455  1.460940  0.966446 -0.521931  ...  0.481853  0.211195  0.428360   \n",
       "1456 -0.187983  1.266468  0.667746  ...  0.472571  0.515327 -0.067244   \n",
       "1457 -0.300664 -1.346295  3.410591  ...  2.387708 -1.945260  0.386028   \n",
       "1458  1.618040 -0.713067  0.939176  ... -0.006521 -0.555304  0.569490   \n",
       "1459  0.090971 -0.189148  0.527289  ... -0.210078  0.533445 -0.229559   \n",
       "\n",
       "           C86       C87       C88       C89       C90       C91       C92  \n",
       "0     0.735642 -0.233059 -0.514446 -0.399157 -0.343261 -0.072489  0.095544  \n",
       "1    -2.591357 -0.217520 -1.477593 -0.608948  0.235741  1.955385 -1.377056  \n",
       "2    -0.025889 -0.188333 -0.538634 -0.074701 -0.154408 -0.151136  0.202272  \n",
       "3     1.791428  0.118256 -0.377078  0.524930 -0.389426  1.241760 -1.453360  \n",
       "4    -1.074318 -0.451060  0.288607 -0.617805  1.497851  0.580827  0.247614  \n",
       "...        ...       ...       ...       ...       ...       ...       ...  \n",
       "1455 -0.364168 -0.305806  0.987220  0.489792  0.156436 -0.164565  0.440150  \n",
       "1456  0.172672  0.463361  0.295207  0.360655  0.662009  0.090797  1.188538  \n",
       "1457 -1.618434  1.990850 -0.081518 -2.055533  1.257849 -1.569240  1.369057  \n",
       "1458 -0.942331 -0.405385  0.596338 -0.431670 -1.076140 -1.069171  0.852032  \n",
       "1459  0.189538 -0.137867 -0.068986 -0.248268  0.543251  0.381161 -0.078451  \n",
       "\n",
       "[1451 rows x 92 columns]"
      ]
     },
     "execution_count": 856,
     "metadata": {},
     "output_type": "execute_result"
    }
   ],
   "source": [
    "df_pca\n",
    "#Son los valores de los componentes principales "
   ]
  },
  {
   "cell_type": "code",
   "execution_count": 857,
   "id": "356e9733",
   "metadata": {},
   "outputs": [],
   "source": [
    "df_pca[\"SalePrice\"]=y"
   ]
  },
  {
   "cell_type": "code",
   "execution_count": 859,
   "id": "3219f180",
   "metadata": {},
   "outputs": [
    {
     "data": {
      "text/html": [
       "<div>\n",
       "<style scoped>\n",
       "    .dataframe tbody tr th:only-of-type {\n",
       "        vertical-align: middle;\n",
       "    }\n",
       "\n",
       "    .dataframe tbody tr th {\n",
       "        vertical-align: top;\n",
       "    }\n",
       "\n",
       "    .dataframe thead th {\n",
       "        text-align: right;\n",
       "    }\n",
       "</style>\n",
       "<table border=\"1\" class=\"dataframe\">\n",
       "  <thead>\n",
       "    <tr style=\"text-align: right;\">\n",
       "      <th></th>\n",
       "      <th>SalePrice</th>\n",
       "    </tr>\n",
       "  </thead>\n",
       "  <tbody>\n",
       "    <tr>\n",
       "      <th>C1</th>\n",
       "      <td>-0.676578</td>\n",
       "    </tr>\n",
       "    <tr>\n",
       "      <th>SalePrice</th>\n",
       "      <td>1.000000</td>\n",
       "    </tr>\n",
       "  </tbody>\n",
       "</table>\n",
       "</div>"
      ],
      "text/plain": [
       "           SalePrice\n",
       "C1         -0.676578\n",
       "SalePrice   1.000000"
      ]
     },
     "execution_count": 859,
     "metadata": {},
     "output_type": "execute_result"
    }
   ],
   "source": [
    "corr=df_pca.corr()\n",
    "corr1=corr[[\"SalePrice\"]]\n",
    "corr2=corr1[(corr1.SalePrice>=0.5) | (corr1.SalePrice<=-0.5)]\n",
    "corr2\n",
    "#podemos observar que el único componente principal con mayor correlación con el precio de las casas es C1, por lo que \n",
    "#será la unica columna extra que usaremos para nuestro modelo"
   ]
  },
  {
   "cell_type": "markdown",
   "id": "44d2a6a6",
   "metadata": {},
   "source": [
    "## Regresión Lineal"
   ]
  },
  {
   "cell_type": "code",
   "execution_count": 865,
   "id": "59fcd18b",
   "metadata": {},
   "outputs": [],
   "source": [
    "X=total[especiales]\n",
    "X.drop(\"SalePrice\", axis=1, inplace=True)"
   ]
  },
  {
   "cell_type": "code",
   "execution_count": 867,
   "id": "cfba4ca2",
   "metadata": {},
   "outputs": [
    {
     "name": "stderr",
     "output_type": "stream",
     "text": [
      "<ipython-input-867-1d820fe7cb72>:1: SettingWithCopyWarning: \n",
      "A value is trying to be set on a copy of a slice from a DataFrame.\n",
      "Try using .loc[row_indexer,col_indexer] = value instead\n",
      "\n",
      "See the caveats in the documentation: https://pandas.pydata.org/pandas-docs/stable/user_guide/indexing.html#returning-a-view-versus-a-copy\n",
      "  X[\"C1\"]=df_pca.C1\n"
     ]
    }
   ],
   "source": [
    "X[\"C1\"]=df_pca.C1"
   ]
  },
  {
   "cell_type": "code",
   "execution_count": 868,
   "id": "0d9540c2",
   "metadata": {},
   "outputs": [
    {
     "data": {
      "text/html": [
       "<div>\n",
       "<style scoped>\n",
       "    .dataframe tbody tr th:only-of-type {\n",
       "        vertical-align: middle;\n",
       "    }\n",
       "\n",
       "    .dataframe tbody tr th {\n",
       "        vertical-align: top;\n",
       "    }\n",
       "\n",
       "    .dataframe thead th {\n",
       "        text-align: right;\n",
       "    }\n",
       "</style>\n",
       "<table border=\"1\" class=\"dataframe\">\n",
       "  <thead>\n",
       "    <tr style=\"text-align: right;\">\n",
       "      <th></th>\n",
       "      <th>YearRemodAdd</th>\n",
       "      <th>OverallQual</th>\n",
       "      <th>KitchenQual</th>\n",
       "      <th>TotRmsAbvGrd</th>\n",
       "      <th>1stFlrSF</th>\n",
       "      <th>TotalBath</th>\n",
       "      <th>TotalBsmtSF</th>\n",
       "      <th>ExterQual</th>\n",
       "      <th>GarageYrBlt</th>\n",
       "      <th>GrLivArea</th>\n",
       "      <th>FireplaceQu</th>\n",
       "      <th>GarageFinish</th>\n",
       "      <th>YearBuilt</th>\n",
       "      <th>GarageCars</th>\n",
       "      <th>BsmtQual</th>\n",
       "      <th>C1</th>\n",
       "    </tr>\n",
       "  </thead>\n",
       "  <tbody>\n",
       "    <tr>\n",
       "      <th>0</th>\n",
       "      <td>2003</td>\n",
       "      <td>7</td>\n",
       "      <td>4</td>\n",
       "      <td>8</td>\n",
       "      <td>856</td>\n",
       "      <td>3.5</td>\n",
       "      <td>856</td>\n",
       "      <td>4</td>\n",
       "      <td>2003</td>\n",
       "      <td>1710</td>\n",
       "      <td>0</td>\n",
       "      <td>2</td>\n",
       "      <td>2003</td>\n",
       "      <td>2</td>\n",
       "      <td>4</td>\n",
       "      <td>-2.942131</td>\n",
       "    </tr>\n",
       "    <tr>\n",
       "      <th>1</th>\n",
       "      <td>1976</td>\n",
       "      <td>6</td>\n",
       "      <td>3</td>\n",
       "      <td>6</td>\n",
       "      <td>1262</td>\n",
       "      <td>2.5</td>\n",
       "      <td>1262</td>\n",
       "      <td>3</td>\n",
       "      <td>1976</td>\n",
       "      <td>1262</td>\n",
       "      <td>3</td>\n",
       "      <td>2</td>\n",
       "      <td>1976</td>\n",
       "      <td>2</td>\n",
       "      <td>4</td>\n",
       "      <td>-0.125681</td>\n",
       "    </tr>\n",
       "    <tr>\n",
       "      <th>2</th>\n",
       "      <td>2002</td>\n",
       "      <td>7</td>\n",
       "      <td>4</td>\n",
       "      <td>6</td>\n",
       "      <td>920</td>\n",
       "      <td>3.5</td>\n",
       "      <td>920</td>\n",
       "      <td>4</td>\n",
       "      <td>2001</td>\n",
       "      <td>1786</td>\n",
       "      <td>3</td>\n",
       "      <td>2</td>\n",
       "      <td>2001</td>\n",
       "      <td>2</td>\n",
       "      <td>4</td>\n",
       "      <td>-3.366054</td>\n",
       "    </tr>\n",
       "    <tr>\n",
       "      <th>3</th>\n",
       "      <td>1970</td>\n",
       "      <td>7</td>\n",
       "      <td>4</td>\n",
       "      <td>7</td>\n",
       "      <td>961</td>\n",
       "      <td>2.0</td>\n",
       "      <td>756</td>\n",
       "      <td>3</td>\n",
       "      <td>1998</td>\n",
       "      <td>1717</td>\n",
       "      <td>4</td>\n",
       "      <td>1</td>\n",
       "      <td>1915</td>\n",
       "      <td>3</td>\n",
       "      <td>3</td>\n",
       "      <td>1.807893</td>\n",
       "    </tr>\n",
       "    <tr>\n",
       "      <th>4</th>\n",
       "      <td>2000</td>\n",
       "      <td>8</td>\n",
       "      <td>4</td>\n",
       "      <td>9</td>\n",
       "      <td>1145</td>\n",
       "      <td>3.5</td>\n",
       "      <td>1145</td>\n",
       "      <td>4</td>\n",
       "      <td>2000</td>\n",
       "      <td>2198</td>\n",
       "      <td>3</td>\n",
       "      <td>2</td>\n",
       "      <td>2000</td>\n",
       "      <td>3</td>\n",
       "      <td>4</td>\n",
       "      <td>-4.189123</td>\n",
       "    </tr>\n",
       "    <tr>\n",
       "      <th>...</th>\n",
       "      <td>...</td>\n",
       "      <td>...</td>\n",
       "      <td>...</td>\n",
       "      <td>...</td>\n",
       "      <td>...</td>\n",
       "      <td>...</td>\n",
       "      <td>...</td>\n",
       "      <td>...</td>\n",
       "      <td>...</td>\n",
       "      <td>...</td>\n",
       "      <td>...</td>\n",
       "      <td>...</td>\n",
       "      <td>...</td>\n",
       "      <td>...</td>\n",
       "      <td>...</td>\n",
       "      <td>...</td>\n",
       "    </tr>\n",
       "    <tr>\n",
       "      <th>1455</th>\n",
       "      <td>2000</td>\n",
       "      <td>6</td>\n",
       "      <td>3</td>\n",
       "      <td>7</td>\n",
       "      <td>953</td>\n",
       "      <td>2.5</td>\n",
       "      <td>953</td>\n",
       "      <td>3</td>\n",
       "      <td>1999</td>\n",
       "      <td>1647</td>\n",
       "      <td>3</td>\n",
       "      <td>2</td>\n",
       "      <td>1999</td>\n",
       "      <td>2</td>\n",
       "      <td>4</td>\n",
       "      <td>-1.812386</td>\n",
       "    </tr>\n",
       "    <tr>\n",
       "      <th>1456</th>\n",
       "      <td>1988</td>\n",
       "      <td>6</td>\n",
       "      <td>3</td>\n",
       "      <td>7</td>\n",
       "      <td>2073</td>\n",
       "      <td>3.0</td>\n",
       "      <td>1542</td>\n",
       "      <td>3</td>\n",
       "      <td>1978</td>\n",
       "      <td>2073</td>\n",
       "      <td>3</td>\n",
       "      <td>1</td>\n",
       "      <td>1978</td>\n",
       "      <td>2</td>\n",
       "      <td>4</td>\n",
       "      <td>-0.450997</td>\n",
       "    </tr>\n",
       "    <tr>\n",
       "      <th>1457</th>\n",
       "      <td>2006</td>\n",
       "      <td>7</td>\n",
       "      <td>4</td>\n",
       "      <td>9</td>\n",
       "      <td>1188</td>\n",
       "      <td>2.0</td>\n",
       "      <td>1152</td>\n",
       "      <td>5</td>\n",
       "      <td>1941</td>\n",
       "      <td>2340</td>\n",
       "      <td>4</td>\n",
       "      <td>2</td>\n",
       "      <td>1941</td>\n",
       "      <td>1</td>\n",
       "      <td>3</td>\n",
       "      <td>-0.435623</td>\n",
       "    </tr>\n",
       "    <tr>\n",
       "      <th>1458</th>\n",
       "      <td>1996</td>\n",
       "      <td>5</td>\n",
       "      <td>4</td>\n",
       "      <td>5</td>\n",
       "      <td>1078</td>\n",
       "      <td>2.0</td>\n",
       "      <td>1078</td>\n",
       "      <td>3</td>\n",
       "      <td>1950</td>\n",
       "      <td>1078</td>\n",
       "      <td>0</td>\n",
       "      <td>1</td>\n",
       "      <td>1950</td>\n",
       "      <td>1</td>\n",
       "      <td>3</td>\n",
       "      <td>1.526966</td>\n",
       "    </tr>\n",
       "    <tr>\n",
       "      <th>1459</th>\n",
       "      <td>1965</td>\n",
       "      <td>5</td>\n",
       "      <td>3</td>\n",
       "      <td>6</td>\n",
       "      <td>1256</td>\n",
       "      <td>2.5</td>\n",
       "      <td>1256</td>\n",
       "      <td>4</td>\n",
       "      <td>1965</td>\n",
       "      <td>1256</td>\n",
       "      <td>0</td>\n",
       "      <td>3</td>\n",
       "      <td>1965</td>\n",
       "      <td>1</td>\n",
       "      <td>3</td>\n",
       "      <td>0.049042</td>\n",
       "    </tr>\n",
       "  </tbody>\n",
       "</table>\n",
       "<p>1451 rows × 16 columns</p>\n",
       "</div>"
      ],
      "text/plain": [
       "      YearRemodAdd  OverallQual  KitchenQual  TotRmsAbvGrd  1stFlrSF  \\\n",
       "0             2003            7            4             8       856   \n",
       "1             1976            6            3             6      1262   \n",
       "2             2002            7            4             6       920   \n",
       "3             1970            7            4             7       961   \n",
       "4             2000            8            4             9      1145   \n",
       "...            ...          ...          ...           ...       ...   \n",
       "1455          2000            6            3             7       953   \n",
       "1456          1988            6            3             7      2073   \n",
       "1457          2006            7            4             9      1188   \n",
       "1458          1996            5            4             5      1078   \n",
       "1459          1965            5            3             6      1256   \n",
       "\n",
       "      TotalBath  TotalBsmtSF  ExterQual  GarageYrBlt  GrLivArea  FireplaceQu  \\\n",
       "0           3.5          856          4         2003       1710            0   \n",
       "1           2.5         1262          3         1976       1262            3   \n",
       "2           3.5          920          4         2001       1786            3   \n",
       "3           2.0          756          3         1998       1717            4   \n",
       "4           3.5         1145          4         2000       2198            3   \n",
       "...         ...          ...        ...          ...        ...          ...   \n",
       "1455        2.5          953          3         1999       1647            3   \n",
       "1456        3.0         1542          3         1978       2073            3   \n",
       "1457        2.0         1152          5         1941       2340            4   \n",
       "1458        2.0         1078          3         1950       1078            0   \n",
       "1459        2.5         1256          4         1965       1256            0   \n",
       "\n",
       "      GarageFinish  YearBuilt  GarageCars  BsmtQual        C1  \n",
       "0                2       2003           2         4 -2.942131  \n",
       "1                2       1976           2         4 -0.125681  \n",
       "2                2       2001           2         4 -3.366054  \n",
       "3                1       1915           3         3  1.807893  \n",
       "4                2       2000           3         4 -4.189123  \n",
       "...            ...        ...         ...       ...       ...  \n",
       "1455             2       1999           2         4 -1.812386  \n",
       "1456             1       1978           2         4 -0.450997  \n",
       "1457             2       1941           1         3 -0.435623  \n",
       "1458             1       1950           1         3  1.526966  \n",
       "1459             3       1965           1         3  0.049042  \n",
       "\n",
       "[1451 rows x 16 columns]"
      ]
     },
     "execution_count": 868,
     "metadata": {},
     "output_type": "execute_result"
    }
   ],
   "source": [
    "X"
   ]
  },
  {
   "cell_type": "code",
   "execution_count": 887,
   "id": "3701904c",
   "metadata": {},
   "outputs": [],
   "source": [
    "X_train, X_test, y_train, y_test = train_test_split(X, y, random_state = 22, train_size=0.80)"
   ]
  },
  {
   "cell_type": "code",
   "execution_count": 888,
   "id": "71ef1dae",
   "metadata": {},
   "outputs": [],
   "source": [
    "linreg = LinearRegression()"
   ]
  },
  {
   "cell_type": "code",
   "execution_count": 889,
   "id": "8242eb5d",
   "metadata": {},
   "outputs": [
    {
     "data": {
      "text/plain": [
       "LinearRegression()"
      ]
     },
     "execution_count": 889,
     "metadata": {},
     "output_type": "execute_result"
    }
   ],
   "source": [
    "linreg.fit(X_train, y_train)"
   ]
  },
  {
   "cell_type": "code",
   "execution_count": 890,
   "id": "a8a07f52",
   "metadata": {},
   "outputs": [
    {
     "data": {
      "text/plain": [
       "0.8089644478053497"
      ]
     },
     "execution_count": 890,
     "metadata": {},
     "output_type": "execute_result"
    }
   ],
   "source": [
    "linreg.score(X_train, y_train)\n",
    "#Aquí podemos ver que es alto el r cuadrado cuando entrenamos el modelo"
   ]
  },
  {
   "cell_type": "code",
   "execution_count": 891,
   "id": "ad754960",
   "metadata": {},
   "outputs": [
    {
     "data": {
      "text/plain": [
       "0.7618737966866229"
      ]
     },
     "execution_count": 891,
     "metadata": {},
     "output_type": "execute_result"
    }
   ],
   "source": [
    "linreg.score(X_test, y_test)\n",
    "#Baja un poco el r cuadrado con nuestra prueba "
   ]
  },
  {
   "cell_type": "code",
   "execution_count": 875,
   "id": "2331b2f8",
   "metadata": {},
   "outputs": [
    {
     "data": {
      "text/plain": [
       "array([-2.56204380e+01,  1.16215457e+04,  1.15291694e+04, -1.25088918e+03,\n",
       "        2.67895565e+01,  8.60222948e+03,  4.15758851e-01,  1.62222108e+04,\n",
       "       -2.17269715e+02,  4.21319321e+01,  1.92626601e+03, -5.45921571e+02,\n",
       "       -7.66665196e+01,  1.06153921e+04,  5.05918472e+03, -4.85465976e+03])"
      ]
     },
     "execution_count": 875,
     "metadata": {},
     "output_type": "execute_result"
    }
   ],
   "source": [
    "#Son los coeficientes del modelo con las columnas utilicades en el df X\n",
    "linreg.coef_"
   ]
  },
  {
   "cell_type": "code",
   "execution_count": 876,
   "id": "c5073777",
   "metadata": {},
   "outputs": [
    {
     "data": {
      "text/plain": [
       "500889.7094415222"
      ]
     },
     "execution_count": 876,
     "metadata": {},
     "output_type": "execute_result"
    }
   ],
   "source": [
    "#Es el término independiente del modelo\n",
    "linreg.intercept_"
   ]
  }
 ],
 "metadata": {
  "kernelspec": {
   "display_name": "Python 3",
   "language": "python",
   "name": "python3"
  },
  "language_info": {
   "codemirror_mode": {
    "name": "ipython",
    "version": 3
   },
   "file_extension": ".py",
   "mimetype": "text/x-python",
   "name": "python",
   "nbconvert_exporter": "python",
   "pygments_lexer": "ipython3",
   "version": "3.8.8"
  }
 },
 "nbformat": 4,
 "nbformat_minor": 5
}
