{
 "cells": [
  {
   "cell_type": "markdown",
   "id": "9a5dc4d2",
   "metadata": {},
   "source": [
    "# Proyecto 5 -análisis estadístico\n",
    "## Análisis del precio de casas"
   ]
  },
  {
   "cell_type": "code",
   "execution_count": 169,
   "id": "6e6297e5",
   "metadata": {},
   "outputs": [],
   "source": [
    "import pandas as pd\n",
    "import numpy as np\n",
    "import matplotlib.pyplot as plt\n",
    "import seaborn as sns\n",
    "from sklearn.model_selection import train_test_split\n",
    "from sklearn.linear_model import LinearRegression\n",
    "from sklearn import metrics"
   ]
  },
  {
   "cell_type": "code",
   "execution_count": 170,
   "id": "5407669e",
   "metadata": {},
   "outputs": [],
   "source": [
    "df = pd.read_csv(\"train.csv\")"
   ]
  },
  {
   "cell_type": "markdown",
   "id": "b8f8e3c7",
   "metadata": {},
   "source": [
    "## 1. Exploración y limpieza de la df"
   ]
  },
  {
   "cell_type": "code",
   "execution_count": 171,
   "id": "2e376321",
   "metadata": {
    "scrolled": false
   },
   "outputs": [
    {
     "data": {
      "text/html": [
       "<div>\n",
       "<style scoped>\n",
       "    .dataframe tbody tr th:only-of-type {\n",
       "        vertical-align: middle;\n",
       "    }\n",
       "\n",
       "    .dataframe tbody tr th {\n",
       "        vertical-align: top;\n",
       "    }\n",
       "\n",
       "    .dataframe thead th {\n",
       "        text-align: right;\n",
       "    }\n",
       "</style>\n",
       "<table border=\"1\" class=\"dataframe\">\n",
       "  <thead>\n",
       "    <tr style=\"text-align: right;\">\n",
       "      <th></th>\n",
       "      <th>Id</th>\n",
       "      <th>MSSubClass</th>\n",
       "      <th>MSZoning</th>\n",
       "      <th>LotFrontage</th>\n",
       "      <th>LotArea</th>\n",
       "      <th>Street</th>\n",
       "      <th>Alley</th>\n",
       "      <th>LotShape</th>\n",
       "      <th>LandContour</th>\n",
       "      <th>Utilities</th>\n",
       "      <th>...</th>\n",
       "      <th>PoolArea</th>\n",
       "      <th>PoolQC</th>\n",
       "      <th>Fence</th>\n",
       "      <th>MiscFeature</th>\n",
       "      <th>MiscVal</th>\n",
       "      <th>MoSold</th>\n",
       "      <th>YrSold</th>\n",
       "      <th>SaleType</th>\n",
       "      <th>SaleCondition</th>\n",
       "      <th>SalePrice</th>\n",
       "    </tr>\n",
       "  </thead>\n",
       "  <tbody>\n",
       "    <tr>\n",
       "      <th>0</th>\n",
       "      <td>1</td>\n",
       "      <td>60</td>\n",
       "      <td>RL</td>\n",
       "      <td>65.0</td>\n",
       "      <td>8450</td>\n",
       "      <td>Pave</td>\n",
       "      <td>NaN</td>\n",
       "      <td>Reg</td>\n",
       "      <td>Lvl</td>\n",
       "      <td>AllPub</td>\n",
       "      <td>...</td>\n",
       "      <td>0</td>\n",
       "      <td>NaN</td>\n",
       "      <td>NaN</td>\n",
       "      <td>NaN</td>\n",
       "      <td>0</td>\n",
       "      <td>2</td>\n",
       "      <td>2008</td>\n",
       "      <td>WD</td>\n",
       "      <td>Normal</td>\n",
       "      <td>208500</td>\n",
       "    </tr>\n",
       "    <tr>\n",
       "      <th>1</th>\n",
       "      <td>2</td>\n",
       "      <td>20</td>\n",
       "      <td>RL</td>\n",
       "      <td>80.0</td>\n",
       "      <td>9600</td>\n",
       "      <td>Pave</td>\n",
       "      <td>NaN</td>\n",
       "      <td>Reg</td>\n",
       "      <td>Lvl</td>\n",
       "      <td>AllPub</td>\n",
       "      <td>...</td>\n",
       "      <td>0</td>\n",
       "      <td>NaN</td>\n",
       "      <td>NaN</td>\n",
       "      <td>NaN</td>\n",
       "      <td>0</td>\n",
       "      <td>5</td>\n",
       "      <td>2007</td>\n",
       "      <td>WD</td>\n",
       "      <td>Normal</td>\n",
       "      <td>181500</td>\n",
       "    </tr>\n",
       "    <tr>\n",
       "      <th>2</th>\n",
       "      <td>3</td>\n",
       "      <td>60</td>\n",
       "      <td>RL</td>\n",
       "      <td>68.0</td>\n",
       "      <td>11250</td>\n",
       "      <td>Pave</td>\n",
       "      <td>NaN</td>\n",
       "      <td>IR1</td>\n",
       "      <td>Lvl</td>\n",
       "      <td>AllPub</td>\n",
       "      <td>...</td>\n",
       "      <td>0</td>\n",
       "      <td>NaN</td>\n",
       "      <td>NaN</td>\n",
       "      <td>NaN</td>\n",
       "      <td>0</td>\n",
       "      <td>9</td>\n",
       "      <td>2008</td>\n",
       "      <td>WD</td>\n",
       "      <td>Normal</td>\n",
       "      <td>223500</td>\n",
       "    </tr>\n",
       "    <tr>\n",
       "      <th>3</th>\n",
       "      <td>4</td>\n",
       "      <td>70</td>\n",
       "      <td>RL</td>\n",
       "      <td>60.0</td>\n",
       "      <td>9550</td>\n",
       "      <td>Pave</td>\n",
       "      <td>NaN</td>\n",
       "      <td>IR1</td>\n",
       "      <td>Lvl</td>\n",
       "      <td>AllPub</td>\n",
       "      <td>...</td>\n",
       "      <td>0</td>\n",
       "      <td>NaN</td>\n",
       "      <td>NaN</td>\n",
       "      <td>NaN</td>\n",
       "      <td>0</td>\n",
       "      <td>2</td>\n",
       "      <td>2006</td>\n",
       "      <td>WD</td>\n",
       "      <td>Abnorml</td>\n",
       "      <td>140000</td>\n",
       "    </tr>\n",
       "    <tr>\n",
       "      <th>4</th>\n",
       "      <td>5</td>\n",
       "      <td>60</td>\n",
       "      <td>RL</td>\n",
       "      <td>84.0</td>\n",
       "      <td>14260</td>\n",
       "      <td>Pave</td>\n",
       "      <td>NaN</td>\n",
       "      <td>IR1</td>\n",
       "      <td>Lvl</td>\n",
       "      <td>AllPub</td>\n",
       "      <td>...</td>\n",
       "      <td>0</td>\n",
       "      <td>NaN</td>\n",
       "      <td>NaN</td>\n",
       "      <td>NaN</td>\n",
       "      <td>0</td>\n",
       "      <td>12</td>\n",
       "      <td>2008</td>\n",
       "      <td>WD</td>\n",
       "      <td>Normal</td>\n",
       "      <td>250000</td>\n",
       "    </tr>\n",
       "  </tbody>\n",
       "</table>\n",
       "<p>5 rows × 81 columns</p>\n",
       "</div>"
      ],
      "text/plain": [
       "   Id  MSSubClass MSZoning  LotFrontage  LotArea Street Alley LotShape  \\\n",
       "0   1          60       RL         65.0     8450   Pave   NaN      Reg   \n",
       "1   2          20       RL         80.0     9600   Pave   NaN      Reg   \n",
       "2   3          60       RL         68.0    11250   Pave   NaN      IR1   \n",
       "3   4          70       RL         60.0     9550   Pave   NaN      IR1   \n",
       "4   5          60       RL         84.0    14260   Pave   NaN      IR1   \n",
       "\n",
       "  LandContour Utilities  ... PoolArea PoolQC Fence MiscFeature MiscVal MoSold  \\\n",
       "0         Lvl    AllPub  ...        0    NaN   NaN         NaN       0      2   \n",
       "1         Lvl    AllPub  ...        0    NaN   NaN         NaN       0      5   \n",
       "2         Lvl    AllPub  ...        0    NaN   NaN         NaN       0      9   \n",
       "3         Lvl    AllPub  ...        0    NaN   NaN         NaN       0      2   \n",
       "4         Lvl    AllPub  ...        0    NaN   NaN         NaN       0     12   \n",
       "\n",
       "  YrSold  SaleType  SaleCondition  SalePrice  \n",
       "0   2008        WD         Normal     208500  \n",
       "1   2007        WD         Normal     181500  \n",
       "2   2008        WD         Normal     223500  \n",
       "3   2006        WD        Abnorml     140000  \n",
       "4   2008        WD         Normal     250000  \n",
       "\n",
       "[5 rows x 81 columns]"
      ]
     },
     "execution_count": 171,
     "metadata": {},
     "output_type": "execute_result"
    }
   ],
   "source": [
    "df.head()"
   ]
  },
  {
   "cell_type": "code",
   "execution_count": 172,
   "id": "14b36007",
   "metadata": {
    "scrolled": true
   },
   "outputs": [
    {
     "data": {
      "text/plain": [
       "Normal     1198\n",
       "Partial     125\n",
       "Abnorml     101\n",
       "Family       20\n",
       "Alloca       12\n",
       "AdjLand       4\n",
       "Name: SaleCondition, dtype: int64"
      ]
     },
     "execution_count": 172,
     "metadata": {},
     "output_type": "execute_result"
    }
   ],
   "source": [
    "df.SaleCondition.value_counts() \n",
    "# para delimiar el estudio aún más filtraré la base eligiendo sólo las ventas que tuvieron una cond"
   ]
  },
  {
   "cell_type": "code",
   "execution_count": 173,
   "id": "7046c8f1",
   "metadata": {},
   "outputs": [],
   "source": [
    "#df=df[df.SaleCondition=='Normal']"
   ]
  },
  {
   "cell_type": "code",
   "execution_count": 174,
   "id": "6fad7e40",
   "metadata": {
    "scrolled": true
   },
   "outputs": [
    {
     "name": "stdout",
     "output_type": "stream",
     "text": [
      "<class 'pandas.core.frame.DataFrame'>\n",
      "RangeIndex: 1460 entries, 0 to 1459\n",
      "Data columns (total 81 columns):\n",
      " #   Column         Non-Null Count  Dtype  \n",
      "---  ------         --------------  -----  \n",
      " 0   Id             1460 non-null   int64  \n",
      " 1   MSSubClass     1460 non-null   int64  \n",
      " 2   MSZoning       1460 non-null   object \n",
      " 3   LotFrontage    1201 non-null   float64\n",
      " 4   LotArea        1460 non-null   int64  \n",
      " 5   Street         1460 non-null   object \n",
      " 6   Alley          91 non-null     object \n",
      " 7   LotShape       1460 non-null   object \n",
      " 8   LandContour    1460 non-null   object \n",
      " 9   Utilities      1460 non-null   object \n",
      " 10  LotConfig      1460 non-null   object \n",
      " 11  LandSlope      1460 non-null   object \n",
      " 12  Neighborhood   1460 non-null   object \n",
      " 13  Condition1     1460 non-null   object \n",
      " 14  Condition2     1460 non-null   object \n",
      " 15  BldgType       1460 non-null   object \n",
      " 16  HouseStyle     1460 non-null   object \n",
      " 17  OverallQual    1460 non-null   int64  \n",
      " 18  OverallCond    1460 non-null   int64  \n",
      " 19  YearBuilt      1460 non-null   int64  \n",
      " 20  YearRemodAdd   1460 non-null   int64  \n",
      " 21  RoofStyle      1460 non-null   object \n",
      " 22  RoofMatl       1460 non-null   object \n",
      " 23  Exterior1st    1460 non-null   object \n",
      " 24  Exterior2nd    1460 non-null   object \n",
      " 25  MasVnrType     1452 non-null   object \n",
      " 26  MasVnrArea     1452 non-null   float64\n",
      " 27  ExterQual      1460 non-null   object \n",
      " 28  ExterCond      1460 non-null   object \n",
      " 29  Foundation     1460 non-null   object \n",
      " 30  BsmtQual       1423 non-null   object \n",
      " 31  BsmtCond       1423 non-null   object \n",
      " 32  BsmtExposure   1422 non-null   object \n",
      " 33  BsmtFinType1   1423 non-null   object \n",
      " 34  BsmtFinSF1     1460 non-null   int64  \n",
      " 35  BsmtFinType2   1422 non-null   object \n",
      " 36  BsmtFinSF2     1460 non-null   int64  \n",
      " 37  BsmtUnfSF      1460 non-null   int64  \n",
      " 38  TotalBsmtSF    1460 non-null   int64  \n",
      " 39  Heating        1460 non-null   object \n",
      " 40  HeatingQC      1460 non-null   object \n",
      " 41  CentralAir     1460 non-null   object \n",
      " 42  Electrical     1459 non-null   object \n",
      " 43  1stFlrSF       1460 non-null   int64  \n",
      " 44  2ndFlrSF       1460 non-null   int64  \n",
      " 45  LowQualFinSF   1460 non-null   int64  \n",
      " 46  GrLivArea      1460 non-null   int64  \n",
      " 47  BsmtFullBath   1460 non-null   int64  \n",
      " 48  BsmtHalfBath   1460 non-null   int64  \n",
      " 49  FullBath       1460 non-null   int64  \n",
      " 50  HalfBath       1460 non-null   int64  \n",
      " 51  BedroomAbvGr   1460 non-null   int64  \n",
      " 52  KitchenAbvGr   1460 non-null   int64  \n",
      " 53  KitchenQual    1460 non-null   object \n",
      " 54  TotRmsAbvGrd   1460 non-null   int64  \n",
      " 55  Functional     1460 non-null   object \n",
      " 56  Fireplaces     1460 non-null   int64  \n",
      " 57  FireplaceQu    770 non-null    object \n",
      " 58  GarageType     1379 non-null   object \n",
      " 59  GarageYrBlt    1379 non-null   float64\n",
      " 60  GarageFinish   1379 non-null   object \n",
      " 61  GarageCars     1460 non-null   int64  \n",
      " 62  GarageArea     1460 non-null   int64  \n",
      " 63  GarageQual     1379 non-null   object \n",
      " 64  GarageCond     1379 non-null   object \n",
      " 65  PavedDrive     1460 non-null   object \n",
      " 66  WoodDeckSF     1460 non-null   int64  \n",
      " 67  OpenPorchSF    1460 non-null   int64  \n",
      " 68  EnclosedPorch  1460 non-null   int64  \n",
      " 69  3SsnPorch      1460 non-null   int64  \n",
      " 70  ScreenPorch    1460 non-null   int64  \n",
      " 71  PoolArea       1460 non-null   int64  \n",
      " 72  PoolQC         7 non-null      object \n",
      " 73  Fence          281 non-null    object \n",
      " 74  MiscFeature    54 non-null     object \n",
      " 75  MiscVal        1460 non-null   int64  \n",
      " 76  MoSold         1460 non-null   int64  \n",
      " 77  YrSold         1460 non-null   int64  \n",
      " 78  SaleType       1460 non-null   object \n",
      " 79  SaleCondition  1460 non-null   object \n",
      " 80  SalePrice      1460 non-null   int64  \n",
      "dtypes: float64(3), int64(35), object(43)\n",
      "memory usage: 924.0+ KB\n"
     ]
    }
   ],
   "source": [
    "df.info()"
   ]
  },
  {
   "cell_type": "code",
   "execution_count": 175,
   "id": "10d61329",
   "metadata": {},
   "outputs": [],
   "source": [
    "# En principio resaltan las variables de alley, Fireplace, PoolQC, Fence, MiscFeature por el número de nulls\n",
    "# Sin embargo es por el tipo de variables, que sean características que no todas las casas tienen:\n",
    "#      - Alley: Type of alley access to property\n",
    "#      - FireplaceQu: Fireplace quality\n",
    "#      - PoolQC: Pool quality\n",
    "#      - Fence: Fence quality\n",
    "#      - MiscFeature: Miscellaneous feature not covered in other categories"
   ]
  },
  {
   "cell_type": "markdown",
   "id": "2d1c84cf",
   "metadata": {},
   "source": [
    "### Conversión de variables"
   ]
  },
  {
   "cell_type": "markdown",
   "id": "0fbf87fc",
   "metadata": {},
   "source": [
    "#### Variables dumies\n",
    "Algunas variables de tipo categóricas serán convertidas en dummies:\n",
    "- LandContour\n",
    "- Utilities: Type of utilities available\n",
    "- Neighborhood\n",
    "- ExterCond: Evaluates the present condition of the material on the exterior\n",
    "- HeatingQC: Heating quality and condition\n",
    "- MiscFeature: Miscellaneous feature not covered in other categories"
   ]
  },
  {
   "cell_type": "code",
   "execution_count": 176,
   "id": "2f1a5a19",
   "metadata": {},
   "outputs": [],
   "source": [
    "df_dummies=pd.get_dummies(df[['LandContour', 'Utilities', 'Neighborhood', 'ExterCond', 'HeatingQC', 'MiscFeature', 'Functional']])"
   ]
  },
  {
   "cell_type": "markdown",
   "id": "422a3019",
   "metadata": {},
   "source": [
    "### Correlación entre variable SalePrice y las variables de interés\n",
    "\n",
    "Nuestra variable dependiente es SalePrice, así que es útil obtener la correlación entre esta y otras variables"
   ]
  },
  {
   "cell_type": "code",
   "execution_count": 177,
   "id": "299997cd",
   "metadata": {},
   "outputs": [],
   "source": [
    "cols = list(df)\n",
    "cols = [cols[-1]] + cols[:-1]\n",
    "df = df[cols]"
   ]
  },
  {
   "cell_type": "code",
   "execution_count": 178,
   "id": "993817b2",
   "metadata": {
    "scrolled": true
   },
   "outputs": [],
   "source": [
    "df=df.drop(labels='Id', axis=1)"
   ]
  },
  {
   "cell_type": "code",
   "execution_count": 179,
   "id": "e69b0f54",
   "metadata": {
    "scrolled": false
   },
   "outputs": [
    {
     "data": {
      "text/html": [
       "<div>\n",
       "<style scoped>\n",
       "    .dataframe tbody tr th:only-of-type {\n",
       "        vertical-align: middle;\n",
       "    }\n",
       "\n",
       "    .dataframe tbody tr th {\n",
       "        vertical-align: top;\n",
       "    }\n",
       "\n",
       "    .dataframe thead th {\n",
       "        text-align: right;\n",
       "    }\n",
       "</style>\n",
       "<table border=\"1\" class=\"dataframe\">\n",
       "  <thead>\n",
       "    <tr style=\"text-align: right;\">\n",
       "      <th></th>\n",
       "      <th>SalePrice</th>\n",
       "    </tr>\n",
       "  </thead>\n",
       "  <tbody>\n",
       "    <tr>\n",
       "      <th>OverallQual</th>\n",
       "      <td>0.790982</td>\n",
       "    </tr>\n",
       "    <tr>\n",
       "      <th>GrLivArea</th>\n",
       "      <td>0.708624</td>\n",
       "    </tr>\n",
       "    <tr>\n",
       "      <th>GarageCars</th>\n",
       "      <td>0.640409</td>\n",
       "    </tr>\n",
       "    <tr>\n",
       "      <th>GarageArea</th>\n",
       "      <td>0.623431</td>\n",
       "    </tr>\n",
       "    <tr>\n",
       "      <th>TotalBsmtSF</th>\n",
       "      <td>0.613581</td>\n",
       "    </tr>\n",
       "    <tr>\n",
       "      <th>1stFlrSF</th>\n",
       "      <td>0.605852</td>\n",
       "    </tr>\n",
       "    <tr>\n",
       "      <th>FullBath</th>\n",
       "      <td>0.560664</td>\n",
       "    </tr>\n",
       "  </tbody>\n",
       "</table>\n",
       "</div>"
      ],
      "text/plain": [
       "             SalePrice\n",
       "OverallQual   0.790982\n",
       "GrLivArea     0.708624\n",
       "GarageCars    0.640409\n",
       "GarageArea    0.623431\n",
       "TotalBsmtSF   0.613581\n",
       "1stFlrSF      0.605852\n",
       "FullBath      0.560664"
      ]
     },
     "execution_count": 179,
     "metadata": {},
     "output_type": "execute_result"
    }
   ],
   "source": [
    "# Para ver qué variables pueden servirnos por su relación con el precio hacemos una correlación\n",
    "df.corr().loc[:'SalePrice'].T.sort_values('SalePrice', ascending=False).head(11)[1:8]"
   ]
  },
  {
   "cell_type": "code",
   "execution_count": 180,
   "id": "8065fddb",
   "metadata": {
    "scrolled": true
   },
   "outputs": [
    {
     "data": {
      "text/html": [
       "<div>\n",
       "<style scoped>\n",
       "    .dataframe tbody tr th:only-of-type {\n",
       "        vertical-align: middle;\n",
       "    }\n",
       "\n",
       "    .dataframe tbody tr th {\n",
       "        vertical-align: top;\n",
       "    }\n",
       "\n",
       "    .dataframe thead th {\n",
       "        text-align: right;\n",
       "    }\n",
       "</style>\n",
       "<table border=\"1\" class=\"dataframe\">\n",
       "  <thead>\n",
       "    <tr style=\"text-align: right;\">\n",
       "      <th></th>\n",
       "      <th>SalePrice</th>\n",
       "    </tr>\n",
       "  </thead>\n",
       "  <tbody>\n",
       "    <tr>\n",
       "      <th>3SsnPorch</th>\n",
       "      <td>0.044584</td>\n",
       "    </tr>\n",
       "    <tr>\n",
       "      <th>BsmtFinSF2</th>\n",
       "      <td>-0.011378</td>\n",
       "    </tr>\n",
       "    <tr>\n",
       "      <th>BsmtHalfBath</th>\n",
       "      <td>-0.016844</td>\n",
       "    </tr>\n",
       "    <tr>\n",
       "      <th>MiscVal</th>\n",
       "      <td>-0.021190</td>\n",
       "    </tr>\n",
       "    <tr>\n",
       "      <th>LowQualFinSF</th>\n",
       "      <td>-0.025606</td>\n",
       "    </tr>\n",
       "    <tr>\n",
       "      <th>YrSold</th>\n",
       "      <td>-0.028923</td>\n",
       "    </tr>\n",
       "    <tr>\n",
       "      <th>OverallCond</th>\n",
       "      <td>-0.077856</td>\n",
       "    </tr>\n",
       "    <tr>\n",
       "      <th>MSSubClass</th>\n",
       "      <td>-0.084284</td>\n",
       "    </tr>\n",
       "    <tr>\n",
       "      <th>EnclosedPorch</th>\n",
       "      <td>-0.128578</td>\n",
       "    </tr>\n",
       "    <tr>\n",
       "      <th>KitchenAbvGr</th>\n",
       "      <td>-0.135907</td>\n",
       "    </tr>\n",
       "  </tbody>\n",
       "</table>\n",
       "</div>"
      ],
      "text/plain": [
       "               SalePrice\n",
       "3SsnPorch       0.044584\n",
       "BsmtFinSF2     -0.011378\n",
       "BsmtHalfBath   -0.016844\n",
       "MiscVal        -0.021190\n",
       "LowQualFinSF   -0.025606\n",
       "YrSold         -0.028923\n",
       "OverallCond    -0.077856\n",
       "MSSubClass     -0.084284\n",
       "EnclosedPorch  -0.128578\n",
       "KitchenAbvGr   -0.135907"
      ]
     },
     "execution_count": 180,
     "metadata": {},
     "output_type": "execute_result"
    }
   ],
   "source": [
    "df.corr().loc[:'SalePrice'].T.sort_values('SalePrice', ascending=False).tail(10)"
   ]
  },
  {
   "cell_type": "code",
   "execution_count": 181,
   "id": "2fe46ce7",
   "metadata": {},
   "outputs": [],
   "source": [
    "# Parece que las variables con correlación positiva tienen un impacto más grande en el precio de las propiedades\n",
    "# por lo que limitaré mi análisis las primeras 6, sin contar a la variable 'GarageCars'."
   ]
  },
  {
   "cell_type": "code",
   "execution_count": 182,
   "id": "ca9f6d58",
   "metadata": {
    "scrolled": true
   },
   "outputs": [],
   "source": [
    "df_corr = df.corr().loc[:'SalePrice'].T.sort_values('SalePrice', ascending=False)[1:8]"
   ]
  },
  {
   "cell_type": "code",
   "execution_count": 183,
   "id": "eca138eb",
   "metadata": {},
   "outputs": [],
   "source": [
    "cols.remove('GarageCars')"
   ]
  },
  {
   "cell_type": "code",
   "execution_count": 184,
   "id": "46545881",
   "metadata": {
    "scrolled": true
   },
   "outputs": [],
   "source": [
    "# limito mi df a as variables de interés\n",
    "df_var= df[df_corr.index]\n",
    "cols = list(df_var)\n",
    "cols.remove('GarageCars')\n",
    "#cols.append('Functional_categorical')\n",
    "cols.append('SalePrice')\n",
    "cols = [cols[-1]] + cols[:-1]\n",
    "df_var = df[cols]"
   ]
  },
  {
   "cell_type": "code",
   "execution_count": 185,
   "id": "63e64aab",
   "metadata": {
    "scrolled": true
   },
   "outputs": [],
   "source": [
    "df_var = df_var[cols]"
   ]
  },
  {
   "cell_type": "code",
   "execution_count": 186,
   "id": "ea28370e",
   "metadata": {},
   "outputs": [],
   "source": [
    "df_var = df_var.join(df_dummies)"
   ]
  },
  {
   "cell_type": "markdown",
   "id": "51ef58a3",
   "metadata": {},
   "source": [
    "## 2. Análisis de variables principales"
   ]
  },
  {
   "cell_type": "code",
   "execution_count": 187,
   "id": "eab6768a",
   "metadata": {},
   "outputs": [],
   "source": [
    "import statsmodels.api as sm"
   ]
  },
  {
   "cell_type": "markdown",
   "id": "6ca35486",
   "metadata": {},
   "source": [
    "Las variables elegidas para el modelo son las siguientes:\n",
    "1. OverallQual: Rates the overall material and finish of the house\n",
    "2. GrLivArea: Above grade (ground) living area square feet\n",
    "3. TotalBsmtSF: Total square feet of basement area\n",
    "4. 1stFlrSF: First Floor square feet\n",
    "5. FullBath: Full bathrooms above grade\n",
    "\n",
    "Y las variables dummies:\n",
    "1. LandContour: Flatness of the property\n",
    "2. Neighborhood: Physical locations within Ames city limits\n",
    "3. ExterCond: Evaluates the present condition of the material on the exterior\n",
    "4. MiscFeature: Miscellaneous feature not covered in other categories\n",
    "5. Functional: Home functionality (Assume typical unless deductions are warranted)"
   ]
  },
  {
   "cell_type": "code",
   "execution_count": 189,
   "id": "733166cf",
   "metadata": {},
   "outputs": [
    {
     "data": {
      "text/plain": [
       "<seaborn.axisgrid.PairGrid at 0x7f940633a880>"
      ]
     },
     "execution_count": 189,
     "metadata": {},
     "output_type": "execute_result"
    },
    {
     "data": {
      "image/png": "[encoded data removed]",
      "text/plain": [
       "<Figure size 1260x180 with 8 Axes>"
      ]
     },
     "metadata": {
      "needs_background": "light"
     },
     "output_type": "display_data"
    }
   ],
   "source": [
    "sns.pairplot(df_var, y_vars='SalePrice', x_vars=df_var.iloc[:,0:7])"
   ]
  },
  {
   "cell_type": "markdown",
   "id": "590e7668",
   "metadata": {},
   "source": [
    "### 1. Análisis de regresión lineal"
   ]
  },
  {
   "cell_type": "code",
   "execution_count": 190,
   "id": "ec714b51",
   "metadata": {},
   "outputs": [],
   "source": [
    "X = df_var.dropna()\n",
    "y = X.SalePrice\n",
    "X = sm.add_constant(X.drop('SalePrice', axis=1))"
   ]
  },
  {
   "cell_type": "code",
   "execution_count": 191,
   "id": "1bb7e35d",
   "metadata": {},
   "outputs": [],
   "source": [
    "X_train, X_test, y_train, y_test = train_test_split(X, y, random_state = 22, test_size=0.2)"
   ]
  },
  {
   "cell_type": "code",
   "execution_count": 192,
   "id": "e774c264",
   "metadata": {},
   "outputs": [],
   "source": [
    "lrm = LinearRegression().fit(X_train, y_train)"
   ]
  },
  {
   "cell_type": "code",
   "execution_count": 193,
   "id": "86a8b76e",
   "metadata": {},
   "outputs": [
    {
     "data": {
      "text/plain": [
       "0.8078882607384523"
      ]
     },
     "execution_count": 193,
     "metadata": {},
     "output_type": "execute_result"
    }
   ],
   "source": [
    "lrm.score(X_train, y_train)"
   ]
  },
  {
   "cell_type": "code",
   "execution_count": 194,
   "id": "f77e7d6a",
   "metadata": {
    "scrolled": true
   },
   "outputs": [
    {
     "data": {
      "text/plain": [
       "0.8464104158618241"
      ]
     },
     "execution_count": 194,
     "metadata": {},
     "output_type": "execute_result"
    }
   ],
   "source": [
    "lrm.score(X_test, y_test)"
   ]
  },
  {
   "cell_type": "markdown",
   "id": "75d72dc5",
   "metadata": {},
   "source": [
    "Parece que el modelo no está cayendo en overfitting o en underfitting."
   ]
  },
  {
   "cell_type": "markdown",
   "id": "1d715d59",
   "metadata": {},
   "source": [
    "### Interpretación del grado de explicación de las variables del modelo $Ordinary Least Squares$"
   ]
  },
  {
   "cell_type": "code",
   "execution_count": 195,
   "id": "03237206",
   "metadata": {},
   "outputs": [
    {
     "data": {
      "text/plain": [
       "<statsmodels.regression.linear_model.RegressionResultsWrapper at 0x7f9401a0a7c0>"
      ]
     },
     "execution_count": 195,
     "metadata": {},
     "output_type": "execute_result"
    }
   ],
   "source": [
    "sm.OLS(y, X.dropna()).fit()"
   ]
  },
  {
   "cell_type": "code",
   "execution_count": 196,
   "id": "cd857e8c",
   "metadata": {
    "scrolled": true
   },
   "outputs": [
    {
     "data": {
      "text/html": [
       "<table class=\"simpletable\">\n",
       "<caption>OLS Regression Results</caption>\n",
       "<tr>\n",
       "  <th>Dep. Variable:</th>        <td>SalePrice</td>    <th>  R-squared:         </th> <td>   0.817</td> \n",
       "</tr>\n",
       "<tr>\n",
       "  <th>Model:</th>                   <td>OLS</td>       <th>  Adj. R-squared:    </th> <td>   0.810</td> \n",
       "</tr>\n",
       "<tr>\n",
       "  <th>Method:</th>             <td>Least Squares</td>  <th>  F-statistic:       </th> <td>   120.5</td> \n",
       "</tr>\n",
       "<tr>\n",
       "  <th>Date:</th>             <td>Tue, 08 Feb 2022</td> <th>  Prob (F-statistic):</th>  <td>  0.00</td>  \n",
       "</tr>\n",
       "<tr>\n",
       "  <th>Time:</th>                 <td>18:05:04</td>     <th>  Log-Likelihood:    </th> <td> -17306.</td> \n",
       "</tr>\n",
       "<tr>\n",
       "  <th>No. Observations:</th>      <td>  1460</td>      <th>  AIC:               </th> <td>3.472e+04</td>\n",
       "</tr>\n",
       "<tr>\n",
       "  <th>Df Residuals:</th>          <td>  1407</td>      <th>  BIC:               </th> <td>3.500e+04</td>\n",
       "</tr>\n",
       "<tr>\n",
       "  <th>Df Model:</th>              <td>    52</td>      <th>                     </th>     <td> </td>    \n",
       "</tr>\n",
       "<tr>\n",
       "  <th>Covariance Type:</th>      <td>nonrobust</td>    <th>                     </th>     <td> </td>    \n",
       "</tr>\n",
       "</table>\n",
       "<table class=\"simpletable\">\n",
       "<tr>\n",
       "            <td></td>              <th>coef</th>     <th>std err</th>      <th>t</th>      <th>P>|t|</th>  <th>[0.025</th>    <th>0.975]</th>  \n",
       "</tr>\n",
       "<tr>\n",
       "  <th>const</th>                <td>-3.443e+04</td> <td> 9669.712</td> <td>   -3.560</td> <td> 0.000</td> <td>-5.34e+04</td> <td>-1.55e+04</td>\n",
       "</tr>\n",
       "<tr>\n",
       "  <th>OverallQual</th>          <td> 1.573e+04</td> <td> 1180.778</td> <td>   13.325</td> <td> 0.000</td> <td> 1.34e+04</td> <td>  1.8e+04</td>\n",
       "</tr>\n",
       "<tr>\n",
       "  <th>GrLivArea</th>            <td>   47.3212</td> <td>    3.009</td> <td>   15.728</td> <td> 0.000</td> <td>   41.419</td> <td>   53.223</td>\n",
       "</tr>\n",
       "<tr>\n",
       "  <th>GarageArea</th>           <td>   35.6109</td> <td>    5.851</td> <td>    6.086</td> <td> 0.000</td> <td>   24.132</td> <td>   47.090</td>\n",
       "</tr>\n",
       "<tr>\n",
       "  <th>TotalBsmtSF</th>          <td>   12.3692</td> <td>    4.021</td> <td>    3.076</td> <td> 0.002</td> <td>    4.482</td> <td>   20.256</td>\n",
       "</tr>\n",
       "<tr>\n",
       "  <th>1stFlrSF</th>             <td>   17.0376</td> <td>    4.925</td> <td>    3.460</td> <td> 0.001</td> <td>    7.377</td> <td>   26.698</td>\n",
       "</tr>\n",
       "<tr>\n",
       "  <th>FullBath</th>             <td>-1862.7399</td> <td> 2557.284</td> <td>   -0.728</td> <td> 0.466</td> <td>-6879.240</td> <td> 3153.761</td>\n",
       "</tr>\n",
       "<tr>\n",
       "  <th>LandContour_Bnk</th>      <td>-2.863e+04</td> <td> 4771.178</td> <td>   -6.000</td> <td> 0.000</td> <td> -3.8e+04</td> <td>-1.93e+04</td>\n",
       "</tr>\n",
       "<tr>\n",
       "  <th>LandContour_HLS</th>      <td> 1964.9316</td> <td> 5149.630</td> <td>    0.382</td> <td> 0.703</td> <td>-8136.847</td> <td> 1.21e+04</td>\n",
       "</tr>\n",
       "<tr>\n",
       "  <th>LandContour_Low</th>      <td> 4588.5439</td> <td> 5694.751</td> <td>    0.806</td> <td> 0.421</td> <td>-6582.573</td> <td> 1.58e+04</td>\n",
       "</tr>\n",
       "<tr>\n",
       "  <th>LandContour_Lvl</th>      <td>-1.235e+04</td> <td> 3303.855</td> <td>   -3.738</td> <td> 0.000</td> <td>-1.88e+04</td> <td>-5870.328</td>\n",
       "</tr>\n",
       "<tr>\n",
       "  <th>Utilities_AllPub</th>     <td> 7955.5701</td> <td> 1.42e+04</td> <td>    0.559</td> <td> 0.576</td> <td>   -2e+04</td> <td> 3.59e+04</td>\n",
       "</tr>\n",
       "<tr>\n",
       "  <th>Utilities_NoSeWa</th>     <td>-4.238e+04</td> <td> 2.16e+04</td> <td>   -1.960</td> <td> 0.050</td> <td>-8.48e+04</td> <td>   43.600</td>\n",
       "</tr>\n",
       "<tr>\n",
       "  <th>Neighborhood_Blmngtn</th> <td>-1.519e+04</td> <td> 8500.811</td> <td>   -1.786</td> <td> 0.074</td> <td>-3.19e+04</td> <td> 1490.621</td>\n",
       "</tr>\n",
       "<tr>\n",
       "  <th>Neighborhood_Blueste</th> <td>-2.196e+04</td> <td> 2.37e+04</td> <td>   -0.926</td> <td> 0.354</td> <td>-6.85e+04</td> <td> 2.45e+04</td>\n",
       "</tr>\n",
       "<tr>\n",
       "  <th>Neighborhood_BrDale</th>  <td>-2.837e+04</td> <td> 8737.977</td> <td>   -3.247</td> <td> 0.001</td> <td>-4.55e+04</td> <td>-1.12e+04</td>\n",
       "</tr>\n",
       "<tr>\n",
       "  <th>Neighborhood_BrkSide</th> <td>-1.049e+04</td> <td> 4896.480</td> <td>   -2.143</td> <td> 0.032</td> <td>-2.01e+04</td> <td> -889.171</td>\n",
       "</tr>\n",
       "<tr>\n",
       "  <th>Neighborhood_ClearCr</th> <td> 9755.5316</td> <td> 7148.115</td> <td>    1.365</td> <td> 0.173</td> <td>-4266.579</td> <td> 2.38e+04</td>\n",
       "</tr>\n",
       "<tr>\n",
       "  <th>Neighborhood_CollgCr</th> <td>-1002.0113</td> <td> 3399.846</td> <td>   -0.295</td> <td> 0.768</td> <td>-7671.323</td> <td> 5667.301</td>\n",
       "</tr>\n",
       "<tr>\n",
       "  <th>Neighborhood_Crawfor</th> <td> 1.086e+04</td> <td> 5213.559</td> <td>    2.082</td> <td> 0.037</td> <td>  629.022</td> <td> 2.11e+04</td>\n",
       "</tr>\n",
       "<tr>\n",
       "  <th>Neighborhood_Edwards</th> <td>-2.084e+04</td> <td> 3924.497</td> <td>   -5.310</td> <td> 0.000</td> <td>-2.85e+04</td> <td>-1.31e+04</td>\n",
       "</tr>\n",
       "<tr>\n",
       "  <th>Neighborhood_Gilbert</th> <td> -414.8263</td> <td> 4350.953</td> <td>   -0.095</td> <td> 0.924</td> <td>-8949.880</td> <td> 8120.228</td>\n",
       "</tr>\n",
       "<tr>\n",
       "  <th>Neighborhood_IDOTRR</th>  <td>-2.594e+04</td> <td> 6111.012</td> <td>   -4.245</td> <td> 0.000</td> <td>-3.79e+04</td> <td> -1.4e+04</td>\n",
       "</tr>\n",
       "<tr>\n",
       "  <th>Neighborhood_MeadowV</th> <td>-1.559e+04</td> <td> 8465.972</td> <td>   -1.842</td> <td> 0.066</td> <td>-3.22e+04</td> <td> 1015.827</td>\n",
       "</tr>\n",
       "<tr>\n",
       "  <th>Neighborhood_Mitchel</th> <td> -1.29e+04</td> <td> 5098.833</td> <td>   -2.531</td> <td> 0.011</td> <td>-2.29e+04</td> <td>-2901.548</td>\n",
       "</tr>\n",
       "<tr>\n",
       "  <th>Neighborhood_NAmes</th>   <td>-1.276e+04</td> <td> 3031.286</td> <td>   -4.211</td> <td> 0.000</td> <td>-1.87e+04</td> <td>-6818.464</td>\n",
       "</tr>\n",
       "<tr>\n",
       "  <th>Neighborhood_NPkVill</th> <td>-1.488e+04</td> <td> 1.14e+04</td> <td>   -1.303</td> <td> 0.193</td> <td>-3.73e+04</td> <td> 7530.405</td>\n",
       "</tr>\n",
       "<tr>\n",
       "  <th>Neighborhood_NWAmes</th>  <td>-1.147e+04</td> <td> 4407.835</td> <td>   -2.603</td> <td> 0.009</td> <td>-2.01e+04</td> <td>-2826.015</td>\n",
       "</tr>\n",
       "<tr>\n",
       "  <th>Neighborhood_NoRidge</th> <td> 5.152e+04</td> <td> 5965.731</td> <td>    8.636</td> <td> 0.000</td> <td> 3.98e+04</td> <td> 6.32e+04</td>\n",
       "</tr>\n",
       "<tr>\n",
       "  <th>Neighborhood_NridgHt</th> <td> 5.169e+04</td> <td> 4887.016</td> <td>   10.578</td> <td> 0.000</td> <td> 4.21e+04</td> <td> 6.13e+04</td>\n",
       "</tr>\n",
       "<tr>\n",
       "  <th>Neighborhood_OldTown</th> <td>-3.094e+04</td> <td> 3769.665</td> <td>   -8.209</td> <td> 0.000</td> <td>-3.83e+04</td> <td>-2.35e+04</td>\n",
       "</tr>\n",
       "<tr>\n",
       "  <th>Neighborhood_SWISU</th>   <td> -2.36e+04</td> <td> 7309.789</td> <td>   -3.228</td> <td> 0.001</td> <td>-3.79e+04</td> <td>-9259.091</td>\n",
       "</tr>\n",
       "<tr>\n",
       "  <th>Neighborhood_Sawyer</th>  <td>-8962.1991</td> <td> 4445.981</td> <td>   -2.016</td> <td> 0.044</td> <td>-1.77e+04</td> <td> -240.735</td>\n",
       "</tr>\n",
       "<tr>\n",
       "  <th>Neighborhood_SawyerW</th> <td>-6677.1207</td> <td> 4681.519</td> <td>   -1.426</td> <td> 0.154</td> <td>-1.59e+04</td> <td> 2506.388</td>\n",
       "</tr>\n",
       "<tr>\n",
       "  <th>Neighborhood_Somerst</th> <td> 8346.5464</td> <td> 4434.026</td> <td>    1.882</td> <td> 0.060</td> <td> -351.467</td> <td>  1.7e+04</td>\n",
       "</tr>\n",
       "<tr>\n",
       "  <th>Neighborhood_StoneBr</th> <td> 5.271e+04</td> <td> 7252.385</td> <td>    7.268</td> <td> 0.000</td> <td> 3.85e+04</td> <td> 6.69e+04</td>\n",
       "</tr>\n",
       "<tr>\n",
       "  <th>Neighborhood_Timber</th>  <td> 1.292e+04</td> <td> 5933.733</td> <td>    2.177</td> <td> 0.030</td> <td> 1279.287</td> <td> 2.46e+04</td>\n",
       "</tr>\n",
       "<tr>\n",
       "  <th>Neighborhood_Veenker</th> <td> 2.977e+04</td> <td> 1.03e+04</td> <td>    2.904</td> <td> 0.004</td> <td> 9664.061</td> <td> 4.99e+04</td>\n",
       "</tr>\n",
       "<tr>\n",
       "  <th>ExterCond_Ex</th>         <td> 1.889e+04</td> <td> 1.82e+04</td> <td>    1.036</td> <td> 0.301</td> <td>-1.69e+04</td> <td> 5.47e+04</td>\n",
       "</tr>\n",
       "<tr>\n",
       "  <th>ExterCond_Fa</th>         <td>-1.478e+04</td> <td> 9572.223</td> <td>   -1.544</td> <td> 0.123</td> <td>-3.36e+04</td> <td> 3997.149</td>\n",
       "</tr>\n",
       "<tr>\n",
       "  <th>ExterCond_Gd</th>         <td>-3488.4171</td> <td> 8372.822</td> <td>   -0.417</td> <td> 0.677</td> <td>-1.99e+04</td> <td> 1.29e+04</td>\n",
       "</tr>\n",
       "<tr>\n",
       "  <th>ExterCond_Po</th>         <td>-2.725e+04</td> <td> 3.03e+04</td> <td>   -0.901</td> <td> 0.368</td> <td>-8.66e+04</td> <td> 3.21e+04</td>\n",
       "</tr>\n",
       "<tr>\n",
       "  <th>ExterCond_TA</th>         <td>-7797.0245</td> <td> 8093.905</td> <td>   -0.963</td> <td> 0.336</td> <td>-2.37e+04</td> <td> 8080.396</td>\n",
       "</tr>\n",
       "<tr>\n",
       "  <th>HeatingQC_Ex</th>         <td>  873.4482</td> <td> 6966.448</td> <td>    0.125</td> <td> 0.900</td> <td>-1.28e+04</td> <td> 1.45e+04</td>\n",
       "</tr>\n",
       "<tr>\n",
       "  <th>HeatingQC_Fa</th>         <td>-9062.8764</td> <td> 7877.315</td> <td>   -1.151</td> <td> 0.250</td> <td>-2.45e+04</td> <td> 6389.671</td>\n",
       "</tr>\n",
       "<tr>\n",
       "  <th>HeatingQC_Gd</th>         <td>-6535.2620</td> <td> 6982.768</td> <td>   -0.936</td> <td> 0.349</td> <td>-2.02e+04</td> <td> 7162.495</td>\n",
       "</tr>\n",
       "<tr>\n",
       "  <th>HeatingQC_Po</th>         <td>-1.086e+04</td> <td> 2.88e+04</td> <td>   -0.377</td> <td> 0.706</td> <td>-6.74e+04</td> <td> 4.57e+04</td>\n",
       "</tr>\n",
       "<tr>\n",
       "  <th>HeatingQC_TA</th>         <td>-8838.7969</td> <td> 6905.392</td> <td>   -1.280</td> <td> 0.201</td> <td>-2.24e+04</td> <td> 4707.175</td>\n",
       "</tr>\n",
       "<tr>\n",
       "  <th>MiscFeature_Gar2</th>     <td>-8687.2562</td> <td> 2.47e+04</td> <td>   -0.352</td> <td> 0.725</td> <td>-5.71e+04</td> <td> 3.97e+04</td>\n",
       "</tr>\n",
       "<tr>\n",
       "  <th>MiscFeature_Othr</th>     <td> 9442.1477</td> <td> 2.54e+04</td> <td>    0.372</td> <td> 0.710</td> <td>-4.04e+04</td> <td> 5.93e+04</td>\n",
       "</tr>\n",
       "<tr>\n",
       "  <th>MiscFeature_Shed</th>     <td> 2599.9969</td> <td> 5174.003</td> <td>    0.503</td> <td> 0.615</td> <td>-7549.595</td> <td> 1.27e+04</td>\n",
       "</tr>\n",
       "<tr>\n",
       "  <th>MiscFeature_TenC</th>     <td> -587.3040</td> <td>  3.5e+04</td> <td>   -0.017</td> <td> 0.987</td> <td>-6.93e+04</td> <td> 6.82e+04</td>\n",
       "</tr>\n",
       "<tr>\n",
       "  <th>Functional_Maj1</th>      <td> -631.3401</td> <td> 9975.986</td> <td>   -0.063</td> <td> 0.950</td> <td>-2.02e+04</td> <td> 1.89e+04</td>\n",
       "</tr>\n",
       "<tr>\n",
       "  <th>Functional_Maj2</th>      <td>-1.239e+04</td> <td> 1.47e+04</td> <td>   -0.844</td> <td> 0.399</td> <td>-4.12e+04</td> <td> 1.64e+04</td>\n",
       "</tr>\n",
       "<tr>\n",
       "  <th>Functional_Min1</th>      <td> 8720.5900</td> <td> 7915.028</td> <td>    1.102</td> <td> 0.271</td> <td>-6805.936</td> <td> 2.42e+04</td>\n",
       "</tr>\n",
       "<tr>\n",
       "  <th>Functional_Min2</th>      <td> 7662.0976</td> <td> 7782.654</td> <td>    0.985</td> <td> 0.325</td> <td>-7604.757</td> <td> 2.29e+04</td>\n",
       "</tr>\n",
       "<tr>\n",
       "  <th>Functional_Mod</th>       <td>  1.12e+04</td> <td> 9883.880</td> <td>    1.133</td> <td> 0.257</td> <td>-8187.242</td> <td> 3.06e+04</td>\n",
       "</tr>\n",
       "<tr>\n",
       "  <th>Functional_Sev</th>       <td> -6.92e+04</td> <td> 3.04e+04</td> <td>   -2.274</td> <td> 0.023</td> <td>-1.29e+05</td> <td>-9492.305</td>\n",
       "</tr>\n",
       "<tr>\n",
       "  <th>Functional_Typ</th>       <td> 2.021e+04</td> <td> 5874.803</td> <td>    3.440</td> <td> 0.001</td> <td> 8686.883</td> <td> 3.17e+04</td>\n",
       "</tr>\n",
       "</table>\n",
       "<table class=\"simpletable\">\n",
       "<tr>\n",
       "  <th>Omnibus:</th>       <td>402.204</td> <th>  Durbin-Watson:     </th> <td>   1.960</td> \n",
       "</tr>\n",
       "<tr>\n",
       "  <th>Prob(Omnibus):</th> <td> 0.000</td>  <th>  Jarque-Bera (JB):  </th> <td>35877.809</td>\n",
       "</tr>\n",
       "<tr>\n",
       "  <th>Skew:</th>          <td> 0.024</td>  <th>  Prob(JB):          </th> <td>    0.00</td> \n",
       "</tr>\n",
       "<tr>\n",
       "  <th>Kurtosis:</th>      <td>27.285</td>  <th>  Cond. No.          </th> <td>9.38e+16</td> \n",
       "</tr>\n",
       "</table><br/><br/>Notes:<br/>[1] Standard Errors assume that the covariance matrix of the errors is correctly specified.<br/>[2] The smallest eigenvalue is 9.05e-25. This might indicate that there are<br/>strong multicollinearity problems or that the design matrix is singular."
      ],
      "text/plain": [
       "<class 'statsmodels.iolib.summary.Summary'>\n",
       "\"\"\"\n",
       "                            OLS Regression Results                            \n",
       "==============================================================================\n",
       "Dep. Variable:              SalePrice   R-squared:                       0.817\n",
       "Model:                            OLS   Adj. R-squared:                  0.810\n",
       "Method:                 Least Squares   F-statistic:                     120.5\n",
       "Date:                Tue, 08 Feb 2022   Prob (F-statistic):               0.00\n",
       "Time:                        18:05:04   Log-Likelihood:                -17306.\n",
       "No. Observations:                1460   AIC:                         3.472e+04\n",
       "Df Residuals:                    1407   BIC:                         3.500e+04\n",
       "Df Model:                          52                                         \n",
       "Covariance Type:            nonrobust                                         \n",
       "========================================================================================\n",
       "                           coef    std err          t      P>|t|      [0.025      0.975]\n",
       "----------------------------------------------------------------------------------------\n",
       "const                -3.443e+04   9669.712     -3.560      0.000   -5.34e+04   -1.55e+04\n",
       "OverallQual           1.573e+04   1180.778     13.325      0.000    1.34e+04     1.8e+04\n",
       "GrLivArea               47.3212      3.009     15.728      0.000      41.419      53.223\n",
       "GarageArea              35.6109      5.851      6.086      0.000      24.132      47.090\n",
       "TotalBsmtSF             12.3692      4.021      3.076      0.002       4.482      20.256\n",
       "1stFlrSF                17.0376      4.925      3.460      0.001       7.377      26.698\n",
       "FullBath             -1862.7399   2557.284     -0.728      0.466   -6879.240    3153.761\n",
       "LandContour_Bnk      -2.863e+04   4771.178     -6.000      0.000    -3.8e+04   -1.93e+04\n",
       "LandContour_HLS       1964.9316   5149.630      0.382      0.703   -8136.847    1.21e+04\n",
       "LandContour_Low       4588.5439   5694.751      0.806      0.421   -6582.573    1.58e+04\n",
       "LandContour_Lvl      -1.235e+04   3303.855     -3.738      0.000   -1.88e+04   -5870.328\n",
       "Utilities_AllPub      7955.5701   1.42e+04      0.559      0.576      -2e+04    3.59e+04\n",
       "Utilities_NoSeWa     -4.238e+04   2.16e+04     -1.960      0.050   -8.48e+04      43.600\n",
       "Neighborhood_Blmngtn -1.519e+04   8500.811     -1.786      0.074   -3.19e+04    1490.621\n",
       "Neighborhood_Blueste -2.196e+04   2.37e+04     -0.926      0.354   -6.85e+04    2.45e+04\n",
       "Neighborhood_BrDale  -2.837e+04   8737.977     -3.247      0.001   -4.55e+04   -1.12e+04\n",
       "Neighborhood_BrkSide -1.049e+04   4896.480     -2.143      0.032   -2.01e+04    -889.171\n",
       "Neighborhood_ClearCr  9755.5316   7148.115      1.365      0.173   -4266.579    2.38e+04\n",
       "Neighborhood_CollgCr -1002.0113   3399.846     -0.295      0.768   -7671.323    5667.301\n",
       "Neighborhood_Crawfor  1.086e+04   5213.559      2.082      0.037     629.022    2.11e+04\n",
       "Neighborhood_Edwards -2.084e+04   3924.497     -5.310      0.000   -2.85e+04   -1.31e+04\n",
       "Neighborhood_Gilbert  -414.8263   4350.953     -0.095      0.924   -8949.880    8120.228\n",
       "Neighborhood_IDOTRR  -2.594e+04   6111.012     -4.245      0.000   -3.79e+04    -1.4e+04\n",
       "Neighborhood_MeadowV -1.559e+04   8465.972     -1.842      0.066   -3.22e+04    1015.827\n",
       "Neighborhood_Mitchel  -1.29e+04   5098.833     -2.531      0.011   -2.29e+04   -2901.548\n",
       "Neighborhood_NAmes   -1.276e+04   3031.286     -4.211      0.000   -1.87e+04   -6818.464\n",
       "Neighborhood_NPkVill -1.488e+04   1.14e+04     -1.303      0.193   -3.73e+04    7530.405\n",
       "Neighborhood_NWAmes  -1.147e+04   4407.835     -2.603      0.009   -2.01e+04   -2826.015\n",
       "Neighborhood_NoRidge  5.152e+04   5965.731      8.636      0.000    3.98e+04    6.32e+04\n",
       "Neighborhood_NridgHt  5.169e+04   4887.016     10.578      0.000    4.21e+04    6.13e+04\n",
       "Neighborhood_OldTown -3.094e+04   3769.665     -8.209      0.000   -3.83e+04   -2.35e+04\n",
       "Neighborhood_SWISU    -2.36e+04   7309.789     -3.228      0.001   -3.79e+04   -9259.091\n",
       "Neighborhood_Sawyer  -8962.1991   4445.981     -2.016      0.044   -1.77e+04    -240.735\n",
       "Neighborhood_SawyerW -6677.1207   4681.519     -1.426      0.154   -1.59e+04    2506.388\n",
       "Neighborhood_Somerst  8346.5464   4434.026      1.882      0.060    -351.467     1.7e+04\n",
       "Neighborhood_StoneBr  5.271e+04   7252.385      7.268      0.000    3.85e+04    6.69e+04\n",
       "Neighborhood_Timber   1.292e+04   5933.733      2.177      0.030    1279.287    2.46e+04\n",
       "Neighborhood_Veenker  2.977e+04   1.03e+04      2.904      0.004    9664.061    4.99e+04\n",
       "ExterCond_Ex          1.889e+04   1.82e+04      1.036      0.301   -1.69e+04    5.47e+04\n",
       "ExterCond_Fa         -1.478e+04   9572.223     -1.544      0.123   -3.36e+04    3997.149\n",
       "ExterCond_Gd         -3488.4171   8372.822     -0.417      0.677   -1.99e+04    1.29e+04\n",
       "ExterCond_Po         -2.725e+04   3.03e+04     -0.901      0.368   -8.66e+04    3.21e+04\n",
       "ExterCond_TA         -7797.0245   8093.905     -0.963      0.336   -2.37e+04    8080.396\n",
       "HeatingQC_Ex           873.4482   6966.448      0.125      0.900   -1.28e+04    1.45e+04\n",
       "HeatingQC_Fa         -9062.8764   7877.315     -1.151      0.250   -2.45e+04    6389.671\n",
       "HeatingQC_Gd         -6535.2620   6982.768     -0.936      0.349   -2.02e+04    7162.495\n",
       "HeatingQC_Po         -1.086e+04   2.88e+04     -0.377      0.706   -6.74e+04    4.57e+04\n",
       "HeatingQC_TA         -8838.7969   6905.392     -1.280      0.201   -2.24e+04    4707.175\n",
       "MiscFeature_Gar2     -8687.2562   2.47e+04     -0.352      0.725   -5.71e+04    3.97e+04\n",
       "MiscFeature_Othr      9442.1477   2.54e+04      0.372      0.710   -4.04e+04    5.93e+04\n",
       "MiscFeature_Shed      2599.9969   5174.003      0.503      0.615   -7549.595    1.27e+04\n",
       "MiscFeature_TenC      -587.3040    3.5e+04     -0.017      0.987   -6.93e+04    6.82e+04\n",
       "Functional_Maj1       -631.3401   9975.986     -0.063      0.950   -2.02e+04    1.89e+04\n",
       "Functional_Maj2      -1.239e+04   1.47e+04     -0.844      0.399   -4.12e+04    1.64e+04\n",
       "Functional_Min1       8720.5900   7915.028      1.102      0.271   -6805.936    2.42e+04\n",
       "Functional_Min2       7662.0976   7782.654      0.985      0.325   -7604.757    2.29e+04\n",
       "Functional_Mod         1.12e+04   9883.880      1.133      0.257   -8187.242    3.06e+04\n",
       "Functional_Sev        -6.92e+04   3.04e+04     -2.274      0.023   -1.29e+05   -9492.305\n",
       "Functional_Typ        2.021e+04   5874.803      3.440      0.001    8686.883    3.17e+04\n",
       "==============================================================================\n",
       "Omnibus:                      402.204   Durbin-Watson:                   1.960\n",
       "Prob(Omnibus):                  0.000   Jarque-Bera (JB):            35877.809\n",
       "Skew:                           0.024   Prob(JB):                         0.00\n",
       "Kurtosis:                      27.285   Cond. No.                     9.38e+16\n",
       "==============================================================================\n",
       "\n",
       "Notes:\n",
       "[1] Standard Errors assume that the covariance matrix of the errors is correctly specified.\n",
       "[2] The smallest eigenvalue is 9.05e-25. This might indicate that there are\n",
       "strong multicollinearity problems or that the design matrix is singular.\n",
       "\"\"\""
      ]
     },
     "execution_count": 196,
     "metadata": {},
     "output_type": "execute_result"
    }
   ],
   "source": [
    "lrm = sm.OLS(y, X.dropna()).fit()\n",
    "lrm.summary()"
   ]
  },
  {
   "cell_type": "code",
   "execution_count": 197,
   "id": "e2778fc0",
   "metadata": {},
   "outputs": [
    {
     "name": "stdout",
     "output_type": "stream",
     "text": [
      "La media del error absoluto es: 19780.432020561762\n"
     ]
    }
   ],
   "source": [
    "predicted = lrm.predict(X_test)\n",
    "print(f'La media del error absoluto es: {metrics.mean_absolute_error(y_test, predicted)}')"
   ]
  },
  {
   "cell_type": "markdown",
   "id": "ae4ac886",
   "metadata": {},
   "source": [
    "De acuerdo a la R<sup>2</sup> las variables utilizadas en nuestro modelo explican el 81.8% de la variación en precio. Dado que la R<sup>2adj</sup> está muy cerca de la R<sup>2</sup> parece ser que no hay penalización por variables que no estén aportando a nuestro resultado. El valor 0 del F-statistic señala la probabilidad de que el efecto de las variables del modelo sobre la variable elegida sea 0.\n",
    "\n",
    "Los altos valores de P>|t| de las variables de Heating, MiscFeature, ExterCond, Functional y Neighborhood sugieren que estas no aportan al modelo por lo que podrían ser removidas para simplificarlo.\n"
   ]
  },
  {
   "cell_type": "code",
   "execution_count": 198,
   "id": "20b215bb",
   "metadata": {},
   "outputs": [],
   "source": [
    "df_var_b = df[df_corr.index]\n",
    "cols = list(df_var_b)\n",
    "cols.remove('GarageCars')\n",
    "cols.append('SalePrice')\n",
    "cols = [cols[-1]] + cols[:-1]\n",
    "df_var_b = df[cols]"
   ]
  },
  {
   "cell_type": "code",
   "execution_count": 199,
   "id": "01ba9fbc",
   "metadata": {},
   "outputs": [],
   "source": [
    "df_dummies_b = pd.get_dummies(df[['LandContour', 'Utilities', 'HeatingQC']])"
   ]
  },
  {
   "cell_type": "code",
   "execution_count": 200,
   "id": "e56c5691",
   "metadata": {},
   "outputs": [],
   "source": [
    "df_var_b=df_var_b.join(df_dummies_b)"
   ]
  },
  {
   "cell_type": "code",
   "execution_count": 201,
   "id": "14f255d6",
   "metadata": {
    "scrolled": true
   },
   "outputs": [
    {
     "data": {
      "text/html": [
       "<table class=\"simpletable\">\n",
       "<caption>OLS Regression Results</caption>\n",
       "<tr>\n",
       "  <th>Dep. Variable:</th>        <td>SalePrice</td>    <th>  R-squared:         </th> <td>   0.772</td> \n",
       "</tr>\n",
       "<tr>\n",
       "  <th>Model:</th>                   <td>OLS</td>       <th>  Adj. R-squared:    </th> <td>   0.769</td> \n",
       "</tr>\n",
       "<tr>\n",
       "  <th>Method:</th>             <td>Least Squares</td>  <th>  F-statistic:       </th> <td>   348.6</td> \n",
       "</tr>\n",
       "<tr>\n",
       "  <th>Date:</th>             <td>Tue, 08 Feb 2022</td> <th>  Prob (F-statistic):</th>  <td>  0.00</td>  \n",
       "</tr>\n",
       "<tr>\n",
       "  <th>Time:</th>                 <td>18:05:05</td>     <th>  Log-Likelihood:    </th> <td> -17466.</td> \n",
       "</tr>\n",
       "<tr>\n",
       "  <th>No. Observations:</th>      <td>  1460</td>      <th>  AIC:               </th> <td>3.496e+04</td>\n",
       "</tr>\n",
       "<tr>\n",
       "  <th>Df Residuals:</th>          <td>  1445</td>      <th>  BIC:               </th> <td>3.504e+04</td>\n",
       "</tr>\n",
       "<tr>\n",
       "  <th>Df Model:</th>              <td>    14</td>      <th>                     </th>     <td> </td>    \n",
       "</tr>\n",
       "<tr>\n",
       "  <th>Covariance Type:</th>      <td>nonrobust</td>    <th>                     </th>     <td> </td>    \n",
       "</tr>\n",
       "</table>\n",
       "<table class=\"simpletable\">\n",
       "<tr>\n",
       "          <td></td>            <th>coef</th>     <th>std err</th>      <th>t</th>      <th>P>|t|</th>  <th>[0.025</th>    <th>0.975]</th>  \n",
       "</tr>\n",
       "<tr>\n",
       "  <th>const</th>            <td>-5.305e+04</td> <td>  1.1e+04</td> <td>   -4.832</td> <td> 0.000</td> <td>-7.46e+04</td> <td>-3.15e+04</td>\n",
       "</tr>\n",
       "<tr>\n",
       "  <th>OverallQual</th>      <td> 2.289e+04</td> <td> 1118.814</td> <td>   20.462</td> <td> 0.000</td> <td> 2.07e+04</td> <td> 2.51e+04</td>\n",
       "</tr>\n",
       "<tr>\n",
       "  <th>GrLivArea</th>        <td>   44.4796</td> <td>    2.923</td> <td>   15.215</td> <td> 0.000</td> <td>   38.745</td> <td>   50.214</td>\n",
       "</tr>\n",
       "<tr>\n",
       "  <th>GarageArea</th>       <td>   50.4310</td> <td>    6.042</td> <td>    8.346</td> <td> 0.000</td> <td>   38.578</td> <td>   62.284</td>\n",
       "</tr>\n",
       "<tr>\n",
       "  <th>TotalBsmtSF</th>      <td>   19.4501</td> <td>    4.275</td> <td>    4.550</td> <td> 0.000</td> <td>   11.065</td> <td>   27.835</td>\n",
       "</tr>\n",
       "<tr>\n",
       "  <th>1stFlrSF</th>         <td>   14.6049</td> <td>    4.979</td> <td>    2.933</td> <td> 0.003</td> <td>    4.838</td> <td>   24.372</td>\n",
       "</tr>\n",
       "<tr>\n",
       "  <th>FullBath</th>         <td>  714.2958</td> <td> 2488.031</td> <td>    0.287</td> <td> 0.774</td> <td>-4166.243</td> <td> 5594.834</td>\n",
       "</tr>\n",
       "<tr>\n",
       "  <th>LandContour_Bnk</th>  <td>-4.001e+04</td> <td> 5051.950</td> <td>   -7.920</td> <td> 0.000</td> <td>-4.99e+04</td> <td>-3.01e+04</td>\n",
       "</tr>\n",
       "<tr>\n",
       "  <th>LandContour_HLS</th>  <td>  573.7855</td> <td> 5434.711</td> <td>    0.106</td> <td> 0.916</td> <td>-1.01e+04</td> <td> 1.12e+04</td>\n",
       "</tr>\n",
       "<tr>\n",
       "  <th>LandContour_Low</th>  <td> 5833.9635</td> <td> 5918.345</td> <td>    0.986</td> <td> 0.324</td> <td>-5775.505</td> <td> 1.74e+04</td>\n",
       "</tr>\n",
       "<tr>\n",
       "  <th>LandContour_Lvl</th>  <td>-1.944e+04</td> <td> 3522.973</td> <td>   -5.519</td> <td> 0.000</td> <td>-2.64e+04</td> <td>-1.25e+04</td>\n",
       "</tr>\n",
       "<tr>\n",
       "  <th>Utilities_AllPub</th> <td>-1.232e+04</td> <td> 1.44e+04</td> <td>   -0.854</td> <td> 0.393</td> <td>-4.06e+04</td> <td>  1.6e+04</td>\n",
       "</tr>\n",
       "<tr>\n",
       "  <th>Utilities_NoSeWa</th> <td>-4.073e+04</td> <td> 2.42e+04</td> <td>   -1.683</td> <td> 0.093</td> <td>-8.82e+04</td> <td> 6754.309</td>\n",
       "</tr>\n",
       "<tr>\n",
       "  <th>HeatingQC_Ex</th>     <td> 2513.1501</td> <td> 7467.244</td> <td>    0.337</td> <td> 0.737</td> <td>-1.21e+04</td> <td> 1.72e+04</td>\n",
       "</tr>\n",
       "<tr>\n",
       "  <th>HeatingQC_Fa</th>     <td>-1.114e+04</td> <td> 8460.562</td> <td>   -1.317</td> <td> 0.188</td> <td>-2.77e+04</td> <td> 5451.527</td>\n",
       "</tr>\n",
       "<tr>\n",
       "  <th>HeatingQC_Gd</th>     <td>-9172.1442</td> <td> 7479.523</td> <td>   -1.226</td> <td> 0.220</td> <td>-2.38e+04</td> <td> 5499.740</td>\n",
       "</tr>\n",
       "<tr>\n",
       "  <th>HeatingQC_Po</th>     <td>-2.297e+04</td> <td> 3.14e+04</td> <td>   -0.731</td> <td> 0.465</td> <td>-8.46e+04</td> <td> 3.86e+04</td>\n",
       "</tr>\n",
       "<tr>\n",
       "  <th>HeatingQC_TA</th>     <td>-1.227e+04</td> <td> 7397.664</td> <td>   -1.659</td> <td> 0.097</td> <td>-2.68e+04</td> <td> 2239.993</td>\n",
       "</tr>\n",
       "</table>\n",
       "<table class=\"simpletable\">\n",
       "<tr>\n",
       "  <th>Omnibus:</th>       <td>441.770</td> <th>  Durbin-Watson:     </th> <td>   1.987</td> \n",
       "</tr>\n",
       "<tr>\n",
       "  <th>Prob(Omnibus):</th> <td> 0.000</td>  <th>  Jarque-Bera (JB):  </th> <td>45225.517</td>\n",
       "</tr>\n",
       "<tr>\n",
       "  <th>Skew:</th>          <td>-0.308</td>  <th>  Prob(JB):          </th> <td>    0.00</td> \n",
       "</tr>\n",
       "<tr>\n",
       "  <th>Kurtosis:</th>      <td>30.259</td>  <th>  Cond. No.          </th> <td>3.04e+19</td> \n",
       "</tr>\n",
       "</table><br/><br/>Notes:<br/>[1] Standard Errors assume that the covariance matrix of the errors is correctly specified.<br/>[2] The smallest eigenvalue is 8.61e-30. This might indicate that there are<br/>strong multicollinearity problems or that the design matrix is singular."
      ],
      "text/plain": [
       "<class 'statsmodels.iolib.summary.Summary'>\n",
       "\"\"\"\n",
       "                            OLS Regression Results                            \n",
       "==============================================================================\n",
       "Dep. Variable:              SalePrice   R-squared:                       0.772\n",
       "Model:                            OLS   Adj. R-squared:                  0.769\n",
       "Method:                 Least Squares   F-statistic:                     348.6\n",
       "Date:                Tue, 08 Feb 2022   Prob (F-statistic):               0.00\n",
       "Time:                        18:05:05   Log-Likelihood:                -17466.\n",
       "No. Observations:                1460   AIC:                         3.496e+04\n",
       "Df Residuals:                    1445   BIC:                         3.504e+04\n",
       "Df Model:                          14                                         \n",
       "Covariance Type:            nonrobust                                         \n",
       "====================================================================================\n",
       "                       coef    std err          t      P>|t|      [0.025      0.975]\n",
       "------------------------------------------------------------------------------------\n",
       "const            -5.305e+04    1.1e+04     -4.832      0.000   -7.46e+04   -3.15e+04\n",
       "OverallQual       2.289e+04   1118.814     20.462      0.000    2.07e+04    2.51e+04\n",
       "GrLivArea           44.4796      2.923     15.215      0.000      38.745      50.214\n",
       "GarageArea          50.4310      6.042      8.346      0.000      38.578      62.284\n",
       "TotalBsmtSF         19.4501      4.275      4.550      0.000      11.065      27.835\n",
       "1stFlrSF            14.6049      4.979      2.933      0.003       4.838      24.372\n",
       "FullBath           714.2958   2488.031      0.287      0.774   -4166.243    5594.834\n",
       "LandContour_Bnk  -4.001e+04   5051.950     -7.920      0.000   -4.99e+04   -3.01e+04\n",
       "LandContour_HLS    573.7855   5434.711      0.106      0.916   -1.01e+04    1.12e+04\n",
       "LandContour_Low   5833.9635   5918.345      0.986      0.324   -5775.505    1.74e+04\n",
       "LandContour_Lvl  -1.944e+04   3522.973     -5.519      0.000   -2.64e+04   -1.25e+04\n",
       "Utilities_AllPub -1.232e+04   1.44e+04     -0.854      0.393   -4.06e+04     1.6e+04\n",
       "Utilities_NoSeWa -4.073e+04   2.42e+04     -1.683      0.093   -8.82e+04    6754.309\n",
       "HeatingQC_Ex      2513.1501   7467.244      0.337      0.737   -1.21e+04    1.72e+04\n",
       "HeatingQC_Fa     -1.114e+04   8460.562     -1.317      0.188   -2.77e+04    5451.527\n",
       "HeatingQC_Gd     -9172.1442   7479.523     -1.226      0.220   -2.38e+04    5499.740\n",
       "HeatingQC_Po     -2.297e+04   3.14e+04     -0.731      0.465   -8.46e+04    3.86e+04\n",
       "HeatingQC_TA     -1.227e+04   7397.664     -1.659      0.097   -2.68e+04    2239.993\n",
       "==============================================================================\n",
       "Omnibus:                      441.770   Durbin-Watson:                   1.987\n",
       "Prob(Omnibus):                  0.000   Jarque-Bera (JB):            45225.517\n",
       "Skew:                          -0.308   Prob(JB):                         0.00\n",
       "Kurtosis:                      30.259   Cond. No.                     3.04e+19\n",
       "==============================================================================\n",
       "\n",
       "Notes:\n",
       "[1] Standard Errors assume that the covariance matrix of the errors is correctly specified.\n",
       "[2] The smallest eigenvalue is 8.61e-30. This might indicate that there are\n",
       "strong multicollinearity problems or that the design matrix is singular.\n",
       "\"\"\""
      ]
     },
     "execution_count": 201,
     "metadata": {},
     "output_type": "execute_result"
    }
   ],
   "source": [
    "X = df_var_b.dropna()\n",
    "y = X.SalePrice\n",
    "X = sm.add_constant(X.drop('SalePrice', axis=1))\n",
    "sm.OLS(y, X.dropna()).fit()\n",
    "lrm = sm.OLS(y, X.dropna()).fit()\n",
    "lrm.summary()"
   ]
  },
  {
   "cell_type": "code",
   "execution_count": 204,
   "id": "900266c8",
   "metadata": {},
   "outputs": [],
   "source": [
    "X_train_b, X_test_b, y_train_b, y_test_b = train_test_split(X, y, random_state = 22, test_size=0.2)"
   ]
  },
  {
   "cell_type": "code",
   "execution_count": 206,
   "id": "1c95802e",
   "metadata": {},
   "outputs": [],
   "source": [
    "predicted = lrm.predict(X_test_b)"
   ]
  },
  {
   "cell_type": "code",
   "execution_count": 208,
   "id": "a0d4f257",
   "metadata": {},
   "outputs": [
    {
     "name": "stdout",
     "output_type": "stream",
     "text": [
      "La media del error absoluto del modelo b es: 22966.46547708684\n"
     ]
    }
   ],
   "source": [
    "predicted = lrm.predict(X_test_b)\n",
    "print(f'La media del error absoluto del modelo b es: {metrics.mean_absolute_error(y_test, predicted)}')"
   ]
  },
  {
   "cell_type": "markdown",
   "id": "eb8b951b",
   "metadata": {},
   "source": [
    "Aunque al retirar las variables antes descritas se logra un modelo más simple, el grado de predictibilidad del modelo cayó cerca del 4%. Sin embargo la media del error absoluto es más grande en el modelo b. La elección del modelo final dependerá de la disponibilidad de la información, pero el modelo a es más certero."
   ]
  }
 ],
 "metadata": {
  "kernelspec": {
   "display_name": "Python 3",
   "language": "python",
   "name": "python3"
  },
  "language_info": {
   "codemirror_mode": {
    "name": "ipython",
    "version": 3
   },
   "file_extension": ".py",
   "mimetype": "text/x-python",
   "name": "python",
   "nbconvert_exporter": "python",
   "pygments_lexer": "ipython3",
   "version": "3.8.8"
  }
 },
 "nbformat": 4,
 "nbformat_minor": 5
}
