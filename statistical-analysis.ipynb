{
 "cells": [
  {
   "cell_type": "markdown",
   "id": "2ec2a7df-5f51-4824-b597-98113dd884f7",
   "metadata": {},
   "source": [
    "# Navegando la Data\n",
    "\n",
    "Revisión de la iformación contenida en el csv"
   ]
  },
  {
   "cell_type": "code",
   "execution_count": 44,
   "id": "7f422632-ed19-471b-94ff-d7effd94354f",
   "metadata": {},
   "outputs": [],
   "source": [
    "import pandas as pd\n",
    "import seaborn as sns\n",
    "import numpy as np\n",
    "import matplotlib.pyplot as plt"
   ]
  },
  {
   "cell_type": "code",
   "execution_count": 248,
   "id": "8ec750e4-b8b7-471b-93db-d024a744685e",
   "metadata": {},
   "outputs": [],
   "source": [
    "df = pd.read_csv('train.csv')"
   ]
  },
  {
   "cell_type": "code",
   "execution_count": 249,
   "id": "d3faaf28-1de5-4eef-b97b-57f738cff4d7",
   "metadata": {},
   "outputs": [
    {
     "data": {
      "text/html": [
       "<div>\n",
       "<style scoped>\n",
       "    .dataframe tbody tr th:only-of-type {\n",
       "        vertical-align: middle;\n",
       "    }\n",
       "\n",
       "    .dataframe tbody tr th {\n",
       "        vertical-align: top;\n",
       "    }\n",
       "\n",
       "    .dataframe thead th {\n",
       "        text-align: right;\n",
       "    }\n",
       "</style>\n",
       "<table border=\"1\" class=\"dataframe\">\n",
       "  <thead>\n",
       "    <tr style=\"text-align: right;\">\n",
       "      <th></th>\n",
       "      <th>Id</th>\n",
       "      <th>MSSubClass</th>\n",
       "      <th>MSZoning</th>\n",
       "      <th>LotFrontage</th>\n",
       "      <th>LotArea</th>\n",
       "      <th>Street</th>\n",
       "      <th>Alley</th>\n",
       "      <th>LotShape</th>\n",
       "      <th>LandContour</th>\n",
       "      <th>Utilities</th>\n",
       "      <th>...</th>\n",
       "      <th>PoolArea</th>\n",
       "      <th>PoolQC</th>\n",
       "      <th>Fence</th>\n",
       "      <th>MiscFeature</th>\n",
       "      <th>MiscVal</th>\n",
       "      <th>MoSold</th>\n",
       "      <th>YrSold</th>\n",
       "      <th>SaleType</th>\n",
       "      <th>SaleCondition</th>\n",
       "      <th>SalePrice</th>\n",
       "    </tr>\n",
       "  </thead>\n",
       "  <tbody>\n",
       "    <tr>\n",
       "      <th>0</th>\n",
       "      <td>1</td>\n",
       "      <td>60</td>\n",
       "      <td>RL</td>\n",
       "      <td>65.0</td>\n",
       "      <td>8450</td>\n",
       "      <td>Pave</td>\n",
       "      <td>NaN</td>\n",
       "      <td>Reg</td>\n",
       "      <td>Lvl</td>\n",
       "      <td>AllPub</td>\n",
       "      <td>...</td>\n",
       "      <td>0</td>\n",
       "      <td>NaN</td>\n",
       "      <td>NaN</td>\n",
       "      <td>NaN</td>\n",
       "      <td>0</td>\n",
       "      <td>2</td>\n",
       "      <td>2008</td>\n",
       "      <td>WD</td>\n",
       "      <td>Normal</td>\n",
       "      <td>208500</td>\n",
       "    </tr>\n",
       "    <tr>\n",
       "      <th>1</th>\n",
       "      <td>2</td>\n",
       "      <td>20</td>\n",
       "      <td>RL</td>\n",
       "      <td>80.0</td>\n",
       "      <td>9600</td>\n",
       "      <td>Pave</td>\n",
       "      <td>NaN</td>\n",
       "      <td>Reg</td>\n",
       "      <td>Lvl</td>\n",
       "      <td>AllPub</td>\n",
       "      <td>...</td>\n",
       "      <td>0</td>\n",
       "      <td>NaN</td>\n",
       "      <td>NaN</td>\n",
       "      <td>NaN</td>\n",
       "      <td>0</td>\n",
       "      <td>5</td>\n",
       "      <td>2007</td>\n",
       "      <td>WD</td>\n",
       "      <td>Normal</td>\n",
       "      <td>181500</td>\n",
       "    </tr>\n",
       "  </tbody>\n",
       "</table>\n",
       "<p>2 rows × 81 columns</p>\n",
       "</div>"
      ],
      "text/plain": [
       "   Id  MSSubClass MSZoning  LotFrontage  LotArea Street Alley LotShape  \\\n",
       "0   1          60       RL         65.0     8450   Pave   NaN      Reg   \n",
       "1   2          20       RL         80.0     9600   Pave   NaN      Reg   \n",
       "\n",
       "  LandContour Utilities  ... PoolArea PoolQC Fence MiscFeature MiscVal MoSold  \\\n",
       "0         Lvl    AllPub  ...        0    NaN   NaN         NaN       0      2   \n",
       "1         Lvl    AllPub  ...        0    NaN   NaN         NaN       0      5   \n",
       "\n",
       "  YrSold  SaleType  SaleCondition  SalePrice  \n",
       "0   2008        WD         Normal     208500  \n",
       "1   2007        WD         Normal     181500  \n",
       "\n",
       "[2 rows x 81 columns]"
      ]
     },
     "execution_count": 249,
     "metadata": {},
     "output_type": "execute_result"
    }
   ],
   "source": [
    "df.head(2)"
   ]
  },
  {
   "cell_type": "code",
   "execution_count": 250,
   "id": "4ef1038c-8eac-489d-919a-395f5a041099",
   "metadata": {
    "tags": []
   },
   "outputs": [
    {
     "name": "stdout",
     "output_type": "stream",
     "text": [
      "<class 'pandas.core.frame.DataFrame'>\n",
      "RangeIndex: 1460 entries, 0 to 1459\n",
      "Data columns (total 81 columns):\n",
      " #   Column         Non-Null Count  Dtype  \n",
      "---  ------         --------------  -----  \n",
      " 0   Id             1460 non-null   int64  \n",
      " 1   MSSubClass     1460 non-null   int64  \n",
      " 2   MSZoning       1460 non-null   object \n",
      " 3   LotFrontage    1201 non-null   float64\n",
      " 4   LotArea        1460 non-null   int64  \n",
      " 5   Street         1460 non-null   object \n",
      " 6   Alley          91 non-null     object \n",
      " 7   LotShape       1460 non-null   object \n",
      " 8   LandContour    1460 non-null   object \n",
      " 9   Utilities      1460 non-null   object \n",
      " 10  LotConfig      1460 non-null   object \n",
      " 11  LandSlope      1460 non-null   object \n",
      " 12  Neighborhood   1460 non-null   object \n",
      " 13  Condition1     1460 non-null   object \n",
      " 14  Condition2     1460 non-null   object \n",
      " 15  BldgType       1460 non-null   object \n",
      " 16  HouseStyle     1460 non-null   object \n",
      " 17  OverallQual    1460 non-null   int64  \n",
      " 18  OverallCond    1460 non-null   int64  \n",
      " 19  YearBuilt      1460 non-null   int64  \n",
      " 20  YearRemodAdd   1460 non-null   int64  \n",
      " 21  RoofStyle      1460 non-null   object \n",
      " 22  RoofMatl       1460 non-null   object \n",
      " 23  Exterior1st    1460 non-null   object \n",
      " 24  Exterior2nd    1460 non-null   object \n",
      " 25  MasVnrType     1452 non-null   object \n",
      " 26  MasVnrArea     1452 non-null   float64\n",
      " 27  ExterQual      1460 non-null   object \n",
      " 28  ExterCond      1460 non-null   object \n",
      " 29  Foundation     1460 non-null   object \n",
      " 30  BsmtQual       1423 non-null   object \n",
      " 31  BsmtCond       1423 non-null   object \n",
      " 32  BsmtExposure   1422 non-null   object \n",
      " 33  BsmtFinType1   1423 non-null   object \n",
      " 34  BsmtFinSF1     1460 non-null   int64  \n",
      " 35  BsmtFinType2   1422 non-null   object \n",
      " 36  BsmtFinSF2     1460 non-null   int64  \n",
      " 37  BsmtUnfSF      1460 non-null   int64  \n",
      " 38  TotalBsmtSF    1460 non-null   int64  \n",
      " 39  Heating        1460 non-null   object \n",
      " 40  HeatingQC      1460 non-null   object \n",
      " 41  CentralAir     1460 non-null   object \n",
      " 42  Electrical     1459 non-null   object \n",
      " 43  1stFlrSF       1460 non-null   int64  \n",
      " 44  2ndFlrSF       1460 non-null   int64  \n",
      " 45  LowQualFinSF   1460 non-null   int64  \n",
      " 46  GrLivArea      1460 non-null   int64  \n",
      " 47  BsmtFullBath   1460 non-null   int64  \n",
      " 48  BsmtHalfBath   1460 non-null   int64  \n",
      " 49  FullBath       1460 non-null   int64  \n",
      " 50  HalfBath       1460 non-null   int64  \n",
      " 51  BedroomAbvGr   1460 non-null   int64  \n",
      " 52  KitchenAbvGr   1460 non-null   int64  \n",
      " 53  KitchenQual    1460 non-null   object \n",
      " 54  TotRmsAbvGrd   1460 non-null   int64  \n",
      " 55  Functional     1460 non-null   object \n",
      " 56  Fireplaces     1460 non-null   int64  \n",
      " 57  FireplaceQu    770 non-null    object \n",
      " 58  GarageType     1379 non-null   object \n",
      " 59  GarageYrBlt    1379 non-null   float64\n",
      " 60  GarageFinish   1379 non-null   object \n",
      " 61  GarageCars     1460 non-null   int64  \n",
      " 62  GarageArea     1460 non-null   int64  \n",
      " 63  GarageQual     1379 non-null   object \n",
      " 64  GarageCond     1379 non-null   object \n",
      " 65  PavedDrive     1460 non-null   object \n",
      " 66  WoodDeckSF     1460 non-null   int64  \n",
      " 67  OpenPorchSF    1460 non-null   int64  \n",
      " 68  EnclosedPorch  1460 non-null   int64  \n",
      " 69  3SsnPorch      1460 non-null   int64  \n",
      " 70  ScreenPorch    1460 non-null   int64  \n",
      " 71  PoolArea       1460 non-null   int64  \n",
      " 72  PoolQC         7 non-null      object \n",
      " 73  Fence          281 non-null    object \n",
      " 74  MiscFeature    54 non-null     object \n",
      " 75  MiscVal        1460 non-null   int64  \n",
      " 76  MoSold         1460 non-null   int64  \n",
      " 77  YrSold         1460 non-null   int64  \n",
      " 78  SaleType       1460 non-null   object \n",
      " 79  SaleCondition  1460 non-null   object \n",
      " 80  SalePrice      1460 non-null   int64  \n",
      "dtypes: float64(3), int64(35), object(43)\n",
      "memory usage: 924.0+ KB\n"
     ]
    }
   ],
   "source": [
    "df.info()"
   ]
  },
  {
   "cell_type": "code",
   "execution_count": 251,
   "id": "44e719eb-f2bf-4fa5-bba4-bb90aecefe56",
   "metadata": {},
   "outputs": [],
   "source": [
    "#Eliminación columna Id\n",
    "df.drop(columns='Id', inplace=True)"
   ]
  },
  {
   "cell_type": "code",
   "execution_count": 258,
   "id": "49ca2c70-808f-4f9b-8790-fc02f28e5829",
   "metadata": {},
   "outputs": [
    {
     "data": {
      "text/html": [
       "<div>\n",
       "<style scoped>\n",
       "    .dataframe tbody tr th:only-of-type {\n",
       "        vertical-align: middle;\n",
       "    }\n",
       "\n",
       "    .dataframe tbody tr th {\n",
       "        vertical-align: top;\n",
       "    }\n",
       "\n",
       "    .dataframe thead th {\n",
       "        text-align: right;\n",
       "    }\n",
       "</style>\n",
       "<table border=\"1\" class=\"dataframe\">\n",
       "  <thead>\n",
       "    <tr style=\"text-align: right;\">\n",
       "      <th></th>\n",
       "      <th>index</th>\n",
       "      <th>0</th>\n",
       "    </tr>\n",
       "  </thead>\n",
       "  <tbody>\n",
       "    <tr>\n",
       "      <th>0</th>\n",
       "      <td>LotFrontage</td>\n",
       "      <td>0.177397</td>\n",
       "    </tr>\n",
       "    <tr>\n",
       "      <th>1</th>\n",
       "      <td>garage_old</td>\n",
       "      <td>0.055479</td>\n",
       "    </tr>\n",
       "    <tr>\n",
       "      <th>2</th>\n",
       "      <td>GarageFinish</td>\n",
       "      <td>0.055479</td>\n",
       "    </tr>\n",
       "    <tr>\n",
       "      <th>3</th>\n",
       "      <td>GarageYrBlt</td>\n",
       "      <td>0.055479</td>\n",
       "    </tr>\n",
       "    <tr>\n",
       "      <th>4</th>\n",
       "      <td>GarageQual</td>\n",
       "      <td>0.055479</td>\n",
       "    </tr>\n",
       "  </tbody>\n",
       "</table>\n",
       "</div>"
      ],
      "text/plain": [
       "          index         0\n",
       "0   LotFrontage  0.177397\n",
       "1    garage_old  0.055479\n",
       "2  GarageFinish  0.055479\n",
       "3   GarageYrBlt  0.055479\n",
       "4    GarageQual  0.055479"
      ]
     },
     "execution_count": 258,
     "metadata": {},
     "output_type": "execute_result"
    }
   ],
   "source": [
    "#Obtención de los porcentajes de nulos de cada columna\n",
    "porcentajes = pd.DataFrame(df.isnull().sum().sort_values( ascending = False)/df.shape[0]).reset_index()\n",
    "porcentajes.head()"
   ]
  },
  {
   "cell_type": "code",
   "execution_count": 253,
   "id": "16ab6b26-5974-4a1d-9d3f-9ba216d6c2f3",
   "metadata": {},
   "outputs": [
    {
     "data": {
      "text/plain": [
       "0         PoolQC\n",
       "1    MiscFeature\n",
       "2          Alley\n",
       "3          Fence\n",
       "4    FireplaceQu\n",
       "Name: index, dtype: object"
      ]
     },
     "execution_count": 253,
     "metadata": {},
     "output_type": "execute_result"
    }
   ],
   "source": [
    "#se definen las columnas que tengan más de un 20% de datos faltantes\n",
    "columnas_drop=porcentajes[porcentajes.loc[:,0] > .2]['index']\n",
    "columnas_drop"
   ]
  },
  {
   "cell_type": "code",
   "execution_count": 254,
   "id": "52391a2d-79a3-4438-b652-7cfbf24e49c1",
   "metadata": {},
   "outputs": [],
   "source": [
    "#Se dropean columnas con más de un 20% de columnas nulas\n",
    "df.drop(columns=columnas_drop, inplace=True)"
   ]
  },
  {
   "cell_type": "code",
   "execution_count": 257,
   "id": "0d30232f-f452-4b0c-a3bc-8d5b3fa855ac",
   "metadata": {},
   "outputs": [
    {
     "data": {
      "text/plain": [
       "0       2003.0\n",
       "1       1976.0\n",
       "2       2001.0\n",
       "3       1998.0\n",
       "4       2000.0\n",
       "         ...  \n",
       "1455    1999.0\n",
       "1456    1978.0\n",
       "1457    1941.0\n",
       "1458    1950.0\n",
       "1459    1965.0\n",
       "Name: GarageYrBlt, Length: 1460, dtype: float64"
      ]
     },
     "execution_count": 257,
     "metadata": {},
     "output_type": "execute_result"
    }
   ],
   "source": [
    "df['GarageYrBlt']"
   ]
  },
  {
   "cell_type": "markdown",
   "id": "8514dec8-6857-4b22-bf59-b9de9db5d228",
   "metadata": {},
   "source": [
    "## Revisión y ajuste de columnas"
   ]
  },
  {
   "cell_type": "code",
   "execution_count": 255,
   "id": "88c8b777-e7ff-47f1-b689-7cfe941df747",
   "metadata": {},
   "outputs": [],
   "source": [
    "#Sumando baños y sacando la proporción de baños/habitación = df['bathrooms/rooms']\n",
    "rooms=df['BedroomAbvGr']\n",
    "halfbaths=df['HalfBath']*0.5+df['BsmtHalfBath']*0.5\n",
    "bathrooms=df[['FullBath', 'BsmtFullBath']].sum(axis=1)\n",
    "df['bathrooms/rooms']=(bathrooms+halfbaths)/rooms"
   ]
  },
  {
   "cell_type": "code",
   "execution_count": 256,
   "id": "5c6ba15f-48d7-4bda-b5d9-32cfaa3acab1",
   "metadata": {},
   "outputs": [],
   "source": [
    "#Creación de dos solumnas que indican la cantidad de años desde la construcción df['Years_old'] y remodelación df['years_remod']\n",
    "df['Years_old']=2022-df['YearBuilt']\n",
    "df['years_remod']=2022-df['YearRemodAdd']\n",
    "df['garage_old']=2022-df['GarageYrBlt']"
   ]
  },
  {
   "cell_type": "code",
   "execution_count": 422,
   "id": "993d0a8f-cdb8-447f-95ba-0db9df4f3ee1",
   "metadata": {
    "tags": []
   },
   "outputs": [
    {
     "data": {
      "text/html": [
       "<div>\n",
       "<style scoped>\n",
       "    .dataframe tbody tr th:only-of-type {\n",
       "        vertical-align: middle;\n",
       "    }\n",
       "\n",
       "    .dataframe tbody tr th {\n",
       "        vertical-align: top;\n",
       "    }\n",
       "\n",
       "    .dataframe thead th {\n",
       "        text-align: right;\n",
       "    }\n",
       "</style>\n",
       "<table border=\"1\" class=\"dataframe\">\n",
       "  <thead>\n",
       "    <tr style=\"text-align: right;\">\n",
       "      <th></th>\n",
       "      <th>MSSubClass</th>\n",
       "      <th>LotFrontage</th>\n",
       "      <th>LotArea</th>\n",
       "      <th>OverallQual</th>\n",
       "      <th>OverallCond</th>\n",
       "      <th>YearBuilt</th>\n",
       "      <th>YearRemodAdd</th>\n",
       "      <th>MasVnrArea</th>\n",
       "      <th>BsmtFinSF1</th>\n",
       "      <th>BsmtFinSF2</th>\n",
       "      <th>...</th>\n",
       "      <th>ScreenPorch</th>\n",
       "      <th>PoolArea</th>\n",
       "      <th>MiscVal</th>\n",
       "      <th>MoSold</th>\n",
       "      <th>YrSold</th>\n",
       "      <th>SalePrice</th>\n",
       "      <th>bathrooms/rooms</th>\n",
       "      <th>Years_old</th>\n",
       "      <th>years_remod</th>\n",
       "      <th>garage_old</th>\n",
       "    </tr>\n",
       "  </thead>\n",
       "  <tbody>\n",
       "    <tr>\n",
       "      <th>count</th>\n",
       "      <td>1460.000000</td>\n",
       "      <td>1201.000000</td>\n",
       "      <td>1460.000000</td>\n",
       "      <td>1460.000000</td>\n",
       "      <td>1460.000000</td>\n",
       "      <td>1460.000000</td>\n",
       "      <td>1460.000000</td>\n",
       "      <td>1452.000000</td>\n",
       "      <td>1460.000000</td>\n",
       "      <td>1460.000000</td>\n",
       "      <td>...</td>\n",
       "      <td>1460.000000</td>\n",
       "      <td>1460.000000</td>\n",
       "      <td>1460.000000</td>\n",
       "      <td>1460.000000</td>\n",
       "      <td>1460.000000</td>\n",
       "      <td>1460.000000</td>\n",
       "      <td>1460.00</td>\n",
       "      <td>1460.000000</td>\n",
       "      <td>1460.000000</td>\n",
       "      <td>1379.000000</td>\n",
       "    </tr>\n",
       "    <tr>\n",
       "      <th>mean</th>\n",
       "      <td>56.897260</td>\n",
       "      <td>70.049958</td>\n",
       "      <td>10516.828082</td>\n",
       "      <td>6.099315</td>\n",
       "      <td>5.575342</td>\n",
       "      <td>1971.267808</td>\n",
       "      <td>1984.865753</td>\n",
       "      <td>103.685262</td>\n",
       "      <td>443.639726</td>\n",
       "      <td>46.549315</td>\n",
       "      <td>...</td>\n",
       "      <td>15.060959</td>\n",
       "      <td>2.758904</td>\n",
       "      <td>43.489041</td>\n",
       "      <td>6.321918</td>\n",
       "      <td>2007.815753</td>\n",
       "      <td>180921.195890</td>\n",
       "      <td>inf</td>\n",
       "      <td>50.732192</td>\n",
       "      <td>37.134247</td>\n",
       "      <td>43.493836</td>\n",
       "    </tr>\n",
       "    <tr>\n",
       "      <th>std</th>\n",
       "      <td>42.300571</td>\n",
       "      <td>24.284752</td>\n",
       "      <td>9981.264932</td>\n",
       "      <td>1.382997</td>\n",
       "      <td>1.112799</td>\n",
       "      <td>30.202904</td>\n",
       "      <td>20.645407</td>\n",
       "      <td>181.066207</td>\n",
       "      <td>456.098091</td>\n",
       "      <td>161.319273</td>\n",
       "      <td>...</td>\n",
       "      <td>55.757415</td>\n",
       "      <td>40.177307</td>\n",
       "      <td>496.123024</td>\n",
       "      <td>2.703626</td>\n",
       "      <td>1.328095</td>\n",
       "      <td>79442.502883</td>\n",
       "      <td>NaN</td>\n",
       "      <td>30.202904</td>\n",
       "      <td>20.645407</td>\n",
       "      <td>24.689725</td>\n",
       "    </tr>\n",
       "    <tr>\n",
       "      <th>min</th>\n",
       "      <td>20.000000</td>\n",
       "      <td>21.000000</td>\n",
       "      <td>1300.000000</td>\n",
       "      <td>1.000000</td>\n",
       "      <td>1.000000</td>\n",
       "      <td>1872.000000</td>\n",
       "      <td>1950.000000</td>\n",
       "      <td>0.000000</td>\n",
       "      <td>0.000000</td>\n",
       "      <td>0.000000</td>\n",
       "      <td>...</td>\n",
       "      <td>0.000000</td>\n",
       "      <td>0.000000</td>\n",
       "      <td>0.000000</td>\n",
       "      <td>1.000000</td>\n",
       "      <td>2006.000000</td>\n",
       "      <td>34900.000000</td>\n",
       "      <td>0.20</td>\n",
       "      <td>12.000000</td>\n",
       "      <td>12.000000</td>\n",
       "      <td>12.000000</td>\n",
       "    </tr>\n",
       "    <tr>\n",
       "      <th>25%</th>\n",
       "      <td>20.000000</td>\n",
       "      <td>59.000000</td>\n",
       "      <td>7553.500000</td>\n",
       "      <td>5.000000</td>\n",
       "      <td>5.000000</td>\n",
       "      <td>1954.000000</td>\n",
       "      <td>1967.000000</td>\n",
       "      <td>0.000000</td>\n",
       "      <td>0.000000</td>\n",
       "      <td>0.000000</td>\n",
       "      <td>...</td>\n",
       "      <td>0.000000</td>\n",
       "      <td>0.000000</td>\n",
       "      <td>0.000000</td>\n",
       "      <td>5.000000</td>\n",
       "      <td>2007.000000</td>\n",
       "      <td>129975.000000</td>\n",
       "      <td>0.50</td>\n",
       "      <td>22.000000</td>\n",
       "      <td>18.000000</td>\n",
       "      <td>20.000000</td>\n",
       "    </tr>\n",
       "    <tr>\n",
       "      <th>50%</th>\n",
       "      <td>50.000000</td>\n",
       "      <td>69.000000</td>\n",
       "      <td>9478.500000</td>\n",
       "      <td>6.000000</td>\n",
       "      <td>5.000000</td>\n",
       "      <td>1973.000000</td>\n",
       "      <td>1994.000000</td>\n",
       "      <td>0.000000</td>\n",
       "      <td>383.500000</td>\n",
       "      <td>0.000000</td>\n",
       "      <td>...</td>\n",
       "      <td>0.000000</td>\n",
       "      <td>0.000000</td>\n",
       "      <td>0.000000</td>\n",
       "      <td>6.000000</td>\n",
       "      <td>2008.000000</td>\n",
       "      <td>163000.000000</td>\n",
       "      <td>0.75</td>\n",
       "      <td>49.000000</td>\n",
       "      <td>28.000000</td>\n",
       "      <td>42.000000</td>\n",
       "    </tr>\n",
       "    <tr>\n",
       "      <th>75%</th>\n",
       "      <td>70.000000</td>\n",
       "      <td>80.000000</td>\n",
       "      <td>11601.500000</td>\n",
       "      <td>7.000000</td>\n",
       "      <td>6.000000</td>\n",
       "      <td>2000.000000</td>\n",
       "      <td>2004.000000</td>\n",
       "      <td>166.000000</td>\n",
       "      <td>712.250000</td>\n",
       "      <td>0.000000</td>\n",
       "      <td>...</td>\n",
       "      <td>0.000000</td>\n",
       "      <td>0.000000</td>\n",
       "      <td>0.000000</td>\n",
       "      <td>8.000000</td>\n",
       "      <td>2009.000000</td>\n",
       "      <td>214000.000000</td>\n",
       "      <td>1.00</td>\n",
       "      <td>68.000000</td>\n",
       "      <td>55.000000</td>\n",
       "      <td>61.000000</td>\n",
       "    </tr>\n",
       "    <tr>\n",
       "      <th>max</th>\n",
       "      <td>190.000000</td>\n",
       "      <td>313.000000</td>\n",
       "      <td>215245.000000</td>\n",
       "      <td>10.000000</td>\n",
       "      <td>9.000000</td>\n",
       "      <td>2010.000000</td>\n",
       "      <td>2010.000000</td>\n",
       "      <td>1600.000000</td>\n",
       "      <td>5644.000000</td>\n",
       "      <td>1474.000000</td>\n",
       "      <td>...</td>\n",
       "      <td>480.000000</td>\n",
       "      <td>738.000000</td>\n",
       "      <td>15500.000000</td>\n",
       "      <td>12.000000</td>\n",
       "      <td>2010.000000</td>\n",
       "      <td>755000.000000</td>\n",
       "      <td>inf</td>\n",
       "      <td>150.000000</td>\n",
       "      <td>72.000000</td>\n",
       "      <td>122.000000</td>\n",
       "    </tr>\n",
       "  </tbody>\n",
       "</table>\n",
       "<p>8 rows × 41 columns</p>\n",
       "</div>"
      ],
      "text/plain": [
       "        MSSubClass  LotFrontage        LotArea  OverallQual  OverallCond  \\\n",
       "count  1460.000000  1201.000000    1460.000000  1460.000000  1460.000000   \n",
       "mean     56.897260    70.049958   10516.828082     6.099315     5.575342   \n",
       "std      42.300571    24.284752    9981.264932     1.382997     1.112799   \n",
       "min      20.000000    21.000000    1300.000000     1.000000     1.000000   \n",
       "25%      20.000000    59.000000    7553.500000     5.000000     5.000000   \n",
       "50%      50.000000    69.000000    9478.500000     6.000000     5.000000   \n",
       "75%      70.000000    80.000000   11601.500000     7.000000     6.000000   \n",
       "max     190.000000   313.000000  215245.000000    10.000000     9.000000   \n",
       "\n",
       "         YearBuilt  YearRemodAdd   MasVnrArea   BsmtFinSF1   BsmtFinSF2  ...  \\\n",
       "count  1460.000000   1460.000000  1452.000000  1460.000000  1460.000000  ...   \n",
       "mean   1971.267808   1984.865753   103.685262   443.639726    46.549315  ...   \n",
       "std      30.202904     20.645407   181.066207   456.098091   161.319273  ...   \n",
       "min    1872.000000   1950.000000     0.000000     0.000000     0.000000  ...   \n",
       "25%    1954.000000   1967.000000     0.000000     0.000000     0.000000  ...   \n",
       "50%    1973.000000   1994.000000     0.000000   383.500000     0.000000  ...   \n",
       "75%    2000.000000   2004.000000   166.000000   712.250000     0.000000  ...   \n",
       "max    2010.000000   2010.000000  1600.000000  5644.000000  1474.000000  ...   \n",
       "\n",
       "       ScreenPorch     PoolArea       MiscVal       MoSold       YrSold  \\\n",
       "count  1460.000000  1460.000000   1460.000000  1460.000000  1460.000000   \n",
       "mean     15.060959     2.758904     43.489041     6.321918  2007.815753   \n",
       "std      55.757415    40.177307    496.123024     2.703626     1.328095   \n",
       "min       0.000000     0.000000      0.000000     1.000000  2006.000000   \n",
       "25%       0.000000     0.000000      0.000000     5.000000  2007.000000   \n",
       "50%       0.000000     0.000000      0.000000     6.000000  2008.000000   \n",
       "75%       0.000000     0.000000      0.000000     8.000000  2009.000000   \n",
       "max     480.000000   738.000000  15500.000000    12.000000  2010.000000   \n",
       "\n",
       "           SalePrice  bathrooms/rooms    Years_old  years_remod   garage_old  \n",
       "count    1460.000000          1460.00  1460.000000  1460.000000  1379.000000  \n",
       "mean   180921.195890              inf    50.732192    37.134247    43.493836  \n",
       "std     79442.502883              NaN    30.202904    20.645407    24.689725  \n",
       "min     34900.000000             0.20    12.000000    12.000000    12.000000  \n",
       "25%    129975.000000             0.50    22.000000    18.000000    20.000000  \n",
       "50%    163000.000000             0.75    49.000000    28.000000    42.000000  \n",
       "75%    214000.000000             1.00    68.000000    55.000000    61.000000  \n",
       "max    755000.000000              inf   150.000000    72.000000   122.000000  \n",
       "\n",
       "[8 rows x 41 columns]"
      ]
     },
     "execution_count": 422,
     "metadata": {},
     "output_type": "execute_result"
    }
   ],
   "source": [
    "df.describe()"
   ]
  },
  {
   "cell_type": "code",
   "execution_count": 65,
   "id": "7b463d62-4621-4b99-ba3b-5568f4404445",
   "metadata": {},
   "outputs": [
    {
     "data": {
      "text/plain": [
       "<AxesSubplot:xlabel='SalePrice', ylabel='Count'>"
      ]
     },
     "execution_count": 65,
     "metadata": {},
     "output_type": "execute_result"
    },
    {
     "data": {
      "image/png": "[encoded data removed]",
      "text/plain": [
       "<Figure size 432x288 with 1 Axes>"
      ]
     },
     "metadata": {
      "needs_background": "light"
     },
     "output_type": "display_data"
    }
   ],
   "source": [
    "sns.histplot(df['SalePrice'])"
   ]
  },
  {
   "cell_type": "code",
   "execution_count": 67,
   "id": "3a7ed887-e1eb-4103-b363-9dfec5ecb358",
   "metadata": {},
   "outputs": [
    {
     "data": {
      "text/plain": [
       "<AxesSubplot:xlabel='SalePrice', ylabel='Count'>"
      ]
     },
     "execution_count": 67,
     "metadata": {},
     "output_type": "execute_result"
    },
    {
     "data": {
      "image/png": "[encoded data removed]",
      "text/plain": [
       "<Figure size 432x288 with 1 Axes>"
      ]
     },
     "metadata": {
      "needs_background": "light"
     },
     "output_type": "display_data"
    }
   ],
   "source": [
    "#ajuste de variable SalePrice a una normalizada\n",
    "sns.histplot(np.log(df['SalePrice']))"
   ]
  },
  {
   "cell_type": "code",
   "execution_count": 72,
   "id": "6d920442-6438-448b-8e00-3e2dded46c9b",
   "metadata": {},
   "outputs": [],
   "source": [
    "df['SalePriceNorm']=np.log(df['SalePrice'])"
   ]
  },
  {
   "cell_type": "markdown",
   "id": "2581dde9-c761-4106-820d-dfad071beae6",
   "metadata": {},
   "source": [
    "# Variables numéricas"
   ]
  },
  {
   "cell_type": "code",
   "execution_count": 83,
   "id": "79182096-8f6c-46c6-8270-464ddc4b959c",
   "metadata": {},
   "outputs": [
    {
     "data": {
      "text/plain": [
       "<AxesSubplot:>"
      ]
     },
     "execution_count": 83,
     "metadata": {},
     "output_type": "execute_result"
    },
    {
     "data": {
      "image/png": "[encoded data removed]",
      "text/plain": [
       "<Figure size 720x720 with 2 Axes>"
      ]
     },
     "metadata": {
      "needs_background": "light"
     },
     "output_type": "display_data"
    }
   ],
   "source": [
    "corr= df.corr()\n",
    "mask = np.triu(np.ones_like(corr, dtype = bool))\n",
    "cmap = sns.diverging_palette(2020, 10, as_cmap = True)\n",
    "plt.figure(figsize = (10,10))\n",
    "sns.heatmap(corr, mask = mask, cmap = cmap, vmax = 1, vmin = -1, square = True, center = 0, linewidths = 0.5)"
   ]
  },
  {
   "cell_type": "code",
   "execution_count": 84,
   "id": "089d7319-68b8-4021-8e24-5934fd3f5614",
   "metadata": {
    "tags": []
   },
   "outputs": [
    {
     "data": {
      "text/html": [
       "<div>\n",
       "<style scoped>\n",
       "    .dataframe tbody tr th:only-of-type {\n",
       "        vertical-align: middle;\n",
       "    }\n",
       "\n",
       "    .dataframe tbody tr th {\n",
       "        vertical-align: top;\n",
       "    }\n",
       "\n",
       "    .dataframe thead th {\n",
       "        text-align: right;\n",
       "    }\n",
       "</style>\n",
       "<table border=\"1\" class=\"dataframe\">\n",
       "  <thead>\n",
       "    <tr style=\"text-align: right;\">\n",
       "      <th></th>\n",
       "      <th>SalePriceNorm</th>\n",
       "    </tr>\n",
       "  </thead>\n",
       "  <tbody>\n",
       "    <tr>\n",
       "      <th>SalePriceNorm</th>\n",
       "      <td>1.000000</td>\n",
       "    </tr>\n",
       "    <tr>\n",
       "      <th>SalePrice</th>\n",
       "      <td>0.948374</td>\n",
       "    </tr>\n",
       "    <tr>\n",
       "      <th>OverallQual</th>\n",
       "      <td>0.817184</td>\n",
       "    </tr>\n",
       "    <tr>\n",
       "      <th>GrLivArea</th>\n",
       "      <td>0.700927</td>\n",
       "    </tr>\n",
       "    <tr>\n",
       "      <th>GarageCars</th>\n",
       "      <td>0.680625</td>\n",
       "    </tr>\n",
       "    <tr>\n",
       "      <th>GarageArea</th>\n",
       "      <td>0.650888</td>\n",
       "    </tr>\n",
       "    <tr>\n",
       "      <th>TotalBsmtSF</th>\n",
       "      <td>0.612134</td>\n",
       "    </tr>\n",
       "    <tr>\n",
       "      <th>1stFlrSF</th>\n",
       "      <td>0.596981</td>\n",
       "    </tr>\n",
       "    <tr>\n",
       "      <th>FullBath</th>\n",
       "      <td>0.594771</td>\n",
       "    </tr>\n",
       "    <tr>\n",
       "      <th>YearBuilt</th>\n",
       "      <td>0.586570</td>\n",
       "    </tr>\n",
       "    <tr>\n",
       "      <th>YearRemodAdd</th>\n",
       "      <td>0.565608</td>\n",
       "    </tr>\n",
       "    <tr>\n",
       "      <th>GarageYrBlt</th>\n",
       "      <td>0.541073</td>\n",
       "    </tr>\n",
       "    <tr>\n",
       "      <th>TotRmsAbvGrd</th>\n",
       "      <td>0.534422</td>\n",
       "    </tr>\n",
       "    <tr>\n",
       "      <th>Fireplaces</th>\n",
       "      <td>0.489449</td>\n",
       "    </tr>\n",
       "    <tr>\n",
       "      <th>MasVnrArea</th>\n",
       "      <td>0.430809</td>\n",
       "    </tr>\n",
       "    <tr>\n",
       "      <th>bathrooms/rooms</th>\n",
       "      <td>0.380832</td>\n",
       "    </tr>\n",
       "    <tr>\n",
       "      <th>BsmtFinSF1</th>\n",
       "      <td>0.372023</td>\n",
       "    </tr>\n",
       "    <tr>\n",
       "      <th>LotFrontage</th>\n",
       "      <td>0.355878</td>\n",
       "    </tr>\n",
       "    <tr>\n",
       "      <th>WoodDeckSF</th>\n",
       "      <td>0.334135</td>\n",
       "    </tr>\n",
       "    <tr>\n",
       "      <th>OpenPorchSF</th>\n",
       "      <td>0.321053</td>\n",
       "    </tr>\n",
       "    <tr>\n",
       "      <th>2ndFlrSF</th>\n",
       "      <td>0.319300</td>\n",
       "    </tr>\n",
       "    <tr>\n",
       "      <th>HalfBath</th>\n",
       "      <td>0.313982</td>\n",
       "    </tr>\n",
       "    <tr>\n",
       "      <th>LotArea</th>\n",
       "      <td>0.257320</td>\n",
       "    </tr>\n",
       "    <tr>\n",
       "      <th>BsmtFullBath</th>\n",
       "      <td>0.236224</td>\n",
       "    </tr>\n",
       "    <tr>\n",
       "      <th>BsmtUnfSF</th>\n",
       "      <td>0.221985</td>\n",
       "    </tr>\n",
       "    <tr>\n",
       "      <th>BedroomAbvGr</th>\n",
       "      <td>0.209044</td>\n",
       "    </tr>\n",
       "    <tr>\n",
       "      <th>ScreenPorch</th>\n",
       "      <td>0.121208</td>\n",
       "    </tr>\n",
       "    <tr>\n",
       "      <th>PoolArea</th>\n",
       "      <td>0.069798</td>\n",
       "    </tr>\n",
       "    <tr>\n",
       "      <th>MoSold</th>\n",
       "      <td>0.057329</td>\n",
       "    </tr>\n",
       "    <tr>\n",
       "      <th>3SsnPorch</th>\n",
       "      <td>0.054900</td>\n",
       "    </tr>\n",
       "    <tr>\n",
       "      <th>BsmtFinSF2</th>\n",
       "      <td>0.004832</td>\n",
       "    </tr>\n",
       "    <tr>\n",
       "      <th>BsmtHalfBath</th>\n",
       "      <td>-0.005149</td>\n",
       "    </tr>\n",
       "    <tr>\n",
       "      <th>MiscVal</th>\n",
       "      <td>-0.020021</td>\n",
       "    </tr>\n",
       "    <tr>\n",
       "      <th>OverallCond</th>\n",
       "      <td>-0.036868</td>\n",
       "    </tr>\n",
       "    <tr>\n",
       "      <th>YrSold</th>\n",
       "      <td>-0.037263</td>\n",
       "    </tr>\n",
       "    <tr>\n",
       "      <th>LowQualFinSF</th>\n",
       "      <td>-0.037963</td>\n",
       "    </tr>\n",
       "    <tr>\n",
       "      <th>MSSubClass</th>\n",
       "      <td>-0.073959</td>\n",
       "    </tr>\n",
       "    <tr>\n",
       "      <th>KitchenAbvGr</th>\n",
       "      <td>-0.147548</td>\n",
       "    </tr>\n",
       "    <tr>\n",
       "      <th>EnclosedPorch</th>\n",
       "      <td>-0.149050</td>\n",
       "    </tr>\n",
       "    <tr>\n",
       "      <th>garage_old</th>\n",
       "      <td>-0.541073</td>\n",
       "    </tr>\n",
       "    <tr>\n",
       "      <th>years_remod</th>\n",
       "      <td>-0.565608</td>\n",
       "    </tr>\n",
       "    <tr>\n",
       "      <th>Years_old</th>\n",
       "      <td>-0.586570</td>\n",
       "    </tr>\n",
       "  </tbody>\n",
       "</table>\n",
       "</div>"
      ],
      "text/plain": [
       "                 SalePriceNorm\n",
       "SalePriceNorm         1.000000\n",
       "SalePrice             0.948374\n",
       "OverallQual           0.817184\n",
       "GrLivArea             0.700927\n",
       "GarageCars            0.680625\n",
       "GarageArea            0.650888\n",
       "TotalBsmtSF           0.612134\n",
       "1stFlrSF              0.596981\n",
       "FullBath              0.594771\n",
       "YearBuilt             0.586570\n",
       "YearRemodAdd          0.565608\n",
       "GarageYrBlt           0.541073\n",
       "TotRmsAbvGrd          0.534422\n",
       "Fireplaces            0.489449\n",
       "MasVnrArea            0.430809\n",
       "bathrooms/rooms       0.380832\n",
       "BsmtFinSF1            0.372023\n",
       "LotFrontage           0.355878\n",
       "WoodDeckSF            0.334135\n",
       "OpenPorchSF           0.321053\n",
       "2ndFlrSF              0.319300\n",
       "HalfBath              0.313982\n",
       "LotArea               0.257320\n",
       "BsmtFullBath          0.236224\n",
       "BsmtUnfSF             0.221985\n",
       "BedroomAbvGr          0.209044\n",
       "ScreenPorch           0.121208\n",
       "PoolArea              0.069798\n",
       "MoSold                0.057329\n",
       "3SsnPorch             0.054900\n",
       "BsmtFinSF2            0.004832\n",
       "BsmtHalfBath         -0.005149\n",
       "MiscVal              -0.020021\n",
       "OverallCond          -0.036868\n",
       "YrSold               -0.037263\n",
       "LowQualFinSF         -0.037963\n",
       "MSSubClass           -0.073959\n",
       "KitchenAbvGr         -0.147548\n",
       "EnclosedPorch        -0.149050\n",
       "garage_old           -0.541073\n",
       "years_remod          -0.565608\n",
       "Years_old            -0.586570"
      ]
     },
     "execution_count": 84,
     "metadata": {},
     "output_type": "execute_result"
    }
   ],
   "source": [
    "df_corr = df.corr()[['SalePriceNorm']].sort_values( by= 'SalePriceNorm',ascending = False)\n",
    "df_corr"
   ]
  },
  {
   "cell_type": "code",
   "execution_count": 78,
   "id": "5bf008ea-6d30-4ef1-86ba-678db4d8059f",
   "metadata": {},
   "outputs": [
    {
     "data": {
      "text/plain": [
       "array(['SalePriceNorm', 'SalePrice', 'OverallQual', 'GrLivArea',\n",
       "       'GarageCars', 'GarageArea', 'TotalBsmtSF', '1stFlrSF', 'FullBath',\n",
       "       'YearBuilt', 'YearRemodAdd', 'GarageYrBlt', 'TotRmsAbvGrd'],\n",
       "      dtype=object)"
      ]
     },
     "execution_count": 78,
     "metadata": {},
     "output_type": "execute_result"
    }
   ],
   "source": [
    "#Columnas con más de 0,5 de correlación con SalePriceNorm\n",
    "corr_positiva = df_corr[df_corr['SalePriceNorm'] >= 0.5].reset_index()\n",
    "corr_positiva['index'].unique()"
   ]
  },
  {
   "cell_type": "markdown",
   "id": "e80fb60b-10c2-458f-922a-26b8ad640e1c",
   "metadata": {},
   "source": [
    "De las columnas con correlación positiva no se consideran:\n",
    "- GarageCars ya que se representa con GarageArea\n",
    "- FullBath ya que fue incorporado en la columna 'bathrooms/rooms'\n",
    "- YearBuilt, YearRemodAdd, GarageYrBlt ya que el valor de la columna es el año y no la antiguedad"
   ]
  },
  {
   "cell_type": "code",
   "execution_count": 119,
   "id": "1cfe47c2-f0c8-4261-ab6c-3569765f5a91",
   "metadata": {},
   "outputs": [
    {
     "data": {
      "text/plain": [
       "array(['garage_old', 'years_remod', 'Years_old'], dtype=object)"
      ]
     },
     "execution_count": 119,
     "metadata": {},
     "output_type": "execute_result"
    }
   ],
   "source": [
    "corr_negativa = df_corr[df_corr['SalePriceNorm'] <= -0.5].reset_index()\n",
    "corr_negativa['index'].unique()"
   ]
  },
  {
   "cell_type": "markdown",
   "id": "3776f243-f7a5-41b2-a350-6b36f7da80de",
   "metadata": {},
   "source": [
    "## Gráficando correlaciones positivas"
   ]
  },
  {
   "cell_type": "markdown",
   "id": "418a35ec-06c3-4838-a161-3b5cfd48ca4e",
   "metadata": {},
   "source": [
    "'OverallQual', 'GrLivArea', 'GarageArea', 'TotalBsmtSF', '1stFlrSF','TotRmsAbvGrd'"
   ]
  },
  {
   "cell_type": "code",
   "execution_count": 107,
   "id": "b33f23a1-4d4a-4ce5-bb13-e105e58f0cd2",
   "metadata": {},
   "outputs": [
    {
     "data": {
      "text/html": [
       "<div>\n",
       "<style scoped>\n",
       "    .dataframe tbody tr th:only-of-type {\n",
       "        vertical-align: middle;\n",
       "    }\n",
       "\n",
       "    .dataframe tbody tr th {\n",
       "        vertical-align: top;\n",
       "    }\n",
       "\n",
       "    .dataframe thead th {\n",
       "        text-align: right;\n",
       "    }\n",
       "</style>\n",
       "<table border=\"1\" class=\"dataframe\">\n",
       "  <thead>\n",
       "    <tr style=\"text-align: right;\">\n",
       "      <th></th>\n",
       "      <th>OverallQual</th>\n",
       "      <th>GrLivArea</th>\n",
       "      <th>GarageArea</th>\n",
       "      <th>TotalBsmtSF</th>\n",
       "      <th>1stFlrSF</th>\n",
       "      <th>TotRmsAbvGrd</th>\n",
       "    </tr>\n",
       "  </thead>\n",
       "  <tbody>\n",
       "    <tr>\n",
       "      <th>count</th>\n",
       "      <td>1460.000000</td>\n",
       "      <td>1460.000000</td>\n",
       "      <td>1460.000000</td>\n",
       "      <td>1460.000000</td>\n",
       "      <td>1460.000000</td>\n",
       "      <td>1460.000000</td>\n",
       "    </tr>\n",
       "    <tr>\n",
       "      <th>mean</th>\n",
       "      <td>6.099315</td>\n",
       "      <td>1515.463699</td>\n",
       "      <td>472.980137</td>\n",
       "      <td>1057.429452</td>\n",
       "      <td>1162.626712</td>\n",
       "      <td>6.517808</td>\n",
       "    </tr>\n",
       "    <tr>\n",
       "      <th>std</th>\n",
       "      <td>1.382997</td>\n",
       "      <td>525.480383</td>\n",
       "      <td>213.804841</td>\n",
       "      <td>438.705324</td>\n",
       "      <td>386.587738</td>\n",
       "      <td>1.625393</td>\n",
       "    </tr>\n",
       "    <tr>\n",
       "      <th>min</th>\n",
       "      <td>1.000000</td>\n",
       "      <td>334.000000</td>\n",
       "      <td>0.000000</td>\n",
       "      <td>0.000000</td>\n",
       "      <td>334.000000</td>\n",
       "      <td>2.000000</td>\n",
       "    </tr>\n",
       "    <tr>\n",
       "      <th>25%</th>\n",
       "      <td>5.000000</td>\n",
       "      <td>1129.500000</td>\n",
       "      <td>334.500000</td>\n",
       "      <td>795.750000</td>\n",
       "      <td>882.000000</td>\n",
       "      <td>5.000000</td>\n",
       "    </tr>\n",
       "    <tr>\n",
       "      <th>50%</th>\n",
       "      <td>6.000000</td>\n",
       "      <td>1464.000000</td>\n",
       "      <td>480.000000</td>\n",
       "      <td>991.500000</td>\n",
       "      <td>1087.000000</td>\n",
       "      <td>6.000000</td>\n",
       "    </tr>\n",
       "    <tr>\n",
       "      <th>75%</th>\n",
       "      <td>7.000000</td>\n",
       "      <td>1776.750000</td>\n",
       "      <td>576.000000</td>\n",
       "      <td>1298.250000</td>\n",
       "      <td>1391.250000</td>\n",
       "      <td>7.000000</td>\n",
       "    </tr>\n",
       "    <tr>\n",
       "      <th>max</th>\n",
       "      <td>10.000000</td>\n",
       "      <td>5642.000000</td>\n",
       "      <td>1418.000000</td>\n",
       "      <td>6110.000000</td>\n",
       "      <td>4692.000000</td>\n",
       "      <td>14.000000</td>\n",
       "    </tr>\n",
       "  </tbody>\n",
       "</table>\n",
       "</div>"
      ],
      "text/plain": [
       "       OverallQual    GrLivArea   GarageArea  TotalBsmtSF     1stFlrSF  \\\n",
       "count  1460.000000  1460.000000  1460.000000  1460.000000  1460.000000   \n",
       "mean      6.099315  1515.463699   472.980137  1057.429452  1162.626712   \n",
       "std       1.382997   525.480383   213.804841   438.705324   386.587738   \n",
       "min       1.000000   334.000000     0.000000     0.000000   334.000000   \n",
       "25%       5.000000  1129.500000   334.500000   795.750000   882.000000   \n",
       "50%       6.000000  1464.000000   480.000000   991.500000  1087.000000   \n",
       "75%       7.000000  1776.750000   576.000000  1298.250000  1391.250000   \n",
       "max      10.000000  5642.000000  1418.000000  6110.000000  4692.000000   \n",
       "\n",
       "       TotRmsAbvGrd  \n",
       "count   1460.000000  \n",
       "mean       6.517808  \n",
       "std        1.625393  \n",
       "min        2.000000  \n",
       "25%        5.000000  \n",
       "50%        6.000000  \n",
       "75%        7.000000  \n",
       "max       14.000000  "
      ]
     },
     "execution_count": 107,
     "metadata": {},
     "output_type": "execute_result"
    }
   ],
   "source": [
    "df[['OverallQual', 'GrLivArea', 'GarageArea', 'TotalBsmtSF', '1stFlrSF','TotRmsAbvGrd']].describe()"
   ]
  },
  {
   "cell_type": "markdown",
   "id": "7b8f12ba-1447-4393-abe2-8efa9a03f5cb",
   "metadata": {},
   "source": [
    "### GrLivArea"
   ]
  },
  {
   "cell_type": "code",
   "execution_count": 87,
   "id": "8ba3a9b4-b009-4d73-af43-1624fae642fb",
   "metadata": {},
   "outputs": [
    {
     "data": {
      "image/png": "[encoded data removed]",
      "text/plain": [
       "<Figure size 432x288 with 1 Axes>"
      ]
     },
     "metadata": {
      "needs_background": "light"
     },
     "output_type": "display_data"
    }
   ],
   "source": [
    "sns.scatterplot(x='GarageArea', y='SalePriceNorm', data=df)\n",
    "plt.show()"
   ]
  },
  {
   "cell_type": "markdown",
   "id": "a3aaf190-19f3-4cbc-ab50-547bd29f6ec7",
   "metadata": {},
   "source": [
    "### TotalBsmtSF"
   ]
  },
  {
   "cell_type": "code",
   "execution_count": 88,
   "id": "69ebece2-b94a-4370-8d4c-e9ff34455d37",
   "metadata": {},
   "outputs": [
    {
     "data": {
      "image/png": "[encoded data removed]",
      "text/plain": [
       "<Figure size 432x288 with 1 Axes>"
      ]
     },
     "metadata": {
      "needs_background": "light"
     },
     "output_type": "display_data"
    }
   ],
   "source": [
    "sns.scatterplot(x='TotalBsmtSF', y='SalePriceNorm', data=df)\n",
    "plt.show()"
   ]
  },
  {
   "cell_type": "markdown",
   "id": "fa91a042-62be-4e0d-bbc2-49fc8dbadd08",
   "metadata": {},
   "source": [
    "### 1stFlrSF"
   ]
  },
  {
   "cell_type": "code",
   "execution_count": 89,
   "id": "fbd2bba4-6a5a-47ee-b6e6-0ff8607f7233",
   "metadata": {},
   "outputs": [
    {
     "data": {
      "image/png": "[encoded data removed]",
      "text/plain": [
       "<Figure size 432x288 with 1 Axes>"
      ]
     },
     "metadata": {
      "needs_background": "light"
     },
     "output_type": "display_data"
    }
   ],
   "source": [
    "sns.scatterplot(x='1stFlrSF', y='SalePriceNorm', data=df)\n",
    "plt.show()"
   ]
  },
  {
   "cell_type": "markdown",
   "id": "0f7d4666-7115-404a-bc53-0d0578990668",
   "metadata": {},
   "source": [
    "### TotRmsAbvGrd"
   ]
  },
  {
   "cell_type": "code",
   "execution_count": 92,
   "id": "61edfd8e-dd87-4d37-9ebd-d5f99c93ffb4",
   "metadata": {},
   "outputs": [
    {
     "data": {
      "image/png": "[encoded data removed]",
      "text/plain": [
       "<Figure size 432x288 with 1 Axes>"
      ]
     },
     "metadata": {
      "needs_background": "light"
     },
     "output_type": "display_data"
    }
   ],
   "source": [
    "sns.barplot(x='TotRmsAbvGrd', y='SalePriceNorm', data=df)\n",
    "plt.show()\n",
    "#Variable se observa categórica, por lo que se grafica como barras"
   ]
  },
  {
   "cell_type": "code",
   "execution_count": 103,
   "id": "3a99ba2e-e014-4d00-b3dc-de0be270fd03",
   "metadata": {},
   "outputs": [],
   "source": [
    "from scipy.stats import ttest_ind\n",
    "#Probaremos si al dividir en dos muestras, ambas muestras se comportan diferentes"
   ]
  },
  {
   "cell_type": "code",
   "execution_count": 102,
   "id": "1d909fad-2d4d-402b-93ea-d99702c53786",
   "metadata": {},
   "outputs": [
    {
     "data": {
      "text/plain": [
       "Ttest_indResult(statistic=20.029392550083063, pvalue=4.9704509942283135e-79)"
      ]
     },
     "execution_count": 102,
     "metadata": {},
     "output_type": "execute_result"
    }
   ],
   "source": [
    "ttest_ind(df[df.TotRmsAbvGrd >= 7].SalePriceNorm, df[df.TotRmsAbvGrd < 7].SalePriceNorm)"
   ]
  },
  {
   "cell_type": "markdown",
   "id": "46e9465e-1599-48bb-b099-8ba3ad93c700",
   "metadata": {},
   "source": [
    "h0: promedio total habitaciones >= 7 == promedio total habitaciones < 7\n",
    "\n",
    "La prueba t da un valor de p igual a cero, lo que nos permitiría rechazar la hipotesis nula "
   ]
  },
  {
   "cell_type": "markdown",
   "id": "d66eff03-253a-4392-8f63-d7ebfa0191b1",
   "metadata": {},
   "source": [
    "### OverallQual"
   ]
  },
  {
   "cell_type": "code",
   "execution_count": 91,
   "id": "9fa74a12-8b63-4e99-b241-14d173b6098a",
   "metadata": {},
   "outputs": [
    {
     "data": {
      "image/png": "[encoded data removed]",
      "text/plain": [
       "<Figure size 432x288 with 1 Axes>"
      ]
     },
     "metadata": {
      "needs_background": "light"
     },
     "output_type": "display_data"
    }
   ],
   "source": [
    "sns.barplot(x='OverallQual', y='SalePriceNorm', data=df)\n",
    "plt.show()\n",
    "#Variable se observa categórica, por lo que se grafica como barras"
   ]
  },
  {
   "cell_type": "code",
   "execution_count": 104,
   "id": "ca224c5b-8a47-449a-a373-2a8cd033856f",
   "metadata": {},
   "outputs": [
    {
     "data": {
      "text/plain": [
       "Ttest_indResult(statistic=12.476957392273556, pvalue=5.437728755324813e-34)"
      ]
     },
     "execution_count": 104,
     "metadata": {},
     "output_type": "execute_result"
    }
   ],
   "source": [
    "ttest_ind(df[df.OverallQual >= 5].SalePriceNorm, df[df.TotRmsAbvGrd < 5].SalePriceNorm)"
   ]
  },
  {
   "cell_type": "markdown",
   "id": "e5da2851-00c1-415c-bbce-c7539884a2be",
   "metadata": {},
   "source": [
    "h0: promedio puntuaciones de calidad >= 5 == promedio puntuaciones de calidad < 5\n",
    "\n",
    "La prueba t da un valor de p igual a cero, lo que nos permitiría rechazar la hipotesis nula "
   ]
  },
  {
   "cell_type": "code",
   "execution_count": 106,
   "id": "5b9a691e-d2b7-4a3c-b77a-7991499f3f25",
   "metadata": {},
   "outputs": [],
   "source": [
    "#Probemos un ANOVA con ambas variables categóricas"
   ]
  },
  {
   "cell_type": "code",
   "execution_count": 110,
   "id": "aa434406-05a0-4afb-a415-26f3ed44abed",
   "metadata": {},
   "outputs": [],
   "source": [
    "from statsmodels.formula.api import ols\n",
    "import statsmodels.api as sm"
   ]
  },
  {
   "cell_type": "code",
   "execution_count": 128,
   "id": "8a46bfae-0f56-4347-a773-f1da5fe2ab1b",
   "metadata": {},
   "outputs": [],
   "source": [
    "modelo_1 = ols('SalePrice ~ C(OverallQual) + C(TotRmsAbvGrd)', data = df).fit()"
   ]
  },
  {
   "cell_type": "code",
   "execution_count": 129,
   "id": "b76466fd-0fb6-45cd-9acb-aa8ac73a37fe",
   "metadata": {},
   "outputs": [
    {
     "data": {
      "text/html": [
       "<div>\n",
       "<style scoped>\n",
       "    .dataframe tbody tr th:only-of-type {\n",
       "        vertical-align: middle;\n",
       "    }\n",
       "\n",
       "    .dataframe tbody tr th {\n",
       "        vertical-align: top;\n",
       "    }\n",
       "\n",
       "    .dataframe thead th {\n",
       "        text-align: right;\n",
       "    }\n",
       "</style>\n",
       "<table border=\"1\" class=\"dataframe\">\n",
       "  <thead>\n",
       "    <tr style=\"text-align: right;\">\n",
       "      <th></th>\n",
       "      <th>df</th>\n",
       "      <th>sum_sq</th>\n",
       "      <th>mean_sq</th>\n",
       "      <th>F</th>\n",
       "      <th>PR(&gt;F)</th>\n",
       "    </tr>\n",
       "  </thead>\n",
       "  <tbody>\n",
       "    <tr>\n",
       "      <th>C(OverallQual)</th>\n",
       "      <td>9.0</td>\n",
       "      <td>6.299881e+12</td>\n",
       "      <td>6.999867e+11</td>\n",
       "      <td>398.596356</td>\n",
       "      <td>0.000000e+00</td>\n",
       "    </tr>\n",
       "    <tr>\n",
       "      <th>C(TotRmsAbvGrd)</th>\n",
       "      <td>11.0</td>\n",
       "      <td>3.809607e+11</td>\n",
       "      <td>3.463279e+10</td>\n",
       "      <td>19.721092</td>\n",
       "      <td>2.064711e-37</td>\n",
       "    </tr>\n",
       "    <tr>\n",
       "      <th>Residual</th>\n",
       "      <td>1439.0</td>\n",
       "      <td>2.527070e+12</td>\n",
       "      <td>1.756129e+09</td>\n",
       "      <td>NaN</td>\n",
       "      <td>NaN</td>\n",
       "    </tr>\n",
       "  </tbody>\n",
       "</table>\n",
       "</div>"
      ],
      "text/plain": [
       "                     df        sum_sq       mean_sq           F        PR(>F)\n",
       "C(OverallQual)      9.0  6.299881e+12  6.999867e+11  398.596356  0.000000e+00\n",
       "C(TotRmsAbvGrd)    11.0  3.809607e+11  3.463279e+10   19.721092  2.064711e-37\n",
       "Residual         1439.0  2.527070e+12  1.756129e+09         NaN           NaN"
      ]
     },
     "execution_count": 129,
     "metadata": {},
     "output_type": "execute_result"
    }
   ],
   "source": [
    "sm.stats.anova_lm(modelo_1)"
   ]
  },
  {
   "cell_type": "markdown",
   "id": "9564db88-56ab-4aac-8b4b-f5a9fd33de7c",
   "metadata": {},
   "source": [
    "Se obtuvo para ambas variables categóricas un p value de cero, por lo que podríamos decir que ambas variables podían afectar la predicción de SalePrice.\n",
    "\n",
    "Lo que nos indica el p value es que los grupos dentro de las variables tienen un comportamiento diferente en cuanto a las medias (se podría decir que no son iguales)"
   ]
  },
  {
   "cell_type": "markdown",
   "id": "3d554d17-8dfb-4550-bbcf-87f7c5450024",
   "metadata": {
    "tags": []
   },
   "source": [
    "## Graficando correlaciones negativas"
   ]
  },
  {
   "cell_type": "markdown",
   "id": "e0fff29c-e472-4915-ad10-765bb10f3190",
   "metadata": {},
   "source": [
    "'garage_old', 'years_remod', 'Years_old'"
   ]
  },
  {
   "cell_type": "markdown",
   "id": "ba98c2e4-3cc4-455f-bf36-427658400e3f",
   "metadata": {},
   "source": [
    "### garage_old"
   ]
  },
  {
   "cell_type": "code",
   "execution_count": 121,
   "id": "f120714c-9e98-4286-bf62-501ccb252082",
   "metadata": {},
   "outputs": [
    {
     "data": {
      "image/png": "[encoded data removed]",
      "text/plain": [
       "<Figure size 432x288 with 1 Axes>"
      ]
     },
     "metadata": {
      "needs_background": "light"
     },
     "output_type": "display_data"
    }
   ],
   "source": [
    "sns.scatterplot(x='garage_old', y='SalePriceNorm', data=df)\n",
    "plt.show()"
   ]
  },
  {
   "cell_type": "markdown",
   "id": "3492bb1c-5680-4137-acc9-fa45a6d325cc",
   "metadata": {
    "tags": []
   },
   "source": [
    "### years_remod"
   ]
  },
  {
   "cell_type": "code",
   "execution_count": 122,
   "id": "f943ebc4-ef9c-4c25-b57f-c0487bd8ade3",
   "metadata": {},
   "outputs": [
    {
     "data": {
      "image/png": "[encoded data removed]",
      "text/plain": [
       "<Figure size 432x288 with 1 Axes>"
      ]
     },
     "metadata": {
      "needs_background": "light"
     },
     "output_type": "display_data"
    }
   ],
   "source": [
    "sns.scatterplot(x='years_remod', y='SalePriceNorm', data=df)\n",
    "plt.show()"
   ]
  },
  {
   "cell_type": "code",
   "execution_count": 123,
   "id": "cf085448-bd4a-4007-af73-772bdfca8a15",
   "metadata": {},
   "outputs": [
    {
     "data": {
      "image/png": "[encoded data removed]",
      "text/plain": [
       "<Figure size 432x288 with 1 Axes>"
      ]
     },
     "metadata": {
      "needs_background": "light"
     },
     "output_type": "display_data"
    }
   ],
   "source": [
    "sns.scatterplot(x='Years_old', y='SalePriceNorm', data=df)\n",
    "plt.show()"
   ]
  },
  {
   "cell_type": "markdown",
   "id": "8748ecbd-dcaa-4893-b5f2-0f102a41b169",
   "metadata": {},
   "source": [
    "## Regresión para evaluar variables numéricas"
   ]
  },
  {
   "cell_type": "code",
   "execution_count": 262,
   "id": "e552261d-1848-45e0-b7ce-933063962cfc",
   "metadata": {},
   "outputs": [],
   "source": [
    "num = df[['GrLivArea', 'GarageArea', '1stFlrSF','TotRmsAbvGrd','garage_old', 'years_remod', 'Years_old','SalePrice']]"
   ]
  },
  {
   "cell_type": "code",
   "execution_count": 263,
   "id": "601a7df5-742b-42e5-aff1-35a742099f85",
   "metadata": {},
   "outputs": [
    {
     "data": {
      "text/plain": [
       "GrLivArea        0\n",
       "GarageArea       0\n",
       "1stFlrSF         0\n",
       "TotRmsAbvGrd     0\n",
       "garage_old      81\n",
       "years_remod      0\n",
       "Years_old        0\n",
       "SalePrice        0\n",
       "dtype: int64"
      ]
     },
     "execution_count": 263,
     "metadata": {},
     "output_type": "execute_result"
    }
   ],
   "source": [
    "num.isnull().sum()"
   ]
  },
  {
   "cell_type": "code",
   "execution_count": 265,
   "id": "38306968-d330-4fe0-a79c-3d1cf988931c",
   "metadata": {},
   "outputs": [
    {
     "name": "stderr",
     "output_type": "stream",
     "text": [
      "C:\\Users\\fezun\\anaconda3\\lib\\site-packages\\pandas\\util\\_decorators.py:311: SettingWithCopyWarning: \n",
      "A value is trying to be set on a copy of a slice from a DataFrame\n",
      "\n",
      "See the caveats in the documentation: https://pandas.pydata.org/pandas-docs/stable/user_guide/indexing.html#returning-a-view-versus-a-copy\n",
      "  return func(*args, **kwargs)\n"
     ]
    }
   ],
   "source": [
    "num.dropna(inplace=True)"
   ]
  },
  {
   "cell_type": "code",
   "execution_count": 268,
   "id": "d5b86c7b-d01a-4f02-b7cd-bf98787dba2d",
   "metadata": {},
   "outputs": [],
   "source": [
    "numericas= sm.add_constant(num[['GrLivArea', 'GarageArea', '1stFlrSF','TotRmsAbvGrd','garage_old', 'years_remod', 'Years_old']])\n",
    "y = num['SalePrice']\n",
    "#r-cuadrado 0.704"
   ]
  },
  {
   "cell_type": "code",
   "execution_count": 305,
   "id": "97f68f8b-4b8e-439c-a263-630d65ab31a8",
   "metadata": {},
   "outputs": [
    {
     "name": "stderr",
     "output_type": "stream",
     "text": [
      "C:\\Users\\fezun\\anaconda3\\lib\\site-packages\\statsmodels\\tsa\\tsatools.py:142: FutureWarning: In a future version of pandas all arguments of concat except for the argument 'objs' will be keyword-only\n",
      "  x = pd.concat(x[::order], 1)\n"
     ]
    }
   ],
   "source": [
    "numericas_edit= sm.add_constant(num[['GrLivArea', 'GarageArea', '1stFlrSF','garage_old','years_remod']])\n",
    "#Al eliminar TotRmsAbvGrd no se genera un cambio en el r-cuadrado y el cambio al eliminar years_remod es muy bajo, por lo tanto se decide eliminar ya que en algunos casos repite la información de years_remod"
   ]
  },
  {
   "cell_type": "code",
   "execution_count": 306,
   "id": "8c87b526-5ad9-413c-a705-a0ba341d0b7e",
   "metadata": {},
   "outputs": [],
   "source": [
    "reg_lineal_num = sm.OLS(y, numericas_edit).fit()"
   ]
  },
  {
   "cell_type": "code",
   "execution_count": 307,
   "id": "5c060496-7d83-4d7e-88a4-0af4ecacfe28",
   "metadata": {},
   "outputs": [
    {
     "name": "stdout",
     "output_type": "stream",
     "text": [
      "                            OLS Regression Results                            \n",
      "==============================================================================\n",
      "Dep. Variable:              SalePrice   R-squared:                       0.684\n",
      "Model:                            OLS   Adj. R-squared:                  0.683\n",
      "Method:                 Least Squares   F-statistic:                     594.4\n",
      "Date:                Sat, 30 Jul 2022   Prob (F-statistic):               0.00\n",
      "Time:                        22:33:01   Log-Likelihood:                -16714.\n",
      "No. Observations:                1379   AIC:                         3.344e+04\n",
      "Df Residuals:                    1373   BIC:                         3.347e+04\n",
      "Df Model:                           5                                         \n",
      "Covariance Type:            nonrobust                                         \n",
      "===============================================================================\n",
      "                  coef    std err          t      P>|t|      [0.025      0.975]\n",
      "-------------------------------------------------------------------------------\n",
      "const        4.735e+04   6572.325      7.204      0.000    3.45e+04    6.02e+04\n",
      "GrLivArea      67.0701      2.926     22.923      0.000      61.330      72.810\n",
      "GarageArea     64.9590      9.095      7.143      0.000      47.118      82.800\n",
      "1stFlrSF       40.7226      3.930     10.363      0.000      33.014      48.431\n",
      "garage_old   -401.2021     71.863     -5.583      0.000    -542.176    -260.229\n",
      "years_remod  -760.7661     77.872     -9.769      0.000    -913.526    -608.006\n",
      "==============================================================================\n",
      "Omnibus:                      418.900   Durbin-Watson:                   2.011\n",
      "Prob(Omnibus):                  0.000   Jarque-Bera (JB):            29848.384\n",
      "Skew:                          -0.474   Prob(JB):                         0.00\n",
      "Kurtosis:                      25.772   Cond. No.                     1.14e+04\n",
      "==============================================================================\n",
      "\n",
      "Notes:\n",
      "[1] Standard Errors assume that the covariance matrix of the errors is correctly specified.\n",
      "[2] The condition number is large, 1.14e+04. This might indicate that there are\n",
      "strong multicollinearity or other numerical problems.\n"
     ]
    }
   ],
   "source": [
    "print(reg_lineal_num.summary())"
   ]
  },
  {
   "cell_type": "markdown",
   "id": "92e1c806-ecef-43f9-b0a0-51a1d2be018b",
   "metadata": {
    "tags": []
   },
   "source": [
    "# Variables Categoricas y ANOVA"
   ]
  },
  {
   "cell_type": "code",
   "execution_count": 26,
   "id": "d027709a-b9b5-4b55-9f39-cd530081cb92",
   "metadata": {},
   "outputs": [
    {
     "data": {
      "text/plain": [
       "38"
      ]
     },
     "execution_count": 26,
     "metadata": {},
     "output_type": "execute_result"
    }
   ],
   "source": [
    "columnas_numericas = df._get_numeric_data().columns\n",
    "columnas_no_num = df.drop(columns=columnas_numericas)\n",
    "len(columnas_no_num.columns)"
   ]
  },
  {
   "cell_type": "code",
   "execution_count": 142,
   "id": "d9c5f93a-3f8a-4074-af32-841e2925df6b",
   "metadata": {},
   "outputs": [
    {
     "data": {
      "text/plain": [
       "'MSZoning+ Street+ LotShape+ LandContour+ Utilities+ LotConfig+ LandSlope+ Neighborhood+ Condition1+ Condition2+ BldgType+ HouseStyle+ RoofStyle+ RoofMatl+ Exterior1st+ Exterior2nd+ MasVnrType+ ExterQual+ ExterCond+ Foundation+ BsmtQual+ BsmtCond+ BsmtExposure+ BsmtFinType1+ BsmtFinType2+ Heating+ HeatingQC+ CentralAir+ Electrical+ KitchenQual+ Functional+ GarageType+ GarageFinish+ GarageQual+ GarageCond+ PavedDrive+ SaleType+ SaleCondition'"
      ]
     },
     "execution_count": 142,
     "metadata": {},
     "output_type": "execute_result"
    }
   ],
   "source": [
    "'+ '.join(columnas_no_num.columns)"
   ]
  },
  {
   "cell_type": "markdown",
   "id": "8f5e2675-d754-4289-a4c4-8bcd7e7d522a",
   "metadata": {},
   "source": [
    "Variables categoricas usar ANOVA"
   ]
  },
  {
   "cell_type": "code",
   "execution_count": 140,
   "id": "9e07acaa-27dc-4013-99fa-6de128cb3937",
   "metadata": {},
   "outputs": [],
   "source": [
    "modelo_2 = ols('SalePrice ~ MSZoning+Street+LotShape+LandContour+Utilities+LotConfig+LandSlope+Neighborhood+Condition1+Condition2+BldgType+HouseStyle+RoofStyle+RoofMatl+Exterior1st+Exterior2nd+MasVnrType+ExterQual+ExterCond+Foundation+BsmtQual+BsmtCond+BsmtExposure+BsmtFinType1+BsmtFinType2+Heating+HeatingQC+CentralAir+Electrical+KitchenQual+Functional+GarageType+GarageFinish+GarageQual+GarageCond+PavedDrive+SaleType+SaleCondition', data = df).fit()"
   ]
  },
  {
   "cell_type": "code",
   "execution_count": 169,
   "id": "75b96d04-759b-474c-b744-3f1f1dde8931",
   "metadata": {
    "tags": []
   },
   "outputs": [
    {
     "data": {
      "text/plain": [
       "Neighborhood    100.0\n",
       "MSZoning        100.0\n",
       "LotShape        100.0\n",
       "ExterQual       100.0\n",
       "BldgType        100.0\n",
       "BsmtQual        100.0\n",
       "Exterior1st     100.0\n",
       "RoofMatl        100.0\n",
       "RoofStyle       100.0\n",
       "MasVnrType      100.0\n",
       "BsmtExposure    100.0\n",
       "LandContour     100.0\n",
       "HouseStyle      100.0\n",
       "KitchenQual     100.0\n",
       "Name: PR(>F), dtype: float64"
      ]
     },
     "execution_count": 169,
     "metadata": {},
     "output_type": "execute_result"
    }
   ],
   "source": [
    "#Obtención de una lista con columnas categoricas que afectan el precio de la vivienda y filtradas por las que tienen un 100% de confianza que podráin afectan el precio de vivienda\n",
    "anova_categoricas = sm.stats.anova_lm(modelo_2)['PR(>F)'].sort_values()\n",
    "categoricas_anova_filtrada=(1 - anova_categoricas)*100\n",
    "categoricas_anova_filtrada.head(14)"
   ]
  },
  {
   "cell_type": "markdown",
   "id": "464d78c3-4e3c-4286-bbae-4a20f78f9887",
   "metadata": {},
   "source": [
    "Comparación de modelos de regresión de variables categóricas"
   ]
  },
  {
   "cell_type": "markdown",
   "id": "d2f50eb7-f0a5-4d07-8390-54144223b16b",
   "metadata": {
    "tags": []
   },
   "source": [
    "## Regresión para evaluar variables categóricas"
   ]
  },
  {
   "cell_type": "markdown",
   "id": "926cd6d6-b0d8-4e95-991e-54b8ab4fa472",
   "metadata": {},
   "source": [
    "Se realizan regresiones con algunas variables categóricas y se elige la más importante."
   ]
  },
  {
   "cell_type": "code",
   "execution_count": 198,
   "id": "8c63e8aa-48b5-41e7-912b-e757cefae629",
   "metadata": {},
   "outputs": [],
   "source": [
    "zona = sm.add_constant(pd.get_dummies(df['MSZoning']))\n",
    "#r-cuadrado 0.108"
   ]
  },
  {
   "cell_type": "code",
   "execution_count": 199,
   "id": "533d0f2f-5d24-4c11-9971-190ac427a1f1",
   "metadata": {},
   "outputs": [],
   "source": [
    "barrio = sm.add_constant(pd.get_dummies(df['Neighborhood']))\n",
    "#r-cuadrado 0.546"
   ]
  },
  {
   "cell_type": "code",
   "execution_count": 196,
   "id": "5ca6b99f-aadb-40ac-95ca-d92d62d04283",
   "metadata": {},
   "outputs": [],
   "source": [
    "externo = sm.add_constant(pd.get_dummies(df['ExterQual']))\n",
    "#r-cuadrado 0.447"
   ]
  },
  {
   "cell_type": "code",
   "execution_count": 211,
   "id": "71cfc305-15bf-40d1-87d3-8e2419a6d6db",
   "metadata": {},
   "outputs": [
    {
     "name": "stderr",
     "output_type": "stream",
     "text": [
      "C:\\Users\\fezun\\anaconda3\\lib\\site-packages\\statsmodels\\tsa\\tsatools.py:142: FutureWarning: In a future version of pandas all arguments of concat except for the argument 'objs' will be keyword-only\n",
      "  x = pd.concat(x[::order], 1)\n"
     ]
    }
   ],
   "source": [
    "basmnt =sm.add_constant(pd.get_dummies(df['BsmtQual']))\n",
    "#r-cuadrado 0.465"
   ]
  },
  {
   "cell_type": "code",
   "execution_count": 214,
   "id": "64e420d8-f04f-43db-b1f9-018a5f1b3e4a",
   "metadata": {},
   "outputs": [
    {
     "name": "stderr",
     "output_type": "stream",
     "text": [
      "C:\\Users\\fezun\\anaconda3\\lib\\site-packages\\statsmodels\\tsa\\tsatools.py:142: FutureWarning: In a future version of pandas all arguments of concat except for the argument 'objs' will be keyword-only\n",
      "  x = pd.concat(x[::order], 1)\n"
     ]
    }
   ],
   "source": [
    "techo = sm.add_constant(pd.get_dummies(df['RoofMatl']))\n",
    "#r-cuadrado 0.031"
   ]
  },
  {
   "cell_type": "code",
   "execution_count": 217,
   "id": "94d9902c-57c1-4ff6-86d5-2934fde6e1fa",
   "metadata": {},
   "outputs": [
    {
     "name": "stderr",
     "output_type": "stream",
     "text": [
      "C:\\Users\\fezun\\anaconda3\\lib\\site-packages\\statsmodels\\tsa\\tsatools.py:142: FutureWarning: In a future version of pandas all arguments of concat except for the argument 'objs' will be keyword-only\n",
      "  x = pd.concat(x[::order], 1)\n"
     ]
    }
   ],
   "source": [
    "vivienda = sm.add_constant(pd.get_dummies(df['BldgType']))\n",
    "#r-cuadrado 0.035"
   ]
  },
  {
   "cell_type": "code",
   "execution_count": 224,
   "id": "03d06702-c1db-4a54-8341-9e592dcced06",
   "metadata": {},
   "outputs": [
    {
     "name": "stderr",
     "output_type": "stream",
     "text": [
      "C:\\Users\\fezun\\anaconda3\\lib\\site-packages\\statsmodels\\tsa\\tsatools.py:142: FutureWarning: In a future version of pandas all arguments of concat except for the argument 'objs' will be keyword-only\n",
      "  x = pd.concat(x[::order], 1)\n"
     ]
    }
   ],
   "source": [
    "Calidad = sm.add_constant(pd.get_dummies(df['OverallQual']))"
   ]
  },
  {
   "cell_type": "code",
   "execution_count": 218,
   "id": "a8f1dc45-3dc3-4cf7-80e8-af1bc9f15426",
   "metadata": {},
   "outputs": [
    {
     "data": {
      "text/plain": [
       "0       208500\n",
       "1       181500\n",
       "2       223500\n",
       "3       140000\n",
       "4       250000\n",
       "         ...  \n",
       "1455    175000\n",
       "1456    210000\n",
       "1457    266500\n",
       "1458    142125\n",
       "1459    147500\n",
       "Name: SalePrice, Length: 1460, dtype: int64"
      ]
     },
     "execution_count": 218,
     "metadata": {},
     "output_type": "execute_result"
    }
   ],
   "source": [
    "y = df['SalePrice']\n",
    "y"
   ]
  },
  {
   "cell_type": "code",
   "execution_count": 225,
   "id": "75e4daa1-420a-4c8a-bdcd-0cbf75780b10",
   "metadata": {
    "tags": []
   },
   "outputs": [],
   "source": [
    "reg_lineal_statsmods = sm.OLS(y, Calidad).fit()"
   ]
  },
  {
   "cell_type": "code",
   "execution_count": 226,
   "id": "3d1fe7ec-e3bf-410e-850b-3f7976f53d03",
   "metadata": {},
   "outputs": [
    {
     "name": "stdout",
     "output_type": "stream",
     "text": [
      "                            OLS Regression Results                            \n",
      "==============================================================================\n",
      "Dep. Variable:              SalePrice   R-squared:                       0.684\n",
      "Model:                            OLS   Adj. R-squared:                  0.682\n",
      "Method:                 Least Squares   F-statistic:                     349.0\n",
      "Date:                Sat, 30 Jul 2022   Prob (F-statistic):               0.00\n",
      "Time:                        21:38:29   Log-Likelihood:                -17703.\n",
      "No. Observations:                1460   AIC:                         3.543e+04\n",
      "Df Residuals:                    1450   BIC:                         3.548e+04\n",
      "Df Model:                           9                                         \n",
      "Covariance Type:            nonrobust                                         \n",
      "==============================================================================\n",
      "                 coef    std err          t      P>|t|      [0.025      0.975]\n",
      "------------------------------------------------------------------------------\n",
      "const        1.71e+05   4040.647     42.331      0.000    1.63e+05    1.79e+05\n",
      "1          -1.209e+05   2.89e+04     -4.179      0.000   -1.78e+05   -6.42e+04\n",
      "2          -1.193e+05   2.37e+04     -5.026      0.000   -1.66e+05   -7.27e+04\n",
      "3          -8.357e+04   9918.245     -8.426      0.000   -1.03e+05   -6.41e+04\n",
      "4          -6.262e+04   5520.188    -11.345      0.000   -7.35e+04   -5.18e+04\n",
      "5          -3.752e+04   4523.280     -8.295      0.000   -4.64e+04   -2.86e+04\n",
      "6          -9441.9191   4551.291     -2.075      0.038   -1.84e+04    -514.101\n",
      "7           3.667e+04   4633.649      7.914      0.000    2.76e+04    4.58e+04\n",
      "8           1.037e+05   5108.235     20.299      0.000    9.37e+04    1.14e+05\n",
      "9           1.965e+05   7381.543     26.616      0.000    1.82e+05    2.11e+05\n",
      "10          2.675e+05   1.04e+04     25.806      0.000    2.47e+05    2.88e+05\n",
      "==============================================================================\n",
      "Omnibus:                      377.831   Durbin-Watson:                   1.984\n",
      "Prob(Omnibus):                  0.000   Jarque-Bera (JB):             3528.673\n",
      "Skew:                           0.929   Prob(JB):                         0.00\n",
      "Kurtosis:                      10.386   Cond. No.                     1.03e+16\n",
      "==============================================================================\n",
      "\n",
      "Notes:\n",
      "[1] Standard Errors assume that the covariance matrix of the errors is correctly specified.\n",
      "[2] The smallest eigenvalue is 1.68e-29. This might indicate that there are\n",
      "strong multicollinearity problems or that the design matrix is singular.\n"
     ]
    }
   ],
   "source": [
    "print(reg_lineal_statsmods.summary())\n",
    "#La columna calidad es la que nos entrega un mayor r-cuadrado, junto con barrio"
   ]
  },
  {
   "cell_type": "markdown",
   "id": "d82c6841-c23a-4d02-84c5-9205a7e3e38f",
   "metadata": {},
   "source": [
    "# Regresión\n",
    "\n",
    "1. Se crea un df con variables numericas elegidas para hacer el modelo de regresión\n",
    "1. Se agregan las columnas correspondientes a la variable categórica elegida, sin considerar los betas con un p-value mayor a 0.05 (del summary anterior)\n",
    "1. Se crean un par de modelos de regresion\n",
    "1. Se elige un modelo y se testea"
   ]
  },
  {
   "cell_type": "markdown",
   "id": "de2ee7ca-260d-4caa-a52f-331afc6290cc",
   "metadata": {},
   "source": [
    "Variables elegidas:\n",
    "- Numéricas: 'GrLivArea', 'GarageArea', '1stFlrSF','garage_old', 'Years_old'\n",
    "- Categoricas: 'OverallQual', 'Neighborhood'"
   ]
  },
  {
   "cell_type": "markdown",
   "id": "c9ccfc44-0609-4107-9082-459792bb81e2",
   "metadata": {},
   "source": [
    "## Modelo 1"
   ]
  },
  {
   "cell_type": "code",
   "execution_count": 431,
   "id": "bbb2b383-d52c-4b4d-a498-20e7143566a9",
   "metadata": {},
   "outputs": [
    {
     "name": "stderr",
     "output_type": "stream",
     "text": [
      "C:\\Users\\fezun\\anaconda3\\lib\\site-packages\\pandas\\util\\_decorators.py:311: SettingWithCopyWarning: \n",
      "A value is trying to be set on a copy of a slice from a DataFrame\n",
      "\n",
      "See the caveats in the documentation: https://pandas.pydata.org/pandas-docs/stable/user_guide/indexing.html#returning-a-view-versus-a-copy\n",
      "  return func(*args, **kwargs)\n"
     ]
    }
   ],
   "source": [
    "df_regresión= df[['GrLivArea', 'GarageArea', '1stFlrSF','garage_old', 'years_remod','OverallQual', 'Neighborhood','SalePrice']]\n",
    "df_regresión.dropna(inplace=True)"
   ]
  },
  {
   "cell_type": "code",
   "execution_count": 432,
   "id": "1f7b8065-5455-46fa-b3f5-f2bebdc726a7",
   "metadata": {},
   "outputs": [
    {
     "data": {
      "text/plain": [
       "(1379, 8)"
      ]
     },
     "execution_count": 432,
     "metadata": {},
     "output_type": "execute_result"
    }
   ],
   "source": [
    "df_regresión.shape"
   ]
  },
  {
   "cell_type": "code",
   "execution_count": 433,
   "id": "a0cf5ed6-90e1-49c0-a7bc-f82c78679f81",
   "metadata": {},
   "outputs": [
    {
     "data": {
      "text/plain": [
       "(1379, 40)"
      ]
     },
     "execution_count": 433,
     "metadata": {},
     "output_type": "execute_result"
    }
   ],
   "source": [
    "df_regresión_d = pd.get_dummies(df_regresión, columns=['OverallQual', 'Neighborhood'])\n",
    "df_regresión_d.shape"
   ]
  },
  {
   "cell_type": "code",
   "execution_count": 434,
   "id": "46ba41e5-ac9f-48c7-886e-4a74444b2d15",
   "metadata": {
    "tags": []
   },
   "outputs": [],
   "source": [
    "df_regresión_d.drop(columns='SalePrice', inplace=True)"
   ]
  },
  {
   "cell_type": "code",
   "execution_count": 435,
   "id": "0864b9bf-e222-4d69-90ea-4fb39bf83a15",
   "metadata": {},
   "outputs": [
    {
     "name": "stderr",
     "output_type": "stream",
     "text": [
      "C:\\Users\\fezun\\anaconda3\\lib\\site-packages\\statsmodels\\tsa\\tsatools.py:142: FutureWarning: In a future version of pandas all arguments of concat except for the argument 'objs' will be keyword-only\n",
      "  x = pd.concat(x[::order], 1)\n"
     ]
    },
    {
     "data": {
      "text/plain": [
       "(1379, 40)"
      ]
     },
     "execution_count": 435,
     "metadata": {},
     "output_type": "execute_result"
    }
   ],
   "source": [
    "X = sm.add_constant(df_regresión_d)\n",
    "X.shape"
   ]
  },
  {
   "cell_type": "code",
   "execution_count": 436,
   "id": "ce320b70-ca6d-4074-a661-83e984df3729",
   "metadata": {},
   "outputs": [
    {
     "data": {
      "text/plain": [
       "(1379,)"
      ]
     },
     "execution_count": 436,
     "metadata": {},
     "output_type": "execute_result"
    }
   ],
   "source": [
    "Y = df_regresión['SalePrice']\n",
    "Y.shape"
   ]
  },
  {
   "cell_type": "code",
   "execution_count": 437,
   "id": "47fca67b-ab40-4427-8fb3-169c281b323a",
   "metadata": {},
   "outputs": [],
   "source": [
    "reg_lineal_1 = sm.OLS(Y,X).fit()"
   ]
  },
  {
   "cell_type": "code",
   "execution_count": 438,
   "id": "e7839416-7ccf-4b30-a6a4-37e8faf4b17b",
   "metadata": {},
   "outputs": [
    {
     "name": "stdout",
     "output_type": "stream",
     "text": [
      "                            OLS Regression Results                            \n",
      "==============================================================================\n",
      "Dep. Variable:              SalePrice   R-squared:                       0.825\n",
      "Model:                            OLS   Adj. R-squared:                  0.820\n",
      "Method:                 Least Squares   F-statistic:                     170.7\n",
      "Date:                Sun, 31 Jul 2022   Prob (F-statistic):               0.00\n",
      "Time:                        14:12:20   Log-Likelihood:                -16307.\n",
      "No. Observations:                1379   AIC:                         3.269e+04\n",
      "Df Residuals:                    1341   BIC:                         3.289e+04\n",
      "Df Model:                          37                                         \n",
      "Covariance Type:            nonrobust                                         \n",
      "========================================================================================\n",
      "                           coef    std err          t      P>|t|      [0.025      0.975]\n",
      "----------------------------------------------------------------------------------------\n",
      "const                 9.591e+04   6192.913     15.487      0.000    8.38e+04    1.08e+05\n",
      "GrLivArea               43.5552      2.676     16.279      0.000      38.307      48.804\n",
      "GarageArea              36.0025      7.329      4.912      0.000      21.625      50.380\n",
      "1stFlrSF                16.5256      3.338      4.950      0.000       9.977      23.074\n",
      "garage_old              45.4425     69.250      0.656      0.512     -90.407     181.292\n",
      "years_remod           -387.1455     63.327     -6.113      0.000    -511.377    -262.914\n",
      "OverallQual_2        -3.872e+04   2.21e+04     -1.755      0.079    -8.2e+04    4551.469\n",
      "OverallQual_3        -4.165e+04   8778.448     -4.744      0.000   -5.89e+04   -2.44e+04\n",
      "OverallQual_4        -3.169e+04   4616.651     -6.865      0.000   -4.08e+04   -2.26e+04\n",
      "OverallQual_5        -2.565e+04   3554.465     -7.218      0.000   -3.26e+04   -1.87e+04\n",
      "OverallQual_6        -1.601e+04   3418.435     -4.683      0.000   -2.27e+04   -9301.155\n",
      "OverallQual_7        -1354.5713   3551.770     -0.381      0.703   -8322.201    5613.059\n",
      "OverallQual_8         2.744e+04   4279.299      6.411      0.000     1.9e+04    3.58e+04\n",
      "OverallQual_9         9.959e+04   6380.510     15.608      0.000    8.71e+04    1.12e+05\n",
      "OverallQual_10         1.24e+05   8943.420     13.860      0.000    1.06e+05    1.42e+05\n",
      "Neighborhood_Blmngtn -3131.9259   8342.498     -0.375      0.707   -1.95e+04    1.32e+04\n",
      "Neighborhood_Blueste -1.571e+04   2.29e+04     -0.685      0.493   -6.07e+04    2.92e+04\n",
      "Neighborhood_BrDale  -2.488e+04   8644.801     -2.878      0.004   -4.18e+04   -7925.081\n",
      "Neighborhood_BrkSide -8406.8943   5220.187     -1.610      0.108   -1.86e+04    1833.728\n",
      "Neighborhood_ClearCr   2.96e+04   6508.639      4.548      0.000    1.68e+04    4.24e+04\n",
      "Neighborhood_CollgCr  8225.6800   3330.086      2.470      0.014    1692.935    1.48e+04\n",
      "Neighborhood_Crawfor  2.309e+04   5117.741      4.511      0.000     1.3e+04    3.31e+04\n",
      "Neighborhood_Edwards -2.206e+04   4161.515     -5.301      0.000   -3.02e+04   -1.39e+04\n",
      "Neighborhood_Gilbert  7180.0171   4235.083      1.695      0.090   -1128.092    1.55e+04\n",
      "Neighborhood_IDOTRR  -2.311e+04   6591.100     -3.506      0.000    -3.6e+04   -1.02e+04\n",
      "Neighborhood_MeadowV -2.556e+04   9658.435     -2.647      0.008   -4.45e+04   -6614.045\n",
      "Neighborhood_Mitchel  -556.3575   5207.507     -0.107      0.915   -1.08e+04    9659.390\n",
      "Neighborhood_NAmes   -3994.7583   3002.577     -1.330      0.184   -9885.018    1895.501\n",
      "Neighborhood_NPkVill -7252.7987    1.1e+04     -0.661      0.509   -2.88e+04    1.43e+04\n",
      "Neighborhood_NWAmes    559.7158   4226.394      0.132      0.895   -7731.348    8850.779\n",
      "Neighborhood_NoRidge  5.792e+04   5835.592      9.925      0.000    4.65e+04    6.94e+04\n",
      "Neighborhood_NridgHt  3.651e+04   4862.343      7.508      0.000     2.7e+04     4.6e+04\n",
      "Neighborhood_OldTown -2.846e+04   4009.815     -7.097      0.000   -3.63e+04   -2.06e+04\n",
      "Neighborhood_SWISU   -2.241e+04   7744.735     -2.893      0.004   -3.76e+04   -7214.306\n",
      "Neighborhood_Sawyer  -4475.1779   4383.465     -1.021      0.307   -1.31e+04    4124.016\n",
      "Neighborhood_SawyerW  3571.3700   4559.661      0.783      0.434   -5373.475    1.25e+04\n",
      "Neighborhood_Somerst  1.154e+04   4249.170      2.717      0.007    3208.780    1.99e+04\n",
      "Neighborhood_StoneBr  5.005e+04   7097.402      7.052      0.000    3.61e+04     6.4e+04\n",
      "Neighborhood_Timber   2.015e+04   5643.050      3.570      0.000    9076.442    3.12e+04\n",
      "Neighborhood_Veenker  3.752e+04   9886.685      3.795      0.000    1.81e+04    5.69e+04\n",
      "==============================================================================\n",
      "Omnibus:                      501.388   Durbin-Watson:                   1.917\n",
      "Prob(Omnibus):                  0.000   Jarque-Bera (JB):            41586.993\n",
      "Skew:                          -0.754   Prob(JB):                         0.00\n",
      "Kurtosis:                      29.861   Cond. No.                     4.18e+16\n",
      "==============================================================================\n",
      "\n",
      "Notes:\n",
      "[1] Standard Errors assume that the covariance matrix of the errors is correctly specified.\n",
      "[2] The smallest eigenvalue is 3.42e-24. This might indicate that there are\n",
      "strong multicollinearity problems or that the design matrix is singular.\n"
     ]
    }
   ],
   "source": [
    "print(reg_lineal_1.summary())"
   ]
  },
  {
   "cell_type": "markdown",
   "id": "0e4584f1-cb8d-441e-9ab3-8e53747b8912",
   "metadata": {},
   "source": [
    "## Modelo 2"
   ]
  },
  {
   "cell_type": "code",
   "execution_count": 460,
   "id": "08c49bf9-a99e-455e-b532-543bd54575d7",
   "metadata": {},
   "outputs": [],
   "source": [
    "#se eliminan columnas con p-value mayores a 0.05: 'garage_old'\n",
    "df_regresion_2= df[['GrLivArea', 'GarageArea', '1stFlrSF','years_remod','OverallQual', 'Neighborhood','SalePrice']]"
   ]
  },
  {
   "cell_type": "code",
   "execution_count": 461,
   "id": "24612db0-e33a-48f7-941f-84319631ccbb",
   "metadata": {},
   "outputs": [],
   "source": [
    "#se eliminan columnas con p-value mayores a 0.05: algunos grupos de Neighborhood y OverallQual\n",
    "df_regresion_2_d = pd.get_dummies(df_regresion_2, columns=['OverallQual', 'Neighborhood'])\n",
    "df_regresion_2_d_clean =df_regresion_2_d.drop(columns=['OverallQual_2', 'OverallQual_7', 'Neighborhood_Blmngtn', 'Neighborhood_Blueste', 'Neighborhood_BrkSide', 'Neighborhood_Gilbert','Neighborhood_Mitchel',\n",
    "                            'Neighborhood_NAmes', 'Neighborhood_NPkVill', 'Neighborhood_NWAmes', 'Neighborhood_Sawyer', 'Neighborhood_SawyerW', 'SalePrice'])"
   ]
  },
  {
   "cell_type": "code",
   "execution_count": 462,
   "id": "dee54cc7-15c9-48bc-b791-30a0eb3cf28b",
   "metadata": {},
   "outputs": [
    {
     "name": "stderr",
     "output_type": "stream",
     "text": [
      "C:\\Users\\fezun\\anaconda3\\lib\\site-packages\\statsmodels\\tsa\\tsatools.py:142: FutureWarning: In a future version of pandas all arguments of concat except for the argument 'objs' will be keyword-only\n",
      "  x = pd.concat(x[::order], 1)\n"
     ]
    },
    {
     "data": {
      "text/plain": [
       "(1460, 28)"
      ]
     },
     "execution_count": 462,
     "metadata": {},
     "output_type": "execute_result"
    }
   ],
   "source": [
    "X_2 = sm.add_constant(df_regresion_2_d_clean)\n",
    "X_2.shape"
   ]
  },
  {
   "cell_type": "code",
   "execution_count": 463,
   "id": "e01dfff1-6c9c-4a43-862b-ebc55d5d6eb9",
   "metadata": {},
   "outputs": [
    {
     "data": {
      "text/plain": [
       "(1460,)"
      ]
     },
     "execution_count": 463,
     "metadata": {},
     "output_type": "execute_result"
    }
   ],
   "source": [
    "Y_2 = df_regresion_2['SalePrice']\n",
    "Y_2.shape"
   ]
  },
  {
   "cell_type": "code",
   "execution_count": 464,
   "id": "c2a99677-873b-4797-ae33-2a3b4952f9c8",
   "metadata": {},
   "outputs": [],
   "source": [
    "reg_lineal_2 = sm.OLS(Y_2,X_2).fit()"
   ]
  },
  {
   "cell_type": "code",
   "execution_count": 465,
   "id": "701ef178-1b39-4745-a7b1-468612f52c73",
   "metadata": {},
   "outputs": [
    {
     "name": "stdout",
     "output_type": "stream",
     "text": [
      "                            OLS Regression Results                            \n",
      "==============================================================================\n",
      "Dep. Variable:              SalePrice   R-squared:                       0.830\n",
      "Model:                            OLS   Adj. R-squared:                  0.827\n",
      "Method:                 Least Squares   F-statistic:                     259.4\n",
      "Date:                Sun, 31 Jul 2022   Prob (F-statistic):               0.00\n",
      "Time:                        14:19:02   Log-Likelihood:                -17249.\n",
      "No. Observations:                1460   AIC:                         3.455e+04\n",
      "Df Residuals:                    1432   BIC:                         3.470e+04\n",
      "Df Model:                          27                                         \n",
      "Covariance Type:            nonrobust                                         \n",
      "========================================================================================\n",
      "                           coef    std err          t      P>|t|      [0.025      0.975]\n",
      "----------------------------------------------------------------------------------------\n",
      "const                 9.658e+04   5356.806     18.029      0.000    8.61e+04    1.07e+05\n",
      "GrLivArea               43.4419      2.448     17.743      0.000      38.639      48.245\n",
      "GarageArea              38.3029      5.480      6.989      0.000      27.553      49.053\n",
      "1stFlrSF                15.5976      3.087      5.052      0.000       9.542      21.653\n",
      "years_remod           -411.2752     53.209     -7.729      0.000    -515.652    -306.899\n",
      "OverallQual_1        -4.488e+04   2.38e+04     -1.885      0.060   -9.16e+04    1826.757\n",
      "OverallQual_3         -4.57e+04   8053.980     -5.675      0.000   -6.15e+04   -2.99e+04\n",
      "OverallQual_4         -3.02e+04   4339.091     -6.959      0.000   -3.87e+04   -2.17e+04\n",
      "OverallQual_5        -2.531e+04   3016.807     -8.389      0.000   -3.12e+04   -1.94e+04\n",
      "OverallQual_6        -1.498e+04   2790.748     -5.368      0.000   -2.05e+04   -9507.241\n",
      "OverallQual_8         2.784e+04   3564.767      7.809      0.000    2.08e+04    3.48e+04\n",
      "OverallQual_9         1.003e+05   6234.371     16.085      0.000     8.8e+04    1.13e+05\n",
      "OverallQual_10         1.24e+05   8992.434     13.794      0.000    1.06e+05    1.42e+05\n",
      "Neighborhood_BrDale  -2.363e+04   8536.476     -2.768      0.006   -4.04e+04   -6880.157\n",
      "Neighborhood_ClearCr  2.972e+04   6439.109      4.615      0.000    1.71e+04    4.23e+04\n",
      "Neighborhood_CollgCr  8193.2003   3258.615      2.514      0.012    1801.029    1.46e+04\n",
      "Neighborhood_Crawfor   2.62e+04   4901.975      5.345      0.000    1.66e+04    3.58e+04\n",
      "Neighborhood_Edwards -1.697e+04   3682.509     -4.607      0.000   -2.42e+04   -9742.791\n",
      "Neighborhood_IDOTRR  -2.325e+04   5766.454     -4.031      0.000   -3.46e+04   -1.19e+04\n",
      "Neighborhood_MeadowV -1.903e+04   8390.788     -2.268      0.023   -3.55e+04   -2572.232\n",
      "Neighborhood_NoRidge  5.849e+04   5992.010      9.761      0.000    4.67e+04    7.02e+04\n",
      "Neighborhood_NridgHt  3.625e+04   5017.156      7.226      0.000    2.64e+04    4.61e+04\n",
      "Neighborhood_OldTown -2.578e+04   3488.451     -7.390      0.000   -3.26e+04   -1.89e+04\n",
      "Neighborhood_SWISU   -2.027e+04   6916.463     -2.931      0.003   -3.38e+04   -6701.627\n",
      "Neighborhood_Somerst  1.089e+04   4294.707      2.535      0.011    2463.454    1.93e+04\n",
      "Neighborhood_StoneBr  5.064e+04   7325.570      6.913      0.000    3.63e+04     6.5e+04\n",
      "Neighborhood_Timber   2.088e+04   5777.482      3.614      0.000    9546.335    3.22e+04\n",
      "Neighborhood_Veenker  3.893e+04   1.01e+04      3.844      0.000    1.91e+04    5.88e+04\n",
      "==============================================================================\n",
      "Omnibus:                      537.623   Durbin-Watson:                   1.931\n",
      "Prob(Omnibus):                  0.000   Jarque-Bera (JB):            45387.025\n",
      "Skew:                          -0.778   Prob(JB):                         0.00\n",
      "Kurtosis:                      30.270   Cond. No.                     5.67e+04\n",
      "==============================================================================\n",
      "\n",
      "Notes:\n",
      "[1] Standard Errors assume that the covariance matrix of the errors is correctly specified.\n",
      "[2] The condition number is large, 5.67e+04. This might indicate that there are\n",
      "strong multicollinearity or other numerical problems.\n"
     ]
    }
   ],
   "source": [
    "print(reg_lineal_2.summary())"
   ]
  },
  {
   "cell_type": "markdown",
   "id": "8d01b8f1-0421-4a9a-b000-9a007673cef6",
   "metadata": {},
   "source": [
    "Se elige el modelo 2 que presenta un r cuadrado mayor.\n",
    "\n",
    "Se procede entonces a testeo"
   ]
  },
  {
   "cell_type": "code",
   "execution_count": 466,
   "id": "c11fab81-8439-41e8-a439-0b1283878393",
   "metadata": {},
   "outputs": [],
   "source": [
    "from sklearn.model_selection import train_test_split\n",
    "from sklearn.linear_model import LinearRegression\n",
    "from sklearn.linear_model import Ridge, Lasso\n",
    "from sklearn import metrics"
   ]
  },
  {
   "cell_type": "code",
   "execution_count": 467,
   "id": "c2a46c3c-afa1-495f-96ab-d3950fc8869b",
   "metadata": {},
   "outputs": [],
   "source": [
    "X_train, X_test, y_train, y_test = train_test_split(X_2, Y_2, random_state = 432, train_size = 0.8)"
   ]
  },
  {
   "cell_type": "code",
   "execution_count": 468,
   "id": "a9c20730-2b74-4bbc-9d69-3f311a4d9403",
   "metadata": {},
   "outputs": [],
   "source": [
    "linear_reg = LinearRegression()"
   ]
  },
  {
   "cell_type": "code",
   "execution_count": 469,
   "id": "bdbbb1a6-7903-4202-a410-43bb91e96ced",
   "metadata": {},
   "outputs": [
    {
     "data": {
      "text/plain": [
       "LinearRegression()"
      ]
     },
     "execution_count": 469,
     "metadata": {},
     "output_type": "execute_result"
    }
   ],
   "source": [
    "linear_reg.fit(X_train, y_train)"
   ]
  },
  {
   "cell_type": "code",
   "execution_count": 470,
   "id": "ae56e2a0-d98e-40c7-83ec-78d5ca6f7e09",
   "metadata": {},
   "outputs": [],
   "source": [
    "prediccion_train = linear_reg.predict(X_train)\n",
    "prediccion_test = linear_reg.predict(X_test)"
   ]
  },
  {
   "cell_type": "code",
   "execution_count": 471,
   "id": "d5258b4c-39e1-4547-8833-b7c0632475f0",
   "metadata": {},
   "outputs": [
    {
     "data": {
      "text/plain": [
       "0.8547011199077087"
      ]
     },
     "execution_count": 471,
     "metadata": {},
     "output_type": "execute_result"
    }
   ],
   "source": [
    "metrics.r2_score(y_train, prediccion_train)"
   ]
  },
  {
   "cell_type": "code",
   "execution_count": 472,
   "id": "992acb95-e487-4be0-ad80-7b49c796ce80",
   "metadata": {},
   "outputs": [
    {
     "data": {
      "text/plain": [
       "0.7061577805110134"
      ]
     },
     "execution_count": 472,
     "metadata": {},
     "output_type": "execute_result"
    }
   ],
   "source": [
    "metrics.r2_score(y_test, prediccion_test)"
   ]
  },
  {
   "cell_type": "markdown",
   "id": "46be939a-2885-4660-9574-a0a914600411",
   "metadata": {},
   "source": [
    "## Ridge"
   ]
  },
  {
   "cell_type": "code",
   "execution_count": 473,
   "id": "a722ee89-ef0f-4012-8bc4-e6ab927f65b5",
   "metadata": {},
   "outputs": [],
   "source": [
    "rid_reg = Ridge(alpha = 1).fit(X_train, y_train)\n",
    "rid_reg100 = Ridge(alpha = 100).fit(X_train, y_train)"
   ]
  },
  {
   "cell_type": "code",
   "execution_count": 474,
   "id": "e63698e0-d96e-4e82-a273-115a18995dc7",
   "metadata": {},
   "outputs": [],
   "source": [
    "Ridge_train_score = rid_reg.score(X_train, y_train)\n",
    "Ridge_train_score100 = rid_reg100.score(X_train, y_train)\n",
    "Ridge_test_score = rid_reg.score(X_test, y_test)\n",
    "Ridge_test_score100 = rid_reg100.score(X_test, y_test)"
   ]
  },
  {
   "cell_type": "code",
   "execution_count": 475,
   "id": "960a837f-6bc3-40c1-b192-5543d868412c",
   "metadata": {},
   "outputs": [
    {
     "name": "stdout",
     "output_type": "stream",
     "text": [
      "Alpha1 entrenamiento 0.8542768854563241, validacion 0.7068025187633397\n",
      "Alpha100 entrenamiento 0.7784950941984752, validacion 0.616737790154476\n"
     ]
    }
   ],
   "source": [
    "print(f'Alpha1 entrenamiento {Ridge_train_score}, validacion {Ridge_test_score}')\n",
    "print(f'Alpha100 entrenamiento {Ridge_train_score100}, validacion {Ridge_test_score100}')"
   ]
  },
  {
   "cell_type": "markdown",
   "id": "4564c5e4-b0a3-4ec4-9ddb-eb26b0865b4e",
   "metadata": {},
   "source": [
    "Al poner a prueba la regresión, se puede observar que los valores de r cuadrado se mantienen en un nivel óptimo en ambos casos, por lo que podría indicar que mi modelo está bien."
   ]
  },
  {
   "cell_type": "markdown",
   "id": "be500e5a-334b-417f-a6f6-d87f5adcbbea",
   "metadata": {},
   "source": [
    "# CONCLUSIÓN"
   ]
  },
  {
   "cell_type": "markdown",
   "id": "82c07172-12e8-4c08-a3a8-b64bdd7fc01c",
   "metadata": {},
   "source": [
    "Después de haber revisado y analizado la data entregada se concluye que las variables que más influyen en el precio de las viviendas son:\n",
    "- 'GrLivArea': Above grade (ground) living area square feet\n",
    "- 'GarageArea': Size of garage in square feet\n",
    "- '1stFlrSF': First Floor square feet\n",
    "- 'years_remod': Remodel date (same as construction date if no remodeling or additions), transformada a años desde remodelación\n",
    "- 'OverallQual': Rates the overall material and finish of the house\n",
    "- 'Neighborhood': hysical locations within Ames city limits\n"
   ]
  }
 ],
 "metadata": {
  "kernelspec": {
   "display_name": "Python 3 (ipykernel)",
   "language": "python",
   "name": "python3"
  },
  "language_info": {
   "codemirror_mode": {
    "name": "ipython",
    "version": 3
   },
   "file_extension": ".py",
   "mimetype": "text/x-python",
   "name": "python",
   "nbconvert_exporter": "python",
   "pygments_lexer": "ipython3",
   "version": "3.9.7"
  }
 },
 "nbformat": 4,
 "nbformat_minor": 5
}
