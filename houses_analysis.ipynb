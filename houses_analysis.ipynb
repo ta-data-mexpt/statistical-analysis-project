{
 "cells": [
  {
   "cell_type": "markdown",
   "id": "ab74312f-0ac3-4d4e-9102-c65db7b128e6",
   "metadata": {},
   "source": [
    "### Lo que se debe hacer primero es importar las librerías y analizar cómo es la base de datos"
   ]
  },
  {
   "cell_type": "code",
   "execution_count": 1,
   "id": "3c5f56e2-4b25-49a2-b153-89401ec0d349",
   "metadata": {},
   "outputs": [],
   "source": [
    "import pandas as pd\n",
    "import numpy as np\n",
    "from sklearn.preprocessing import StandardScaler\n",
    "import statsmodels.api as sm\n",
    "from statsmodels.formula.api import ols\n",
    "from scipy.stats import linregress\n",
    "import matplotlib.pyplot as plt"
   ]
  },
  {
   "cell_type": "code",
   "execution_count": 2,
   "id": "07362a5c-e65f-43aa-8d24-dbb05fee5bfe",
   "metadata": {},
   "outputs": [],
   "source": [
    "houses = pd.read_csv('../../Data/house_prices/train.csv')"
   ]
  },
  {
   "cell_type": "code",
   "execution_count": 3,
   "id": "4fc01fbf-3768-4012-ac50-915c71262ce0",
   "metadata": {},
   "outputs": [
    {
     "data": {
      "text/html": [
       "<div>\n",
       "<style scoped>\n",
       "    .dataframe tbody tr th:only-of-type {\n",
       "        vertical-align: middle;\n",
       "    }\n",
       "\n",
       "    .dataframe tbody tr th {\n",
       "        vertical-align: top;\n",
       "    }\n",
       "\n",
       "    .dataframe thead th {\n",
       "        text-align: right;\n",
       "    }\n",
       "</style>\n",
       "<table border=\"1\" class=\"dataframe\">\n",
       "  <thead>\n",
       "    <tr style=\"text-align: right;\">\n",
       "      <th></th>\n",
       "      <th>Id</th>\n",
       "      <th>MSSubClass</th>\n",
       "      <th>MSZoning</th>\n",
       "      <th>LotFrontage</th>\n",
       "      <th>LotArea</th>\n",
       "      <th>Street</th>\n",
       "      <th>Alley</th>\n",
       "      <th>LotShape</th>\n",
       "      <th>LandContour</th>\n",
       "      <th>Utilities</th>\n",
       "      <th>...</th>\n",
       "      <th>PoolArea</th>\n",
       "      <th>PoolQC</th>\n",
       "      <th>Fence</th>\n",
       "      <th>MiscFeature</th>\n",
       "      <th>MiscVal</th>\n",
       "      <th>MoSold</th>\n",
       "      <th>YrSold</th>\n",
       "      <th>SaleType</th>\n",
       "      <th>SaleCondition</th>\n",
       "      <th>SalePrice</th>\n",
       "    </tr>\n",
       "  </thead>\n",
       "  <tbody>\n",
       "    <tr>\n",
       "      <th>0</th>\n",
       "      <td>1</td>\n",
       "      <td>60</td>\n",
       "      <td>RL</td>\n",
       "      <td>65.0</td>\n",
       "      <td>8450</td>\n",
       "      <td>Pave</td>\n",
       "      <td>NaN</td>\n",
       "      <td>Reg</td>\n",
       "      <td>Lvl</td>\n",
       "      <td>AllPub</td>\n",
       "      <td>...</td>\n",
       "      <td>0</td>\n",
       "      <td>NaN</td>\n",
       "      <td>NaN</td>\n",
       "      <td>NaN</td>\n",
       "      <td>0</td>\n",
       "      <td>2</td>\n",
       "      <td>2008</td>\n",
       "      <td>WD</td>\n",
       "      <td>Normal</td>\n",
       "      <td>208500</td>\n",
       "    </tr>\n",
       "    <tr>\n",
       "      <th>1</th>\n",
       "      <td>2</td>\n",
       "      <td>20</td>\n",
       "      <td>RL</td>\n",
       "      <td>80.0</td>\n",
       "      <td>9600</td>\n",
       "      <td>Pave</td>\n",
       "      <td>NaN</td>\n",
       "      <td>Reg</td>\n",
       "      <td>Lvl</td>\n",
       "      <td>AllPub</td>\n",
       "      <td>...</td>\n",
       "      <td>0</td>\n",
       "      <td>NaN</td>\n",
       "      <td>NaN</td>\n",
       "      <td>NaN</td>\n",
       "      <td>0</td>\n",
       "      <td>5</td>\n",
       "      <td>2007</td>\n",
       "      <td>WD</td>\n",
       "      <td>Normal</td>\n",
       "      <td>181500</td>\n",
       "    </tr>\n",
       "    <tr>\n",
       "      <th>2</th>\n",
       "      <td>3</td>\n",
       "      <td>60</td>\n",
       "      <td>RL</td>\n",
       "      <td>68.0</td>\n",
       "      <td>11250</td>\n",
       "      <td>Pave</td>\n",
       "      <td>NaN</td>\n",
       "      <td>IR1</td>\n",
       "      <td>Lvl</td>\n",
       "      <td>AllPub</td>\n",
       "      <td>...</td>\n",
       "      <td>0</td>\n",
       "      <td>NaN</td>\n",
       "      <td>NaN</td>\n",
       "      <td>NaN</td>\n",
       "      <td>0</td>\n",
       "      <td>9</td>\n",
       "      <td>2008</td>\n",
       "      <td>WD</td>\n",
       "      <td>Normal</td>\n",
       "      <td>223500</td>\n",
       "    </tr>\n",
       "  </tbody>\n",
       "</table>\n",
       "<p>3 rows × 81 columns</p>\n",
       "</div>"
      ],
      "text/plain": [
       "   Id  MSSubClass MSZoning  LotFrontage  LotArea Street Alley LotShape  \\\n",
       "0   1          60       RL         65.0     8450   Pave   NaN      Reg   \n",
       "1   2          20       RL         80.0     9600   Pave   NaN      Reg   \n",
       "2   3          60       RL         68.0    11250   Pave   NaN      IR1   \n",
       "\n",
       "  LandContour Utilities  ... PoolArea PoolQC Fence MiscFeature MiscVal MoSold  \\\n",
       "0         Lvl    AllPub  ...        0    NaN   NaN         NaN       0      2   \n",
       "1         Lvl    AllPub  ...        0    NaN   NaN         NaN       0      5   \n",
       "2         Lvl    AllPub  ...        0    NaN   NaN         NaN       0      9   \n",
       "\n",
       "  YrSold  SaleType  SaleCondition  SalePrice  \n",
       "0   2008        WD         Normal     208500  \n",
       "1   2007        WD         Normal     181500  \n",
       "2   2008        WD         Normal     223500  \n",
       "\n",
       "[3 rows x 81 columns]"
      ]
     },
     "execution_count": 3,
     "metadata": {},
     "output_type": "execute_result"
    }
   ],
   "source": [
    "houses.head(3)"
   ]
  },
  {
   "cell_type": "code",
   "execution_count": 4,
   "id": "3f06b2da-3142-4a8f-b0fe-ff98dec8f270",
   "metadata": {},
   "outputs": [
    {
     "data": {
      "text/plain": [
       "(1460, 81)"
      ]
     },
     "execution_count": 4,
     "metadata": {},
     "output_type": "execute_result"
    }
   ],
   "source": [
    "houses.shape"
   ]
  },
  {
   "cell_type": "code",
   "execution_count": 5,
   "id": "b216ea63-947d-42af-921c-aee50c67a946",
   "metadata": {},
   "outputs": [
    {
     "data": {
      "text/plain": [
       "Index(['Id', 'MSSubClass', 'MSZoning', 'LotFrontage', 'LotArea', 'Street',\n",
       "       'Alley', 'LotShape', 'LandContour', 'Utilities', 'LotConfig',\n",
       "       'LandSlope', 'Neighborhood', 'Condition1', 'Condition2', 'BldgType',\n",
       "       'HouseStyle', 'OverallQual', 'OverallCond', 'YearBuilt', 'YearRemodAdd',\n",
       "       'RoofStyle', 'RoofMatl', 'Exterior1st', 'Exterior2nd', 'MasVnrType',\n",
       "       'MasVnrArea', 'ExterQual', 'ExterCond', 'Foundation', 'BsmtQual',\n",
       "       'BsmtCond', 'BsmtExposure', 'BsmtFinType1', 'BsmtFinSF1',\n",
       "       'BsmtFinType2', 'BsmtFinSF2', 'BsmtUnfSF', 'TotalBsmtSF', 'Heating',\n",
       "       'HeatingQC', 'CentralAir', 'Electrical', '1stFlrSF', '2ndFlrSF',\n",
       "       'LowQualFinSF', 'GrLivArea', 'BsmtFullBath', 'BsmtHalfBath', 'FullBath',\n",
       "       'HalfBath', 'BedroomAbvGr', 'KitchenAbvGr', 'KitchenQual',\n",
       "       'TotRmsAbvGrd', 'Functional', 'Fireplaces', 'FireplaceQu', 'GarageType',\n",
       "       'GarageYrBlt', 'GarageFinish', 'GarageCars', 'GarageArea', 'GarageQual',\n",
       "       'GarageCond', 'PavedDrive', 'WoodDeckSF', 'OpenPorchSF',\n",
       "       'EnclosedPorch', '3SsnPorch', 'ScreenPorch', 'PoolArea', 'PoolQC',\n",
       "       'Fence', 'MiscFeature', 'MiscVal', 'MoSold', 'YrSold', 'SaleType',\n",
       "       'SaleCondition', 'SalePrice'],\n",
       "      dtype='object')"
      ]
     },
     "execution_count": 5,
     "metadata": {},
     "output_type": "execute_result"
    }
   ],
   "source": [
    "houses.columns"
   ]
  },
  {
   "cell_type": "code",
   "execution_count": 6,
   "id": "4140e819-d7cc-4ecf-8f88-acc8d5ed7a60",
   "metadata": {},
   "outputs": [
    {
     "name": "stdout",
     "output_type": "stream",
     "text": [
      "<class 'pandas.core.frame.DataFrame'>\n",
      "RangeIndex: 1460 entries, 0 to 1459\n",
      "Data columns (total 81 columns):\n",
      " #   Column         Non-Null Count  Dtype  \n",
      "---  ------         --------------  -----  \n",
      " 0   Id             1460 non-null   int64  \n",
      " 1   MSSubClass     1460 non-null   int64  \n",
      " 2   MSZoning       1460 non-null   object \n",
      " 3   LotFrontage    1201 non-null   float64\n",
      " 4   LotArea        1460 non-null   int64  \n",
      " 5   Street         1460 non-null   object \n",
      " 6   Alley          91 non-null     object \n",
      " 7   LotShape       1460 non-null   object \n",
      " 8   LandContour    1460 non-null   object \n",
      " 9   Utilities      1460 non-null   object \n",
      " 10  LotConfig      1460 non-null   object \n",
      " 11  LandSlope      1460 non-null   object \n",
      " 12  Neighborhood   1460 non-null   object \n",
      " 13  Condition1     1460 non-null   object \n",
      " 14  Condition2     1460 non-null   object \n",
      " 15  BldgType       1460 non-null   object \n",
      " 16  HouseStyle     1460 non-null   object \n",
      " 17  OverallQual    1460 non-null   int64  \n",
      " 18  OverallCond    1460 non-null   int64  \n",
      " 19  YearBuilt      1460 non-null   int64  \n",
      " 20  YearRemodAdd   1460 non-null   int64  \n",
      " 21  RoofStyle      1460 non-null   object \n",
      " 22  RoofMatl       1460 non-null   object \n",
      " 23  Exterior1st    1460 non-null   object \n",
      " 24  Exterior2nd    1460 non-null   object \n",
      " 25  MasVnrType     1452 non-null   object \n",
      " 26  MasVnrArea     1452 non-null   float64\n",
      " 27  ExterQual      1460 non-null   object \n",
      " 28  ExterCond      1460 non-null   object \n",
      " 29  Foundation     1460 non-null   object \n",
      " 30  BsmtQual       1423 non-null   object \n",
      " 31  BsmtCond       1423 non-null   object \n",
      " 32  BsmtExposure   1422 non-null   object \n",
      " 33  BsmtFinType1   1423 non-null   object \n",
      " 34  BsmtFinSF1     1460 non-null   int64  \n",
      " 35  BsmtFinType2   1422 non-null   object \n",
      " 36  BsmtFinSF2     1460 non-null   int64  \n",
      " 37  BsmtUnfSF      1460 non-null   int64  \n",
      " 38  TotalBsmtSF    1460 non-null   int64  \n",
      " 39  Heating        1460 non-null   object \n",
      " 40  HeatingQC      1460 non-null   object \n",
      " 41  CentralAir     1460 non-null   object \n",
      " 42  Electrical     1459 non-null   object \n",
      " 43  1stFlrSF       1460 non-null   int64  \n",
      " 44  2ndFlrSF       1460 non-null   int64  \n",
      " 45  LowQualFinSF   1460 non-null   int64  \n",
      " 46  GrLivArea      1460 non-null   int64  \n",
      " 47  BsmtFullBath   1460 non-null   int64  \n",
      " 48  BsmtHalfBath   1460 non-null   int64  \n",
      " 49  FullBath       1460 non-null   int64  \n",
      " 50  HalfBath       1460 non-null   int64  \n",
      " 51  BedroomAbvGr   1460 non-null   int64  \n",
      " 52  KitchenAbvGr   1460 non-null   int64  \n",
      " 53  KitchenQual    1460 non-null   object \n",
      " 54  TotRmsAbvGrd   1460 non-null   int64  \n",
      " 55  Functional     1460 non-null   object \n",
      " 56  Fireplaces     1460 non-null   int64  \n",
      " 57  FireplaceQu    770 non-null    object \n",
      " 58  GarageType     1379 non-null   object \n",
      " 59  GarageYrBlt    1379 non-null   float64\n",
      " 60  GarageFinish   1379 non-null   object \n",
      " 61  GarageCars     1460 non-null   int64  \n",
      " 62  GarageArea     1460 non-null   int64  \n",
      " 63  GarageQual     1379 non-null   object \n",
      " 64  GarageCond     1379 non-null   object \n",
      " 65  PavedDrive     1460 non-null   object \n",
      " 66  WoodDeckSF     1460 non-null   int64  \n",
      " 67  OpenPorchSF    1460 non-null   int64  \n",
      " 68  EnclosedPorch  1460 non-null   int64  \n",
      " 69  3SsnPorch      1460 non-null   int64  \n",
      " 70  ScreenPorch    1460 non-null   int64  \n",
      " 71  PoolArea       1460 non-null   int64  \n",
      " 72  PoolQC         7 non-null      object \n",
      " 73  Fence          281 non-null    object \n",
      " 74  MiscFeature    54 non-null     object \n",
      " 75  MiscVal        1460 non-null   int64  \n",
      " 76  MoSold         1460 non-null   int64  \n",
      " 77  YrSold         1460 non-null   int64  \n",
      " 78  SaleType       1460 non-null   object \n",
      " 79  SaleCondition  1460 non-null   object \n",
      " 80  SalePrice      1460 non-null   int64  \n",
      "dtypes: float64(3), int64(35), object(43)\n",
      "memory usage: 924.0+ KB\n"
     ]
    }
   ],
   "source": [
    "houses.info()"
   ]
  },
  {
   "cell_type": "markdown",
   "id": "fcf1f217-f18a-4600-95d2-2a80e82dff60",
   "metadata": {},
   "source": [
    "### Después analizaremos los valores nulos de cada columna para saber cuáles no nos servirán en el modelo"
   ]
  },
  {
   "cell_type": "code",
   "execution_count": 7,
   "id": "c6d3941d-d9c4-48ae-a152-cf7eda1bcac3",
   "metadata": {},
   "outputs": [
    {
     "data": {
      "text/plain": [
       "PoolQC         1453\n",
       "MiscFeature    1406\n",
       "Alley          1369\n",
       "Fence          1179\n",
       "FireplaceQu     690\n",
       "               ... \n",
       "ExterQual         0\n",
       "Exterior2nd       0\n",
       "Exterior1st       0\n",
       "RoofMatl          0\n",
       "SalePrice         0\n",
       "Length: 81, dtype: int64"
      ]
     },
     "execution_count": 7,
     "metadata": {},
     "output_type": "execute_result"
    }
   ],
   "source": [
    "houses.isnull().sum().sort_values(ascending = False)"
   ]
  },
  {
   "cell_type": "code",
   "execution_count": 8,
   "id": "6a630dfb-8f7f-4d9a-bc68-446d8212aaba",
   "metadata": {},
   "outputs": [
    {
     "data": {
      "text/plain": [
       "Id                 0\n",
       "MSSubClass         0\n",
       "MSZoning           0\n",
       "LotFrontage      259\n",
       "LotArea            0\n",
       "                ... \n",
       "MoSold             0\n",
       "YrSold             0\n",
       "SaleType           0\n",
       "SaleCondition      0\n",
       "SalePrice          0\n",
       "Length: 81, dtype: int64"
      ]
     },
     "execution_count": 8,
     "metadata": {},
     "output_type": "execute_result"
    }
   ],
   "source": [
    "nulos_columnas = houses.isnull().sum()\n",
    "nulos_columnas"
   ]
  },
  {
   "cell_type": "code",
   "execution_count": 9,
   "id": "34293624-0eaf-4c1b-96a7-bf65c773f50f",
   "metadata": {},
   "outputs": [
    {
     "data": {
      "text/plain": [
       "LotFrontage      259\n",
       "Alley           1369\n",
       "MasVnrType         8\n",
       "MasVnrArea         8\n",
       "BsmtQual          37\n",
       "BsmtCond          37\n",
       "BsmtExposure      38\n",
       "BsmtFinType1      37\n",
       "BsmtFinType2      38\n",
       "Electrical         1\n",
       "FireplaceQu      690\n",
       "GarageType        81\n",
       "GarageYrBlt       81\n",
       "GarageFinish      81\n",
       "GarageQual        81\n",
       "GarageCond        81\n",
       "PoolQC          1453\n",
       "Fence           1179\n",
       "MiscFeature     1406\n",
       "dtype: int64"
      ]
     },
     "execution_count": 9,
     "metadata": {},
     "output_type": "execute_result"
    }
   ],
   "source": [
    "nulos_columnas[nulos_columnas > 0]"
   ]
  },
  {
   "cell_type": "code",
   "execution_count": 10,
   "id": "0692b021-889c-40e8-a26e-2597a832d4bc",
   "metadata": {},
   "outputs": [
    {
     "data": {
      "text/plain": [
       "PoolQC          0.995205\n",
       "MiscFeature     0.963014\n",
       "Alley           0.937671\n",
       "Fence           0.807534\n",
       "FireplaceQu     0.472603\n",
       "LotFrontage     0.177397\n",
       "GarageType      0.055479\n",
       "GarageYrBlt     0.055479\n",
       "GarageFinish    0.055479\n",
       "GarageQual      0.055479\n",
       "GarageCond      0.055479\n",
       "BsmtExposure    0.026027\n",
       "BsmtFinType2    0.026027\n",
       "BsmtFinType1    0.025342\n",
       "BsmtCond        0.025342\n",
       "BsmtQual        0.025342\n",
       "MasVnrArea      0.005479\n",
       "MasVnrType      0.005479\n",
       "Electrical      0.000685\n",
       "dtype: float64"
      ]
     },
     "execution_count": 10,
     "metadata": {},
     "output_type": "execute_result"
    }
   ],
   "source": [
    "porcentaje_nulos = nulos_columnas[nulos_columnas > 0]/houses.shape[0]\n",
    "porcentaje_nulos.sort_values(ascending = False)"
   ]
  },
  {
   "cell_type": "code",
   "execution_count": 11,
   "id": "8b9a39f8-8db0-4c7d-bf8a-be7d46bf5bd1",
   "metadata": {},
   "outputs": [
    {
     "data": {
      "text/plain": [
       "Index(['LotFrontage', 'Alley', 'MasVnrType', 'MasVnrArea', 'BsmtQual',\n",
       "       'BsmtCond', 'BsmtExposure', 'BsmtFinType1', 'BsmtFinType2',\n",
       "       'Electrical', 'FireplaceQu', 'GarageType', 'GarageYrBlt',\n",
       "       'GarageFinish', 'GarageQual', 'GarageCond', 'PoolQC', 'Fence',\n",
       "       'MiscFeature'],\n",
       "      dtype='object')"
      ]
     },
     "execution_count": 11,
     "metadata": {},
     "output_type": "execute_result"
    }
   ],
   "source": [
    "porcentaje_nulos.index"
   ]
  },
  {
   "cell_type": "code",
   "execution_count": 12,
   "id": "f7fe6b37-23f3-4b5b-bd5c-9262e9e9d142",
   "metadata": {},
   "outputs": [
    {
     "data": {
      "text/html": [
       "<div>\n",
       "<style scoped>\n",
       "    .dataframe tbody tr th:only-of-type {\n",
       "        vertical-align: middle;\n",
       "    }\n",
       "\n",
       "    .dataframe tbody tr th {\n",
       "        vertical-align: top;\n",
       "    }\n",
       "\n",
       "    .dataframe thead th {\n",
       "        text-align: right;\n",
       "    }\n",
       "</style>\n",
       "<table border=\"1\" class=\"dataframe\">\n",
       "  <thead>\n",
       "    <tr style=\"text-align: right;\">\n",
       "      <th></th>\n",
       "      <th>LotFrontage</th>\n",
       "      <th>Alley</th>\n",
       "      <th>MasVnrType</th>\n",
       "      <th>MasVnrArea</th>\n",
       "      <th>BsmtQual</th>\n",
       "      <th>BsmtCond</th>\n",
       "      <th>BsmtExposure</th>\n",
       "      <th>BsmtFinType1</th>\n",
       "      <th>BsmtFinType2</th>\n",
       "      <th>Electrical</th>\n",
       "      <th>FireplaceQu</th>\n",
       "      <th>GarageType</th>\n",
       "      <th>GarageYrBlt</th>\n",
       "      <th>GarageFinish</th>\n",
       "      <th>GarageQual</th>\n",
       "      <th>GarageCond</th>\n",
       "      <th>PoolQC</th>\n",
       "      <th>Fence</th>\n",
       "      <th>MiscFeature</th>\n",
       "    </tr>\n",
       "  </thead>\n",
       "  <tbody>\n",
       "    <tr>\n",
       "      <th>0</th>\n",
       "      <td>65.0</td>\n",
       "      <td>NaN</td>\n",
       "      <td>BrkFace</td>\n",
       "      <td>196.0</td>\n",
       "      <td>Gd</td>\n",
       "      <td>TA</td>\n",
       "      <td>No</td>\n",
       "      <td>GLQ</td>\n",
       "      <td>Unf</td>\n",
       "      <td>SBrkr</td>\n",
       "      <td>NaN</td>\n",
       "      <td>Attchd</td>\n",
       "      <td>2003.0</td>\n",
       "      <td>RFn</td>\n",
       "      <td>TA</td>\n",
       "      <td>TA</td>\n",
       "      <td>NaN</td>\n",
       "      <td>NaN</td>\n",
       "      <td>NaN</td>\n",
       "    </tr>\n",
       "    <tr>\n",
       "      <th>1</th>\n",
       "      <td>80.0</td>\n",
       "      <td>NaN</td>\n",
       "      <td>None</td>\n",
       "      <td>0.0</td>\n",
       "      <td>Gd</td>\n",
       "      <td>TA</td>\n",
       "      <td>Gd</td>\n",
       "      <td>ALQ</td>\n",
       "      <td>Unf</td>\n",
       "      <td>SBrkr</td>\n",
       "      <td>TA</td>\n",
       "      <td>Attchd</td>\n",
       "      <td>1976.0</td>\n",
       "      <td>RFn</td>\n",
       "      <td>TA</td>\n",
       "      <td>TA</td>\n",
       "      <td>NaN</td>\n",
       "      <td>NaN</td>\n",
       "      <td>NaN</td>\n",
       "    </tr>\n",
       "    <tr>\n",
       "      <th>2</th>\n",
       "      <td>68.0</td>\n",
       "      <td>NaN</td>\n",
       "      <td>BrkFace</td>\n",
       "      <td>162.0</td>\n",
       "      <td>Gd</td>\n",
       "      <td>TA</td>\n",
       "      <td>Mn</td>\n",
       "      <td>GLQ</td>\n",
       "      <td>Unf</td>\n",
       "      <td>SBrkr</td>\n",
       "      <td>TA</td>\n",
       "      <td>Attchd</td>\n",
       "      <td>2001.0</td>\n",
       "      <td>RFn</td>\n",
       "      <td>TA</td>\n",
       "      <td>TA</td>\n",
       "      <td>NaN</td>\n",
       "      <td>NaN</td>\n",
       "      <td>NaN</td>\n",
       "    </tr>\n",
       "    <tr>\n",
       "      <th>3</th>\n",
       "      <td>60.0</td>\n",
       "      <td>NaN</td>\n",
       "      <td>None</td>\n",
       "      <td>0.0</td>\n",
       "      <td>TA</td>\n",
       "      <td>Gd</td>\n",
       "      <td>No</td>\n",
       "      <td>ALQ</td>\n",
       "      <td>Unf</td>\n",
       "      <td>SBrkr</td>\n",
       "      <td>Gd</td>\n",
       "      <td>Detchd</td>\n",
       "      <td>1998.0</td>\n",
       "      <td>Unf</td>\n",
       "      <td>TA</td>\n",
       "      <td>TA</td>\n",
       "      <td>NaN</td>\n",
       "      <td>NaN</td>\n",
       "      <td>NaN</td>\n",
       "    </tr>\n",
       "    <tr>\n",
       "      <th>4</th>\n",
       "      <td>84.0</td>\n",
       "      <td>NaN</td>\n",
       "      <td>BrkFace</td>\n",
       "      <td>350.0</td>\n",
       "      <td>Gd</td>\n",
       "      <td>TA</td>\n",
       "      <td>Av</td>\n",
       "      <td>GLQ</td>\n",
       "      <td>Unf</td>\n",
       "      <td>SBrkr</td>\n",
       "      <td>TA</td>\n",
       "      <td>Attchd</td>\n",
       "      <td>2000.0</td>\n",
       "      <td>RFn</td>\n",
       "      <td>TA</td>\n",
       "      <td>TA</td>\n",
       "      <td>NaN</td>\n",
       "      <td>NaN</td>\n",
       "      <td>NaN</td>\n",
       "    </tr>\n",
       "    <tr>\n",
       "      <th>...</th>\n",
       "      <td>...</td>\n",
       "      <td>...</td>\n",
       "      <td>...</td>\n",
       "      <td>...</td>\n",
       "      <td>...</td>\n",
       "      <td>...</td>\n",
       "      <td>...</td>\n",
       "      <td>...</td>\n",
       "      <td>...</td>\n",
       "      <td>...</td>\n",
       "      <td>...</td>\n",
       "      <td>...</td>\n",
       "      <td>...</td>\n",
       "      <td>...</td>\n",
       "      <td>...</td>\n",
       "      <td>...</td>\n",
       "      <td>...</td>\n",
       "      <td>...</td>\n",
       "      <td>...</td>\n",
       "    </tr>\n",
       "    <tr>\n",
       "      <th>1455</th>\n",
       "      <td>62.0</td>\n",
       "      <td>NaN</td>\n",
       "      <td>None</td>\n",
       "      <td>0.0</td>\n",
       "      <td>Gd</td>\n",
       "      <td>TA</td>\n",
       "      <td>No</td>\n",
       "      <td>Unf</td>\n",
       "      <td>Unf</td>\n",
       "      <td>SBrkr</td>\n",
       "      <td>TA</td>\n",
       "      <td>Attchd</td>\n",
       "      <td>1999.0</td>\n",
       "      <td>RFn</td>\n",
       "      <td>TA</td>\n",
       "      <td>TA</td>\n",
       "      <td>NaN</td>\n",
       "      <td>NaN</td>\n",
       "      <td>NaN</td>\n",
       "    </tr>\n",
       "    <tr>\n",
       "      <th>1456</th>\n",
       "      <td>85.0</td>\n",
       "      <td>NaN</td>\n",
       "      <td>Stone</td>\n",
       "      <td>119.0</td>\n",
       "      <td>Gd</td>\n",
       "      <td>TA</td>\n",
       "      <td>No</td>\n",
       "      <td>ALQ</td>\n",
       "      <td>Rec</td>\n",
       "      <td>SBrkr</td>\n",
       "      <td>TA</td>\n",
       "      <td>Attchd</td>\n",
       "      <td>1978.0</td>\n",
       "      <td>Unf</td>\n",
       "      <td>TA</td>\n",
       "      <td>TA</td>\n",
       "      <td>NaN</td>\n",
       "      <td>MnPrv</td>\n",
       "      <td>NaN</td>\n",
       "    </tr>\n",
       "    <tr>\n",
       "      <th>1457</th>\n",
       "      <td>66.0</td>\n",
       "      <td>NaN</td>\n",
       "      <td>None</td>\n",
       "      <td>0.0</td>\n",
       "      <td>TA</td>\n",
       "      <td>Gd</td>\n",
       "      <td>No</td>\n",
       "      <td>GLQ</td>\n",
       "      <td>Unf</td>\n",
       "      <td>SBrkr</td>\n",
       "      <td>Gd</td>\n",
       "      <td>Attchd</td>\n",
       "      <td>1941.0</td>\n",
       "      <td>RFn</td>\n",
       "      <td>TA</td>\n",
       "      <td>TA</td>\n",
       "      <td>NaN</td>\n",
       "      <td>GdPrv</td>\n",
       "      <td>Shed</td>\n",
       "    </tr>\n",
       "    <tr>\n",
       "      <th>1458</th>\n",
       "      <td>68.0</td>\n",
       "      <td>NaN</td>\n",
       "      <td>None</td>\n",
       "      <td>0.0</td>\n",
       "      <td>TA</td>\n",
       "      <td>TA</td>\n",
       "      <td>Mn</td>\n",
       "      <td>GLQ</td>\n",
       "      <td>Rec</td>\n",
       "      <td>FuseA</td>\n",
       "      <td>NaN</td>\n",
       "      <td>Attchd</td>\n",
       "      <td>1950.0</td>\n",
       "      <td>Unf</td>\n",
       "      <td>TA</td>\n",
       "      <td>TA</td>\n",
       "      <td>NaN</td>\n",
       "      <td>NaN</td>\n",
       "      <td>NaN</td>\n",
       "    </tr>\n",
       "    <tr>\n",
       "      <th>1459</th>\n",
       "      <td>75.0</td>\n",
       "      <td>NaN</td>\n",
       "      <td>None</td>\n",
       "      <td>0.0</td>\n",
       "      <td>TA</td>\n",
       "      <td>TA</td>\n",
       "      <td>No</td>\n",
       "      <td>BLQ</td>\n",
       "      <td>LwQ</td>\n",
       "      <td>SBrkr</td>\n",
       "      <td>NaN</td>\n",
       "      <td>Attchd</td>\n",
       "      <td>1965.0</td>\n",
       "      <td>Fin</td>\n",
       "      <td>TA</td>\n",
       "      <td>TA</td>\n",
       "      <td>NaN</td>\n",
       "      <td>NaN</td>\n",
       "      <td>NaN</td>\n",
       "    </tr>\n",
       "  </tbody>\n",
       "</table>\n",
       "<p>1460 rows × 19 columns</p>\n",
       "</div>"
      ],
      "text/plain": [
       "      LotFrontage Alley MasVnrType  MasVnrArea BsmtQual BsmtCond BsmtExposure  \\\n",
       "0            65.0   NaN    BrkFace       196.0       Gd       TA           No   \n",
       "1            80.0   NaN       None         0.0       Gd       TA           Gd   \n",
       "2            68.0   NaN    BrkFace       162.0       Gd       TA           Mn   \n",
       "3            60.0   NaN       None         0.0       TA       Gd           No   \n",
       "4            84.0   NaN    BrkFace       350.0       Gd       TA           Av   \n",
       "...           ...   ...        ...         ...      ...      ...          ...   \n",
       "1455         62.0   NaN       None         0.0       Gd       TA           No   \n",
       "1456         85.0   NaN      Stone       119.0       Gd       TA           No   \n",
       "1457         66.0   NaN       None         0.0       TA       Gd           No   \n",
       "1458         68.0   NaN       None         0.0       TA       TA           Mn   \n",
       "1459         75.0   NaN       None         0.0       TA       TA           No   \n",
       "\n",
       "     BsmtFinType1 BsmtFinType2 Electrical FireplaceQu GarageType  GarageYrBlt  \\\n",
       "0             GLQ          Unf      SBrkr         NaN     Attchd       2003.0   \n",
       "1             ALQ          Unf      SBrkr          TA     Attchd       1976.0   \n",
       "2             GLQ          Unf      SBrkr          TA     Attchd       2001.0   \n",
       "3             ALQ          Unf      SBrkr          Gd     Detchd       1998.0   \n",
       "4             GLQ          Unf      SBrkr          TA     Attchd       2000.0   \n",
       "...           ...          ...        ...         ...        ...          ...   \n",
       "1455          Unf          Unf      SBrkr          TA     Attchd       1999.0   \n",
       "1456          ALQ          Rec      SBrkr          TA     Attchd       1978.0   \n",
       "1457          GLQ          Unf      SBrkr          Gd     Attchd       1941.0   \n",
       "1458          GLQ          Rec      FuseA         NaN     Attchd       1950.0   \n",
       "1459          BLQ          LwQ      SBrkr         NaN     Attchd       1965.0   \n",
       "\n",
       "     GarageFinish GarageQual GarageCond PoolQC  Fence MiscFeature  \n",
       "0             RFn         TA         TA    NaN    NaN         NaN  \n",
       "1             RFn         TA         TA    NaN    NaN         NaN  \n",
       "2             RFn         TA         TA    NaN    NaN         NaN  \n",
       "3             Unf         TA         TA    NaN    NaN         NaN  \n",
       "4             RFn         TA         TA    NaN    NaN         NaN  \n",
       "...           ...        ...        ...    ...    ...         ...  \n",
       "1455          RFn         TA         TA    NaN    NaN         NaN  \n",
       "1456          Unf         TA         TA    NaN  MnPrv         NaN  \n",
       "1457          RFn         TA         TA    NaN  GdPrv        Shed  \n",
       "1458          Unf         TA         TA    NaN    NaN         NaN  \n",
       "1459          Fin         TA         TA    NaN    NaN         NaN  \n",
       "\n",
       "[1460 rows x 19 columns]"
      ]
     },
     "execution_count": 12,
     "metadata": {},
     "output_type": "execute_result"
    }
   ],
   "source": [
    "houses_only_nulls = houses[porcentaje_nulos.index]\n",
    "houses_only_nulls"
   ]
  },
  {
   "cell_type": "code",
   "execution_count": 13,
   "id": "b1988056-06c9-4285-a05f-6edc1e49556c",
   "metadata": {},
   "outputs": [
    {
     "name": "stdout",
     "output_type": "stream",
     "text": [
      "<class 'pandas.core.frame.DataFrame'>\n",
      "RangeIndex: 1460 entries, 0 to 1459\n",
      "Data columns (total 19 columns):\n",
      " #   Column        Non-Null Count  Dtype  \n",
      "---  ------        --------------  -----  \n",
      " 0   LotFrontage   1201 non-null   float64\n",
      " 1   Alley         91 non-null     object \n",
      " 2   MasVnrType    1452 non-null   object \n",
      " 3   MasVnrArea    1452 non-null   float64\n",
      " 4   BsmtQual      1423 non-null   object \n",
      " 5   BsmtCond      1423 non-null   object \n",
      " 6   BsmtExposure  1422 non-null   object \n",
      " 7   BsmtFinType1  1423 non-null   object \n",
      " 8   BsmtFinType2  1422 non-null   object \n",
      " 9   Electrical    1459 non-null   object \n",
      " 10  FireplaceQu   770 non-null    object \n",
      " 11  GarageType    1379 non-null   object \n",
      " 12  GarageYrBlt   1379 non-null   float64\n",
      " 13  GarageFinish  1379 non-null   object \n",
      " 14  GarageQual    1379 non-null   object \n",
      " 15  GarageCond    1379 non-null   object \n",
      " 16  PoolQC        7 non-null      object \n",
      " 17  Fence         281 non-null    object \n",
      " 18  MiscFeature   54 non-null     object \n",
      "dtypes: float64(3), object(16)\n",
      "memory usage: 216.8+ KB\n"
     ]
    }
   ],
   "source": [
    "houses_only_nulls.info()"
   ]
  },
  {
   "cell_type": "code",
   "execution_count": 14,
   "id": "c3e63d2b-1770-4973-b8e1-779637655fe3",
   "metadata": {},
   "outputs": [
    {
     "data": {
      "text/plain": [
       "Index(['LotFrontage', 'Alley', 'FireplaceQu', 'PoolQC', 'Fence',\n",
       "       'MiscFeature'],\n",
       "      dtype='object')"
      ]
     },
     "execution_count": 14,
     "metadata": {},
     "output_type": "execute_result"
    }
   ],
   "source": [
    "columnas_eliminar = porcentaje_nulos[porcentaje_nulos > .15].index #eliminaré las columnas con nulos mayor al 15% del total\n",
    "columnas_eliminar"
   ]
  },
  {
   "cell_type": "code",
   "execution_count": 15,
   "id": "79d89230-22ac-4608-bf71-893cb41e4e15",
   "metadata": {},
   "outputs": [],
   "source": [
    "houses_clean = houses.drop(columns = columnas_eliminar)"
   ]
  },
  {
   "cell_type": "code",
   "execution_count": 16,
   "id": "f9fd1005-0b37-49c0-b04a-e67fa6f0a47a",
   "metadata": {},
   "outputs": [],
   "source": [
    "houses_clean = houses_clean.drop(columns=['Id']) #también se eliminará la columna Id ya que no aporta al precio de la casa"
   ]
  },
  {
   "cell_type": "code",
   "execution_count": 17,
   "id": "b840aef6-268c-4a6b-9d35-bcbec1be241b",
   "metadata": {},
   "outputs": [
    {
     "data": {
      "text/plain": [
       "(1460, 74)"
      ]
     },
     "execution_count": 17,
     "metadata": {},
     "output_type": "execute_result"
    }
   ],
   "source": [
    "houses_clean.shape"
   ]
  },
  {
   "cell_type": "code",
   "execution_count": 18,
   "id": "e2ba268c-f6ac-47bf-b119-6d1838cc54d8",
   "metadata": {},
   "outputs": [
    {
     "data": {
      "text/html": [
       "<div>\n",
       "<style scoped>\n",
       "    .dataframe tbody tr th:only-of-type {\n",
       "        vertical-align: middle;\n",
       "    }\n",
       "\n",
       "    .dataframe tbody tr th {\n",
       "        vertical-align: top;\n",
       "    }\n",
       "\n",
       "    .dataframe thead th {\n",
       "        text-align: right;\n",
       "    }\n",
       "</style>\n",
       "<table border=\"1\" class=\"dataframe\">\n",
       "  <thead>\n",
       "    <tr style=\"text-align: right;\">\n",
       "      <th></th>\n",
       "      <th>MSSubClass</th>\n",
       "      <th>MSZoning</th>\n",
       "      <th>LotArea</th>\n",
       "      <th>Street</th>\n",
       "      <th>LotShape</th>\n",
       "      <th>LandContour</th>\n",
       "      <th>Utilities</th>\n",
       "      <th>LotConfig</th>\n",
       "      <th>LandSlope</th>\n",
       "      <th>Neighborhood</th>\n",
       "      <th>...</th>\n",
       "      <th>EnclosedPorch</th>\n",
       "      <th>3SsnPorch</th>\n",
       "      <th>ScreenPorch</th>\n",
       "      <th>PoolArea</th>\n",
       "      <th>MiscVal</th>\n",
       "      <th>MoSold</th>\n",
       "      <th>YrSold</th>\n",
       "      <th>SaleType</th>\n",
       "      <th>SaleCondition</th>\n",
       "      <th>SalePrice</th>\n",
       "    </tr>\n",
       "  </thead>\n",
       "  <tbody>\n",
       "    <tr>\n",
       "      <th>0</th>\n",
       "      <td>60</td>\n",
       "      <td>RL</td>\n",
       "      <td>8450</td>\n",
       "      <td>Pave</td>\n",
       "      <td>Reg</td>\n",
       "      <td>Lvl</td>\n",
       "      <td>AllPub</td>\n",
       "      <td>Inside</td>\n",
       "      <td>Gtl</td>\n",
       "      <td>CollgCr</td>\n",
       "      <td>...</td>\n",
       "      <td>0</td>\n",
       "      <td>0</td>\n",
       "      <td>0</td>\n",
       "      <td>0</td>\n",
       "      <td>0</td>\n",
       "      <td>2</td>\n",
       "      <td>2008</td>\n",
       "      <td>WD</td>\n",
       "      <td>Normal</td>\n",
       "      <td>208500</td>\n",
       "    </tr>\n",
       "    <tr>\n",
       "      <th>1</th>\n",
       "      <td>20</td>\n",
       "      <td>RL</td>\n",
       "      <td>9600</td>\n",
       "      <td>Pave</td>\n",
       "      <td>Reg</td>\n",
       "      <td>Lvl</td>\n",
       "      <td>AllPub</td>\n",
       "      <td>FR2</td>\n",
       "      <td>Gtl</td>\n",
       "      <td>Veenker</td>\n",
       "      <td>...</td>\n",
       "      <td>0</td>\n",
       "      <td>0</td>\n",
       "      <td>0</td>\n",
       "      <td>0</td>\n",
       "      <td>0</td>\n",
       "      <td>5</td>\n",
       "      <td>2007</td>\n",
       "      <td>WD</td>\n",
       "      <td>Normal</td>\n",
       "      <td>181500</td>\n",
       "    </tr>\n",
       "    <tr>\n",
       "      <th>2</th>\n",
       "      <td>60</td>\n",
       "      <td>RL</td>\n",
       "      <td>11250</td>\n",
       "      <td>Pave</td>\n",
       "      <td>IR1</td>\n",
       "      <td>Lvl</td>\n",
       "      <td>AllPub</td>\n",
       "      <td>Inside</td>\n",
       "      <td>Gtl</td>\n",
       "      <td>CollgCr</td>\n",
       "      <td>...</td>\n",
       "      <td>0</td>\n",
       "      <td>0</td>\n",
       "      <td>0</td>\n",
       "      <td>0</td>\n",
       "      <td>0</td>\n",
       "      <td>9</td>\n",
       "      <td>2008</td>\n",
       "      <td>WD</td>\n",
       "      <td>Normal</td>\n",
       "      <td>223500</td>\n",
       "    </tr>\n",
       "  </tbody>\n",
       "</table>\n",
       "<p>3 rows × 74 columns</p>\n",
       "</div>"
      ],
      "text/plain": [
       "   MSSubClass MSZoning  LotArea Street LotShape LandContour Utilities  \\\n",
       "0          60       RL     8450   Pave      Reg         Lvl    AllPub   \n",
       "1          20       RL     9600   Pave      Reg         Lvl    AllPub   \n",
       "2          60       RL    11250   Pave      IR1         Lvl    AllPub   \n",
       "\n",
       "  LotConfig LandSlope Neighborhood  ... EnclosedPorch 3SsnPorch ScreenPorch  \\\n",
       "0    Inside       Gtl      CollgCr  ...             0         0           0   \n",
       "1       FR2       Gtl      Veenker  ...             0         0           0   \n",
       "2    Inside       Gtl      CollgCr  ...             0         0           0   \n",
       "\n",
       "  PoolArea  MiscVal  MoSold  YrSold  SaleType SaleCondition SalePrice  \n",
       "0        0        0       2    2008        WD        Normal    208500  \n",
       "1        0        0       5    2007        WD        Normal    181500  \n",
       "2        0        0       9    2008        WD        Normal    223500  \n",
       "\n",
       "[3 rows x 74 columns]"
      ]
     },
     "execution_count": 18,
     "metadata": {},
     "output_type": "execute_result"
    }
   ],
   "source": [
    "houses_clean.head(3)"
   ]
  },
  {
   "cell_type": "markdown",
   "id": "c34b6d3d-7d7a-49ab-9de8-4542c95f71c2",
   "metadata": {},
   "source": [
    "### Ya que se tiene el dataframe limpio de nulos analizaré la distribución de la variable a estudiar, que en este caso es el precio de la casa"
   ]
  },
  {
   "cell_type": "code",
   "execution_count": 19,
   "id": "c4db31ca-a077-4761-9812-b8abc33cbe37",
   "metadata": {},
   "outputs": [
    {
     "data": {
      "image/png": "[encoded data removed]",
      "text/plain": [
       "<Figure size 432x288 with 1 Axes>"
      ]
     },
     "metadata": {
      "needs_background": "light"
     },
     "output_type": "display_data"
    }
   ],
   "source": [
    "houses_clean.SalePrice.hist(bins = 100);"
   ]
  },
  {
   "cell_type": "code",
   "execution_count": 20,
   "id": "32557667-aaf2-4001-8da8-45b3236fb6e3",
   "metadata": {},
   "outputs": [
    {
     "data": {
      "image/png": "[encoded data removed]",
      "text/plain": [
       "<Figure size 432x288 with 1 Axes>"
      ]
     },
     "metadata": {
      "needs_background": "light"
     },
     "output_type": "display_data"
    }
   ],
   "source": [
    "# La distribución podría ser más equilibrada de los dos lados, por lo tanto intentaré formas de normalizarla, primero con raíz cuadrada\n",
    "\n",
    "np.sqrt(houses_clean['SalePrice']).hist(bins = 100);"
   ]
  },
  {
   "cell_type": "code",
   "execution_count": 21,
   "id": "ee7d9aa0-2ab3-4377-861e-5d08a1255eb2",
   "metadata": {},
   "outputs": [
    {
     "data": {
      "image/png": "[encoded data removed]",
      "text/plain": [
       "<Figure size 432x288 with 1 Axes>"
      ]
     },
     "metadata": {
      "needs_background": "light"
     },
     "output_type": "display_data"
    }
   ],
   "source": [
    "# Después con elevarla al cuadrado\n",
    "\n",
    "(((houses_clean['SalePrice'])) ** 2).hist(bins = 100);"
   ]
  },
  {
   "cell_type": "code",
   "execution_count": 22,
   "id": "0c441165-bcb0-436d-82a1-c125973e1c3b",
   "metadata": {},
   "outputs": [
    {
     "data": {
      "image/png": "[encoded data removed]",
      "text/plain": [
       "<Figure size 432x288 with 1 Axes>"
      ]
     },
     "metadata": {
      "needs_background": "light"
     },
     "output_type": "display_data"
    }
   ],
   "source": [
    "# Y por último con logaritmo, aquí se ve que es la gráfica más balanceada\n",
    "\n",
    "np.log(houses_clean['SalePrice']).hist(bins = 100);"
   ]
  },
  {
   "cell_type": "code",
   "execution_count": 23,
   "id": "718a548f-520b-4894-9412-86cd0f88a96a",
   "metadata": {},
   "outputs": [
    {
     "data": {
      "text/html": [
       "<div>\n",
       "<style scoped>\n",
       "    .dataframe tbody tr th:only-of-type {\n",
       "        vertical-align: middle;\n",
       "    }\n",
       "\n",
       "    .dataframe tbody tr th {\n",
       "        vertical-align: top;\n",
       "    }\n",
       "\n",
       "    .dataframe thead th {\n",
       "        text-align: right;\n",
       "    }\n",
       "</style>\n",
       "<table border=\"1\" class=\"dataframe\">\n",
       "  <thead>\n",
       "    <tr style=\"text-align: right;\">\n",
       "      <th></th>\n",
       "      <th>MSSubClass</th>\n",
       "      <th>MSZoning</th>\n",
       "      <th>LotArea</th>\n",
       "      <th>Street</th>\n",
       "      <th>LotShape</th>\n",
       "      <th>LandContour</th>\n",
       "      <th>Utilities</th>\n",
       "      <th>LotConfig</th>\n",
       "      <th>LandSlope</th>\n",
       "      <th>Neighborhood</th>\n",
       "      <th>...</th>\n",
       "      <th>3SsnPorch</th>\n",
       "      <th>ScreenPorch</th>\n",
       "      <th>PoolArea</th>\n",
       "      <th>MiscVal</th>\n",
       "      <th>MoSold</th>\n",
       "      <th>YrSold</th>\n",
       "      <th>SaleType</th>\n",
       "      <th>SaleCondition</th>\n",
       "      <th>SalePrice</th>\n",
       "      <th>SalePriceLog</th>\n",
       "    </tr>\n",
       "  </thead>\n",
       "  <tbody>\n",
       "    <tr>\n",
       "      <th>0</th>\n",
       "      <td>60</td>\n",
       "      <td>RL</td>\n",
       "      <td>8450</td>\n",
       "      <td>Pave</td>\n",
       "      <td>Reg</td>\n",
       "      <td>Lvl</td>\n",
       "      <td>AllPub</td>\n",
       "      <td>Inside</td>\n",
       "      <td>Gtl</td>\n",
       "      <td>CollgCr</td>\n",
       "      <td>...</td>\n",
       "      <td>0</td>\n",
       "      <td>0</td>\n",
       "      <td>0</td>\n",
       "      <td>0</td>\n",
       "      <td>2</td>\n",
       "      <td>2008</td>\n",
       "      <td>WD</td>\n",
       "      <td>Normal</td>\n",
       "      <td>208500</td>\n",
       "      <td>12.247694</td>\n",
       "    </tr>\n",
       "    <tr>\n",
       "      <th>1</th>\n",
       "      <td>20</td>\n",
       "      <td>RL</td>\n",
       "      <td>9600</td>\n",
       "      <td>Pave</td>\n",
       "      <td>Reg</td>\n",
       "      <td>Lvl</td>\n",
       "      <td>AllPub</td>\n",
       "      <td>FR2</td>\n",
       "      <td>Gtl</td>\n",
       "      <td>Veenker</td>\n",
       "      <td>...</td>\n",
       "      <td>0</td>\n",
       "      <td>0</td>\n",
       "      <td>0</td>\n",
       "      <td>0</td>\n",
       "      <td>5</td>\n",
       "      <td>2007</td>\n",
       "      <td>WD</td>\n",
       "      <td>Normal</td>\n",
       "      <td>181500</td>\n",
       "      <td>12.109011</td>\n",
       "    </tr>\n",
       "  </tbody>\n",
       "</table>\n",
       "<p>2 rows × 75 columns</p>\n",
       "</div>"
      ],
      "text/plain": [
       "   MSSubClass MSZoning  LotArea Street LotShape LandContour Utilities  \\\n",
       "0          60       RL     8450   Pave      Reg         Lvl    AllPub   \n",
       "1          20       RL     9600   Pave      Reg         Lvl    AllPub   \n",
       "\n",
       "  LotConfig LandSlope Neighborhood  ... 3SsnPorch ScreenPorch PoolArea  \\\n",
       "0    Inside       Gtl      CollgCr  ...         0           0        0   \n",
       "1       FR2       Gtl      Veenker  ...         0           0        0   \n",
       "\n",
       "  MiscVal  MoSold  YrSold  SaleType  SaleCondition SalePrice SalePriceLog  \n",
       "0       0       2    2008        WD         Normal    208500    12.247694  \n",
       "1       0       5    2007        WD         Normal    181500    12.109011  \n",
       "\n",
       "[2 rows x 75 columns]"
      ]
     },
     "execution_count": 23,
     "metadata": {},
     "output_type": "execute_result"
    }
   ],
   "source": [
    "houses_clean['SalePriceLog'] = np.log(houses_clean['SalePrice']) #agregamos esa nueva columna al dataframe\n",
    "houses_clean.head(2)"
   ]
  },
  {
   "cell_type": "markdown",
   "id": "03a4bbc3-cc5b-4406-a0ce-c93393109f0a",
   "metadata": {},
   "source": [
    "### Aún quedan bastantes columnas, así que después de leer la descripción de cada una, elegí las más importantes y agrupé de una manera que me pareció lógica"
   ]
  },
  {
   "cell_type": "code",
   "execution_count": 65,
   "id": "8ac9bb46-b29b-4c8b-bea4-ce98555b3e94",
   "metadata": {},
   "outputs": [
    {
     "data": {
      "text/plain": [
       "Index(['MSSubClass', 'MSZoning', 'LotArea', 'Street', 'LotShape',\n",
       "       'LandContour', 'Utilities', 'LotConfig', 'LandSlope', 'Neighborhood',\n",
       "       'Condition1', 'Condition2', 'BldgType', 'HouseStyle', 'OverallQual',\n",
       "       'OverallCond', 'YearBuilt', 'YearRemodAdd', 'RoofStyle', 'RoofMatl',\n",
       "       'Exterior1st', 'Exterior2nd', 'MasVnrType', 'MasVnrArea', 'ExterQual',\n",
       "       'ExterCond', 'Foundation', 'BsmtQual', 'BsmtCond', 'BsmtExposure',\n",
       "       'BsmtFinType1', 'BsmtFinSF1', 'BsmtFinType2', 'BsmtFinSF2', 'BsmtUnfSF',\n",
       "       'TotalBsmtSF', 'Heating', 'HeatingQC', 'CentralAir', 'Electrical',\n",
       "       '1stFlrSF', '2ndFlrSF', 'LowQualFinSF', 'GrLivArea', 'BsmtFullBath',\n",
       "       'BsmtHalfBath', 'FullBath', 'HalfBath', 'BedroomAbvGr', 'KitchenAbvGr',\n",
       "       'KitchenQual', 'TotRmsAbvGrd', 'Functional', 'Fireplaces', 'GarageType',\n",
       "       'GarageYrBlt', 'GarageFinish', 'GarageCars', 'GarageArea', 'GarageQual',\n",
       "       'GarageCond', 'PavedDrive', 'WoodDeckSF', 'OpenPorchSF',\n",
       "       'EnclosedPorch', '3SsnPorch', 'ScreenPorch', 'PoolArea', 'MiscVal',\n",
       "       'MoSold', 'YrSold', 'SaleType', 'SaleCondition', 'SalePrice',\n",
       "       'SalePriceLog'],\n",
       "      dtype='object')"
      ]
     },
     "execution_count": 65,
     "metadata": {},
     "output_type": "execute_result"
    }
   ],
   "source": [
    "houses_clean.columns"
   ]
  },
  {
   "cell_type": "code",
   "execution_count": 48,
   "id": "1901a280-1e9b-49b2-94af-4d8bffa48b3f",
   "metadata": {},
   "outputs": [
    {
     "name": "stderr",
     "output_type": "stream",
     "text": [
      "/var/folders/qn/d5_7tb1x561dlhpvhyh3k0rr0000gn/T/ipykernel_92497/2551492073.py:3: SettingWithCopyWarning: \n",
      "A value is trying to be set on a copy of a slice from a DataFrame.\n",
      "Try using .loc[row_indexer,col_indexer] = value instead\n",
      "\n",
      "See the caveats in the documentation: https://pandas.pydata.org/pandas-docs/stable/user_guide/indexing.html#returning-a-view-versus-a-copy\n",
      "  houses_small_c['rooms_area'] = houses_clean['GrLivArea'] + houses_clean['GarageArea'] + houses_clean['TotalBsmtSF'] + houses_clean['WoodDeckSF'] + houses_clean['OpenPorchSF'] + houses_clean['EnclosedPorch'] + houses_clean['3SsnPorch']+ houses_clean['ScreenPorch'] + houses_clean['PoolArea']\n",
      "/var/folders/qn/d5_7tb1x561dlhpvhyh3k0rr0000gn/T/ipykernel_92497/2551492073.py:5: SettingWithCopyWarning: \n",
      "A value is trying to be set on a copy of a slice from a DataFrame.\n",
      "Try using .loc[row_indexer,col_indexer] = value instead\n",
      "\n",
      "See the caveats in the documentation: https://pandas.pydata.org/pandas-docs/stable/user_guide/indexing.html#returning-a-view-versus-a-copy\n",
      "  houses_small_c['total_num_rooms'] = houses_clean.BedroomAbvGr + houses_clean.KitchenAbvGr + houses_clean.FullBath + houses_clean.HalfBath + houses_clean.BsmtFullBath + houses_clean.BsmtHalfBath\n",
      "/var/folders/qn/d5_7tb1x561dlhpvhyh3k0rr0000gn/T/ipykernel_92497/2551492073.py:7: SettingWithCopyWarning: \n",
      "A value is trying to be set on a copy of a slice from a DataFrame.\n",
      "Try using .loc[row_indexer,col_indexer] = value instead\n",
      "\n",
      "See the caveats in the documentation: https://pandas.pydata.org/pandas-docs/stable/user_guide/indexing.html#returning-a-view-versus-a-copy\n",
      "  houses_small_c['quality_condition'] = houses_clean['OverallCond'] + houses_clean['OverallQual']\n",
      "/var/folders/qn/d5_7tb1x561dlhpvhyh3k0rr0000gn/T/ipykernel_92497/2551492073.py:9: SettingWithCopyWarning: \n",
      "A value is trying to be set on a copy of a slice from a DataFrame.\n",
      "Try using .loc[row_indexer,col_indexer] = value instead\n",
      "\n",
      "See the caveats in the documentation: https://pandas.pydata.org/pandas-docs/stable/user_guide/indexing.html#returning-a-view-versus-a-copy\n",
      "  houses_small_c['years_since_built'] = 2022 - houses_clean.YearBuilt\n",
      "/var/folders/qn/d5_7tb1x561dlhpvhyh3k0rr0000gn/T/ipykernel_92497/2551492073.py:11: SettingWithCopyWarning: \n",
      "A value is trying to be set on a copy of a slice from a DataFrame.\n",
      "Try using .loc[row_indexer,col_indexer] = value instead\n",
      "\n",
      "See the caveats in the documentation: https://pandas.pydata.org/pandas-docs/stable/user_guide/indexing.html#returning-a-view-versus-a-copy\n",
      "  houses_small_c['years_since_remod'] = 2022 - houses_clean.YearRemodAdd\n"
     ]
    },
    {
     "data": {
      "text/html": [
       "<div>\n",
       "<style scoped>\n",
       "    .dataframe tbody tr th:only-of-type {\n",
       "        vertical-align: middle;\n",
       "    }\n",
       "\n",
       "    .dataframe tbody tr th {\n",
       "        vertical-align: top;\n",
       "    }\n",
       "\n",
       "    .dataframe thead th {\n",
       "        text-align: right;\n",
       "    }\n",
       "</style>\n",
       "<table border=\"1\" class=\"dataframe\">\n",
       "  <thead>\n",
       "    <tr style=\"text-align: right;\">\n",
       "      <th></th>\n",
       "      <th>Neighborhood</th>\n",
       "      <th>LotArea</th>\n",
       "      <th>rooms_area</th>\n",
       "      <th>total_num_rooms</th>\n",
       "      <th>quality_condition</th>\n",
       "      <th>years_since_built</th>\n",
       "      <th>years_since_remod</th>\n",
       "    </tr>\n",
       "  </thead>\n",
       "  <tbody>\n",
       "    <tr>\n",
       "      <th>0</th>\n",
       "      <td>CollgCr</td>\n",
       "      <td>8450</td>\n",
       "      <td>3175</td>\n",
       "      <td>8</td>\n",
       "      <td>12</td>\n",
       "      <td>19</td>\n",
       "      <td>19</td>\n",
       "    </tr>\n",
       "    <tr>\n",
       "      <th>1</th>\n",
       "      <td>Veenker</td>\n",
       "      <td>9600</td>\n",
       "      <td>3282</td>\n",
       "      <td>7</td>\n",
       "      <td>14</td>\n",
       "      <td>46</td>\n",
       "      <td>46</td>\n",
       "    </tr>\n",
       "    <tr>\n",
       "      <th>2</th>\n",
       "      <td>CollgCr</td>\n",
       "      <td>11250</td>\n",
       "      <td>3356</td>\n",
       "      <td>8</td>\n",
       "      <td>12</td>\n",
       "      <td>21</td>\n",
       "      <td>20</td>\n",
       "    </tr>\n",
       "  </tbody>\n",
       "</table>\n",
       "</div>"
      ],
      "text/plain": [
       "  Neighborhood  LotArea  rooms_area  total_num_rooms  quality_condition  \\\n",
       "0      CollgCr     8450        3175                8                 12   \n",
       "1      Veenker     9600        3282                7                 14   \n",
       "2      CollgCr    11250        3356                8                 12   \n",
       "\n",
       "   years_since_built  years_since_remod  \n",
       "0                 19                 19  \n",
       "1                 46                 46  \n",
       "2                 21                 20  "
      ]
     },
     "execution_count": 48,
     "metadata": {},
     "output_type": "execute_result"
    }
   ],
   "source": [
    "houses_small_c = houses_clean[['Neighborhood', 'LotArea']]\n",
    "\n",
    "houses_small_c['rooms_area'] = houses_clean['GrLivArea'] + houses_clean['GarageArea'] + houses_clean['TotalBsmtSF'] + houses_clean['WoodDeckSF'] + houses_clean['OpenPorchSF'] + houses_clean['EnclosedPorch'] + houses_clean['3SsnPorch']+ houses_clean['ScreenPorch'] + houses_clean['PoolArea']\n",
    "    \n",
    "houses_small_c['total_num_rooms'] = houses_clean.BedroomAbvGr + houses_clean.KitchenAbvGr + houses_clean.FullBath + houses_clean.HalfBath + houses_clean.BsmtFullBath + houses_clean.BsmtHalfBath\n",
    "\n",
    "houses_small_c['quality_condition'] = houses_clean['OverallCond'] + houses_clean['OverallQual']\n",
    "\n",
    "houses_small_c['years_since_built'] = 2022 - houses_clean.YearBuilt\n",
    "\n",
    "houses_small_c['years_since_remod'] = 2022 - houses_clean.YearRemodAdd\n",
    "\n",
    "houses_small_c.head(3)"
   ]
  },
  {
   "cell_type": "markdown",
   "id": "c4336875-66a2-4e9f-9f1a-c47547b80102",
   "metadata": {},
   "source": [
    "### Después convertimos a valor numérico todas las variables, la de Vecindario la mejor manera de hacerlo sería con dummies pero dado que son demasiados valores únicos se agregan demasiadas columnas"
   ]
  },
  {
   "cell_type": "code",
   "execution_count": 49,
   "id": "fa13bbeb-b71a-4fe2-b412-35ddbca19857",
   "metadata": {},
   "outputs": [],
   "source": [
    "houses_numeric = houses_small_c._get_numeric_data()\n",
    "\n",
    "houses_numeric['Neighborhood_num'] = houses_small_c['Neighborhood'].astype('category').cat.codes"
   ]
  },
  {
   "cell_type": "code",
   "execution_count": 50,
   "id": "834ff0de-7183-4eb2-af36-2f022ca6b306",
   "metadata": {},
   "outputs": [
    {
     "data": {
      "text/html": [
       "<div>\n",
       "<style scoped>\n",
       "    .dataframe tbody tr th:only-of-type {\n",
       "        vertical-align: middle;\n",
       "    }\n",
       "\n",
       "    .dataframe tbody tr th {\n",
       "        vertical-align: top;\n",
       "    }\n",
       "\n",
       "    .dataframe thead th {\n",
       "        text-align: right;\n",
       "    }\n",
       "</style>\n",
       "<table border=\"1\" class=\"dataframe\">\n",
       "  <thead>\n",
       "    <tr style=\"text-align: right;\">\n",
       "      <th></th>\n",
       "      <th>LotArea</th>\n",
       "      <th>rooms_area</th>\n",
       "      <th>total_num_rooms</th>\n",
       "      <th>quality_condition</th>\n",
       "      <th>years_since_built</th>\n",
       "      <th>years_since_remod</th>\n",
       "      <th>Neighborhood_num</th>\n",
       "    </tr>\n",
       "  </thead>\n",
       "  <tbody>\n",
       "    <tr>\n",
       "      <th>0</th>\n",
       "      <td>8450</td>\n",
       "      <td>3175</td>\n",
       "      <td>8</td>\n",
       "      <td>12</td>\n",
       "      <td>19</td>\n",
       "      <td>19</td>\n",
       "      <td>5</td>\n",
       "    </tr>\n",
       "    <tr>\n",
       "      <th>1</th>\n",
       "      <td>9600</td>\n",
       "      <td>3282</td>\n",
       "      <td>7</td>\n",
       "      <td>14</td>\n",
       "      <td>46</td>\n",
       "      <td>46</td>\n",
       "      <td>24</td>\n",
       "    </tr>\n",
       "    <tr>\n",
       "      <th>2</th>\n",
       "      <td>11250</td>\n",
       "      <td>3356</td>\n",
       "      <td>8</td>\n",
       "      <td>12</td>\n",
       "      <td>21</td>\n",
       "      <td>20</td>\n",
       "      <td>5</td>\n",
       "    </tr>\n",
       "    <tr>\n",
       "      <th>3</th>\n",
       "      <td>9550</td>\n",
       "      <td>3422</td>\n",
       "      <td>6</td>\n",
       "      <td>12</td>\n",
       "      <td>107</td>\n",
       "      <td>52</td>\n",
       "      <td>6</td>\n",
       "    </tr>\n",
       "    <tr>\n",
       "      <th>4</th>\n",
       "      <td>14260</td>\n",
       "      <td>4455</td>\n",
       "      <td>9</td>\n",
       "      <td>13</td>\n",
       "      <td>22</td>\n",
       "      <td>22</td>\n",
       "      <td>15</td>\n",
       "    </tr>\n",
       "    <tr>\n",
       "      <th>...</th>\n",
       "      <td>...</td>\n",
       "      <td>...</td>\n",
       "      <td>...</td>\n",
       "      <td>...</td>\n",
       "      <td>...</td>\n",
       "      <td>...</td>\n",
       "      <td>...</td>\n",
       "    </tr>\n",
       "    <tr>\n",
       "      <th>1455</th>\n",
       "      <td>7917</td>\n",
       "      <td>3100</td>\n",
       "      <td>7</td>\n",
       "      <td>11</td>\n",
       "      <td>23</td>\n",
       "      <td>22</td>\n",
       "      <td>8</td>\n",
       "    </tr>\n",
       "    <tr>\n",
       "      <th>1456</th>\n",
       "      <td>13175</td>\n",
       "      <td>4464</td>\n",
       "      <td>7</td>\n",
       "      <td>12</td>\n",
       "      <td>44</td>\n",
       "      <td>34</td>\n",
       "      <td>14</td>\n",
       "    </tr>\n",
       "    <tr>\n",
       "      <th>1457</th>\n",
       "      <td>9042</td>\n",
       "      <td>3804</td>\n",
       "      <td>7</td>\n",
       "      <td>16</td>\n",
       "      <td>81</td>\n",
       "      <td>16</td>\n",
       "      <td>6</td>\n",
       "    </tr>\n",
       "    <tr>\n",
       "      <th>1458</th>\n",
       "      <td>9717</td>\n",
       "      <td>2874</td>\n",
       "      <td>5</td>\n",
       "      <td>11</td>\n",
       "      <td>72</td>\n",
       "      <td>26</td>\n",
       "      <td>12</td>\n",
       "    </tr>\n",
       "    <tr>\n",
       "      <th>1459</th>\n",
       "      <td>9937</td>\n",
       "      <td>3592</td>\n",
       "      <td>7</td>\n",
       "      <td>11</td>\n",
       "      <td>57</td>\n",
       "      <td>57</td>\n",
       "      <td>7</td>\n",
       "    </tr>\n",
       "  </tbody>\n",
       "</table>\n",
       "<p>1460 rows × 7 columns</p>\n",
       "</div>"
      ],
      "text/plain": [
       "      LotArea  rooms_area  total_num_rooms  quality_condition  \\\n",
       "0        8450        3175                8                 12   \n",
       "1        9600        3282                7                 14   \n",
       "2       11250        3356                8                 12   \n",
       "3        9550        3422                6                 12   \n",
       "4       14260        4455                9                 13   \n",
       "...       ...         ...              ...                ...   \n",
       "1455     7917        3100                7                 11   \n",
       "1456    13175        4464                7                 12   \n",
       "1457     9042        3804                7                 16   \n",
       "1458     9717        2874                5                 11   \n",
       "1459     9937        3592                7                 11   \n",
       "\n",
       "      years_since_built  years_since_remod  Neighborhood_num  \n",
       "0                    19                 19                 5  \n",
       "1                    46                 46                24  \n",
       "2                    21                 20                 5  \n",
       "3                   107                 52                 6  \n",
       "4                    22                 22                15  \n",
       "...                 ...                ...               ...  \n",
       "1455                 23                 22                 8  \n",
       "1456                 44                 34                14  \n",
       "1457                 81                 16                 6  \n",
       "1458                 72                 26                12  \n",
       "1459                 57                 57                 7  \n",
       "\n",
       "[1460 rows x 7 columns]"
      ]
     },
     "execution_count": 50,
     "metadata": {},
     "output_type": "execute_result"
    }
   ],
   "source": [
    "houses_numeric"
   ]
  },
  {
   "cell_type": "markdown",
   "id": "14b34d20-3330-4e2f-aef0-46c9585dcda1",
   "metadata": {},
   "source": [
    "### Después escalamos las variables para que estén en una escala similar"
   ]
  },
  {
   "cell_type": "code",
   "execution_count": 51,
   "id": "b1d70126-9508-472b-b293-d845316cd55c",
   "metadata": {},
   "outputs": [],
   "source": [
    "houses_final = StandardScaler().fit_transform(houses_numeric)\n",
    "houses_final = pd.DataFrame(houses_final)"
   ]
  },
  {
   "cell_type": "code",
   "execution_count": 52,
   "id": "30e8fb58-9552-4609-a710-b647fded943d",
   "metadata": {},
   "outputs": [
    {
     "data": {
      "text/html": [
       "<div>\n",
       "<style scoped>\n",
       "    .dataframe tbody tr th:only-of-type {\n",
       "        vertical-align: middle;\n",
       "    }\n",
       "\n",
       "    .dataframe tbody tr th {\n",
       "        vertical-align: top;\n",
       "    }\n",
       "\n",
       "    .dataframe thead th {\n",
       "        text-align: right;\n",
       "    }\n",
       "</style>\n",
       "<table border=\"1\" class=\"dataframe\">\n",
       "  <thead>\n",
       "    <tr style=\"text-align: right;\">\n",
       "      <th></th>\n",
       "      <th>0</th>\n",
       "      <th>1</th>\n",
       "      <th>2</th>\n",
       "      <th>3</th>\n",
       "      <th>4</th>\n",
       "      <th>5</th>\n",
       "      <th>6</th>\n",
       "    </tr>\n",
       "  </thead>\n",
       "  <tbody>\n",
       "    <tr>\n",
       "      <th>0</th>\n",
       "      <td>-0.207142</td>\n",
       "      <td>-0.052879</td>\n",
       "      <td>1.158965</td>\n",
       "      <td>0.192175</td>\n",
       "      <td>-1.050994</td>\n",
       "      <td>-0.878668</td>\n",
       "      <td>-1.206215</td>\n",
       "    </tr>\n",
       "    <tr>\n",
       "      <th>1</th>\n",
       "      <td>-0.091886</td>\n",
       "      <td>0.050066</td>\n",
       "      <td>0.459176</td>\n",
       "      <td>1.373547</td>\n",
       "      <td>-0.156734</td>\n",
       "      <td>0.429577</td>\n",
       "      <td>1.954302</td>\n",
       "    </tr>\n",
       "    <tr>\n",
       "      <th>2</th>\n",
       "      <td>0.073480</td>\n",
       "      <td>0.121262</td>\n",
       "      <td>1.158965</td>\n",
       "      <td>0.192175</td>\n",
       "      <td>-0.984752</td>\n",
       "      <td>-0.830215</td>\n",
       "      <td>-1.206215</td>\n",
       "    </tr>\n",
       "  </tbody>\n",
       "</table>\n",
       "</div>"
      ],
      "text/plain": [
       "          0         1         2         3         4         5         6\n",
       "0 -0.207142 -0.052879  1.158965  0.192175 -1.050994 -0.878668 -1.206215\n",
       "1 -0.091886  0.050066  0.459176  1.373547 -0.156734  0.429577  1.954302\n",
       "2  0.073480  0.121262  1.158965  0.192175 -0.984752 -0.830215 -1.206215"
      ]
     },
     "execution_count": 52,
     "metadata": {},
     "output_type": "execute_result"
    }
   ],
   "source": [
    "houses_final.head(3)"
   ]
  },
  {
   "cell_type": "code",
   "execution_count": 53,
   "id": "b56cacd9-b982-4d04-9bd4-ef366267e713",
   "metadata": {},
   "outputs": [
    {
     "data": {
      "text/html": [
       "<div>\n",
       "<style scoped>\n",
       "    .dataframe tbody tr th:only-of-type {\n",
       "        vertical-align: middle;\n",
       "    }\n",
       "\n",
       "    .dataframe tbody tr th {\n",
       "        vertical-align: top;\n",
       "    }\n",
       "\n",
       "    .dataframe thead th {\n",
       "        text-align: right;\n",
       "    }\n",
       "</style>\n",
       "<table border=\"1\" class=\"dataframe\">\n",
       "  <thead>\n",
       "    <tr style=\"text-align: right;\">\n",
       "      <th></th>\n",
       "      <th>0</th>\n",
       "      <th>1</th>\n",
       "      <th>2</th>\n",
       "    </tr>\n",
       "  </thead>\n",
       "  <tbody>\n",
       "    <tr>\n",
       "      <th>LotArea_scaled</th>\n",
       "      <td>-0.207142</td>\n",
       "      <td>-0.091886</td>\n",
       "      <td>0.073480</td>\n",
       "    </tr>\n",
       "    <tr>\n",
       "      <th>rooms_area_scaled</th>\n",
       "      <td>-0.052879</td>\n",
       "      <td>0.050066</td>\n",
       "      <td>0.121262</td>\n",
       "    </tr>\n",
       "    <tr>\n",
       "      <th>total_num_rooms_scaled</th>\n",
       "      <td>1.158965</td>\n",
       "      <td>0.459176</td>\n",
       "      <td>1.158965</td>\n",
       "    </tr>\n",
       "    <tr>\n",
       "      <th>quality_condition_scaled</th>\n",
       "      <td>0.192175</td>\n",
       "      <td>1.373547</td>\n",
       "      <td>0.192175</td>\n",
       "    </tr>\n",
       "    <tr>\n",
       "      <th>years_since_built_scaled</th>\n",
       "      <td>-1.050994</td>\n",
       "      <td>-0.156734</td>\n",
       "      <td>-0.984752</td>\n",
       "    </tr>\n",
       "    <tr>\n",
       "      <th>years_since_remod_scaled</th>\n",
       "      <td>-0.878668</td>\n",
       "      <td>0.429577</td>\n",
       "      <td>-0.830215</td>\n",
       "    </tr>\n",
       "    <tr>\n",
       "      <th>Neighborhood_num_scaled</th>\n",
       "      <td>-1.206215</td>\n",
       "      <td>1.954302</td>\n",
       "      <td>-1.206215</td>\n",
       "    </tr>\n",
       "  </tbody>\n",
       "</table>\n",
       "</div>"
      ],
      "text/plain": [
       "                                 0         1         2\n",
       "LotArea_scaled           -0.207142 -0.091886  0.073480\n",
       "rooms_area_scaled        -0.052879  0.050066  0.121262\n",
       "total_num_rooms_scaled    1.158965  0.459176  1.158965\n",
       "quality_condition_scaled  0.192175  1.373547  0.192175\n",
       "years_since_built_scaled -1.050994 -0.156734 -0.984752\n",
       "years_since_remod_scaled -0.878668  0.429577 -0.830215\n",
       "Neighborhood_num_scaled  -1.206215  1.954302 -1.206215"
      ]
     },
     "execution_count": 53,
     "metadata": {},
     "output_type": "execute_result"
    }
   ],
   "source": [
    "houses_final.rename(columns= {0:'LotArea_scaled', 1:'rooms_area_scaled', 2:'total_num_rooms_scaled', 3:'quality_condition_scaled', 4:'years_since_built_scaled', 5:'years_since_remod_scaled', 6:'Neighborhood_num_scaled'}, inplace = True)\n",
    "houses_final.head(3).T"
   ]
  },
  {
   "cell_type": "code",
   "execution_count": 54,
   "id": "55b26c40-abd1-4591-a877-7c815057d2f5",
   "metadata": {},
   "outputs": [
    {
     "data": {
      "text/html": [
       "<div>\n",
       "<style scoped>\n",
       "    .dataframe tbody tr th:only-of-type {\n",
       "        vertical-align: middle;\n",
       "    }\n",
       "\n",
       "    .dataframe tbody tr th {\n",
       "        vertical-align: top;\n",
       "    }\n",
       "\n",
       "    .dataframe thead th {\n",
       "        text-align: right;\n",
       "    }\n",
       "</style>\n",
       "<table border=\"1\" class=\"dataframe\">\n",
       "  <thead>\n",
       "    <tr style=\"text-align: right;\">\n",
       "      <th></th>\n",
       "      <th>LotArea_scaled</th>\n",
       "      <th>rooms_area_scaled</th>\n",
       "      <th>total_num_rooms_scaled</th>\n",
       "      <th>quality_condition_scaled</th>\n",
       "      <th>years_since_built_scaled</th>\n",
       "      <th>years_since_remod_scaled</th>\n",
       "      <th>Neighborhood_num_scaled</th>\n",
       "    </tr>\n",
       "  </thead>\n",
       "  <tbody>\n",
       "    <tr>\n",
       "      <th>count</th>\n",
       "      <td>1.460000e+03</td>\n",
       "      <td>1.460000e+03</td>\n",
       "      <td>1.460000e+03</td>\n",
       "      <td>1.460000e+03</td>\n",
       "      <td>1.460000e+03</td>\n",
       "      <td>1.460000e+03</td>\n",
       "      <td>1.460000e+03</td>\n",
       "    </tr>\n",
       "    <tr>\n",
       "      <th>mean</th>\n",
       "      <td>-4.202783e-17</td>\n",
       "      <td>-1.106421e-16</td>\n",
       "      <td>1.447852e-16</td>\n",
       "      <td>6.387585e-17</td>\n",
       "      <td>-1.126572e-16</td>\n",
       "      <td>-4.212764e-17</td>\n",
       "      <td>-3.414316e-17</td>\n",
       "    </tr>\n",
       "    <tr>\n",
       "      <th>std</th>\n",
       "      <td>1.000343e+00</td>\n",
       "      <td>1.000343e+00</td>\n",
       "      <td>1.000343e+00</td>\n",
       "      <td>1.000343e+00</td>\n",
       "      <td>1.000343e+00</td>\n",
       "      <td>1.000343e+00</td>\n",
       "      <td>1.000343e+00</td>\n",
       "    </tr>\n",
       "    <tr>\n",
       "      <th>min</th>\n",
       "      <td>-9.237292e-01</td>\n",
       "      <td>-2.786217e+00</td>\n",
       "      <td>-2.339977e+00</td>\n",
       "      <td>-5.714684e+00</td>\n",
       "      <td>-1.282839e+00</td>\n",
       "      <td>-1.217843e+00</td>\n",
       "      <td>-2.037929e+00</td>\n",
       "    </tr>\n",
       "    <tr>\n",
       "      <th>25%</th>\n",
       "      <td>-2.969908e-01</td>\n",
       "      <td>-6.775251e-01</td>\n",
       "      <td>-9.404005e-01</td>\n",
       "      <td>-3.985107e-01</td>\n",
       "      <td>-9.516316e-01</td>\n",
       "      <td>-9.271216e-01</td>\n",
       "      <td>-8.735286e-01</td>\n",
       "    </tr>\n",
       "    <tr>\n",
       "      <th>50%</th>\n",
       "      <td>-1.040633e-01</td>\n",
       "      <td>-1.216693e-01</td>\n",
       "      <td>-2.406122e-01</td>\n",
       "      <td>1.921752e-01</td>\n",
       "      <td>-5.737148e-02</td>\n",
       "      <td>-4.425864e-01</td>\n",
       "      <td>-4.181361e-02</td>\n",
       "    </tr>\n",
       "    <tr>\n",
       "      <th>75%</th>\n",
       "      <td>1.087080e-01</td>\n",
       "      <td>5.335238e-01</td>\n",
       "      <td>4.591762e-01</td>\n",
       "      <td>7.828611e-01</td>\n",
       "      <td>5.719226e-01</td>\n",
       "      <td>8.656586e-01</td>\n",
       "      <td>7.899013e-01</td>\n",
       "    </tr>\n",
       "    <tr>\n",
       "      <th>max</th>\n",
       "      <td>2.051827e+01</td>\n",
       "      <td>1.051199e+01</td>\n",
       "      <td>5.357695e+00</td>\n",
       "      <td>4.326976e+00</td>\n",
       "      <td>3.287824e+00</td>\n",
       "      <td>1.689368e+00</td>\n",
       "      <td>1.954302e+00</td>\n",
       "    </tr>\n",
       "  </tbody>\n",
       "</table>\n",
       "</div>"
      ],
      "text/plain": [
       "       LotArea_scaled  rooms_area_scaled  total_num_rooms_scaled  \\\n",
       "count    1.460000e+03       1.460000e+03            1.460000e+03   \n",
       "mean    -4.202783e-17      -1.106421e-16            1.447852e-16   \n",
       "std      1.000343e+00       1.000343e+00            1.000343e+00   \n",
       "min     -9.237292e-01      -2.786217e+00           -2.339977e+00   \n",
       "25%     -2.969908e-01      -6.775251e-01           -9.404005e-01   \n",
       "50%     -1.040633e-01      -1.216693e-01           -2.406122e-01   \n",
       "75%      1.087080e-01       5.335238e-01            4.591762e-01   \n",
       "max      2.051827e+01       1.051199e+01            5.357695e+00   \n",
       "\n",
       "       quality_condition_scaled  years_since_built_scaled  \\\n",
       "count              1.460000e+03              1.460000e+03   \n",
       "mean               6.387585e-17             -1.126572e-16   \n",
       "std                1.000343e+00              1.000343e+00   \n",
       "min               -5.714684e+00             -1.282839e+00   \n",
       "25%               -3.985107e-01             -9.516316e-01   \n",
       "50%                1.921752e-01             -5.737148e-02   \n",
       "75%                7.828611e-01              5.719226e-01   \n",
       "max                4.326976e+00              3.287824e+00   \n",
       "\n",
       "       years_since_remod_scaled  Neighborhood_num_scaled  \n",
       "count              1.460000e+03             1.460000e+03  \n",
       "mean              -4.212764e-17            -3.414316e-17  \n",
       "std                1.000343e+00             1.000343e+00  \n",
       "min               -1.217843e+00            -2.037929e+00  \n",
       "25%               -9.271216e-01            -8.735286e-01  \n",
       "50%               -4.425864e-01            -4.181361e-02  \n",
       "75%                8.656586e-01             7.899013e-01  \n",
       "max                1.689368e+00             1.954302e+00  "
      ]
     },
     "execution_count": 54,
     "metadata": {},
     "output_type": "execute_result"
    }
   ],
   "source": [
    "houses_final.describe()"
   ]
  },
  {
   "cell_type": "markdown",
   "id": "8061e81b-a343-4151-8404-328b4fed5c36",
   "metadata": {},
   "source": [
    "## Análisis estadístico"
   ]
  },
  {
   "cell_type": "markdown",
   "id": "c3d06773-510f-43a9-bc7a-63e45f3ec7e7",
   "metadata": {},
   "source": [
    "### Correlación"
   ]
  },
  {
   "cell_type": "code",
   "execution_count": 55,
   "id": "fdbad3b2-8f14-4110-8227-0d7b38aa4470",
   "metadata": {},
   "outputs": [],
   "source": [
    "houses_final['SalePriceLog'] = houses_clean['SalePriceLog']\n",
    "houses_final['SalePrice'] = houses_clean['SalePrice']"
   ]
  },
  {
   "cell_type": "code",
   "execution_count": 63,
   "id": "3166db43-05c5-4fbb-8345-ea3ac7050957",
   "metadata": {},
   "outputs": [
    {
     "data": {
      "text/html": [
       "<div>\n",
       "<style scoped>\n",
       "    .dataframe tbody tr th:only-of-type {\n",
       "        vertical-align: middle;\n",
       "    }\n",
       "\n",
       "    .dataframe tbody tr th {\n",
       "        vertical-align: top;\n",
       "    }\n",
       "\n",
       "    .dataframe thead th {\n",
       "        text-align: right;\n",
       "    }\n",
       "</style>\n",
       "<table border=\"1\" class=\"dataframe\">\n",
       "  <thead>\n",
       "    <tr style=\"text-align: right;\">\n",
       "      <th></th>\n",
       "      <th>SalePriceLog</th>\n",
       "      <th>SalePrice</th>\n",
       "    </tr>\n",
       "  </thead>\n",
       "  <tbody>\n",
       "    <tr>\n",
       "      <th>SalePriceLog</th>\n",
       "      <td>1.000000</td>\n",
       "      <td>0.948374</td>\n",
       "    </tr>\n",
       "    <tr>\n",
       "      <th>SalePrice</th>\n",
       "      <td>0.948374</td>\n",
       "      <td>1.000000</td>\n",
       "    </tr>\n",
       "    <tr>\n",
       "      <th>rooms_area_scaled</th>\n",
       "      <td>0.809090</td>\n",
       "      <td>0.807704</td>\n",
       "    </tr>\n",
       "    <tr>\n",
       "      <th>quality_condition_scaled</th>\n",
       "      <td>0.643117</td>\n",
       "      <td>0.594786</td>\n",
       "    </tr>\n",
       "    <tr>\n",
       "      <th>total_num_rooms_scaled</th>\n",
       "      <td>0.521120</td>\n",
       "      <td>0.470702</td>\n",
       "    </tr>\n",
       "    <tr>\n",
       "      <th>LotArea_scaled</th>\n",
       "      <td>0.257320</td>\n",
       "      <td>0.263843</td>\n",
       "    </tr>\n",
       "    <tr>\n",
       "      <th>Neighborhood_num_scaled</th>\n",
       "      <td>0.201685</td>\n",
       "      <td>0.210851</td>\n",
       "    </tr>\n",
       "    <tr>\n",
       "      <th>years_since_remod_scaled</th>\n",
       "      <td>-0.565608</td>\n",
       "      <td>-0.507101</td>\n",
       "    </tr>\n",
       "    <tr>\n",
       "      <th>years_since_built_scaled</th>\n",
       "      <td>-0.586570</td>\n",
       "      <td>-0.522897</td>\n",
       "    </tr>\n",
       "  </tbody>\n",
       "</table>\n",
       "</div>"
      ],
      "text/plain": [
       "                          SalePriceLog  SalePrice\n",
       "SalePriceLog                  1.000000   0.948374\n",
       "SalePrice                     0.948374   1.000000\n",
       "rooms_area_scaled             0.809090   0.807704\n",
       "quality_condition_scaled      0.643117   0.594786\n",
       "total_num_rooms_scaled        0.521120   0.470702\n",
       "LotArea_scaled                0.257320   0.263843\n",
       "Neighborhood_num_scaled       0.201685   0.210851\n",
       "years_since_remod_scaled     -0.565608  -0.507101\n",
       "years_since_built_scaled     -0.586570  -0.522897"
      ]
     },
     "execution_count": 63,
     "metadata": {},
     "output_type": "execute_result"
    }
   ],
   "source": [
    "houses_final.corr()[['SalePriceLog', 'SalePrice']].sort_values(by = 'SalePriceLog', ascending = False)\n",
    "\n",
    "#La variable que tiene la correlación más alta es la del área total de los cuartos, seguida por la calidad y la condición de la casa"
   ]
  },
  {
   "cell_type": "markdown",
   "id": "f9e40298-8630-48fd-9bea-6bdc32d72ca9",
   "metadata": {},
   "source": [
    "#### Las tres columnas con correlación más alta son la del área total de cuartos, seguida por la calidad y la condición de la casa y por último los años que tiene la casa tiene una alta correlación negativa"
   ]
  },
  {
   "cell_type": "code",
   "execution_count": 59,
   "id": "a5d5b26f-8adc-4399-b1b8-953f1327b3dc",
   "metadata": {},
   "outputs": [
    {
     "data": {
      "image/png": "[encoded data removed]",
      "text/plain": [
       "<Figure size 432x288 with 1 Axes>"
      ]
     },
     "metadata": {
      "needs_background": "light"
     },
     "output_type": "display_data"
    }
   ],
   "source": [
    "#Graficamos las tres variables con mayor correlación para ver su comportamiento\n",
    "\n",
    "houses_final.plot.scatter(x = 'rooms_area_scaled', y = 'SalePriceLog');"
   ]
  },
  {
   "cell_type": "code",
   "execution_count": 60,
   "id": "4f9d8952-a53e-4d70-acd7-0175eca2a800",
   "metadata": {},
   "outputs": [
    {
     "data": {
      "image/png": "[encoded data removed]",
      "text/plain": [
       "<Figure size 432x288 with 1 Axes>"
      ]
     },
     "metadata": {
      "needs_background": "light"
     },
     "output_type": "display_data"
    }
   ],
   "source": [
    "houses_final.plot.scatter(x = 'quality_condition_scaled', y = 'SalePriceLog');"
   ]
  },
  {
   "cell_type": "code",
   "execution_count": 64,
   "id": "33812e53-55c2-4a48-9fda-48a7d83caab4",
   "metadata": {},
   "outputs": [
    {
     "data": {
      "image/png": "[encoded data removed]",
      "text/plain": [
       "<Figure size 432x288 with 1 Axes>"
      ]
     },
     "metadata": {
      "needs_background": "light"
     },
     "output_type": "display_data"
    }
   ],
   "source": [
    "houses_final.plot.scatter(x = 'years_since_built_scaled', y = 'SalePriceLog');"
   ]
  },
  {
   "cell_type": "markdown",
   "id": "3b82b84c-af53-41a7-8711-e09032f365e7",
   "metadata": {},
   "source": [
    "### Tabla ANOVA"
   ]
  },
  {
   "cell_type": "code",
   "execution_count": 65,
   "id": "a65d739f-40ba-48ee-96e4-f1ccd26ac177",
   "metadata": {},
   "outputs": [],
   "source": [
    "model = ols('SalePriceLog ~ LotArea_scaled + rooms_area_scaled + total_num_rooms_scaled + quality_condition_scaled + years_since_built_scaled + years_since_remod_scaled + Neighborhood_num_scaled', data=houses_final).fit()"
   ]
  },
  {
   "cell_type": "code",
   "execution_count": 66,
   "id": "47e716fb-0acf-4b32-bd89-b78d0db5fe99",
   "metadata": {},
   "outputs": [
    {
     "data": {
      "text/html": [
       "<div>\n",
       "<style scoped>\n",
       "    .dataframe tbody tr th:only-of-type {\n",
       "        vertical-align: middle;\n",
       "    }\n",
       "\n",
       "    .dataframe tbody tr th {\n",
       "        vertical-align: top;\n",
       "    }\n",
       "\n",
       "    .dataframe thead th {\n",
       "        text-align: right;\n",
       "    }\n",
       "</style>\n",
       "<table border=\"1\" class=\"dataframe\">\n",
       "  <thead>\n",
       "    <tr style=\"text-align: right;\">\n",
       "      <th></th>\n",
       "      <th>sum_sq</th>\n",
       "      <th>df</th>\n",
       "      <th>F</th>\n",
       "      <th>PR(&gt;F)</th>\n",
       "    </tr>\n",
       "  </thead>\n",
       "  <tbody>\n",
       "    <tr>\n",
       "      <th>LotArea_scaled</th>\n",
       "      <td>0.902376</td>\n",
       "      <td>1.0</td>\n",
       "      <td>34.178550</td>\n",
       "      <td>6.199997e-09</td>\n",
       "    </tr>\n",
       "    <tr>\n",
       "      <th>rooms_area_scaled</th>\n",
       "      <td>23.841211</td>\n",
       "      <td>1.0</td>\n",
       "      <td>903.013923</td>\n",
       "      <td>1.119567e-154</td>\n",
       "    </tr>\n",
       "    <tr>\n",
       "      <th>total_num_rooms_scaled</th>\n",
       "      <td>1.209420</td>\n",
       "      <td>1.0</td>\n",
       "      <td>45.808188</td>\n",
       "      <td>1.886687e-11</td>\n",
       "    </tr>\n",
       "    <tr>\n",
       "      <th>quality_condition_scaled</th>\n",
       "      <td>13.938415</td>\n",
       "      <td>1.0</td>\n",
       "      <td>527.933882</td>\n",
       "      <td>6.706010e-100</td>\n",
       "    </tr>\n",
       "    <tr>\n",
       "      <th>years_since_built_scaled</th>\n",
       "      <td>11.661272</td>\n",
       "      <td>1.0</td>\n",
       "      <td>441.684391</td>\n",
       "      <td>7.914976e-86</td>\n",
       "    </tr>\n",
       "    <tr>\n",
       "      <th>years_since_remod_scaled</th>\n",
       "      <td>0.226650</td>\n",
       "      <td>1.0</td>\n",
       "      <td>8.584631</td>\n",
       "      <td>3.443081e-03</td>\n",
       "    </tr>\n",
       "    <tr>\n",
       "      <th>Neighborhood_num_scaled</th>\n",
       "      <td>0.079201</td>\n",
       "      <td>1.0</td>\n",
       "      <td>2.999834</td>\n",
       "      <td>8.348544e-02</td>\n",
       "    </tr>\n",
       "    <tr>\n",
       "      <th>Residual</th>\n",
       "      <td>38.335442</td>\n",
       "      <td>1452.0</td>\n",
       "      <td>NaN</td>\n",
       "      <td>NaN</td>\n",
       "    </tr>\n",
       "  </tbody>\n",
       "</table>\n",
       "</div>"
      ],
      "text/plain": [
       "                             sum_sq      df           F         PR(>F)\n",
       "LotArea_scaled             0.902376     1.0   34.178550   6.199997e-09\n",
       "rooms_area_scaled         23.841211     1.0  903.013923  1.119567e-154\n",
       "total_num_rooms_scaled     1.209420     1.0   45.808188   1.886687e-11\n",
       "quality_condition_scaled  13.938415     1.0  527.933882  6.706010e-100\n",
       "years_since_built_scaled  11.661272     1.0  441.684391   7.914976e-86\n",
       "years_since_remod_scaled   0.226650     1.0    8.584631   3.443081e-03\n",
       "Neighborhood_num_scaled    0.079201     1.0    2.999834   8.348544e-02\n",
       "Residual                  38.335442  1452.0         NaN            NaN"
      ]
     },
     "execution_count": 66,
     "metadata": {},
     "output_type": "execute_result"
    }
   ],
   "source": [
    "anova_table = sm.stats.anova_lm(model, typ=2)\n",
    "anova_table"
   ]
  },
  {
   "cell_type": "markdown",
   "id": "5d3fe828-9b2f-40aa-8f0e-4175ea701a7d",
   "metadata": {},
   "source": [
    "### Modelo OLS"
   ]
  },
  {
   "cell_type": "code",
   "execution_count": 67,
   "id": "bbfa96dc-6976-46e7-bf85-837e2584af49",
   "metadata": {},
   "outputs": [
    {
     "name": "stderr",
     "output_type": "stream",
     "text": [
      "/Users/marcosrubio/opt/anaconda3/lib/python3.9/site-packages/statsmodels/tsa/tsatools.py:142: FutureWarning: In a future version of pandas all arguments of concat except for the argument 'objs' will be keyword-only\n",
      "  x = pd.concat(x[::order], 1)\n"
     ]
    }
   ],
   "source": [
    "X = sm.add_constant(houses_final[['LotArea_scaled', 'rooms_area_scaled', 'total_num_rooms_scaled', 'quality_condition_scaled', 'years_since_built_scaled', 'years_since_remod_scaled', 'Neighborhood_num_scaled']])\n",
    "Y = houses_final.SalePriceLog"
   ]
  },
  {
   "cell_type": "code",
   "execution_count": 68,
   "id": "e3adcfea-82b0-47e5-963b-3bfb0522aa96",
   "metadata": {},
   "outputs": [],
   "source": [
    "model = sm.OLS(Y, X).fit()\n",
    "predictions = model.predict(X)"
   ]
  },
  {
   "cell_type": "code",
   "execution_count": 70,
   "id": "3fe826e1-8f23-4792-810a-8363c9401a3c",
   "metadata": {},
   "outputs": [
    {
     "name": "stdout",
     "output_type": "stream",
     "text": [
      "                            OLS Regression Results                            \n",
      "==============================================================================\n",
      "Dep. Variable:           SalePriceLog   R-squared:                       0.835\n",
      "Model:                            OLS   Adj. R-squared:                  0.835\n",
      "Method:                 Least Squares   F-statistic:                     1052.\n",
      "Date:                Fri, 29 Jul 2022   Prob (F-statistic):               0.00\n",
      "Time:                        16:26:47   Log-Likelihood:                 585.42\n",
      "No. Observations:                1460   AIC:                            -1155.\n",
      "Df Residuals:                    1452   BIC:                            -1113.\n",
      "Df Model:                           7                                         \n",
      "Covariance Type:            nonrobust                                         \n",
      "============================================================================================\n",
      "                               coef    std err          t      P>|t|      [0.025      0.975]\n",
      "--------------------------------------------------------------------------------------------\n",
      "const                       12.0241      0.004   2827.550      0.000      12.016      12.032\n",
      "LotArea_scaled               0.0264      0.005      5.846      0.000       0.018       0.035\n",
      "rooms_area_scaled            0.1846      0.006     30.050      0.000       0.173       0.197\n",
      "total_num_rooms_scaled       0.0349      0.005      6.768      0.000       0.025       0.045\n",
      "quality_condition_scaled     0.1236      0.005     22.977      0.000       0.113       0.134\n",
      "years_since_built_scaled    -0.1164      0.006    -21.016      0.000      -0.127      -0.106\n",
      "years_since_remod_scaled    -0.0175      0.006     -2.930      0.003      -0.029      -0.006\n",
      "Neighborhood_num_scaled      0.0075      0.004      1.732      0.083      -0.001       0.016\n",
      "==============================================================================\n",
      "Omnibus:                     1321.606   Durbin-Watson:                   1.967\n",
      "Prob(Omnibus):                  0.000   Jarque-Bera (JB):           159024.982\n",
      "Skew:                          -3.703   Prob(JB):                         0.00\n",
      "Kurtosis:                      53.589   Cond. No.                         3.06\n",
      "==============================================================================\n",
      "\n",
      "Notes:\n",
      "[1] Standard Errors assume that the covariance matrix of the errors is correctly specified.\n"
     ]
    },
    {
     "data": {
      "text/plain": [
       "'\\nLa variable que más peso tiene es el área total de los cuartos porque tiene el mayor coeficiente \\ny las variables que elegimos explican el 83.5% de la variación de los datos\\n'"
      ]
     },
     "execution_count": 70,
     "metadata": {},
     "output_type": "execute_result"
    }
   ],
   "source": [
    "print_model = model.summary()\n",
    "print(print_model)\n",
    "\n",
    "\n",
    "'''\n",
    "La variable que más peso tiene es el área total de los cuartos porque tiene el mayor coeficiente \n",
    "y las variables que elegimos explican el 83.5% de la variación de los datos por lo que fue una buena elección\n",
    "\n",
    "También podemos observar que el p-value del vecindario es relativamente grande por lo que puede no ser tan representativo (aunque el tema del\n",
    "labeling también pudo haber influido)\n",
    "'''"
   ]
  },
  {
   "cell_type": "markdown",
   "id": "17768b92-40df-453e-8a8d-e401c39fc594",
   "metadata": {},
   "source": [
    "### Graficar regresión lineal de top 3 de variables"
   ]
  },
  {
   "cell_type": "markdown",
   "id": "73030a44-d70f-4a2b-831b-caf10032111a",
   "metadata": {},
   "source": [
    "#### Área total de las habitaciones"
   ]
  },
  {
   "cell_type": "code",
   "execution_count": 71,
   "id": "20fbecdf-386c-4ed7-b73d-f19389a57e8a",
   "metadata": {},
   "outputs": [],
   "source": [
    "slope_1, intercept_1, r_value_1, p_value_1, std_err_1 = linregress(x = houses_final.rooms_area_scaled, y = houses_final.SalePriceLog)"
   ]
  },
  {
   "cell_type": "code",
   "execution_count": 79,
   "id": "c3f561e1-08f2-4ce4-b0d3-e4088696a52a",
   "metadata": {},
   "outputs": [
    {
     "data": {
      "image/png": "[encoded data removed]",
      "text/plain": [
       "<Figure size 432x288 with 1 Axes>"
      ]
     },
     "metadata": {
      "needs_background": "light"
     },
     "output_type": "display_data"
    }
   ],
   "source": [
    "plt.scatter(x = houses_final.rooms_area_scaled, y = houses_final.SalePriceLog)\n",
    "\n",
    "x = [houses_final.rooms_area_scaled.min(), houses_final.rooms_area_scaled.max()]\n",
    "y = [houses_final.rooms_area_scaled.min() * slope_1 + intercept_1, houses_final.rooms_area_scaled.max() * slope_1 + intercept_1]\n",
    "plt.plot(x,y, color='r')\n",
    "plt.xlabel('rooms_area_scaled')\n",
    "plt.ylabel('SalePriceLog');"
   ]
  },
  {
   "cell_type": "markdown",
   "id": "bd3e72be-27f4-46b8-887a-fda7273b7778",
   "metadata": {},
   "source": [
    "#### Calidad y condición de la casa"
   ]
  },
  {
   "cell_type": "code",
   "execution_count": 73,
   "id": "200acd28-c993-4c92-86e6-5f578f90566f",
   "metadata": {},
   "outputs": [],
   "source": [
    "slope_2, intercept_2, r_value_2, p_value_2, std_err_2 = linregress(x = houses_final.quality_condition_scaled, y = houses_final.SalePriceLog)"
   ]
  },
  {
   "cell_type": "code",
   "execution_count": 80,
   "id": "6b3ecb0a-39a0-4d13-89ca-d53f280658f7",
   "metadata": {},
   "outputs": [
    {
     "data": {
      "image/png": "[encoded data removed]",
      "text/plain": [
       "<Figure size 432x288 with 1 Axes>"
      ]
     },
     "metadata": {
      "needs_background": "light"
     },
     "output_type": "display_data"
    }
   ],
   "source": [
    "plt.scatter(x = houses_final.quality_condition_scaled, y = houses_final.SalePriceLog)\n",
    "\n",
    "x = [houses_final.quality_condition_scaled.min(), houses_final.quality_condition_scaled.max()]\n",
    "y = [houses_final.quality_condition_scaled.min() * slope_2 + intercept_2, houses_final.quality_condition_scaled.max() * slope_2 + intercept_2]\n",
    "plt.plot(x,y, color='r')\n",
    "plt.xlabel('quality_condition_scaled')\n",
    "plt.ylabel('SalePriceLog');"
   ]
  },
  {
   "cell_type": "code",
   "execution_count": null,
   "id": "f2ccd6a1-ea26-4bf7-a323-8937120d69c0",
   "metadata": {},
   "outputs": [],
   "source": [
    "years_since_built_scaled"
   ]
  },
  {
   "cell_type": "markdown",
   "id": "5c04bb01-a2df-480f-98f1-7f39f39e156a",
   "metadata": {},
   "source": [
    "#### Edad de la casa"
   ]
  },
  {
   "cell_type": "code",
   "execution_count": 76,
   "id": "9904ad9c-3dfb-41de-bd56-8d8e7f4e7e1e",
   "metadata": {},
   "outputs": [],
   "source": [
    "slope_3, intercept_3, r_value_3, p_value_3, std_err_3 = linregress(x = houses_final.years_since_built_scaled, y = houses_final.SalePriceLog)"
   ]
  },
  {
   "cell_type": "code",
   "execution_count": 78,
   "id": "02b80c9b-c067-4af3-ba87-f716d432d381",
   "metadata": {},
   "outputs": [
    {
     "data": {
      "image/png": "[encoded data removed]",
      "text/plain": [
       "<Figure size 432x288 with 1 Axes>"
      ]
     },
     "metadata": {
      "needs_background": "light"
     },
     "output_type": "display_data"
    }
   ],
   "source": [
    "plt.scatter(x = houses_final.years_since_built_scaled, y = houses_final.SalePriceLog)\n",
    "\n",
    "x = [houses_final.years_since_built_scaled.min(), houses_final.years_since_built_scaled.max()]\n",
    "y = [houses_final.years_since_built_scaled.min() * slope_3 + intercept_3, houses_final.years_since_built_scaled.max() * slope_3 + intercept_3]\n",
    "plt.plot(x,y, color='r')\n",
    "plt.xlabel('years_since_built_scaled')\n",
    "plt.ylabel('SalePriceLog');"
   ]
  },
  {
   "cell_type": "markdown",
   "id": "8d8c03a8-b245-4e51-b93e-2efde5ca43e3",
   "metadata": {},
   "source": [
    "# Conclusión: Dado que el objetivo del proyecto es \"... to identify the most important features of houses that affect the sale prices.\" La respuesta es el área total en pies cuadrados de las recámaras de la casa\n",
    "\n"
   ]
  }
 ],
 "metadata": {
  "kernelspec": {
   "display_name": "Python 3 (ipykernel)",
   "language": "python",
   "name": "python3"
  },
  "language_info": {
   "codemirror_mode": {
    "name": "ipython",
    "version": 3
   },
   "file_extension": ".py",
   "mimetype": "text/x-python",
   "name": "python",
   "nbconvert_exporter": "python",
   "pygments_lexer": "ipython3",
   "version": "3.9.7"
  }
 },
 "nbformat": 4,
 "nbformat_minor": 5
}
