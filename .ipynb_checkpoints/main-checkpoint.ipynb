{
 "cells": [
  {
   "cell_type": "markdown",
   "metadata": {},
   "source": [
    "# Recomendador de libros en Goodreads\n",
    "\n",
    "En este proyecto elaboré un recomendador de libros. El recomendador utiliza la información del perfil de un usuario, así como de sus amigos y personas a las que sigue, para sugerirle al usuario cuál es próximo libro que debe leer. Para recopilar la información que alimenta al recomendador, utilicé la API de Goodreads. \n",
    "\n",
    "#### Algunos aspectos que me gustaría incluir después:\n",
    "- Incluir en el análisis los usuarios con forbidden access.\n",
    "- Extraer automáticamente la lista de amigos de un usuario y que se incluyan en el análisis.\n",
    "\n",
    "#### Mejoras pendientes a mi código:\n",
    "- Hay libros cuyo título está en inglés y que otros leyeron en español.\n",
    "- La fórmula para recomendar libros puede que no esté calibrada correctamente. Temo que le esté dando mucho peso a ciertos libros y muy poco peso a libros de las personas con las que tengo correlación negativa. \n",
    "- Quizá mi fórmula de weighted_rating no es del todo correcta.\n"
   ]
  },
  {
   "cell_type": "markdown",
   "metadata": {},
   "source": [
    "## I. Obtener información de varios usuarios"
   ]
  },
  {
   "cell_type": "markdown",
   "metadata": {},
   "source": [
    "### 1.1 Función para extraer información de un usuario"
   ]
  },
  {
   "cell_type": "markdown",
   "metadata": {},
   "source": [
    "Las siguientes funciones (en particular `extract_info`) permiten extraer toda la información del estante de libros leídos de un usuario. La información se arroja como un diccionario."
   ]
  },
  {
   "cell_type": "code",
   "execution_count": 1,
   "metadata": {},
   "outputs": [],
   "source": [
    "# Importar librerías\n",
    "import requests\n",
    "from bs4 import BeautifulSoup\n",
    "import time\n",
    "import pandas as pd\n",
    "import re\n",
    "import numpy as np\n",
    "import scipy.stats as st"
   ]
  },
  {
   "cell_type": "code",
   "execution_count": 2,
   "metadata": {},
   "outputs": [],
   "source": [
    "# Claves para acceder al API\n",
    "CONSUMER_KEY = 'PnnwwD2CW9RtBv6YqsjYw'\n",
    "url = \"https://www.goodreads.com/\""
   ]
  },
  {
   "cell_type": "code",
   "execution_count": 3,
   "metadata": {},
   "outputs": [],
   "source": [
    "def shelf_info(user_id, shelf, page):\n",
    "  \n",
    "    \"\"\"Arroja un BeautifulSoup object de una página del librero de un usuario\"\"\"\n",
    "    \n",
    "    time.sleep(1.1) # Para cumplir con los términos y condiciones de Goodreads\n",
    "    info = requests.get(f'{url}/review/list?v=2&id={user_id}&shelf={shelf}&sort=title&page={page}&per_page=200&key={CONSUMER_KEY}')\n",
    "    print('Status code: ', info.status_code)\n",
    "    info_content = info.content\n",
    "    soup = BeautifulSoup(info_content, 'lxml')\n",
    "    return soup\n",
    "\n",
    "def paginas_por_estante(libros_en_estante):\n",
    "    \n",
    "    \"\"\"Nos dice cuántas páginas se requieren para mostrar todos los libros del estante\"\"\"\n",
    "    \n",
    "    if libros_en_estante <= 200:\n",
    "        return 1\n",
    "    \n",
    "    elif libros_en_estante <= 400:\n",
    "        return 2\n",
    "    \n",
    "    elif libros_en_estante <= 600:\n",
    "        return 3\n",
    "    \n",
    "    elif libros_en_estante <= 800:\n",
    "        return 4\n",
    "    \n",
    "    elif libros_en_estante <= 1000:\n",
    "        return 5\n",
    "    \n",
    "    elif libros_en_estante <= 1200:\n",
    "        return 6\n",
    "\n",
    "    elif libros_en_estante <= 1400:\n",
    "        return 7\n",
    "    \n",
    "    elif libros_en_estante <= 1600:\n",
    "        return 8\n",
    "    \n",
    "    elif libros_en_estante <= 1800:\n",
    "        return 9\n",
    "    \n",
    "    elif libros_en_estante <= 2000:\n",
    "        return 10\n",
    "    \n",
    "def extract_info(user_id, shelf, libros_en_estante):\n",
    "    \n",
    "    \"\"\" Extrae toda la información de un usuario y la arroja en un diccionario\"\"\"\n",
    "    \n",
    "    diccionario = {}\n",
    "    \n",
    "    # Definir variables de mis tags para ir agregando información mientras avanzo por varias páginas.\n",
    "    isbn = []\n",
    "    title = []\n",
    "    num_pages = []\n",
    "    publisher = []\n",
    "    publication_year = []\n",
    "    name = []\n",
    "    rating = []\n",
    "    average_rating = []\n",
    "    ratings_count = []\n",
    "    links = []\n",
    "    \n",
    "    #Determinar cuántas páginas consideraremos dentro del estante.\n",
    "    paginas_to_scrap = paginas_por_estante(libros_en_estante)\n",
    "    \n",
    "    # Extraer información de cada una de las páginas\n",
    "    for x in range(1, paginas_to_scrap+1):\n",
    "        \n",
    "        # Obtener código html en formato Soup\n",
    "        page = shelf_info(user_id, shelf=shelf, page=x)\n",
    "        \n",
    "        # Obtener información de tags que no se repiten\n",
    "        \n",
    "        isbn_info = page.find_all(f'isbn')\n",
    "        isbn_info = [elem.get_text() for elem in isbn_info]\n",
    "        isbn.append(isbn_info)\n",
    "        \n",
    "        title_info = page.find_all(f'title')\n",
    "        title_info = [elem.get_text() for elem in title_info]\n",
    "        title.append(title_info)\n",
    "        \n",
    "        publisher_info = page.find_all(f'publisher')\n",
    "        publisher_info = [elem.get_text() for elem in publisher_info]\n",
    "        publisher.append(publisher_info)\n",
    "        \n",
    "        num_pages_info = page.find_all(f'num_pages')\n",
    "        num_pages_info = [elem.get_text() for elem in num_pages_info]\n",
    "        num_pages.append(num_pages_info)\n",
    "        \n",
    "        publication_year_info = page.find_all(f'publication_year')\n",
    "        publication_year_info = [elem.get_text() for elem in publication_year_info]\n",
    "        publication_year.append(publication_year_info)\n",
    "        \n",
    "        name_info = page.find_all(f'name')\n",
    "        name_info = [elem.get_text() for elem in name_info]\n",
    "        name.append(name_info)\n",
    "        \n",
    "        rating_info = page.find_all(f'rating')\n",
    "        rating_info = [elem.get_text() for elem in rating_info]\n",
    "        rating.append(rating_info)\n",
    "        \n",
    "        # Obtener información de tags que se repiten\n",
    "        review_blocks = page.find_all('review')\n",
    "        link_pattern = re.compile(r'www.goodreads.com.*')\n",
    "        \n",
    "        for review in review_blocks: \n",
    "            average_rating_info = review.find(f'average_rating').get_text()\n",
    "            average_rating.append(average_rating_info)\n",
    "\n",
    "            ratings_count_info = review.find(f'ratings_count').get_text()\n",
    "            ratings_count.append(ratings_count_info)\n",
    "            \n",
    "            # Obtener links        \n",
    "            if link_pattern.search(review.get_text()):\n",
    "                link = re.findall(link_pattern, review.get_text()) \n",
    "                links.append(link)\n",
    "    \n",
    "            else: \n",
    "                print('Missing: ', review.title)\n",
    "    \n",
    "    # Aplanar variables con listas dentro de una lista\n",
    "    isbn = [elem for listt in isbn for elem in listt]\n",
    "    title = [elem for listt in title for elem in listt]\n",
    "    num_pages = [elem for listt in num_pages for elem in listt]\n",
    "    publisher = [elem for listt in publisher for elem in listt]\n",
    "    publication_year = [elem for listt in publication_year for elem in listt]\n",
    "    name = [elem for listt in name for elem in listt]\n",
    "    rating = [elem for listt in rating for elem in listt]\n",
    "    links = [elem[0] for elem in links]\n",
    "    \n",
    "    # Pasar todo a un diccionario\n",
    "    diccionario[f'user_id'] = [user_id for x in range(0, len(isbn))]\n",
    "    diccionario[f'shelf'] = [shelf for x in range(0, len(isbn))]\n",
    "    \n",
    "    diccionario[f'isbn'] = isbn\n",
    "    diccionario[f'title'] = title\n",
    "    diccionario[f'author'] = name\n",
    "    diccionario[f'num_pages'] = num_pages\n",
    "    diccionario[f'publication_year'] = publication_year\n",
    "    diccionario[f'publisher'] = publisher\n",
    "    diccionario[f'my_rating'] = rating\n",
    "    \n",
    "    diccionario[f'average_rating'] = average_rating\n",
    "    diccionario[f'ratings_count'] = ratings_count\n",
    "    diccionario[f'links'] = links\n",
    "        \n",
    "    return diccionario\n"
   ]
  },
  {
   "cell_type": "markdown",
   "metadata": {},
   "source": [
    "### 1.2 Extraer información del usuario y sus contactos"
   ]
  },
  {
   "cell_type": "markdown",
   "metadata": {},
   "source": [
    "A continuación, se extraerá la información del usuario 'Francisco Galán', así como la de diez de sus contactos."
   ]
  },
  {
   "cell_type": "code",
   "execution_count": 4,
   "metadata": {},
   "outputs": [
    {
     "name": "stdout",
     "output_type": "stream",
     "text": [
      "Status code:  200\n",
      "Status code:  200\n"
     ]
    }
   ],
   "source": [
    "# Información del usuario principal\n",
    "francisco_galan = extract_info('40732498', 'read', 276)"
   ]
  },
  {
   "cell_type": "code",
   "execution_count": 5,
   "metadata": {
    "scrolled": true
   },
   "outputs": [
    {
     "name": "stdout",
     "output_type": "stream",
     "text": [
      "Status code:  200\n",
      "Status code:  200\n",
      "Status code:  200\n",
      "Status code:  200\n",
      "Status code:  200\n",
      "Status code:  200\n",
      "Status code:  200\n",
      "Status code:  200\n",
      "Status code:  200\n"
     ]
    }
   ],
   "source": [
    "# Información de siete amigos\n",
    "nicolas_papa = extract_info('85738242', 'read', 87)\n",
    "fernando_lamoyi = extract_info('22410395', 'read', 104)\n",
    "cova_sv = extract_info('72222895', 'read', 52)\n",
    "mario_carballo = extract_info('18141767', 'read', 142)  \n",
    "andrea_raisman = extract_info('63716476', 'read', 416)\n",
    "vanessa_romero = extract_info('16421531', 'read', 96)  \n",
    "maria_lama = extract_info('68889321', 'read', 137)"
   ]
  },
  {
   "cell_type": "code",
   "execution_count": 6,
   "metadata": {},
   "outputs": [
    {
     "name": "stdout",
     "output_type": "stream",
     "text": [
      "Status code:  200\n",
      "Status code:  200\n",
      "Status code:  200\n",
      "Status code:  200\n"
     ]
    }
   ],
   "source": [
    "# Información de tres personas a las que sigue\n",
    "eduardo_rosas = extract_info('51214176', 'read', 158)  \n",
    "stefan_schubert = extract_info('27953287', 'read', 142)\n",
    "bill_gates = extract_info('23470', 'read', 228)"
   ]
  },
  {
   "cell_type": "code",
   "execution_count": 7,
   "metadata": {},
   "outputs": [],
   "source": [
    "# Usuarios con forbidden access (para una versión posterior).\n",
    "# srdjan_miletic = extract_info('11055732', 'read', 350)  \n",
    "# pablo_staforini = extract_info('3093249', 'read', 1846)\n",
    "# alvaro_migoya = extract_info('57665930', 'read', 63)  "
   ]
  },
  {
   "cell_type": "markdown",
   "metadata": {},
   "source": [
    "Transformemos ahora la información a bases de datos en pandas:"
   ]
  },
  {
   "cell_type": "code",
   "execution_count": 8,
   "metadata": {},
   "outputs": [],
   "source": [
    "data_francisco = pd.DataFrame(francisco_galan)\n",
    "data_nicolas = pd.DataFrame(nicolas_papa)\n",
    "data_fernando = pd.DataFrame(fernando_lamoyi)\n",
    "data_cova_sv = pd.DataFrame(cova_sv)\n",
    "data_mario = pd.DataFrame(mario_carballo)\n",
    "data_andrea = pd.DataFrame(andrea_raisman)\n",
    "data_vanessa = pd.DataFrame(vanessa_romero)\n",
    "data_maria = pd.DataFrame(maria_lama)\n",
    "data_eduardo = pd.DataFrame(eduardo_rosas)\n",
    "data_stefan = pd.DataFrame(stefan_schubert)\n",
    "data_bill = pd.DataFrame(bill_gates)"
   ]
  },
  {
   "cell_type": "markdown",
   "metadata": {},
   "source": [
    "Ejemplo:"
   ]
  },
  {
   "cell_type": "code",
   "execution_count": 9,
   "metadata": {},
   "outputs": [
    {
     "data": {
      "text/html": [
       "<div>\n",
       "<style scoped>\n",
       "    .dataframe tbody tr th:only-of-type {\n",
       "        vertical-align: middle;\n",
       "    }\n",
       "\n",
       "    .dataframe tbody tr th {\n",
       "        vertical-align: top;\n",
       "    }\n",
       "\n",
       "    .dataframe thead th {\n",
       "        text-align: right;\n",
       "    }\n",
       "</style>\n",
       "<table border=\"1\" class=\"dataframe\">\n",
       "  <thead>\n",
       "    <tr style=\"text-align: right;\">\n",
       "      <th></th>\n",
       "      <th>user_id</th>\n",
       "      <th>shelf</th>\n",
       "      <th>isbn</th>\n",
       "      <th>title</th>\n",
       "      <th>author</th>\n",
       "      <th>num_pages</th>\n",
       "      <th>publication_year</th>\n",
       "      <th>publisher</th>\n",
       "      <th>my_rating</th>\n",
       "      <th>average_rating</th>\n",
       "      <th>ratings_count</th>\n",
       "      <th>links</th>\n",
       "    </tr>\n",
       "  </thead>\n",
       "  <tbody>\n",
       "    <tr>\n",
       "      <th>0</th>\n",
       "      <td>40732498</td>\n",
       "      <td>read</td>\n",
       "      <td></td>\n",
       "      <td>1984</td>\n",
       "      <td>George Orwell</td>\n",
       "      <td>328</td>\n",
       "      <td>1950</td>\n",
       "      <td>New American Library</td>\n",
       "      <td>4</td>\n",
       "      <td>4.19</td>\n",
       "      <td>3278939</td>\n",
       "      <td>www.goodreads.com/book/show/5470.1984</td>\n",
       "    </tr>\n",
       "    <tr>\n",
       "      <th>1</th>\n",
       "      <td>40732498</td>\n",
       "      <td>read</td>\n",
       "      <td>0451457994</td>\n",
       "      <td>2001: A Space Odyssey (Space Odyssey, #1)</td>\n",
       "      <td>Arthur C. Clarke</td>\n",
       "      <td>297</td>\n",
       "      <td>2000</td>\n",
       "      <td>Roc</td>\n",
       "      <td>3</td>\n",
       "      <td>4.15</td>\n",
       "      <td>266673</td>\n",
       "      <td>www.goodreads.com/book/show/70535.2001</td>\n",
       "    </tr>\n",
       "    <tr>\n",
       "      <th>2</th>\n",
       "      <td>40732498</td>\n",
       "      <td>read</td>\n",
       "      <td>0307465357</td>\n",
       "      <td>The 4-Hour Workweek: Escape 9-5, Live Anywhere...</td>\n",
       "      <td>Timothy Ferriss</td>\n",
       "      <td>396</td>\n",
       "      <td>2009</td>\n",
       "      <td>Harmony</td>\n",
       "      <td>3</td>\n",
       "      <td>3.90</td>\n",
       "      <td>198044</td>\n",
       "      <td>www.goodreads.com/book/show/6444424-the-4-hour...</td>\n",
       "    </tr>\n",
       "  </tbody>\n",
       "</table>\n",
       "</div>"
      ],
      "text/plain": [
       "    user_id shelf        isbn  \\\n",
       "0  40732498  read               \n",
       "1  40732498  read  0451457994   \n",
       "2  40732498  read  0307465357   \n",
       "\n",
       "                                               title            author  \\\n",
       "0                                               1984     George Orwell   \n",
       "1          2001: A Space Odyssey (Space Odyssey, #1)  Arthur C. Clarke   \n",
       "2  The 4-Hour Workweek: Escape 9-5, Live Anywhere...   Timothy Ferriss   \n",
       "\n",
       "  num_pages publication_year             publisher my_rating average_rating  \\\n",
       "0       328             1950  New American Library         4           4.19   \n",
       "1       297             2000                   Roc         3           4.15   \n",
       "2       396             2009               Harmony         3           3.90   \n",
       "\n",
       "  ratings_count                                              links  \n",
       "0       3278939              www.goodreads.com/book/show/5470.1984  \n",
       "1        266673             www.goodreads.com/book/show/70535.2001  \n",
       "2        198044  www.goodreads.com/book/show/6444424-the-4-hour...  "
      ]
     },
     "execution_count": 9,
     "metadata": {},
     "output_type": "execute_result"
    }
   ],
   "source": [
    "data_francisco.head(3)"
   ]
  },
  {
   "cell_type": "markdown",
   "metadata": {},
   "source": [
    "## II. Unir múltiples bases de datos en una sola"
   ]
  },
  {
   "cell_type": "markdown",
   "metadata": {},
   "source": [
    "### 2.1 Crear columna con el score de cada persona"
   ]
  },
  {
   "cell_type": "markdown",
   "metadata": {},
   "source": [
    "Al momento de unir las bases de datos, la columna `my_rating` se va a repetir en todas las bases de datos. Por ello, conviene cambiarle el nombre según el usuario."
   ]
  },
  {
   "cell_type": "code",
   "execution_count": 10,
   "metadata": {},
   "outputs": [],
   "source": [
    "# Crear listas con nombres de contactos, datasets y nombres de las columnas.\n",
    "contactos = ['francisco', 'nicolas', 'fernando', 'cova', 'mario', 'andrea', 'vanessa', 'maria', 'eduardo', 'stefan', 'bill']\n",
    "data_contactos = [data_francisco, data_nicolas, data_fernando, data_cova_sv, data_mario, data_andrea, data_vanessa, data_maria, data_eduardo, data_stefan ,data_bill]\n",
    "columnas_rating = [x + '_rating' for x in contactos]"
   ]
  },
  {
   "cell_type": "code",
   "execution_count": 11,
   "metadata": {},
   "outputs": [],
   "source": [
    "# Modificar el nombre de las columnas en los datasets respectivos.\n",
    "n = -1\n",
    "for contacto in data_contactos:\n",
    "    n += 1\n",
    "    new_name = columnas_rating[n]\n",
    "    contacto.rename(columns={'my_rating': new_name}, inplace=True)"
   ]
  },
  {
   "cell_type": "code",
   "execution_count": 12,
   "metadata": {
    "scrolled": true
   },
   "outputs": [
    {
     "name": "stdout",
     "output_type": "stream",
     "text": [
      "Index(['user_id', 'shelf', 'isbn', 'title', 'author', 'num_pages',\n",
      "       'publication_year', 'publisher', 'vanessa_rating', 'average_rating',\n",
      "       'ratings_count', 'links'],\n",
      "      dtype='object')\n"
     ]
    }
   ],
   "source": [
    "# Checar que funcionó\n",
    "print(data_vanessa.columns)"
   ]
  },
  {
   "cell_type": "markdown",
   "metadata": {},
   "source": [
    "En este caso, la nueva columna es `vanessa_rating`, por lo que el cambio fue exitoso."
   ]
  },
  {
   "cell_type": "markdown",
   "metadata": {},
   "source": [
    "### 2.2 Quitar columnas irrelevantes"
   ]
  },
  {
   "cell_type": "code",
   "execution_count": 13,
   "metadata": {},
   "outputs": [],
   "source": [
    "# Enlistar las columnas que no me interesan.\n",
    "columnas_irrelevantes = ['isbn', 'user_id', 'shelf', 'publisher', 'links', 'num_pages', 'publication_year', 'ratings_count']"
   ]
  },
  {
   "cell_type": "code",
   "execution_count": 14,
   "metadata": {},
   "outputs": [],
   "source": [
    "# Quitar columnas irrelevantes en los datasets respectivos.\n",
    "for contacto in data_contactos:\n",
    "    for columna in columnas_irrelevantes:\n",
    "        del contacto[columna]"
   ]
  },
  {
   "cell_type": "markdown",
   "metadata": {},
   "source": [
    "Ejemplo: "
   ]
  },
  {
   "cell_type": "code",
   "execution_count": 15,
   "metadata": {},
   "outputs": [
    {
     "data": {
      "text/html": [
       "<div>\n",
       "<style scoped>\n",
       "    .dataframe tbody tr th:only-of-type {\n",
       "        vertical-align: middle;\n",
       "    }\n",
       "\n",
       "    .dataframe tbody tr th {\n",
       "        vertical-align: top;\n",
       "    }\n",
       "\n",
       "    .dataframe thead th {\n",
       "        text-align: right;\n",
       "    }\n",
       "</style>\n",
       "<table border=\"1\" class=\"dataframe\">\n",
       "  <thead>\n",
       "    <tr style=\"text-align: right;\">\n",
       "      <th></th>\n",
       "      <th>title</th>\n",
       "      <th>author</th>\n",
       "      <th>vanessa_rating</th>\n",
       "      <th>average_rating</th>\n",
       "    </tr>\n",
       "  </thead>\n",
       "  <tbody>\n",
       "    <tr>\n",
       "      <th>0</th>\n",
       "      <td>La hija única</td>\n",
       "      <td>Guadalupe Nettel</td>\n",
       "      <td>2</td>\n",
       "      <td>4.22</td>\n",
       "    </tr>\n",
       "    <tr>\n",
       "      <th>1</th>\n",
       "      <td>1984</td>\n",
       "      <td>George Orwell</td>\n",
       "      <td>5</td>\n",
       "      <td>4.19</td>\n",
       "    </tr>\n",
       "    <tr>\n",
       "      <th>2</th>\n",
       "      <td>21 Lessons for the 21st Century</td>\n",
       "      <td>Yuval Noah Harari</td>\n",
       "      <td>5</td>\n",
       "      <td>4.16</td>\n",
       "    </tr>\n",
       "  </tbody>\n",
       "</table>\n",
       "</div>"
      ],
      "text/plain": [
       "                             title             author vanessa_rating  \\\n",
       "0                    La hija única   Guadalupe Nettel              2   \n",
       "1                             1984      George Orwell              5   \n",
       "2  21 Lessons for the 21st Century  Yuval Noah Harari              5   \n",
       "\n",
       "  average_rating  \n",
       "0           4.22  \n",
       "1           4.19  \n",
       "2           4.16  "
      ]
     },
     "execution_count": 15,
     "metadata": {},
     "output_type": "execute_result"
    }
   ],
   "source": [
    "data_vanessa.head(3)"
   ]
  },
  {
   "cell_type": "markdown",
   "metadata": {},
   "source": [
    "### 2.3 Unir datasets"
   ]
  },
  {
   "cell_type": "code",
   "execution_count": 16,
   "metadata": {
    "scrolled": true
   },
   "outputs": [],
   "source": [
    "# Combinar todos los datasets en uno solo\n",
    "data_total = data_francisco.copy()\n",
    "\n",
    "for dataset in data_contactos[1:]:\n",
    "    data_total = data_total.merge(dataset, how=\"outer\", on=['title', 'author', 'average_rating'])"
   ]
  },
  {
   "cell_type": "code",
   "execution_count": 17,
   "metadata": {},
   "outputs": [
    {
     "data": {
      "text/html": [
       "<div>\n",
       "<style scoped>\n",
       "    .dataframe tbody tr th:only-of-type {\n",
       "        vertical-align: middle;\n",
       "    }\n",
       "\n",
       "    .dataframe tbody tr th {\n",
       "        vertical-align: top;\n",
       "    }\n",
       "\n",
       "    .dataframe thead th {\n",
       "        text-align: right;\n",
       "    }\n",
       "</style>\n",
       "<table border=\"1\" class=\"dataframe\">\n",
       "  <thead>\n",
       "    <tr style=\"text-align: right;\">\n",
       "      <th></th>\n",
       "      <th>title</th>\n",
       "      <th>author</th>\n",
       "      <th>francisco_rating</th>\n",
       "      <th>average_rating</th>\n",
       "      <th>nicolas_rating</th>\n",
       "      <th>fernando_rating</th>\n",
       "      <th>cova_rating</th>\n",
       "      <th>mario_rating</th>\n",
       "      <th>andrea_rating</th>\n",
       "      <th>vanessa_rating</th>\n",
       "      <th>maria_rating</th>\n",
       "      <th>eduardo_rating</th>\n",
       "      <th>stefan_rating</th>\n",
       "      <th>bill_rating</th>\n",
       "    </tr>\n",
       "  </thead>\n",
       "  <tbody>\n",
       "    <tr>\n",
       "      <th>0</th>\n",
       "      <td>1984</td>\n",
       "      <td>George Orwell</td>\n",
       "      <td>4</td>\n",
       "      <td>4.19</td>\n",
       "      <td>4</td>\n",
       "      <td>4</td>\n",
       "      <td>NaN</td>\n",
       "      <td>4</td>\n",
       "      <td>4</td>\n",
       "      <td>5</td>\n",
       "      <td>4</td>\n",
       "      <td>NaN</td>\n",
       "      <td>NaN</td>\n",
       "      <td>2</td>\n",
       "    </tr>\n",
       "    <tr>\n",
       "      <th>1</th>\n",
       "      <td>2001: A Space Odyssey (Space Odyssey, #1)</td>\n",
       "      <td>Arthur C. Clarke</td>\n",
       "      <td>3</td>\n",
       "      <td>4.15</td>\n",
       "      <td>NaN</td>\n",
       "      <td>NaN</td>\n",
       "      <td>NaN</td>\n",
       "      <td>NaN</td>\n",
       "      <td>NaN</td>\n",
       "      <td>NaN</td>\n",
       "      <td>NaN</td>\n",
       "      <td>NaN</td>\n",
       "      <td>NaN</td>\n",
       "      <td>NaN</td>\n",
       "    </tr>\n",
       "    <tr>\n",
       "      <th>2</th>\n",
       "      <td>The 4-Hour Workweek: Escape 9-5, Live Anywhere...</td>\n",
       "      <td>Timothy Ferriss</td>\n",
       "      <td>3</td>\n",
       "      <td>3.90</td>\n",
       "      <td>NaN</td>\n",
       "      <td>NaN</td>\n",
       "      <td>NaN</td>\n",
       "      <td>NaN</td>\n",
       "      <td>NaN</td>\n",
       "      <td>NaN</td>\n",
       "      <td>NaN</td>\n",
       "      <td>NaN</td>\n",
       "      <td>NaN</td>\n",
       "      <td>NaN</td>\n",
       "    </tr>\n",
       "  </tbody>\n",
       "</table>\n",
       "</div>"
      ],
      "text/plain": [
       "                                               title            author  \\\n",
       "0                                               1984     George Orwell   \n",
       "1          2001: A Space Odyssey (Space Odyssey, #1)  Arthur C. Clarke   \n",
       "2  The 4-Hour Workweek: Escape 9-5, Live Anywhere...   Timothy Ferriss   \n",
       "\n",
       "  francisco_rating average_rating nicolas_rating fernando_rating cova_rating  \\\n",
       "0                4           4.19              4               4         NaN   \n",
       "1                3           4.15            NaN             NaN         NaN   \n",
       "2                3           3.90            NaN             NaN         NaN   \n",
       "\n",
       "  mario_rating andrea_rating vanessa_rating maria_rating eduardo_rating  \\\n",
       "0            4             4              5            4            NaN   \n",
       "1          NaN           NaN            NaN          NaN            NaN   \n",
       "2          NaN           NaN            NaN          NaN            NaN   \n",
       "\n",
       "  stefan_rating bill_rating  \n",
       "0           NaN           2  \n",
       "1           NaN         NaN  \n",
       "2           NaN         NaN  "
      ]
     },
     "execution_count": 17,
     "metadata": {},
     "output_type": "execute_result"
    }
   ],
   "source": [
    "# Checar que se unieron.\n",
    "data_total.head(3)"
   ]
  },
  {
   "cell_type": "markdown",
   "metadata": {},
   "source": [
    "### 2.4 Eliminar duplicados"
   ]
  },
  {
   "cell_type": "markdown",
   "metadata": {},
   "source": [
    "Hay algunos libros que están repetidos porque varía ligeramente el nombre del libro. Ejemplo:"
   ]
  },
  {
   "cell_type": "code",
   "execution_count": 18,
   "metadata": {
    "scrolled": true
   },
   "outputs": [
    {
     "data": {
      "text/html": [
       "<div>\n",
       "<style scoped>\n",
       "    .dataframe tbody tr th:only-of-type {\n",
       "        vertical-align: middle;\n",
       "    }\n",
       "\n",
       "    .dataframe tbody tr th {\n",
       "        vertical-align: top;\n",
       "    }\n",
       "\n",
       "    .dataframe thead th {\n",
       "        text-align: right;\n",
       "    }\n",
       "</style>\n",
       "<table border=\"1\" class=\"dataframe\">\n",
       "  <thead>\n",
       "    <tr style=\"text-align: right;\">\n",
       "      <th></th>\n",
       "      <th>title</th>\n",
       "      <th>author</th>\n",
       "      <th>francisco_rating</th>\n",
       "      <th>average_rating</th>\n",
       "      <th>nicolas_rating</th>\n",
       "      <th>fernando_rating</th>\n",
       "      <th>cova_rating</th>\n",
       "      <th>mario_rating</th>\n",
       "      <th>andrea_rating</th>\n",
       "      <th>vanessa_rating</th>\n",
       "      <th>maria_rating</th>\n",
       "      <th>eduardo_rating</th>\n",
       "      <th>stefan_rating</th>\n",
       "      <th>bill_rating</th>\n",
       "    </tr>\n",
       "  </thead>\n",
       "  <tbody>\n",
       "    <tr>\n",
       "      <th>119</th>\n",
       "      <td>How to Win Friends &amp; Influence People</td>\n",
       "      <td>Dale Carnegie</td>\n",
       "      <td>3</td>\n",
       "      <td>4.21</td>\n",
       "      <td>NaN</td>\n",
       "      <td>NaN</td>\n",
       "      <td>NaN</td>\n",
       "      <td>NaN</td>\n",
       "      <td>NaN</td>\n",
       "      <td>NaN</td>\n",
       "      <td>NaN</td>\n",
       "      <td>NaN</td>\n",
       "      <td>NaN</td>\n",
       "      <td>NaN</td>\n",
       "    </tr>\n",
       "    <tr>\n",
       "      <th>314</th>\n",
       "      <td>How to Win Friends and Influence People</td>\n",
       "      <td>Dale Carnegie</td>\n",
       "      <td>NaN</td>\n",
       "      <td>4.21</td>\n",
       "      <td>4</td>\n",
       "      <td>NaN</td>\n",
       "      <td>NaN</td>\n",
       "      <td>NaN</td>\n",
       "      <td>NaN</td>\n",
       "      <td>NaN</td>\n",
       "      <td>NaN</td>\n",
       "      <td>NaN</td>\n",
       "      <td>3</td>\n",
       "      <td>NaN</td>\n",
       "    </tr>\n",
       "  </tbody>\n",
       "</table>\n",
       "</div>"
      ],
      "text/plain": [
       "                                       title         author francisco_rating  \\\n",
       "119    How to Win Friends & Influence People  Dale Carnegie                3   \n",
       "314  How to Win Friends and Influence People  Dale Carnegie              NaN   \n",
       "\n",
       "    average_rating nicolas_rating fernando_rating cova_rating mario_rating  \\\n",
       "119           4.21            NaN             NaN         NaN          NaN   \n",
       "314           4.21              4             NaN         NaN          NaN   \n",
       "\n",
       "    andrea_rating vanessa_rating maria_rating eduardo_rating stefan_rating  \\\n",
       "119           NaN            NaN          NaN            NaN           NaN   \n",
       "314           NaN            NaN          NaN            NaN             3   \n",
       "\n",
       "    bill_rating  \n",
       "119         NaN  \n",
       "314         NaN  "
      ]
     },
     "execution_count": 18,
     "metadata": {},
     "output_type": "execute_result"
    }
   ],
   "source": [
    "match = \"How to Win\"\n",
    "data_total.loc[data_total['title'].str.match(match), :]"
   ]
  },
  {
   "cell_type": "markdown",
   "metadata": {},
   "source": [
    "A continuación, identificamos los libros duplicados, fusionamos las calificaciones de los usuarios en una misma fila y eliminamos la fila duplicada. "
   ]
  },
  {
   "cell_type": "code",
   "execution_count": 19,
   "metadata": {
    "scrolled": true
   },
   "outputs": [
    {
     "data": {
      "text/plain": [
       "(1595, 14)"
      ]
     },
     "execution_count": 19,
     "metadata": {},
     "output_type": "execute_result"
    }
   ],
   "source": [
    "# Creando un dataset de copia para experimentar con la función de duplicados.\n",
    "data_test = data_total.copy()\n",
    "data_test.shape"
   ]
  },
  {
   "cell_type": "code",
   "execution_count": 20,
   "metadata": {},
   "outputs": [],
   "source": [
    "def clean_title(title):  \n",
    "\n",
    "    \"\"\"Arroja un título limpio para facilitar la comparación\"\"\"\n",
    "    \n",
    "    #Vi que todo lo que viene después de dos puntos o punto puede variar, aun si se trata del mismo libro.\n",
    "    # Por ello, solo seleccionamos lo que viene antes de esos caracteres.\n",
    "    clean = re.split(r':', title)[0]\n",
    "    \n",
    "    # Limpiamos el string restante\n",
    "    clean = title.strip().lower()\n",
    "    clean = clean.replace('&', 'and')\n",
    "    caracteres_especiales = [',', '#', '(', ')']\n",
    "    for caracter in caracteres_especiales:\n",
    "        clean = clean.replace(f'{caracter}', '')\n",
    "    \n",
    "    return clean\n"
   ]
  },
  {
   "cell_type": "code",
   "execution_count": 21,
   "metadata": {
    "scrolled": true
   },
   "outputs": [
    {
     "name": "stdout",
     "output_type": "stream",
     "text": [
      "\n",
      "Book: El Alquimista\n",
      "Match | Row: 8 , Row: 451\n",
      "Usuario: cova_rating | Score: 0\n",
      "\n",
      "Book: Cuentos\n",
      "Match | Row: 45 , Row: 668\n",
      "Usuario: andrea_rating | Score: 3\n",
      "\n",
      "Book: How to Win Friends & Influence People\n",
      "Match | Row: 119 , Row: 314\n",
      "Usuario: nicolas_rating | Score: 4\n",
      "Usuario: stefan_rating | Score: 3\n",
      "\n",
      "Book: Nudge: Improving Decisions About Health, Wealth, and Happiness\n",
      "Match | Row: 171 , Row: 172\n",
      "Usuario: fernando_rating | Score: 3\n",
      "Usuario: stefan_rating | Score: 4\n",
      "\n",
      "Book: Viaje Al Centro de La Tierra\n",
      "Match | Row: 255 , Row: 935\n",
      "Usuario: andrea_rating | Score: 4\n",
      "\n",
      "Book: Born a Crime: Stories from a South African Childhood\n",
      "Match | Row: 286 , Row: 371\n",
      "Usuario: fernando_rating | Score: 5\n",
      "\n",
      "Book: The Gene: An Intimate History\n",
      "Match | Row: 391 , Row: 392\n",
      "Usuario: fernando_rating | Score: 5\n",
      "\n",
      "Book: Ready Player One (Ready Player One, #1)\n",
      "Match | Row: 426 , Row: 427\n",
      "Usuario: fernando_rating | Score: 0\n",
      "Usuario: mario_rating | Score: 4\n",
      "\n",
      "Book: Sapiens: A Brief History of Humankind\n",
      "Match | Row: 432 , Row: 433\n",
      "Usuario: fernando_rating | Score: 0\n",
      "Usuario: cova_rating | Score: 5\n",
      "Usuario: maria_rating | Score: 4\n",
      "Usuario: eduardo_rating | Score: 5\n",
      "Usuario: stefan_rating | Score: 2\n",
      "\n",
      "Book: The Great Gatsby\n",
      "Match | Row: 531 , Row: 532\n",
      "Usuario: mario_rating | Score: 3\n",
      "Usuario: andrea_rating | Score: 4\n",
      "\n",
      "Book: The Hobbit, or There and Back Again\n",
      "Match | Row: 535 , Row: 1293\n",
      "Usuario: stefan_rating | Score: 5\n",
      "\n",
      "Book: My Year of Rest and Relaxation\n",
      "Match | Row: 813 , Row: 814\n",
      "Usuario: andrea_rating | Score: 4\n",
      "\n",
      "Book: The Bourgeois Virtues: Ethics for an Age of Commerce\n",
      "Match | Row: 1036 , Row: 1037\n",
      "Usuario: maria_rating | Score: 5\n",
      "Usuario: stefan_rating | Score: 2\n",
      "\n",
      "Book: The Alchemist\n",
      "Match | Row: 1131 , Row: 1372\n",
      "Usuario: bill_rating | Score: 1\n",
      "\n",
      "Book: انجمن شاعران مرده\n",
      "Match | Row: 1368 , Row: 1369\n",
      "Usuario: bill_rating | Score: 4\n"
     ]
    }
   ],
   "source": [
    "# Seleccionar una fila\n",
    "row_num = 0\n",
    "for i in range(len(data_test)):\n",
    "    row_num += 1 \n",
    "        \n",
    "    # Seleccionar la fila contra la que se va a comparar. \n",
    "    for x in range(row_num, len(data_test)):\n",
    "            \n",
    "        # Verificar que la fila seleccionada y la otra sí existen, pues pudieron haber sido eliminadas.\n",
    "        if (i in data_test.index) & (x in data_test.index):\n",
    "                \n",
    "            # Verificar si hay un match\n",
    "            original = data_test.loc[i, 'title']\n",
    "            otro_libro = data_test.loc[x, 'title']\n",
    "                \n",
    "            #Limpiar el título de los libros para la comparación. \n",
    "            original_clean = clean_title(original)\n",
    "            otro_libro_clean = clean_title(otro_libro)\n",
    "                \n",
    "            if original_clean == otro_libro_clean:\n",
    "                print(f'\\nBook: {original}')\n",
    "                print(f'Match | Row: {i} , Row: {x}')\n",
    "                \n",
    "                # Tomar todos los ratings de otros usuarios que haya en la fila duplicada e incorporarlos a la fila original\n",
    "                for usuario in columnas_rating[1:]:\n",
    "                    if pd.notnull(data_test.loc[x, usuario]):\n",
    "                        data_test.loc[i, usuario] = data_test.loc[x, usuario]\n",
    "                        print(f'Usuario: {usuario} | Score: {data_test.loc[x, usuario]}')\n",
    "                        \n",
    "                #Eliminar la columna duplicada\n",
    "                data_test.drop(x, axis=0, inplace=True)"
   ]
  },
  {
   "cell_type": "markdown",
   "metadata": {},
   "source": [
    "Checando que sí funcionó:"
   ]
  },
  {
   "cell_type": "code",
   "execution_count": 22,
   "metadata": {},
   "outputs": [
    {
     "data": {
      "text/html": [
       "<div>\n",
       "<style scoped>\n",
       "    .dataframe tbody tr th:only-of-type {\n",
       "        vertical-align: middle;\n",
       "    }\n",
       "\n",
       "    .dataframe tbody tr th {\n",
       "        vertical-align: top;\n",
       "    }\n",
       "\n",
       "    .dataframe thead th {\n",
       "        text-align: right;\n",
       "    }\n",
       "</style>\n",
       "<table border=\"1\" class=\"dataframe\">\n",
       "  <thead>\n",
       "    <tr style=\"text-align: right;\">\n",
       "      <th></th>\n",
       "      <th>title</th>\n",
       "      <th>author</th>\n",
       "      <th>francisco_rating</th>\n",
       "      <th>average_rating</th>\n",
       "      <th>nicolas_rating</th>\n",
       "      <th>fernando_rating</th>\n",
       "      <th>cova_rating</th>\n",
       "      <th>mario_rating</th>\n",
       "      <th>andrea_rating</th>\n",
       "      <th>vanessa_rating</th>\n",
       "      <th>maria_rating</th>\n",
       "      <th>eduardo_rating</th>\n",
       "      <th>stefan_rating</th>\n",
       "      <th>bill_rating</th>\n",
       "    </tr>\n",
       "  </thead>\n",
       "  <tbody>\n",
       "    <tr>\n",
       "      <th>119</th>\n",
       "      <td>How to Win Friends &amp; Influence People</td>\n",
       "      <td>Dale Carnegie</td>\n",
       "      <td>3</td>\n",
       "      <td>4.21</td>\n",
       "      <td>4</td>\n",
       "      <td>NaN</td>\n",
       "      <td>NaN</td>\n",
       "      <td>NaN</td>\n",
       "      <td>NaN</td>\n",
       "      <td>NaN</td>\n",
       "      <td>NaN</td>\n",
       "      <td>NaN</td>\n",
       "      <td>3</td>\n",
       "      <td>NaN</td>\n",
       "    </tr>\n",
       "  </tbody>\n",
       "</table>\n",
       "</div>"
      ],
      "text/plain": [
       "                                     title         author francisco_rating  \\\n",
       "119  How to Win Friends & Influence People  Dale Carnegie                3   \n",
       "\n",
       "    average_rating nicolas_rating fernando_rating cova_rating mario_rating  \\\n",
       "119           4.21              4             NaN         NaN          NaN   \n",
       "\n",
       "    andrea_rating vanessa_rating maria_rating eduardo_rating stefan_rating  \\\n",
       "119           NaN            NaN          NaN            NaN             3   \n",
       "\n",
       "    bill_rating  \n",
       "119         NaN  "
      ]
     },
     "execution_count": 22,
     "metadata": {},
     "output_type": "execute_result"
    }
   ],
   "source": [
    "data_test.iloc[[119], :]"
   ]
  },
  {
   "cell_type": "code",
   "execution_count": 23,
   "metadata": {},
   "outputs": [
    {
     "data": {
      "text/plain": [
       "(1580, 14)"
      ]
     },
     "execution_count": 23,
     "metadata": {},
     "output_type": "execute_result"
    }
   ],
   "source": [
    "data_test.shape"
   ]
  },
  {
   "cell_type": "markdown",
   "metadata": {},
   "source": [
    "### 2.5 Reiniciar índices"
   ]
  },
  {
   "cell_type": "code",
   "execution_count": 24,
   "metadata": {},
   "outputs": [],
   "source": [
    "data_test = data_test.reset_index(drop=True)"
   ]
  },
  {
   "cell_type": "markdown",
   "metadata": {},
   "source": [
    "### 2.6 Cambiar tipo de datos"
   ]
  },
  {
   "cell_type": "markdown",
   "metadata": {},
   "source": [
    "Algunas columnas numéricas están como `object`, así que pasémoslas a un formato adecuado:"
   ]
  },
  {
   "cell_type": "code",
   "execution_count": 25,
   "metadata": {},
   "outputs": [
    {
     "name": "stdout",
     "output_type": "stream",
     "text": [
      "<class 'pandas.core.frame.DataFrame'>\n",
      "RangeIndex: 1580 entries, 0 to 1579\n",
      "Data columns (total 14 columns):\n",
      " #   Column            Non-Null Count  Dtype \n",
      "---  ------            --------------  ----- \n",
      " 0   title             1580 non-null   object\n",
      " 1   author            1580 non-null   object\n",
      " 2   francisco_rating  277 non-null    object\n",
      " 3   average_rating    1580 non-null   object\n",
      " 4   nicolas_rating    88 non-null     object\n",
      " 5   fernando_rating   100 non-null    object\n",
      " 6   cova_rating       52 non-null     object\n",
      " 7   mario_rating      141 non-null    object\n",
      " 8   andrea_rating     415 non-null    object\n",
      " 9   vanessa_rating    96 non-null     object\n",
      " 10  maria_rating      136 non-null    object\n",
      " 11  eduardo_rating    158 non-null    object\n",
      " 12  stefan_rating     142 non-null    object\n",
      " 13  bill_rating       249 non-null    object\n",
      "dtypes: object(14)\n",
      "memory usage: 172.9+ KB\n"
     ]
    }
   ],
   "source": [
    "data_test.info()"
   ]
  },
  {
   "cell_type": "code",
   "execution_count": 26,
   "metadata": {},
   "outputs": [],
   "source": [
    "columnas = list(data_test.columns)\n",
    "for columna in columnas[2:]:\n",
    "    data_test[columna] = data_test[columna].astype('float')"
   ]
  },
  {
   "cell_type": "code",
   "execution_count": 27,
   "metadata": {},
   "outputs": [
    {
     "name": "stdout",
     "output_type": "stream",
     "text": [
      "<class 'pandas.core.frame.DataFrame'>\n",
      "RangeIndex: 1580 entries, 0 to 1579\n",
      "Data columns (total 14 columns):\n",
      " #   Column            Non-Null Count  Dtype  \n",
      "---  ------            --------------  -----  \n",
      " 0   title             1580 non-null   object \n",
      " 1   author            1580 non-null   object \n",
      " 2   francisco_rating  277 non-null    float64\n",
      " 3   average_rating    1580 non-null   float64\n",
      " 4   nicolas_rating    88 non-null     float64\n",
      " 5   fernando_rating   100 non-null    float64\n",
      " 6   cova_rating       52 non-null     float64\n",
      " 7   mario_rating      141 non-null    float64\n",
      " 8   andrea_rating     415 non-null    float64\n",
      " 9   vanessa_rating    96 non-null     float64\n",
      " 10  maria_rating      136 non-null    float64\n",
      " 11  eduardo_rating    158 non-null    float64\n",
      " 12  stefan_rating     142 non-null    float64\n",
      " 13  bill_rating       249 non-null    float64\n",
      "dtypes: float64(12), object(2)\n",
      "memory usage: 172.9+ KB\n"
     ]
    }
   ],
   "source": [
    "data_test.info()"
   ]
  },
  {
   "cell_type": "markdown",
   "metadata": {},
   "source": [
    "### 2.7 Obtener dataset adicional con libros no leídos del usuario"
   ]
  },
  {
   "cell_type": "markdown",
   "metadata": {},
   "source": [
    "Usaremos este dataset para uno de los pasos finales en el recomendador de libros. "
   ]
  },
  {
   "cell_type": "code",
   "execution_count": 28,
   "metadata": {},
   "outputs": [
    {
     "data": {
      "text/plain": [
       "(1580, 14)"
      ]
     },
     "execution_count": 28,
     "metadata": {},
     "output_type": "execute_result"
    }
   ],
   "source": [
    "data_por_leer = data_test.copy()\n",
    "data_por_leer.shape"
   ]
  },
  {
   "cell_type": "code",
   "execution_count": 29,
   "metadata": {},
   "outputs": [],
   "source": [
    "for i in range(len(data_por_leer)):\n",
    "        \n",
    "    #Checar si la fila todavía existe\n",
    "    if i in data_test.index:\n",
    "    \n",
    "        # Checar si el usuario ya leyó el libro:\n",
    "        if pd.notnull(data_por_leer.loc[i, 'francisco_rating']):\n",
    "            data_por_leer.drop(i, axis=0, inplace=True)"
   ]
  },
  {
   "cell_type": "code",
   "execution_count": 30,
   "metadata": {},
   "outputs": [],
   "source": [
    "data_por_leer = data_por_leer.reset_index(drop=True)"
   ]
  },
  {
   "cell_type": "code",
   "execution_count": 31,
   "metadata": {},
   "outputs": [
    {
     "data": {
      "text/plain": [
       "(1303, 14)"
      ]
     },
     "execution_count": 31,
     "metadata": {},
     "output_type": "execute_result"
    }
   ],
   "source": [
    "data_por_leer.shape"
   ]
  },
  {
   "cell_type": "code",
   "execution_count": 32,
   "metadata": {},
   "outputs": [
    {
     "data": {
      "text/html": [
       "<div>\n",
       "<style scoped>\n",
       "    .dataframe tbody tr th:only-of-type {\n",
       "        vertical-align: middle;\n",
       "    }\n",
       "\n",
       "    .dataframe tbody tr th {\n",
       "        vertical-align: top;\n",
       "    }\n",
       "\n",
       "    .dataframe thead th {\n",
       "        text-align: right;\n",
       "    }\n",
       "</style>\n",
       "<table border=\"1\" class=\"dataframe\">\n",
       "  <thead>\n",
       "    <tr style=\"text-align: right;\">\n",
       "      <th></th>\n",
       "      <th>title</th>\n",
       "      <th>author</th>\n",
       "      <th>francisco_rating</th>\n",
       "      <th>average_rating</th>\n",
       "      <th>nicolas_rating</th>\n",
       "      <th>fernando_rating</th>\n",
       "      <th>cova_rating</th>\n",
       "      <th>mario_rating</th>\n",
       "      <th>andrea_rating</th>\n",
       "      <th>vanessa_rating</th>\n",
       "      <th>maria_rating</th>\n",
       "      <th>eduardo_rating</th>\n",
       "      <th>stefan_rating</th>\n",
       "      <th>bill_rating</th>\n",
       "    </tr>\n",
       "  </thead>\n",
       "  <tbody>\n",
       "    <tr>\n",
       "      <th>0</th>\n",
       "      <td>21 Lessons for the 21st Century</td>\n",
       "      <td>Yuval Noah Harari</td>\n",
       "      <td>NaN</td>\n",
       "      <td>4.16</td>\n",
       "      <td>3.0</td>\n",
       "      <td>NaN</td>\n",
       "      <td>NaN</td>\n",
       "      <td>NaN</td>\n",
       "      <td>NaN</td>\n",
       "      <td>5.0</td>\n",
       "      <td>2.0</td>\n",
       "      <td>NaN</td>\n",
       "      <td>NaN</td>\n",
       "      <td>NaN</td>\n",
       "    </tr>\n",
       "    <tr>\n",
       "      <th>1</th>\n",
       "      <td>After Europe</td>\n",
       "      <td>Ivan Krastev</td>\n",
       "      <td>NaN</td>\n",
       "      <td>4.13</td>\n",
       "      <td>4.0</td>\n",
       "      <td>NaN</td>\n",
       "      <td>NaN</td>\n",
       "      <td>NaN</td>\n",
       "      <td>NaN</td>\n",
       "      <td>NaN</td>\n",
       "      <td>NaN</td>\n",
       "      <td>NaN</td>\n",
       "      <td>NaN</td>\n",
       "      <td>NaN</td>\n",
       "    </tr>\n",
       "    <tr>\n",
       "      <th>2</th>\n",
       "      <td>Altered Carbon (Takeshi Kovacs, #1)</td>\n",
       "      <td>Richard K. Morgan</td>\n",
       "      <td>NaN</td>\n",
       "      <td>4.05</td>\n",
       "      <td>3.0</td>\n",
       "      <td>NaN</td>\n",
       "      <td>NaN</td>\n",
       "      <td>NaN</td>\n",
       "      <td>NaN</td>\n",
       "      <td>NaN</td>\n",
       "      <td>NaN</td>\n",
       "      <td>NaN</td>\n",
       "      <td>NaN</td>\n",
       "      <td>NaN</td>\n",
       "    </tr>\n",
       "  </tbody>\n",
       "</table>\n",
       "</div>"
      ],
      "text/plain": [
       "                                 title             author  francisco_rating  \\\n",
       "0      21 Lessons for the 21st Century  Yuval Noah Harari               NaN   \n",
       "1                         After Europe       Ivan Krastev               NaN   \n",
       "2  Altered Carbon (Takeshi Kovacs, #1)  Richard K. Morgan               NaN   \n",
       "\n",
       "   average_rating  nicolas_rating  fernando_rating  cova_rating  mario_rating  \\\n",
       "0            4.16             3.0              NaN          NaN           NaN   \n",
       "1            4.13             4.0              NaN          NaN           NaN   \n",
       "2            4.05             3.0              NaN          NaN           NaN   \n",
       "\n",
       "   andrea_rating  vanessa_rating  maria_rating  eduardo_rating  stefan_rating  \\\n",
       "0            NaN             5.0           2.0             NaN            NaN   \n",
       "1            NaN             NaN           NaN             NaN            NaN   \n",
       "2            NaN             NaN           NaN             NaN            NaN   \n",
       "\n",
       "   bill_rating  \n",
       "0          NaN  \n",
       "1          NaN  \n",
       "2          NaN  "
      ]
     },
     "execution_count": 32,
     "metadata": {},
     "output_type": "execute_result"
    }
   ],
   "source": [
    "data_por_leer.head(3)"
   ]
  },
  {
   "cell_type": "markdown",
   "metadata": {},
   "source": [
    "### 2.8 Limpiar valores de cero en las columnas"
   ]
  },
  {
   "cell_type": "markdown",
   "metadata": {},
   "source": [
    "Hay veces en que un usuario lee un libro pero no le pone calificación. En esos casos, Goodreads le asigna un valor de cero al rating. Ejemplo:"
   ]
  },
  {
   "cell_type": "code",
   "execution_count": 33,
   "metadata": {
    "scrolled": true
   },
   "outputs": [
    {
     "data": {
      "text/plain": [
       "3.0    101\n",
       "2.0     67\n",
       "4.0     57\n",
       "5.0     24\n",
       "1.0     20\n",
       "0.0      8\n",
       "Name: francisco_rating, dtype: int64"
      ]
     },
     "execution_count": 33,
     "metadata": {},
     "output_type": "execute_result"
    }
   ],
   "source": [
    "data_test['francisco_rating'].value_counts()"
   ]
  },
  {
   "cell_type": "markdown",
   "metadata": {},
   "source": [
    "Mejor, cambiemos esos valores de cero a NaN para que no alteren otros cálculos:"
   ]
  },
  {
   "cell_type": "code",
   "execution_count": 34,
   "metadata": {},
   "outputs": [],
   "source": [
    "data = data_test.copy()"
   ]
  },
  {
   "cell_type": "code",
   "execution_count": 35,
   "metadata": {},
   "outputs": [],
   "source": [
    "for columna in columnas[2:]:\n",
    "    data[columna] = data[columna].replace(0, np.NaN)\n",
    "    \n",
    "for columna in columnas[2:]:\n",
    "    data_por_leer[columna] = data_por_leer[columna].replace(0, np.NaN)"
   ]
  },
  {
   "cell_type": "code",
   "execution_count": 36,
   "metadata": {},
   "outputs": [
    {
     "data": {
      "text/plain": [
       "3.0    101\n",
       "2.0     67\n",
       "4.0     57\n",
       "5.0     24\n",
       "1.0     20\n",
       "Name: francisco_rating, dtype: int64"
      ]
     },
     "execution_count": 36,
     "metadata": {},
     "output_type": "execute_result"
    }
   ],
   "source": [
    "data['francisco_rating'].value_counts()"
   ]
  },
  {
   "cell_type": "code",
   "execution_count": 37,
   "metadata": {},
   "outputs": [
    {
     "data": {
      "text/plain": [
       "4.0    33\n",
       "3.0    21\n",
       "5.0    20\n",
       "2.0     3\n",
       "Name: fernando_rating, dtype: int64"
      ]
     },
     "execution_count": 37,
     "metadata": {},
     "output_type": "execute_result"
    }
   ],
   "source": [
    "data_por_leer['fernando_rating'].value_counts()"
   ]
  },
  {
   "cell_type": "markdown",
   "metadata": {},
   "source": [
    "## III. Elaborar sistema de recomendaciones"
   ]
  },
  {
   "cell_type": "markdown",
   "metadata": {},
   "source": [
    "### 3.1 Obtener correlación con cada contacto"
   ]
  },
  {
   "cell_type": "code",
   "execution_count": 38,
   "metadata": {
    "scrolled": true
   },
   "outputs": [],
   "source": [
    "data_corr = data.copy()\n",
    "data_corr = data_corr.drop(['author'], axis=1)"
   ]
  },
  {
   "cell_type": "code",
   "execution_count": 39,
   "metadata": {},
   "outputs": [
    {
     "data": {
      "text/html": [
       "<div>\n",
       "<style scoped>\n",
       "    .dataframe tbody tr th:only-of-type {\n",
       "        vertical-align: middle;\n",
       "    }\n",
       "\n",
       "    .dataframe tbody tr th {\n",
       "        vertical-align: top;\n",
       "    }\n",
       "\n",
       "    .dataframe thead th {\n",
       "        text-align: right;\n",
       "    }\n",
       "</style>\n",
       "<table border=\"1\" class=\"dataframe\">\n",
       "  <thead>\n",
       "    <tr style=\"text-align: right;\">\n",
       "      <th></th>\n",
       "      <th>francisco_rating</th>\n",
       "      <th>average_rating</th>\n",
       "      <th>nicolas_rating</th>\n",
       "      <th>fernando_rating</th>\n",
       "      <th>cova_rating</th>\n",
       "      <th>mario_rating</th>\n",
       "      <th>andrea_rating</th>\n",
       "      <th>vanessa_rating</th>\n",
       "      <th>maria_rating</th>\n",
       "      <th>eduardo_rating</th>\n",
       "      <th>stefan_rating</th>\n",
       "      <th>bill_rating</th>\n",
       "    </tr>\n",
       "  </thead>\n",
       "  <tbody>\n",
       "    <tr>\n",
       "      <th>francisco_rating</th>\n",
       "      <td>1.000000</td>\n",
       "      <td>0.275385</td>\n",
       "      <td>0.142857</td>\n",
       "      <td>-0.293640</td>\n",
       "      <td>NaN</td>\n",
       "      <td>NaN</td>\n",
       "      <td>0.316139</td>\n",
       "      <td>1.000000</td>\n",
       "      <td>-0.291748</td>\n",
       "      <td>0.461538</td>\n",
       "      <td>-0.244444</td>\n",
       "      <td>-0.555556</td>\n",
       "    </tr>\n",
       "    <tr>\n",
       "      <th>average_rating</th>\n",
       "      <td>0.275385</td>\n",
       "      <td>1.000000</td>\n",
       "      <td>0.578669</td>\n",
       "      <td>0.267712</td>\n",
       "      <td>0.411053</td>\n",
       "      <td>0.446408</td>\n",
       "      <td>0.345828</td>\n",
       "      <td>0.072917</td>\n",
       "      <td>0.229372</td>\n",
       "      <td>0.313030</td>\n",
       "      <td>0.374527</td>\n",
       "      <td>0.460766</td>\n",
       "    </tr>\n",
       "    <tr>\n",
       "      <th>nicolas_rating</th>\n",
       "      <td>0.142857</td>\n",
       "      <td>0.578669</td>\n",
       "      <td>1.000000</td>\n",
       "      <td>0.333333</td>\n",
       "      <td>NaN</td>\n",
       "      <td>NaN</td>\n",
       "      <td>0.176777</td>\n",
       "      <td>NaN</td>\n",
       "      <td>0.158777</td>\n",
       "      <td>-0.277350</td>\n",
       "      <td>NaN</td>\n",
       "      <td>NaN</td>\n",
       "    </tr>\n",
       "    <tr>\n",
       "      <th>fernando_rating</th>\n",
       "      <td>-0.293640</td>\n",
       "      <td>0.267712</td>\n",
       "      <td>0.333333</td>\n",
       "      <td>1.000000</td>\n",
       "      <td>NaN</td>\n",
       "      <td>0.217407</td>\n",
       "      <td>0.000000</td>\n",
       "      <td>0.327327</td>\n",
       "      <td>-0.733799</td>\n",
       "      <td>0.000000</td>\n",
       "      <td>NaN</td>\n",
       "      <td>-0.101015</td>\n",
       "    </tr>\n",
       "    <tr>\n",
       "      <th>cova_rating</th>\n",
       "      <td>NaN</td>\n",
       "      <td>0.411053</td>\n",
       "      <td>NaN</td>\n",
       "      <td>NaN</td>\n",
       "      <td>1.000000</td>\n",
       "      <td>NaN</td>\n",
       "      <td>NaN</td>\n",
       "      <td>NaN</td>\n",
       "      <td>NaN</td>\n",
       "      <td>NaN</td>\n",
       "      <td>NaN</td>\n",
       "      <td>NaN</td>\n",
       "    </tr>\n",
       "    <tr>\n",
       "      <th>mario_rating</th>\n",
       "      <td>NaN</td>\n",
       "      <td>0.446408</td>\n",
       "      <td>NaN</td>\n",
       "      <td>0.217407</td>\n",
       "      <td>NaN</td>\n",
       "      <td>1.000000</td>\n",
       "      <td>-0.183186</td>\n",
       "      <td>NaN</td>\n",
       "      <td>NaN</td>\n",
       "      <td>-0.405465</td>\n",
       "      <td>NaN</td>\n",
       "      <td>NaN</td>\n",
       "    </tr>\n",
       "    <tr>\n",
       "      <th>andrea_rating</th>\n",
       "      <td>0.316139</td>\n",
       "      <td>0.345828</td>\n",
       "      <td>0.176777</td>\n",
       "      <td>0.000000</td>\n",
       "      <td>NaN</td>\n",
       "      <td>-0.183186</td>\n",
       "      <td>1.000000</td>\n",
       "      <td>-0.456435</td>\n",
       "      <td>-0.106920</td>\n",
       "      <td>NaN</td>\n",
       "      <td>0.316228</td>\n",
       "      <td>0.428174</td>\n",
       "    </tr>\n",
       "    <tr>\n",
       "      <th>vanessa_rating</th>\n",
       "      <td>1.000000</td>\n",
       "      <td>0.072917</td>\n",
       "      <td>NaN</td>\n",
       "      <td>0.327327</td>\n",
       "      <td>NaN</td>\n",
       "      <td>NaN</td>\n",
       "      <td>-0.456435</td>\n",
       "      <td>1.000000</td>\n",
       "      <td>0.522233</td>\n",
       "      <td>NaN</td>\n",
       "      <td>NaN</td>\n",
       "      <td>-0.866025</td>\n",
       "    </tr>\n",
       "    <tr>\n",
       "      <th>maria_rating</th>\n",
       "      <td>-0.291748</td>\n",
       "      <td>0.229372</td>\n",
       "      <td>0.158777</td>\n",
       "      <td>-0.733799</td>\n",
       "      <td>NaN</td>\n",
       "      <td>NaN</td>\n",
       "      <td>-0.106920</td>\n",
       "      <td>0.522233</td>\n",
       "      <td>1.000000</td>\n",
       "      <td>-0.577350</td>\n",
       "      <td>-0.205652</td>\n",
       "      <td>NaN</td>\n",
       "    </tr>\n",
       "    <tr>\n",
       "      <th>eduardo_rating</th>\n",
       "      <td>0.461538</td>\n",
       "      <td>0.313030</td>\n",
       "      <td>-0.277350</td>\n",
       "      <td>0.000000</td>\n",
       "      <td>NaN</td>\n",
       "      <td>-0.405465</td>\n",
       "      <td>NaN</td>\n",
       "      <td>NaN</td>\n",
       "      <td>-0.577350</td>\n",
       "      <td>1.000000</td>\n",
       "      <td>-0.210042</td>\n",
       "      <td>NaN</td>\n",
       "    </tr>\n",
       "    <tr>\n",
       "      <th>stefan_rating</th>\n",
       "      <td>-0.244444</td>\n",
       "      <td>0.374527</td>\n",
       "      <td>NaN</td>\n",
       "      <td>NaN</td>\n",
       "      <td>NaN</td>\n",
       "      <td>NaN</td>\n",
       "      <td>0.316228</td>\n",
       "      <td>NaN</td>\n",
       "      <td>-0.205652</td>\n",
       "      <td>-0.210042</td>\n",
       "      <td>1.000000</td>\n",
       "      <td>NaN</td>\n",
       "    </tr>\n",
       "    <tr>\n",
       "      <th>bill_rating</th>\n",
       "      <td>-0.555556</td>\n",
       "      <td>0.460766</td>\n",
       "      <td>NaN</td>\n",
       "      <td>-0.101015</td>\n",
       "      <td>NaN</td>\n",
       "      <td>NaN</td>\n",
       "      <td>0.428174</td>\n",
       "      <td>-0.866025</td>\n",
       "      <td>NaN</td>\n",
       "      <td>NaN</td>\n",
       "      <td>NaN</td>\n",
       "      <td>1.000000</td>\n",
       "    </tr>\n",
       "  </tbody>\n",
       "</table>\n",
       "</div>"
      ],
      "text/plain": [
       "                  francisco_rating  average_rating  nicolas_rating  \\\n",
       "francisco_rating          1.000000        0.275385        0.142857   \n",
       "average_rating            0.275385        1.000000        0.578669   \n",
       "nicolas_rating            0.142857        0.578669        1.000000   \n",
       "fernando_rating          -0.293640        0.267712        0.333333   \n",
       "cova_rating                    NaN        0.411053             NaN   \n",
       "mario_rating                   NaN        0.446408             NaN   \n",
       "andrea_rating             0.316139        0.345828        0.176777   \n",
       "vanessa_rating            1.000000        0.072917             NaN   \n",
       "maria_rating             -0.291748        0.229372        0.158777   \n",
       "eduardo_rating            0.461538        0.313030       -0.277350   \n",
       "stefan_rating            -0.244444        0.374527             NaN   \n",
       "bill_rating              -0.555556        0.460766             NaN   \n",
       "\n",
       "                  fernando_rating  cova_rating  mario_rating  andrea_rating  \\\n",
       "francisco_rating        -0.293640          NaN           NaN       0.316139   \n",
       "average_rating           0.267712     0.411053      0.446408       0.345828   \n",
       "nicolas_rating           0.333333          NaN           NaN       0.176777   \n",
       "fernando_rating          1.000000          NaN      0.217407       0.000000   \n",
       "cova_rating                   NaN     1.000000           NaN            NaN   \n",
       "mario_rating             0.217407          NaN      1.000000      -0.183186   \n",
       "andrea_rating            0.000000          NaN     -0.183186       1.000000   \n",
       "vanessa_rating           0.327327          NaN           NaN      -0.456435   \n",
       "maria_rating            -0.733799          NaN           NaN      -0.106920   \n",
       "eduardo_rating           0.000000          NaN     -0.405465            NaN   \n",
       "stefan_rating                 NaN          NaN           NaN       0.316228   \n",
       "bill_rating             -0.101015          NaN           NaN       0.428174   \n",
       "\n",
       "                  vanessa_rating  maria_rating  eduardo_rating  stefan_rating  \\\n",
       "francisco_rating        1.000000     -0.291748        0.461538      -0.244444   \n",
       "average_rating          0.072917      0.229372        0.313030       0.374527   \n",
       "nicolas_rating               NaN      0.158777       -0.277350            NaN   \n",
       "fernando_rating         0.327327     -0.733799        0.000000            NaN   \n",
       "cova_rating                  NaN           NaN             NaN            NaN   \n",
       "mario_rating                 NaN           NaN       -0.405465            NaN   \n",
       "andrea_rating          -0.456435     -0.106920             NaN       0.316228   \n",
       "vanessa_rating          1.000000      0.522233             NaN            NaN   \n",
       "maria_rating            0.522233      1.000000       -0.577350      -0.205652   \n",
       "eduardo_rating               NaN     -0.577350        1.000000      -0.210042   \n",
       "stefan_rating                NaN     -0.205652       -0.210042       1.000000   \n",
       "bill_rating            -0.866025           NaN             NaN            NaN   \n",
       "\n",
       "                  bill_rating  \n",
       "francisco_rating    -0.555556  \n",
       "average_rating       0.460766  \n",
       "nicolas_rating            NaN  \n",
       "fernando_rating     -0.101015  \n",
       "cova_rating               NaN  \n",
       "mario_rating              NaN  \n",
       "andrea_rating        0.428174  \n",
       "vanessa_rating      -0.866025  \n",
       "maria_rating              NaN  \n",
       "eduardo_rating            NaN  \n",
       "stefan_rating             NaN  \n",
       "bill_rating          1.000000  "
      ]
     },
     "execution_count": 39,
     "metadata": {},
     "output_type": "execute_result"
    }
   ],
   "source": [
    "corr_matrix = data_corr.corr()\n",
    "corr_matrix"
   ]
  },
  {
   "cell_type": "code",
   "execution_count": 40,
   "metadata": {},
   "outputs": [
    {
     "data": {
      "text/html": [
       "<div>\n",
       "<style scoped>\n",
       "    .dataframe tbody tr th:only-of-type {\n",
       "        vertical-align: middle;\n",
       "    }\n",
       "\n",
       "    .dataframe tbody tr th {\n",
       "        vertical-align: top;\n",
       "    }\n",
       "\n",
       "    .dataframe thead th {\n",
       "        text-align: right;\n",
       "    }\n",
       "</style>\n",
       "<table border=\"1\" class=\"dataframe\">\n",
       "  <thead>\n",
       "    <tr style=\"text-align: right;\">\n",
       "      <th></th>\n",
       "      <th>index</th>\n",
       "      <th>francisco_rating</th>\n",
       "    </tr>\n",
       "  </thead>\n",
       "  <tbody>\n",
       "    <tr>\n",
       "      <th>0</th>\n",
       "      <td>francisco_rating</td>\n",
       "      <td>1.000000</td>\n",
       "    </tr>\n",
       "    <tr>\n",
       "      <th>1</th>\n",
       "      <td>average_rating</td>\n",
       "      <td>0.275385</td>\n",
       "    </tr>\n",
       "    <tr>\n",
       "      <th>2</th>\n",
       "      <td>nicolas_rating</td>\n",
       "      <td>0.142857</td>\n",
       "    </tr>\n",
       "    <tr>\n",
       "      <th>3</th>\n",
       "      <td>fernando_rating</td>\n",
       "      <td>-0.293640</td>\n",
       "    </tr>\n",
       "    <tr>\n",
       "      <th>4</th>\n",
       "      <td>cova_rating</td>\n",
       "      <td>NaN</td>\n",
       "    </tr>\n",
       "    <tr>\n",
       "      <th>5</th>\n",
       "      <td>mario_rating</td>\n",
       "      <td>NaN</td>\n",
       "    </tr>\n",
       "    <tr>\n",
       "      <th>6</th>\n",
       "      <td>andrea_rating</td>\n",
       "      <td>0.316139</td>\n",
       "    </tr>\n",
       "    <tr>\n",
       "      <th>7</th>\n",
       "      <td>vanessa_rating</td>\n",
       "      <td>1.000000</td>\n",
       "    </tr>\n",
       "    <tr>\n",
       "      <th>8</th>\n",
       "      <td>maria_rating</td>\n",
       "      <td>-0.291748</td>\n",
       "    </tr>\n",
       "    <tr>\n",
       "      <th>9</th>\n",
       "      <td>eduardo_rating</td>\n",
       "      <td>0.461538</td>\n",
       "    </tr>\n",
       "    <tr>\n",
       "      <th>10</th>\n",
       "      <td>stefan_rating</td>\n",
       "      <td>-0.244444</td>\n",
       "    </tr>\n",
       "    <tr>\n",
       "      <th>11</th>\n",
       "      <td>bill_rating</td>\n",
       "      <td>-0.555556</td>\n",
       "    </tr>\n",
       "  </tbody>\n",
       "</table>\n",
       "</div>"
      ],
      "text/plain": [
       "               index  francisco_rating\n",
       "0   francisco_rating          1.000000\n",
       "1     average_rating          0.275385\n",
       "2     nicolas_rating          0.142857\n",
       "3    fernando_rating         -0.293640\n",
       "4        cova_rating               NaN\n",
       "5       mario_rating               NaN\n",
       "6      andrea_rating          0.316139\n",
       "7     vanessa_rating          1.000000\n",
       "8       maria_rating         -0.291748\n",
       "9     eduardo_rating          0.461538\n",
       "10     stefan_rating         -0.244444\n",
       "11       bill_rating         -0.555556"
      ]
     },
     "execution_count": 40,
     "metadata": {},
     "output_type": "execute_result"
    }
   ],
   "source": [
    "corr_matrix['francisco_rating'].reset_index(level=0)"
   ]
  },
  {
   "cell_type": "code",
   "execution_count": 41,
   "metadata": {
    "scrolled": false
   },
   "outputs": [
    {
     "data": {
      "text/html": [
       "<div>\n",
       "<style scoped>\n",
       "    .dataframe tbody tr th:only-of-type {\n",
       "        vertical-align: middle;\n",
       "    }\n",
       "\n",
       "    .dataframe tbody tr th {\n",
       "        vertical-align: top;\n",
       "    }\n",
       "\n",
       "    .dataframe thead th {\n",
       "        text-align: right;\n",
       "    }\n",
       "</style>\n",
       "<table border=\"1\" class=\"dataframe\">\n",
       "  <thead>\n",
       "    <tr style=\"text-align: right;\">\n",
       "      <th></th>\n",
       "      <th>usuario</th>\n",
       "      <th>corr</th>\n",
       "    </tr>\n",
       "  </thead>\n",
       "  <tbody>\n",
       "    <tr>\n",
       "      <th>0</th>\n",
       "      <td>average_rating</td>\n",
       "      <td>0.275385</td>\n",
       "    </tr>\n",
       "    <tr>\n",
       "      <th>1</th>\n",
       "      <td>nicolas_rating</td>\n",
       "      <td>0.142857</td>\n",
       "    </tr>\n",
       "    <tr>\n",
       "      <th>2</th>\n",
       "      <td>fernando_rating</td>\n",
       "      <td>-0.293640</td>\n",
       "    </tr>\n",
       "    <tr>\n",
       "      <th>3</th>\n",
       "      <td>cova_rating</td>\n",
       "      <td>NaN</td>\n",
       "    </tr>\n",
       "    <tr>\n",
       "      <th>4</th>\n",
       "      <td>mario_rating</td>\n",
       "      <td>NaN</td>\n",
       "    </tr>\n",
       "    <tr>\n",
       "      <th>5</th>\n",
       "      <td>andrea_rating</td>\n",
       "      <td>0.316139</td>\n",
       "    </tr>\n",
       "    <tr>\n",
       "      <th>6</th>\n",
       "      <td>vanessa_rating</td>\n",
       "      <td>1.000000</td>\n",
       "    </tr>\n",
       "    <tr>\n",
       "      <th>7</th>\n",
       "      <td>maria_rating</td>\n",
       "      <td>-0.291748</td>\n",
       "    </tr>\n",
       "    <tr>\n",
       "      <th>8</th>\n",
       "      <td>eduardo_rating</td>\n",
       "      <td>0.461538</td>\n",
       "    </tr>\n",
       "    <tr>\n",
       "      <th>9</th>\n",
       "      <td>stefan_rating</td>\n",
       "      <td>-0.244444</td>\n",
       "    </tr>\n",
       "    <tr>\n",
       "      <th>10</th>\n",
       "      <td>bill_rating</td>\n",
       "      <td>-0.555556</td>\n",
       "    </tr>\n",
       "  </tbody>\n",
       "</table>\n",
       "</div>"
      ],
      "text/plain": [
       "            usuario      corr\n",
       "0    average_rating  0.275385\n",
       "1    nicolas_rating  0.142857\n",
       "2   fernando_rating -0.293640\n",
       "3       cova_rating       NaN\n",
       "4      mario_rating       NaN\n",
       "5     andrea_rating  0.316139\n",
       "6    vanessa_rating  1.000000\n",
       "7      maria_rating -0.291748\n",
       "8    eduardo_rating  0.461538\n",
       "9     stefan_rating -0.244444\n",
       "10      bill_rating -0.555556"
      ]
     },
     "execution_count": 41,
     "metadata": {},
     "output_type": "execute_result"
    }
   ],
   "source": [
    "# Pasar las correlaciones del usuario 'Francisco Galán' a un solo dataframe\n",
    "correlaciones = corr_matrix['francisco_rating']\n",
    "correlaciones = correlaciones.drop('francisco_rating', axis=0)\n",
    "correlaciones = correlaciones.reset_index(level=0)\n",
    "correlaciones = correlaciones.reset_index(drop=True)\n",
    "correlaciones = correlaciones.rename(columns={'index': 'usuario', 'francisco_rating': 'corr'})\n",
    "correlaciones"
   ]
  },
  {
   "cell_type": "markdown",
   "metadata": {},
   "source": [
    "Los valores `NaN` son probablemente usuario con los que no tengo ningún libro en común. En tal caso, démosle una correlación de cero a esos usuarios:"
   ]
  },
  {
   "cell_type": "code",
   "execution_count": 42,
   "metadata": {},
   "outputs": [
    {
     "data": {
      "text/html": [
       "<div>\n",
       "<style scoped>\n",
       "    .dataframe tbody tr th:only-of-type {\n",
       "        vertical-align: middle;\n",
       "    }\n",
       "\n",
       "    .dataframe tbody tr th {\n",
       "        vertical-align: top;\n",
       "    }\n",
       "\n",
       "    .dataframe thead th {\n",
       "        text-align: right;\n",
       "    }\n",
       "</style>\n",
       "<table border=\"1\" class=\"dataframe\">\n",
       "  <thead>\n",
       "    <tr style=\"text-align: right;\">\n",
       "      <th></th>\n",
       "      <th>usuario</th>\n",
       "      <th>corr</th>\n",
       "    </tr>\n",
       "  </thead>\n",
       "  <tbody>\n",
       "    <tr>\n",
       "      <th>0</th>\n",
       "      <td>average_rating</td>\n",
       "      <td>0.275385</td>\n",
       "    </tr>\n",
       "    <tr>\n",
       "      <th>1</th>\n",
       "      <td>nicolas_rating</td>\n",
       "      <td>0.142857</td>\n",
       "    </tr>\n",
       "    <tr>\n",
       "      <th>2</th>\n",
       "      <td>fernando_rating</td>\n",
       "      <td>-0.293640</td>\n",
       "    </tr>\n",
       "    <tr>\n",
       "      <th>3</th>\n",
       "      <td>cova_rating</td>\n",
       "      <td>0.000000</td>\n",
       "    </tr>\n",
       "    <tr>\n",
       "      <th>4</th>\n",
       "      <td>mario_rating</td>\n",
       "      <td>0.000000</td>\n",
       "    </tr>\n",
       "    <tr>\n",
       "      <th>5</th>\n",
       "      <td>andrea_rating</td>\n",
       "      <td>0.316139</td>\n",
       "    </tr>\n",
       "    <tr>\n",
       "      <th>6</th>\n",
       "      <td>vanessa_rating</td>\n",
       "      <td>1.000000</td>\n",
       "    </tr>\n",
       "    <tr>\n",
       "      <th>7</th>\n",
       "      <td>maria_rating</td>\n",
       "      <td>-0.291748</td>\n",
       "    </tr>\n",
       "    <tr>\n",
       "      <th>8</th>\n",
       "      <td>eduardo_rating</td>\n",
       "      <td>0.461538</td>\n",
       "    </tr>\n",
       "    <tr>\n",
       "      <th>9</th>\n",
       "      <td>stefan_rating</td>\n",
       "      <td>-0.244444</td>\n",
       "    </tr>\n",
       "    <tr>\n",
       "      <th>10</th>\n",
       "      <td>bill_rating</td>\n",
       "      <td>-0.555556</td>\n",
       "    </tr>\n",
       "  </tbody>\n",
       "</table>\n",
       "</div>"
      ],
      "text/plain": [
       "            usuario      corr\n",
       "0    average_rating  0.275385\n",
       "1    nicolas_rating  0.142857\n",
       "2   fernando_rating -0.293640\n",
       "3       cova_rating  0.000000\n",
       "4      mario_rating  0.000000\n",
       "5     andrea_rating  0.316139\n",
       "6    vanessa_rating  1.000000\n",
       "7      maria_rating -0.291748\n",
       "8    eduardo_rating  0.461538\n",
       "9     stefan_rating -0.244444\n",
       "10      bill_rating -0.555556"
      ]
     },
     "execution_count": 42,
     "metadata": {},
     "output_type": "execute_result"
    }
   ],
   "source": [
    "correlaciones = correlaciones.fillna(0)\n",
    "correlaciones"
   ]
  },
  {
   "cell_type": "markdown",
   "metadata": {},
   "source": [
    "### 3.2 Estandarizar ratings"
   ]
  },
  {
   "cell_type": "markdown",
   "metadata": {},
   "source": [
    "Al calificar, cada usuario tiene un estándar de qué es un buen libro y qué es un mal libro, y esta percepción no siempre coincide con una clasificación numérica. Por esa razón, conviene ver qué usuarios tienden a calificar más alto y quiénes, más bajo. "
   ]
  },
  {
   "cell_type": "code",
   "execution_count": 43,
   "metadata": {},
   "outputs": [
    {
     "data": {
      "text/html": [
       "<div>\n",
       "<style scoped>\n",
       "    .dataframe tbody tr th:only-of-type {\n",
       "        vertical-align: middle;\n",
       "    }\n",
       "\n",
       "    .dataframe tbody tr th {\n",
       "        vertical-align: top;\n",
       "    }\n",
       "\n",
       "    .dataframe thead th {\n",
       "        text-align: right;\n",
       "    }\n",
       "</style>\n",
       "<table border=\"1\" class=\"dataframe\">\n",
       "  <thead>\n",
       "    <tr style=\"text-align: right;\">\n",
       "      <th></th>\n",
       "      <th>usuario</th>\n",
       "      <th>mean</th>\n",
       "      <th>std</th>\n",
       "    </tr>\n",
       "  </thead>\n",
       "  <tbody>\n",
       "    <tr>\n",
       "      <th>0</th>\n",
       "      <td>average_rating</td>\n",
       "      <td>3.963980</td>\n",
       "      <td>0.305380</td>\n",
       "    </tr>\n",
       "    <tr>\n",
       "      <th>1</th>\n",
       "      <td>nicolas_rating</td>\n",
       "      <td>3.816092</td>\n",
       "      <td>0.994505</td>\n",
       "    </tr>\n",
       "    <tr>\n",
       "      <th>2</th>\n",
       "      <td>fernando_rating</td>\n",
       "      <td>3.919540</td>\n",
       "      <td>0.865601</td>\n",
       "    </tr>\n",
       "    <tr>\n",
       "      <th>3</th>\n",
       "      <td>cova_rating</td>\n",
       "      <td>4.842105</td>\n",
       "      <td>0.501460</td>\n",
       "    </tr>\n",
       "    <tr>\n",
       "      <th>4</th>\n",
       "      <td>mario_rating</td>\n",
       "      <td>3.965517</td>\n",
       "      <td>0.935940</td>\n",
       "    </tr>\n",
       "    <tr>\n",
       "      <th>5</th>\n",
       "      <td>andrea_rating</td>\n",
       "      <td>3.757282</td>\n",
       "      <td>0.856815</td>\n",
       "    </tr>\n",
       "    <tr>\n",
       "      <th>6</th>\n",
       "      <td>vanessa_rating</td>\n",
       "      <td>3.810811</td>\n",
       "      <td>1.081294</td>\n",
       "    </tr>\n",
       "    <tr>\n",
       "      <th>7</th>\n",
       "      <td>maria_rating</td>\n",
       "      <td>3.343511</td>\n",
       "      <td>0.926291</td>\n",
       "    </tr>\n",
       "    <tr>\n",
       "      <th>8</th>\n",
       "      <td>eduardo_rating</td>\n",
       "      <td>4.114650</td>\n",
       "      <td>1.031356</td>\n",
       "    </tr>\n",
       "    <tr>\n",
       "      <th>9</th>\n",
       "      <td>stefan_rating</td>\n",
       "      <td>3.721429</td>\n",
       "      <td>0.814154</td>\n",
       "    </tr>\n",
       "    <tr>\n",
       "      <th>10</th>\n",
       "      <td>bill_rating</td>\n",
       "      <td>3.538153</td>\n",
       "      <td>0.933014</td>\n",
       "    </tr>\n",
       "  </tbody>\n",
       "</table>\n",
       "</div>"
      ],
      "text/plain": [
       "            usuario      mean       std\n",
       "0    average_rating  3.963980  0.305380\n",
       "1    nicolas_rating  3.816092  0.994505\n",
       "2   fernando_rating  3.919540  0.865601\n",
       "3       cova_rating  4.842105  0.501460\n",
       "4      mario_rating  3.965517  0.935940\n",
       "5     andrea_rating  3.757282  0.856815\n",
       "6    vanessa_rating  3.810811  1.081294\n",
       "7      maria_rating  3.343511  0.926291\n",
       "8    eduardo_rating  4.114650  1.031356\n",
       "9     stefan_rating  3.721429  0.814154\n",
       "10      bill_rating  3.538153  0.933014"
      ]
     },
     "execution_count": 43,
     "metadata": {},
     "output_type": "execute_result"
    }
   ],
   "source": [
    "avg_rating = data_corr.describe().T[['mean', 'std']][1:]\n",
    "avg_rating = avg_rating.reset_index(level=0).rename(columns={'index': 'usuario'})\n",
    "avg_rating"
   ]
  },
  {
   "cell_type": "markdown",
   "metadata": {},
   "source": [
    "Ahora bien, para ajustar cada rating según el promedio de un usuario, podemos suponer que la distribución de sus ratings se distribuye de manera normal. Bajo este supuesto, podemos inferir a cuántas desviaciones estándar se encuentra un rating de la media (z-score). Al hacerlo, es posible estandarizar las distribuciones de calificaciones de todos los usuarios y compararlas entre sí:"
   ]
  },
  {
   "cell_type": "code",
   "execution_count": 44,
   "metadata": {},
   "outputs": [],
   "source": [
    "def weighted_rating(columna_contacto, rating):\n",
    "\n",
    "    \"\"\"Ajusta un determinado rating según el rating promedio del usuario\"\"\"\n",
    "    \n",
    "    #Definir variables\n",
    "    media = float(avg_rating.loc[avg_rating['usuario'] == columna_contacto, 'mean'])\n",
    "    std = float(avg_rating.loc[avg_rating['usuario'] == columna_contacto, 'mean'])\n",
    "    \n",
    "    #Calcular z-score\n",
    "    z_score = (rating - media) / std \n",
    "    \n",
    "    # \n",
    "    weighted_rating = (rating + z_score) / rating\n",
    "    return weighted_rating"
   ]
  },
  {
   "cell_type": "markdown",
   "metadata": {},
   "source": [
    "Ejemplo:"
   ]
  },
  {
   "cell_type": "code",
   "execution_count": 45,
   "metadata": {},
   "outputs": [
    {
     "data": {
      "text/plain": [
       "1.0551319648093842"
      ]
     },
     "execution_count": 45,
     "metadata": {},
     "output_type": "execute_result"
    }
   ],
   "source": [
    "weighted_rating('fernando_rating', 5)"
   ]
  },
  {
   "cell_type": "markdown",
   "metadata": {},
   "source": [
    "### 3.3 Ajustar el rating según las correlaciones"
   ]
  },
  {
   "cell_type": "markdown",
   "metadata": {},
   "source": [
    "Tomemos ahora el puntaje ajustado de cada contacto y calibrémoslo según la correlación que hay con cada respectivo contacto."
   ]
  },
  {
   "cell_type": "code",
   "execution_count": 46,
   "metadata": {},
   "outputs": [],
   "source": [
    "def correlation_weighted(columna_contacto, rating):  \n",
    "    \n",
    "    \"\"\"Ajusta el weighted_rating de un contacto según la correlación que hubo\"\"\"\n",
    "    \n",
    "    #Checar si se pasó un rating nulo\n",
    "    if np.isnan(rating):\n",
    "        return 0\n",
    "    \n",
    "    else: \n",
    "        #Definir variables\n",
    "        w_rating = weighted_rating(columna_contacto, rating)\n",
    "        correlacion = correlaciones.loc[correlaciones['usuario'] == columna_contacto, 'corr']\n",
    "        \n",
    "        # Sacar el weighted_rating ajustado por correlación\n",
    "        correlation_weighted = w_rating * correlacion\n",
    "              \n",
    "        return float(correlation_weighted)"
   ]
  },
  {
   "cell_type": "markdown",
   "metadata": {},
   "source": [
    "Ejemplo:"
   ]
  },
  {
   "cell_type": "code",
   "execution_count": 47,
   "metadata": {},
   "outputs": [
    {
     "data": {
      "text/plain": [
       "0.06947175592482899"
      ]
     },
     "execution_count": 47,
     "metadata": {},
     "output_type": "execute_result"
    }
   ],
   "source": [
    "correlation_weighted('average_rating', 1)"
   ]
  },
  {
   "cell_type": "markdown",
   "metadata": {},
   "source": [
    "### 3.4 Score de recomendación por libro"
   ]
  },
  {
   "cell_type": "markdown",
   "metadata": {},
   "source": [
    "Ahora que ya tenemos todas nuestras funciones de ajuste, calculemos el score de recomendación para un libro:"
   ]
  },
  {
   "cell_type": "code",
   "execution_count": 48,
   "metadata": {},
   "outputs": [],
   "source": [
    "def score_de_recomendacion(fila):\n",
    "    \n",
    "    \"\"\"Arroja el score de recomendación de un libro\"\"\"\n",
    "    \n",
    "    columnas_contactos = list(data_por_leer.columns)[3:]\n",
    "    score = 0\n",
    "    \n",
    "    for contacto in columnas_contactos:\n",
    "        x = data_por_leer.loc[fila, contacto]\n",
    "        x = correlation_weighted(contacto, x)\n",
    "        score += x\n",
    "        \n",
    "    return score"
   ]
  },
  {
   "cell_type": "markdown",
   "metadata": {},
   "source": [
    "Ejemplo:"
   ]
  },
  {
   "cell_type": "code",
   "execution_count": 49,
   "metadata": {
    "scrolled": true
   },
   "outputs": [
    {
     "data": {
      "text/plain": [
       "0.2768601822516058"
      ]
     },
     "execution_count": 49,
     "metadata": {},
     "output_type": "execute_result"
    }
   ],
   "source": [
    "score_de_recomendacion(298)"
   ]
  },
  {
   "cell_type": "markdown",
   "metadata": {},
   "source": [
    "### 3.5 Scores de recomendación de todos los libros"
   ]
  },
  {
   "cell_type": "code",
   "execution_count": 50,
   "metadata": {},
   "outputs": [],
   "source": [
    "columnas_contactos = list(data_por_leer.columns)[3:]\n",
    "data_final = data_por_leer.copy()"
   ]
  },
  {
   "cell_type": "code",
   "execution_count": 51,
   "metadata": {},
   "outputs": [],
   "source": [
    "for i in range(0, len(data_final)):\n",
    "    data_final.loc[i, 'score_de_recomendacion'] = score_de_recomendacion(i)"
   ]
  },
  {
   "cell_type": "code",
   "execution_count": 52,
   "metadata": {},
   "outputs": [
    {
     "data": {
      "text/html": [
       "<div>\n",
       "<style scoped>\n",
       "    .dataframe tbody tr th:only-of-type {\n",
       "        vertical-align: middle;\n",
       "    }\n",
       "\n",
       "    .dataframe tbody tr th {\n",
       "        vertical-align: top;\n",
       "    }\n",
       "\n",
       "    .dataframe thead th {\n",
       "        text-align: right;\n",
       "    }\n",
       "</style>\n",
       "<table border=\"1\" class=\"dataframe\">\n",
       "  <thead>\n",
       "    <tr style=\"text-align: right;\">\n",
       "      <th></th>\n",
       "      <th>title</th>\n",
       "      <th>author</th>\n",
       "      <th>francisco_rating</th>\n",
       "      <th>average_rating</th>\n",
       "      <th>nicolas_rating</th>\n",
       "      <th>fernando_rating</th>\n",
       "      <th>cova_rating</th>\n",
       "      <th>mario_rating</th>\n",
       "      <th>andrea_rating</th>\n",
       "      <th>vanessa_rating</th>\n",
       "      <th>maria_rating</th>\n",
       "      <th>eduardo_rating</th>\n",
       "      <th>stefan_rating</th>\n",
       "      <th>bill_rating</th>\n",
       "      <th>score_de_recomendacion</th>\n",
       "    </tr>\n",
       "  </thead>\n",
       "  <tbody>\n",
       "    <tr>\n",
       "      <th>0</th>\n",
       "      <td>21 Lessons for the 21st Century</td>\n",
       "      <td>Yuval Noah Harari</td>\n",
       "      <td>NaN</td>\n",
       "      <td>4.16</td>\n",
       "      <td>3.0</td>\n",
       "      <td>NaN</td>\n",
       "      <td>NaN</td>\n",
       "      <td>NaN</td>\n",
       "      <td>NaN</td>\n",
       "      <td>5.0</td>\n",
       "      <td>2.0</td>\n",
       "      <td>NaN</td>\n",
       "      <td>NaN</td>\n",
       "      <td>NaN</td>\n",
       "      <td>1.240611</td>\n",
       "    </tr>\n",
       "    <tr>\n",
       "      <th>1</th>\n",
       "      <td>After Europe</td>\n",
       "      <td>Ivan Krastev</td>\n",
       "      <td>NaN</td>\n",
       "      <td>4.13</td>\n",
       "      <td>4.0</td>\n",
       "      <td>NaN</td>\n",
       "      <td>NaN</td>\n",
       "      <td>NaN</td>\n",
       "      <td>NaN</td>\n",
       "      <td>NaN</td>\n",
       "      <td>NaN</td>\n",
       "      <td>NaN</td>\n",
       "      <td>NaN</td>\n",
       "      <td>NaN</td>\n",
       "      <td>0.422756</td>\n",
       "    </tr>\n",
       "    <tr>\n",
       "      <th>2</th>\n",
       "      <td>Altered Carbon (Takeshi Kovacs, #1)</td>\n",
       "      <td>Richard K. Morgan</td>\n",
       "      <td>NaN</td>\n",
       "      <td>4.05</td>\n",
       "      <td>3.0</td>\n",
       "      <td>NaN</td>\n",
       "      <td>NaN</td>\n",
       "      <td>NaN</td>\n",
       "      <td>NaN</td>\n",
       "      <td>NaN</td>\n",
       "      <td>NaN</td>\n",
       "      <td>NaN</td>\n",
       "      <td>NaN</td>\n",
       "      <td>NaN</td>\n",
       "      <td>0.409534</td>\n",
       "    </tr>\n",
       "  </tbody>\n",
       "</table>\n",
       "</div>"
      ],
      "text/plain": [
       "                                 title             author  francisco_rating  \\\n",
       "0      21 Lessons for the 21st Century  Yuval Noah Harari               NaN   \n",
       "1                         After Europe       Ivan Krastev               NaN   \n",
       "2  Altered Carbon (Takeshi Kovacs, #1)  Richard K. Morgan               NaN   \n",
       "\n",
       "   average_rating  nicolas_rating  fernando_rating  cova_rating  mario_rating  \\\n",
       "0            4.16             3.0              NaN          NaN           NaN   \n",
       "1            4.13             4.0              NaN          NaN           NaN   \n",
       "2            4.05             3.0              NaN          NaN           NaN   \n",
       "\n",
       "   andrea_rating  vanessa_rating  maria_rating  eduardo_rating  stefan_rating  \\\n",
       "0            NaN             5.0           2.0             NaN            NaN   \n",
       "1            NaN             NaN           NaN             NaN            NaN   \n",
       "2            NaN             NaN           NaN             NaN            NaN   \n",
       "\n",
       "   bill_rating  score_de_recomendacion  \n",
       "0          NaN                1.240611  \n",
       "1          NaN                0.422756  \n",
       "2          NaN                0.409534  "
      ]
     },
     "execution_count": 52,
     "metadata": {},
     "output_type": "execute_result"
    }
   ],
   "source": [
    "data_final.head(3)"
   ]
  },
  {
   "cell_type": "markdown",
   "metadata": {},
   "source": [
    "## IV. Veredicto final"
   ]
  },
  {
   "cell_type": "code",
   "execution_count": 53,
   "metadata": {},
   "outputs": [
    {
     "data": {
      "text/html": [
       "<div>\n",
       "<style scoped>\n",
       "    .dataframe tbody tr th:only-of-type {\n",
       "        vertical-align: middle;\n",
       "    }\n",
       "\n",
       "    .dataframe tbody tr th {\n",
       "        vertical-align: top;\n",
       "    }\n",
       "\n",
       "    .dataframe thead th {\n",
       "        text-align: right;\n",
       "    }\n",
       "</style>\n",
       "<table border=\"1\" class=\"dataframe\">\n",
       "  <thead>\n",
       "    <tr style=\"text-align: right;\">\n",
       "      <th></th>\n",
       "      <th>title</th>\n",
       "      <th>author</th>\n",
       "      <th>francisco_rating</th>\n",
       "      <th>average_rating</th>\n",
       "      <th>nicolas_rating</th>\n",
       "      <th>fernando_rating</th>\n",
       "      <th>cova_rating</th>\n",
       "      <th>mario_rating</th>\n",
       "      <th>andrea_rating</th>\n",
       "      <th>vanessa_rating</th>\n",
       "      <th>maria_rating</th>\n",
       "      <th>eduardo_rating</th>\n",
       "      <th>stefan_rating</th>\n",
       "      <th>bill_rating</th>\n",
       "      <th>score_de_recomendacion</th>\n",
       "    </tr>\n",
       "  </thead>\n",
       "  <tbody>\n",
       "    <tr>\n",
       "      <th>423</th>\n",
       "      <td>Frankenstein: The 1818 Text</td>\n",
       "      <td>Mary Wollstonecraft Shelley</td>\n",
       "      <td>NaN</td>\n",
       "      <td>3.82</td>\n",
       "      <td>NaN</td>\n",
       "      <td>NaN</td>\n",
       "      <td>NaN</td>\n",
       "      <td>NaN</td>\n",
       "      <td>5.0</td>\n",
       "      <td>5.0</td>\n",
       "      <td>NaN</td>\n",
       "      <td>NaN</td>\n",
       "      <td>NaN</td>\n",
       "      <td>NaN</td>\n",
       "      <td>1.672229</td>\n",
       "    </tr>\n",
       "    <tr>\n",
       "      <th>52</th>\n",
       "      <td>Normal People</td>\n",
       "      <td>Sally Rooney</td>\n",
       "      <td>NaN</td>\n",
       "      <td>3.86</td>\n",
       "      <td>2.0</td>\n",
       "      <td>NaN</td>\n",
       "      <td>NaN</td>\n",
       "      <td>NaN</td>\n",
       "      <td>NaN</td>\n",
       "      <td>5.0</td>\n",
       "      <td>NaN</td>\n",
       "      <td>NaN</td>\n",
       "      <td>NaN</td>\n",
       "      <td>NaN</td>\n",
       "      <td>1.444789</td>\n",
       "    </tr>\n",
       "    <tr>\n",
       "      <th>697</th>\n",
       "      <td>Las mujeres que luchan se encuentran: Manual d...</td>\n",
       "      <td>Catalina Ruiz-Navarro</td>\n",
       "      <td>NaN</td>\n",
       "      <td>4.52</td>\n",
       "      <td>NaN</td>\n",
       "      <td>NaN</td>\n",
       "      <td>NaN</td>\n",
       "      <td>NaN</td>\n",
       "      <td>NaN</td>\n",
       "      <td>5.0</td>\n",
       "      <td>NaN</td>\n",
       "      <td>NaN</td>\n",
       "      <td>NaN</td>\n",
       "      <td>NaN</td>\n",
       "      <td>1.346342</td>\n",
       "    </tr>\n",
       "    <tr>\n",
       "      <th>709</th>\n",
       "      <td>Nuestra parte de noche</td>\n",
       "      <td>Mariana Enríquez</td>\n",
       "      <td>NaN</td>\n",
       "      <td>4.51</td>\n",
       "      <td>NaN</td>\n",
       "      <td>NaN</td>\n",
       "      <td>NaN</td>\n",
       "      <td>NaN</td>\n",
       "      <td>NaN</td>\n",
       "      <td>5.0</td>\n",
       "      <td>NaN</td>\n",
       "      <td>NaN</td>\n",
       "      <td>NaN</td>\n",
       "      <td>NaN</td>\n",
       "      <td>1.346207</td>\n",
       "    </tr>\n",
       "    <tr>\n",
       "      <th>728</th>\n",
       "      <td>Tell Me How It Ends: An Essay in Forty Questions</td>\n",
       "      <td>Valeria Luiselli</td>\n",
       "      <td>NaN</td>\n",
       "      <td>4.43</td>\n",
       "      <td>NaN</td>\n",
       "      <td>NaN</td>\n",
       "      <td>NaN</td>\n",
       "      <td>NaN</td>\n",
       "      <td>NaN</td>\n",
       "      <td>5.0</td>\n",
       "      <td>NaN</td>\n",
       "      <td>NaN</td>\n",
       "      <td>NaN</td>\n",
       "      <td>NaN</td>\n",
       "      <td>1.345104</td>\n",
       "    </tr>\n",
       "  </tbody>\n",
       "</table>\n",
       "</div>"
      ],
      "text/plain": [
       "                                                 title  \\\n",
       "423                        Frankenstein: The 1818 Text   \n",
       "52                                       Normal People   \n",
       "697  Las mujeres que luchan se encuentran: Manual d...   \n",
       "709                             Nuestra parte de noche   \n",
       "728   Tell Me How It Ends: An Essay in Forty Questions   \n",
       "\n",
       "                          author  francisco_rating  average_rating  \\\n",
       "423  Mary Wollstonecraft Shelley               NaN            3.82   \n",
       "52                  Sally Rooney               NaN            3.86   \n",
       "697        Catalina Ruiz-Navarro               NaN            4.52   \n",
       "709             Mariana Enríquez               NaN            4.51   \n",
       "728             Valeria Luiselli               NaN            4.43   \n",
       "\n",
       "     nicolas_rating  fernando_rating  cova_rating  mario_rating  \\\n",
       "423             NaN              NaN          NaN           NaN   \n",
       "52              2.0              NaN          NaN           NaN   \n",
       "697             NaN              NaN          NaN           NaN   \n",
       "709             NaN              NaN          NaN           NaN   \n",
       "728             NaN              NaN          NaN           NaN   \n",
       "\n",
       "     andrea_rating  vanessa_rating  maria_rating  eduardo_rating  \\\n",
       "423            5.0             5.0           NaN             NaN   \n",
       "52             NaN             5.0           NaN             NaN   \n",
       "697            NaN             5.0           NaN             NaN   \n",
       "709            NaN             5.0           NaN             NaN   \n",
       "728            NaN             5.0           NaN             NaN   \n",
       "\n",
       "     stefan_rating  bill_rating  score_de_recomendacion  \n",
       "423            NaN          NaN                1.672229  \n",
       "52             NaN          NaN                1.444789  \n",
       "697            NaN          NaN                1.346342  \n",
       "709            NaN          NaN                1.346207  \n",
       "728            NaN          NaN                1.345104  "
      ]
     },
     "execution_count": 53,
     "metadata": {},
     "output_type": "execute_result"
    }
   ],
   "source": [
    "top_5 = data_final.sort_values(by='score_de_recomendacion', ascending=False).head()\n",
    "top_5"
   ]
  },
  {
   "cell_type": "markdown",
   "metadata": {},
   "source": [
    "En conclusión, según el sistema de recomendación, los cinco libros que debería leer, en ese orden, son estos:"
   ]
  },
  {
   "cell_type": "code",
   "execution_count": 55,
   "metadata": {},
   "outputs": [
    {
     "name": "stdout",
     "output_type": "stream",
     "text": [
      "- 1: Frankenstein: The 1818 Text - Mary Wollstonecraft Shelley\n",
      "- 2: Normal People - Sally Rooney\n",
      "- 3: Las mujeres que luchan se encuentran: Manual de feminismo pop latinoamericano - Catalina Ruiz-Navarro\n",
      "- 4: Nuestra parte de noche - Mariana Enríquez\n",
      "- 5: Tell Me How It Ends: An Essay in Forty Questions - Valeria Luiselli\n"
     ]
    }
   ],
   "source": [
    "for i in range(len(top_5)):\n",
    "    libro = top_5.iloc[i, 0]\n",
    "    autor = top_5.iloc[i, 1]\n",
    "    print(f\"- {i+1}: {libro} - {autor}\")"
   ]
  }
 ],
 "metadata": {
  "kernelspec": {
   "display_name": "Python 3",
   "language": "python",
   "name": "python3"
  },
  "language_info": {
   "codemirror_mode": {
    "name": "ipython",
    "version": 3
   },
   "file_extension": ".py",
   "mimetype": "text/x-python",
   "name": "python",
   "nbconvert_exporter": "python",
   "pygments_lexer": "ipython3",
   "version": "3.7.6"
  }
 },
 "nbformat": 4,
 "nbformat_minor": 4
}
