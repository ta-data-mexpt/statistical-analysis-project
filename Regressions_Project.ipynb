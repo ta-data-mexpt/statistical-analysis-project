{
 "cells": [
  {
   "cell_type": "code",
   "execution_count": 195,
   "id": "cbf78080-8b75-4531-adb6-882d59ee7b4a",
   "metadata": {},
   "outputs": [],
   "source": [
    "import pandas as pd\n",
    "import numpy as np\n",
    "from sklearn import metrics\n",
    "from sklearn.datasets import load_boston\n",
    "from sklearn.model_selection import train_test_split\n",
    "from sklearn.linear_model import LinearRegression\n",
    "from sklearn.linear_model import Ridge, Lasso\n",
    "from sklearn.preprocessing import StandardScaler\n",
    "import matplotlib.pyplot as plt\n",
    "import seaborn as sns\n",
    "import statsmodels.api as sm\n",
    "from sklearn.decomposition import PCA\n",
    "from sklearn.preprocessing import StandardScaler\n",
    "from statsmodels.formula.api import ols"
   ]
  },
  {
   "cell_type": "markdown",
   "id": "9058d2af-9d75-450b-a169-6dfe3a2ce953",
   "metadata": {},
   "source": [
    "\\\n",
    "\\\n",
    "<b> COMO ETAPA INICIAL, ES MOMENTO DE EXPLORAR LOS DATOS Y ENTENDER QUE SIGNIFICA CADA UNO DE LOS CAMPOS \\\n",
    "   \n",
    "  "
   ]
  },
  {
   "cell_type": "code",
   "execution_count": 2,
   "id": "f00b4668-8ce8-4f25-8151-04ab7f7bf869",
   "metadata": {},
   "outputs": [],
   "source": [
    "housing = pd.read_csv('train.csv')"
   ]
  },
  {
   "cell_type": "code",
   "execution_count": 3,
   "id": "2ed546d2-dab3-4776-9991-b90ad90df3ea",
   "metadata": {},
   "outputs": [
    {
     "data": {
      "text/html": [
       "<div>\n",
       "<style scoped>\n",
       "    .dataframe tbody tr th:only-of-type {\n",
       "        vertical-align: middle;\n",
       "    }\n",
       "\n",
       "    .dataframe tbody tr th {\n",
       "        vertical-align: top;\n",
       "    }\n",
       "\n",
       "    .dataframe thead th {\n",
       "        text-align: right;\n",
       "    }\n",
       "</style>\n",
       "<table border=\"1\" class=\"dataframe\">\n",
       "  <thead>\n",
       "    <tr style=\"text-align: right;\">\n",
       "      <th></th>\n",
       "      <th>Id</th>\n",
       "      <th>MSSubClass</th>\n",
       "      <th>MSZoning</th>\n",
       "      <th>LotFrontage</th>\n",
       "      <th>LotArea</th>\n",
       "      <th>Street</th>\n",
       "      <th>Alley</th>\n",
       "      <th>LotShape</th>\n",
       "      <th>LandContour</th>\n",
       "      <th>Utilities</th>\n",
       "      <th>...</th>\n",
       "      <th>PoolArea</th>\n",
       "      <th>PoolQC</th>\n",
       "      <th>Fence</th>\n",
       "      <th>MiscFeature</th>\n",
       "      <th>MiscVal</th>\n",
       "      <th>MoSold</th>\n",
       "      <th>YrSold</th>\n",
       "      <th>SaleType</th>\n",
       "      <th>SaleCondition</th>\n",
       "      <th>SalePrice</th>\n",
       "    </tr>\n",
       "  </thead>\n",
       "  <tbody>\n",
       "    <tr>\n",
       "      <th>0</th>\n",
       "      <td>1</td>\n",
       "      <td>60</td>\n",
       "      <td>RL</td>\n",
       "      <td>65.0</td>\n",
       "      <td>8450</td>\n",
       "      <td>Pave</td>\n",
       "      <td>NaN</td>\n",
       "      <td>Reg</td>\n",
       "      <td>Lvl</td>\n",
       "      <td>AllPub</td>\n",
       "      <td>...</td>\n",
       "      <td>0</td>\n",
       "      <td>NaN</td>\n",
       "      <td>NaN</td>\n",
       "      <td>NaN</td>\n",
       "      <td>0</td>\n",
       "      <td>2</td>\n",
       "      <td>2008</td>\n",
       "      <td>WD</td>\n",
       "      <td>Normal</td>\n",
       "      <td>208500</td>\n",
       "    </tr>\n",
       "    <tr>\n",
       "      <th>1</th>\n",
       "      <td>2</td>\n",
       "      <td>20</td>\n",
       "      <td>RL</td>\n",
       "      <td>80.0</td>\n",
       "      <td>9600</td>\n",
       "      <td>Pave</td>\n",
       "      <td>NaN</td>\n",
       "      <td>Reg</td>\n",
       "      <td>Lvl</td>\n",
       "      <td>AllPub</td>\n",
       "      <td>...</td>\n",
       "      <td>0</td>\n",
       "      <td>NaN</td>\n",
       "      <td>NaN</td>\n",
       "      <td>NaN</td>\n",
       "      <td>0</td>\n",
       "      <td>5</td>\n",
       "      <td>2007</td>\n",
       "      <td>WD</td>\n",
       "      <td>Normal</td>\n",
       "      <td>181500</td>\n",
       "    </tr>\n",
       "    <tr>\n",
       "      <th>2</th>\n",
       "      <td>3</td>\n",
       "      <td>60</td>\n",
       "      <td>RL</td>\n",
       "      <td>68.0</td>\n",
       "      <td>11250</td>\n",
       "      <td>Pave</td>\n",
       "      <td>NaN</td>\n",
       "      <td>IR1</td>\n",
       "      <td>Lvl</td>\n",
       "      <td>AllPub</td>\n",
       "      <td>...</td>\n",
       "      <td>0</td>\n",
       "      <td>NaN</td>\n",
       "      <td>NaN</td>\n",
       "      <td>NaN</td>\n",
       "      <td>0</td>\n",
       "      <td>9</td>\n",
       "      <td>2008</td>\n",
       "      <td>WD</td>\n",
       "      <td>Normal</td>\n",
       "      <td>223500</td>\n",
       "    </tr>\n",
       "    <tr>\n",
       "      <th>3</th>\n",
       "      <td>4</td>\n",
       "      <td>70</td>\n",
       "      <td>RL</td>\n",
       "      <td>60.0</td>\n",
       "      <td>9550</td>\n",
       "      <td>Pave</td>\n",
       "      <td>NaN</td>\n",
       "      <td>IR1</td>\n",
       "      <td>Lvl</td>\n",
       "      <td>AllPub</td>\n",
       "      <td>...</td>\n",
       "      <td>0</td>\n",
       "      <td>NaN</td>\n",
       "      <td>NaN</td>\n",
       "      <td>NaN</td>\n",
       "      <td>0</td>\n",
       "      <td>2</td>\n",
       "      <td>2006</td>\n",
       "      <td>WD</td>\n",
       "      <td>Abnorml</td>\n",
       "      <td>140000</td>\n",
       "    </tr>\n",
       "    <tr>\n",
       "      <th>4</th>\n",
       "      <td>5</td>\n",
       "      <td>60</td>\n",
       "      <td>RL</td>\n",
       "      <td>84.0</td>\n",
       "      <td>14260</td>\n",
       "      <td>Pave</td>\n",
       "      <td>NaN</td>\n",
       "      <td>IR1</td>\n",
       "      <td>Lvl</td>\n",
       "      <td>AllPub</td>\n",
       "      <td>...</td>\n",
       "      <td>0</td>\n",
       "      <td>NaN</td>\n",
       "      <td>NaN</td>\n",
       "      <td>NaN</td>\n",
       "      <td>0</td>\n",
       "      <td>12</td>\n",
       "      <td>2008</td>\n",
       "      <td>WD</td>\n",
       "      <td>Normal</td>\n",
       "      <td>250000</td>\n",
       "    </tr>\n",
       "  </tbody>\n",
       "</table>\n",
       "<p>5 rows × 81 columns</p>\n",
       "</div>"
      ],
      "text/plain": [
       "   Id  MSSubClass MSZoning  LotFrontage  LotArea Street Alley LotShape  \\\n",
       "0   1          60       RL         65.0     8450   Pave   NaN      Reg   \n",
       "1   2          20       RL         80.0     9600   Pave   NaN      Reg   \n",
       "2   3          60       RL         68.0    11250   Pave   NaN      IR1   \n",
       "3   4          70       RL         60.0     9550   Pave   NaN      IR1   \n",
       "4   5          60       RL         84.0    14260   Pave   NaN      IR1   \n",
       "\n",
       "  LandContour Utilities  ... PoolArea PoolQC Fence MiscFeature MiscVal MoSold  \\\n",
       "0         Lvl    AllPub  ...        0    NaN   NaN         NaN       0      2   \n",
       "1         Lvl    AllPub  ...        0    NaN   NaN         NaN       0      5   \n",
       "2         Lvl    AllPub  ...        0    NaN   NaN         NaN       0      9   \n",
       "3         Lvl    AllPub  ...        0    NaN   NaN         NaN       0      2   \n",
       "4         Lvl    AllPub  ...        0    NaN   NaN         NaN       0     12   \n",
       "\n",
       "  YrSold  SaleType  SaleCondition  SalePrice  \n",
       "0   2008        WD         Normal     208500  \n",
       "1   2007        WD         Normal     181500  \n",
       "2   2008        WD         Normal     223500  \n",
       "3   2006        WD        Abnorml     140000  \n",
       "4   2008        WD         Normal     250000  \n",
       "\n",
       "[5 rows x 81 columns]"
      ]
     },
     "execution_count": 3,
     "metadata": {},
     "output_type": "execute_result"
    }
   ],
   "source": [
    "housing.head()"
   ]
  },
  {
   "cell_type": "code",
   "execution_count": 4,
   "id": "71b1dac8-31c7-4771-b424-1b2f9d565e58",
   "metadata": {},
   "outputs": [
    {
     "data": {
      "text/plain": [
       "(1460, 81)"
      ]
     },
     "execution_count": 4,
     "metadata": {},
     "output_type": "execute_result"
    }
   ],
   "source": [
    "housing.shape"
   ]
  },
  {
   "cell_type": "code",
   "execution_count": 5,
   "id": "68633c6a-adb4-49f1-8440-420416f4a402",
   "metadata": {},
   "outputs": [
    {
     "data": {
      "text/html": [
       "<div>\n",
       "<style scoped>\n",
       "    .dataframe tbody tr th:only-of-type {\n",
       "        vertical-align: middle;\n",
       "    }\n",
       "\n",
       "    .dataframe tbody tr th {\n",
       "        vertical-align: top;\n",
       "    }\n",
       "\n",
       "    .dataframe thead th {\n",
       "        text-align: right;\n",
       "    }\n",
       "</style>\n",
       "<table border=\"1\" class=\"dataframe\">\n",
       "  <thead>\n",
       "    <tr style=\"text-align: right;\">\n",
       "      <th></th>\n",
       "      <th>Id</th>\n",
       "      <th>MSSubClass</th>\n",
       "      <th>LotFrontage</th>\n",
       "      <th>LotArea</th>\n",
       "      <th>OverallQual</th>\n",
       "      <th>OverallCond</th>\n",
       "      <th>YearBuilt</th>\n",
       "      <th>YearRemodAdd</th>\n",
       "      <th>MasVnrArea</th>\n",
       "      <th>BsmtFinSF1</th>\n",
       "      <th>...</th>\n",
       "      <th>WoodDeckSF</th>\n",
       "      <th>OpenPorchSF</th>\n",
       "      <th>EnclosedPorch</th>\n",
       "      <th>3SsnPorch</th>\n",
       "      <th>ScreenPorch</th>\n",
       "      <th>PoolArea</th>\n",
       "      <th>MiscVal</th>\n",
       "      <th>MoSold</th>\n",
       "      <th>YrSold</th>\n",
       "      <th>SalePrice</th>\n",
       "    </tr>\n",
       "  </thead>\n",
       "  <tbody>\n",
       "    <tr>\n",
       "      <th>count</th>\n",
       "      <td>1460.000000</td>\n",
       "      <td>1460.000000</td>\n",
       "      <td>1201.000000</td>\n",
       "      <td>1460.000000</td>\n",
       "      <td>1460.000000</td>\n",
       "      <td>1460.000000</td>\n",
       "      <td>1460.000000</td>\n",
       "      <td>1460.000000</td>\n",
       "      <td>1452.000000</td>\n",
       "      <td>1460.000000</td>\n",
       "      <td>...</td>\n",
       "      <td>1460.000000</td>\n",
       "      <td>1460.000000</td>\n",
       "      <td>1460.000000</td>\n",
       "      <td>1460.000000</td>\n",
       "      <td>1460.000000</td>\n",
       "      <td>1460.000000</td>\n",
       "      <td>1460.000000</td>\n",
       "      <td>1460.000000</td>\n",
       "      <td>1460.000000</td>\n",
       "      <td>1460.000000</td>\n",
       "    </tr>\n",
       "    <tr>\n",
       "      <th>mean</th>\n",
       "      <td>730.500000</td>\n",
       "      <td>56.897260</td>\n",
       "      <td>70.049958</td>\n",
       "      <td>10516.828082</td>\n",
       "      <td>6.099315</td>\n",
       "      <td>5.575342</td>\n",
       "      <td>1971.267808</td>\n",
       "      <td>1984.865753</td>\n",
       "      <td>103.685262</td>\n",
       "      <td>443.639726</td>\n",
       "      <td>...</td>\n",
       "      <td>94.244521</td>\n",
       "      <td>46.660274</td>\n",
       "      <td>21.954110</td>\n",
       "      <td>3.409589</td>\n",
       "      <td>15.060959</td>\n",
       "      <td>2.758904</td>\n",
       "      <td>43.489041</td>\n",
       "      <td>6.321918</td>\n",
       "      <td>2007.815753</td>\n",
       "      <td>180921.195890</td>\n",
       "    </tr>\n",
       "    <tr>\n",
       "      <th>std</th>\n",
       "      <td>421.610009</td>\n",
       "      <td>42.300571</td>\n",
       "      <td>24.284752</td>\n",
       "      <td>9981.264932</td>\n",
       "      <td>1.382997</td>\n",
       "      <td>1.112799</td>\n",
       "      <td>30.202904</td>\n",
       "      <td>20.645407</td>\n",
       "      <td>181.066207</td>\n",
       "      <td>456.098091</td>\n",
       "      <td>...</td>\n",
       "      <td>125.338794</td>\n",
       "      <td>66.256028</td>\n",
       "      <td>61.119149</td>\n",
       "      <td>29.317331</td>\n",
       "      <td>55.757415</td>\n",
       "      <td>40.177307</td>\n",
       "      <td>496.123024</td>\n",
       "      <td>2.703626</td>\n",
       "      <td>1.328095</td>\n",
       "      <td>79442.502883</td>\n",
       "    </tr>\n",
       "    <tr>\n",
       "      <th>min</th>\n",
       "      <td>1.000000</td>\n",
       "      <td>20.000000</td>\n",
       "      <td>21.000000</td>\n",
       "      <td>1300.000000</td>\n",
       "      <td>1.000000</td>\n",
       "      <td>1.000000</td>\n",
       "      <td>1872.000000</td>\n",
       "      <td>1950.000000</td>\n",
       "      <td>0.000000</td>\n",
       "      <td>0.000000</td>\n",
       "      <td>...</td>\n",
       "      <td>0.000000</td>\n",
       "      <td>0.000000</td>\n",
       "      <td>0.000000</td>\n",
       "      <td>0.000000</td>\n",
       "      <td>0.000000</td>\n",
       "      <td>0.000000</td>\n",
       "      <td>0.000000</td>\n",
       "      <td>1.000000</td>\n",
       "      <td>2006.000000</td>\n",
       "      <td>34900.000000</td>\n",
       "    </tr>\n",
       "    <tr>\n",
       "      <th>25%</th>\n",
       "      <td>365.750000</td>\n",
       "      <td>20.000000</td>\n",
       "      <td>59.000000</td>\n",
       "      <td>7553.500000</td>\n",
       "      <td>5.000000</td>\n",
       "      <td>5.000000</td>\n",
       "      <td>1954.000000</td>\n",
       "      <td>1967.000000</td>\n",
       "      <td>0.000000</td>\n",
       "      <td>0.000000</td>\n",
       "      <td>...</td>\n",
       "      <td>0.000000</td>\n",
       "      <td>0.000000</td>\n",
       "      <td>0.000000</td>\n",
       "      <td>0.000000</td>\n",
       "      <td>0.000000</td>\n",
       "      <td>0.000000</td>\n",
       "      <td>0.000000</td>\n",
       "      <td>5.000000</td>\n",
       "      <td>2007.000000</td>\n",
       "      <td>129975.000000</td>\n",
       "    </tr>\n",
       "    <tr>\n",
       "      <th>50%</th>\n",
       "      <td>730.500000</td>\n",
       "      <td>50.000000</td>\n",
       "      <td>69.000000</td>\n",
       "      <td>9478.500000</td>\n",
       "      <td>6.000000</td>\n",
       "      <td>5.000000</td>\n",
       "      <td>1973.000000</td>\n",
       "      <td>1994.000000</td>\n",
       "      <td>0.000000</td>\n",
       "      <td>383.500000</td>\n",
       "      <td>...</td>\n",
       "      <td>0.000000</td>\n",
       "      <td>25.000000</td>\n",
       "      <td>0.000000</td>\n",
       "      <td>0.000000</td>\n",
       "      <td>0.000000</td>\n",
       "      <td>0.000000</td>\n",
       "      <td>0.000000</td>\n",
       "      <td>6.000000</td>\n",
       "      <td>2008.000000</td>\n",
       "      <td>163000.000000</td>\n",
       "    </tr>\n",
       "    <tr>\n",
       "      <th>75%</th>\n",
       "      <td>1095.250000</td>\n",
       "      <td>70.000000</td>\n",
       "      <td>80.000000</td>\n",
       "      <td>11601.500000</td>\n",
       "      <td>7.000000</td>\n",
       "      <td>6.000000</td>\n",
       "      <td>2000.000000</td>\n",
       "      <td>2004.000000</td>\n",
       "      <td>166.000000</td>\n",
       "      <td>712.250000</td>\n",
       "      <td>...</td>\n",
       "      <td>168.000000</td>\n",
       "      <td>68.000000</td>\n",
       "      <td>0.000000</td>\n",
       "      <td>0.000000</td>\n",
       "      <td>0.000000</td>\n",
       "      <td>0.000000</td>\n",
       "      <td>0.000000</td>\n",
       "      <td>8.000000</td>\n",
       "      <td>2009.000000</td>\n",
       "      <td>214000.000000</td>\n",
       "    </tr>\n",
       "    <tr>\n",
       "      <th>max</th>\n",
       "      <td>1460.000000</td>\n",
       "      <td>190.000000</td>\n",
       "      <td>313.000000</td>\n",
       "      <td>215245.000000</td>\n",
       "      <td>10.000000</td>\n",
       "      <td>9.000000</td>\n",
       "      <td>2010.000000</td>\n",
       "      <td>2010.000000</td>\n",
       "      <td>1600.000000</td>\n",
       "      <td>5644.000000</td>\n",
       "      <td>...</td>\n",
       "      <td>857.000000</td>\n",
       "      <td>547.000000</td>\n",
       "      <td>552.000000</td>\n",
       "      <td>508.000000</td>\n",
       "      <td>480.000000</td>\n",
       "      <td>738.000000</td>\n",
       "      <td>15500.000000</td>\n",
       "      <td>12.000000</td>\n",
       "      <td>2010.000000</td>\n",
       "      <td>755000.000000</td>\n",
       "    </tr>\n",
       "  </tbody>\n",
       "</table>\n",
       "<p>8 rows × 38 columns</p>\n",
       "</div>"
      ],
      "text/plain": [
       "                Id   MSSubClass  LotFrontage        LotArea  OverallQual  \\\n",
       "count  1460.000000  1460.000000  1201.000000    1460.000000  1460.000000   \n",
       "mean    730.500000    56.897260    70.049958   10516.828082     6.099315   \n",
       "std     421.610009    42.300571    24.284752    9981.264932     1.382997   \n",
       "min       1.000000    20.000000    21.000000    1300.000000     1.000000   \n",
       "25%     365.750000    20.000000    59.000000    7553.500000     5.000000   \n",
       "50%     730.500000    50.000000    69.000000    9478.500000     6.000000   \n",
       "75%    1095.250000    70.000000    80.000000   11601.500000     7.000000   \n",
       "max    1460.000000   190.000000   313.000000  215245.000000    10.000000   \n",
       "\n",
       "       OverallCond    YearBuilt  YearRemodAdd   MasVnrArea   BsmtFinSF1  ...  \\\n",
       "count  1460.000000  1460.000000   1460.000000  1452.000000  1460.000000  ...   \n",
       "mean      5.575342  1971.267808   1984.865753   103.685262   443.639726  ...   \n",
       "std       1.112799    30.202904     20.645407   181.066207   456.098091  ...   \n",
       "min       1.000000  1872.000000   1950.000000     0.000000     0.000000  ...   \n",
       "25%       5.000000  1954.000000   1967.000000     0.000000     0.000000  ...   \n",
       "50%       5.000000  1973.000000   1994.000000     0.000000   383.500000  ...   \n",
       "75%       6.000000  2000.000000   2004.000000   166.000000   712.250000  ...   \n",
       "max       9.000000  2010.000000   2010.000000  1600.000000  5644.000000  ...   \n",
       "\n",
       "        WoodDeckSF  OpenPorchSF  EnclosedPorch    3SsnPorch  ScreenPorch  \\\n",
       "count  1460.000000  1460.000000    1460.000000  1460.000000  1460.000000   \n",
       "mean     94.244521    46.660274      21.954110     3.409589    15.060959   \n",
       "std     125.338794    66.256028      61.119149    29.317331    55.757415   \n",
       "min       0.000000     0.000000       0.000000     0.000000     0.000000   \n",
       "25%       0.000000     0.000000       0.000000     0.000000     0.000000   \n",
       "50%       0.000000    25.000000       0.000000     0.000000     0.000000   \n",
       "75%     168.000000    68.000000       0.000000     0.000000     0.000000   \n",
       "max     857.000000   547.000000     552.000000   508.000000   480.000000   \n",
       "\n",
       "          PoolArea       MiscVal       MoSold       YrSold      SalePrice  \n",
       "count  1460.000000   1460.000000  1460.000000  1460.000000    1460.000000  \n",
       "mean      2.758904     43.489041     6.321918  2007.815753  180921.195890  \n",
       "std      40.177307    496.123024     2.703626     1.328095   79442.502883  \n",
       "min       0.000000      0.000000     1.000000  2006.000000   34900.000000  \n",
       "25%       0.000000      0.000000     5.000000  2007.000000  129975.000000  \n",
       "50%       0.000000      0.000000     6.000000  2008.000000  163000.000000  \n",
       "75%       0.000000      0.000000     8.000000  2009.000000  214000.000000  \n",
       "max     738.000000  15500.000000    12.000000  2010.000000  755000.000000  \n",
       "\n",
       "[8 rows x 38 columns]"
      ]
     },
     "execution_count": 5,
     "metadata": {},
     "output_type": "execute_result"
    }
   ],
   "source": [
    "housing.describe()"
   ]
  },
  {
   "cell_type": "markdown",
   "id": "6f4d9060-faed-40e3-bb0b-d72632b3e228",
   "metadata": {},
   "source": [
    "\\\n",
    "\\\n",
    "<B> EN ESTA ETAPA, ES IMPORTANTE IDENTIFICAR CUALES SON LAS COLUMNAS QUE TIENEN MAS VALORES DE TIPO \"NULL\" \\\n",
    "    \n"
   ]
  },
  {
   "cell_type": "code",
   "execution_count": 6,
   "id": "97bcefcb-4e52-494f-8e64-97b93e7a0aac",
   "metadata": {},
   "outputs": [
    {
     "data": {
      "text/plain": [
       "PoolQC          1453\n",
       "MiscFeature     1406\n",
       "Alley           1369\n",
       "Fence           1179\n",
       "FireplaceQu      690\n",
       "LotFrontage      259\n",
       "GarageYrBlt       81\n",
       "GarageCond        81\n",
       "GarageType        81\n",
       "GarageFinish      81\n",
       "GarageQual        81\n",
       "BsmtFinType2      38\n",
       "BsmtExposure      38\n",
       "BsmtQual          37\n",
       "BsmtCond          37\n",
       "BsmtFinType1      37\n",
       "MasVnrArea         8\n",
       "MasVnrType         8\n",
       "Electrical         1\n",
       "Id                 0\n",
       "dtype: int64"
      ]
     },
     "execution_count": 6,
     "metadata": {},
     "output_type": "execute_result"
    }
   ],
   "source": [
    "housing.isnull().sum().sort_values(ascending = False).head(20)"
   ]
  },
  {
   "cell_type": "code",
   "execution_count": 7,
   "id": "47093a9f-367f-4029-ae84-a1c6254839de",
   "metadata": {},
   "outputs": [
    {
     "name": "stdout",
     "output_type": "stream",
     "text": [
      "<class 'pandas.core.frame.DataFrame'>\n",
      "RangeIndex: 1460 entries, 0 to 1459\n",
      "Data columns (total 81 columns):\n",
      " #   Column         Non-Null Count  Dtype  \n",
      "---  ------         --------------  -----  \n",
      " 0   Id             1460 non-null   int64  \n",
      " 1   MSSubClass     1460 non-null   int64  \n",
      " 2   MSZoning       1460 non-null   object \n",
      " 3   LotFrontage    1201 non-null   float64\n",
      " 4   LotArea        1460 non-null   int64  \n",
      " 5   Street         1460 non-null   object \n",
      " 6   Alley          91 non-null     object \n",
      " 7   LotShape       1460 non-null   object \n",
      " 8   LandContour    1460 non-null   object \n",
      " 9   Utilities      1460 non-null   object \n",
      " 10  LotConfig      1460 non-null   object \n",
      " 11  LandSlope      1460 non-null   object \n",
      " 12  Neighborhood   1460 non-null   object \n",
      " 13  Condition1     1460 non-null   object \n",
      " 14  Condition2     1460 non-null   object \n",
      " 15  BldgType       1460 non-null   object \n",
      " 16  HouseStyle     1460 non-null   object \n",
      " 17  OverallQual    1460 non-null   int64  \n",
      " 18  OverallCond    1460 non-null   int64  \n",
      " 19  YearBuilt      1460 non-null   int64  \n",
      " 20  YearRemodAdd   1460 non-null   int64  \n",
      " 21  RoofStyle      1460 non-null   object \n",
      " 22  RoofMatl       1460 non-null   object \n",
      " 23  Exterior1st    1460 non-null   object \n",
      " 24  Exterior2nd    1460 non-null   object \n",
      " 25  MasVnrType     1452 non-null   object \n",
      " 26  MasVnrArea     1452 non-null   float64\n",
      " 27  ExterQual      1460 non-null   object \n",
      " 28  ExterCond      1460 non-null   object \n",
      " 29  Foundation     1460 non-null   object \n",
      " 30  BsmtQual       1423 non-null   object \n",
      " 31  BsmtCond       1423 non-null   object \n",
      " 32  BsmtExposure   1422 non-null   object \n",
      " 33  BsmtFinType1   1423 non-null   object \n",
      " 34  BsmtFinSF1     1460 non-null   int64  \n",
      " 35  BsmtFinType2   1422 non-null   object \n",
      " 36  BsmtFinSF2     1460 non-null   int64  \n",
      " 37  BsmtUnfSF      1460 non-null   int64  \n",
      " 38  TotalBsmtSF    1460 non-null   int64  \n",
      " 39  Heating        1460 non-null   object \n",
      " 40  HeatingQC      1460 non-null   object \n",
      " 41  CentralAir     1460 non-null   object \n",
      " 42  Electrical     1459 non-null   object \n",
      " 43  1stFlrSF       1460 non-null   int64  \n",
      " 44  2ndFlrSF       1460 non-null   int64  \n",
      " 45  LowQualFinSF   1460 non-null   int64  \n",
      " 46  GrLivArea      1460 non-null   int64  \n",
      " 47  BsmtFullBath   1460 non-null   int64  \n",
      " 48  BsmtHalfBath   1460 non-null   int64  \n",
      " 49  FullBath       1460 non-null   int64  \n",
      " 50  HalfBath       1460 non-null   int64  \n",
      " 51  BedroomAbvGr   1460 non-null   int64  \n",
      " 52  KitchenAbvGr   1460 non-null   int64  \n",
      " 53  KitchenQual    1460 non-null   object \n",
      " 54  TotRmsAbvGrd   1460 non-null   int64  \n",
      " 55  Functional     1460 non-null   object \n",
      " 56  Fireplaces     1460 non-null   int64  \n",
      " 57  FireplaceQu    770 non-null    object \n",
      " 58  GarageType     1379 non-null   object \n",
      " 59  GarageYrBlt    1379 non-null   float64\n",
      " 60  GarageFinish   1379 non-null   object \n",
      " 61  GarageCars     1460 non-null   int64  \n",
      " 62  GarageArea     1460 non-null   int64  \n",
      " 63  GarageQual     1379 non-null   object \n",
      " 64  GarageCond     1379 non-null   object \n",
      " 65  PavedDrive     1460 non-null   object \n",
      " 66  WoodDeckSF     1460 non-null   int64  \n",
      " 67  OpenPorchSF    1460 non-null   int64  \n",
      " 68  EnclosedPorch  1460 non-null   int64  \n",
      " 69  3SsnPorch      1460 non-null   int64  \n",
      " 70  ScreenPorch    1460 non-null   int64  \n",
      " 71  PoolArea       1460 non-null   int64  \n",
      " 72  PoolQC         7 non-null      object \n",
      " 73  Fence          281 non-null    object \n",
      " 74  MiscFeature    54 non-null     object \n",
      " 75  MiscVal        1460 non-null   int64  \n",
      " 76  MoSold         1460 non-null   int64  \n",
      " 77  YrSold         1460 non-null   int64  \n",
      " 78  SaleType       1460 non-null   object \n",
      " 79  SaleCondition  1460 non-null   object \n",
      " 80  SalePrice      1460 non-null   int64  \n",
      "dtypes: float64(3), int64(35), object(43)\n",
      "memory usage: 924.0+ KB\n"
     ]
    }
   ],
   "source": [
    "housing.info()"
   ]
  },
  {
   "cell_type": "markdown",
   "id": "88eedd3b-84ee-41b3-8800-0e2a350919af",
   "metadata": {},
   "source": [
    "\\\n",
    "\\\n",
    "<B>EL CONOCER LOS PRECIOS DE VENTA PROMEDIO, ASI COMO LOS PRECIOS MINIMOS, MAXIMOS Y QUANTILES, \\\n",
    "    NOS DARA UNA MEJOR PERSPECTIVA DE LA INFORMACION CUANDO COMENCEMOS A REALIZAR LOS ANALISIS\n"
   ]
  },
  {
   "cell_type": "code",
   "execution_count": 42,
   "id": "280c11f4-49cd-42a2-8561-b6597af0176b",
   "metadata": {},
   "outputs": [
    {
     "data": {
      "text/plain": [
       "'EL CONOCER LOS PRECIOS DE VENTA PROMEDIO, ASI COMO LOS PRECIOS MINIMOS, MAXIMOS Y QUANTILES, NOS DARA UNA MEJOR PERSPECTIVA DE LA INFORMACION CUANDO COMENCEMOS A REALIZAR LOS ANALISIS'"
      ]
     },
     "execution_count": 42,
     "metadata": {},
     "output_type": "execute_result"
    }
   ],
   "source": [
    "function = 'El conocer los precios de venta promedio, asi como los precios minimos, maximos y quantiles, nos dara una mejor perspectiva de la informacion cuando comencemos a realizar los analisis'\n",
    "function.upper()"
   ]
  },
  {
   "cell_type": "code",
   "execution_count": 8,
   "id": "0f9a8dcc-bcc1-4664-8cdf-9d1355e72622",
   "metadata": {},
   "outputs": [
    {
     "data": {
      "text/plain": [
       "count      1460.000000\n",
       "mean     180921.195890\n",
       "std       79442.502883\n",
       "min       34900.000000\n",
       "25%      129975.000000\n",
       "50%      163000.000000\n",
       "75%      214000.000000\n",
       "max      755000.000000\n",
       "Name: SalePrice, dtype: float64"
      ]
     },
     "execution_count": 8,
     "metadata": {},
     "output_type": "execute_result"
    }
   ],
   "source": [
    "housing['SalePrice'].describe()"
   ]
  },
  {
   "cell_type": "code",
   "execution_count": 9,
   "id": "63ed3c01-967e-423e-aecc-beec3240dfb0",
   "metadata": {},
   "outputs": [
    {
     "data": {
      "text/plain": [
       "Index(['Id', 'MSSubClass', 'MSZoning', 'LotFrontage', 'LotArea', 'Street',\n",
       "       'Alley', 'LotShape', 'LandContour', 'Utilities', 'LotConfig',\n",
       "       'LandSlope', 'Neighborhood', 'Condition1', 'Condition2', 'BldgType',\n",
       "       'HouseStyle', 'OverallQual', 'OverallCond', 'YearBuilt', 'YearRemodAdd',\n",
       "       'RoofStyle', 'RoofMatl', 'Exterior1st', 'Exterior2nd', 'MasVnrType',\n",
       "       'MasVnrArea', 'ExterQual', 'ExterCond', 'Foundation', 'BsmtQual',\n",
       "       'BsmtCond', 'BsmtExposure', 'BsmtFinType1', 'BsmtFinSF1',\n",
       "       'BsmtFinType2', 'BsmtFinSF2', 'BsmtUnfSF', 'TotalBsmtSF', 'Heating',\n",
       "       'HeatingQC', 'CentralAir', 'Electrical', '1stFlrSF', '2ndFlrSF',\n",
       "       'LowQualFinSF', 'GrLivArea', 'BsmtFullBath', 'BsmtHalfBath', 'FullBath',\n",
       "       'HalfBath', 'BedroomAbvGr', 'KitchenAbvGr', 'KitchenQual',\n",
       "       'TotRmsAbvGrd', 'Functional', 'Fireplaces', 'FireplaceQu', 'GarageType',\n",
       "       'GarageYrBlt', 'GarageFinish', 'GarageCars', 'GarageArea', 'GarageQual',\n",
       "       'GarageCond', 'PavedDrive', 'WoodDeckSF', 'OpenPorchSF',\n",
       "       'EnclosedPorch', '3SsnPorch', 'ScreenPorch', 'PoolArea', 'PoolQC',\n",
       "       'Fence', 'MiscFeature', 'MiscVal', 'MoSold', 'YrSold', 'SaleType',\n",
       "       'SaleCondition', 'SalePrice'],\n",
       "      dtype='object')"
      ]
     },
     "execution_count": 9,
     "metadata": {},
     "output_type": "execute_result"
    }
   ],
   "source": [
    "housing.columns"
   ]
  },
  {
   "cell_type": "markdown",
   "id": "0ad41ac6-4dcd-448c-a2cc-ad11678749b7",
   "metadata": {},
   "source": [
    "\\\n",
    "\\\n",
    "<B> LA SIGUIENTE ETAPA CORRESPONDE A LA LIMPIEZA DE LA DATAFRAME, CON LA INTENCION DE PREPARAR DATOS PARA ANALIZAR \\\n",
    "PARA ELLO CREAREMOS UNA FUNCION QUE NOS AYUDE CON LA LIMPIEZA DE DATOS Y LA REDUCCION DE COLUMNAS POCO SIGNIFICATIVAS"
   ]
  },
  {
   "cell_type": "markdown",
   "id": "f6315253-89c3-4882-ad0d-598dd27b9d48",
   "metadata": {},
   "source": [
    "Se identificaron varias columnas que eran de tipo categoricas y cuyas calificaciones coincidian en todas estas \\\n",
    "por lo anterior se opto en asignar valores por convencion para poder usar numeros en todas estas. A continuacion las columnas \n",
    "\n",
    "ExternQual, ExternCond, BsmtQual, HeatingQC, KitchenQual, Fireplaces, GarageQual, GarageCond, PoolQC\n",
    "\n",
    "Ex = Excellent = 9 \\\n",
    "Gd = Good = 7\\\n",
    "TA = Average/Typical = 5\\\n",
    "Fa = Fair = 3\\\n",
    "Po = Poor = 2\\\n",
    "NA = -1 \n",
    "\n",
    "A continuacion la funcion de limpieza  de nuestros datos"
   ]
  },
  {
   "cell_type": "code",
   "execution_count": 43,
   "id": "0130f1fb-e7c0-4469-9e66-5e65f3f6c0f2",
   "metadata": {},
   "outputs": [],
   "source": [
    "def df_cleaner(std_values_df):\n",
    "    \n",
    "    std_values_df.replace(['Ex','Gd','TA','Fa','Po','NA'], [9,7,5,3,2,-1], inplace = True)\n",
    "    \n",
    "    std_values_df.replace(0, np.nan, inplace = True)  # Convirtiendo a o los nan pues no indican nada\n",
    "    \n",
    "    std_values_df.dropna(axis = 'columns', thresh = int(std_values_df.shape[0]*0.5), inplace = True) # Eliminamos valores nan con thresh de 0.5\n",
    "    \n",
    "    std_values_df.set_index(['Id'], inplace = True) # Colocando 'Id' como Index\n",
    "    \n",
    "    std_values_df.dropna(thresh = 60, inplace = True) # Eliminamos las filas que tengan minimo 60 columnas con valores nan pues no arrojaran buenos datos\n",
    "    \n",
    "    std_values_df.dropna(subset=['YrSold','YearBuilt'], inplace = True) # ya que 'YrSold' y 'YearBuilt' son datos muy importantes, si no tienn info se eliminan\n",
    "    \n",
    "    std_values_df.fillna(0, inplace = True)\n",
    "    \n",
    "    return std_values_df\n"
   ]
  },
  {
   "cell_type": "code",
   "execution_count": 11,
   "id": "ae692dcf-d5fe-467a-8061-9207a0bc1378",
   "metadata": {},
   "outputs": [],
   "source": [
    "cleaning_housing_df = df_cleaner(housing)"
   ]
  },
  {
   "cell_type": "code",
   "execution_count": 12,
   "id": "84fb070b-1eb9-4c61-9200-9fb4c9571a69",
   "metadata": {},
   "outputs": [
    {
     "data": {
      "text/html": [
       "<div>\n",
       "<style scoped>\n",
       "    .dataframe tbody tr th:only-of-type {\n",
       "        vertical-align: middle;\n",
       "    }\n",
       "\n",
       "    .dataframe tbody tr th {\n",
       "        vertical-align: top;\n",
       "    }\n",
       "\n",
       "    .dataframe thead th {\n",
       "        text-align: right;\n",
       "    }\n",
       "</style>\n",
       "<table border=\"1\" class=\"dataframe\">\n",
       "  <thead>\n",
       "    <tr style=\"text-align: right;\">\n",
       "      <th></th>\n",
       "      <th>MSSubClass</th>\n",
       "      <th>LotFrontage</th>\n",
       "      <th>LotArea</th>\n",
       "      <th>OverallQual</th>\n",
       "      <th>OverallCond</th>\n",
       "      <th>YearBuilt</th>\n",
       "      <th>YearRemodAdd</th>\n",
       "      <th>ExterQual</th>\n",
       "      <th>ExterCond</th>\n",
       "      <th>BsmtQual</th>\n",
       "      <th>...</th>\n",
       "      <th>FireplaceQu</th>\n",
       "      <th>GarageYrBlt</th>\n",
       "      <th>GarageCars</th>\n",
       "      <th>GarageArea</th>\n",
       "      <th>GarageQual</th>\n",
       "      <th>GarageCond</th>\n",
       "      <th>OpenPorchSF</th>\n",
       "      <th>MoSold</th>\n",
       "      <th>YrSold</th>\n",
       "      <th>SalePrice</th>\n",
       "    </tr>\n",
       "    <tr>\n",
       "      <th>Id</th>\n",
       "      <th></th>\n",
       "      <th></th>\n",
       "      <th></th>\n",
       "      <th></th>\n",
       "      <th></th>\n",
       "      <th></th>\n",
       "      <th></th>\n",
       "      <th></th>\n",
       "      <th></th>\n",
       "      <th></th>\n",
       "      <th></th>\n",
       "      <th></th>\n",
       "      <th></th>\n",
       "      <th></th>\n",
       "      <th></th>\n",
       "      <th></th>\n",
       "      <th></th>\n",
       "      <th></th>\n",
       "      <th></th>\n",
       "      <th></th>\n",
       "      <th></th>\n",
       "    </tr>\n",
       "  </thead>\n",
       "  <tbody>\n",
       "    <tr>\n",
       "      <th>1</th>\n",
       "      <td>60</td>\n",
       "      <td>65.0</td>\n",
       "      <td>8450</td>\n",
       "      <td>7</td>\n",
       "      <td>5</td>\n",
       "      <td>2003</td>\n",
       "      <td>2003</td>\n",
       "      <td>7</td>\n",
       "      <td>5</td>\n",
       "      <td>7.0</td>\n",
       "      <td>...</td>\n",
       "      <td>0.0</td>\n",
       "      <td>2003.0</td>\n",
       "      <td>2.0</td>\n",
       "      <td>548.0</td>\n",
       "      <td>5.0</td>\n",
       "      <td>5.0</td>\n",
       "      <td>61.0</td>\n",
       "      <td>2</td>\n",
       "      <td>2008</td>\n",
       "      <td>208500</td>\n",
       "    </tr>\n",
       "    <tr>\n",
       "      <th>2</th>\n",
       "      <td>20</td>\n",
       "      <td>80.0</td>\n",
       "      <td>9600</td>\n",
       "      <td>6</td>\n",
       "      <td>8</td>\n",
       "      <td>1976</td>\n",
       "      <td>1976</td>\n",
       "      <td>5</td>\n",
       "      <td>5</td>\n",
       "      <td>7.0</td>\n",
       "      <td>...</td>\n",
       "      <td>5.0</td>\n",
       "      <td>1976.0</td>\n",
       "      <td>2.0</td>\n",
       "      <td>460.0</td>\n",
       "      <td>5.0</td>\n",
       "      <td>5.0</td>\n",
       "      <td>0.0</td>\n",
       "      <td>5</td>\n",
       "      <td>2007</td>\n",
       "      <td>181500</td>\n",
       "    </tr>\n",
       "    <tr>\n",
       "      <th>3</th>\n",
       "      <td>60</td>\n",
       "      <td>68.0</td>\n",
       "      <td>11250</td>\n",
       "      <td>7</td>\n",
       "      <td>5</td>\n",
       "      <td>2001</td>\n",
       "      <td>2002</td>\n",
       "      <td>7</td>\n",
       "      <td>5</td>\n",
       "      <td>7.0</td>\n",
       "      <td>...</td>\n",
       "      <td>5.0</td>\n",
       "      <td>2001.0</td>\n",
       "      <td>2.0</td>\n",
       "      <td>608.0</td>\n",
       "      <td>5.0</td>\n",
       "      <td>5.0</td>\n",
       "      <td>42.0</td>\n",
       "      <td>9</td>\n",
       "      <td>2008</td>\n",
       "      <td>223500</td>\n",
       "    </tr>\n",
       "    <tr>\n",
       "      <th>4</th>\n",
       "      <td>70</td>\n",
       "      <td>60.0</td>\n",
       "      <td>9550</td>\n",
       "      <td>7</td>\n",
       "      <td>5</td>\n",
       "      <td>1915</td>\n",
       "      <td>1970</td>\n",
       "      <td>5</td>\n",
       "      <td>5</td>\n",
       "      <td>5.0</td>\n",
       "      <td>...</td>\n",
       "      <td>7.0</td>\n",
       "      <td>1998.0</td>\n",
       "      <td>3.0</td>\n",
       "      <td>642.0</td>\n",
       "      <td>5.0</td>\n",
       "      <td>5.0</td>\n",
       "      <td>35.0</td>\n",
       "      <td>2</td>\n",
       "      <td>2006</td>\n",
       "      <td>140000</td>\n",
       "    </tr>\n",
       "    <tr>\n",
       "      <th>5</th>\n",
       "      <td>60</td>\n",
       "      <td>84.0</td>\n",
       "      <td>14260</td>\n",
       "      <td>8</td>\n",
       "      <td>5</td>\n",
       "      <td>2000</td>\n",
       "      <td>2000</td>\n",
       "      <td>7</td>\n",
       "      <td>5</td>\n",
       "      <td>7.0</td>\n",
       "      <td>...</td>\n",
       "      <td>5.0</td>\n",
       "      <td>2000.0</td>\n",
       "      <td>3.0</td>\n",
       "      <td>836.0</td>\n",
       "      <td>5.0</td>\n",
       "      <td>5.0</td>\n",
       "      <td>84.0</td>\n",
       "      <td>12</td>\n",
       "      <td>2008</td>\n",
       "      <td>250000</td>\n",
       "    </tr>\n",
       "  </tbody>\n",
       "</table>\n",
       "<p>5 rows × 33 columns</p>\n",
       "</div>"
      ],
      "text/plain": [
       "    MSSubClass  LotFrontage  LotArea  OverallQual  OverallCond  YearBuilt  \\\n",
       "Id                                                                          \n",
       "1           60         65.0     8450            7            5       2003   \n",
       "2           20         80.0     9600            6            8       1976   \n",
       "3           60         68.0    11250            7            5       2001   \n",
       "4           70         60.0     9550            7            5       1915   \n",
       "5           60         84.0    14260            8            5       2000   \n",
       "\n",
       "    YearRemodAdd  ExterQual  ExterCond  BsmtQual  ...  FireplaceQu  \\\n",
       "Id                                                ...                \n",
       "1           2003          7          5       7.0  ...          0.0   \n",
       "2           1976          5          5       7.0  ...          5.0   \n",
       "3           2002          7          5       7.0  ...          5.0   \n",
       "4           1970          5          5       5.0  ...          7.0   \n",
       "5           2000          7          5       7.0  ...          5.0   \n",
       "\n",
       "    GarageYrBlt  GarageCars  GarageArea  GarageQual  GarageCond  OpenPorchSF  \\\n",
       "Id                                                                             \n",
       "1        2003.0         2.0       548.0         5.0         5.0         61.0   \n",
       "2        1976.0         2.0       460.0         5.0         5.0          0.0   \n",
       "3        2001.0         2.0       608.0         5.0         5.0         42.0   \n",
       "4        1998.0         3.0       642.0         5.0         5.0         35.0   \n",
       "5        2000.0         3.0       836.0         5.0         5.0         84.0   \n",
       "\n",
       "    MoSold  YrSold  SalePrice  \n",
       "Id                             \n",
       "1        2    2008     208500  \n",
       "2        5    2007     181500  \n",
       "3        9    2008     223500  \n",
       "4        2    2006     140000  \n",
       "5       12    2008     250000  \n",
       "\n",
       "[5 rows x 33 columns]"
      ]
     },
     "execution_count": 12,
     "metadata": {},
     "output_type": "execute_result"
    }
   ],
   "source": [
    "housing_nvalues = cleaning_housing_df.select_dtypes(include ='number')\n",
    "housing_nvalues.head()"
   ]
  },
  {
   "cell_type": "code",
   "execution_count": 13,
   "id": "1c50413b-9b46-425a-9149-76f2a15c544c",
   "metadata": {},
   "outputs": [
    {
     "data": {
      "text/plain": [
       "(1181, 33)"
      ]
     },
     "execution_count": 13,
     "metadata": {},
     "output_type": "execute_result"
    }
   ],
   "source": [
    "housing_nvalues.shape"
   ]
  },
  {
   "cell_type": "code",
   "execution_count": 14,
   "id": "84ce1c1a-fea3-487d-9aa6-c7740e45f40b",
   "metadata": {},
   "outputs": [
    {
     "data": {
      "text/plain": [
       "SalePrice       1.000000\n",
       "OverallQual     0.776806\n",
       "GrLivArea       0.699616\n",
       "ExterQual       0.666072\n",
       "GarageCars      0.649928\n",
       "KitchenQual     0.643539\n",
       "BsmtQual        0.629691\n",
       "GarageArea      0.609473\n",
       "TotalBsmtSF     0.583843\n",
       "1stFlrSF        0.583640\n",
       "FullBath        0.555132\n",
       "TotRmsAbvGrd    0.546300\n",
       "YearRemodAdd    0.486521\n",
       "YearBuilt       0.473131\n",
       "GarageYrBlt     0.460035\n",
       "FireplaceQu     0.444027\n",
       "HeatingQC       0.400526\n",
       "Fireplaces      0.382486\n",
       "BsmtFinSF1      0.335162\n",
       "OpenPorchSF     0.276236\n",
       "LotArea         0.247229\n",
       "BsmtUnfSF       0.210122\n",
       "LotFrontage     0.199837\n",
       "BedroomAbvGr    0.146087\n",
       "BsmtCond        0.128966\n",
       "GarageQual      0.113150\n",
       "GarageCond      0.084462\n",
       "MoSold          0.043854\n",
       "YrSold         -0.014085\n",
       "ExterCond      -0.021087\n",
       "KitchenAbvGr   -0.104808\n",
       "MSSubClass     -0.105587\n",
       "OverallCond    -0.122286\n",
       "Name: SalePrice, dtype: float64"
      ]
     },
     "execution_count": 14,
     "metadata": {},
     "output_type": "execute_result"
    }
   ],
   "source": [
    "housing_nvalues.corr()['SalePrice'].sort_values(ascending = False)"
   ]
  },
  {
   "cell_type": "code",
   "execution_count": 15,
   "id": "896bd1bd-35cf-4ac6-97ae-c73d4ec6ca1f",
   "metadata": {},
   "outputs": [
    {
     "data": {
      "image/png": "[encoded data removed]",
      "text/plain": [
       "<Figure size 792x720 with 2 Axes>"
      ]
     },
     "metadata": {
      "needs_background": "light"
     },
     "output_type": "display_data"
    }
   ],
   "source": [
    "#Let's make a new visualization to see this partial result\n",
    "#Construyendo una ayuda visual de tipo heatmap para ver los resultados parciales\n",
    "\n",
    "corr = housing_nvalues.corr()\n",
    "\n",
    "mask = np.zeros_like(corr, dtype=bool)\n",
    "mask[np.triu_indices_from(mask)] = True\n",
    "\n",
    "f, ax = plt.subplots(figsize=(11, 10))\n",
    "\n",
    "cmap = sns.diverging_palette(220, 10, as_cmap=True)\n",
    "\n",
    "sns.heatmap(corr, mask=mask, cmap=cmap, vmax=1, center=0,\n",
    "            square=True, linewidths=.5, cbar_kws={\"shrink\": .6})\n",
    "plt.show()"
   ]
  },
  {
   "cell_type": "markdown",
   "id": "7e36b293-b8e2-4988-84dc-2788f0bcbdb6",
   "metadata": {},
   "source": [
    "\\\n",
    "\\\n",
    "<b> DE NUESTRA CORRELACION EFECTUADA ANTERIORMENTE, TOMAREMOS PARA REALIZAR UNA REGRESION LINEA LAS COLUMNAS \\\n",
    "CUYOS VALORES ESTAN ARRIBA DEL 0.6 YA QUE SE PUEDE PRESUMIR QUE ESTOS DATOS SI TIENEN SIGNIFICANCIA SOBRE EL \\\n",
    "PRECIO DE VENTA"
   ]
  },
  {
   "cell_type": "code",
   "execution_count": 48,
   "id": "d8c4aa98-3f82-4d0d-a7b1-881aaae6ea75",
   "metadata": {},
   "outputs": [],
   "source": [
    "corr_hous = housing_nvalues[['OverallQual','GrLivArea','ExterQual','GarageCars','KitchenQual','BsmtQual','GarageArea']]"
   ]
  },
  {
   "cell_type": "code",
   "execution_count": 49,
   "id": "09ccf8ca-b057-40e8-aa4b-c0a1fde5a458",
   "metadata": {},
   "outputs": [
    {
     "name": "stdout",
     "output_type": "stream",
     "text": [
      "                            OLS Regression Results                            \n",
      "==============================================================================\n",
      "Dep. Variable:              SalePrice   R-squared:                       0.753\n",
      "Model:                            OLS   Adj. R-squared:                  0.752\n",
      "Method:                 Least Squares   F-statistic:                     511.8\n",
      "Date:                Mon, 01 Aug 2022   Prob (F-statistic):               0.00\n",
      "Time:                        05:27:05   Log-Likelihood:                -14180.\n",
      "No. Observations:                1181   AIC:                         2.838e+04\n",
      "Df Residuals:                    1173   BIC:                         2.842e+04\n",
      "Df Model:                           7                                         \n",
      "Covariance Type:            nonrobust                                         \n",
      "===============================================================================\n",
      "                  coef    std err          t      P>|t|      [0.025      0.975]\n",
      "-------------------------------------------------------------------------------\n",
      "const       -1.522e+05   6662.673    -22.838      0.000   -1.65e+05   -1.39e+05\n",
      "OverallQual  1.633e+04   1610.583     10.138      0.000    1.32e+04    1.95e+04\n",
      "GrLivArea      51.9269      2.837     18.304      0.000      46.361      57.493\n",
      "ExterQual    5074.2034   1673.849      3.031      0.002    1790.131    8358.276\n",
      "GarageCars   1.146e+04   3658.705      3.133      0.002    4283.074    1.86e+04\n",
      "KitchenQual  7559.4372   1356.567      5.572      0.000    4897.868    1.02e+04\n",
      "BsmtQual     6999.8391   1280.096      5.468      0.000    4488.307    9511.372\n",
      "GarageArea     34.2535     11.364      3.014      0.003      11.958      56.550\n",
      "==============================================================================\n",
      "Omnibus:                      305.222   Durbin-Watson:                   1.925\n",
      "Prob(Omnibus):                  0.000   Jarque-Bera (JB):            16374.907\n",
      "Skew:                           0.250   Prob(JB):                         0.00\n",
      "Kurtosis:                      21.235   Cond. No.                     1.01e+04\n",
      "==============================================================================\n",
      "\n",
      "Notes:\n",
      "[1] Standard Errors assume that the covariance matrix of the errors is correctly specified.\n",
      "[2] The condition number is large, 1.01e+04. This might indicate that there are\n",
      "strong multicollinearity or other numerical problems.\n"
     ]
    }
   ],
   "source": [
    "X = sm.add_constant(corr_hous)\n",
    "y = housing_nvalues['SalePrice']\n",
    "reg_linear_mod = sm.OLS(y,X).fit()\n",
    "predict = reg_linear_mod.predict(X)\n",
    "print(reg_linear_mod.summary())"
   ]
  },
  {
   "cell_type": "code",
   "execution_count": 176,
   "id": "964469cd-8ea6-487d-b062-54e3d4c7c016",
   "metadata": {},
   "outputs": [
    {
     "data": {
      "text/plain": [
       "16330.0"
      ]
     },
     "execution_count": 176,
     "metadata": {},
     "output_type": "execute_result"
    }
   ],
   "source": []
  },
  {
   "cell_type": "markdown",
   "id": "2e89e74e-4508-4eb8-a053-b16cc3d4ddbd",
   "metadata": {},
   "source": [
    "DE NUESTRO ANALISIS DE REGRESION, SE LOGRA APRECIAR UN VALOR DE CASI 0.8 LO CUAL NO ES MALO, \\\n",
    "POR LO QUE SE PUEDE DECIR QUE SI ESTA EXPLICANDO BIEN EL MODELO. \\\n",
    "AL TRATARSE DE UNA REGRESION MULTIPLE, ES IMPORTANTE EVALUAR EL VALOR DE \"r\". ESTE VALOR ESTA \\\n",
    "MUY CERCANO AL R2 (0.752), LO CUAL INDICA QUE UNA BUENA PARTE DE LA VARIABILIDAD EN LA SALIDA \\\n",
    "DEL MODELO SE ESTA EXPLICANDO. \\\n",
    "EL ESTADISTICO-F TIENE UN VALOR MODERADAMENTE ELEVADO, \\LO QUE NOS DICE QUE TIENE BUEN NIVEL DE \\\n",
    "SIGNIFICACIA EL MODELO \\\n",
    "EL COEFICIENTE DE LA VARIABLE \"OVERALLQUAL\" ES MUY FUERTE CON VALOR GRANDE.\n",
    "POR ULTIMO, SE ANALIZA EL P-VALUE DE LAS COLUMNAS DEL MODELO Y SE LOGRA VER QUE LOS VALORES \\\n",
    "ESTAN MUY CERCANOS A CERO, LO CUAL ES BUEN INDICADOR DE QUE TENEMOS BUEN MODELO."
   ]
  },
  {
   "cell_type": "markdown",
   "id": "604c9729-a647-44a1-a8f9-d3e504dee9ce",
   "metadata": {},
   "source": [
    "\\\n",
    "\n",
    "<b> A CONTINUACION UTILIZAREMOS REGRESION LINEAL Y ENTRENAREMOS/PROBAREMOS NUESTRO MODELO PARA VER QUE TAN BUENO ES"
   ]
  },
  {
   "cell_type": "code",
   "execution_count": 115,
   "id": "c938d8a6-c478-49b1-b4d1-016d0a04de40",
   "metadata": {},
   "outputs": [],
   "source": [
    "modelo_reg = LinearRegression()"
   ]
  },
  {
   "cell_type": "code",
   "execution_count": 116,
   "id": "8978ed2d-6e23-4fc9-a6cf-306ee2fba568",
   "metadata": {},
   "outputs": [
    {
     "data": {
      "text/plain": [
       "LinearRegression()"
      ]
     },
     "execution_count": 116,
     "metadata": {},
     "output_type": "execute_result"
    }
   ],
   "source": [
    "modelo_reg"
   ]
  },
  {
   "cell_type": "code",
   "execution_count": 117,
   "id": "982c8458-6fd7-429c-9878-2427e1fce005",
   "metadata": {},
   "outputs": [
    {
     "data": {
      "text/plain": [
       "LinearRegression()"
      ]
     },
     "execution_count": 117,
     "metadata": {},
     "output_type": "execute_result"
    }
   ],
   "source": [
    "modelo_reg.fit(housing_nvalues, y)"
   ]
  },
  {
   "cell_type": "code",
   "execution_count": 118,
   "id": "62b6a6ef-53de-4307-a0fb-850e424fdf1a",
   "metadata": {},
   "outputs": [
    {
     "data": {
      "text/plain": [
       "-2.6193447411060333e-10"
      ]
     },
     "execution_count": 118,
     "metadata": {},
     "output_type": "execute_result"
    }
   ],
   "source": [
    "modelo_reg.intercept_"
   ]
  },
  {
   "cell_type": "code",
   "execution_count": 119,
   "id": "4afc555e-3427-4c44-932e-ee91181845b0",
   "metadata": {},
   "outputs": [
    {
     "data": {
      "text/plain": [
       "array([ 8.51890331e-14,  9.48395867e-16, -9.62183780e-16,  2.91410217e-12,\n",
       "       -8.35108291e-12, -2.16499915e-13,  2.78163702e-13, -8.40722616e-12,\n",
       "        9.60544244e-13, -6.43098058e-12,  6.01882574e-12, -7.56251842e-15,\n",
       "        9.67308545e-15, -2.89018364e-14, -9.00931223e-13,  2.64973484e-14,\n",
       "       -4.45540378e-15, -4.57420585e-12,  4.92319752e-12,  7.91113415e-12,\n",
       "        5.08549236e-13, -3.08803251e-12, -2.05102575e-13, -6.04082222e-13,\n",
       "        2.56679446e-13, -3.35943373e-12,  9.82672547e-15, -4.07769160e-12,\n",
       "        3.18214325e-12,  2.84648212e-15, -4.59464192e-13, -1.91426627e-13,\n",
       "        1.00000000e+00])"
      ]
     },
     "execution_count": 119,
     "metadata": {},
     "output_type": "execute_result"
    }
   ],
   "source": [
    "modelo_reg.coef_"
   ]
  },
  {
   "cell_type": "code",
   "execution_count": 121,
   "id": "edad588a-e63b-4934-a299-b5dc93636787",
   "metadata": {},
   "outputs": [
    {
     "name": "stdout",
     "output_type": "stream",
     "text": [
      "-0.0 + 0.0 * MSSubClass + 0.0 * LotFrontage + -0.0 * LotArea + 0.0 * OverallQual + -0.0 * OverallCond + -0.0 * YearBuilt + 0.0 * YearRemodAdd + -0.0 * ExterQual + 0.0 * ExterCond + -0.0 * BsmtQual + 0.0 * BsmtCond + -0.0 * BsmtFinSF1 + 0.0 * BsmtUnfSF + -0.0 * TotalBsmtSF + -0.0 * HeatingQC + 0.0 * 1stFlrSF + -0.0 * GrLivArea + -0.0 * FullBath + 0.0 * BedroomAbvGr + 0.0 * KitchenAbvGr + 0.0 * KitchenQual + -0.0 * TotRmsAbvGrd + -0.0 * Fireplaces + -0.0 * FireplaceQu + 0.0 * GarageYrBlt + -0.0 * GarageCars + 0.0 * GarageArea + -0.0 * GarageQual + 0.0 * GarageCond + 0.0 * OpenPorchSF + -0.0 * MoSold + -0.0 * YrSold + 1.0 * SalePrice + \n"
     ]
    }
   ],
   "source": [
    "eq = f'{round(modelo_reg.intercept_,2)} + '\n",
    "for co, var in zip(modelo_reg.coef_, housing_nvalues.columns):\n",
    "  eq += f'{round(co,2)} * {var} + '\n",
    "print(eq)"
   ]
  },
  {
   "cell_type": "code",
   "execution_count": 122,
   "id": "6d430d0d-dd91-42d6-8de7-de9d1495c20f",
   "metadata": {},
   "outputs": [],
   "source": [
    "X2 = StandardScaler().fit_transform(housing_nvalues)"
   ]
  },
  {
   "cell_type": "code",
   "execution_count": 123,
   "id": "d5f7e085-041d-4617-a1f4-09847dbcf094",
   "metadata": {},
   "outputs": [
    {
     "data": {
      "text/html": [
       "<div>\n",
       "<style scoped>\n",
       "    .dataframe tbody tr th:only-of-type {\n",
       "        vertical-align: middle;\n",
       "    }\n",
       "\n",
       "    .dataframe tbody tr th {\n",
       "        vertical-align: top;\n",
       "    }\n",
       "\n",
       "    .dataframe thead th {\n",
       "        text-align: right;\n",
       "    }\n",
       "</style>\n",
       "<table border=\"1\" class=\"dataframe\">\n",
       "  <thead>\n",
       "    <tr style=\"text-align: right;\">\n",
       "      <th></th>\n",
       "      <th>MSSubClass</th>\n",
       "      <th>LotFrontage</th>\n",
       "      <th>LotArea</th>\n",
       "      <th>OverallQual</th>\n",
       "      <th>OverallCond</th>\n",
       "      <th>YearBuilt</th>\n",
       "      <th>YearRemodAdd</th>\n",
       "      <th>ExterQual</th>\n",
       "      <th>ExterCond</th>\n",
       "      <th>BsmtQual</th>\n",
       "      <th>...</th>\n",
       "      <th>FireplaceQu</th>\n",
       "      <th>GarageYrBlt</th>\n",
       "      <th>GarageCars</th>\n",
       "      <th>GarageArea</th>\n",
       "      <th>GarageQual</th>\n",
       "      <th>GarageCond</th>\n",
       "      <th>OpenPorchSF</th>\n",
       "      <th>MoSold</th>\n",
       "      <th>YrSold</th>\n",
       "      <th>SalePrice</th>\n",
       "    </tr>\n",
       "  </thead>\n",
       "  <tbody>\n",
       "    <tr>\n",
       "      <th>count</th>\n",
       "      <td>1181.000000</td>\n",
       "      <td>1181.000000</td>\n",
       "      <td>1181.000000</td>\n",
       "      <td>1181.000000</td>\n",
       "      <td>1181.000000</td>\n",
       "      <td>1181.000000</td>\n",
       "      <td>1181.000000</td>\n",
       "      <td>1181.000000</td>\n",
       "      <td>1181.000000</td>\n",
       "      <td>1181.000000</td>\n",
       "      <td>...</td>\n",
       "      <td>1181.000000</td>\n",
       "      <td>1181.000000</td>\n",
       "      <td>1181.000000</td>\n",
       "      <td>1181.000000</td>\n",
       "      <td>1181.000000</td>\n",
       "      <td>1181.000000</td>\n",
       "      <td>1181.000000</td>\n",
       "      <td>1181.000000</td>\n",
       "      <td>1181.000000</td>\n",
       "      <td>1181.000000</td>\n",
       "    </tr>\n",
       "    <tr>\n",
       "      <th>mean</th>\n",
       "      <td>56.447925</td>\n",
       "      <td>60.032176</td>\n",
       "      <td>10927.092295</td>\n",
       "      <td>6.374259</td>\n",
       "      <td>5.563082</td>\n",
       "      <td>1976.433531</td>\n",
       "      <td>1987.327688</td>\n",
       "      <td>5.950042</td>\n",
       "      <td>5.182896</td>\n",
       "      <td>6.341236</td>\n",
       "      <td>...</td>\n",
       "      <td>3.794242</td>\n",
       "      <td>1980.816257</td>\n",
       "      <td>1.922947</td>\n",
       "      <td>514.596105</td>\n",
       "      <td>4.982218</td>\n",
       "      <td>4.976291</td>\n",
       "      <td>54.276884</td>\n",
       "      <td>6.362405</td>\n",
       "      <td>2007.783235</td>\n",
       "      <td>195584.995766</td>\n",
       "    </tr>\n",
       "    <tr>\n",
       "      <th>std</th>\n",
       "      <td>41.529284</td>\n",
       "      <td>35.091029</td>\n",
       "      <td>10880.725339</td>\n",
       "      <td>1.300123</td>\n",
       "      <td>1.040107</td>\n",
       "      <td>28.224884</td>\n",
       "      <td>19.772224</td>\n",
       "      <td>1.173887</td>\n",
       "      <td>0.653864</td>\n",
       "      <td>1.344002</td>\n",
       "      <td>...</td>\n",
       "      <td>3.074361</td>\n",
       "      <td>24.149168</td>\n",
       "      <td>0.622997</td>\n",
       "      <td>186.922780</td>\n",
       "      <td>0.440172</td>\n",
       "      <td>0.381051</td>\n",
       "      <td>67.468112</td>\n",
       "      <td>2.710446</td>\n",
       "      <td>1.326557</td>\n",
       "      <td>79871.475648</td>\n",
       "    </tr>\n",
       "    <tr>\n",
       "      <th>min</th>\n",
       "      <td>20.000000</td>\n",
       "      <td>0.000000</td>\n",
       "      <td>1300.000000</td>\n",
       "      <td>3.000000</td>\n",
       "      <td>2.000000</td>\n",
       "      <td>1880.000000</td>\n",
       "      <td>1950.000000</td>\n",
       "      <td>3.000000</td>\n",
       "      <td>3.000000</td>\n",
       "      <td>3.000000</td>\n",
       "      <td>...</td>\n",
       "      <td>0.000000</td>\n",
       "      <td>1900.000000</td>\n",
       "      <td>1.000000</td>\n",
       "      <td>160.000000</td>\n",
       "      <td>2.000000</td>\n",
       "      <td>2.000000</td>\n",
       "      <td>0.000000</td>\n",
       "      <td>1.000000</td>\n",
       "      <td>2006.000000</td>\n",
       "      <td>40000.000000</td>\n",
       "    </tr>\n",
       "    <tr>\n",
       "      <th>25%</th>\n",
       "      <td>20.000000</td>\n",
       "      <td>44.000000</td>\n",
       "      <td>7875.000000</td>\n",
       "      <td>5.000000</td>\n",
       "      <td>5.000000</td>\n",
       "      <td>1959.000000</td>\n",
       "      <td>1970.000000</td>\n",
       "      <td>5.000000</td>\n",
       "      <td>5.000000</td>\n",
       "      <td>5.000000</td>\n",
       "      <td>...</td>\n",
       "      <td>0.000000</td>\n",
       "      <td>1964.000000</td>\n",
       "      <td>2.000000</td>\n",
       "      <td>398.000000</td>\n",
       "      <td>5.000000</td>\n",
       "      <td>5.000000</td>\n",
       "      <td>0.000000</td>\n",
       "      <td>5.000000</td>\n",
       "      <td>2007.000000</td>\n",
       "      <td>141000.000000</td>\n",
       "    </tr>\n",
       "    <tr>\n",
       "      <th>50%</th>\n",
       "      <td>60.000000</td>\n",
       "      <td>65.000000</td>\n",
       "      <td>9738.000000</td>\n",
       "      <td>6.000000</td>\n",
       "      <td>5.000000</td>\n",
       "      <td>1978.000000</td>\n",
       "      <td>1996.000000</td>\n",
       "      <td>5.000000</td>\n",
       "      <td>5.000000</td>\n",
       "      <td>7.000000</td>\n",
       "      <td>...</td>\n",
       "      <td>5.000000</td>\n",
       "      <td>1987.000000</td>\n",
       "      <td>2.000000</td>\n",
       "      <td>492.000000</td>\n",
       "      <td>5.000000</td>\n",
       "      <td>5.000000</td>\n",
       "      <td>36.000000</td>\n",
       "      <td>6.000000</td>\n",
       "      <td>2008.000000</td>\n",
       "      <td>176500.000000</td>\n",
       "    </tr>\n",
       "    <tr>\n",
       "      <th>75%</th>\n",
       "      <td>70.000000</td>\n",
       "      <td>80.000000</td>\n",
       "      <td>11900.000000</td>\n",
       "      <td>7.000000</td>\n",
       "      <td>6.000000</td>\n",
       "      <td>2003.000000</td>\n",
       "      <td>2004.000000</td>\n",
       "      <td>7.000000</td>\n",
       "      <td>5.000000</td>\n",
       "      <td>7.000000</td>\n",
       "      <td>...</td>\n",
       "      <td>7.000000</td>\n",
       "      <td>2003.000000</td>\n",
       "      <td>2.000000</td>\n",
       "      <td>603.000000</td>\n",
       "      <td>5.000000</td>\n",
       "      <td>5.000000</td>\n",
       "      <td>78.000000</td>\n",
       "      <td>8.000000</td>\n",
       "      <td>2009.000000</td>\n",
       "      <td>229456.000000</td>\n",
       "    </tr>\n",
       "    <tr>\n",
       "      <th>max</th>\n",
       "      <td>190.000000</td>\n",
       "      <td>313.000000</td>\n",
       "      <td>215245.000000</td>\n",
       "      <td>10.000000</td>\n",
       "      <td>9.000000</td>\n",
       "      <td>2010.000000</td>\n",
       "      <td>2010.000000</td>\n",
       "      <td>9.000000</td>\n",
       "      <td>9.000000</td>\n",
       "      <td>9.000000</td>\n",
       "      <td>...</td>\n",
       "      <td>9.000000</td>\n",
       "      <td>2010.000000</td>\n",
       "      <td>4.000000</td>\n",
       "      <td>1418.000000</td>\n",
       "      <td>9.000000</td>\n",
       "      <td>9.000000</td>\n",
       "      <td>547.000000</td>\n",
       "      <td>12.000000</td>\n",
       "      <td>2010.000000</td>\n",
       "      <td>755000.000000</td>\n",
       "    </tr>\n",
       "  </tbody>\n",
       "</table>\n",
       "<p>8 rows × 33 columns</p>\n",
       "</div>"
      ],
      "text/plain": [
       "        MSSubClass  LotFrontage        LotArea  OverallQual  OverallCond  \\\n",
       "count  1181.000000  1181.000000    1181.000000  1181.000000  1181.000000   \n",
       "mean     56.447925    60.032176   10927.092295     6.374259     5.563082   \n",
       "std      41.529284    35.091029   10880.725339     1.300123     1.040107   \n",
       "min      20.000000     0.000000    1300.000000     3.000000     2.000000   \n",
       "25%      20.000000    44.000000    7875.000000     5.000000     5.000000   \n",
       "50%      60.000000    65.000000    9738.000000     6.000000     5.000000   \n",
       "75%      70.000000    80.000000   11900.000000     7.000000     6.000000   \n",
       "max     190.000000   313.000000  215245.000000    10.000000     9.000000   \n",
       "\n",
       "         YearBuilt  YearRemodAdd    ExterQual    ExterCond     BsmtQual  ...  \\\n",
       "count  1181.000000   1181.000000  1181.000000  1181.000000  1181.000000  ...   \n",
       "mean   1976.433531   1987.327688     5.950042     5.182896     6.341236  ...   \n",
       "std      28.224884     19.772224     1.173887     0.653864     1.344002  ...   \n",
       "min    1880.000000   1950.000000     3.000000     3.000000     3.000000  ...   \n",
       "25%    1959.000000   1970.000000     5.000000     5.000000     5.000000  ...   \n",
       "50%    1978.000000   1996.000000     5.000000     5.000000     7.000000  ...   \n",
       "75%    2003.000000   2004.000000     7.000000     5.000000     7.000000  ...   \n",
       "max    2010.000000   2010.000000     9.000000     9.000000     9.000000  ...   \n",
       "\n",
       "       FireplaceQu  GarageYrBlt   GarageCars   GarageArea   GarageQual  \\\n",
       "count  1181.000000  1181.000000  1181.000000  1181.000000  1181.000000   \n",
       "mean      3.794242  1980.816257     1.922947   514.596105     4.982218   \n",
       "std       3.074361    24.149168     0.622997   186.922780     0.440172   \n",
       "min       0.000000  1900.000000     1.000000   160.000000     2.000000   \n",
       "25%       0.000000  1964.000000     2.000000   398.000000     5.000000   \n",
       "50%       5.000000  1987.000000     2.000000   492.000000     5.000000   \n",
       "75%       7.000000  2003.000000     2.000000   603.000000     5.000000   \n",
       "max       9.000000  2010.000000     4.000000  1418.000000     9.000000   \n",
       "\n",
       "        GarageCond  OpenPorchSF       MoSold       YrSold      SalePrice  \n",
       "count  1181.000000  1181.000000  1181.000000  1181.000000    1181.000000  \n",
       "mean      4.976291    54.276884     6.362405  2007.783235  195584.995766  \n",
       "std       0.381051    67.468112     2.710446     1.326557   79871.475648  \n",
       "min       2.000000     0.000000     1.000000  2006.000000   40000.000000  \n",
       "25%       5.000000     0.000000     5.000000  2007.000000  141000.000000  \n",
       "50%       5.000000    36.000000     6.000000  2008.000000  176500.000000  \n",
       "75%       5.000000    78.000000     8.000000  2009.000000  229456.000000  \n",
       "max       9.000000   547.000000    12.000000  2010.000000  755000.000000  \n",
       "\n",
       "[8 rows x 33 columns]"
      ]
     },
     "execution_count": 123,
     "metadata": {},
     "output_type": "execute_result"
    }
   ],
   "source": [
    "housing_nvalues.describe()"
   ]
  },
  {
   "cell_type": "code",
   "execution_count": 124,
   "id": "07999300-ef8d-4196-8312-981fdaf28a62",
   "metadata": {},
   "outputs": [
    {
     "data": {
      "text/html": [
       "<div>\n",
       "<style scoped>\n",
       "    .dataframe tbody tr th:only-of-type {\n",
       "        vertical-align: middle;\n",
       "    }\n",
       "\n",
       "    .dataframe tbody tr th {\n",
       "        vertical-align: top;\n",
       "    }\n",
       "\n",
       "    .dataframe thead th {\n",
       "        text-align: right;\n",
       "    }\n",
       "</style>\n",
       "<table border=\"1\" class=\"dataframe\">\n",
       "  <thead>\n",
       "    <tr style=\"text-align: right;\">\n",
       "      <th></th>\n",
       "      <th>0</th>\n",
       "      <th>1</th>\n",
       "      <th>2</th>\n",
       "      <th>3</th>\n",
       "      <th>4</th>\n",
       "      <th>5</th>\n",
       "      <th>6</th>\n",
       "      <th>7</th>\n",
       "      <th>8</th>\n",
       "      <th>9</th>\n",
       "      <th>...</th>\n",
       "      <th>23</th>\n",
       "      <th>24</th>\n",
       "      <th>25</th>\n",
       "      <th>26</th>\n",
       "      <th>27</th>\n",
       "      <th>28</th>\n",
       "      <th>29</th>\n",
       "      <th>30</th>\n",
       "      <th>31</th>\n",
       "      <th>32</th>\n",
       "    </tr>\n",
       "  </thead>\n",
       "  <tbody>\n",
       "    <tr>\n",
       "      <th>count</th>\n",
       "      <td>1.181000e+03</td>\n",
       "      <td>1.181000e+03</td>\n",
       "      <td>1.181000e+03</td>\n",
       "      <td>1.181000e+03</td>\n",
       "      <td>1.181000e+03</td>\n",
       "      <td>1.181000e+03</td>\n",
       "      <td>1.181000e+03</td>\n",
       "      <td>1.181000e+03</td>\n",
       "      <td>1.181000e+03</td>\n",
       "      <td>1.181000e+03</td>\n",
       "      <td>...</td>\n",
       "      <td>1.181000e+03</td>\n",
       "      <td>1.181000e+03</td>\n",
       "      <td>1.181000e+03</td>\n",
       "      <td>1.181000e+03</td>\n",
       "      <td>1.181000e+03</td>\n",
       "      <td>1.181000e+03</td>\n",
       "      <td>1.181000e+03</td>\n",
       "      <td>1.181000e+03</td>\n",
       "      <td>1.181000e+03</td>\n",
       "      <td>1.181000e+03</td>\n",
       "    </tr>\n",
       "    <tr>\n",
       "      <th>mean</th>\n",
       "      <td>3.356051e-17</td>\n",
       "      <td>-1.052879e-17</td>\n",
       "      <td>2.951821e-17</td>\n",
       "      <td>2.745005e-16</td>\n",
       "      <td>3.281315e-16</td>\n",
       "      <td>1.528930e-15</td>\n",
       "      <td>-4.019929e-15</td>\n",
       "      <td>-8.752054e-17</td>\n",
       "      <td>-2.934429e-16</td>\n",
       "      <td>-1.929024e-16</td>\n",
       "      <td>...</td>\n",
       "      <td>6.392478e-17</td>\n",
       "      <td>2.327144e-15</td>\n",
       "      <td>1.898942e-16</td>\n",
       "      <td>1.530434e-16</td>\n",
       "      <td>3.773560e-16</td>\n",
       "      <td>3.886133e-16</td>\n",
       "      <td>-1.826087e-17</td>\n",
       "      <td>4.108107e-17</td>\n",
       "      <td>6.933514e-14</td>\n",
       "      <td>-4.709752e-17</td>\n",
       "    </tr>\n",
       "    <tr>\n",
       "      <th>std</th>\n",
       "      <td>1.000424e+00</td>\n",
       "      <td>1.000424e+00</td>\n",
       "      <td>1.000424e+00</td>\n",
       "      <td>1.000424e+00</td>\n",
       "      <td>1.000424e+00</td>\n",
       "      <td>1.000424e+00</td>\n",
       "      <td>1.000424e+00</td>\n",
       "      <td>1.000424e+00</td>\n",
       "      <td>1.000424e+00</td>\n",
       "      <td>1.000424e+00</td>\n",
       "      <td>...</td>\n",
       "      <td>1.000424e+00</td>\n",
       "      <td>1.000424e+00</td>\n",
       "      <td>1.000424e+00</td>\n",
       "      <td>1.000424e+00</td>\n",
       "      <td>1.000424e+00</td>\n",
       "      <td>1.000424e+00</td>\n",
       "      <td>1.000424e+00</td>\n",
       "      <td>1.000424e+00</td>\n",
       "      <td>1.000424e+00</td>\n",
       "      <td>1.000424e+00</td>\n",
       "    </tr>\n",
       "    <tr>\n",
       "      <th>min</th>\n",
       "      <td>-8.780158e-01</td>\n",
       "      <td>-1.711480e+00</td>\n",
       "      <td>-8.851589e-01</td>\n",
       "      <td>-2.596438e+00</td>\n",
       "      <td>-3.427140e+00</td>\n",
       "      <td>-3.418061e+00</td>\n",
       "      <td>-1.888685e+00</td>\n",
       "      <td>-2.514119e+00</td>\n",
       "      <td>-3.339871e+00</td>\n",
       "      <td>-2.487089e+00</td>\n",
       "      <td>...</td>\n",
       "      <td>-1.234679e+00</td>\n",
       "      <td>-3.347962e+00</td>\n",
       "      <td>-1.482090e+00</td>\n",
       "      <td>-1.897823e+00</td>\n",
       "      <td>-6.777992e+00</td>\n",
       "      <td>-7.814044e+00</td>\n",
       "      <td>-8.048228e-01</td>\n",
       "      <td>-1.979260e+00</td>\n",
       "      <td>-1.344828e+00</td>\n",
       "      <td>-1.948767e+00</td>\n",
       "    </tr>\n",
       "    <tr>\n",
       "      <th>25%</th>\n",
       "      <td>-8.780158e-01</td>\n",
       "      <td>-4.570675e-01</td>\n",
       "      <td>-2.806233e-01</td>\n",
       "      <td>-1.057470e+00</td>\n",
       "      <td>-5.415988e-01</td>\n",
       "      <td>-6.179269e-01</td>\n",
       "      <td>-8.767364e-01</td>\n",
       "      <td>-8.096562e-01</td>\n",
       "      <td>-2.798341e-01</td>\n",
       "      <td>-9.983652e-01</td>\n",
       "      <td>...</td>\n",
       "      <td>-1.234679e+00</td>\n",
       "      <td>-6.966444e-01</td>\n",
       "      <td>1.237341e-01</td>\n",
       "      <td>-6.240304e-01</td>\n",
       "      <td>4.041392e-02</td>\n",
       "      <td>6.224559e-02</td>\n",
       "      <td>-8.048228e-01</td>\n",
       "      <td>-5.028626e-01</td>\n",
       "      <td>-5.906769e-01</td>\n",
       "      <td>-6.836999e-01</td>\n",
       "    </tr>\n",
       "    <tr>\n",
       "      <th>50%</th>\n",
       "      <td>8.556804e-02</td>\n",
       "      <td>1.416296e-01</td>\n",
       "      <td>-1.093306e-01</td>\n",
       "      <td>-2.879863e-01</td>\n",
       "      <td>-5.415988e-01</td>\n",
       "      <td>5.552309e-02</td>\n",
       "      <td>4.387966e-01</td>\n",
       "      <td>-8.096562e-01</td>\n",
       "      <td>-2.798341e-01</td>\n",
       "      <td>4.903586e-01</td>\n",
       "      <td>...</td>\n",
       "      <td>3.923640e-01</td>\n",
       "      <td>2.561729e-01</td>\n",
       "      <td>1.237341e-01</td>\n",
       "      <td>-1.209359e-01</td>\n",
       "      <td>4.041392e-02</td>\n",
       "      <td>6.224559e-02</td>\n",
       "      <td>-2.710114e-01</td>\n",
       "      <td>-1.337633e-01</td>\n",
       "      <td>1.634738e-01</td>\n",
       "      <td>-2.390476e-01</td>\n",
       "    </tr>\n",
       "    <tr>\n",
       "      <th>75%</th>\n",
       "      <td>3.264640e-01</td>\n",
       "      <td>5.692704e-01</td>\n",
       "      <td>8.945358e-02</td>\n",
       "      <td>4.814975e-01</td>\n",
       "      <td>4.202481e-01</td>\n",
       "      <td>9.416415e-01</td>\n",
       "      <td>8.435761e-01</td>\n",
       "      <td>8.948072e-01</td>\n",
       "      <td>-2.798341e-01</td>\n",
       "      <td>4.903586e-01</td>\n",
       "      <td>...</td>\n",
       "      <td>1.043181e+00</td>\n",
       "      <td>9.190023e-01</td>\n",
       "      <td>1.237341e-01</td>\n",
       "      <td>4.731438e-01</td>\n",
       "      <td>4.041392e-02</td>\n",
       "      <td>6.224559e-02</td>\n",
       "      <td>3.517686e-01</td>\n",
       "      <td>6.044352e-01</td>\n",
       "      <td>9.176245e-01</td>\n",
       "      <td>4.242485e-01</td>\n",
       "    </tr>\n",
       "    <tr>\n",
       "      <th>max</th>\n",
       "      <td>3.217215e+00</td>\n",
       "      <td>7.211957e+00</td>\n",
       "      <td>1.878592e+01</td>\n",
       "      <td>2.789949e+00</td>\n",
       "      <td>3.305789e+00</td>\n",
       "      <td>1.189755e+00</td>\n",
       "      <td>1.147161e+00</td>\n",
       "      <td>2.599271e+00</td>\n",
       "      <td>5.840241e+00</td>\n",
       "      <td>1.979082e+00</td>\n",
       "      <td>...</td>\n",
       "      <td>1.693999e+00</td>\n",
       "      <td>1.208990e+00</td>\n",
       "      <td>3.335381e+00</td>\n",
       "      <td>4.835080e+00</td>\n",
       "      <td>9.131621e+00</td>\n",
       "      <td>1.056397e+01</td>\n",
       "      <td>7.306146e+00</td>\n",
       "      <td>2.080832e+00</td>\n",
       "      <td>1.671775e+00</td>\n",
       "      <td>7.006907e+00</td>\n",
       "    </tr>\n",
       "  </tbody>\n",
       "</table>\n",
       "<p>8 rows × 33 columns</p>\n",
       "</div>"
      ],
      "text/plain": [
       "                 0             1             2             3             4   \\\n",
       "count  1.181000e+03  1.181000e+03  1.181000e+03  1.181000e+03  1.181000e+03   \n",
       "mean   3.356051e-17 -1.052879e-17  2.951821e-17  2.745005e-16  3.281315e-16   \n",
       "std    1.000424e+00  1.000424e+00  1.000424e+00  1.000424e+00  1.000424e+00   \n",
       "min   -8.780158e-01 -1.711480e+00 -8.851589e-01 -2.596438e+00 -3.427140e+00   \n",
       "25%   -8.780158e-01 -4.570675e-01 -2.806233e-01 -1.057470e+00 -5.415988e-01   \n",
       "50%    8.556804e-02  1.416296e-01 -1.093306e-01 -2.879863e-01 -5.415988e-01   \n",
       "75%    3.264640e-01  5.692704e-01  8.945358e-02  4.814975e-01  4.202481e-01   \n",
       "max    3.217215e+00  7.211957e+00  1.878592e+01  2.789949e+00  3.305789e+00   \n",
       "\n",
       "                 5             6             7             8             9   \\\n",
       "count  1.181000e+03  1.181000e+03  1.181000e+03  1.181000e+03  1.181000e+03   \n",
       "mean   1.528930e-15 -4.019929e-15 -8.752054e-17 -2.934429e-16 -1.929024e-16   \n",
       "std    1.000424e+00  1.000424e+00  1.000424e+00  1.000424e+00  1.000424e+00   \n",
       "min   -3.418061e+00 -1.888685e+00 -2.514119e+00 -3.339871e+00 -2.487089e+00   \n",
       "25%   -6.179269e-01 -8.767364e-01 -8.096562e-01 -2.798341e-01 -9.983652e-01   \n",
       "50%    5.552309e-02  4.387966e-01 -8.096562e-01 -2.798341e-01  4.903586e-01   \n",
       "75%    9.416415e-01  8.435761e-01  8.948072e-01 -2.798341e-01  4.903586e-01   \n",
       "max    1.189755e+00  1.147161e+00  2.599271e+00  5.840241e+00  1.979082e+00   \n",
       "\n",
       "       ...            23            24            25            26  \\\n",
       "count  ...  1.181000e+03  1.181000e+03  1.181000e+03  1.181000e+03   \n",
       "mean   ...  6.392478e-17  2.327144e-15  1.898942e-16  1.530434e-16   \n",
       "std    ...  1.000424e+00  1.000424e+00  1.000424e+00  1.000424e+00   \n",
       "min    ... -1.234679e+00 -3.347962e+00 -1.482090e+00 -1.897823e+00   \n",
       "25%    ... -1.234679e+00 -6.966444e-01  1.237341e-01 -6.240304e-01   \n",
       "50%    ...  3.923640e-01  2.561729e-01  1.237341e-01 -1.209359e-01   \n",
       "75%    ...  1.043181e+00  9.190023e-01  1.237341e-01  4.731438e-01   \n",
       "max    ...  1.693999e+00  1.208990e+00  3.335381e+00  4.835080e+00   \n",
       "\n",
       "                 27            28            29            30            31  \\\n",
       "count  1.181000e+03  1.181000e+03  1.181000e+03  1.181000e+03  1.181000e+03   \n",
       "mean   3.773560e-16  3.886133e-16 -1.826087e-17  4.108107e-17  6.933514e-14   \n",
       "std    1.000424e+00  1.000424e+00  1.000424e+00  1.000424e+00  1.000424e+00   \n",
       "min   -6.777992e+00 -7.814044e+00 -8.048228e-01 -1.979260e+00 -1.344828e+00   \n",
       "25%    4.041392e-02  6.224559e-02 -8.048228e-01 -5.028626e-01 -5.906769e-01   \n",
       "50%    4.041392e-02  6.224559e-02 -2.710114e-01 -1.337633e-01  1.634738e-01   \n",
       "75%    4.041392e-02  6.224559e-02  3.517686e-01  6.044352e-01  9.176245e-01   \n",
       "max    9.131621e+00  1.056397e+01  7.306146e+00  2.080832e+00  1.671775e+00   \n",
       "\n",
       "                 32  \n",
       "count  1.181000e+03  \n",
       "mean  -4.709752e-17  \n",
       "std    1.000424e+00  \n",
       "min   -1.948767e+00  \n",
       "25%   -6.836999e-01  \n",
       "50%   -2.390476e-01  \n",
       "75%    4.242485e-01  \n",
       "max    7.006907e+00  \n",
       "\n",
       "[8 rows x 33 columns]"
      ]
     },
     "execution_count": 124,
     "metadata": {},
     "output_type": "execute_result"
    }
   ],
   "source": [
    "pd.DataFrame(X2).describe()"
   ]
  },
  {
   "cell_type": "code",
   "execution_count": 125,
   "id": "caf7de80-83e0-4a55-aa61-8cd2ae812729",
   "metadata": {},
   "outputs": [],
   "source": [
    "modelo_reg_scaled = LinearRegression().fit(X2, y)"
   ]
  },
  {
   "cell_type": "code",
   "execution_count": 126,
   "id": "49a14ecc-d302-4ba7-8674-6c97928c69eb",
   "metadata": {},
   "outputs": [
    {
     "name": "stdout",
     "output_type": "stream",
     "text": [
      "195585.0 + -0.0 * MSSubClass + -0.0 * LotFrontage + 0.0 * LotArea + -0.0 * OverallQual + -0.0 * OverallCond + -0.0 * YearBuilt + 0.0 * YearRemodAdd + -0.0 * ExterQual + -0.0 * ExterCond + -0.0 * BsmtQual + 0.0 * BsmtCond + 0.0 * BsmtFinSF1 + 0.0 * BsmtUnfSF + -0.0 * TotalBsmtSF + -0.0 * HeatingQC + 0.0 * 1stFlrSF + 0.0 * GrLivArea + -0.0 * FullBath + 0.0 * BedroomAbvGr + 0.0 * KitchenAbvGr + -0.0 * KitchenQual + -0.0 * TotRmsAbvGrd + -0.0 * Fireplaces + 0.0 * FireplaceQu + -0.0 * GarageYrBlt + -0.0 * GarageCars + 0.0 * GarageArea + 0.0 * GarageQual + 0.0 * GarageCond + -0.0 * OpenPorchSF + -0.0 * MoSold + -0.0 * YrSold + 79837.65 * SalePrice + \n"
     ]
    }
   ],
   "source": [
    "eq = f'{round(modelo_reg_scaled.intercept_,2)} + '\n",
    "for co, var in zip(modelo_reg_scaled.coef_, housing_nvalues.columns):\n",
    "  eq += f'{round(co,2)} * {var} + '\n",
    "print(eq)"
   ]
  },
  {
   "cell_type": "code",
   "execution_count": 174,
   "id": "b4094c84-2ae5-4f6e-977c-3d0f29040b5b",
   "metadata": {},
   "outputs": [
    {
     "name": "stdout",
     "output_type": "stream",
     "text": [
      "OverallQual\n"
     ]
    },
    {
     "data": {
      "image/png": "[encoded data removed]",
      "text/plain": [
       "<Figure size 432x288 with 1 Axes>"
      ]
     },
     "metadata": {
      "needs_background": "light"
     },
     "output_type": "display_data"
    },
    {
     "data": {
      "image/png": "[encoded data removed]",
      "text/plain": [
       "<Figure size 432x288 with 1 Axes>"
      ]
     },
     "metadata": {
      "needs_background": "light"
     },
     "output_type": "display_data"
    }
   ],
   "source": [
    "col_num = 3\n",
    "print(housing_nvalues.columns[col_num])\n",
    "housing_nvalues.iloc[:,col_num].hist(bins = 5)\n",
    "plt.show()\n",
    "pd.DataFrame(X2).iloc[:,col_num].hist(bins = 5)\n",
    "plt.show()"
   ]
  },
  {
   "cell_type": "code",
   "execution_count": 129,
   "id": "54ba374a-e403-41c9-8ba8-9d8dc52adcdd",
   "metadata": {},
   "outputs": [
    {
     "data": {
      "text/plain": [
       "1.0"
      ]
     },
     "execution_count": 129,
     "metadata": {},
     "output_type": "execute_result"
    }
   ],
   "source": [
    "modelo_reg.score(housing_nvalues, y)"
   ]
  },
  {
   "cell_type": "code",
   "execution_count": 130,
   "id": "3efc0cdf-d55a-4ea3-b1cf-f51fc569faf9",
   "metadata": {},
   "outputs": [
    {
     "data": {
      "text/plain": [
       "1.0"
      ]
     },
     "execution_count": 130,
     "metadata": {},
     "output_type": "execute_result"
    }
   ],
   "source": [
    "modelo_reg_scaled.score(X2, y)"
   ]
  },
  {
   "cell_type": "code",
   "execution_count": 175,
   "id": "0d3187ff-428a-4034-8326-e0b92214aaa9",
   "metadata": {},
   "outputs": [
    {
     "data": {
      "text/plain": [
       "195584.996"
      ]
     },
     "execution_count": 175,
     "metadata": {},
     "output_type": "execute_result"
    }
   ],
   "source": [
    "np.round(y.mean(), 3)"
   ]
  },
  {
   "cell_type": "code",
   "execution_count": 133,
   "id": "b7e5b6e1-619a-4b83-bb59-534eddc95540",
   "metadata": {},
   "outputs": [
    {
     "data": {
      "text/html": [
       "<div>\n",
       "<style scoped>\n",
       "    .dataframe tbody tr th:only-of-type {\n",
       "        vertical-align: middle;\n",
       "    }\n",
       "\n",
       "    .dataframe tbody tr th {\n",
       "        vertical-align: top;\n",
       "    }\n",
       "\n",
       "    .dataframe thead th {\n",
       "        text-align: right;\n",
       "    }\n",
       "</style>\n",
       "<table border=\"1\" class=\"dataframe\">\n",
       "  <thead>\n",
       "    <tr style=\"text-align: right;\">\n",
       "      <th></th>\n",
       "      <th>MSSubClass</th>\n",
       "      <th>LotFrontage</th>\n",
       "      <th>LotArea</th>\n",
       "      <th>OverallQual</th>\n",
       "      <th>OverallCond</th>\n",
       "      <th>YearBuilt</th>\n",
       "      <th>YearRemodAdd</th>\n",
       "      <th>ExterQual</th>\n",
       "      <th>ExterCond</th>\n",
       "      <th>BsmtQual</th>\n",
       "      <th>...</th>\n",
       "      <th>FireplaceQu</th>\n",
       "      <th>GarageYrBlt</th>\n",
       "      <th>GarageCars</th>\n",
       "      <th>GarageArea</th>\n",
       "      <th>GarageQual</th>\n",
       "      <th>GarageCond</th>\n",
       "      <th>OpenPorchSF</th>\n",
       "      <th>MoSold</th>\n",
       "      <th>YrSold</th>\n",
       "      <th>SalePrice</th>\n",
       "    </tr>\n",
       "    <tr>\n",
       "      <th>Id</th>\n",
       "      <th></th>\n",
       "      <th></th>\n",
       "      <th></th>\n",
       "      <th></th>\n",
       "      <th></th>\n",
       "      <th></th>\n",
       "      <th></th>\n",
       "      <th></th>\n",
       "      <th></th>\n",
       "      <th></th>\n",
       "      <th></th>\n",
       "      <th></th>\n",
       "      <th></th>\n",
       "      <th></th>\n",
       "      <th></th>\n",
       "      <th></th>\n",
       "      <th></th>\n",
       "      <th></th>\n",
       "      <th></th>\n",
       "      <th></th>\n",
       "      <th></th>\n",
       "    </tr>\n",
       "  </thead>\n",
       "  <tbody>\n",
       "    <tr>\n",
       "      <th>39</th>\n",
       "      <td>20</td>\n",
       "      <td>68.0</td>\n",
       "      <td>7922</td>\n",
       "      <td>5</td>\n",
       "      <td>7</td>\n",
       "      <td>1953</td>\n",
       "      <td>2007</td>\n",
       "      <td>5</td>\n",
       "      <td>7</td>\n",
       "      <td>5.0</td>\n",
       "      <td>...</td>\n",
       "      <td>0.0</td>\n",
       "      <td>1953.0</td>\n",
       "      <td>1.0</td>\n",
       "      <td>246.0</td>\n",
       "      <td>5.0</td>\n",
       "      <td>5.0</td>\n",
       "      <td>52.0</td>\n",
       "      <td>1</td>\n",
       "      <td>2010</td>\n",
       "      <td>109000</td>\n",
       "    </tr>\n",
       "    <tr>\n",
       "      <th>3</th>\n",
       "      <td>60</td>\n",
       "      <td>68.0</td>\n",
       "      <td>11250</td>\n",
       "      <td>7</td>\n",
       "      <td>5</td>\n",
       "      <td>2001</td>\n",
       "      <td>2002</td>\n",
       "      <td>7</td>\n",
       "      <td>5</td>\n",
       "      <td>7.0</td>\n",
       "      <td>...</td>\n",
       "      <td>5.0</td>\n",
       "      <td>2001.0</td>\n",
       "      <td>2.0</td>\n",
       "      <td>608.0</td>\n",
       "      <td>5.0</td>\n",
       "      <td>5.0</td>\n",
       "      <td>42.0</td>\n",
       "      <td>9</td>\n",
       "      <td>2008</td>\n",
       "      <td>223500</td>\n",
       "    </tr>\n",
       "    <tr>\n",
       "      <th>2</th>\n",
       "      <td>20</td>\n",
       "      <td>80.0</td>\n",
       "      <td>9600</td>\n",
       "      <td>6</td>\n",
       "      <td>8</td>\n",
       "      <td>1976</td>\n",
       "      <td>1976</td>\n",
       "      <td>5</td>\n",
       "      <td>5</td>\n",
       "      <td>7.0</td>\n",
       "      <td>...</td>\n",
       "      <td>5.0</td>\n",
       "      <td>1976.0</td>\n",
       "      <td>2.0</td>\n",
       "      <td>460.0</td>\n",
       "      <td>5.0</td>\n",
       "      <td>5.0</td>\n",
       "      <td>0.0</td>\n",
       "      <td>5</td>\n",
       "      <td>2007</td>\n",
       "      <td>181500</td>\n",
       "    </tr>\n",
       "    <tr>\n",
       "      <th>6</th>\n",
       "      <td>50</td>\n",
       "      <td>85.0</td>\n",
       "      <td>14115</td>\n",
       "      <td>5</td>\n",
       "      <td>5</td>\n",
       "      <td>1993</td>\n",
       "      <td>1995</td>\n",
       "      <td>5</td>\n",
       "      <td>5</td>\n",
       "      <td>7.0</td>\n",
       "      <td>...</td>\n",
       "      <td>0.0</td>\n",
       "      <td>1993.0</td>\n",
       "      <td>2.0</td>\n",
       "      <td>480.0</td>\n",
       "      <td>5.0</td>\n",
       "      <td>5.0</td>\n",
       "      <td>30.0</td>\n",
       "      <td>10</td>\n",
       "      <td>2009</td>\n",
       "      <td>143000</td>\n",
       "    </tr>\n",
       "  </tbody>\n",
       "</table>\n",
       "<p>4 rows × 33 columns</p>\n",
       "</div>"
      ],
      "text/plain": [
       "    MSSubClass  LotFrontage  LotArea  OverallQual  OverallCond  YearBuilt  \\\n",
       "Id                                                                          \n",
       "39          20         68.0     7922            5            7       1953   \n",
       "3           60         68.0    11250            7            5       2001   \n",
       "2           20         80.0     9600            6            8       1976   \n",
       "6           50         85.0    14115            5            5       1993   \n",
       "\n",
       "    YearRemodAdd  ExterQual  ExterCond  BsmtQual  ...  FireplaceQu  \\\n",
       "Id                                                ...                \n",
       "39          2007          5          7       5.0  ...          0.0   \n",
       "3           2002          7          5       7.0  ...          5.0   \n",
       "2           1976          5          5       7.0  ...          5.0   \n",
       "6           1995          5          5       7.0  ...          0.0   \n",
       "\n",
       "    GarageYrBlt  GarageCars  GarageArea  GarageQual  GarageCond  OpenPorchSF  \\\n",
       "Id                                                                             \n",
       "39       1953.0         1.0       246.0         5.0         5.0         52.0   \n",
       "3        2001.0         2.0       608.0         5.0         5.0         42.0   \n",
       "2        1976.0         2.0       460.0         5.0         5.0          0.0   \n",
       "6        1993.0         2.0       480.0         5.0         5.0         30.0   \n",
       "\n",
       "    MoSold  YrSold  SalePrice  \n",
       "Id                             \n",
       "39       1    2010     109000  \n",
       "3        9    2008     223500  \n",
       "2        5    2007     181500  \n",
       "6       10    2009     143000  \n",
       "\n",
       "[4 rows x 33 columns]"
      ]
     },
     "execution_count": 133,
     "metadata": {},
     "output_type": "execute_result"
    }
   ],
   "source": [
    "valores = housing_nvalues.iloc[[34,2,1,5]]\n",
    "valores"
   ]
  },
  {
   "cell_type": "code",
   "execution_count": 134,
   "id": "1f0d6093-e63a-442b-a3db-824e1571ac20",
   "metadata": {},
   "outputs": [
    {
     "data": {
      "text/plain": [
       "array([109000., 223500., 181500., 143000.])"
      ]
     },
     "execution_count": 134,
     "metadata": {},
     "output_type": "execute_result"
    }
   ],
   "source": [
    "modelo_reg.predict(valores)"
   ]
  },
  {
   "cell_type": "code",
   "execution_count": 135,
   "id": "c88aec07-79fe-49b1-814f-f739a2ff802e",
   "metadata": {},
   "outputs": [
    {
     "data": {
      "text/plain": [
       "Id\n",
       "39    109000\n",
       "3     223500\n",
       "2     181500\n",
       "6     143000\n",
       "Name: SalePrice, dtype: int64"
      ]
     },
     "execution_count": 135,
     "metadata": {},
     "output_type": "execute_result"
    }
   ],
   "source": [
    "y.iloc[[34,2,1,5]]"
   ]
  },
  {
   "cell_type": "code",
   "execution_count": 136,
   "id": "5c6e0c58-7d53-4337-a11d-08232a075f63",
   "metadata": {},
   "outputs": [
    {
     "data": {
      "text/plain": [
       "Id\n",
       "42      170000\n",
       "1116    318000\n",
       "954     172000\n",
       "1210    290000\n",
       "176     243000\n",
       "         ...  \n",
       "520     234000\n",
       "620     305000\n",
       "674     257500\n",
       "669     168000\n",
       "300     158500\n",
       "Name: SalePrice, Length: 296, dtype: int64"
      ]
     },
     "execution_count": 136,
     "metadata": {},
     "output_type": "execute_result"
    }
   ],
   "source": [
    "train_test_split(housing_nvalues, y)[3]"
   ]
  },
  {
   "cell_type": "code",
   "execution_count": 137,
   "id": "6a3732f8-376a-4377-a30b-190610bbf5c7",
   "metadata": {},
   "outputs": [],
   "source": [
    "X_train, X_test, y_train, y_test = train_test_split(housing_nvalues, y, random_state = 945, train_size = 0.8)"
   ]
  },
  {
   "cell_type": "code",
   "execution_count": 138,
   "id": "c21fdecc-d804-4f9c-850e-c85c86566143",
   "metadata": {},
   "outputs": [
    {
     "data": {
      "text/plain": [
       "(944, 33)"
      ]
     },
     "execution_count": 138,
     "metadata": {},
     "output_type": "execute_result"
    }
   ],
   "source": [
    "X_train.shape"
   ]
  },
  {
   "cell_type": "code",
   "execution_count": 139,
   "id": "e76cf8e8-042a-40d6-ad6b-faaa7524191b",
   "metadata": {},
   "outputs": [
    {
     "data": {
      "text/plain": [
       "(237, 33)"
      ]
     },
     "execution_count": 139,
     "metadata": {},
     "output_type": "execute_result"
    }
   ],
   "source": [
    "X_test.shape"
   ]
  },
  {
   "cell_type": "code",
   "execution_count": 140,
   "id": "6f2f8eaa-cb6a-4bb1-9d0c-1a954176cc5c",
   "metadata": {},
   "outputs": [
    {
     "data": {
      "text/plain": [
       "(1181, 33)"
      ]
     },
     "execution_count": 140,
     "metadata": {},
     "output_type": "execute_result"
    }
   ],
   "source": [
    "housing_nvalues.shape"
   ]
  },
  {
   "cell_type": "code",
   "execution_count": 141,
   "id": "cac75730-8c62-4581-bbd6-c63df9465c18",
   "metadata": {},
   "outputs": [],
   "source": [
    "linear_reg = LinearRegression()"
   ]
  },
  {
   "cell_type": "code",
   "execution_count": 142,
   "id": "56983cfe-5619-432e-a605-90e833e099b2",
   "metadata": {},
   "outputs": [
    {
     "data": {
      "text/plain": [
       "LinearRegression()"
      ]
     },
     "execution_count": 142,
     "metadata": {},
     "output_type": "execute_result"
    }
   ],
   "source": [
    "linear_reg.fit(X_train, y_train)"
   ]
  },
  {
   "cell_type": "code",
   "execution_count": 143,
   "id": "e4eab407-75ef-4fcb-804d-ce70ee32cf7f",
   "metadata": {},
   "outputs": [
    {
     "data": {
      "text/plain": [
       "1.0"
      ]
     },
     "execution_count": 143,
     "metadata": {},
     "output_type": "execute_result"
    }
   ],
   "source": [
    "linear_reg.score(X_train, y_train)"
   ]
  },
  {
   "cell_type": "code",
   "execution_count": 144,
   "id": "94911503-c4c5-406a-bf89-56c599562cef",
   "metadata": {},
   "outputs": [],
   "source": [
    "pred_train = linear_reg.predict(X_train)\n",
    "pred_test = linear_reg.predict(X_test)"
   ]
  },
  {
   "cell_type": "code",
   "execution_count": 145,
   "id": "ed264197-7e1a-4319-81b1-d918728426eb",
   "metadata": {},
   "outputs": [
    {
     "data": {
      "text/plain": [
       "1.0"
      ]
     },
     "execution_count": 145,
     "metadata": {},
     "output_type": "execute_result"
    }
   ],
   "source": [
    "metrics.r2_score(y_train, pred_train)"
   ]
  },
  {
   "cell_type": "code",
   "execution_count": 146,
   "id": "3e373573-e431-402c-8025-488eddd5ec23",
   "metadata": {},
   "outputs": [
    {
     "data": {
      "text/plain": [
       "1.0"
      ]
     },
     "execution_count": 146,
     "metadata": {},
     "output_type": "execute_result"
    }
   ],
   "source": [
    "metrics.r2_score(y_test, pred_test)"
   ]
  },
  {
   "cell_type": "code",
   "execution_count": 147,
   "id": "589c5c24-1ff1-4c8f-9bec-8e9ef1d2881d",
   "metadata": {},
   "outputs": [
    {
     "data": {
      "text/plain": [
       "5.023802089962666e-11"
      ]
     },
     "execution_count": 147,
     "metadata": {},
     "output_type": "execute_result"
    }
   ],
   "source": [
    "metrics.mean_absolute_error(y_train, pred_train)"
   ]
  },
  {
   "cell_type": "code",
   "execution_count": 148,
   "id": "c26ad609-5a0a-4494-815b-7ade6262bb55",
   "metadata": {},
   "outputs": [
    {
     "data": {
      "text/plain": [
       "5.1576408404338206e-11"
      ]
     },
     "execution_count": 148,
     "metadata": {},
     "output_type": "execute_result"
    }
   ],
   "source": [
    "metrics.mean_absolute_error(y_test, pred_test)"
   ]
  },
  {
   "cell_type": "code",
   "execution_count": 149,
   "id": "68ca9f27-8c9b-474f-b9bc-9bc85a755e77",
   "metadata": {},
   "outputs": [
    {
     "data": {
      "text/plain": [
       "count       944.000000\n",
       "mean     195635.015890\n",
       "std       80084.007347\n",
       "min       40000.000000\n",
       "25%      141000.000000\n",
       "50%      176000.000000\n",
       "75%      228612.500000\n",
       "max      755000.000000\n",
       "Name: SalePrice, dtype: float64"
      ]
     },
     "execution_count": 149,
     "metadata": {},
     "output_type": "execute_result"
    }
   ],
   "source": [
    "y_train.describe()"
   ]
  },
  {
   "cell_type": "code",
   "execution_count": 150,
   "id": "5f1f29ec-0bd5-4234-bead-4788cfe00369",
   "metadata": {},
   "outputs": [
    {
     "data": {
      "text/plain": [
       "5.212191219790068e-21"
      ]
     },
     "execution_count": 150,
     "metadata": {},
     "output_type": "execute_result"
    }
   ],
   "source": [
    "metrics.mean_squared_error(y_train, pred_train)"
   ]
  },
  {
   "cell_type": "code",
   "execution_count": 151,
   "id": "ce31cf04-30e6-4012-b99e-bc21833a5f47",
   "metadata": {},
   "outputs": [
    {
     "data": {
      "text/plain": [
       "5.938165577481097e-21"
      ]
     },
     "execution_count": 151,
     "metadata": {},
     "output_type": "execute_result"
    }
   ],
   "source": [
    "metrics.mean_squared_error(y_test, pred_test)"
   ]
  },
  {
   "cell_type": "code",
   "execution_count": 152,
   "id": "8efb9bce-1fa5-4b81-9379-6d9bb598ee8d",
   "metadata": {},
   "outputs": [
    {
     "data": {
      "text/plain": [
       "7.219550692245376e-11"
      ]
     },
     "execution_count": 152,
     "metadata": {},
     "output_type": "execute_result"
    }
   ],
   "source": [
    "np.sqrt(metrics.mean_squared_error(y_train, pred_train))"
   ]
  },
  {
   "cell_type": "code",
   "execution_count": 153,
   "id": "15f8a74b-05e7-49d2-b591-b9dbe9e65fbd",
   "metadata": {},
   "outputs": [
    {
     "data": {
      "text/plain": [
       "7.705949375308079e-11"
      ]
     },
     "execution_count": 153,
     "metadata": {},
     "output_type": "execute_result"
    }
   ],
   "source": [
    "np.sqrt(metrics.mean_squared_error(y_test, pred_test))"
   ]
  },
  {
   "cell_type": "markdown",
   "id": "bd78733e-e54c-4443-bb3f-7752352fc301",
   "metadata": {},
   "source": [
    "UNA VEZ OBTENIDO LOS VALORES TANTO PARA R2, COMO PARA \"MEAN ABSOLUTE ERROR\" Y \"MEAN SQUAREd ERROR\", \\\n",
    "PODEMOS PRESUMIR QUE NUESTRO MODELO ESTA OVERFITTED, POR LO QUE TRATARE DE CORRER UN MODELO DONDE ANALICE \\\n",
    "UNICAMENTE EL MEJOR VALOR OBTENIDO EN LA CORRELACION DESARROLLADA AL INICIO DEL ANALISIS."
   ]
  },
  {
   "cell_type": "code",
   "execution_count": 177,
   "id": "a900a1dd-7220-4937-a599-e44fef65a349",
   "metadata": {},
   "outputs": [
    {
     "data": {
      "text/html": [
       "<div>\n",
       "<style scoped>\n",
       "    .dataframe tbody tr th:only-of-type {\n",
       "        vertical-align: middle;\n",
       "    }\n",
       "\n",
       "    .dataframe tbody tr th {\n",
       "        vertical-align: top;\n",
       "    }\n",
       "\n",
       "    .dataframe thead th {\n",
       "        text-align: right;\n",
       "    }\n",
       "</style>\n",
       "<table border=\"1\" class=\"dataframe\">\n",
       "  <thead>\n",
       "    <tr style=\"text-align: right;\">\n",
       "      <th></th>\n",
       "      <th>MSSubClass</th>\n",
       "      <th>LotFrontage</th>\n",
       "      <th>LotArea</th>\n",
       "      <th>OverallQual</th>\n",
       "      <th>OverallCond</th>\n",
       "      <th>YearBuilt</th>\n",
       "      <th>YearRemodAdd</th>\n",
       "      <th>ExterQual</th>\n",
       "      <th>ExterCond</th>\n",
       "      <th>BsmtQual</th>\n",
       "      <th>...</th>\n",
       "      <th>FireplaceQu</th>\n",
       "      <th>GarageYrBlt</th>\n",
       "      <th>GarageCars</th>\n",
       "      <th>GarageArea</th>\n",
       "      <th>GarageQual</th>\n",
       "      <th>GarageCond</th>\n",
       "      <th>OpenPorchSF</th>\n",
       "      <th>MoSold</th>\n",
       "      <th>YrSold</th>\n",
       "      <th>SalePrice</th>\n",
       "    </tr>\n",
       "    <tr>\n",
       "      <th>Id</th>\n",
       "      <th></th>\n",
       "      <th></th>\n",
       "      <th></th>\n",
       "      <th></th>\n",
       "      <th></th>\n",
       "      <th></th>\n",
       "      <th></th>\n",
       "      <th></th>\n",
       "      <th></th>\n",
       "      <th></th>\n",
       "      <th></th>\n",
       "      <th></th>\n",
       "      <th></th>\n",
       "      <th></th>\n",
       "      <th></th>\n",
       "      <th></th>\n",
       "      <th></th>\n",
       "      <th></th>\n",
       "      <th></th>\n",
       "      <th></th>\n",
       "      <th></th>\n",
       "    </tr>\n",
       "  </thead>\n",
       "  <tbody>\n",
       "    <tr>\n",
       "      <th>1</th>\n",
       "      <td>60</td>\n",
       "      <td>65.0</td>\n",
       "      <td>8450</td>\n",
       "      <td>7</td>\n",
       "      <td>5</td>\n",
       "      <td>2003</td>\n",
       "      <td>2003</td>\n",
       "      <td>7</td>\n",
       "      <td>5</td>\n",
       "      <td>7.0</td>\n",
       "      <td>...</td>\n",
       "      <td>0.0</td>\n",
       "      <td>2003.0</td>\n",
       "      <td>2.0</td>\n",
       "      <td>548.0</td>\n",
       "      <td>5.0</td>\n",
       "      <td>5.0</td>\n",
       "      <td>61.0</td>\n",
       "      <td>2</td>\n",
       "      <td>2008</td>\n",
       "      <td>208500</td>\n",
       "    </tr>\n",
       "    <tr>\n",
       "      <th>2</th>\n",
       "      <td>20</td>\n",
       "      <td>80.0</td>\n",
       "      <td>9600</td>\n",
       "      <td>6</td>\n",
       "      <td>8</td>\n",
       "      <td>1976</td>\n",
       "      <td>1976</td>\n",
       "      <td>5</td>\n",
       "      <td>5</td>\n",
       "      <td>7.0</td>\n",
       "      <td>...</td>\n",
       "      <td>5.0</td>\n",
       "      <td>1976.0</td>\n",
       "      <td>2.0</td>\n",
       "      <td>460.0</td>\n",
       "      <td>5.0</td>\n",
       "      <td>5.0</td>\n",
       "      <td>0.0</td>\n",
       "      <td>5</td>\n",
       "      <td>2007</td>\n",
       "      <td>181500</td>\n",
       "    </tr>\n",
       "    <tr>\n",
       "      <th>3</th>\n",
       "      <td>60</td>\n",
       "      <td>68.0</td>\n",
       "      <td>11250</td>\n",
       "      <td>7</td>\n",
       "      <td>5</td>\n",
       "      <td>2001</td>\n",
       "      <td>2002</td>\n",
       "      <td>7</td>\n",
       "      <td>5</td>\n",
       "      <td>7.0</td>\n",
       "      <td>...</td>\n",
       "      <td>5.0</td>\n",
       "      <td>2001.0</td>\n",
       "      <td>2.0</td>\n",
       "      <td>608.0</td>\n",
       "      <td>5.0</td>\n",
       "      <td>5.0</td>\n",
       "      <td>42.0</td>\n",
       "      <td>9</td>\n",
       "      <td>2008</td>\n",
       "      <td>223500</td>\n",
       "    </tr>\n",
       "    <tr>\n",
       "      <th>4</th>\n",
       "      <td>70</td>\n",
       "      <td>60.0</td>\n",
       "      <td>9550</td>\n",
       "      <td>7</td>\n",
       "      <td>5</td>\n",
       "      <td>1915</td>\n",
       "      <td>1970</td>\n",
       "      <td>5</td>\n",
       "      <td>5</td>\n",
       "      <td>5.0</td>\n",
       "      <td>...</td>\n",
       "      <td>7.0</td>\n",
       "      <td>1998.0</td>\n",
       "      <td>3.0</td>\n",
       "      <td>642.0</td>\n",
       "      <td>5.0</td>\n",
       "      <td>5.0</td>\n",
       "      <td>35.0</td>\n",
       "      <td>2</td>\n",
       "      <td>2006</td>\n",
       "      <td>140000</td>\n",
       "    </tr>\n",
       "    <tr>\n",
       "      <th>5</th>\n",
       "      <td>60</td>\n",
       "      <td>84.0</td>\n",
       "      <td>14260</td>\n",
       "      <td>8</td>\n",
       "      <td>5</td>\n",
       "      <td>2000</td>\n",
       "      <td>2000</td>\n",
       "      <td>7</td>\n",
       "      <td>5</td>\n",
       "      <td>7.0</td>\n",
       "      <td>...</td>\n",
       "      <td>5.0</td>\n",
       "      <td>2000.0</td>\n",
       "      <td>3.0</td>\n",
       "      <td>836.0</td>\n",
       "      <td>5.0</td>\n",
       "      <td>5.0</td>\n",
       "      <td>84.0</td>\n",
       "      <td>12</td>\n",
       "      <td>2008</td>\n",
       "      <td>250000</td>\n",
       "    </tr>\n",
       "  </tbody>\n",
       "</table>\n",
       "<p>5 rows × 33 columns</p>\n",
       "</div>"
      ],
      "text/plain": [
       "    MSSubClass  LotFrontage  LotArea  OverallQual  OverallCond  YearBuilt  \\\n",
       "Id                                                                          \n",
       "1           60         65.0     8450            7            5       2003   \n",
       "2           20         80.0     9600            6            8       1976   \n",
       "3           60         68.0    11250            7            5       2001   \n",
       "4           70         60.0     9550            7            5       1915   \n",
       "5           60         84.0    14260            8            5       2000   \n",
       "\n",
       "    YearRemodAdd  ExterQual  ExterCond  BsmtQual  ...  FireplaceQu  \\\n",
       "Id                                                ...                \n",
       "1           2003          7          5       7.0  ...          0.0   \n",
       "2           1976          5          5       7.0  ...          5.0   \n",
       "3           2002          7          5       7.0  ...          5.0   \n",
       "4           1970          5          5       5.0  ...          7.0   \n",
       "5           2000          7          5       7.0  ...          5.0   \n",
       "\n",
       "    GarageYrBlt  GarageCars  GarageArea  GarageQual  GarageCond  OpenPorchSF  \\\n",
       "Id                                                                             \n",
       "1        2003.0         2.0       548.0         5.0         5.0         61.0   \n",
       "2        1976.0         2.0       460.0         5.0         5.0          0.0   \n",
       "3        2001.0         2.0       608.0         5.0         5.0         42.0   \n",
       "4        1998.0         3.0       642.0         5.0         5.0         35.0   \n",
       "5        2000.0         3.0       836.0         5.0         5.0         84.0   \n",
       "\n",
       "    MoSold  YrSold  SalePrice  \n",
       "Id                             \n",
       "1        2    2008     208500  \n",
       "2        5    2007     181500  \n",
       "3        9    2008     223500  \n",
       "4        2    2006     140000  \n",
       "5       12    2008     250000  \n",
       "\n",
       "[5 rows x 33 columns]"
      ]
     },
     "execution_count": 177,
     "metadata": {},
     "output_type": "execute_result"
    }
   ],
   "source": [
    "housing_nvalues.head()"
   ]
  },
  {
   "cell_type": "code",
   "execution_count": 187,
   "id": "57879631-a6fa-4a07-a437-027eab7c51b1",
   "metadata": {},
   "outputs": [],
   "source": [
    "lin_reghous = housing_nvalues[['SalePrice', 'OverallQual']]"
   ]
  },
  {
   "cell_type": "code",
   "execution_count": 188,
   "id": "2e268806-1aa0-430f-b7d7-e38d1392e6ba",
   "metadata": {},
   "outputs": [
    {
     "data": {
      "text/html": [
       "<div>\n",
       "<style scoped>\n",
       "    .dataframe tbody tr th:only-of-type {\n",
       "        vertical-align: middle;\n",
       "    }\n",
       "\n",
       "    .dataframe tbody tr th {\n",
       "        vertical-align: top;\n",
       "    }\n",
       "\n",
       "    .dataframe thead th {\n",
       "        text-align: right;\n",
       "    }\n",
       "</style>\n",
       "<table border=\"1\" class=\"dataframe\">\n",
       "  <thead>\n",
       "    <tr style=\"text-align: right;\">\n",
       "      <th></th>\n",
       "      <th>SalePrice</th>\n",
       "      <th>OverallQual</th>\n",
       "    </tr>\n",
       "    <tr>\n",
       "      <th>Id</th>\n",
       "      <th></th>\n",
       "      <th></th>\n",
       "    </tr>\n",
       "  </thead>\n",
       "  <tbody>\n",
       "    <tr>\n",
       "      <th>1</th>\n",
       "      <td>208500</td>\n",
       "      <td>7</td>\n",
       "    </tr>\n",
       "    <tr>\n",
       "      <th>2</th>\n",
       "      <td>181500</td>\n",
       "      <td>6</td>\n",
       "    </tr>\n",
       "    <tr>\n",
       "      <th>3</th>\n",
       "      <td>223500</td>\n",
       "      <td>7</td>\n",
       "    </tr>\n",
       "    <tr>\n",
       "      <th>4</th>\n",
       "      <td>140000</td>\n",
       "      <td>7</td>\n",
       "    </tr>\n",
       "    <tr>\n",
       "      <th>5</th>\n",
       "      <td>250000</td>\n",
       "      <td>8</td>\n",
       "    </tr>\n",
       "  </tbody>\n",
       "</table>\n",
       "</div>"
      ],
      "text/plain": [
       "    SalePrice  OverallQual\n",
       "Id                        \n",
       "1      208500            7\n",
       "2      181500            6\n",
       "3      223500            7\n",
       "4      140000            7\n",
       "5      250000            8"
      ]
     },
     "execution_count": 188,
     "metadata": {},
     "output_type": "execute_result"
    }
   ],
   "source": [
    "lin_reghous.head()"
   ]
  },
  {
   "cell_type": "code",
   "execution_count": 191,
   "id": "9684f47a-b517-478d-9c48-b56914f52a92",
   "metadata": {},
   "outputs": [
    {
     "data": {
      "text/plain": [
       "<matplotlib.collections.PathCollection at 0x17774c88070>"
      ]
     },
     "execution_count": 191,
     "metadata": {},
     "output_type": "execute_result"
    },
    {
     "data": {
      "image/png": "[encoded data removed]",
      "text/plain": [
       "<Figure size 432x288 with 1 Axes>"
      ]
     },
     "metadata": {
      "needs_background": "light"
     },
     "output_type": "display_data"
    }
   ],
   "source": [
    "plt.scatter(lin_reghous.OverallQual, lin_reghous.SalePrice)"
   ]
  },
  {
   "cell_type": "code",
   "execution_count": 192,
   "id": "1113de47-82ce-4956-a99b-cd7b0761089a",
   "metadata": {},
   "outputs": [
    {
     "data": {
      "text/plain": [
       "[<matplotlib.lines.Line2D at 0x1776f3b4310>]"
      ]
     },
     "execution_count": 192,
     "metadata": {},
     "output_type": "execute_result"
    },
    {
     "data": {
      "image/png": "[encoded data removed]",
      "text/plain": [
       "<Figure size 432x288 with 1 Axes>"
      ]
     },
     "metadata": {
      "needs_background": "light"
     },
     "output_type": "display_data"
    }
   ],
   "source": [
    "plt.scatter(lin_reghous.OverallQual, lin_reghous.SalePrice)\n",
    "x = [lin_reghous.OverallQual.min(),lin_reghous.OverallQual.max()]\n",
    "y = [lin_reghous.OverallQual.min()*2 - 5,lin_reghous.OverallQual.max()*2 - 5]\n",
    "plt.plot(x,y, color='r')"
   ]
  },
  {
   "cell_type": "code",
   "execution_count": 197,
   "id": "0c2d5d58-8c4b-481d-8408-b64d2c03a8d5",
   "metadata": {},
   "outputs": [],
   "source": [
    "from scipy.stats import linregress\n",
    "slope, intercept, rvalue, pvalue, sderr = linregress(x = lin_reghous.OverallQual, y = lin_reghous.SalePrice )"
   ]
  },
  {
   "cell_type": "code",
   "execution_count": 198,
   "id": "38c56b73-e76e-4cb7-9306-6b62cb358146",
   "metadata": {},
   "outputs": [
    {
     "data": {
      "text/plain": [
       "47722.15267770875"
      ]
     },
     "execution_count": 198,
     "metadata": {},
     "output_type": "execute_result"
    }
   ],
   "source": [
    "slope"
   ]
  },
  {
   "cell_type": "code",
   "execution_count": 199,
   "id": "74a0cb5a-886b-463c-aa5b-9ae1d12b5115",
   "metadata": {},
   "outputs": [
    {
     "data": {
      "text/plain": [
       "-108608.37032835852"
      ]
     },
     "execution_count": 199,
     "metadata": {},
     "output_type": "execute_result"
    }
   ],
   "source": [
    "intercept"
   ]
  },
  {
   "cell_type": "code",
   "execution_count": 200,
   "id": "f12b7fe6-ed9c-4a34-905c-8dd083036985",
   "metadata": {},
   "outputs": [
    {
     "data": {
      "text/plain": [
       "4.856372641671295e-239"
      ]
     },
     "execution_count": 200,
     "metadata": {},
     "output_type": "execute_result"
    }
   ],
   "source": [
    "pvalue"
   ]
  },
  {
   "cell_type": "code",
   "execution_count": 201,
   "id": "390d99a8-6f14-406b-85bf-edd0d276ae5d",
   "metadata": {},
   "outputs": [
    {
     "data": {
      "text/plain": [
       "1126.7078412138515"
      ]
     },
     "execution_count": 201,
     "metadata": {},
     "output_type": "execute_result"
    }
   ],
   "source": [
    "sderr"
   ]
  },
  {
   "cell_type": "code",
   "execution_count": 202,
   "id": "ad6a5dcb-8641-4fc7-9556-34a6fd481519",
   "metadata": {},
   "outputs": [
    {
     "data": {
      "text/plain": [
       "0.7768063539332761"
      ]
     },
     "execution_count": 202,
     "metadata": {},
     "output_type": "execute_result"
    }
   ],
   "source": [
    "rvalue"
   ]
  },
  {
   "cell_type": "code",
   "execution_count": 203,
   "id": "02749ee8-01d9-4688-a603-d36026e74a20",
   "metadata": {},
   "outputs": [
    {
     "data": {
      "text/plain": [
       "[<matplotlib.lines.Line2D at 0x1776f37b7f0>]"
      ]
     },
     "execution_count": 203,
     "metadata": {},
     "output_type": "execute_result"
    },
    {
     "data": {
      "image/png": "[encoded data removed]",
      "text/plain": [
       "<Figure size 432x288 with 1 Axes>"
      ]
     },
     "metadata": {
      "needs_background": "light"
     },
     "output_type": "display_data"
    }
   ],
   "source": [
    "plt.scatter(lin_reghous.OverallQual, lin_reghous.SalePrice)\n",
    "x = [lin_reghous.OverallQual.min(),lin_reghous.OverallQual.max()]\n",
    "y = [lin_reghous.OverallQual.min()*2 - 5,lin_reghous.OverallQual.max()*2 - 5]\n",
    "plt.plot(x,y, color='r')\n",
    "x = [lin_reghous.OverallQual.min(),lin_reghous.OverallQual.max()]\n",
    "y = [lin_reghous.OverallQual.min()*slope + intercept ,lin_reghous.OverallQual.max()*slope + intercept]\n",
    "plt.plot(x,y, color='g')"
   ]
  },
  {
   "cell_type": "code",
   "execution_count": 204,
   "id": "5f4d6c58-e72e-4b56-bb31-e11ae4bc05b6",
   "metadata": {},
   "outputs": [
    {
     "data": {
      "text/html": [
       "<div>\n",
       "<style scoped>\n",
       "    .dataframe tbody tr th:only-of-type {\n",
       "        vertical-align: middle;\n",
       "    }\n",
       "\n",
       "    .dataframe tbody tr th {\n",
       "        vertical-align: top;\n",
       "    }\n",
       "\n",
       "    .dataframe thead th {\n",
       "        text-align: right;\n",
       "    }\n",
       "</style>\n",
       "<table border=\"1\" class=\"dataframe\">\n",
       "  <thead>\n",
       "    <tr style=\"text-align: right;\">\n",
       "      <th></th>\n",
       "      <th>const</th>\n",
       "      <th>OverallQual</th>\n",
       "    </tr>\n",
       "    <tr>\n",
       "      <th>Id</th>\n",
       "      <th></th>\n",
       "      <th></th>\n",
       "    </tr>\n",
       "  </thead>\n",
       "  <tbody>\n",
       "    <tr>\n",
       "      <th>1</th>\n",
       "      <td>1.0</td>\n",
       "      <td>7</td>\n",
       "    </tr>\n",
       "    <tr>\n",
       "      <th>2</th>\n",
       "      <td>1.0</td>\n",
       "      <td>6</td>\n",
       "    </tr>\n",
       "    <tr>\n",
       "      <th>3</th>\n",
       "      <td>1.0</td>\n",
       "      <td>7</td>\n",
       "    </tr>\n",
       "    <tr>\n",
       "      <th>4</th>\n",
       "      <td>1.0</td>\n",
       "      <td>7</td>\n",
       "    </tr>\n",
       "    <tr>\n",
       "      <th>5</th>\n",
       "      <td>1.0</td>\n",
       "      <td>8</td>\n",
       "    </tr>\n",
       "    <tr>\n",
       "      <th>...</th>\n",
       "      <td>...</td>\n",
       "      <td>...</td>\n",
       "    </tr>\n",
       "    <tr>\n",
       "      <th>1455</th>\n",
       "      <td>1.0</td>\n",
       "      <td>7</td>\n",
       "    </tr>\n",
       "    <tr>\n",
       "      <th>1456</th>\n",
       "      <td>1.0</td>\n",
       "      <td>6</td>\n",
       "    </tr>\n",
       "    <tr>\n",
       "      <th>1457</th>\n",
       "      <td>1.0</td>\n",
       "      <td>6</td>\n",
       "    </tr>\n",
       "    <tr>\n",
       "      <th>1458</th>\n",
       "      <td>1.0</td>\n",
       "      <td>7</td>\n",
       "    </tr>\n",
       "    <tr>\n",
       "      <th>1460</th>\n",
       "      <td>1.0</td>\n",
       "      <td>5</td>\n",
       "    </tr>\n",
       "  </tbody>\n",
       "</table>\n",
       "<p>1181 rows × 2 columns</p>\n",
       "</div>"
      ],
      "text/plain": [
       "      const  OverallQual\n",
       "Id                      \n",
       "1       1.0            7\n",
       "2       1.0            6\n",
       "3       1.0            7\n",
       "4       1.0            7\n",
       "5       1.0            8\n",
       "...     ...          ...\n",
       "1455    1.0            7\n",
       "1456    1.0            6\n",
       "1457    1.0            6\n",
       "1458    1.0            7\n",
       "1460    1.0            5\n",
       "\n",
       "[1181 rows x 2 columns]"
      ]
     },
     "execution_count": 204,
     "metadata": {},
     "output_type": "execute_result"
    }
   ],
   "source": [
    "X = sm.add_constant(lin_reghous.OverallQual)\n",
    "X"
   ]
  },
  {
   "cell_type": "code",
   "execution_count": 205,
   "id": "6d85620b-9755-40cd-abea-8738285d3b83",
   "metadata": {},
   "outputs": [],
   "source": [
    "y = lin_reghous.SalePrice"
   ]
  },
  {
   "cell_type": "code",
   "execution_count": 210,
   "id": "f4003d55-cbae-4f77-8309-aeef411fcd15",
   "metadata": {},
   "outputs": [
    {
     "data": {
      "text/plain": [
       "Id\n",
       "1       208500\n",
       "2       181500\n",
       "3       223500\n",
       "4       140000\n",
       "5       250000\n",
       "         ...  \n",
       "1455    185000\n",
       "1456    175000\n",
       "1457    210000\n",
       "1458    266500\n",
       "1460    147500\n",
       "Name: SalePrice, Length: 1181, dtype: int64"
      ]
     },
     "execution_count": 210,
     "metadata": {},
     "output_type": "execute_result"
    }
   ],
   "source": [
    "y"
   ]
  },
  {
   "cell_type": "code",
   "execution_count": 208,
   "id": "2ce077af-1bc2-425e-9e7c-024a9e73b1d0",
   "metadata": {},
   "outputs": [],
   "source": [
    "reg_lineal_statsmods = sm.OLS(y, X).fit()"
   ]
  },
  {
   "cell_type": "code",
   "execution_count": 209,
   "id": "ce09809b-9695-4aa8-83cf-88f9a2f35bf2",
   "metadata": {},
   "outputs": [
    {
     "name": "stdout",
     "output_type": "stream",
     "text": [
      "                            OLS Regression Results                            \n",
      "==============================================================================\n",
      "Dep. Variable:              SalePrice   R-squared:                       0.603\n",
      "Model:                            OLS   Adj. R-squared:                  0.603\n",
      "Method:                 Least Squares   F-statistic:                     1794.\n",
      "Date:                Mon, 01 Aug 2022   Prob (F-statistic):          4.86e-239\n",
      "Time:                        18:00:43   Log-Likelihood:                -14460.\n",
      "No. Observations:                1181   AIC:                         2.892e+04\n",
      "Df Residuals:                    1179   BIC:                         2.894e+04\n",
      "Df Model:                           1                                         \n",
      "Covariance Type:            nonrobust                                         \n",
      "===============================================================================\n",
      "                  coef    std err          t      P>|t|      [0.025      0.975]\n",
      "-------------------------------------------------------------------------------\n",
      "const       -1.086e+05   7329.671    -14.818      0.000   -1.23e+05   -9.42e+04\n",
      "OverallQual  4.772e+04   1126.708     42.355      0.000    4.55e+04    4.99e+04\n",
      "==============================================================================\n",
      "Omnibus:                      470.017   Durbin-Watson:                   1.985\n",
      "Prob(Omnibus):                  0.000   Jarque-Bera (JB):             4279.232\n",
      "Skew:                           1.584   Prob(JB):                         0.00\n",
      "Kurtosis:                      11.771   Cond. No.                         33.3\n",
      "==============================================================================\n",
      "\n",
      "Notes:\n",
      "[1] Standard Errors assume that the covariance matrix of the errors is correctly specified.\n"
     ]
    }
   ],
   "source": [
    "print(reg_lineal_statsmods.summary())"
   ]
  },
  {
   "cell_type": "code",
   "execution_count": null,
   "id": "e2dac149-efbc-48b7-8f48-461b7cf088ba",
   "metadata": {},
   "outputs": [],
   "source": []
  },
  {
   "cell_type": "code",
   "execution_count": null,
   "id": "d66f125c-80e1-410e-9e5d-c0fa16f1ae44",
   "metadata": {},
   "outputs": [],
   "source": []
  },
  {
   "cell_type": "code",
   "execution_count": null,
   "id": "7a508829-7740-4319-93cb-8f239204239b",
   "metadata": {},
   "outputs": [],
   "source": []
  },
  {
   "cell_type": "code",
   "execution_count": null,
   "id": "16202398-59bf-4bde-a7e1-f93e9befd3f3",
   "metadata": {},
   "outputs": [],
   "source": []
  }
 ],
 "metadata": {
  "kernelspec": {
   "display_name": "Python 3",
   "language": "python",
   "name": "python3"
  },
  "language_info": {
   "codemirror_mode": {
    "name": "ipython",
    "version": 3
   },
   "file_extension": ".py",
   "mimetype": "text/x-python",
   "name": "python",
   "nbconvert_exporter": "python",
   "pygments_lexer": "ipython3",
   "version": "3.8.8"
  }
 },
 "nbformat": 4,
 "nbformat_minor": 5
}
